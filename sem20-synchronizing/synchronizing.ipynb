{
 "cells": [
  {
   "cell_type": "code",
   "execution_count": 54,
   "metadata": {},
   "outputs": [
    {
     "data": {
      "application/javascript": [
       "// setup cpp code highlighting\n",
       "IPython.CodeCell.options_default.highlight_modes[\"text/x-c++src\"] = {'reg':[/^%%cpp/]} ;"
      ],
      "text/plain": [
       "<IPython.core.display.Javascript object>"
      ]
     },
     "metadata": {},
     "output_type": "display_data"
    }
   ],
   "source": [
    "# look at tools/set_up_magics.ipynb\n",
    "get_ipython().run_cell('# one_liner_str #SET_UP_MAGIC_BEGIN\\n\\nget_ipython().run_cell_magic(\\'javascript\\', \\'\\', \\'// setup cpp code highlighting\\\\nIPython.CodeCell.options_default.highlight_modes[\"text/x-c++src\"] = {\\\\\\'reg\\\\\\':[/^%%cpp/]} ;\\')\\n\\n# creating magics\\nfrom IPython.core.magic import register_cell_magic, register_line_magic\\nfrom IPython.display import display, Markdown, HTML\\nimport argparse\\nfrom subprocess import Popen, PIPE\\nimport random\\nimport sys\\nimport os\\nimport re\\nimport signal\\nimport shutil\\nimport shlex\\nimport glob\\n\\n@register_cell_magic\\ndef save_file(args_str, cell, line_comment_start=\"#\"):\\n    parser = argparse.ArgumentParser()\\n    parser.add_argument(\"fname\")\\n    parser.add_argument(\"--ejudge-style\", action=\"store_true\")\\n    args = parser.parse_args(args_str.split())\\n    \\n    cell = cell if cell[-1] == \\'\\\\n\\' or args.no_eof_newline else cell + \"\\\\n\"\\n    cmds = []\\n    with open(args.fname, \"w\") as f:\\n        f.write(line_comment_start + \" %%cpp \" + args_str + \"\\\\n\")\\n        for line in cell.split(\"\\\\n\"):\\n            line_to_write = (line if not args.ejudge_style else line.rstrip()) + \"\\\\n\"\\n            if line.startswith(\"%\"):\\n                run_prefix = \"%run \"\\n                assert line.startswith(run_prefix)\\n                cmds.append(line[len(run_prefix):].strip())\\n                f.write(line_comment_start + \" \" + line_to_write)\\n            else:\\n                f.write(line_to_write)\\n        f.write(\"\" if not args.ejudge_style else line_comment_start + r\" line without \\\\n\")\\n    for cmd in cmds:\\n        display(Markdown(\"Run: `%s`\" % cmd))\\n        get_ipython().system(cmd)\\n\\n@register_cell_magic\\ndef cpp(fname, cell):\\n    save_file(fname, cell, \"//\")\\n\\n@register_cell_magic\\ndef asm(fname, cell):\\n    save_file(fname, cell, \"//\")\\n    \\n@register_cell_magic\\ndef makefile(fname, cell):\\n    assert not fname\\n    save_file(\"makefile\", cell.replace(\" \" * 4, \"\\\\t\"))\\n        \\n@register_line_magic\\ndef p(line):\\n    try:\\n        expr, comment = line.split(\" #\")\\n        display(Markdown(\"`{} = {}`  # {}\".format(expr.strip(), eval(expr), comment.strip())))\\n    except:\\n        display(Markdown(\"{} = {}\".format(line, eval(line))))\\n        \\ndef show_file(file, clear_at_begin=True, return_html_string=False):\\n    if clear_at_begin:\\n        get_ipython().system(\"truncate --size 0 \" + file)\\n    obj = file.replace(\\'.\\', \\'_\\').replace(\\'/\\', \\'_\\') + \"_obj\"\\n    html_string = \\'\\'\\'\\n        <!--MD_BEGIN_FILTER-->\\n        <script type=text/javascript>\\n        var entrance___OBJ__ = 0;\\n        var errors___OBJ__ = 0;\\n        function refresh__OBJ__()\\n        {\\n            entrance___OBJ__ -= 1;\\n            var elem = document.getElementById(\"__OBJ__\");\\n            if (elem) {\\n                var xmlhttp=new XMLHttpRequest();\\n                xmlhttp.onreadystatechange=function()\\n                {\\n                    var elem = document.getElementById(\"__OBJ__\");\\n                    console.log(!!elem, xmlhttp.readyState, xmlhttp.status, entrance___OBJ__);\\n                    if (elem && xmlhttp.readyState==4) {\\n                        if (xmlhttp.status==200)\\n                        {\\n                            errors___OBJ__ = 0;\\n                            if (!entrance___OBJ__) {\\n                                elem.innerText = xmlhttp.responseText;\\n                                entrance___OBJ__ += 1;\\n                                console.log(\"req\");\\n                                window.setTimeout(\"refresh__OBJ__()\", 300); \\n                            }\\n                            return xmlhttp.responseText;\\n                        } else {\\n                            errors___OBJ__ += 1;\\n                            if (errors___OBJ__ < 10 && !entrance___OBJ__) {\\n                                entrance___OBJ__ += 1;\\n                                console.log(\"req\");\\n                                window.setTimeout(\"refresh__OBJ__()\", 300); \\n                            }\\n                        }\\n                    }\\n                }\\n                xmlhttp.open(\"GET\", \"__FILE__\", true);\\n                xmlhttp.setRequestHeader(\"Cache-Control\", \"no-cache\");\\n                xmlhttp.send();     \\n            }\\n        }\\n        \\n        if (!entrance___OBJ__) {\\n            entrance___OBJ__ += 1;\\n            refresh__OBJ__(); \\n        }\\n        </script>\\n        \\n        <font color=\"white\"> <tt>\\n        <p id=\"__OBJ__\" style=\"font-size: 16px; border:3px #333333 solid; background: #333333; border-radius: 10px; padding: 10px;  \"></p>\\n        </tt> </font>\\n        <!--MD_END_FILTER-->\\n        <!--MD_FROM_FILE __FILE__ -->\\n        \\'\\'\\'.replace(\"__OBJ__\", obj).replace(\"__FILE__\", file)\\n    if return_html_string:\\n        return html_string\\n    display(HTML(html_string))\\n    \\nBASH_POPEN_TMP_DIR = \"./bash_popen_tmp\"\\n    \\ndef bash_popen_terminate_all():\\n    for p in globals().get(\"bash_popen_list\", []):\\n        print(\"Terminate pid=\" + str(p.pid), file=sys.stderr)\\n        p.terminate()\\n    globals()[\"bash_popen_list\"] = []\\n    if os.path.exists(BASH_POPEN_TMP_DIR):\\n        shutil.rmtree(BASH_POPEN_TMP_DIR)\\n\\nbash_popen_terminate_all()  \\n\\ndef bash_popen(cmd):\\n    if not os.path.exists(BASH_POPEN_TMP_DIR):\\n        os.mkdir(BASH_POPEN_TMP_DIR)\\n    h = os.path.join(BASH_POPEN_TMP_DIR, str(random.randint(0, 1e18)))\\n    stdout_file = h + \".out.html\"\\n    stderr_file = h + \".err.html\"\\n    run_log_file = h + \".fin.html\"\\n    \\n    stdout = open(stdout_file, \"wb\")\\n    stdout = open(stderr_file, \"wb\")\\n    \\n    html = \"\"\"\\n    <table width=\"100%\">\\n    <colgroup>\\n       <col span=\"1\" style=\"width: 70px;\">\\n       <col span=\"1\">\\n    </colgroup>    \\n    <tbody>\\n      <tr> <td><b>STDOUT</b></td> <td> {stdout} </td> </tr>\\n      <tr> <td><b>STDERR</b></td> <td> {stderr} </td> </tr>\\n      <tr> <td><b>RUN LOG</b></td> <td> {run_log} </td> </tr>\\n    </tbody>\\n    </table>\\n    \"\"\".format(\\n        stdout=show_file(stdout_file, return_html_string=True),\\n        stderr=show_file(stderr_file, return_html_string=True),\\n        run_log=show_file(run_log_file, return_html_string=True),\\n    )\\n    \\n    cmd = \"\"\"\\n        bash -c {cmd} &\\n        pid=$!\\n        echo \"Process started! pid=${{pid}}\" > {run_log_file}\\n        wait ${{pid}}\\n        echo \"Process finished! exit_code=$?\" >> {run_log_file}\\n    \"\"\".format(cmd=shlex.quote(cmd), run_log_file=run_log_file)\\n    # print(cmd)\\n    display(HTML(html))\\n    \\n    p = Popen([\"bash\", \"-c\", cmd], stdin=PIPE, stdout=stdout, stderr=stdout)\\n    \\n    bash_popen_list.append(p)\\n    return p\\n\\n\\n@register_line_magic\\ndef bash_async(line):\\n    bash_popen(line)\\n    \\n    \\ndef show_log_file(file, return_html_string=False):\\n    obj = file.replace(\\'.\\', \\'_\\').replace(\\'/\\', \\'_\\') + \"_obj\"\\n    html_string = \\'\\'\\'\\n        <!--MD_BEGIN_FILTER-->\\n        <script type=text/javascript>\\n        var entrance___OBJ__ = 0;\\n        var errors___OBJ__ = 0;\\n        function halt__OBJ__(elem, color)\\n        {\\n            elem.setAttribute(\"style\", \"font-size: 14px; background: \" + color + \"; padding: 10px; border: 3px; border-radius: 5px; color: white; \");                    \\n        }\\n        function refresh__OBJ__()\\n        {\\n            entrance___OBJ__ -= 1;\\n            if (entrance___OBJ__ < 0) {\\n                entrance___OBJ__ = 0;\\n            }\\n            var elem = document.getElementById(\"__OBJ__\");\\n            if (elem) {\\n                var xmlhttp=new XMLHttpRequest();\\n                xmlhttp.onreadystatechange=function()\\n                {\\n                    var elem = document.getElementById(\"__OBJ__\");\\n                    console.log(!!elem, xmlhttp.readyState, xmlhttp.status, entrance___OBJ__);\\n                    if (elem && xmlhttp.readyState==4) {\\n                        if (xmlhttp.status==200)\\n                        {\\n                            errors___OBJ__ = 0;\\n                            if (!entrance___OBJ__) {\\n                                if (elem.innerHTML != xmlhttp.responseText) {\\n                                    elem.innerHTML = xmlhttp.responseText;\\n                                }\\n                                if (elem.innerHTML.includes(\"Process finished.\")) {\\n                                    halt__OBJ__(elem, \"#333333\");\\n                                } else {\\n                                    entrance___OBJ__ += 1;\\n                                    console.log(\"req\");\\n                                    window.setTimeout(\"refresh__OBJ__()\", 300); \\n                                }\\n                            }\\n                            return xmlhttp.responseText;\\n                        } else {\\n                            errors___OBJ__ += 1;\\n                            if (!entrance___OBJ__) {\\n                                if (errors___OBJ__ < 6) {\\n                                    entrance___OBJ__ += 1;\\n                                    console.log(\"req\");\\n                                    window.setTimeout(\"refresh__OBJ__()\", 300); \\n                                } else {\\n                                    halt__OBJ__(elem, \"#994444\");\\n                                }\\n                            }\\n                        }\\n                    }\\n                }\\n                xmlhttp.open(\"GET\", \"__FILE__\", true);\\n                xmlhttp.setRequestHeader(\"Cache-Control\", \"no-cache\");\\n                xmlhttp.send();     \\n            }\\n        }\\n        \\n        if (!entrance___OBJ__) {\\n            entrance___OBJ__ += 1;\\n            refresh__OBJ__(); \\n        }\\n        </script>\\n\\n        <p id=\"__OBJ__\" style=\"font-size: 14px; background: #000000; padding: 10px; border: 3px; border-radius: 5px; color: white; \">\\n        </p>\\n        \\n        </font>\\n        <!--MD_END_FILTER-->\\n        <!--MD_FROM_FILE __FILE__.md -->\\n        \\'\\'\\'.replace(\"__OBJ__\", obj).replace(\"__FILE__\", file)\\n    if return_html_string:\\n        return html_string\\n    display(HTML(html_string))\\n\\n    \\nclass TInteractiveLauncher:\\n    tmp_path = \"./interactive_launcher_tmp\"\\n    def __init__(self, cmd):\\n        try:\\n            os.mkdir(TInteractiveLauncher.tmp_path)\\n        except:\\n            pass\\n        name = str(random.randint(0, 1e18))\\n        self.inq_path = os.path.join(TInteractiveLauncher.tmp_path, name + \".inq\")\\n        self.log_path = os.path.join(TInteractiveLauncher.tmp_path, name + \".log\")\\n        \\n        os.mkfifo(self.inq_path)\\n        open(self.log_path, \\'w\\').close()\\n        open(self.log_path + \".md\", \\'w\\').close()\\n\\n        self.pid = os.fork()\\n        if self.pid == -1:\\n            print(\"Error\")\\n        if self.pid == 0:\\n            exe_cands = glob.glob(\"../tools/launcher.py\") + glob.glob(\"../../tools/launcher.py\")\\n            assert(len(exe_cands) == 1)\\n            assert(os.execvp(\"python3\", [\"python3\", exe_cands[0], \"-l\", self.log_path, \"-i\", self.inq_path, \"-c\", cmd]) == 0)\\n        self.inq_f = open(self.inq_path, \"w\")\\n        interactive_launcher_opened_set.add(self.pid)\\n        show_log_file(self.log_path)\\n\\n    def write(self, s):\\n        s = s.encode()\\n        assert len(s) == os.write(self.inq_f.fileno(), s)\\n        \\n    def get_pid(self):\\n        n = 100\\n        for i in range(n):\\n            try:\\n                return int(re.findall(r\"PID = (\\\\d+)\", open(self.log_path).readline())[0])\\n            except:\\n                if i + 1 == n:\\n                    raise\\n                time.sleep(0.1)\\n        \\n    def input_queue_path(self):\\n        return self.inq_path\\n        \\n    def close(self):\\n        self.inq_f.close()\\n        os.waitpid(self.pid, 0)\\n        os.remove(self.inq_path)\\n        # os.remove(self.log_path)\\n        self.inq_path = None\\n        self.log_path = None \\n        interactive_launcher_opened_set.remove(self.pid)\\n        self.pid = None\\n        \\n    @staticmethod\\n    def terminate_all():\\n        if \"interactive_launcher_opened_set\" not in globals():\\n            globals()[\"interactive_launcher_opened_set\"] = set()\\n        global interactive_launcher_opened_set\\n        for pid in interactive_launcher_opened_set:\\n            print(\"Terminate pid=\" + str(pid), file=sys.stderr)\\n            os.kill(pid, signal.SIGKILL)\\n            os.waitpid(pid, 0)\\n        interactive_launcher_opened_set = set()\\n        if os.path.exists(TInteractiveLauncher.tmp_path):\\n            shutil.rmtree(TInteractiveLauncher.tmp_path)\\n    \\nTInteractiveLauncher.terminate_all()\\n    \\n    \\ndef make_oneliner():\\n    return \\'# look at tools/set_up_magics.ipynb\\\\nget_ipython().run_cell(%s)\\\\nNone\\' % repr(one_liner_str)\\n\\n #SET_UP_MAGIC_END \\n')\n",
    "None"
   ]
  },
  {
   "cell_type": "markdown",
   "metadata": {},
   "source": [
    "# Синхронизация потоков\n",
    "\n",
    "<br>\n",
    "<div style=\"text-align: right\"> Спасибо ?? за участие в написании текста </div>\n",
    "<br>\n",
    "\n",
    "\n",
    "Сегодня в программе:\n",
    "* <a href=\"#mutex\" style=\"color:#856024\">Мьютексы</a>\n",
    "  <br> MUTEX ~ MUTual EXclusion\n",
    "* <a href=\"#spinlock\" style=\"color:#856024\">Spinlock'и</a>\n",
    "* <a href=\"#condvar\" style=\"color:#856024\">Condition variable (aka условные переменные)</a>\n",
    "* <a href=\"#spinlock\" style=\"color:#856024\">Spinlock'и</a>\n",
    "*\n",
    "  \n",
    "  \n",
    "\n",
    "\n",
    "<a href=\"#hw\" style=\"color:#856024\">Комментарии к ДЗ</a>\n",
    "\n",
    "[Ридинг Яковлева](https://github.com/victor-yacovlev/mipt-diht-caos/tree/master/practice/mutex-condvar-atomic)"
   ]
  },
  {
   "cell_type": "markdown",
   "metadata": {},
   "source": [
    "# <a name=\"mutex\"></a> Mutex"
   ]
  },
  {
   "cell_type": "code",
   "execution_count": 167,
   "metadata": {
    "scrolled": true
   },
   "outputs": [
    {
     "data": {
      "text/markdown": [
       "Run: `gcc -fsanitize=thread mutex.c -lpthread -o mutex.exe # вспоминаем про санитайзеры`"
      ],
      "text/plain": [
       "<IPython.core.display.Markdown object>"
      ]
     },
     "metadata": {},
     "output_type": "display_data"
    },
    {
     "data": {
      "text/markdown": [
       "Run: `./mutex.exe`"
      ],
      "text/plain": [
       "<IPython.core.display.Markdown object>"
      ]
     },
     "metadata": {},
     "output_type": "display_data"
    },
    {
     "name": "stdout",
     "output_type": "stream",
     "text": [
      "0.000          main():61 [tid=7110]: Main func started\n",
      "0.001          main():65 [tid=7110]: Creating thread 0\n",
      "0.032   thread_func():51 [tid=7112]:   Thread 0 started\n",
      "0.033          main():65 [tid=7110]: Creating thread 1\n",
      "0.046   thread_func():51 [tid=7113]:   Thread 1 started\n",
      "1.305   thread_func():55 [tid=7113]:   Thread 1 finished\n",
      "1.340   thread_func():55 [tid=7112]:   Thread 0 finished\n",
      "1.340          main():70 [tid=7110]: Thread 0 joined\n",
      "1.340          main():70 [tid=7110]: Thread 1 joined\n",
      "1.340          main():72 [tid=7110]: Main func finished\n"
     ]
    }
   ],
   "source": [
    "%%cpp mutex.c\n",
    "%run gcc -fsanitize=thread mutex.c -lpthread -o mutex.exe # вспоминаем про санитайзеры\n",
    "%run ./mutex.exe\n",
    "\n",
    "#define _GNU_SOURCE \n",
    "#include <stdio.h>\n",
    "#include <stdlib.h>\n",
    "#include <unistd.h>\n",
    "#include <sys/types.h>\n",
    "#include <sys/syscall.h>\n",
    "#include <sys/time.h>\n",
    "#include <pthread.h>\n",
    "#include <stdatomic.h>\n",
    "\n",
    "const char* log_prefix(const char* func, int line) {\n",
    "    struct timespec spec; clock_gettime(CLOCK_REALTIME, &spec); long long current_msec = spec.tv_sec * 1000L + spec.tv_nsec / 1000000;\n",
    "    static _Atomic long long start_msec_storage = -1; long long start_msec = -1; if (atomic_compare_exchange_strong(&start_msec_storage, &start_msec, current_msec)) start_msec = current_msec;\n",
    "    long long delta_msec = current_msec - start_msec;\n",
    "    static __thread char prefix[100]; sprintf(prefix, \"%lld.%03lld %13s():%d [tid=%ld]\", delta_msec / 1000, delta_msec % 1000, func, line, syscall(__NR_gettid));\n",
    "    return prefix;\n",
    "}\n",
    "#define log_printf_impl(fmt, ...) { time_t t = time(0); dprintf(2, \"%s: \" fmt \"%s\", log_prefix(__FUNCTION__, __LINE__), __VA_ARGS__); }\n",
    "#define log_printf(...) log_printf_impl(__VA_ARGS__, \"\")\n",
    "\n",
    "// thread-aware assert\n",
    "#define ta_assert(stmt) if (stmt) {} else { log_printf(\"'\" #stmt \"' failed\"); exit(EXIT_FAILURE); }\n",
    "\n",
    "\n",
    "typedef enum {\n",
    "    VALID_STATE = 0,\n",
    "    INVALID_STATE = 1\n",
    "} state_t;\n",
    "\n",
    "pthread_mutex_t mutex = PTHREAD_MUTEX_INITIALIZER; // protects state\n",
    "state_t current_state = VALID_STATE;\n",
    "\n",
    "void thread_safe_func() {\n",
    "    // all function is critical section, protected by mutex\n",
    "    pthread_mutex_lock(&mutex); // try comment lock&unlock out and look at result\n",
    "    ta_assert(current_state == VALID_STATE);\n",
    "    current_state = INVALID_STATE; // do some work with state. \n",
    "    sched_yield();\n",
    "    current_state = VALID_STATE;\n",
    "    pthread_mutex_unlock(&mutex);\n",
    "}\n",
    "\n",
    "// Возвращаемое значение потока (~код возврата процесса) -- любое машинное слово.\n",
    "static void* thread_func(void* arg) \n",
    "{\n",
    "    int i = (char*)arg - (char*)NULL;\n",
    "    log_printf(\"  Thread %d started\\n\", i);\n",
    "    for (int j = 0; j < 10000; ++j) {\n",
    "        thread_safe_func();\n",
    "    }\n",
    "    log_printf(\"  Thread %d finished\\n\", i);\n",
    "    return NULL;\n",
    "}\n",
    "\n",
    "int main()\n",
    "{\n",
    "    log_printf(\"Main func started\\n\");\n",
    "    const int threads_count = 2;\n",
    "    pthread_t threads[threads_count];\n",
    "    for (int i = 0; i < threads_count; ++i) {\n",
    "        log_printf(\"Creating thread %d\\n\", i);\n",
    "        ta_assert(pthread_create(&threads[i], NULL, thread_func, (char*)NULL + i) == 0);\n",
    "    }\n",
    "    for (int i = 0; i < threads_count; ++i) {\n",
    "        ta_assert(pthread_join(threads[i], NULL) == 0); \n",
    "        log_printf(\"Thread %d joined\\n\", i);\n",
    "    }\n",
    "    log_printf(\"Main func finished\\n\");\n",
    "    return 0;\n",
    "}"
   ]
  },
  {
   "cell_type": "markdown",
   "metadata": {},
   "source": [
    "# <a name=\"spinlock\"></a> Spinlock\n",
    "\n",
    "\n",
    "[spinlock в стандартной библиотеке](https://linux.die.net/man/3/pthread_spin_init)"
   ]
  },
  {
   "cell_type": "code",
   "execution_count": 166,
   "metadata": {},
   "outputs": [
    {
     "data": {
      "text/markdown": [
       "Run: `gcc -fsanitize=thread -std=c11 spinlock.c -lpthread -o spinlock.exe`"
      ],
      "text/plain": [
       "<IPython.core.display.Markdown object>"
      ]
     },
     "metadata": {},
     "output_type": "display_data"
    },
    {
     "data": {
      "text/markdown": [
       "Run: `./spinlock.exe`"
      ],
      "text/plain": [
       "<IPython.core.display.Markdown object>"
      ]
     },
     "metadata": {},
     "output_type": "display_data"
    },
    {
     "name": "stdout",
     "output_type": "stream",
     "text": [
      "0.000          main():73 [tid=7099]: Main func started\n",
      "0.005          main():77 [tid=7099]: Creating thread 0\n",
      "0.141   thread_func():63 [tid=7101]:   Thread 0 started\n",
      "0.141          main():77 [tid=7099]: Creating thread 1\n",
      "0.149   thread_func():63 [tid=7102]:   Thread 1 started\n",
      "0.589   thread_func():67 [tid=7101]:   Thread 0 finished\n",
      "0.589          main():82 [tid=7099]: Thread 0 joined\n",
      "0.829   thread_func():67 [tid=7102]:   Thread 1 finished\n",
      "0.829          main():82 [tid=7099]: Thread 1 joined\n",
      "0.829          main():84 [tid=7099]: Main func finished\n"
     ]
    }
   ],
   "source": [
    "%%cpp spinlock.c\n",
    "%run gcc -fsanitize=thread -std=c11 spinlock.c -lpthread -o spinlock.exe\n",
    "%run ./spinlock.exe\n",
    "\n",
    "#define _GNU_SOURCE\n",
    "#include <stdio.h>\n",
    "#include <stdlib.h>\n",
    "#include <unistd.h>\n",
    "#include <sys/syscall.h>\n",
    "#include <sys/types.h>\n",
    "#include <sys/time.h>\n",
    "#include <pthread.h>\n",
    "#include <stdatomic.h> //!\n",
    "\n",
    "const char* log_prefix(const char* func, int line) {\n",
    "    struct timespec spec; clock_gettime(CLOCK_REALTIME, &spec); long long current_msec = spec.tv_sec * 1000L + spec.tv_nsec / 1000000;\n",
    "    static _Atomic long long start_msec_storage = -1; long long start_msec = -1; if (atomic_compare_exchange_strong(&start_msec_storage, &start_msec, current_msec)) start_msec = current_msec;\n",
    "    long long delta_msec = current_msec - start_msec;\n",
    "    static __thread char prefix[100]; sprintf(prefix, \"%lld.%03lld %13s():%d [tid=%ld]\", delta_msec / 1000, delta_msec % 1000, func, line, syscall(__NR_gettid));\n",
    "    return prefix;\n",
    "}\n",
    "#define log_printf_impl(fmt, ...) { time_t t = time(0); dprintf(2, \"%s: \" fmt \"%s\", log_prefix(__FUNCTION__, __LINE__), __VA_ARGS__); }\n",
    "#define log_printf(...) log_printf_impl(__VA_ARGS__, \"\")\n",
    "\n",
    "// thread-aware assert\n",
    "#define ta_assert(stmt) if (stmt) {} else { log_printf(\"'\" #stmt \"' failed\"); exit(EXIT_FAILURE); }\n",
    "\n",
    "\n",
    "typedef enum {\n",
    "    VALID_STATE = 0,\n",
    "    INVALID_STATE = 1\n",
    "} state_t;\n",
    "\n",
    "_Atomic int lock = 0; // protects state\n",
    "state_t current_state = VALID_STATE;\n",
    "\n",
    "void sl_lock(_Atomic int* lock) {\n",
    "    int expected = 0;\n",
    "    // atomic_compare_exchange_weak can change `expected`!\n",
    "    while (!atomic_compare_exchange_weak(lock, &expected, 1)) {\n",
    "        expected = 0;\n",
    "    }\n",
    "}\n",
    "\n",
    "void sl_unlock(_Atomic int* lock) {\n",
    "    atomic_fetch_sub(lock, 1);\n",
    "}\n",
    "\n",
    "void thread_safe_func() {\n",
    "    // all function is critical section, protected by mutex\n",
    "    sl_lock(&lock); // try comment lock&unlock out and look at result\n",
    "    ta_assert(current_state == VALID_STATE);\n",
    "    current_state = INVALID_STATE; // do some work with state. \n",
    "    sched_yield(); // increase probability of fail of incorrect lock realisation\n",
    "    current_state = VALID_STATE;\n",
    "    sl_unlock(&lock);\n",
    "}\n",
    "\n",
    "// Возвращаемое значение потока (~код возврата процесса) -- любое машинное слово.\n",
    "static void* thread_func(void* arg) \n",
    "{\n",
    "    int i = (char*)arg - (char*)NULL;\n",
    "    log_printf(\"  Thread %d started\\n\", i);\n",
    "    for (int j = 0; j < 10000; ++j) {\n",
    "        thread_safe_func();\n",
    "    }\n",
    "    log_printf(\"  Thread %d finished\\n\", i);\n",
    "    return NULL;\n",
    "}\n",
    "\n",
    "int main()\n",
    "{\n",
    "    log_printf(\"Main func started\\n\");\n",
    "    const int threads_count = 2;\n",
    "    pthread_t threads[threads_count];\n",
    "    for (int i = 0; i < threads_count; ++i) {\n",
    "        log_printf(\"Creating thread %d\\n\", i);\n",
    "        ta_assert(pthread_create(&threads[i], NULL, thread_func, (char*)NULL + i) == 0);\n",
    "    }\n",
    "    for (int i = 0; i < threads_count; ++i) {\n",
    "        ta_assert(pthread_join(threads[i], NULL) == 0); \n",
    "        log_printf(\"Thread %d joined\\n\", i);\n",
    "    }\n",
    "    log_printf(\"Main func finished\\n\");\n",
    "    return 0;\n",
    "}"
   ]
  },
  {
   "cell_type": "markdown",
   "metadata": {},
   "source": [
    "# <a name=\"condvar\"></a> Condition variable"
   ]
  },
  {
   "cell_type": "code",
   "execution_count": 162,
   "metadata": {},
   "outputs": [
    {
     "data": {
      "text/markdown": [
       "Run: `gcc -fsanitize=thread condvar.c -lpthread -o condvar.exe`"
      ],
      "text/plain": [
       "<IPython.core.display.Markdown object>"
      ]
     },
     "metadata": {},
     "output_type": "display_data"
    },
    {
     "data": {
      "text/markdown": [
       "Run: `(for i in $(seq 0 100000); do echo -n \"$i \" ; done) | ./condvar.exe > out.txt`"
      ],
      "text/plain": [
       "<IPython.core.display.Markdown object>"
      ]
     },
     "metadata": {},
     "output_type": "display_data"
    },
    {
     "name": "stdout",
     "output_type": "stream",
     "text": [
      "0.000          main():102 [tid=6723]: Main func started\n",
      "0.006          main():105 [tid=6723]: Creating producer thread\n",
      "0.040          main():109 [tid=6723]: Creating producer thread\n",
      "9.308          main():113 [tid=6723]: Producer thread joined\n",
      "9.315          main():116 [tid=6723]: Consumer thread joined\n",
      "9.315          main():118 [tid=6723]: Main func finished\n"
     ]
    }
   ],
   "source": [
    "%%cpp condvar.c\n",
    "%run gcc -fsanitize=thread condvar.c -lpthread -o condvar.exe\n",
    "%run (for i in $(seq 0 100000); do echo -n \"$i \" ; done) | ./condvar.exe > out.txt\n",
    "//%run cat out.txt\n",
    "\n",
    "#include <stdio.h>\n",
    "#include <stdlib.h>\n",
    "#include <unistd.h>\n",
    "#include <sys/types.h>\n",
    "#include <sys/syscall.h>\n",
    "#include <sys/time.h>\n",
    "#include <pthread.h>\n",
    "#include <stdatomic.h>\n",
    "\n",
    "const char* log_prefix(const char* func, int line) {\n",
    "    struct timespec spec; clock_gettime(CLOCK_REALTIME, &spec); long long current_msec = spec.tv_sec * 1000L + spec.tv_nsec / 1000000;\n",
    "    static _Atomic long long start_msec_storage = -1; long long start_msec = -1; if (atomic_compare_exchange_strong(&start_msec_storage, &start_msec, current_msec)) start_msec = current_msec;\n",
    "    long long delta_msec = current_msec - start_msec;\n",
    "    static __thread char prefix[100]; sprintf(prefix, \"%lld.%03lld %13s():%d [tid=%ld]\", delta_msec / 1000, delta_msec % 1000, func, line, syscall(__NR_gettid));\n",
    "    return prefix;\n",
    "}\n",
    "#define log_printf_impl(fmt, ...) { time_t t = time(0); dprintf(2, \"%s: \" fmt \"%s\", log_prefix(__FUNCTION__, __LINE__), __VA_ARGS__); }\n",
    "#define log_printf(...) log_printf_impl(__VA_ARGS__, \"\")\n",
    "\n",
    "// thread-aware assert\n",
    "#define ta_assert(stmt) if (stmt) {} else { log_printf(\"'\" #stmt \"' failed\"); exit(EXIT_FAILURE); }\n",
    "\n",
    "#define queue_max_size 5\n",
    "\n",
    "struct {\n",
    "    // рекомендую порядок записи переменных:\n",
    "    pthread_mutex_t mutex; // мьютекс\n",
    "    pthread_cond_t condvar; // переменная условия (если нужна)\n",
    "    \n",
    "    // все переменные защищаемые мьютексом\n",
    "    int data[queue_max_size];\n",
    "    int begin; // [begin, end) \n",
    "    int end;\n",
    "} queue;\n",
    "\n",
    "void queue_init() {\n",
    "    pthread_mutex_init(&queue.mutex, NULL);\n",
    "    pthread_cond_init(&queue.condvar, NULL);\n",
    "    queue.begin = queue.end = 0;\n",
    "}\n",
    "\n",
    "void queue_push(int val) {\n",
    "    pthread_mutex_lock(&queue.mutex); // try comment lock&unlock out and look at result\n",
    "    while (queue.begin + queue_max_size == queue.end) {\n",
    "        pthread_cond_wait(&queue.condvar, &queue.mutex); // mutex in unlocked inside this func\n",
    "    }\n",
    "    _Bool was_empty = (queue.begin == queue.end);\n",
    "    queue.data[queue.end++ % queue_max_size] = val;\n",
    "    pthread_mutex_unlock(&queue.mutex);\n",
    "    \n",
    "    if (was_empty) {\n",
    "        pthread_cond_signal(&queue.condvar); // notify if there was nothing and now will be elements\n",
    "    }\n",
    "}\n",
    "\n",
    "int queue_pop() {\n",
    "    pthread_mutex_lock(&queue.mutex); // try comment lock&unlock out and look at result\n",
    "    while (queue.begin == queue.end) {\n",
    "        pthread_cond_wait(&queue.condvar, &queue.mutex); // mutex in unlocked inside this func\n",
    "    }\n",
    "    if (queue.end - queue.begin == queue_max_size) {\n",
    "        pthread_cond_signal(&queue.condvar); // notify if buffer was full and now will have free space\n",
    "    }\n",
    "    int val = queue.data[queue.begin++ % queue_max_size];\n",
    "    if (queue.begin >= queue_max_size) {\n",
    "        queue.begin -= queue_max_size;\n",
    "        queue.end -= queue_max_size;\n",
    "    }\n",
    "    pthread_mutex_unlock(&queue.mutex);\n",
    "    return val;\n",
    "}\n",
    "\n",
    "static void* producer_func(void* arg) \n",
    "{\n",
    "    int val;\n",
    "    while (scanf(\"%d\", &val) > 0) {\n",
    "        queue_push(val);\n",
    "        //nanosleep(&(struct timespec) {.tv_nsec = 1000000}, NULL); // 1ms\n",
    "    }\n",
    "    queue_push(-1);\n",
    "    return NULL;\n",
    "}\n",
    "\n",
    "static void* consumer_func(void* arg) \n",
    "{\n",
    "    int val;\n",
    "    while ((val = queue_pop()) >= 0) {\n",
    "        printf(\"'%d', \", val);\n",
    "    }\n",
    "    return NULL;\n",
    "}\n",
    "\n",
    "int main()\n",
    "{\n",
    "    queue_init();\n",
    "    \n",
    "    log_printf(\"Main func started\\n\");\n",
    "    \n",
    "    pthread_t producer_thread;\n",
    "    log_printf(\"Creating producer thread\\n\");\n",
    "    ta_assert(pthread_create(&producer_thread, NULL, producer_func, NULL) == 0);\n",
    "    \n",
    "    pthread_t consumer_thread;\n",
    "    log_printf(\"Creating producer thread\\n\");\n",
    "    ta_assert(pthread_create(&consumer_thread, NULL, consumer_func, NULL) == 0);\n",
    "    \n",
    "    ta_assert(pthread_join(producer_thread, NULL) == 0); \n",
    "    log_printf(\"Producer thread joined\\n\");\n",
    "    \n",
    "    ta_assert(pthread_join(consumer_thread, NULL) == 0); \n",
    "    log_printf(\"Consumer thread joined\\n\");\n",
    "    \n",
    "    log_printf(\"Main func finished\\n\");\n",
    "    return 0;\n",
    "}"
   ]
  },
  {
   "cell_type": "code",
   "execution_count": null,
   "metadata": {},
   "outputs": [],
   "source": []
  },
  {
   "cell_type": "code",
   "execution_count": null,
   "metadata": {},
   "outputs": [],
   "source": []
  },
  {
   "cell_type": "markdown",
   "metadata": {},
   "source": [
    "# <a name=\"hw\"></a> Комментарии к ДЗ\n",
    "\n",
    "* "
   ]
  },
  {
   "cell_type": "code",
   "execution_count": null,
   "metadata": {},
   "outputs": [],
   "source": []
  },
  {
   "cell_type": "code",
   "execution_count": null,
   "metadata": {},
   "outputs": [],
   "source": []
  }
 ],
 "metadata": {
  "kernelspec": {
   "display_name": "Python 3",
   "language": "python",
   "name": "python3"
  },
  "language_info": {
   "codemirror_mode": {
    "name": "ipython",
    "version": 3
   },
   "file_extension": ".py",
   "mimetype": "text/x-python",
   "name": "python",
   "nbconvert_exporter": "python",
   "pygments_lexer": "ipython3",
   "version": "3.5.2"
  }
 },
 "nbformat": 4,
 "nbformat_minor": 2
}
