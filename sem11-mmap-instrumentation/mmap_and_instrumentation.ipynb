{
 "cells": [
  {
   "cell_type": "code",
   "execution_count": 1,
   "metadata": {},
   "outputs": [
    {
     "data": {
      "application/javascript": [
       "// setup cpp code highlighting\n",
       "IPython.CodeCell.options_default.highlight_modes[\"text/x-c++src\"] = {'reg':[/^%%cpp/]} ;"
      ],
      "text/plain": [
       "<IPython.core.display.Javascript object>"
      ]
     },
     "metadata": {},
     "output_type": "display_data"
    }
   ],
   "source": [
    "get_ipython().run_cell_magic('javascript', '', '// setup cpp code highlighting\\nIPython.CodeCell.options_default.highlight_modes[\"text/x-c++src\"] = {\\'reg\\':[/^%%cpp/]} ;')\n",
    "\n",
    "# creating magics\n",
    "from IPython.core.magic import register_cell_magic, register_line_magic\n",
    "from IPython.display import display, Markdown\n",
    "\n",
    "@register_cell_magic\n",
    "def save_file(fname, cell, line_comment_start=\"#\"):\n",
    "    cell = cell if cell[-1] == '\\n' else cell + \"\\n\"\n",
    "    cmds = []\n",
    "    with open(fname, \"w\") as f:\n",
    "        f.write(line_comment_start + \" %%cpp \" + fname + \"\\n\")\n",
    "        for line in cell.split(\"\\n\"):\n",
    "            if line.startswith(\"%\"):\n",
    "                run_prefix = \"%run \"\n",
    "                assert line.startswith(run_prefix)\n",
    "                cmds.append(line[len(run_prefix):].strip())\n",
    "            else:\n",
    "                f.write(line + \"\\n\")\n",
    "    for cmd in cmds:\n",
    "        display(Markdown(\"Run: `%s`\" % cmd))\n",
    "        get_ipython().system(cmd)\n",
    "\n",
    "@register_cell_magic\n",
    "def cpp(fname, cell):\n",
    "    save_file(fname, cell, \"//\")\n",
    "\n",
    "@register_cell_magic\n",
    "def asm(fname, cell):\n",
    "    save_file(fname, cell, \"//\")\n",
    "    \n",
    "@register_cell_magic\n",
    "def makefile(fname, cell):\n",
    "    assert not fname\n",
    "    save_file(\"makefile\", cell.replace(\" \" * 4, \"\\t\"))\n",
    "        \n",
    "@register_line_magic\n",
    "def p(line):\n",
    "    try:\n",
    "        expr, comment = line.split(\" #\")\n",
    "        display(Markdown(\"`{} = {}`  # {}\".format(expr.strip(), eval(expr), comment.strip())))\n",
    "    except:\n",
    "        display(Markdown(\"{} = {}\".format(line, eval(line))))\n",
    "    "
   ]
  },
  {
   "cell_type": "markdown",
   "metadata": {},
   "source": [
    "# Инструментирование в linux и mmap"
   ]
  },
  {
   "cell_type": "markdown",
   "metadata": {},
   "source": [
    "## Инструментирование\n",
    "\n",
    "Что это такое? Можно считать, что отладка. Получение информации о работающей программе и вмешательство в ее работу. Или не о программе, а о ядре системы. Известный вам пример - gdb.\n",
    "\n",
    "Инструментарий для отладки\n",
    "* Статический - прям в коде: счетчики, метрики (пример: санитайзеры)\n",
    "  * Оверхед\n",
    "  * Занимают место в коде\n",
    "  * ...\n",
    "* Динамический - над кодом (примеры: gdb, strace, [eBPF](https://habr.com/ru/post/435142/))\n",
    "  * Динамически можно выбирать, на что смотреть\n",
    "  * ...\n",
    "\n",
    "Разные подходы к инструментированию:\n",
    "* Трейсинг - обрабатывать события. (пример: strace)\n",
    "* Семплинг - условно смотреть состояние системы 100 раз в секунду. (пример: perf)"
   ]
  },
  {
   "cell_type": "markdown",
   "metadata": {},
   "source": [
    "### Примеры использования для обнаружения проезда по памяти"
   ]
  },
  {
   "cell_type": "code",
   "execution_count": 2,
   "metadata": {},
   "outputs": [],
   "source": [
    "%%cpp segfault.cpp\n",
    "\n",
    "#include<stdio.h>\n",
    "\n",
    "int main() {\n",
    "    int a[2];\n",
    "    printf(\"%d\\n\", a[100500]); // проезд по памяти\n",
    "}"
   ]
  },
  {
   "cell_type": "code",
   "execution_count": 3,
   "metadata": {},
   "outputs": [
    {
     "name": "stdout",
     "output_type": "stream",
     "text": [
      "Segmentation fault (core dumped)\r\n"
     ]
    }
   ],
   "source": [
    "# компилируем и запускаем как обычно\n",
    "!gcc segfault.cpp -o segfault.exe\n",
    "!./segfault.exe"
   ]
  },
  {
   "cell_type": "code",
   "execution_count": 75,
   "metadata": {},
   "outputs": [
    {
     "name": "stdout",
     "output_type": "stream",
     "text": [
      "ASAN:SIGSEGV\r\n",
      "=================================================================\r\n",
      "\u001b[1m\u001b[31m==14219==ERROR: AddressSanitizer: SEGV on unknown address 0x7ffeb42de5a0 (pc 0x0000004009d9 bp 0x7ffeb427c3b0 sp 0x7ffeb427c330 T0)\r\n",
      "\u001b[1m\u001b[0m    #0 0x4009d8 in main /home/pechatnov/vbox/caos_2019-2020/sem11-mmap-instrumentation/segfault.cpp:7\r\n",
      "    #1 0x7f6ac249d82f in __libc_start_main (/lib/x86_64-linux-gnu/libc.so.6+0x2082f)\r\n",
      "    #2 0x400848 in _start (/home/pechatnov/vbox/caos_2019-2020/sem11-mmap-instrumentation/segfault.exe+0x400848)\r\n",
      "\r\n",
      "AddressSanitizer can not provide additional info.\r\n",
      "SUMMARY: AddressSanitizer: SEGV /home/pechatnov/vbox/caos_2019-2020/sem11-mmap-instrumentation/segfault.cpp:7 main\r\n",
      "==14219==ABORTING\r\n"
     ]
    }
   ],
   "source": [
    "# компилируем с санитайзером и запускаем как обычно (семинарист рекомендует)\n",
    "!gcc -fsanitize=address segfault.cpp -o segfault.exe\n",
    "!./segfault.exe"
   ]
  },
  {
   "cell_type": "code",
   "execution_count": 87,
   "metadata": {},
   "outputs": [
    {
     "name": "stdout",
     "output_type": "stream",
     "text": [
      "[Thread debugging using libthread_db enabled]\n",
      "Using host libthread_db library \"/lib/x86_64-linux-gnu/libthread_db.so.1\".\n",
      "\n",
      "Program received signal SIGSEGV, Segmentation fault.\n",
      "0x00000000004009b3 in main () at segfault.cpp:7\n",
      "7\t    printf(\"%d\\n\", a[100500]); // проезд по памяти\n"
     ]
    }
   ],
   "source": [
    "# комбинируем санитайзер и gdb (это семинарист рекомендует, если вы хотите больше подробностей)\n",
    "# по идее это должно находить больше косяков, чем вариант в следующей ячейке\n",
    "!gcc -g -fsanitize=address segfault.cpp -o segfault.exe\n",
    "!gdb -ex=r -batch --args ./segfault.exe"
   ]
  },
  {
   "cell_type": "code",
   "execution_count": 88,
   "metadata": {},
   "outputs": [
    {
     "name": "stdout",
     "output_type": "stream",
     "text": [
      "\r\n",
      "Program received signal SIGBUS, Bus error.\r\n",
      "main () at segfault.cpp:7\r\n",
      "7\t    printf(\"%d\\n\", a[100500]); // проезд по памяти\r\n"
     ]
    }
   ],
   "source": [
    "# компилируем с отладочной информацией и запускаем под gdb\n",
    "!gcc -g segfault.cpp -o segfault.exe\n",
    "!gdb -ex=r -batch --args ./segfault.exe"
   ]
  },
  {
   "cell_type": "code",
   "execution_count": 11,
   "metadata": {
    "scrolled": true
   },
   "outputs": [
    {
     "name": "stdout",
     "output_type": "stream",
     "text": [
      "==12284== Memcheck, a memory error detector\n",
      "==12284== Copyright (C) 2002-2015, and GNU GPL'd, by Julian Seward et al.\n",
      "==12284== Using Valgrind-3.11.0 and LibVEX; rerun with -h for copyright info\n",
      "==12284== Command: ./segfault.exe\n",
      "==12284== \n",
      "==12284== Invalid read of size 4\n",
      "==12284==    at 0x4005AD: main (in /home/pechatnov/vbox/caos_2019-2020/sem11-mmap-instrumentation/segfault.exe)\n",
      "==12284==  Address 0xfff062330 is not stack'd, malloc'd or (recently) free'd\n",
      "Segmentation fault (core dumped)\n"
     ]
    }
   ],
   "source": [
    "# компилируем как обычно и запускаем с valgrind\n",
    "!gcc segfault.cpp -o segfault.exe\n",
    "!valgrind --tool=memcheck ./segfault.exe 2>&1 | head -n 8 # берем только первые 8 строк выхлопа, а то там много"
   ]
  },
  {
   "cell_type": "markdown",
   "metadata": {},
   "source": [
    "### Примеры использования для обнаружения утечек памяти"
   ]
  },
  {
   "cell_type": "code",
   "execution_count": 17,
   "metadata": {},
   "outputs": [],
   "source": [
    "%%cpp memory_leak.cpp\n",
    "\n",
    "#include<stdlib.h>\n",
    "\n",
    "int main() {\n",
    "    malloc(16);\n",
    "}"
   ]
  },
  {
   "cell_type": "code",
   "execution_count": 21,
   "metadata": {},
   "outputs": [
    {
     "name": "stdout",
     "output_type": "stream",
     "text": [
      "==12377== Memcheck, a memory error detector\n",
      "==12377== Copyright (C) 2002-2015, and GNU GPL'd, by Julian Seward et al.\n",
      "==12377== Using Valgrind-3.11.0 and LibVEX; rerun with -h for copyright info\n",
      "==12377== Command: ./memory_leak.exe\n",
      "==12377== \n",
      "==12377== \n",
      "==12377== HEAP SUMMARY:\n",
      "==12377==     in use at exit: 16 bytes in 1 blocks\n",
      "==12377==   total heap usage: 1 allocs, 0 frees, 16 bytes allocated\n",
      "==12377== \n",
      "==12377== 16 bytes in 1 blocks are definitely lost in loss record 1 of 1\n",
      "==12377==    at 0x4C2DB8F: malloc (in /usr/lib/valgrind/vgpreload_memcheck-amd64-linux.so)\n",
      "==12377==    by 0x400533: main (in /home/pechatnov/vbox/caos_2019-2020/sem11-mmap-instrumentation/memory_leak.exe)\n",
      "==12377== \n",
      "==12377== LEAK SUMMARY:\n",
      "==12377==    definitely lost: 16 bytes in 1 blocks\n",
      "==12377==    indirectly lost: 0 bytes in 0 blocks\n",
      "==12377==      possibly lost: 0 bytes in 0 blocks\n",
      "==12377==    still reachable: 0 bytes in 0 blocks\n",
      "==12377==         suppressed: 0 bytes in 0 blocks\n",
      "==12377== \n",
      "==12377== For counts of detected and suppressed errors, rerun with: -v\n",
      "==12377== ERROR SUMMARY: 1 errors from 1 contexts (suppressed: 0 from 0)\n"
     ]
    }
   ],
   "source": [
    "# компилируем как обычно и запускаем с valgrind\n",
    "!gcc memory_leak.cpp -o memory_leak.exe\n",
    "!valgrind --tool=memcheck --leak-check=full ./memory_leak.exe 2>&1 "
   ]
  },
  {
   "cell_type": "code",
   "execution_count": 24,
   "metadata": {},
   "outputs": [
    {
     "name": "stdout",
     "output_type": "stream",
     "text": [
      "\r\n",
      "=================================================================\r\n",
      "\u001b[1m\u001b[31m==12407==ERROR: LeakSanitizer: detected memory leaks\r\n",
      "\u001b[1m\u001b[0m\r\n",
      "\u001b[1m\u001b[34mDirect leak of 16 byte(s) in 1 object(s) allocated from:\r\n",
      "\u001b[1m\u001b[0m    #0 0x7f39e8adbafb in __interceptor_malloc (/usr/lib/x86_64-linux-gnu/liblsan.so.0+0xeafb)\r\n",
      "    #1 0x400693 in main (/home/pechatnov/vbox/caos_2019-2020/sem11-mmap-instrumentation/memory_leak.exe+0x400693)\r\n",
      "    #2 0x7f39e872382f in __libc_start_main (/lib/x86_64-linux-gnu/libc.so.6+0x2082f)\r\n",
      "\r\n",
      "SUMMARY: LeakSanitizer: 16 byte(s) leaked in 1 allocation(s).\r\n"
     ]
    }
   ],
   "source": [
    "# компилируем с санитайзером и запускаем как обычно\n",
    "!gcc -fsanitize=leak memory_leak.cpp -o memory_leak.exe\n",
    "!./memory_leak.exe"
   ]
  },
  {
   "cell_type": "markdown",
   "metadata": {},
   "source": [
    "### Примеры использования для отладки системных вызовов"
   ]
  },
  {
   "cell_type": "code",
   "execution_count": 29,
   "metadata": {},
   "outputs": [],
   "source": [
    "%%cpp printing.cpp\n",
    "\n",
    "#include<stdio.h>\n",
    "\n",
    "int main() {\n",
    "    printf(\"Hello, world!\");\n",
    "}"
   ]
  },
  {
   "cell_type": "code",
   "execution_count": 31,
   "metadata": {},
   "outputs": [
    {
     "name": "stdout",
     "output_type": "stream",
     "text": [
      "execve(\"./printing.exe\", [\"./printing.exe\"], [/* 42 vars */]) = 0\n",
      "brk(NULL)                               = 0xf76000\n",
      "access(\"/etc/ld.so.nohwcap\", F_OK)      = -1 ENOENT (No such file or directory)\n",
      "access(\"/etc/ld.so.preload\", R_OK)      = -1 ENOENT (No such file or directory)\n",
      "open(\"/etc/ld.so.cache\", O_RDONLY|O_CLOEXEC) = 3\n",
      "fstat(3, {st_mode=S_IFREG|0644, st_size=137278, ...}) = 0\n",
      "mmap(NULL, 137278, PROT_READ, MAP_PRIVATE, 3, 0) = 0x7fdd74b2d000\n",
      "close(3)                                = 0\n",
      "access(\"/etc/ld.so.nohwcap\", F_OK)      = -1 ENOENT (No such file or directory)\n",
      "open(\"/lib/x86_64-linux-gnu/libc.so.6\", O_RDONLY|O_CLOEXEC) = 3\n",
      "read(3, \"\\177ELF\\2\\1\\1\\3\\0\\0\\0\\0\\0\\0\\0\\0\\3\\0>\\0\\1\\0\\0\\0P\\t\\2\\0\\0\\0\\0\\0\"..., 832) = 832\n",
      "fstat(3, {st_mode=S_IFREG|0755, st_size=1868984, ...}) = 0\n",
      "mmap(NULL, 4096, PROT_READ|PROT_WRITE, MAP_PRIVATE|MAP_ANONYMOUS, -1, 0) = 0x7fdd74b2c000\n",
      "mmap(NULL, 3971488, PROT_READ|PROT_EXEC, MAP_PRIVATE|MAP_DENYWRITE, 3, 0) = 0x7fdd74560000\n",
      "mprotect(0x7fdd74720000, 2097152, PROT_NONE) = 0\n",
      "mmap(0x7fdd74920000, 24576, PROT_READ|PROT_WRITE, MAP_PRIVATE|MAP_FIXED|MAP_DENYWRITE, 3, 0x1c0000) = 0x7fdd74920000\n",
      "mmap(0x7fdd74926000, 14752, PROT_READ|PROT_WRITE, MAP_PRIVATE|MAP_FIXED|MAP_ANONYMOUS, -1, 0) = 0x7fdd74926000\n",
      "close(3)                                = 0\n",
      "mmap(NULL, 4096, PROT_READ|PROT_WRITE, MAP_PRIVATE|MAP_ANONYMOUS, -1, 0) = 0x7fdd74b2b000\n",
      "mmap(NULL, 4096, PROT_READ|PROT_WRITE, MAP_PRIVATE|MAP_ANONYMOUS, -1, 0) = 0x7fdd74b2a000\n",
      "arch_prctl(ARCH_SET_FS, 0x7fdd74b2b700) = 0\n",
      "mprotect(0x7fdd74920000, 16384, PROT_READ) = 0\n",
      "mprotect(0x600000, 4096, PROT_READ)     = 0\n",
      "mprotect(0x7fdd74b4f000, 4096, PROT_READ) = 0\n",
      "munmap(0x7fdd74b2d000, 137278)          = 0\n",
      "fstat(1, {st_mode=S_IFREG|0664, st_size=0, ...}) = 0\n",
      "brk(NULL)                               = 0xf76000\n",
      "brk(0xf98000)                           = 0xf98000\n",
      "write(1, \"Hello, world!\", 13)           = 13\n",
      "exit_group(0)                           = ?\n",
      "+++ exited with 0 +++\n",
      "Program output:\n",
      "Hello, world!"
     ]
    }
   ],
   "source": [
    "# компилируем как обычно и запускаем с strace\n",
    "!gcc printing.cpp -o printing.exe\n",
    "!strace ./printing.exe > out.txt\n",
    "!echo \"Program output:\"\n",
    "!cat out.txt"
   ]
  },
  {
   "cell_type": "code",
   "execution_count": 32,
   "metadata": {},
   "outputs": [],
   "source": [
    "%%asm printing_asm.S\n",
    "    .intel_syntax noprefix\n",
    "    .text\n",
    "    .global _start\n",
    "_start:\n",
    "    mov eax, 4\n",
    "    mov ebx, 1\n",
    "    mov ecx, hello_world_ptr\n",
    "    mov edx, 14\n",
    "    int 0x80\n",
    "\n",
    "    mov eax, 1\n",
    "    mov ebx, 1\n",
    "    int 0x80\n",
    "\n",
    "    .data\n",
    "hello_world:\n",
    "    .string \"Hello, World!\\n\"\n",
    "hello_world_ptr:\n",
    "    .long hello_world"
   ]
  },
  {
   "cell_type": "code",
   "execution_count": 33,
   "metadata": {},
   "outputs": [
    {
     "name": "stdout",
     "output_type": "stream",
     "text": [
      "execve(\"./printing_asm.exe\", [\"./printing_asm.exe\"], [/* 42 vars */]) = 0\n",
      "strace: [ Process PID=12489 runs in 32 bit mode. ]\n",
      "write(1, \"Hello, World!\\n\", 14)         = 14\n",
      "exit(1)                                 = ?\n",
      "+++ exited with 1 +++\n",
      "Program output:\n",
      "Hello, World!\n"
     ]
    }
   ],
   "source": [
    "# компилируем как обычно и запускаем с strace\n",
    "!gcc -m32 -nostdlib printing_asm.S -o printing_asm.exe\n",
    "!strace ./printing_asm.exe > out.txt\n",
    "!echo \"Program output:\"\n",
    "!cat out.txt"
   ]
  },
  {
   "cell_type": "markdown",
   "metadata": {},
   "source": [
    "### Примеры использования для CPU профайлинга"
   ]
  },
  {
   "cell_type": "code",
   "execution_count": 65,
   "metadata": {},
   "outputs": [],
   "source": [
    "%%cpp work_hard.cpp\n",
    "\n",
    "int work_hard_1(int n) {\n",
    "    int ret = 0;\n",
    "    for (int i = 0; i < n; i++) ret ^= i;\n",
    "    return ret;\n",
    "}\n",
    "\n",
    "int work_hard_2(int n) {\n",
    "    int ret = 0;\n",
    "    for (int i = 0; i < n; i++) {\n",
    "        ret ^= work_hard_1(i * 3);\n",
    "        for (int j = 0; j < i * 2; ++j) {\n",
    "            ret ^= j;\n",
    "        }\n",
    "    }\n",
    "    return ret;\n",
    "}\n",
    "\n",
    "int main() {\n",
    "    return work_hard_2(10000);\n",
    "}"
   ]
  },
  {
   "cell_type": "code",
   "execution_count": 66,
   "metadata": {},
   "outputs": [
    {
     "name": "stdout",
     "output_type": "stream",
     "text": [
      "[sudo] password for pechatnov: \n",
      " Performance counter stats for './work_hard.exe':\n",
      "\n",
      "       1013,217609      task-clock (msec)         #    0,692 CPUs utilized          \n",
      "               214      context-switches          #    0,211 K/sec                  \n",
      "                 0      cpu-migrations            #    0,000 K/sec                  \n",
      "                42      page-faults               #    0,041 K/sec                  \n",
      "   <not supported>      cycles                                                      \n",
      "   <not supported>      instructions                                                \n",
      "   <not supported>      branches                                                    \n",
      "   <not supported>      branch-misses                                               \n",
      "\n",
      "       1,463685759 seconds time elapsed\n",
      "\n"
     ]
    }
   ],
   "source": [
    "# компилируем как обычно и запускаем с perf stat\n",
    "!gcc work_hard.cpp -o work_hard.exe\n",
    "!echo $PASSWORD | sudo -S perf stat ./work_hard.exe"
   ]
  },
  {
   "cell_type": "markdown",
   "metadata": {},
   "source": [
    "Результат perf report можно отрисовывать в более красивом виде с помощью [flamegraph](https://github.com/brendangregg/FlameGraph)"
   ]
  },
  {
   "cell_type": "code",
   "execution_count": 68,
   "metadata": {
    "scrolled": true
   },
   "outputs": [
    {
     "name": "stdout",
     "output_type": "stream",
     "text": [
      "[sudo] password for pechatnov: [ perf record: Woken up 1 times to write data ]\n",
      "[ perf record: Captured and wrote 0.076 MB perf.data (1746 samples) ]\n",
      "[sudo] password for pechatnov: [kernel.kallsyms] with build id 40aa70fa3b5dccac2d277480f60e44dc3ae98dcb not found, continuing without symbols\n",
      "# To display the perf.data header info, please use --header/--header-only options.\n",
      "#\n",
      "#\n",
      "# Total Lost Samples: 0\n",
      "#\n",
      "# Samples: 1K of event 'cpu-clock'\n",
      "# Event count (approx.): 436500000\n",
      "#\n",
      "# Overhead  Command        Shared Object      Symbol                    \n",
      "# ........  .............  .................  ..........................\n",
      "#\n",
      "    61.51%  work_hard.exe  work_hard.exe      [.] work_hard_1\n",
      "    37.97%  work_hard.exe  work_hard.exe      [.] work_hard_2\n",
      "     0.17%  work_hard.exe  [kernel.kallsyms]  [k] 0xffffffff91a00070\n",
      "     0.06%  work_hard.exe  [e1000]            [k] e1000_alloc_rx_buffers\n",
      "     0.06%  work_hard.exe  [e1000]            [k] e1000_clean\n",
      "     0.06%  work_hard.exe  [kernel.kallsyms]  [k] 0xffffffff90e0362c\n",
      "     0.06%  work_hard.exe  [kernel.kallsyms]  [k] 0xffffffff90eb772b\n",
      "     0.06%  work_hard.exe  [kernel.kallsyms]  [k] 0xffffffff9102af8e\n",
      "     0.06%  work_hard.exe  [kernel.kallsyms]  [k] 0xffffffff9104a9c0\n",
      "\n",
      "\n",
      "#\n",
      "# (Cannot load tips.txt file, please install perf!)\n",
      "#\n"
     ]
    }
   ],
   "source": [
    "# компилируем как обычно и запускаем с perf record и потом смотрим результаты\n",
    "!gcc work_hard.cpp -o work_hard.exe\n",
    "!echo $PASSWORD | sudo -S perf record ./work_hard.exe 2>&1 > perf.log\n",
    "!echo $PASSWORD | sudo -S chmod 0666 perf.data\n",
    "!perf report | cat"
   ]
  },
  {
   "cell_type": "markdown",
   "metadata": {},
   "source": [
    "Есть еще вариант посчитать количество выполненных программой/функцией инструкций. Оно не всегда хорошо коррелирует со временем выполнения, зато является стабильным значением от запуска к запуску.\n",
    "Здесь приводить способ не буду, если интересно, связывайтесь со мной отдельно :)"
   ]
  },
  {
   "cell_type": "markdown",
   "metadata": {},
   "source": [
    "### Примеры использования для поиска UB (undefined behaviour)"
   ]
  },
  {
   "cell_type": "code",
   "execution_count": 133,
   "metadata": {},
   "outputs": [],
   "source": [
    "%%cpp ub.c\n",
    "\n",
    "int main(int argc, char** argv) {\n",
    "    return -argc << 31;\n",
    "}"
   ]
  },
  {
   "cell_type": "code",
   "execution_count": 137,
   "metadata": {},
   "outputs": [
    {
     "name": "stdout",
     "output_type": "stream",
     "text": [
      "\u001b[1mub.c:4:18:\u001b[1m\u001b[31m runtime error: \u001b[1m\u001b[0m\u001b[1mleft shift of negative value -1\u001b[1m\u001b[0m\r\n"
     ]
    }
   ],
   "source": [
    "# компилируем с санитайзером и запускаем как обычно (семинарист рекомендует)\n",
    "# к сожалению у меня ни gcc, ни g++ не работают с -fsanitize=undefined\n",
    "# а разбираться не хочется, поэтому clang\n",
    "!clang -fsanitize=undefined ub.c -o ub.exe\n",
    "!./ub.exe"
   ]
  },
  {
   "cell_type": "code",
   "execution_count": null,
   "metadata": {},
   "outputs": [],
   "source": []
  },
  {
   "cell_type": "markdown",
   "metadata": {},
   "source": [
    "## MMAP\n",
    "\n",
    "(Копия [ридинга от Яковлева](https://github.com/victor-yacovlev/mipt-diht-caos/tree/master/practice/mmap))\n",
    "\n",
    "```c\n",
    "#include <sys/mman.h>\n",
    "\n",
    "void *mmap(\n",
    "    void *addr,    /* рекомендуемый адрес отображения */\n",
    "    size_t length, /* размер отображения */\n",
    "    int prot,      /* аттрибуты доступа */\n",
    "    int flags,     /* флаги совместного отображения */\n",
    "    int fd,        /* файловый декскриптор фала */\n",
    "    off_t offset   /* смещение относительно начала файла */\n",
    "  );\n",
    "\n",
    "int munmap(void *addr, size_t length) /* освободить отображение */\n",
    "```\n",
    "\n",
    "Системный вызов `mmap` предназначен для создания в виртуальном адресном пространстве процесса доступной области по определенному адресу. Эта область может быть как связана с определенным файлом (ранее открытым), так и располагаться в оперативной памяти. Второй способ использования обычно реализуется в функциях `malloc`/`calloc`.\n",
    "\n",
    "Память можно выделять только постранично. Для большинства архитектур размер одной страницы равен 4Кб, хотя процессоры архитектуры x86_64 поддерживают страницы большего размера: 2Мб и 1Гб.\n",
    "\n",
    "В общем случае, никогда нельзя полагаться на то, что размер страницы равен 4096 байт. Его можно узнать с помощью команды `getconf` или функции `sysconf`:\n",
    "\n",
    "```bash\n",
    "# Bash\n",
    "> getconf PAGE_SIZE\n",
    "4096\n",
    "```\n",
    "```c\n",
    "/* Си */\n",
    "#include <unistd.h>\n",
    "long page_size = sysconf(_SC_PAGE_SIZE);\n",
    "```\n",
    "\n",
    "Параметр `offset` (если используется файл) обязан быть кратным размеру страницы; параметр `length` - нет, но ядро системы округляет это значение до размера страницы в большую сторону. Параметр `addr` (рекомендуемый адрес) может быть равным `NULL`, - в этом случае ядро само назначает адрес в виртуальном адресном пространстве.\n",
    "\n",
    "При использовании отображения на файл, параметр `length` имеет значение длины отображаемых данных; в случае, если размер файла меньше размера страницы, или отображается его последний небольшой фрагмент, то оставшаяся часть страницы заполняется нулями.\n",
    "\n",
    "Страницы памяти могут флаги аттрибутов доступа:\n",
    " * чтение `PROT_READ`;\n",
    " * запись `PROT_WRITE`;\n",
    " * выполнение `PROT_EXE`;\n",
    " * ничего `PROT_NONE`.\n",
    "\n",
    "В случае использования отображения на файл, он должен быть открыт на чтение или запись в соответствии с требуемыми аттрибутами доступа.\n",
    "\n",
    "Флаги `mmap`:\n",
    " * `MAP_FIXED` - требует, чтобы память была выделена по указаному в первом аргументе адресу; без этого флага ядро может выбрать адрес, наиболее близкий к указанному.\n",
    " * `MAP_ANONYMOUS` - выделить страницы в оперативной памяти, а не связать с файлом.\n",
    " * `MAP_SHARED` - выделить страницы, разделяемые с другими процессами; в случае с отображением на файл - синхронизировать изменения так, чтобы они были доступны другим процессам.\n",
    " * `MAP_PRIVATE` - в противоположность `MAP_SHARED`, не делать отображение доступным другим процессам. В случае отображения на файл, он доступен для чтения, а созданные процессом изменения, в файл не сохраняются."
   ]
  },
  {
   "cell_type": "code",
   "execution_count": null,
   "metadata": {},
   "outputs": [],
   "source": []
  },
  {
   "cell_type": "markdown",
   "metadata": {},
   "source": [
    "Пример с mmap. Простенькая программа, делающая циклический сдвиг (как цифры) второго символа в файле."
   ]
  },
  {
   "cell_type": "code",
   "execution_count": 144,
   "metadata": {},
   "outputs": [
    {
     "data": {
      "text/markdown": [
       "Run: `gcc mmap_example.c -o mmap_example.exe`"
      ],
      "text/plain": [
       "<IPython.core.display.Markdown object>"
      ]
     },
     "metadata": {},
     "output_type": "display_data"
    },
    {
     "data": {
      "text/markdown": [
       "Run: `echo \"000\" > buf.txt && ./mmap_example.exe && cat buf.txt`"
      ],
      "text/plain": [
       "<IPython.core.display.Markdown object>"
      ]
     },
     "metadata": {},
     "output_type": "display_data"
    },
    {
     "name": "stdout",
     "output_type": "stream",
     "text": [
      "page size = 4096\r\n",
      "010\r\n"
     ]
    },
    {
     "data": {
      "text/markdown": [
       "Run: `echo \"79\" > buf.txt && ./mmap_example.exe && cat buf.txt`"
      ],
      "text/plain": [
       "<IPython.core.display.Markdown object>"
      ]
     },
     "metadata": {},
     "output_type": "display_data"
    },
    {
     "name": "stdout",
     "output_type": "stream",
     "text": [
      "page size = 4096\r\n",
      "70\r\n"
     ]
    },
    {
     "data": {
      "text/markdown": [
       "Run: `echo \"xxx\" > buf.txt && ./mmap_example.exe && cat buf.txt`"
      ],
      "text/plain": [
       "<IPython.core.display.Markdown object>"
      ]
     },
     "metadata": {},
     "output_type": "display_data"
    },
    {
     "name": "stdout",
     "output_type": "stream",
     "text": [
      "page size = 4096\r\n",
      "x0x\r\n"
     ]
    }
   ],
   "source": [
    "%%cpp mmap_example.c\n",
    "%run gcc mmap_example.c -o mmap_example.exe\n",
    "%run echo \"000\" > buf.txt && ./mmap_example.exe && cat buf.txt\n",
    "%run echo \"79\" > buf.txt && ./mmap_example.exe && cat buf.txt\n",
    "%run echo \"xxx\" > buf.txt && ./mmap_example.exe && cat buf.txt\n",
    "\n",
    "#include <stdio.h>\n",
    "#include <stdlib.h>\n",
    "#include <unistd.h>\n",
    "#include <sys/types.h>\n",
    "#include <sys/stat.h>\n",
    "#include <sys/mman.h>\n",
    "#include <fcntl.h>\n",
    "#include <assert.h>\n",
    "\n",
    "int PAGE_SIZE = 0;\n",
    "\n",
    "int get_page_size() {\n",
    "    return PAGE_SIZE = PAGE_SIZE ?: sysconf(_SC_PAGE_SIZE);\n",
    "}\n",
    "\n",
    "int upper_round_to_page_size(int sz) {\n",
    "    return (sz + get_page_size() - 1) / get_page_size() * get_page_size();\n",
    "}\n",
    "\n",
    "int main() {\n",
    "    printf(\"page size = %d\\n\", get_page_size());\n",
    "    int fd = open(\"buf.txt\", O_RDWR);\n",
    "    struct stat s;\n",
    "    assert(fstat(fd, &s) == 0);\n",
    "    \n",
    "    void* mapped = mmap(\n",
    "        /* desired addr, addr = */ NULL, \n",
    "        /* length = */ upper_round_to_page_size(s.st_size), \n",
    "        /* access attributes, prot = */ PROT_READ | PROT_WRITE,\n",
    "        /* flags = */ MAP_SHARED,\n",
    "        /* fd = */ fd,\n",
    "        /* offset in file, offset = */ 0\n",
    "    );\n",
    "    assert(mapped);\n",
    "    \n",
    "    char* buf = mapped;\n",
    "    \n",
    "    assert(s.st_size >= 2);\n",
    "    buf[1] = ('0' <= buf[1] && buf[1] <= '9') ? ((buf[1] - '0' + 1) % 10 + '0') : '0';\n",
    "    \n",
    "    assert(munmap(\n",
    "        /* mapped addr, addr = */ mapped, \n",
    "        /* length = */ upper_round_to_page_size(s.st_size)\n",
    "    ) == 0);\n",
    "    return 0;\n",
    "}"
   ]
  },
  {
   "cell_type": "markdown",
   "metadata": {},
   "source": [
    "Еще один пример по мотивам advanced-1. Интерпретируем байты как функцию и выполняем."
   ]
  },
  {
   "cell_type": "code",
   "execution_count": 197,
   "metadata": {},
   "outputs": [
    {
     "data": {
      "text/markdown": [
       "Run: `gcc -g -fPIC func.c -c -o func.o`"
      ],
      "text/plain": [
       "<IPython.core.display.Markdown object>"
      ]
     },
     "metadata": {},
     "output_type": "display_data"
    },
    {
     "data": {
      "text/markdown": [
       "Run: `objdump -F -d func.o | grep my_func`"
      ],
      "text/plain": [
       "<IPython.core.display.Markdown object>"
      ]
     },
     "metadata": {},
     "output_type": "display_data"
    },
    {
     "name": "stdout",
     "output_type": "stream",
     "text": [
      "0000000000000000 <my_func> (File Offset: 0x40):\r\n"
     ]
    }
   ],
   "source": [
    "%%cpp func.c\n",
    "%run gcc -g -fPIC func.c -c -o func.o \n",
    "%run objdump -F -d func.o | grep my_func\n",
    "\n",
    "int my_func(int a, int b) {\n",
    "    return a + b + 1;\n",
    "}"
   ]
  },
  {
   "cell_type": "markdown",
   "metadata": {},
   "source": [
    "Замечаем, что `File Offset: 0x40`. То есть в объектном файле функция лежит начиная с `0x40` позиции."
   ]
  },
  {
   "cell_type": "code",
   "execution_count": 192,
   "metadata": {},
   "outputs": [
    {
     "data": {
      "text/markdown": [
       "Run: `gcc -g mmap_exec_example.c -o mmap_exec_example.exe`"
      ],
      "text/plain": [
       "<IPython.core.display.Markdown object>"
      ]
     },
     "metadata": {},
     "output_type": "display_data"
    },
    {
     "name": "stdout",
     "output_type": "stream",
     "text": [
      "\u001b[01m\u001b[Kmmap_exec_example.c:\u001b[m\u001b[K In function ‘\u001b[01m\u001b[Kmain\u001b[m\u001b[K’:\r\n",
      "\u001b[01m\u001b[Kmmap_exec_example.c:42:29:\u001b[m\u001b[K \u001b[01;35m\u001b[Kwarning: \u001b[m\u001b[Kinitialization from incompatible pointer type [-Wincompatible-pointer-types]\r\n",
      "     int (*func)(int, int) = ((char*)mapped) + 0x40;\r\n",
      "\u001b[01;32m\u001b[K                             ^\u001b[m\u001b[K\r\n"
     ]
    },
    {
     "data": {
      "text/markdown": [
       "Run: `./mmap_exec_example.exe`"
      ],
      "text/plain": [
       "<IPython.core.display.Markdown object>"
      ]
     },
     "metadata": {},
     "output_type": "display_data"
    },
    {
     "name": "stdout",
     "output_type": "stream",
     "text": [
      "file size = 2680 / 4096\r\n",
      "func(1, 1) = 3\r\n",
      "func(1, 1) = 111\r\n",
      "func(1, 1) = 5041\r\n"
     ]
    }
   ],
   "source": [
    "%%cpp mmap_exec_example.c\n",
    "%run gcc -g mmap_exec_example.c -o mmap_exec_example.exe\n",
    "%run ./mmap_exec_example.exe\n",
    "\n",
    "#include <stdio.h>\n",
    "#include <stdlib.h>\n",
    "#include <unistd.h>\n",
    "#include <sys/types.h>\n",
    "#include <sys/stat.h>\n",
    "#include <sys/mman.h>\n",
    "#include <fcntl.h>\n",
    "#include <assert.h>\n",
    "\n",
    "int PAGE_SIZE = 0;\n",
    "\n",
    "int get_page_size() {\n",
    "    return PAGE_SIZE = PAGE_SIZE ?: sysconf(_SC_PAGE_SIZE);\n",
    "}\n",
    "\n",
    "int upper_round_to_page_size(int sz) {\n",
    "    return (sz + get_page_size() - 1) / get_page_size() * get_page_size();\n",
    "}\n",
    "\n",
    "int main() {\n",
    "    int fd = open(\"func.o\", O_RDWR);\n",
    "    struct stat s;\n",
    "    assert(fstat(fd, &s) == 0);\n",
    "    \n",
    "    printf(\"file size = %d / %d\\n\", (int)s.st_size, upper_round_to_page_size(s.st_size));\n",
    "    \n",
    "    void* mapped = mmap(\n",
    "        /* desired addr, addr = */ NULL, \n",
    "        /* length = */ upper_round_to_page_size(s.st_size), \n",
    "        /* access attributes, prot = */ PROT_READ | PROT_EXEC | PROT_WRITE, // обратите внимание на PROT_EXEC\n",
    "        /* flags = */ MAP_SHARED,\n",
    "        /* fd = */ fd,\n",
    "        /* offset in file, offset = */ 0\n",
    "    );\n",
    "    if (mapped == MAP_FAILED) {\n",
    "        perror(\"Can't mmap\");\n",
    "        return -1;\n",
    "    }\n",
    " \n",
    "    int (*func)(int, int) = ((char*)mapped) + 0x40; // 0x40 - тот самый оффсет\n",
    "   \n",
    "    printf(\"func(1, 1) = %d\\n\", func(1, 1));\n",
    "    printf(\"func(1, 1) = %d\\n\", func(10, 100));\n",
    "    printf(\"func(1, 1) = %d\\n\", func(40, 5000));\n",
    "    \n",
    "    assert(munmap(\n",
    "        /* mapped addr, addr = */ mapped, \n",
    "        /* length = */ upper_round_to_page_size(s.st_size)\n",
    "    ) == 0);\n",
    "    return 0;\n",
    "}"
   ]
  },
  {
   "cell_type": "code",
   "execution_count": null,
   "metadata": {},
   "outputs": [],
   "source": []
  },
  {
   "cell_type": "code",
   "execution_count": null,
   "metadata": {},
   "outputs": [],
   "source": []
  },
  {
   "cell_type": "code",
   "execution_count": null,
   "metadata": {},
   "outputs": [],
   "source": []
  }
 ],
 "metadata": {
  "kernelspec": {
   "display_name": "Python 3",
   "language": "python",
   "name": "python3"
  },
  "language_info": {
   "codemirror_mode": {
    "name": "ipython",
    "version": 3
   },
   "file_extension": ".py",
   "mimetype": "text/x-python",
   "name": "python",
   "nbconvert_exporter": "python",
   "pygments_lexer": "ipython3",
   "version": "3.5.2"
  }
 },
 "nbformat": 4,
 "nbformat_minor": 2
}
