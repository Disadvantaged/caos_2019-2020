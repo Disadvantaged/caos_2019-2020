{
 "cells": [
  {
   "cell_type": "code",
   "execution_count": 218,
   "metadata": {
    "scrolled": true
   },
   "outputs": [
    {
     "name": "stdout",
     "output_type": "stream",
     "text": [
      "Highlevel dirs: ['../sem10-file-attributes', '../sem11-mmap-instrumentation', '../sem12-fork-exec-pipe', '../sem13-signal', '../sem14-fifo-proc', '../sem15-ptrace', '../sem16-fcntl-dup-pipe', '../sem17-sockets-tcp-udp', '../sem18-multiplexing', '../sem19-pthread']\n"
     ]
    }
   ],
   "source": [
    "import glob\n",
    "import os\n",
    "import subprocess\n",
    "\n",
    "highlevel_dirs = sum([\n",
    "    #[\"../tools\"], \n",
    "    #sorted(glob.glob(\"../sem16*\")),\n",
    "    sorted(glob.glob(\"../sem1*\")),\n",
    "], [])\n",
    "\n",
    "print(\"Highlevel dirs:\", highlevel_dirs)"
   ]
  },
  {
   "cell_type": "code",
   "execution_count": null,
   "metadata": {},
   "outputs": [
    {
     "name": "stdout",
     "output_type": "stream",
     "text": [
      "../sem10-file-attributes ['../sem10-file-attributes/file-attrib.ipynb']\n",
      "[NbConvertApp] Converting notebook ../sem10-file-attributes/file-attrib.ipynb to markdown\n",
      "[NbConvertApp] Writing 16319 bytes to ../sem10-file-attributes/README.md\n",
      "../sem11-mmap-instrumentation ['../sem11-mmap-instrumentation/mmap_and_instrumentation.ipynb']\n",
      "[NbConvertApp] Converting notebook ../sem11-mmap-instrumentation/mmap_and_instrumentation.ipynb to markdown\n",
      "[NbConvertApp] Writing 23442 bytes to ../sem11-mmap-instrumentation/README.md\n",
      "../sem12-fork-exec-pipe ['../sem12-fork-exec-pipe/fork-pipe-exec.ipynb']\n",
      "[NbConvertApp] Converting notebook ../sem12-fork-exec-pipe/fork-pipe-exec.ipynb to markdown\n",
      "[NbConvertApp] Writing 20684 bytes to ../sem12-fork-exec-pipe/README.md\n",
      "../sem13-signal ['../sem13-signal/signal.ipynb']\n",
      "[NbConvertApp] Converting notebook ../sem13-signal/signal.ipynb to markdown\n",
      "[NbConvertApp] Writing 26542 bytes to ../sem13-signal/README.md\n",
      "../sem14-fifo-proc ['../sem14-fifo-proc/fifo-proc.ipynb']\n",
      "[NbConvertApp] Converting notebook ../sem14-fifo-proc/fifo-proc.ipynb to markdown\n",
      "[NbConvertApp] Writing 56508 bytes to ../sem14-fifo-proc/README.md\n",
      "../sem15-ptrace ['../sem15-ptrace/ptrace.ipynb']\n",
      "[NbConvertApp] Converting notebook ../sem15-ptrace/ptrace.ipynb to markdown\n",
      "[NbConvertApp] Writing 15768 bytes to ../sem15-ptrace/README.md\n",
      "../sem16-fcntl-dup-pipe ['../sem16-fcntl-dup-pipe/fcntl-dup-pipe.ipynb']\n",
      "[NbConvertApp] Converting notebook ../sem16-fcntl-dup-pipe/fcntl-dup-pipe.ipynb to markdown\n",
      "[NbConvertApp] Writing 109670 bytes to ../sem16-fcntl-dup-pipe/README.md\n",
      "../sem17-sockets-tcp-udp ['../sem17-sockets-tcp-udp/sockets-tcp-udp.ipynb']\n",
      "[NbConvertApp] Converting notebook ../sem17-sockets-tcp-udp/sockets-tcp-udp.ipynb to markdown\n",
      "[NbConvertApp] Writing 58316 bytes to ../sem17-sockets-tcp-udp/README.md\n",
      "../sem18-multiplexing ['../sem18-multiplexing/epoll-poll-select-linuxaio.ipynb']\n",
      "[NbConvertApp] Converting notebook ../sem18-multiplexing/epoll-poll-select-linuxaio.ipynb to markdown\n",
      "[NbConvertApp] Writing 35456 bytes to ../sem18-multiplexing/README.md\n",
      "../sem19-pthread ['../sem19-pthread/pthread.ipynb']\n",
      "[NbConvertApp] Converting notebook ../sem19-pthread/pthread.ipynb to markdown\n"
     ]
    }
   ],
   "source": [
    "\n",
    "def convert(n, d):\n",
    "    get_ipython().system(\"jupyter nbconvert {} --to markdown --output {}\".format(n, d))\n",
    "    #subprocess.check_call([\"jupyter\", \"nbconvert\", n, \"--to\", \"markdown\", \"--output\", d])\n",
    "\n",
    "for subdir in highlevel_dirs:\n",
    "    notebooks = glob.glob(subdir + \"/*.ipynb\")\n",
    "    print(subdir, notebooks)\n",
    "    for m in glob.glob(subdir + \"/*.md\"):\n",
    "        os.remove(m)\n",
    "    if len(notebooks) == 1:\n",
    "        convert(notebooks[0], \"README\")\n",
    "    else:\n",
    "        for n in notebooks:\n",
    "            convert(n, os.path.basename(n.replace(\".ipynb\", \"\")))\n",
    "        "
   ]
  },
  {
   "cell_type": "code",
   "execution_count": null,
   "metadata": {},
   "outputs": [],
   "source": []
  },
  {
   "cell_type": "code",
   "execution_count": null,
   "metadata": {},
   "outputs": [],
   "source": [
    "import re\n",
    "\n",
    "def basic_improve(fname):\n",
    "    with open(fname, \"r\") as f:\n",
    "        r = f.read()\n",
    "    for b in [\"\\x00\", \"\\x1B\", \"\\x08\"]:\n",
    "        r = r.replace(b, \"\")\n",
    "    with open(fname, \"w\") as f:\n",
    "        f.write(r)\n",
    "    get_ipython().system(\"dos2unix {}\".format(fname))\n",
    "\n",
    "def improve_md(fname):\n",
    "    with open(fname, \"r\") as f:\n",
    "        r = f.read()\n",
    "    r = r.replace(\"```python\\n%%cpp\", \"```cpp\\n%%cpp\")\n",
    "    r = r.replace('\\n', \"SUPER_SLASH\" + \"_N_REPLACER\")\n",
    "    r = re.sub(r'\\<\\!--MD_BEGIN_FILTER--\\>.*?\\<\\!--MD_END_FILTER--\\>', \"\", r)\n",
    "    r = re.sub(r'(\\#SET_UP_MAGIC_BEGIN.*?\\#SET_UP_MAGIC_END)', \"<too much code>\", r)\n",
    "    r = r.replace(\"SUPER_SLASH\" + \"_N_REPLACER\", '\\n')\n",
    "    \n",
    "    def file_repl(matchobj, path=os.path.dirname(fname)):\n",
    "        fname = os.path.join(path, matchobj.group(1))\n",
    "        if fname.find(\"__FILE__\") == -1:\n",
    "            with open(fname, \"r\") as f:\n",
    "                return \"\\n```\\n\" + f.read() + \"\\n```\\n\"\n",
    "    \n",
    "    r = r.replace(\"</td>\", \"\")\n",
    "    r = r.replace(\"</tr>\", \"\")\n",
    "    \n",
    "    r = re.sub(r'\\<\\!--MD_FROM_FILE (.*?) --\\>', file_repl, r)\n",
    "    with open(fname, \"w\") as f:\n",
    "        f.write(r)\n",
    "        \n",
    "def improve_file(fname):\n",
    "    basic_improve(fname)\n",
    "    if fname.endswith(\".md\"):\n",
    "        improve_md(fname)\n"
   ]
  },
  {
   "cell_type": "code",
   "execution_count": null,
   "metadata": {},
   "outputs": [],
   "source": [
    "for sfx in [\".ipynb\", \".md\"]:\n",
    "    for hdir in highlevel_dirs:\n",
    "        for fname in glob.glob(\"./{}/*\".format(hdir) + sfx):\n",
    "            improve_file(fname)"
   ]
  },
  {
   "cell_type": "code",
   "execution_count": null,
   "metadata": {
    "scrolled": false
   },
   "outputs": [],
   "source": [
    "cmds = []\n",
    "add_cmd = \"git add --ignore-errors \"\n",
    "add_cmd_f = \"git add --ignore-errors -f \"\n",
    "for subdir in highlevel_dirs:\n",
    "    for sfx in [\".ipynb\", \".md\", \".c\", \".cpp\"]:\n",
    "        cmds.append(add_cmd + \" {}/*{}\".format(subdir, sfx))\n",
    "    cmds.append(add_cmd_f + \" -f {}/bash_popen_tmp/*.html\".format(subdir))\n",
    "    cmds.append(add_cmd_f + \" -f {}/interactive_launcher_tmp/*.log\".format(subdir))\n",
    "    \n",
    "def execute_cmd(cmd):\n",
    "    print(\">\", cmd)\n",
    "    get_ipython().system(cmd)\n",
    "    \n",
    "for cmd in cmds:\n",
    "    execute_cmd(cmd)\n",
    "execute_cmd(\"git add -u\")\n",
    "execute_cmd(\"git commit -m 'yet another update'\")\n",
    "execute_cmd(\"git push origin master\")"
   ]
  },
  {
   "cell_type": "code",
   "execution_count": null,
   "metadata": {},
   "outputs": [],
   "source": []
  },
  {
   "cell_type": "code",
   "execution_count": null,
   "metadata": {},
   "outputs": [],
   "source": []
  },
  {
   "cell_type": "code",
   "execution_count": null,
   "metadata": {},
   "outputs": [],
   "source": []
  }
 ],
 "metadata": {
  "kernelspec": {
   "display_name": "Python 3",
   "language": "python",
   "name": "python3"
  },
  "language_info": {
   "codemirror_mode": {
    "name": "ipython",
    "version": 3
   },
   "file_extension": ".py",
   "mimetype": "text/x-python",
   "name": "python",
   "nbconvert_exporter": "python",
   "pygments_lexer": "ipython3",
   "version": "3.5.2"
  }
 },
 "nbformat": 4,
 "nbformat_minor": 2
}
