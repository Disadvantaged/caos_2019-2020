{
 "cells": [
  {
   "cell_type": "code",
   "execution_count": 26,
   "metadata": {
    "scrolled": true
   },
   "outputs": [
    {
     "name": "stdout",
     "output_type": "stream",
     "text": [
      "Highlevel dirs: ['../sem20-synchronizing']\n"
     ]
    }
   ],
   "source": [
    "import glob\n",
    "import os\n",
    "import subprocess\n",
    "\n",
    "highlevel_dirs = sum([\n",
    "    #[\"../tools\"], \n",
    "    #sorted(glob.glob(\"../sem16*\")),\n",
    "    sorted(glob.glob(\"../sem20*\")),\n",
    "], [])\n",
    "\n",
    "print(\"Highlevel dirs:\", highlevel_dirs)"
   ]
  },
  {
   "cell_type": "code",
   "execution_count": 27,
   "metadata": {},
   "outputs": [
    {
     "name": "stdout",
     "output_type": "stream",
     "text": [
      "../sem20-synchronizing ['../sem20-synchronizing/quiz.ipynb', '../sem20-synchronizing/synchronizing.ipynb']\n",
      "[NbConvertApp] Converting notebook ../sem20-synchronizing/quiz.ipynb to markdown\n",
      "[NbConvertApp] Writing 30783 bytes to ../sem20-synchronizing/quiz.md\n",
      "[NbConvertApp] Converting notebook ../sem20-synchronizing/synchronizing.ipynb to markdown\n",
      "[NbConvertApp] Writing 25477 bytes to ../sem20-synchronizing/synchronizing.md\n"
     ]
    }
   ],
   "source": [
    "\n",
    "def convert(n, d):\n",
    "    get_ipython().system(\"jupyter nbconvert {} --to markdown --output {}\".format(n, d))\n",
    "    #subprocess.check_call([\"jupyter\", \"nbconvert\", n, \"--to\", \"markdown\", \"--output\", d])\n",
    "\n",
    "for subdir in highlevel_dirs:\n",
    "    notebooks = glob.glob(subdir + \"/*.ipynb\")\n",
    "    print(subdir, notebooks)\n",
    "    for m in glob.glob(subdir + \"/*.md\"):\n",
    "        os.remove(m)\n",
    "    if len(notebooks) == 1:\n",
    "        convert(notebooks[0], \"README\")\n",
    "    else:\n",
    "        for n in notebooks:\n",
    "            convert(n, os.path.basename(n.replace(\".ipynb\", \"\")))\n",
    "        "
   ]
  },
  {
   "cell_type": "code",
   "execution_count": null,
   "metadata": {},
   "outputs": [],
   "source": []
  },
  {
   "cell_type": "code",
   "execution_count": 28,
   "metadata": {},
   "outputs": [],
   "source": [
    "import re\n",
    "\n",
    "def basic_improve(fname):\n",
    "    with open(fname, \"r\") as f:\n",
    "        r = f.read()\n",
    "    for b in [\"\\x00\", \"\\x1B\", \"\\x08\"]:\n",
    "        r = r.replace(b, \"\")\n",
    "    with open(fname, \"w\") as f:\n",
    "        f.write(r)\n",
    "    get_ipython().system(\"dos2unix {}\".format(fname))\n",
    "\n",
    "def improve_md(fname):\n",
    "    with open(fname, \"r\") as f:\n",
    "        r = f.read()\n",
    "    r = r.replace(\"```python\\n%%cpp\", \"```cpp\\n%%cpp\")\n",
    "    r = r.replace('\\n', \"SUPER_SLASH\" + \"_N_REPLACER\")\n",
    "    r = re.sub(r'\\<\\!--MD_BEGIN_FILTER--\\>.*?\\<\\!--MD_END_FILTER--\\>', \"\", r)\n",
    "    r = re.sub(r'(\\#SET_UP_MAGIC_BEGIN.*?\\#SET_UP_MAGIC_END)', \"<too much code>\", r)\n",
    "    r = r.replace(\"SUPER_SLASH\" + \"_N_REPLACER\", '\\n')\n",
    "    \n",
    "    def file_repl(matchobj, path=os.path.dirname(fname)):\n",
    "        fname = os.path.join(path, matchobj.group(1))\n",
    "        if fname.find(\"__FILE__\") == -1:\n",
    "            with open(fname, \"r\") as f:\n",
    "                return \"\\n```\\n\" + f.read() + \"\\n```\\n\"\n",
    "    \n",
    "    r = r.replace(\"</td>\", \"\")\n",
    "    r = r.replace(\"</tr>\", \"\")\n",
    "    \n",
    "    r = re.sub(r'\\<\\!--MD_FROM_FILE (.*?) --\\>', file_repl, r)\n",
    "    with open(fname, \"w\") as f:\n",
    "        f.write(r)\n",
    "        \n",
    "def improve_file(fname):\n",
    "    basic_improve(fname)\n",
    "    if fname.endswith(\".md\"):\n",
    "        improve_md(fname)\n"
   ]
  },
  {
   "cell_type": "code",
   "execution_count": 29,
   "metadata": {},
   "outputs": [
    {
     "name": "stdout",
     "output_type": "stream",
     "text": [
      "dos2unix: converting file ./../sem20-synchronizing/quiz.ipynb to Unix format ...\n",
      "dos2unix: converting file ./../sem20-synchronizing/synchronizing.ipynb to Unix format ...\n",
      "dos2unix: converting file ./../sem20-synchronizing/quiz.md to Unix format ...\n",
      "dos2unix: converting file ./../sem20-synchronizing/synchronizing.md to Unix format ...\n"
     ]
    }
   ],
   "source": [
    "for sfx in [\".ipynb\", \".md\"]:\n",
    "    for hdir in highlevel_dirs:\n",
    "        for fname in glob.glob(\"./{}/*\".format(hdir) + sfx):\n",
    "            improve_file(fname)"
   ]
  },
  {
   "cell_type": "code",
   "execution_count": 25,
   "metadata": {
    "scrolled": false
   },
   "outputs": [
    {
     "name": "stdout",
     "output_type": "stream",
     "text": [
      "> git add --ignore-errors  ../sem19-pthread/*.ipynb\n",
      "warning: LF will be replaced by CRLF in sem19-pthread/pthread.ipynb.\n",
      "The file will have its original line endings in your working directory.\n",
      "> git add --ignore-errors  ../sem19-pthread/*.md\n",
      "warning: LF will be replaced by CRLF in sem19-pthread/README.md.\n",
      "The file will have its original line endings in your working directory.\n",
      "> git add --ignore-errors  ../sem19-pthread/*.c\n",
      "> git add --ignore-errors  ../sem19-pthread/*.cpp\n",
      "> git add --ignore-errors -f  -f ../sem19-pthread/bash_popen_tmp/*.html\n",
      "fatal: pathspec '../sem19-pthread/bash_popen_tmp/*.html' did not match any files\n",
      "> git add --ignore-errors -f  -f ../sem19-pthread/interactive_launcher_tmp/*.log\n",
      "fatal: pathspec '../sem19-pthread/interactive_launcher_tmp/*.log' did not match any files\n",
      "> git add -u\n",
      "warning: LF will be replaced by CRLF in tools/save_them_all.ipynb.\n",
      "The file will have its original line endings in your working directory.\n",
      "> git commit -m 'yet another update'\n",
      "warning: LF will be replaced by CRLF in tools/save_them_all.ipynb.\n",
      "The file will have its original line endings in your working directory.\n",
      "[master 4838b6d] yet another update\n",
      "warning: LF will be replaced by CRLF in tools/save_them_all.ipynb.\n",
      "The file will have its original line endings in your working directory.\n",
      " 1 file changed, 10 insertions(+), 70 deletions(-)\n",
      "> git push origin master\n",
      "Counting objects: 4, done.\n",
      "Compressing objects: 100% (4/4), done.\n",
      "Writing objects: 100% (4/4), 461 bytes | 0 bytes/s, done.\n",
      "Total 4 (delta 3), reused 0 (delta 0)\n",
      "remote: Resolving deltas: 100% (3/3), completed with 3 local objects.\u001b[K\n",
      "To git@github.com:yuri-pechatnov/caos_2019-2020.git\n",
      "   b00141d..4838b6d  master -> master\n"
     ]
    }
   ],
   "source": [
    "cmds = []\n",
    "add_cmd = \"git add --ignore-errors \"\n",
    "add_cmd_f = \"git add --ignore-errors -f \"\n",
    "for subdir in highlevel_dirs:\n",
    "    for sfx in [\".ipynb\", \".md\", \".c\", \".cpp\"]:\n",
    "        cmds.append(add_cmd + \" {}/*{}\".format(subdir, sfx))\n",
    "    cmds.append(add_cmd_f + \" -f {}/bash_popen_tmp/*.html\".format(subdir))\n",
    "    cmds.append(add_cmd_f + \" -f {}/interactive_launcher_tmp/*.log\".format(subdir))\n",
    "    \n",
    "def execute_cmd(cmd):\n",
    "    print(\">\", cmd)\n",
    "    get_ipython().system(cmd)\n",
    "    \n",
    "for cmd in cmds:\n",
    "    execute_cmd(cmd)\n",
    "execute_cmd(\"git add -u\")\n",
    "execute_cmd(\"git commit -m 'yet another update'\")\n",
    "execute_cmd(\"git push origin master\")"
   ]
  },
  {
   "cell_type": "code",
   "execution_count": null,
   "metadata": {},
   "outputs": [],
   "source": []
  },
  {
   "cell_type": "code",
   "execution_count": null,
   "metadata": {},
   "outputs": [],
   "source": []
  },
  {
   "cell_type": "code",
   "execution_count": null,
   "metadata": {},
   "outputs": [],
   "source": []
  }
 ],
 "metadata": {
  "kernelspec": {
   "display_name": "Python 3",
   "language": "python",
   "name": "python3"
  },
  "language_info": {
   "codemirror_mode": {
    "name": "ipython",
    "version": 3
   },
   "file_extension": ".py",
   "mimetype": "text/x-python",
   "name": "python",
   "nbconvert_exporter": "python",
   "pygments_lexer": "ipython3",
   "version": "3.5.2"
  }
 },
 "nbformat": 4,
 "nbformat_minor": 2
}
