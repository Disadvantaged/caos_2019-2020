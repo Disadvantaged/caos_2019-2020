{
 "cells": [
  {
   "cell_type": "code",
   "execution_count": 36,
   "metadata": {
    "scrolled": true
   },
   "outputs": [
    {
     "name": "stdout",
     "output_type": "stream",
     "text": [
      "Highlevel dirs: ['../sem20-synchronizing']\n"
     ]
    }
   ],
   "source": [
    "import glob\n",
    "import os\n",
    "import subprocess\n",
    "\n",
    "highlevel_dirs = sum([\n",
    "    #[\"../tools\"], \n",
    "    #sorted(glob.glob(\"../sem16*\")),\n",
    "    sorted(glob.glob(\"../sem20*\")),\n",
    "], [])\n",
    "\n",
    "print(\"Highlevel dirs:\", highlevel_dirs)"
   ]
  },
  {
   "cell_type": "code",
   "execution_count": 37,
   "metadata": {},
   "outputs": [
    {
     "name": "stdout",
     "output_type": "stream",
     "text": [
      "../sem20-synchronizing ['../sem20-synchronizing/quiz.ipynb', '../sem20-synchronizing/synchronizing.ipynb']\n",
      "[NbConvertApp] Converting notebook ../sem20-synchronizing/quiz.ipynb to markdown\n",
      "[NbConvertApp] Writing 34320 bytes to ../sem20-synchronizing/quiz.md\n",
      "[NbConvertApp] Converting notebook ../sem20-synchronizing/synchronizing.ipynb to markdown\n",
      "[NbConvertApp] Writing 30375 bytes to ../sem20-synchronizing/synchronizing.md\n"
     ]
    }
   ],
   "source": [
    "\n",
    "def convert(n, d):\n",
    "    get_ipython().system(\"jupyter nbconvert {} --to markdown --output {}\".format(n, d))\n",
    "    #subprocess.check_call([\"jupyter\", \"nbconvert\", n, \"--to\", \"markdown\", \"--output\", d])\n",
    "\n",
    "for subdir in highlevel_dirs:\n",
    "    notebooks = glob.glob(subdir + \"/*.ipynb\")\n",
    "    print(subdir, notebooks)\n",
    "    for m in glob.glob(subdir + \"/*.md\"):\n",
    "        os.remove(m)\n",
    "    if len(notebooks) == 1:\n",
    "        convert(notebooks[0], \"README\")\n",
    "    else:\n",
    "        for n in notebooks:\n",
    "            convert(n, os.path.basename(n.replace(\".ipynb\", \"\")))\n",
    "        "
   ]
  },
  {
   "cell_type": "code",
   "execution_count": null,
   "metadata": {},
   "outputs": [],
   "source": []
  },
  {
   "cell_type": "code",
   "execution_count": 38,
   "metadata": {},
   "outputs": [],
   "source": [
    "import re\n",
    "\n",
    "def basic_improve(fname):\n",
    "    with open(fname, \"r\") as f:\n",
    "        r = f.read()\n",
    "    for b in [\"\\x00\", \"\\x1B\", \"\\x08\"]:\n",
    "        r = r.replace(b, \"\")\n",
    "    with open(fname, \"w\") as f:\n",
    "        f.write(r)\n",
    "    get_ipython().system(\"dos2unix {}\".format(fname))\n",
    "\n",
    "def improve_md(fname):\n",
    "    with open(fname, \"r\") as f:\n",
    "        r = f.read()\n",
    "    r = r.replace(\"```python\\n%%cpp\", \"```cpp\\n%%cpp\")\n",
    "    r = r.replace('\\n', \"SUPER_SLASH\" + \"_N_REPLACER\")\n",
    "    r = re.sub(r'\\<\\!--MD_BEGIN_FILTER--\\>.*?\\<\\!--MD_END_FILTER--\\>', \"\", r)\n",
    "    r = re.sub(r'(\\#SET_UP_MAGIC_BEGIN.*?\\#SET_UP_MAGIC_END)', \"<too much code>\", r)\n",
    "    r = r.replace(\"SUPER_SLASH\" + \"_N_REPLACER\", '\\n')\n",
    "    \n",
    "    def file_repl(matchobj, path=os.path.dirname(fname)):\n",
    "        fname = os.path.join(path, matchobj.group(1))\n",
    "        if fname.find(\"__FILE__\") == -1:\n",
    "            with open(fname, \"r\") as f:\n",
    "                return \"\\n```\\n\" + f.read() + \"\\n```\\n\"\n",
    "    \n",
    "    r = r.replace(\"</td>\", \"\")\n",
    "    r = r.replace(\"</tr>\", \"\")\n",
    "    \n",
    "    r = re.sub(r'\\<\\!--MD_FROM_FILE (.*?) --\\>', file_repl, r)\n",
    "    with open(fname, \"w\") as f:\n",
    "        f.write(r)\n",
    "        \n",
    "def improve_file(fname):\n",
    "    basic_improve(fname)\n",
    "    if fname.endswith(\".md\"):\n",
    "        improve_md(fname)\n"
   ]
  },
  {
   "cell_type": "code",
   "execution_count": 39,
   "metadata": {},
   "outputs": [
    {
     "name": "stdout",
     "output_type": "stream",
     "text": [
      "dos2unix: converting file ./../sem20-synchronizing/quiz.ipynb to Unix format ...\n",
      "dos2unix: converting file ./../sem20-synchronizing/synchronizing.ipynb to Unix format ...\n",
      "dos2unix: converting file ./../sem20-synchronizing/quiz.md to Unix format ...\n",
      "dos2unix: converting file ./../sem20-synchronizing/synchronizing.md to Unix format ...\n"
     ]
    }
   ],
   "source": [
    "for sfx in [\".ipynb\", \".md\"]:\n",
    "    for hdir in highlevel_dirs:\n",
    "        for fname in glob.glob(\"./{}/*\".format(hdir) + sfx):\n",
    "            improve_file(fname)"
   ]
  },
  {
   "cell_type": "code",
   "execution_count": 42,
   "metadata": {
    "scrolled": false
   },
   "outputs": [
    {
     "name": "stdout",
     "output_type": "stream",
     "text": [
      "> git add --ignore-errors  ../sem20-synchronizing/*.ipynb\n",
      "> git add --ignore-errors  ../sem20-synchronizing/*.md\n",
      "> git add --ignore-errors  ../sem20-synchronizing/*.c\n",
      "> git add --ignore-errors  ../sem20-synchronizing/*.cpp\n",
      "> git add --ignore-errors -f  -f ../sem20-synchronizing/bash_popen_tmp/*.html\n",
      "fatal: pathspec '../sem20-synchronizing/bash_popen_tmp/*.html' did not match any files\n",
      "> git add --ignore-errors -f  -f ../sem20-synchronizing/interactive_launcher_tmp/*.log\n",
      "fatal: pathspec '../sem20-synchronizing/interactive_launcher_tmp/*.log' did not match any files\n",
      "> git add -u\n",
      "> git commit -m 'yet another update'\n",
      "On branch master\n",
      "Your branch is up-to-date with 'origin/master'.\n",
      "Untracked files:\n",
      "\t\u001b[31m../.DS_Store\u001b[m\n",
      "\t\u001b[31m../._.DS_Store\u001b[m\n",
      "\t\u001b[31m../sem05-asm-arm-addressing/call.s\u001b[m\n",
      "\t\u001b[31m../sem06-asm-x86/tmp.0\u001b[m\n",
      "\t\u001b[31m../sem09-low-level-io/a.txt\u001b[m\n",
      "\t\u001b[31m../sem09-low-level-io/b.txt\u001b[m\n",
      "\t\u001b[31m../sem09-low-level-io/linux_example_input_001.txt\u001b[m\n",
      "\t\u001b[31m../sem09-low-level-io/linux_file_hello_world.out\u001b[m\n",
      "\t\u001b[31m../sem09-low-level-io/sdfr.txt\u001b[m\n",
      "\t\u001b[31m../sem09-low-level-io/strange_example.in\u001b[m\n",
      "\t\u001b[31m../sem09-low-level-io/strange_example.out\u001b[m\n",
      "\t\u001b[31m../sem09-low-level-io/winapi_example_input_001.txt\u001b[m\n",
      "\t\u001b[31m../sem10-file-attributes/ata.txt\u001b[m\n",
      "\t\u001b[31m../sem10-file-attributes/have read permission\u001b[m\n",
      "\t\u001b[31m../sem10-file-attributes/stat_example\u001b[m\n",
      "\t\u001b[31m../sem10-file-attributes/tmp2/\u001b[m\n",
      "\t\u001b[31m../sem11-mmap-instrumentation/buf.txt\u001b[m\n",
      "\t\u001b[31m../sem11-mmap-instrumentation/out.txt\u001b[m\n",
      "\t\u001b[31m../sem11-mmap-instrumentation/perf.data\u001b[m\n",
      "\t\u001b[31m../sem11-mmap-instrumentation/perf.data.old\u001b[m\n",
      "\t\u001b[31m../sem11-mmap-instrumentation/perf.log\u001b[m\n",
      "\t\u001b[31m../sem12-fork-exec-pipe/out.txt\u001b[m\n",
      "\t\u001b[31m../sem13-signal/core\u001b[m\n",
      "\t\u001b[31m../sem14-fifo-proc/hello\u001b[m\n",
      "\t\u001b[31m\"../sem14-fifo-proc/hello.html\\\\\"\u001b[m\n",
      "\t\u001b[31m../sem14-fifo-proc/hello_finished\u001b[m\n",
      "\t\u001b[31m../sem14-fifo-proc/unex.txt\u001b[m\n",
      "\t\u001b[31m../sem16-fcntl-dup-pipe/._16.ipynb\u001b[m\n",
      "\t\u001b[31m../sem16-fcntl-dup-pipe/fcntl_flags.err\u001b[m\n",
      "\t\u001b[31m../sem16-fcntl-dup-pipe/fcntl_open_flags.1\u001b[m\n",
      "\t\u001b[31m../sem16-fcntl-dup-pipe/fcntl_open_flags.2\u001b[m\n",
      "\t\u001b[31m../sem16-fcntl-dup-pipe/fcntl_open_flags.err\u001b[m\n",
      "\t\u001b[31m../sem16-fcntl-dup-pipe/out.txt\u001b[m\n",
      "\t\u001b[31m../sem17-sockets-tcp-udp/._17.ipynb\u001b[m\n",
      "\t\u001b[31m../sem17-sockets-tcp-udp/._README.md\u001b[m\n",
      "\t\u001b[31m../sem17-sockets-tcp-udp/df.cpp\u001b[m\n",
      "\t\u001b[31m../sem18-multiplexing/.DS_Store\u001b[m\n",
      "\t\u001b[31m../sem18-multiplexing/._.DS_Store\u001b[m\n",
      "\t\u001b[31m../sem18-multiplexing/._18.ipynb\u001b[m\n",
      "\t\u001b[31m../sem18-multiplexing/._18.md\u001b[m\n",
      "\t\u001b[31m../sem18-multiplexing/._README (1).md\u001b[m\n",
      "\t\u001b[31m../sem18-multiplexing/diff\u001b[m\n",
      "\t\u001b[31m../sem18-multiplexing/diff.patch\u001b[m\n",
      "\t\u001b[31m../sem18-multiplexing/nano.save\u001b[m\n",
      "\t\u001b[31m../sem18-multiplexing/nano.save.1\u001b[m\n",
      "\t\u001b[31m../sem18-multiplexing/output_0.txt\u001b[m\n",
      "\t\u001b[31m../sem18-multiplexing/output_1.txt\u001b[m\n",
      "\t\u001b[31m../sem18-multiplexing/test\u001b[m\n",
      "\t\u001b[31m../sem19-pthread/._README (1).md\u001b[m\n",
      "\t\u001b[31m../sem19-pthread/libtask/\u001b[m\n",
      "\t\u001b[31m../sem20-synchronizing/a.out\u001b[m\n",
      "\t\u001b[31m../sem20-synchronizing/out.txt\u001b[m\n",
      "\t\u001b[31minteractive_launcher_tmp/26672992216455199.log.md\u001b[m\n",
      "\t\u001b[31minteractive_launcher_tmp/704228343092166969.log.md\u001b[m\n",
      "\t\u001b[31minteractive_launcher_tmp/773937186095382150.log.md\u001b[m\n",
      "\t\u001b[31mlauncher.py\u001b[m\n",
      "\t\u001b[31mout.txt\u001b[m\n",
      "\t\u001b[31mout2.txt\u001b[m\n",
      "\n",
      "nothing added to commit but untracked files present\n",
      "> git push origin master\n",
      "Everything up-to-date\n"
     ]
    }
   ],
   "source": [
    "cmds = []\n",
    "add_cmd = \"git add --ignore-errors \"\n",
    "add_cmd_f = \"git add --ignore-errors -f \"\n",
    "for subdir in highlevel_dirs:\n",
    "    for sfx in [\".ipynb\", \".md\", \".c\", \".cpp\"]:\n",
    "        cmds.append(add_cmd + \" {}/*{}\".format(subdir, sfx))\n",
    "    cmds.append(add_cmd_f + \" -f {}/bash_popen_tmp/*.html\".format(subdir))\n",
    "    cmds.append(add_cmd_f + \" -f {}/interactive_launcher_tmp/*.log\".format(subdir))\n",
    "    \n",
    "def execute_cmd(cmd):\n",
    "    print(\">\", cmd)\n",
    "    get_ipython().system(cmd)\n",
    "    \n",
    "for cmd in cmds:\n",
    "    execute_cmd(cmd)\n",
    "execute_cmd(\"git add -u\")\n",
    "execute_cmd(\"git commit -m 'yet another update'\")\n",
    "execute_cmd(\"git push origin master\")"
   ]
  },
  {
   "cell_type": "code",
   "execution_count": null,
   "metadata": {},
   "outputs": [],
   "source": []
  },
  {
   "cell_type": "code",
   "execution_count": null,
   "metadata": {},
   "outputs": [],
   "source": []
  },
  {
   "cell_type": "code",
   "execution_count": null,
   "metadata": {},
   "outputs": [],
   "source": []
  }
 ],
 "metadata": {
  "kernelspec": {
   "display_name": "Python 3",
   "language": "python",
   "name": "python3"
  },
  "language_info": {
   "codemirror_mode": {
    "name": "ipython",
    "version": 3
   },
   "file_extension": ".py",
   "mimetype": "text/x-python",
   "name": "python",
   "nbconvert_exporter": "python",
   "pygments_lexer": "ipython3",
   "version": "3.5.2"
  }
 },
 "nbformat": 4,
 "nbformat_minor": 2
}
