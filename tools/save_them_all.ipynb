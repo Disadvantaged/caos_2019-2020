{
 "cells": [
  {
   "cell_type": "code",
   "execution_count": 19,
   "metadata": {
    "scrolled": true
   },
   "outputs": [
    {
     "name": "stdout",
     "output_type": "stream",
     "text": [
      "Highlevel dirs: ['../tools', '../sem16-fcntl-dup-pipe']\n"
     ]
    }
   ],
   "source": [
    "import glob\n",
    "import os\n",
    "import subprocess\n",
    "\n",
    "def convert(n, d):\n",
    "    get_ipython().system(\"jupyter nbconvert {} --to markdown --output {}\".format(n, d))\n",
    "    #subprocess.check_call([\"jupyter\", \"nbconvert\", n, \"--to\", \"markdown\", \"--output\", d])\n",
    "\n",
    "highlevel_dirs = [\"../tools\"] + sorted(glob.glob(\"../sem16*\"))\n",
    "\n",
    "print(\"Highlevel dirs:\", highlevel_dirs)"
   ]
  },
  {
   "cell_type": "code",
   "execution_count": 23,
   "metadata": {},
   "outputs": [
    {
     "name": "stdout",
     "output_type": "stream",
     "text": [
      "../tools ['../tools/set_up_magics.ipynb', '../tools/set_up_magics_dev.ipynb', '../tools/save_them_all.ipynb']\n",
      "[NbConvertApp] Converting notebook ../tools/set_up_magics.ipynb to markdown\n",
      "[NbConvertApp] Writing 50748 bytes to ../tools/set_up_magics.md\n",
      "[NbConvertApp] Converting notebook ../tools/set_up_magics_dev.ipynb to markdown\n",
      "[NbConvertApp] Writing 32 bytes to ../tools/set_up_magics_dev.md\n",
      "[NbConvertApp] Converting notebook ../tools/save_them_all.ipynb to markdown\n",
      "[NbConvertApp] Writing 16049 bytes to ../tools/save_them_all.md\n",
      "../sem16-fcntl-dup-pipe ['../sem16-fcntl-dup-pipe/sixteen.ipynb', '../sem16-fcntl-dup-pipe/fcntl-dup-pipe.ipynb']\n",
      "[NbConvertApp] Converting notebook ../sem16-fcntl-dup-pipe/sixteen.ipynb to markdown\n",
      "[NbConvertApp] Writing 27652 bytes to ../sem16-fcntl-dup-pipe/sixteen.md\n",
      "[NbConvertApp] Converting notebook ../sem16-fcntl-dup-pipe/fcntl-dup-pipe.ipynb to markdown\n",
      "[NbConvertApp] Writing 184941 bytes to ../sem16-fcntl-dup-pipe/fcntl-dup-pipe.md\n"
     ]
    }
   ],
   "source": [
    "for subdir in highlevel_dirs:\n",
    "    notebooks = glob.glob(subdir + \"/*.ipynb\")\n",
    "    print(subdir, notebooks)\n",
    "    for m in glob.glob(subdir + \"/*.md\"):\n",
    "        os.remove(m)\n",
    "    if len(notebooks) == 1:\n",
    "        convert(notebooks[0], \"README\")\n",
    "    else:\n",
    "        for n in notebooks:\n",
    "            convert(n, os.path.basename(n.replace(\".ipynb\", \"\")))\n",
    "        "
   ]
  },
  {
   "cell_type": "code",
   "execution_count": null,
   "metadata": {},
   "outputs": [],
   "source": []
  },
  {
   "cell_type": "code",
   "execution_count": 24,
   "metadata": {},
   "outputs": [],
   "source": [
    "import re\n",
    "\n",
    "def basic_improve(fname):\n",
    "    with open(fname, \"r\") as f:\n",
    "        r = f.read()\n",
    "    for b in [\"\\x00\", \"\\x1B\", \"\\x08\"]:\n",
    "        r = r.replace(b, \"\")\n",
    "    with open(fname, \"w\") as f:\n",
    "        f.write(r)\n",
    "    get_ipython().system(\"dos2unix {}\".format(fname))\n",
    "\n",
    "def improve_md(fname):\n",
    "    with open(fname, \"r\") as f:\n",
    "        r = f.read()\n",
    "    r = r.replace(\"```python\\n%%cpp\", \"```cpp\\n%%cpp\")\n",
    "    r = r.replace('\\n', \"SUPER_SLASH\" + \"_N_REPLACER\")\n",
    "    r = re.sub(r'\\<\\!--MD_BEGIN_FILTER--\\>.*?\\<\\!--MD_END_FILTER--\\>', \"\", r)\n",
    "    r = re.sub(r'(\\#SET_UP_MAGIC_BEGIN.*?\\#SET_UP_MAGIC_END)', \"<too much code>\", r)\n",
    "    r = r.replace(\"SUPER_SLASH\" + \"_N_REPLACER\", '\\n')\n",
    "    \n",
    "    def file_repl(matchobj, path=os.path.dirname(fname)):\n",
    "        fname = os.path.join(path, matchobj.group(1))\n",
    "        if fname.find(\"__FILE__\") == -1:\n",
    "            with open(fname, \"r\") as f:\n",
    "                return \"\\n```\\n\" + f.read() + \"\\n```\\n\"\n",
    "    \n",
    "    r = r.replace(\"</td>\", \"\")\n",
    "    r = r.replace(\"</tr>\", \"\")\n",
    "    \n",
    "    r = re.sub(r'\\<\\!--MD_FROM_FILE (.*?) --\\>', file_repl, r)\n",
    "    with open(fname, \"w\") as f:\n",
    "        f.write(r)\n",
    "        \n",
    "def improve_file(fname):\n",
    "    basic_improve(fname)\n",
    "    if fname.endswith(\".md\"):\n",
    "        improve_md(fname)\n"
   ]
  },
  {
   "cell_type": "code",
   "execution_count": 25,
   "metadata": {},
   "outputs": [
    {
     "name": "stdout",
     "output_type": "stream",
     "text": [
      "dos2unix: converting file ./../tools/set_up_magics.ipynb to Unix format ...\n",
      "dos2unix: converting file ./../tools/set_up_magics_dev.ipynb to Unix format ...\n",
      "dos2unix: converting file ./../tools/save_them_all.ipynb to Unix format ...\n",
      "dos2unix: converting file ./../sem16-fcntl-dup-pipe/sixteen.ipynb to Unix format ...\n",
      "dos2unix: converting file ./../sem16-fcntl-dup-pipe/fcntl-dup-pipe.ipynb to Unix format ...\n",
      "dos2unix: converting file ./../tools/set_up_magics_dev.md to Unix format ...\n",
      "dos2unix: converting file ./../tools/set_up_magics.md to Unix format ...\n",
      "dos2unix: converting file ./../tools/save_them_all.md to Unix format ...\n",
      "dos2unix: converting file ./../sem16-fcntl-dup-pipe/fcntl-dup-pipe.md to Unix format ...\n",
      "dos2unix: converting file ./../sem16-fcntl-dup-pipe/sixteen.md to Unix format ...\n"
     ]
    }
   ],
   "source": [
    "for sfx in [\".ipynb\", \".md\"]:\n",
    "    for hdir in highlevel_dirs:\n",
    "        for fname in glob.glob(\"./{}/*\".format(hdir) + sfx):\n",
    "            improve_file(fname)"
   ]
  },
  {
   "cell_type": "code",
   "execution_count": 18,
   "metadata": {
    "scrolled": false
   },
   "outputs": [
    {
     "name": "stdout",
     "output_type": "stream",
     "text": [
      "> git add --ignore-errors  ../tools/*.ipynb ../tools/*.md ../tools/*.c ../tools/*.cpp ../sem16-fcntl-dup-pipe/*.ipynb ../sem16-fcntl-dup-pipe/*.md ../sem16-fcntl-dup-pipe/*.c ../sem16-fcntl-dup-pipe/*.cpp\n",
      "fatal: pathspec '../tools/*.c' did not match any files\n",
      "> git add -f ../tools/bash_popen_tmp/*.html -f ../sem16-fcntl-dup-pipe/bash_popen_tmp/*.html\n",
      "fatal: pathspec '../sem16-fcntl-dup-pipe/bash_popen_tmp/*.html' did not match any files\n",
      "> git add -u\n",
      "warning: LF will be replaced by CRLF in sem16-fcntl-dup-pipe/README.md.\n",
      "The file will have its original line endings in your working directory.\n",
      "warning: LF will be replaced by CRLF in sem16-fcntl-dup-pipe/dup.cpp.\n",
      "The file will have its original line endings in your working directory.\n",
      "warning: LF will be replaced by CRLF in sem16-fcntl-dup-pipe/dup2.cpp.\n",
      "The file will have its original line endings in your working directory.\n",
      "warning: LF will be replaced by CRLF in sem16-fcntl-dup-pipe/fcntl-dup-pipe.ipynb.\n",
      "The file will have its original line endings in your working directory.\n",
      "warning: LF will be replaced by CRLF in sem16-fcntl-dup-pipe/fcntl_dup.cpp.\n",
      "The file will have its original line endings in your working directory.\n",
      "warning: LF will be replaced by CRLF in sem16-fcntl-dup-pipe/fcntl_flags.cpp.\n",
      "The file will have its original line endings in your working directory.\n",
      "warning: LF will be replaced by CRLF in sem16-fcntl-dup-pipe/fcntl_open_flags.cpp.\n",
      "The file will have its original line endings in your working directory.\n",
      "warning: LF will be replaced by CRLF in sem16-fcntl-dup-pipe/pipe.cpp.\n",
      "The file will have its original line endings in your working directory.\n",
      "warning: LF will be replaced by CRLF in sem16-fcntl-dup-pipe/pipe2.cpp.\n",
      "The file will have its original line endings in your working directory.\n",
      "warning: LF will be replaced by CRLF in tools/save_them_all.ipynb.\n",
      "The file will have its original line endings in your working directory.\n",
      "warning: LF will be replaced by CRLF in tools/save_them_all.md.\n",
      "The file will have its original line endings in your working directory.\n",
      "warning: LF will be replaced by CRLF in tools/set_up_magics.ipynb.\n",
      "The file will have its original line endings in your working directory.\n",
      "warning: LF will be replaced by CRLF in tools/set_up_magics.md.\n",
      "The file will have its original line endings in your working directory.\n",
      "warning: LF will be replaced by CRLF in tools/set_up_magics_dev.ipynb.\n",
      "The file will have its original line endings in your working directory.\n",
      "warning: LF will be replaced by CRLF in tools/set_up_magics_dev.md.\n",
      "The file will have its original line endings in your working directory.\n",
      "> git commit -m 'yet another update'\n",
      "warning: LF will be replaced by CRLF in sem16-fcntl-dup-pipe/README.md.\n",
      "The file will have its original line endings in your working directory.\n",
      "warning: LF will be replaced by CRLF in sem16-fcntl-dup-pipe/fcntl-dup-pipe.ipynb.\n",
      "The file will have its original line endings in your working directory.\n",
      "warning: LF will be replaced by CRLF in sem16-fcntl-dup-pipe/fcntl_dup.cpp.\n",
      "The file will have its original line endings in your working directory.\n",
      "warning: LF will be replaced by CRLF in sem16-fcntl-dup-pipe/fcntl_flags.cpp.\n",
      "The file will have its original line endings in your working directory.\n",
      "warning: LF will be replaced by CRLF in sem16-fcntl-dup-pipe/pipe2.cpp.\n",
      "The file will have its original line endings in your working directory.\n",
      "warning: LF will be replaced by CRLF in tools/save_them_all.ipynb.\n",
      "The file will have its original line endings in your working directory.\n",
      "warning: LF will be replaced by CRLF in tools/save_them_all.md.\n",
      "The file will have its original line endings in your working directory.\n",
      "warning: LF will be replaced by CRLF in sem16-fcntl-dup-pipe/pipe2.cpp.\n",
      "The file will have its original line endings in your working directory.\n",
      "warning: LF will be replaced by CRLF in tools/save_them_all.md.\n",
      "The file will have its original line endings in your working directory.\n",
      "[master dc90c38] yet another update\n",
      "warning: LF will be replaced by CRLF in sem16-fcntl-dup-pipe/README.md.\n",
      "The file will have its original line endings in your working directory.\n",
      "warning: LF will be replaced by CRLF in sem16-fcntl-dup-pipe/fcntl-dup-pipe.ipynb.\n",
      "The file will have its original line endings in your working directory.\n",
      "warning: LF will be replaced by CRLF in sem16-fcntl-dup-pipe/fcntl_dup.cpp.\n",
      "The file will have its original line endings in your working directory.\n",
      "warning: LF will be replaced by CRLF in sem16-fcntl-dup-pipe/fcntl_flags.cpp.\n",
      "The file will have its original line endings in your working directory.\n",
      "warning: LF will be replaced by CRLF in sem16-fcntl-dup-pipe/pipe2.cpp.\n",
      "The file will have its original line endings in your working directory.\n",
      "warning: LF will be replaced by CRLF in tools/save_them_all.ipynb.\n",
      "The file will have its original line endings in your working directory.\n",
      "warning: LF will be replaced by CRLF in tools/save_them_all.md.\n",
      "The file will have its original line endings in your working directory.\n",
      " 7 files changed, 659 insertions(+), 441 deletions(-)\n",
      " rewrite tools/save_them_all.md (86%)\n",
      "> git push origin master\n",
      "Counting objects: 11, done.\n",
      "Compressing objects: 100% (11/11), done.\n",
      "Writing objects: 100% (11/11), 16.82 KiB | 0 bytes/s, done.\n",
      "Total 11 (delta 8), reused 0 (delta 0)\n",
      "remote: Resolving deltas: 100% (8/8), completed with 7 local objects.\u001b[K\n",
      "To git@github.com:yuri-pechatnov/caos_2019-2020.git\n",
      "   2d11e0f..dc90c38  master -> master\n"
     ]
    }
   ],
   "source": [
    "add_cmd = \"git add --ignore-errors \"\n",
    "add_cmd_f = \"git add\"\n",
    "for subdir in highlevel_dirs:\n",
    "    for sfx in [\".ipynb\", \".md\", \".c\", \".cpp\"]:\n",
    "        add_cmd += \" {}/*{}\".format(subdir, sfx)\n",
    "    add_cmd_f += \" -f {}/bash_popen_tmp/*.html\".format(subdir)\n",
    "    \n",
    "def execute_cmd(cmd):\n",
    "    print(\">\", cmd)\n",
    "    get_ipython().system(cmd)\n",
    "    \n",
    "execute_cmd(add_cmd)\n",
    "execute_cmd(add_cmd_f)\n",
    "execute_cmd(\"git add -u\")\n",
    "execute_cmd(\"git commit -m 'yet another update'\")\n",
    "execute_cmd(\"git push origin master\")"
   ]
  },
  {
   "cell_type": "code",
   "execution_count": null,
   "metadata": {},
   "outputs": [],
   "source": []
  },
  {
   "cell_type": "code",
   "execution_count": null,
   "metadata": {},
   "outputs": [],
   "source": []
  },
  {
   "cell_type": "code",
   "execution_count": null,
   "metadata": {},
   "outputs": [],
   "source": []
  }
 ],
 "metadata": {
  "kernelspec": {
   "display_name": "Python 3",
   "language": "python",
   "name": "python3"
  },
  "language_info": {
   "codemirror_mode": {
    "name": "ipython",
    "version": 3
   },
   "file_extension": ".py",
   "mimetype": "text/x-python",
   "name": "python",
   "nbconvert_exporter": "python",
   "pygments_lexer": "ipython3",
   "version": "3.5.2"
  }
 },
 "nbformat": 4,
 "nbformat_minor": 2
}
