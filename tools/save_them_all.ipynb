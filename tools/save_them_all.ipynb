{
 "cells": [
  {
   "cell_type": "code",
   "execution_count": 1,
   "metadata": {
    "scrolled": true
   },
   "outputs": [
    {
     "name": "stdout",
     "output_type": "stream",
     "text": [
      "Highlevel dirs: ['../sem20-synchronizing']\n"
     ]
    }
   ],
   "source": [
    "import glob\n",
    "import os\n",
    "import subprocess\n",
    "\n",
    "highlevel_dirs = sum([\n",
    "    #[\"../tools\"], \n",
    "    #sorted(glob.glob(\"../sem19*\")),\n",
    "    sorted(glob.glob(\"../sem20*\")),\n",
    "], [])\n",
    "\n",
    "print(\"Highlevel dirs:\", highlevel_dirs)"
   ]
  },
  {
   "cell_type": "code",
   "execution_count": null,
   "metadata": {},
   "outputs": [],
   "source": []
  },
  {
   "cell_type": "code",
   "execution_count": 2,
   "metadata": {},
   "outputs": [
    {
     "name": "stdout",
     "output_type": "stream",
     "text": [
      "../sem20-synchronizing ['../sem20-synchronizing/quiz.ipynb', '../sem20-synchronizing/synchronizing.ipynb']\n",
      "[NbConvertApp] Converting notebook ../sem20-synchronizing/quiz.ipynb to markdown\n",
      "[NbConvertApp] Writing 39196 bytes to ../sem20-synchronizing/quiz.md\n",
      "[NbConvertApp] Converting notebook ../sem20-synchronizing/synchronizing.ipynb to markdown\n",
      "[NbConvertApp] Writing 34159 bytes to ../sem20-synchronizing/synchronizing.md\n"
     ]
    }
   ],
   "source": [
    "\n",
    "def convert(n, d):\n",
    "    get_ipython().system(\"jupyter nbconvert {} --to markdown --output {}\".format(n, d))\n",
    "\n",
    "for subdir in highlevel_dirs:\n",
    "    notebooks = glob.glob(subdir + \"/*.ipynb\")\n",
    "    print(subdir, notebooks)\n",
    "    for m in glob.glob(subdir + \"/*.md\"):\n",
    "        os.remove(m)\n",
    "    if len(notebooks) == 1:\n",
    "        convert(notebooks[0], \"README\")\n",
    "    else:\n",
    "        for n in notebooks:\n",
    "            convert(n, os.path.basename(n.replace(\".ipynb\", \"\")))\n",
    "        nmds = [os.path.basename(n).replace(\".ipynb\", \".md\") for n in notebooks]\n",
    "        with open(os.path.join(subdir, \"README.md\"), \"w\") as f:\n",
    "            f.write('\\n'.join(\n",
    "                ['# Ноутбуки семинара'] + \n",
    "                ['* [{nmd}]({nmd})'.format(nmd=nmd) for nmd in nmds] + \n",
    "                ['']\n",
    "            ))\n",
    "        "
   ]
  },
  {
   "cell_type": "code",
   "execution_count": null,
   "metadata": {},
   "outputs": [],
   "source": []
  },
  {
   "cell_type": "code",
   "execution_count": 3,
   "metadata": {},
   "outputs": [],
   "source": [
    "import re\n",
    "\n",
    "def basic_improve(fname):\n",
    "    with open(fname, \"r\") as f:\n",
    "        r = f.read()\n",
    "    for b in [\"\\x00\", \"\\x1B\", \"\\x08\"]:\n",
    "        r = r.replace(b, \"\")\n",
    "    with open(fname, \"w\") as f:\n",
    "        f.write(r)\n",
    "    get_ipython().system(\"dos2unix {}\".format(fname))\n",
    "\n",
    "def improve_md(fname):\n",
    "    with open(fname, \"r\") as f:\n",
    "        r = f.read()\n",
    "    r = r.replace(\"```python\\n%%cpp\", \"```cpp\\n%%cpp\")\n",
    "    r = r.replace('\\n', \"SUPER_SLASH\" + \"_N_REPLACER\")\n",
    "    \n",
    "    r = re.sub(r'\\<\\!--MD_BEGIN_FILTER--\\>.*?\\<\\!--MD_END_FILTER--\\>', \"\", r)\n",
    "    #r = re.sub(r'(\\#SET_UP_MAGIC_BEGIN.*?\\#SET_UP_MAGIC_END)', \"<too much code>\", r)\n",
    "    r = re.sub(r'\\<\\!\\-\\-\\ YANDEX_METRICA_BEGIN\\ \\-\\-\\>.*\\<\\!\\-\\-\\ YANDEX_METRICA_END\\ \\-\\-\\>', '', r)\n",
    "    \n",
    "    r = r.replace(\"<IPython.core.display.Javascript object>\", '')\n",
    "    r = r.replace(\"SUPER_SLASH\" + \"_N_REPLACER\", '\\n')\n",
    "    \n",
    "    template = \"#\"\"MAGICS_SETUP_END\"\n",
    "    bpos = r.rfind(template)\n",
    "    if bpos != -1:\n",
    "        r = r[bpos + len(template):]\n",
    "        template = \"```\"\n",
    "        bpos = r.find(template)\n",
    "        assert bpos >= 0\n",
    "        r = r[bpos + len(template):]\n",
    "    \n",
    "    \n",
    "    template = \"<\"\"!-- MAGICS_SETUP_PRINTING_END -->\"\n",
    "    bpos = r.rfind(template)\n",
    "    if bpos != -1:\n",
    "        r = r[bpos + len(template):]\n",
    "    \n",
    "    def file_repl(matchobj, path=os.path.dirname(fname)):\n",
    "        fname = os.path.join(path, matchobj.group(1))\n",
    "        if fname.find(\"__FILE__\") == -1:\n",
    "            with open(fname, \"r\") as f:\n",
    "                return \"\\n```\\n\" + f.read() + \"\\n```\\n\"\n",
    "    \n",
    "    r = r.replace(\"</td>\", \"\")\n",
    "    r = r.replace(\"</tr>\", \"\")\n",
    "    \n",
    "    r = re.sub(r'\\<\\!--MD_FROM_FILE (.*?) --\\>', file_repl, r)\n",
    "    with open(fname, \"w\") as f:\n",
    "        f.write(r)\n",
    "        \n",
    "def improve_file(fname):\n",
    "    basic_improve(fname)\n",
    "    if fname.endswith(\".md\"):\n",
    "        improve_md(fname)\n"
   ]
  },
  {
   "cell_type": "code",
   "execution_count": 4,
   "metadata": {},
   "outputs": [
    {
     "name": "stdout",
     "output_type": "stream",
     "text": [
      "dos2unix: converting file ./../sem20-synchronizing/quiz.ipynb to Unix format ...\n",
      "dos2unix: converting file ./../sem20-synchronizing/synchronizing.ipynb to Unix format ...\n",
      "dos2unix: converting file ./../sem20-synchronizing/README.md to Unix format ...\n",
      "dos2unix: converting file ./../sem20-synchronizing/quiz.md to Unix format ...\n",
      "dos2unix: converting file ./../sem20-synchronizing/synchronizing.md to Unix format ...\n"
     ]
    }
   ],
   "source": [
    "for sfx in [\".ipynb\", \".md\"]:\n",
    "    for hdir in highlevel_dirs:\n",
    "        for fname in glob.glob(\"./{}/*\".format(hdir) + sfx):\n",
    "            improve_file(fname)"
   ]
  },
  {
   "cell_type": "code",
   "execution_count": 6,
   "metadata": {
    "scrolled": false
   },
   "outputs": [
    {
     "name": "stdout",
     "output_type": "stream",
     "text": [
      "> git add --ignore-errors  ../sem20-synchronizing/*.ipynb\n",
      "> git add --ignore-errors  ../sem20-synchronizing/*.md\n",
      "> git add --ignore-errors  ../sem20-synchronizing/*.c\n",
      "> git add --ignore-errors  ../sem20-synchronizing/*.cpp\n",
      "> git add --ignore-errors -f  -f ../sem20-synchronizing/bash_popen_tmp/*.html\n",
      "fatal: pathspec '../sem20-synchronizing/bash_popen_tmp/*.html' did not match any files\n",
      "> git add --ignore-errors -f  -f ../sem20-synchronizing/interactive_launcher_tmp/*.log\n",
      "fatal: pathspec '../sem20-synchronizing/interactive_launcher_tmp/*.log' did not match any files\n",
      "> git add -u\n",
      "> git commit -m 'yet another update'\n",
      "On branch master\n",
      "Your branch is ahead of 'origin/master' by 3 commits.\n",
      "  (use \"git push\" to publish your local commits)\n",
      "Untracked files:\n",
      "\t\u001b[31m../.DS_Store\u001b[m\n",
      "\t\u001b[31m../._.DS_Store\u001b[m\n",
      "\t\u001b[31m../sem05-asm-arm-addressing/call.s\u001b[m\n",
      "\t\u001b[31m../sem06-asm-x86/tmp.0\u001b[m\n",
      "\t\u001b[31m../sem09-low-level-io/a.txt\u001b[m\n",
      "\t\u001b[31m../sem09-low-level-io/b.txt\u001b[m\n",
      "\t\u001b[31m../sem09-low-level-io/linux_example_input_001.txt\u001b[m\n",
      "\t\u001b[31m../sem09-low-level-io/linux_file_hello_world.out\u001b[m\n",
      "\t\u001b[31m../sem09-low-level-io/sdfr.txt\u001b[m\n",
      "\t\u001b[31m../sem09-low-level-io/strange_example.in\u001b[m\n",
      "\t\u001b[31m../sem09-low-level-io/strange_example.out\u001b[m\n",
      "\t\u001b[31m../sem09-low-level-io/winapi_example_input_001.txt\u001b[m\n",
      "\t\u001b[31m../sem10-file-attributes/ata.txt\u001b[m\n",
      "\t\u001b[31m../sem10-file-attributes/have read permission\u001b[m\n",
      "\t\u001b[31m../sem10-file-attributes/stat_example\u001b[m\n",
      "\t\u001b[31m../sem10-file-attributes/tmp/\u001b[m\n",
      "\t\u001b[31m../sem10-file-attributes/tmp2/\u001b[m\n",
      "\t\u001b[31m../sem11-mmap-instrumentation/buf.txt\u001b[m\n",
      "\t\u001b[31m../sem11-mmap-instrumentation/out.txt\u001b[m\n",
      "\t\u001b[31m../sem11-mmap-instrumentation/perf.data\u001b[m\n",
      "\t\u001b[31m../sem11-mmap-instrumentation/perf.data.old\u001b[m\n",
      "\t\u001b[31m../sem11-mmap-instrumentation/perf.log\u001b[m\n",
      "\t\u001b[31m../sem12-fork-exec-pipe/out.txt\u001b[m\n",
      "\t\u001b[31m../sem13-signal/core\u001b[m\n",
      "\t\u001b[31m../sem14-fifo-proc/hello\u001b[m\n",
      "\t\u001b[31m\"../sem14-fifo-proc/hello.html\\\\\"\u001b[m\n",
      "\t\u001b[31m../sem14-fifo-proc/hello_finished\u001b[m\n",
      "\t\u001b[31m../sem14-fifo-proc/interactive_launcher_tmp/168715572125305438.log.md\u001b[m\n",
      "\t\u001b[31m../sem14-fifo-proc/interactive_launcher_tmp/283257014686283392.log.md\u001b[m\n",
      "\t\u001b[31m../sem14-fifo-proc/interactive_launcher_tmp/33880078996467771.log.md\u001b[m\n",
      "\t\u001b[31m../sem14-fifo-proc/interactive_launcher_tmp/36680464884053384.log.md\u001b[m\n",
      "\t\u001b[31m../sem14-fifo-proc/interactive_launcher_tmp/408174933795177832.log.md\u001b[m\n",
      "\t\u001b[31m../sem14-fifo-proc/interactive_launcher_tmp/445842116699040428.log.md\u001b[m\n",
      "\t\u001b[31m../sem14-fifo-proc/interactive_launcher_tmp/527728542722413092.log.md\u001b[m\n",
      "\t\u001b[31m../sem14-fifo-proc/interactive_launcher_tmp/636479856332377457.log.md\u001b[m\n",
      "\t\u001b[31m../sem14-fifo-proc/interactive_launcher_tmp/723675156510583135.log.md\u001b[m\n",
      "\t\u001b[31m../sem14-fifo-proc/interactive_launcher_tmp/741034825313819161.log.md\u001b[m\n",
      "\t\u001b[31m../sem14-fifo-proc/interactive_launcher_tmp/808161313364762585.log.md\u001b[m\n",
      "\t\u001b[31m../sem14-fifo-proc/interactive_launcher_tmp/855988039801024707.log.md\u001b[m\n",
      "\t\u001b[31m../sem14-fifo-proc/interactive_launcher_tmp/983043216781878980.log.md\u001b[m\n",
      "\t\u001b[31m../sem14-fifo-proc/unex.txt\u001b[m\n",
      "\t\u001b[31m../sem16-fcntl-dup-pipe/._16.ipynb\u001b[m\n",
      "\t\u001b[31m../sem16-fcntl-dup-pipe/fcntl_flags.err\u001b[m\n",
      "\t\u001b[31m../sem16-fcntl-dup-pipe/fcntl_open_flags.1\u001b[m\n",
      "\t\u001b[31m../sem16-fcntl-dup-pipe/fcntl_open_flags.2\u001b[m\n",
      "\t\u001b[31m../sem16-fcntl-dup-pipe/fcntl_open_flags.err\u001b[m\n",
      "\t\u001b[31m../sem16-fcntl-dup-pipe/out.txt\u001b[m\n",
      "\t\u001b[31m../sem17-sockets-tcp-udp/._17.ipynb\u001b[m\n",
      "\t\u001b[31m../sem17-sockets-tcp-udp/._README.md\u001b[m\n",
      "\t\u001b[31m../sem18-multiplexing/.DS_Store\u001b[m\n",
      "\t\u001b[31m../sem18-multiplexing/._.DS_Store\u001b[m\n",
      "\t\u001b[31m../sem18-multiplexing/._18.ipynb\u001b[m\n",
      "\t\u001b[31m../sem18-multiplexing/._18.md\u001b[m\n",
      "\t\u001b[31m../sem18-multiplexing/._README (1).md\u001b[m\n",
      "\t\u001b[31m../sem18-multiplexing/diff\u001b[m\n",
      "\t\u001b[31m../sem18-multiplexing/diff.patch\u001b[m\n",
      "\t\u001b[31m../sem18-multiplexing/nano.save\u001b[m\n",
      "\t\u001b[31m../sem18-multiplexing/nano.save.1\u001b[m\n",
      "\t\u001b[31m../sem18-multiplexing/output_0.txt\u001b[m\n",
      "\t\u001b[31m../sem18-multiplexing/output_1.txt\u001b[m\n",
      "\t\u001b[31m../sem18-multiplexing/test\u001b[m\n",
      "\t\u001b[31m../sem19-pthread/._README (1).md\u001b[m\n",
      "\t\u001b[31m../sem19-pthread/libtask/\u001b[m\n",
      "\t\u001b[31minteractive_launcher_tmp/331904950651911975.log.md\u001b[m\n",
      "\t\u001b[31minteractive_launcher_tmp/472779443462714927.log.md\u001b[m\n",
      "\t\u001b[31minteractive_launcher_tmp/668453912241038847.log.md\u001b[m\n",
      "\t\u001b[31mlauncher.py\u001b[m\n",
      "\t\u001b[31mout.txt\u001b[m\n",
      "\t\u001b[31mout2.txt\u001b[m\n",
      "\n",
      "nothing added to commit but untracked files present\n",
      "> git push origin master\n",
      "Counting objects: 14, done.\n",
      "Compressing objects: 100% (14/14), done.\n",
      "Writing objects: 100% (14/14), 3.07 KiB | 0 bytes/s, done.\n",
      "Total 14 (delta 11), reused 0 (delta 0)\n",
      "remote: Resolving deltas: 100% (11/11), completed with 7 local objects.\u001b[K\n",
      "To git@github.com:yuri-pechatnov/caos_2019-2020.git\n",
      "   e39bbf6..420cc93  master -> master\n"
     ]
    }
   ],
   "source": [
    "cmds = []\n",
    "add_cmd = \"git add --ignore-errors \"\n",
    "add_cmd_f = \"git add --ignore-errors -f \"\n",
    "for subdir in highlevel_dirs:\n",
    "    for sfx in [\".ipynb\", \".md\", \".c\", \".cpp\"]:\n",
    "        cmds.append(add_cmd + \" {}/*{}\".format(subdir, sfx))\n",
    "    cmds.append(add_cmd_f + \" -f {}/bash_popen_tmp/*.html\".format(subdir))\n",
    "    cmds.append(add_cmd_f + \" -f {}/interactive_launcher_tmp/*.log\".format(subdir))\n",
    "    \n",
    "def execute_cmd(cmd):\n",
    "    print(\">\", cmd)\n",
    "    get_ipython().system(cmd)\n",
    "    \n",
    "for cmd in cmds:\n",
    "    execute_cmd(cmd)\n",
    "execute_cmd(\"git add -u\")\n",
    "execute_cmd(\"git commit -m 'yet another update'\")\n",
    "execute_cmd(\"git push origin master\")"
   ]
  },
  {
   "cell_type": "code",
   "execution_count": null,
   "metadata": {},
   "outputs": [],
   "source": []
  },
  {
   "cell_type": "code",
   "execution_count": null,
   "metadata": {},
   "outputs": [],
   "source": []
  },
  {
   "cell_type": "code",
   "execution_count": null,
   "metadata": {},
   "outputs": [],
   "source": []
  },
  {
   "cell_type": "code",
   "execution_count": null,
   "metadata": {},
   "outputs": [],
   "source": []
  }
 ],
 "metadata": {
  "kernelspec": {
   "display_name": "Python 3",
   "language": "python",
   "name": "python3"
  },
  "language_info": {
   "codemirror_mode": {
    "name": "ipython",
    "version": 3
   },
   "file_extension": ".py",
   "mimetype": "text/x-python",
   "name": "python",
   "nbconvert_exporter": "python",
   "pygments_lexer": "ipython3",
   "version": "3.5.2"
  }
 },
 "nbformat": 4,
 "nbformat_minor": 2
}
