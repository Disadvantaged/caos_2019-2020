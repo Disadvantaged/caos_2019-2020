{
 "cells": [
  {
   "cell_type": "code",
   "execution_count": 142,
   "metadata": {
    "scrolled": true
   },
   "outputs": [
    {
     "name": "stdout",
     "output_type": "stream",
     "text": [
      "Highlevel dirs: ['../sem10-file-attributes', '../sem11-mmap-instrumentation', '../sem12-fork-exec-pipe', '../sem13-signal', '../sem14-fifo-proc', '../sem15-ptrace', '../sem16-fcntl-dup-pipe', '../sem17-sockets-tcp-udp', '../sem18-multiplexing']\n"
     ]
    }
   ],
   "source": [
    "import glob\n",
    "import os\n",
    "import subprocess\n",
    "\n",
    "highlevel_dirs = sum([\n",
    "    #[\"../tools\"], \n",
    "    #sorted(glob.glob(\"../sem16*\")),\n",
    "    sorted(glob.glob(\"../sem1*\")),\n",
    "], [])\n",
    "\n",
    "print(\"Highlevel dirs:\", highlevel_dirs)"
   ]
  },
  {
   "cell_type": "code",
   "execution_count": 143,
   "metadata": {},
   "outputs": [
    {
     "name": "stdout",
     "output_type": "stream",
     "text": [
      "../sem10-file-attributes ['../sem10-file-attributes/file-attrib.ipynb']\n",
      "[NbConvertApp] Converting notebook ../sem10-file-attributes/file-attrib.ipynb to markdown\n",
      "[NbConvertApp] Writing 16319 bytes to ../sem10-file-attributes/README.md\n",
      "../sem11-mmap-instrumentation ['../sem11-mmap-instrumentation/mmap_and_instrumentation.ipynb']\n",
      "[NbConvertApp] Converting notebook ../sem11-mmap-instrumentation/mmap_and_instrumentation.ipynb to markdown\n",
      "[NbConvertApp] Writing 23442 bytes to ../sem11-mmap-instrumentation/README.md\n",
      "../sem12-fork-exec-pipe ['../sem12-fork-exec-pipe/fork-pipe-exec.ipynb']\n",
      "[NbConvertApp] Converting notebook ../sem12-fork-exec-pipe/fork-pipe-exec.ipynb to markdown\n",
      "[NbConvertApp] Writing 20684 bytes to ../sem12-fork-exec-pipe/README.md\n",
      "../sem13-signal ['../sem13-signal/signal.ipynb']\n",
      "[NbConvertApp] Converting notebook ../sem13-signal/signal.ipynb to markdown\n",
      "[NbConvertApp] Writing 26542 bytes to ../sem13-signal/README.md\n",
      "../sem14-fifo-proc ['../sem14-fifo-proc/fifo-proc.ipynb']\n",
      "[NbConvertApp] Converting notebook ../sem14-fifo-proc/fifo-proc.ipynb to markdown\n",
      "[NbConvertApp] Writing 56508 bytes to ../sem14-fifo-proc/README.md\n",
      "../sem15-ptrace ['../sem15-ptrace/ptrace.ipynb']\n",
      "[NbConvertApp] Converting notebook ../sem15-ptrace/ptrace.ipynb to markdown\n",
      "[NbConvertApp] Writing 15768 bytes to ../sem15-ptrace/README.md\n",
      "../sem16-fcntl-dup-pipe ['../sem16-fcntl-dup-pipe/fcntl-dup-pipe.ipynb']\n",
      "[NbConvertApp] Converting notebook ../sem16-fcntl-dup-pipe/fcntl-dup-pipe.ipynb to markdown\n",
      "[NbConvertApp] Writing 109425 bytes to ../sem16-fcntl-dup-pipe/README.md\n",
      "../sem17-sockets-tcp-udp ['../sem17-sockets-tcp-udp/sockets-tcp-udp.ipynb']\n",
      "[NbConvertApp] Converting notebook ../sem17-sockets-tcp-udp/sockets-tcp-udp.ipynb to markdown\n",
      "[NbConvertApp] Writing 56193 bytes to ../sem17-sockets-tcp-udp/README.md\n",
      "../sem18-multiplexing ['../sem18-multiplexing/epoll-poll-select-linuxaio.ipynb']\n",
      "[NbConvertApp] Converting notebook ../sem18-multiplexing/epoll-poll-select-linuxaio.ipynb to markdown\n",
      "[NbConvertApp] Writing 30813 bytes to ../sem18-multiplexing/README.md\n"
     ]
    }
   ],
   "source": [
    "\n",
    "def convert(n, d):\n",
    "    get_ipython().system(\"jupyter nbconvert {} --to markdown --output {}\".format(n, d))\n",
    "    #subprocess.check_call([\"jupyter\", \"nbconvert\", n, \"--to\", \"markdown\", \"--output\", d])\n",
    "\n",
    "for subdir in highlevel_dirs:\n",
    "    notebooks = glob.glob(subdir + \"/*.ipynb\")\n",
    "    print(subdir, notebooks)\n",
    "    for m in glob.glob(subdir + \"/*.md\"):\n",
    "        os.remove(m)\n",
    "    if len(notebooks) == 1:\n",
    "        convert(notebooks[0], \"README\")\n",
    "    else:\n",
    "        for n in notebooks:\n",
    "            convert(n, os.path.basename(n.replace(\".ipynb\", \"\")))\n",
    "        "
   ]
  },
  {
   "cell_type": "code",
   "execution_count": null,
   "metadata": {},
   "outputs": [],
   "source": []
  },
  {
   "cell_type": "code",
   "execution_count": 144,
   "metadata": {},
   "outputs": [],
   "source": [
    "import re\n",
    "\n",
    "def basic_improve(fname):\n",
    "    with open(fname, \"r\") as f:\n",
    "        r = f.read()\n",
    "    for b in [\"\\x00\", \"\\x1B\", \"\\x08\"]:\n",
    "        r = r.replace(b, \"\")\n",
    "    with open(fname, \"w\") as f:\n",
    "        f.write(r)\n",
    "    get_ipython().system(\"dos2unix {}\".format(fname))\n",
    "\n",
    "def improve_md(fname):\n",
    "    with open(fname, \"r\") as f:\n",
    "        r = f.read()\n",
    "    r = r.replace(\"```python\\n%%cpp\", \"```cpp\\n%%cpp\")\n",
    "    r = r.replace('\\n', \"SUPER_SLASH\" + \"_N_REPLACER\")\n",
    "    r = re.sub(r'\\<\\!--MD_BEGIN_FILTER--\\>.*?\\<\\!--MD_END_FILTER--\\>', \"\", r)\n",
    "    r = re.sub(r'(\\#SET_UP_MAGIC_BEGIN.*?\\#SET_UP_MAGIC_END)', \"<too much code>\", r)\n",
    "    r = r.replace(\"SUPER_SLASH\" + \"_N_REPLACER\", '\\n')\n",
    "    \n",
    "    def file_repl(matchobj, path=os.path.dirname(fname)):\n",
    "        fname = os.path.join(path, matchobj.group(1))\n",
    "        if fname.find(\"__FILE__\") == -1:\n",
    "            with open(fname, \"r\") as f:\n",
    "                return \"\\n```\\n\" + f.read() + \"\\n```\\n\"\n",
    "    \n",
    "    r = r.replace(\"</td>\", \"\")\n",
    "    r = r.replace(\"</tr>\", \"\")\n",
    "    \n",
    "    r = re.sub(r'\\<\\!--MD_FROM_FILE (.*?) --\\>', file_repl, r)\n",
    "    with open(fname, \"w\") as f:\n",
    "        f.write(r)\n",
    "        \n",
    "def improve_file(fname):\n",
    "    basic_improve(fname)\n",
    "    if fname.endswith(\".md\"):\n",
    "        improve_md(fname)\n"
   ]
  },
  {
   "cell_type": "code",
   "execution_count": 145,
   "metadata": {},
   "outputs": [
    {
     "name": "stdout",
     "output_type": "stream",
     "text": [
      "dos2unix: converting file ./../sem10-file-attributes/file-attrib.ipynb to Unix format ...\n",
      "dos2unix: converting file ./../sem11-mmap-instrumentation/mmap_and_instrumentation.ipynb to Unix format ...\n",
      "dos2unix: converting file ./../sem12-fork-exec-pipe/fork-pipe-exec.ipynb to Unix format ...\n",
      "dos2unix: converting file ./../sem13-signal/signal.ipynb to Unix format ...\n",
      "dos2unix: converting file ./../sem14-fifo-proc/fifo-proc.ipynb to Unix format ...\n",
      "dos2unix: converting file ./../sem15-ptrace/ptrace.ipynb to Unix format ...\n",
      "dos2unix: converting file ./../sem16-fcntl-dup-pipe/fcntl-dup-pipe.ipynb to Unix format ...\n",
      "dos2unix: converting file ./../sem17-sockets-tcp-udp/sockets-tcp-udp.ipynb to Unix format ...\n",
      "dos2unix: converting file ./../sem18-multiplexing/epoll-poll-select-linuxaio.ipynb to Unix format ...\n",
      "dos2unix: converting file ./../sem10-file-attributes/README.md to Unix format ...\n",
      "dos2unix: converting file ./../sem11-mmap-instrumentation/README.md to Unix format ...\n",
      "dos2unix: converting file ./../sem12-fork-exec-pipe/README.md to Unix format ...\n",
      "dos2unix: converting file ./../sem13-signal/README.md to Unix format ...\n",
      "dos2unix: converting file ./../sem14-fifo-proc/README.md to Unix format ...\n",
      "dos2unix: converting file ./../sem15-ptrace/README.md to Unix format ...\n",
      "dos2unix: converting file ./../sem16-fcntl-dup-pipe/README.md to Unix format ...\n",
      "dos2unix: converting file ./../sem17-sockets-tcp-udp/README.md to Unix format ...\n",
      "dos2unix: Binary symbol 0x02 found at line 458\n",
      "dos2unix: Skipping binary file ./../sem18-multiplexing/README.md\n"
     ]
    }
   ],
   "source": [
    "for sfx in [\".ipynb\", \".md\"]:\n",
    "    for hdir in highlevel_dirs:\n",
    "        for fname in glob.glob(\"./{}/*\".format(hdir) + sfx):\n",
    "            improve_file(fname)"
   ]
  },
  {
   "cell_type": "code",
   "execution_count": null,
   "metadata": {
    "scrolled": false
   },
   "outputs": [
    {
     "name": "stdout",
     "output_type": "stream",
     "text": [
      "> git add --ignore-errors  ../sem10-file-attributes/*.ipynb\n",
      "warning: LF will be replaced by CRLF in sem10-file-attributes/file-attrib.ipynb.\n",
      "The file will have its original line endings in your working directory.\n",
      "> git add --ignore-errors  ../sem10-file-attributes/*.md\n",
      "warning: LF will be replaced by CRLF in sem10-file-attributes/README.md.\n",
      "The file will have its original line endings in your working directory.\n",
      "> git add --ignore-errors  ../sem10-file-attributes/*.c\n",
      "> git add --ignore-errors  ../sem10-file-attributes/*.cpp\n",
      "fatal: pathspec '../sem10-file-attributes/*.cpp' did not match any files\n",
      "> git add --ignore-errors -f  -f ../sem10-file-attributes/bash_popen_tmp/*.html\n",
      "fatal: pathspec '../sem10-file-attributes/bash_popen_tmp/*.html' did not match any files\n",
      "> git add --ignore-errors -f  -f ../sem10-file-attributes/interactive_launcher_tmp/*.log\n",
      "fatal: pathspec '../sem10-file-attributes/interactive_launcher_tmp/*.log' did not match any files\n",
      "> git add --ignore-errors  ../sem11-mmap-instrumentation/*.ipynb\n",
      "warning: LF will be replaced by CRLF in sem11-mmap-instrumentation/mmap_and_instrumentation.ipynb.\n",
      "The file will have its original line endings in your working directory.\n",
      "> git add --ignore-errors  ../sem11-mmap-instrumentation/*.md\n",
      "warning: LF will be replaced by CRLF in sem11-mmap-instrumentation/README.md.\n",
      "The file will have its original line endings in your working directory.\n",
      "> git add --ignore-errors  ../sem11-mmap-instrumentation/*.c\n",
      "> git add --ignore-errors  ../sem11-mmap-instrumentation/*.cpp\n",
      "> git add --ignore-errors -f  -f ../sem11-mmap-instrumentation/bash_popen_tmp/*.html\n",
      "fatal: pathspec '../sem11-mmap-instrumentation/bash_popen_tmp/*.html' did not match any files\n",
      "> git add --ignore-errors -f  -f ../sem11-mmap-instrumentation/interactive_launcher_tmp/*.log\n",
      "fatal: pathspec '../sem11-mmap-instrumentation/interactive_launcher_tmp/*.log' did not match any files\n",
      "> git add --ignore-errors  ../sem12-fork-exec-pipe/*.ipynb\n",
      "warning: LF will be replaced by CRLF in sem12-fork-exec-pipe/fork-pipe-exec.ipynb.\n",
      "The file will have its original line endings in your working directory.\n",
      "> git add --ignore-errors  ../sem12-fork-exec-pipe/*.md\n",
      "warning: LF will be replaced by CRLF in sem12-fork-exec-pipe/README.md.\n",
      "The file will have its original line endings in your working directory.\n",
      "> git add --ignore-errors  ../sem12-fork-exec-pipe/*.c\n",
      "> git add --ignore-errors  ../sem12-fork-exec-pipe/*.cpp\n",
      "> git add --ignore-errors -f  -f ../sem12-fork-exec-pipe/bash_popen_tmp/*.html\n",
      "fatal: pathspec '../sem12-fork-exec-pipe/bash_popen_tmp/*.html' did not match any files\n",
      "> git add --ignore-errors -f  -f ../sem12-fork-exec-pipe/interactive_launcher_tmp/*.log\n",
      "fatal: pathspec '../sem12-fork-exec-pipe/interactive_launcher_tmp/*.log' did not match any files\n",
      "> git add --ignore-errors  ../sem13-signal/*.ipynb\n",
      "warning: LF will be replaced by CRLF in sem13-signal/signal.ipynb.\n",
      "The file will have its original line endings in your working directory.\n",
      "> git add --ignore-errors  ../sem13-signal/*.md\n",
      "warning: LF will be replaced by CRLF in sem13-signal/README.md.\n",
      "The file will have its original line endings in your working directory.\n",
      "> git add --ignore-errors  ../sem13-signal/*.c\n",
      "> git add --ignore-errors  ../sem13-signal/*.cpp\n",
      "> git add --ignore-errors -f  -f ../sem13-signal/bash_popen_tmp/*.html\n",
      "fatal: pathspec '../sem13-signal/bash_popen_tmp/*.html' did not match any files\n",
      "> git add --ignore-errors -f  -f ../sem13-signal/interactive_launcher_tmp/*.log\n",
      "fatal: pathspec '../sem13-signal/interactive_launcher_tmp/*.log' did not match any files\n",
      "> git add --ignore-errors  ../sem14-fifo-proc/*.ipynb\n",
      "warning: LF will be replaced by CRLF in sem14-fifo-proc/fifo-proc.ipynb.\n",
      "The file will have its original line endings in your working directory.\n",
      "> git add --ignore-errors  ../sem14-fifo-proc/*.md\n",
      "warning: LF will be replaced by CRLF in sem14-fifo-proc/README.md.\n",
      "The file will have its original line endings in your working directory.\n",
      "> git add --ignore-errors  ../sem14-fifo-proc/*.c\n",
      "> git add --ignore-errors  ../sem14-fifo-proc/*.cpp\n",
      "> git add --ignore-errors -f  -f ../sem14-fifo-proc/bash_popen_tmp/*.html\n",
      "> git add --ignore-errors -f  -f ../sem14-fifo-proc/interactive_launcher_tmp/*.log\n",
      "fatal: pathspec '../sem14-fifo-proc/interactive_launcher_tmp/*.log' did not match any files\n",
      "> git add --ignore-errors  ../sem15-ptrace/*.ipynb\n",
      "warning: LF will be replaced by CRLF in sem15-ptrace/ptrace.ipynb.\n",
      "The file will have its original line endings in your working directory.\n",
      "> git add --ignore-errors  ../sem15-ptrace/*.md\n",
      "warning: LF will be replaced by CRLF in sem15-ptrace/README.md.\n",
      "The file will have its original line endings in your working directory.\n",
      "> git add --ignore-errors  ../sem15-ptrace/*.c\n",
      "> git add --ignore-errors  ../sem15-ptrace/*.cpp\n",
      "> git add --ignore-errors -f  -f ../sem15-ptrace/bash_popen_tmp/*.html\n",
      "fatal: pathspec '../sem15-ptrace/bash_popen_tmp/*.html' did not match any files\n",
      "> git add --ignore-errors -f  -f ../sem15-ptrace/interactive_launcher_tmp/*.log\n",
      "fatal: pathspec '../sem15-ptrace/interactive_launcher_tmp/*.log' did not match any files\n",
      "> git add --ignore-errors  ../sem16-fcntl-dup-pipe/*.ipynb\n",
      "warning: LF will be replaced by CRLF in sem16-fcntl-dup-pipe/fcntl-dup-pipe.ipynb.\n",
      "The file will have its original line endings in your working directory.\n",
      "> git add --ignore-errors  ../sem16-fcntl-dup-pipe/*.md\n",
      "warning: LF will be replaced by CRLF in sem16-fcntl-dup-pipe/README.md.\n",
      "The file will have its original line endings in your working directory.\n",
      "> git add --ignore-errors  ../sem16-fcntl-dup-pipe/*.c\n",
      "> git add --ignore-errors  ../sem16-fcntl-dup-pipe/*.cpp\n",
      "> git add --ignore-errors -f  -f ../sem16-fcntl-dup-pipe/bash_popen_tmp/*.html\n",
      "fatal: pathspec '../sem16-fcntl-dup-pipe/bash_popen_tmp/*.html' did not match any files\n",
      "> git add --ignore-errors -f  -f ../sem16-fcntl-dup-pipe/interactive_launcher_tmp/*.log\n",
      "fatal: pathspec '../sem16-fcntl-dup-pipe/interactive_launcher_tmp/*.log' did not match any files\n",
      "> git add --ignore-errors  ../sem17-sockets-tcp-udp/*.ipynb\n",
      "warning: LF will be replaced by CRLF in sem17-sockets-tcp-udp/sockets-tcp-udp.ipynb.\n",
      "The file will have its original line endings in your working directory.\n"
     ]
    }
   ],
   "source": [
    "cmds = []\n",
    "add_cmd = \"git add --ignore-errors \"\n",
    "add_cmd_f = \"git add --ignore-errors -f \"\n",
    "for subdir in highlevel_dirs:\n",
    "    for sfx in [\".ipynb\", \".md\", \".c\", \".cpp\"]:\n",
    "        cmds.append(add_cmd + \" {}/*{}\".format(subdir, sfx))\n",
    "    cmds.append(add_cmd_f + \" -f {}/bash_popen_tmp/*.html\".format(subdir))\n",
    "    cmds.append(add_cmd_f + \" -f {}/interactive_launcher_tmp/*.log\".format(subdir))\n",
    "    \n",
    "def execute_cmd(cmd):\n",
    "    print(\">\", cmd)\n",
    "    get_ipython().system(cmd)\n",
    "    \n",
    "for cmd in cmds:\n",
    "    execute_cmd(cmd)\n",
    "execute_cmd(\"git add -u\")\n",
    "execute_cmd(\"git commit -m 'yet another update'\")\n",
    "execute_cmd(\"git push origin master\")"
   ]
  },
  {
   "cell_type": "code",
   "execution_count": null,
   "metadata": {},
   "outputs": [],
   "source": []
  },
  {
   "cell_type": "code",
   "execution_count": null,
   "metadata": {},
   "outputs": [],
   "source": []
  },
  {
   "cell_type": "code",
   "execution_count": null,
   "metadata": {},
   "outputs": [],
   "source": []
  }
 ],
 "metadata": {
  "kernelspec": {
   "display_name": "Python 3",
   "language": "python",
   "name": "python3"
  },
  "language_info": {
   "codemirror_mode": {
    "name": "ipython",
    "version": 3
   },
   "file_extension": ".py",
   "mimetype": "text/x-python",
   "name": "python",
   "nbconvert_exporter": "python",
   "pygments_lexer": "ipython3",
   "version": "3.5.2"
  }
 },
 "nbformat": 4,
 "nbformat_minor": 2
}
