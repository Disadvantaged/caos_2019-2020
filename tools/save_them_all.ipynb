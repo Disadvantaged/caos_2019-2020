{
 "cells": [
  {
   "cell_type": "code",
   "execution_count": 1,
   "metadata": {
    "scrolled": true
   },
   "outputs": [
    {
     "name": "stdout",
     "output_type": "stream",
     "text": [
      "Highlevel dirs: ['../tools', '../sem01', '../sem03-ints-floats', '../sem04-asm-arm', '../sem05-asm-arm-addressing', '../sem06-asm-x86', '../sem07-asm-x86-x87-sse', '../sem08-asm-x86-nostdlib', '../sem09-low-level-io', '../sem10-file-attributes', '../sem11-mmap-instrumentation', '../sem12-fork-exec-pipe', '../sem13-signal', '../sem14-fifo-proc', '../sem15-ptrace', '../sem16-fcntl-dup-pipe']\n"
     ]
    }
   ],
   "source": [
    "import glob\n",
    "import os\n",
    "import subprocess\n",
    "\n",
    "def convert(n, d):\n",
    "    get_ipython().system(\"jupyter nbconvert {} --to markdown --output {}\".format(n, d))\n",
    "    #subprocess.check_call([\"jupyter\", \"nbconvert\", n, \"--to\", \"markdown\", \"--output\", d])\n",
    "\n",
    "highlevel_dirs = [\"../tools\"] + sorted(glob.glob(\"../sem*\"))\n",
    "\n",
    "print(\"Highlevel dirs:\", highlevel_dirs)"
   ]
  },
  {
   "cell_type": "code",
   "execution_count": 2,
   "metadata": {},
   "outputs": [
    {
     "name": "stdout",
     "output_type": "stream",
     "text": [
      "../tools ['../tools/set_up_magics.ipynb', '../tools/set_up_magics_dev.ipynb', '../tools/save_them_all.ipynb']\n",
      "[NbConvertApp] Converting notebook ../tools/set_up_magics.ipynb to markdown\n",
      "[NbConvertApp] Writing 50748 bytes to ../tools/set_up_magics.md\n",
      "[NbConvertApp] Converting notebook ../tools/set_up_magics_dev.ipynb to markdown\n",
      "[NbConvertApp] Writing 32 bytes to ../tools/set_up_magics_dev.md\n",
      "[NbConvertApp] Converting notebook ../tools/save_them_all.ipynb to markdown\n",
      "[NbConvertApp] Writing 20343 bytes to ../tools/save_them_all.md\n",
      "../sem01 ['../sem01/sem1.ipynb']\n",
      "[NbConvertApp] Converting notebook ../sem01/sem1.ipynb to markdown\n",
      "[NbConvertApp] Writing 2135 bytes to ../sem01/README.md\n",
      "../sem03-ints-floats ['../sem03-ints-floats/sem3_floats.ipynb', '../sem03-ints-floats/sem3_ints.ipynb']\n",
      "[NbConvertApp] Converting notebook ../sem03-ints-floats/sem3_floats.ipynb to markdown\n",
      "[NbConvertApp] Writing 2857 bytes to ../sem03-ints-floats/sem3_floats.md\n",
      "[NbConvertApp] Converting notebook ../sem03-ints-floats/sem3_ints.ipynb to markdown\n",
      "[NbConvertApp] Writing 3840 bytes to ../sem03-ints-floats/sem3_ints.md\n",
      "../sem04-asm-arm ['../sem04-asm-arm/arm.ipynb']\n",
      "[NbConvertApp] Converting notebook ../sem04-asm-arm/arm.ipynb to markdown\n",
      "[NbConvertApp] Writing 7422 bytes to ../sem04-asm-arm/README.md\n",
      "../sem05-asm-arm-addressing ['../sem05-asm-arm-addressing/adressing.ipynb']\n",
      "[NbConvertApp] Converting notebook ../sem05-asm-arm-addressing/adressing.ipynb to markdown\n",
      "[NbConvertApp] Writing 23552 bytes to ../sem05-asm-arm-addressing/README.md\n",
      "../sem06-asm-x86 ['../sem06-asm-x86/asm_x86.ipynb']\n",
      "[NbConvertApp] Converting notebook ../sem06-asm-x86/asm_x86.ipynb to markdown\n",
      "[NbConvertApp] Writing 33694 bytes to ../sem06-asm-x86/README.md\n",
      "../sem07-asm-x86-x87-sse ['../sem07-asm-x86-x87-sse/sse_x86.ipynb', '../sem07-asm-x86-x87-sse/floating_point_x86.ipynb']\n",
      "[NbConvertApp] Converting notebook ../sem07-asm-x86-x87-sse/sse_x86.ipynb to markdown\n",
      "[NbConvertApp] Writing 13366 bytes to ../sem07-asm-x86-x87-sse/sse_x86.md\n",
      "[NbConvertApp] Converting notebook ../sem07-asm-x86-x87-sse/floating_point_x86.ipynb to markdown\n",
      "[NbConvertApp] Writing 8065 bytes to ../sem07-asm-x86-x87-sse/floating_point_x86.md\n",
      "../sem08-asm-x86-nostdlib ['../sem08-asm-x86-nostdlib/nostdlib.ipynb']\n",
      "[NbConvertApp] Converting notebook ../sem08-asm-x86-nostdlib/nostdlib.ipynb to markdown\n",
      "[NbConvertApp] Writing 23229 bytes to ../sem08-asm-x86-nostdlib/README.md\n",
      "../sem09-low-level-io ['../sem09-low-level-io/low-level-io.ipynb']\n",
      "[NbConvertApp] Converting notebook ../sem09-low-level-io/low-level-io.ipynb to markdown\n",
      "[NbConvertApp] Writing 17581 bytes to ../sem09-low-level-io/README.md\n",
      "../sem10-file-attributes ['../sem10-file-attributes/file-attrib.ipynb']\n",
      "[NbConvertApp] Converting notebook ../sem10-file-attributes/file-attrib.ipynb to markdown\n",
      "[NbConvertApp] Writing 16319 bytes to ../sem10-file-attributes/README.md\n",
      "../sem11-mmap-instrumentation ['../sem11-mmap-instrumentation/mmap_and_instrumentation.ipynb']\n",
      "[NbConvertApp] Converting notebook ../sem11-mmap-instrumentation/mmap_and_instrumentation.ipynb to markdown\n",
      "[NbConvertApp] Writing 23442 bytes to ../sem11-mmap-instrumentation/README.md\n",
      "../sem12-fork-exec-pipe ['../sem12-fork-exec-pipe/fork-pipe-exec.ipynb']\n",
      "[NbConvertApp] Converting notebook ../sem12-fork-exec-pipe/fork-pipe-exec.ipynb to markdown\n",
      "[NbConvertApp] Writing 20684 bytes to ../sem12-fork-exec-pipe/README.md\n",
      "../sem13-signal ['../sem13-signal/signal.ipynb']\n",
      "[NbConvertApp] Converting notebook ../sem13-signal/signal.ipynb to markdown\n",
      "[NbConvertApp] Writing 26542 bytes to ../sem13-signal/README.md\n",
      "../sem14-fifo-proc ['../sem14-fifo-proc/fifo-proc.ipynb']\n",
      "[NbConvertApp] Converting notebook ../sem14-fifo-proc/fifo-proc.ipynb to markdown\n",
      "[NbConvertApp] Writing 56508 bytes to ../sem14-fifo-proc/README.md\n",
      "../sem15-ptrace ['../sem15-ptrace/ptrace.ipynb']\n",
      "[NbConvertApp] Converting notebook ../sem15-ptrace/ptrace.ipynb to markdown\n",
      "[NbConvertApp] Writing 15768 bytes to ../sem15-ptrace/README.md\n",
      "../sem16-fcntl-dup-pipe ['../sem16-fcntl-dup-pipe/fcntl-dup-pipe.ipynb']\n",
      "[NbConvertApp] Converting notebook ../sem16-fcntl-dup-pipe/fcntl-dup-pipe.ipynb to markdown\n",
      "[NbConvertApp] Writing 26587 bytes to ../sem16-fcntl-dup-pipe/README.md\n"
     ]
    }
   ],
   "source": [
    "for subdir in highlevel_dirs:\n",
    "    notebooks = glob.glob(subdir + \"/*.ipynb\")\n",
    "    print(subdir, notebooks)\n",
    "    for m in glob.glob(subdir + \"/*.md\"):\n",
    "        os.remove(m)\n",
    "    if len(notebooks) == 1:\n",
    "        convert(notebooks[0], \"README\")\n",
    "    else:\n",
    "        for n in notebooks:\n",
    "            convert(n, os.path.basename(n.replace(\".ipynb\", \"\")))\n",
    "        "
   ]
  },
  {
   "cell_type": "code",
   "execution_count": null,
   "metadata": {},
   "outputs": [],
   "source": []
  },
  {
   "cell_type": "code",
   "execution_count": 3,
   "metadata": {},
   "outputs": [],
   "source": [
    "import re\n",
    "\n",
    "def basic_improve(fname):\n",
    "    with open(fname, \"r\") as f:\n",
    "        r = f.read()\n",
    "    for b in [\"\\x00\", \"\\x1B\", \"\\x08\"]:\n",
    "        r = r.replace(b, \"\")\n",
    "    with open(fname, \"w\") as f:\n",
    "        f.write(r)\n",
    "    get_ipython().system(\"dos2unix {}\".format(fname))\n",
    "\n",
    "def improve_md(fname):\n",
    "    with open(fname, \"r\") as f:\n",
    "        r = f.read()\n",
    "    r = r.replace(\"```python\\n%%cpp\", \"```cpp\\n%%cpp\")\n",
    "    r = r.replace('\\n', \"SUPER_SLASH\" + \"_N_REPLACER\")\n",
    "    r = re.sub(r'\\<\\!--MD_BEGIN_FILTER--\\>.*?\\<\\!--MD_END_FILTER--\\>', \"\", r)\n",
    "    r = re.sub(r'(\\#SET_UP_MAGIC_BEGIN.*?\\#SET_UP_MAGIC_END)', \"<too much code>\", r)\n",
    "    r = r.replace(\"SUPER_SLASH\" + \"_N_REPLACER\", '\\n')\n",
    "    \n",
    "    def file_repl(matchobj, path=os.path.dirname(fname)):\n",
    "        fname = os.path.join(path, matchobj.group(1))\n",
    "        if fname.find(\"__FILE__\") == -1:\n",
    "            with open(fname, \"r\") as f:\n",
    "                return \"\\n```\\n\" + f.read() + \"\\n```\\n\"\n",
    "    \n",
    "    r = r.replace(\"</td>\", \"\")\n",
    "    r = r.replace(\"</tr>\", \"\")\n",
    "    \n",
    "    r = re.sub(r'\\<\\!--MD_FROM_FILE (.*?) --\\>', file_repl, r)\n",
    "    with open(fname, \"w\") as f:\n",
    "        f.write(r)\n",
    "        \n",
    "def improve_file(fname):\n",
    "    basic_improve(fname)\n",
    "    if fname.endswith(\".md\"):\n",
    "        improve_md(fname)\n"
   ]
  },
  {
   "cell_type": "code",
   "execution_count": 4,
   "metadata": {},
   "outputs": [
    {
     "name": "stdout",
     "output_type": "stream",
     "text": [
      "dos2unix: converting file ./../tools/set_up_magics.ipynb to Unix format ...\n",
      "dos2unix: converting file ./../tools/set_up_magics_dev.ipynb to Unix format ...\n",
      "dos2unix: converting file ./../tools/save_them_all.ipynb to Unix format ...\n",
      "dos2unix: converting file ./../sem01/sem1.ipynb to Unix format ...\n",
      "dos2unix: converting file ./../sem03-ints-floats/sem3_floats.ipynb to Unix format ...\n",
      "dos2unix: converting file ./../sem03-ints-floats/sem3_ints.ipynb to Unix format ...\n",
      "dos2unix: converting file ./../sem04-asm-arm/arm.ipynb to Unix format ...\n",
      "dos2unix: converting file ./../sem05-asm-arm-addressing/adressing.ipynb to Unix format ...\n",
      "dos2unix: converting file ./../sem06-asm-x86/asm_x86.ipynb to Unix format ...\n",
      "dos2unix: converting file ./../sem07-asm-x86-x87-sse/sse_x86.ipynb to Unix format ...\n",
      "dos2unix: converting file ./../sem07-asm-x86-x87-sse/floating_point_x86.ipynb to Unix format ...\n",
      "dos2unix: converting file ./../sem08-asm-x86-nostdlib/nostdlib.ipynb to Unix format ...\n",
      "dos2unix: converting file ./../sem09-low-level-io/low-level-io.ipynb to Unix format ...\n",
      "dos2unix: converting file ./../sem10-file-attributes/file-attrib.ipynb to Unix format ...\n",
      "dos2unix: converting file ./../sem11-mmap-instrumentation/mmap_and_instrumentation.ipynb to Unix format ...\n",
      "dos2unix: converting file ./../sem12-fork-exec-pipe/fork-pipe-exec.ipynb to Unix format ...\n",
      "dos2unix: converting file ./../sem13-signal/signal.ipynb to Unix format ...\n",
      "dos2unix: converting file ./../sem14-fifo-proc/fifo-proc.ipynb to Unix format ...\n",
      "dos2unix: converting file ./../sem15-ptrace/ptrace.ipynb to Unix format ...\n",
      "dos2unix: converting file ./../sem16-fcntl-dup-pipe/fcntl-dup-pipe.ipynb to Unix format ...\n",
      "dos2unix: converting file ./../tools/set_up_magics_dev.md to Unix format ...\n",
      "dos2unix: converting file ./../tools/set_up_magics.md to Unix format ...\n",
      "dos2unix: converting file ./../tools/save_them_all.md to Unix format ...\n",
      "dos2unix: converting file ./../sem01/README.md to Unix format ...\n",
      "dos2unix: converting file ./../sem03-ints-floats/sem3_ints.md to Unix format ...\n",
      "dos2unix: converting file ./../sem03-ints-floats/sem3_floats.md to Unix format ...\n",
      "dos2unix: converting file ./../sem04-asm-arm/README.md to Unix format ...\n",
      "dos2unix: converting file ./../sem05-asm-arm-addressing/README.md to Unix format ...\n",
      "dos2unix: converting file ./../sem06-asm-x86/README.md to Unix format ...\n",
      "dos2unix: converting file ./../sem07-asm-x86-x87-sse/floating_point_x86.md to Unix format ...\n",
      "dos2unix: converting file ./../sem07-asm-x86-x87-sse/sse_x86.md to Unix format ...\n",
      "dos2unix: converting file ./../sem08-asm-x86-nostdlib/README.md to Unix format ...\n",
      "dos2unix: converting file ./../sem09-low-level-io/README.md to Unix format ...\n",
      "dos2unix: converting file ./../sem10-file-attributes/README.md to Unix format ...\n",
      "dos2unix: converting file ./../sem11-mmap-instrumentation/README.md to Unix format ...\n",
      "dos2unix: converting file ./../sem12-fork-exec-pipe/README.md to Unix format ...\n",
      "dos2unix: converting file ./../sem13-signal/README.md to Unix format ...\n",
      "dos2unix: converting file ./../sem14-fifo-proc/README.md to Unix format ...\n",
      "dos2unix: converting file ./../sem15-ptrace/README.md to Unix format ...\n",
      "dos2unix: converting file ./../sem16-fcntl-dup-pipe/README.md to Unix format ...\n"
     ]
    }
   ],
   "source": [
    "for sfx in [\".ipynb\", \".md\"]:\n",
    "    for hdir in highlevel_dirs:\n",
    "        for fname in glob.glob(\"./{}/*\".format(hdir) + sfx):\n",
    "            improve_file(fname)"
   ]
  },
  {
   "cell_type": "code",
   "execution_count": 13,
   "metadata": {
    "scrolled": false
   },
   "outputs": [
    {
     "name": "stdout",
     "output_type": "stream",
     "text": [
      "> git add --ignore-errors  ../tools/*.ipynb ../tools/*.md ../tools/*.c ../tools/*.cpp ../sem01/*.ipynb ../sem01/*.md ../sem01/*.c ../sem01/*.cpp ../sem03-ints-floats/*.ipynb ../sem03-ints-floats/*.md ../sem03-ints-floats/*.c ../sem03-ints-floats/*.cpp ../sem04-asm-arm/*.ipynb ../sem04-asm-arm/*.md ../sem04-asm-arm/*.c ../sem04-asm-arm/*.cpp ../sem05-asm-arm-addressing/*.ipynb ../sem05-asm-arm-addressing/*.md ../sem05-asm-arm-addressing/*.c ../sem05-asm-arm-addressing/*.cpp ../sem06-asm-x86/*.ipynb ../sem06-asm-x86/*.md ../sem06-asm-x86/*.c ../sem06-asm-x86/*.cpp ../sem07-asm-x86-x87-sse/*.ipynb ../sem07-asm-x86-x87-sse/*.md ../sem07-asm-x86-x87-sse/*.c ../sem07-asm-x86-x87-sse/*.cpp ../sem08-asm-x86-nostdlib/*.ipynb ../sem08-asm-x86-nostdlib/*.md ../sem08-asm-x86-nostdlib/*.c ../sem08-asm-x86-nostdlib/*.cpp ../sem09-low-level-io/*.ipynb ../sem09-low-level-io/*.md ../sem09-low-level-io/*.c ../sem09-low-level-io/*.cpp ../sem10-file-attributes/*.ipynb ../sem10-file-attributes/*.md ../sem10-file-attributes/*.c ../sem10-file-attributes/*.cpp ../sem11-mmap-instrumentation/*.ipynb ../sem11-mmap-instrumentation/*.md ../sem11-mmap-instrumentation/*.c ../sem11-mmap-instrumentation/*.cpp ../sem12-fork-exec-pipe/*.ipynb ../sem12-fork-exec-pipe/*.md ../sem12-fork-exec-pipe/*.c ../sem12-fork-exec-pipe/*.cpp ../sem13-signal/*.ipynb ../sem13-signal/*.md ../sem13-signal/*.c ../sem13-signal/*.cpp ../sem14-fifo-proc/*.ipynb ../sem14-fifo-proc/*.md ../sem14-fifo-proc/*.c ../sem14-fifo-proc/*.cpp ../sem15-ptrace/*.ipynb ../sem15-ptrace/*.md ../sem15-ptrace/*.c ../sem15-ptrace/*.cpp ../sem16-fcntl-dup-pipe/*.ipynb ../sem16-fcntl-dup-pipe/*.md ../sem16-fcntl-dup-pipe/*.c ../sem16-fcntl-dup-pipe/*.cpp\n",
      "fatal: pathspec '../tools/*.c' did not match any files\n",
      "> git add -f ../tools/bash_popen_tmp/*.html -f ../sem01/bash_popen_tmp/*.html -f ../sem03-ints-floats/bash_popen_tmp/*.html -f ../sem04-asm-arm/bash_popen_tmp/*.html -f ../sem05-asm-arm-addressing/bash_popen_tmp/*.html -f ../sem06-asm-x86/bash_popen_tmp/*.html -f ../sem07-asm-x86-x87-sse/bash_popen_tmp/*.html -f ../sem08-asm-x86-nostdlib/bash_popen_tmp/*.html -f ../sem09-low-level-io/bash_popen_tmp/*.html -f ../sem10-file-attributes/bash_popen_tmp/*.html -f ../sem11-mmap-instrumentation/bash_popen_tmp/*.html -f ../sem12-fork-exec-pipe/bash_popen_tmp/*.html -f ../sem13-signal/bash_popen_tmp/*.html -f ../sem14-fifo-proc/bash_popen_tmp/*.html -f ../sem15-ptrace/bash_popen_tmp/*.html -f ../sem16-fcntl-dup-pipe/bash_popen_tmp/*.html\n",
      "fatal: pathspec '../sem01/bash_popen_tmp/*.html' did not match any files\n",
      "> git add -u\n",
      "warning: LF will be replaced by CRLF in tools/save_them_all.ipynb.\n",
      "The file will have its original line endings in your working directory.\n",
      "> git commit -m 'yet another update'\n",
      "warning: LF will be replaced by CRLF in tools/save_them_all.ipynb.\n",
      "The file will have its original line endings in your working directory.\n",
      "[master 2d11e0f] yet another update\n",
      "warning: LF will be replaced by CRLF in tools/save_them_all.ipynb.\n",
      "The file will have its original line endings in your working directory.\n",
      " 1 file changed, 45 insertions(+), 18 deletions(-)\n",
      "> git push origin master\n",
      "Counting objects: 4, done.\n",
      "Compressing objects: 100% (4/4), done.\n",
      "Writing objects: 100% (4/4), 920 bytes | 0 bytes/s, done.\n",
      "Total 4 (delta 3), reused 0 (delta 0)\n",
      "remote: Resolving deltas: 100% (3/3), completed with 3 local objects.\u001b[K\n",
      "To git@github.com:yuri-pechatnov/caos_2019-2020.git\n",
      "   c77723a..2d11e0f  master -> master\n"
     ]
    }
   ],
   "source": [
    "add_cmd = \"git add --ignore-errors \"\n",
    "add_cmd_f = \"git add\"\n",
    "for subdir in highlevel_dirs:\n",
    "    for sfx in [\".ipynb\", \".md\", \".c\", \".cpp\"]:\n",
    "        add_cmd += \" {}/*{}\".format(subdir, sfx)\n",
    "    add_cmd_f += \" -f {}/bash_popen_tmp/*.html\".format(subdir)\n",
    "    \n",
    "def execute_cmd(cmd):\n",
    "    print(\">\", cmd)\n",
    "    get_ipython().system(cmd)\n",
    "    \n",
    "execute_cmd(add_cmd)\n",
    "execute_cmd(add_cmd_f)\n",
    "execute_cmd(\"git add -u\")\n",
    "execute_cmd(\"git commit -m 'yet another update'\")\n",
    "execute_cmd(\"git push origin master\")"
   ]
  },
  {
   "cell_type": "code",
   "execution_count": null,
   "metadata": {},
   "outputs": [],
   "source": []
  },
  {
   "cell_type": "code",
   "execution_count": null,
   "metadata": {},
   "outputs": [],
   "source": []
  },
  {
   "cell_type": "code",
   "execution_count": null,
   "metadata": {},
   "outputs": [],
   "source": []
  }
 ],
 "metadata": {
  "kernelspec": {
   "display_name": "Python 3",
   "language": "python",
   "name": "python3"
  },
  "language_info": {
   "codemirror_mode": {
    "name": "ipython",
    "version": 3
   },
   "file_extension": ".py",
   "mimetype": "text/x-python",
   "name": "python",
   "nbconvert_exporter": "python",
   "pygments_lexer": "ipython3",
   "version": "3.5.2"
  }
 },
 "nbformat": 4,
 "nbformat_minor": 2
}
