{
 "cells": [
  {
   "cell_type": "code",
   "execution_count": 119,
   "metadata": {
    "scrolled": true
   },
   "outputs": [
    {
     "name": "stdout",
     "output_type": "stream",
     "text": [
      "Highlevel dirs: ['../sem16-fcntl-dup-pipe']\n"
     ]
    }
   ],
   "source": [
    "import glob\n",
    "import os\n",
    "import subprocess\n",
    "\n",
    "highlevel_dirs = sum([\n",
    "    #[\"../tools\"], \n",
    "    #sorted(glob.glob(\"../sem16*\")),\n",
    "    sorted(glob.glob(\"../sem16*\")),\n",
    "], [])\n",
    "\n",
    "print(\"Highlevel dirs:\", highlevel_dirs)"
   ]
  },
  {
   "cell_type": "code",
   "execution_count": 120,
   "metadata": {},
   "outputs": [
    {
     "name": "stdout",
     "output_type": "stream",
     "text": [
      "../sem16-fcntl-dup-pipe ['../sem16-fcntl-dup-pipe/fcntl-dup-pipe.ipynb']\n",
      "[NbConvertApp] Converting notebook ../sem16-fcntl-dup-pipe/fcntl-dup-pipe.ipynb to markdown\n",
      "[NbConvertApp] Writing 111642 bytes to ../sem16-fcntl-dup-pipe/README.md\n"
     ]
    }
   ],
   "source": [
    "\n",
    "def convert(n, d):\n",
    "    get_ipython().system(\"jupyter nbconvert {} --to markdown --output {}\".format(n, d))\n",
    "    #subprocess.check_call([\"jupyter\", \"nbconvert\", n, \"--to\", \"markdown\", \"--output\", d])\n",
    "\n",
    "for subdir in highlevel_dirs:\n",
    "    notebooks = glob.glob(subdir + \"/*.ipynb\")\n",
    "    print(subdir, notebooks)\n",
    "    for m in glob.glob(subdir + \"/*.md\"):\n",
    "        os.remove(m)\n",
    "    if len(notebooks) == 1:\n",
    "        convert(notebooks[0], \"README\")\n",
    "    else:\n",
    "        for n in notebooks:\n",
    "            convert(n, os.path.basename(n.replace(\".ipynb\", \"\")))\n",
    "        "
   ]
  },
  {
   "cell_type": "code",
   "execution_count": null,
   "metadata": {},
   "outputs": [],
   "source": []
  },
  {
   "cell_type": "code",
   "execution_count": 121,
   "metadata": {},
   "outputs": [],
   "source": [
    "import re\n",
    "\n",
    "def basic_improve(fname):\n",
    "    with open(fname, \"r\") as f:\n",
    "        r = f.read()\n",
    "    for b in [\"\\x00\", \"\\x1B\", \"\\x08\"]:\n",
    "        r = r.replace(b, \"\")\n",
    "    with open(fname, \"w\") as f:\n",
    "        f.write(r)\n",
    "    get_ipython().system(\"dos2unix {}\".format(fname))\n",
    "\n",
    "def improve_md(fname):\n",
    "    with open(fname, \"r\") as f:\n",
    "        r = f.read()\n",
    "    r = r.replace(\"```python\\n%%cpp\", \"```cpp\\n%%cpp\")\n",
    "    r = r.replace('\\n', \"SUPER_SLASH\" + \"_N_REPLACER\")\n",
    "    r = re.sub(r'\\<\\!--MD_BEGIN_FILTER--\\>.*?\\<\\!--MD_END_FILTER--\\>', \"\", r)\n",
    "    r = re.sub(r'(\\#SET_UP_MAGIC_BEGIN.*?\\#SET_UP_MAGIC_END)', \"<too much code>\", r)\n",
    "    r = r.replace(\"SUPER_SLASH\" + \"_N_REPLACER\", '\\n')\n",
    "    \n",
    "    def file_repl(matchobj, path=os.path.dirname(fname)):\n",
    "        fname = os.path.join(path, matchobj.group(1))\n",
    "        if fname.find(\"__FILE__\") == -1:\n",
    "            with open(fname, \"r\") as f:\n",
    "                return \"\\n```\\n\" + f.read() + \"\\n```\\n\"\n",
    "    \n",
    "    r = r.replace(\"</td>\", \"\")\n",
    "    r = r.replace(\"</tr>\", \"\")\n",
    "    \n",
    "    r = re.sub(r'\\<\\!--MD_FROM_FILE (.*?) --\\>', file_repl, r)\n",
    "    with open(fname, \"w\") as f:\n",
    "        f.write(r)\n",
    "        \n",
    "def improve_file(fname):\n",
    "    basic_improve(fname)\n",
    "    if fname.endswith(\".md\"):\n",
    "        improve_md(fname)\n"
   ]
  },
  {
   "cell_type": "code",
   "execution_count": 122,
   "metadata": {},
   "outputs": [
    {
     "name": "stdout",
     "output_type": "stream",
     "text": [
      "dos2unix: converting file ./../sem16-fcntl-dup-pipe/fcntl-dup-pipe.ipynb to Unix format ...\n",
      "dos2unix: converting file ./../sem16-fcntl-dup-pipe/README.md to Unix format ...\n"
     ]
    }
   ],
   "source": [
    "for sfx in [\".ipynb\", \".md\"]:\n",
    "    for hdir in highlevel_dirs:\n",
    "        for fname in glob.glob(\"./{}/*\".format(hdir) + sfx):\n",
    "            improve_file(fname)"
   ]
  },
  {
   "cell_type": "code",
   "execution_count": 125,
   "metadata": {
    "scrolled": false
   },
   "outputs": [
    {
     "name": "stdout",
     "output_type": "stream",
     "text": [
      "> git add --ignore-errors  ../sem16-fcntl-dup-pipe/*.ipynb\n",
      "> git add --ignore-errors  ../sem16-fcntl-dup-pipe/*.md\n",
      "> git add --ignore-errors  ../sem16-fcntl-dup-pipe/*.c\n",
      "> git add --ignore-errors  ../sem16-fcntl-dup-pipe/*.cpp\n",
      "> git add --ignore-errors -f  -f ../sem16-fcntl-dup-pipe/bash_popen_tmp/*.html\n",
      "fatal: pathspec '../sem16-fcntl-dup-pipe/bash_popen_tmp/*.html' did not match any files\n",
      "> git add --ignore-errors -f  -f ../sem16-fcntl-dup-pipe/interactive_launcher_tmp/*.log\n",
      "fatal: pathspec '../sem16-fcntl-dup-pipe/interactive_launcher_tmp/*.log' did not match any files\n",
      "> git add -u\n",
      "> git commit -m 'yet another update'\n",
      "On branch master\n",
      "Your branch is ahead of 'origin/master' by 2 commits.\n",
      "  (use \"git push\" to publish your local commits)\n",
      "Untracked files:\n",
      "\t\u001b[31m../.DS_Store\u001b[m\n",
      "\t\u001b[31m../._.DS_Store\u001b[m\n",
      "\t\u001b[31m../sem05-asm-arm-addressing/call.s\u001b[m\n",
      "\t\u001b[31m../sem06-asm-x86/tmp.0\u001b[m\n",
      "\t\u001b[31m../sem09-low-level-io/a.txt\u001b[m\n",
      "\t\u001b[31m../sem09-low-level-io/b.txt\u001b[m\n",
      "\t\u001b[31m../sem09-low-level-io/linux_example_input_001.txt\u001b[m\n",
      "\t\u001b[31m../sem09-low-level-io/linux_file_hello_world.out\u001b[m\n",
      "\t\u001b[31m../sem09-low-level-io/sdfr.txt\u001b[m\n",
      "\t\u001b[31m../sem09-low-level-io/strange_example.in\u001b[m\n",
      "\t\u001b[31m../sem09-low-level-io/strange_example.out\u001b[m\n",
      "\t\u001b[31m../sem09-low-level-io/winapi_example_input_001.txt\u001b[m\n",
      "\t\u001b[31m../sem10-file-attributes/ata.txt\u001b[m\n",
      "\t\u001b[31m../sem10-file-attributes/have read permission\u001b[m\n",
      "\t\u001b[31m../sem10-file-attributes/stat_example\u001b[m\n",
      "\t\u001b[31m../sem10-file-attributes/tmp2/\u001b[m\n",
      "\t\u001b[31m../sem11-mmap-instrumentation/buf.txt\u001b[m\n",
      "\t\u001b[31m../sem11-mmap-instrumentation/out.txt\u001b[m\n",
      "\t\u001b[31m../sem11-mmap-instrumentation/perf.data\u001b[m\n",
      "\t\u001b[31m../sem11-mmap-instrumentation/perf.data.old\u001b[m\n",
      "\t\u001b[31m../sem11-mmap-instrumentation/perf.log\u001b[m\n",
      "\t\u001b[31m../sem12-fork-exec-pipe/out.txt\u001b[m\n",
      "\t\u001b[31m../sem13-signal/core\u001b[m\n",
      "\t\u001b[31m../sem14-fifo-proc/hello\u001b[m\n",
      "\t\u001b[31m\"../sem14-fifo-proc/hello.html\\\\\"\u001b[m\n",
      "\t\u001b[31m../sem14-fifo-proc/hello_finished\u001b[m\n",
      "\t\u001b[31m../sem14-fifo-proc/unex.txt\u001b[m\n",
      "\t\u001b[31m../sem16-fcntl-dup-pipe/._16.ipynb\u001b[m\n",
      "\t\u001b[31m../sem16-fcntl-dup-pipe/fcntl_flags.err\u001b[m\n",
      "\t\u001b[31m../sem16-fcntl-dup-pipe/fcntl_open_flags.1\u001b[m\n",
      "\t\u001b[31m../sem16-fcntl-dup-pipe/fcntl_open_flags.2\u001b[m\n",
      "\t\u001b[31m../sem16-fcntl-dup-pipe/fcntl_open_flags.err\u001b[m\n",
      "\t\u001b[31m../sem16-fcntl-dup-pipe/out.txt\u001b[m\n",
      "\t\u001b[31m../sem17-sockets-tcp-udp/._17.ipynb\u001b[m\n",
      "\t\u001b[31m../sem17-sockets-tcp-udp/._README.md\u001b[m\n",
      "\t\u001b[31minteractive_launcher_tmp/26672992216455199.log.md\u001b[m\n",
      "\t\u001b[31minteractive_launcher_tmp/704228343092166969.log.md\u001b[m\n",
      "\t\u001b[31minteractive_launcher_tmp/773937186095382150.log.md\u001b[m\n",
      "\t\u001b[31mlauncher.py\u001b[m\n",
      "\t\u001b[31mout.txt\u001b[m\n",
      "\t\u001b[31mout2.txt\u001b[m\n",
      "\n",
      "nothing added to commit but untracked files present\n",
      "> git push origin master\n",
      "Counting objects: 14, done.\n",
      "Compressing objects: 100% (14/14), done.\n",
      "Writing objects: 100% (14/14), 5.40 KiB | 0 bytes/s, done.\n",
      "Total 14 (delta 10), reused 0 (delta 0)\n",
      "remote: Resolving deltas: 100% (10/10), completed with 9 local objects.\u001b[K\n",
      "To git@github.com:yuri-pechatnov/caos_2019-2020.git\n",
      "   f6af751..b05fce3  master -> master\n"
     ]
    }
   ],
   "source": [
    "cmds = []\n",
    "add_cmd = \"git add --ignore-errors \"\n",
    "add_cmd_f = \"git add --ignore-errors -f \"\n",
    "for subdir in highlevel_dirs:\n",
    "    for sfx in [\".ipynb\", \".md\", \".c\", \".cpp\"]:\n",
    "        cmds.append(add_cmd + \" {}/*{}\".format(subdir, sfx))\n",
    "    cmds.append(add_cmd_f + \" -f {}/bash_popen_tmp/*.html\".format(subdir))\n",
    "    cmds.append(add_cmd_f + \" -f {}/interactive_launcher_tmp/*.log\".format(subdir))\n",
    "    \n",
    "def execute_cmd(cmd):\n",
    "    print(\">\", cmd)\n",
    "    get_ipython().system(cmd)\n",
    "    \n",
    "for cmd in cmds:\n",
    "    execute_cmd(cmd)\n",
    "execute_cmd(\"git add -u\")\n",
    "execute_cmd(\"git commit -m 'yet another update'\")\n",
    "execute_cmd(\"git push origin master\")"
   ]
  },
  {
   "cell_type": "code",
   "execution_count": 124,
   "metadata": {},
   "outputs": [
    {
     "name": "stdout",
     "output_type": "stream",
     "text": [
      "remote: Enumerating objects: 3, done.\u001b[K\n",
      "remote: Counting objects: 100% (3/3), done.\u001b[K\n",
      "remote: Compressing objects: 100% (3/3), done.\u001b[K\n",
      "remote: Total 3 (delta 0), reused 0 (delta 0), pack-reused 0\u001b[K\n",
      "Unpacking objects: 100% (3/3), done.\n",
      "From github.com:yuri-pechatnov/caos_2019-2020\n",
      " * branch            master     -> FETCH_HEAD\n",
      "   f31fe70..f6af751  master     -> origin/master\n",
      "\u001b[20A\u001b[m\u001b[1;71H\u001b[7mModified\u001b[22;16H\u001b[m              \u001b[7m[ Can now UnJustify! ]\u001b[m\u001b[K\u001b[24;45Hjustify   \u001b[7m^_\u001b[m Go To Lineaster' of github.com:yuri-pechatnov/caos_2019-2020\u001b[22;16H\u001b[7m[ line 1/8 (12%), col 1/66 (1%), char 0/293 (0%) ]"
     ]
    }
   ],
   "source": [
    "!git pull origin master"
   ]
  },
  {
   "cell_type": "code",
   "execution_count": null,
   "metadata": {},
   "outputs": [],
   "source": []
  },
  {
   "cell_type": "code",
   "execution_count": null,
   "metadata": {},
   "outputs": [],
   "source": []
  }
 ],
 "metadata": {
  "kernelspec": {
   "display_name": "Python 3",
   "language": "python",
   "name": "python3"
  },
  "language_info": {
   "codemirror_mode": {
    "name": "ipython",
    "version": 3
   },
   "file_extension": ".py",
   "mimetype": "text/x-python",
   "name": "python",
   "nbconvert_exporter": "python",
   "pygments_lexer": "ipython3",
   "version": "3.5.2"
  }
 },
 "nbformat": 4,
 "nbformat_minor": 2
}
