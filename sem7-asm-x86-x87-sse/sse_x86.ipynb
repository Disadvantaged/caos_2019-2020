{
 "cells": [
  {
   "cell_type": "code",
   "execution_count": 1,
   "metadata": {},
   "outputs": [
    {
     "data": {
      "application/javascript": [
       "// setup cpp code highlighting\n",
       "IPython.CodeCell.options_default.highlight_modes[\"text/x-c++src\"] = {'reg':[/^%%cpp/]} ;"
      ],
      "text/plain": [
       "<IPython.core.display.Javascript object>"
      ]
     },
     "metadata": {},
     "output_type": "display_data"
    }
   ],
   "source": [
    "# make magics here. Look at previous notebooks to see readable version\n",
    "exec('\\nget_ipython().run_cell_magic(\\'javascript\\', \\'\\', \\'// setup cpp code highlighting\\\\nIPython.CodeCell.options_default.highlight_modes[\"text/x-c++src\"] = {\\\\\\'reg\\\\\\':[/^%%cpp/]} ;\\')\\n\\n# creating magics\\nfrom IPython.core.magic import register_cell_magic, register_line_magic\\nfrom IPython.display import display, Markdown\\n\\n@register_cell_magic\\ndef save_file(fname, cell):\\n    cell = cell if cell[-1] == \\'\\\\n\\' else cell + \"\\\\n\"\\n    cmds = []\\n    with open(fname, \"w\") as f:\\n        for line in cell.split(\"\\\\n\"):\\n            if line.startswith(\"%\"):\\n                run_prefix = \"%run \"\\n                assert line.startswith(run_prefix)\\n                cmds.append(line[len(run_prefix):].strip())\\n            else:\\n                f.write(line + \"\\\\n\")\\n    for cmd in cmds:\\n        display(Markdown(\"Run: `%s`\" % cmd))\\n        get_ipython().system(cmd)\\n\\n@register_cell_magic\\ndef cpp(fname, cell):\\n    save_file(fname, cell)\\n\\n@register_cell_magic\\ndef asm(fname, cell):\\n    save_file(fname, cell)\\n    \\n@register_cell_magic\\ndef makefile(fname, cell):\\n    assert not fname\\n    save_file(\"makefile\", cell.replace(\" \" * 4, \"\\\\t\"))\\n        \\n@register_line_magic\\ndef p(line):\\n    print(\"{} = {}\".format(line, eval(line)))\\n')"
   ]
  },
  {
   "cell_type": "markdown",
   "metadata": {},
   "source": [
    "# SSE\n",
    "\n",
    "Streaming SIMD extensions\n",
    "\n",
    "Single instruction multiple data\n",
    "\n",
    "Сравним sse и x87 на 32-битной и 64-битной архитектуре"
   ]
  },
  {
   "cell_type": "code",
   "execution_count": 24,
   "metadata": {},
   "outputs": [
    {
     "data": {
      "text/markdown": [
       "Run: `gcc -m32 -mfpmath=387 -masm=intel -O3 double_mul.c -S -o double_mul.S # SSE, 32bit`"
      ],
      "text/plain": [
       "<IPython.core.display.Markdown object>"
      ]
     },
     "metadata": {},
     "output_type": "display_data"
    },
    {
     "data": {
      "text/markdown": [
       "Run: `cat double_mul.S | grep -v \"^\\s*\\.\"`"
      ],
      "text/plain": [
       "<IPython.core.display.Markdown object>"
      ]
     },
     "metadata": {},
     "output_type": "display_data"
    },
    {
     "name": "stdout",
     "output_type": "stream",
     "text": [
      "mul:\r\n",
      "\tfldz\r\n",
      "\tfmul\tQWORD PTR [esp+4]\r\n",
      "\tret\r\n",
      "mul2:\r\n",
      "\tfld\tQWORD PTR [esp+12]\r\n",
      "\tfmul\tQWORD PTR [esp+4]\r\n",
      "\tret\r\n"
     ]
    }
   ],
   "source": [
    "%%cpp double_mul.c\n",
    "%run gcc -m32 -mfpmath=387 -masm=intel -O3 double_mul.c -S -o double_mul.S # x87, 32bit\n",
    "%run cat double_mul.S | grep -v \"^\\s*\\.\"\n",
    "    \n",
    "double mul(double a) { \n",
    "    return a * 0;\n",
    "}\n",
    "\n",
    "double mul2(double a, double b) { \n",
    "    return a * b;\n",
    "}"
   ]
  },
  {
   "cell_type": "code",
   "execution_count": 32,
   "metadata": {},
   "outputs": [
    {
     "data": {
      "text/markdown": [
       "Run: `gcc -m64 -mfpmath=387 -masm=intel -O3 double_mul.c -S -o double_mul.S # x87, 64bit`"
      ],
      "text/plain": [
       "<IPython.core.display.Markdown object>"
      ]
     },
     "metadata": {},
     "output_type": "display_data"
    },
    {
     "data": {
      "text/markdown": [
       "Run: `cat double_mul.S | grep -v \"^\\s*\\.\"`"
      ],
      "text/plain": [
       "<IPython.core.display.Markdown object>"
      ]
     },
     "metadata": {},
     "output_type": "display_data"
    },
    {
     "name": "stdout",
     "output_type": "stream",
     "text": [
      "mul:\r\n",
      "\tmovsd\tQWORD PTR [rsp-8], xmm0\r\n",
      "\tfld\tQWORD PTR [rsp-8]\r\n",
      "\tfmul\tDWORD PTR .LC0[rip]\r\n",
      "\tfstp\tQWORD PTR [rsp-8]\r\n",
      "\tmovsd\txmm0, QWORD PTR [rsp-8]\r\n",
      "\tret\r\n",
      "mul2:\r\n",
      "\tmovsd\tQWORD PTR [rsp-8], xmm0\r\n",
      "\tfld\tQWORD PTR [rsp-8]\r\n",
      "\tmovsd\tQWORD PTR [rsp-8], xmm1\r\n",
      "\tfld\tQWORD PTR [rsp-8]\r\n",
      "\tfmulp\tst(1), st\r\n",
      "\tfstp\tQWORD PTR [rsp-8]\r\n",
      "\tmovsd\txmm0, QWORD PTR [rsp-8]\r\n",
      "\tret\r\n"
     ]
    }
   ],
   "source": [
    "%%cpp double_mul.c\n",
    "%run gcc -m64 -mfpmath=387 -masm=intel -O3 double_mul.c -S -o double_mul.S # x87, 64bit\n",
    "%run cat double_mul.S | grep -v \"^\\s*\\.\"\n",
    "    \n",
    "double mul(double a) { \n",
    "    return a * 0;\n",
    "}\n",
    "\n",
    "double mul2(double a, double b) { \n",
    "    return a * b;\n",
    "}"
   ]
  },
  {
   "cell_type": "code",
   "execution_count": 166,
   "metadata": {},
   "outputs": [
    {
     "data": {
      "text/markdown": [
       "Run: `gcc -m32 -mfpmath=sse -msse4 -masm=intel -O3 double_mul.c -S -o double_mul.S # SSE, 32bit (add -msse4!)`"
      ],
      "text/plain": [
       "<IPython.core.display.Markdown object>"
      ]
     },
     "metadata": {},
     "output_type": "display_data"
    },
    {
     "data": {
      "text/markdown": [
       "Run: `cat double_mul.S | grep -v \"^\\s*\\.\"`"
      ],
      "text/plain": [
       "<IPython.core.display.Markdown object>"
      ]
     },
     "metadata": {},
     "output_type": "display_data"
    },
    {
     "name": "stdout",
     "output_type": "stream",
     "text": [
      "mul:\r\n",
      "\tsub\tesp, 12\r\n",
      "\tmovsd\txmm0, QWORD PTR .LC0\r\n",
      "\tmulsd\txmm0, QWORD PTR [esp+16]\r\n",
      "\tmovsd\tQWORD PTR [esp], xmm0\r\n",
      "\tfld\tQWORD PTR [esp]\r\n",
      "\tadd\tesp, 12\r\n",
      "\tret\r\n",
      "mul2:\r\n",
      "\tsub\tesp, 12\r\n",
      "\tmovsd\txmm0, QWORD PTR [esp+24]\r\n",
      "\tmulsd\txmm0, QWORD PTR [esp+16]\r\n",
      "\tmovsd\tQWORD PTR [esp], xmm0\r\n",
      "\tfld\tQWORD PTR [esp]\r\n",
      "\tadd\tesp, 12\r\n",
      "\tret\r\n"
     ]
    }
   ],
   "source": [
    "%%cpp double_mul.c\n",
    "%run gcc -m32 -mfpmath=sse -msse4 -masm=intel -O3 double_mul.c -S -o double_mul.S # SSE, 32bit (add -msse4!)\n",
    "%run cat double_mul.S | grep -v \"^\\s*\\.\"\n",
    "    \n",
    "double mul(double a) { \n",
    "    return a * 13;\n",
    "}\n",
    "\n",
    "double mul2(double a, double b) { \n",
    "    return a * b;\n",
    "}"
   ]
  },
  {
   "cell_type": "code",
   "execution_count": 117,
   "metadata": {},
   "outputs": [
    {
     "data": {
      "text/markdown": [
       "Run: `gcc -m64 -mfpmath=sse -masm=intel -O3 double_mul.c -S -o double_mul.S # SSE, 64bit`"
      ],
      "text/plain": [
       "<IPython.core.display.Markdown object>"
      ]
     },
     "metadata": {},
     "output_type": "display_data"
    },
    {
     "data": {
      "text/markdown": [
       "Run: `cat double_mul.S | grep -v \"^\\s*\\.\"`"
      ],
      "text/plain": [
       "<IPython.core.display.Markdown object>"
      ]
     },
     "metadata": {},
     "output_type": "display_data"
    },
    {
     "name": "stdout",
     "output_type": "stream",
     "text": [
      "mul:\r\n",
      "\tmulsd\txmm0, QWORD PTR .LC0[rip]\r\n",
      "\tret\r\n",
      "mul2:\r\n",
      "\tmulsd\txmm0, xmm1\r\n",
      "\tret\r\n"
     ]
    }
   ],
   "source": [
    "%%cpp double_mul.c\n",
    "%run gcc -m64 -mfpmath=sse -masm=intel -O3 double_mul.c -S -o double_mul.S # SSE, 64bit\n",
    "%run cat double_mul.S | grep -v \"^\\s*\\.\"\n",
    "    \n",
    "double mul(double a) { \n",
    "    return a * 0;\n",
    "}\n",
    "\n",
    "double mul2(double a, double b) { \n",
    "    return a * b;\n",
    "}"
   ]
  },
  {
   "cell_type": "markdown",
   "metadata": {},
   "source": [
    "## Через боль и страдания пишем аналогичный ассемблерный код для SSE 32bit"
   ]
  },
  {
   "cell_type": "code",
   "execution_count": 116,
   "metadata": {},
   "outputs": [
    {
     "data": {
      "text/markdown": [
       "Run: `gcc -msse4 -g3 -m32 -masm=intel check_mul.c -o check_mul.exe`"
      ],
      "text/plain": [
       "<IPython.core.display.Markdown object>"
      ]
     },
     "metadata": {},
     "output_type": "display_data"
    },
    {
     "data": {
      "text/markdown": [
       "Run: `./check_mul.exe`"
      ],
      "text/plain": [
       "<IPython.core.display.Markdown object>"
      ]
     },
     "metadata": {},
     "output_type": "display_data"
    },
    {
     "name": "stdout",
     "output_type": "stream",
     "text": [
      "mul(1.5) = 19.500000000\r\n",
      "mul2(2.1, 20) = 42.000000000\r\n"
     ]
    }
   ],
   "source": [
    "%%cpp check_mul.c\n",
    "%run gcc -msse4 -g3 -m32 -masm=intel check_mul.c -o check_mul.exe\n",
    "%run ./check_mul.exe\n",
    "\n",
    "#include <stdio.h>\n",
    "#include <assert.h>\n",
    "\n",
    "double mul(double a);\n",
    "double mul2(double a, double b);\n",
    "    \n",
    "__asm__ (R\"(\n",
    ".text\n",
    "mul:\n",
    "    movsd    xmm0, [esp+4]  \n",
    "    lea      eax, .mconst13\n",
    "    mulsd    xmm0, QWORD PTR [eax]\n",
    "    movsd    [esp+4], xmm0\n",
    "    fld      QWORD PTR [esp+4]\n",
    "    ret\n",
    "mul2:\n",
    "    movsd   xmm0, [esp+12]  \n",
    "    mulsd   xmm0, QWORD PTR [esp+4]\n",
    "    movsd   [esp+12], xmm0\n",
    "    fld     QWORD PTR [esp+12]\n",
    "    ret\n",
    ".mconst13:\n",
    "    .long 0\n",
    "    .long 1076494336\n",
    ")\");\n",
    "\n",
    "int main() {\n",
    "    printf(\"mul(1.5) = %0.9lf\\n\", mul(1.5));\n",
    "    printf(\"mul2(2.1, 20) = %0.9lf\\n\", mul2(2.1, 20));\n",
    "    return 0;\n",
    "}\n",
    "\n",
    "\n"
   ]
  },
  {
   "cell_type": "markdown",
   "metadata": {},
   "source": [
    "# Intrinsics"
   ]
  },
  {
   "cell_type": "code",
   "execution_count": 183,
   "metadata": {},
   "outputs": [
    {
     "data": {
      "text/markdown": [
       "Run: `gcc -m32 -msse4 -O3 bitmask.c -S -o bitmask.S # SSE, 64bit`"
      ],
      "text/plain": [
       "<IPython.core.display.Markdown object>"
      ]
     },
     "metadata": {},
     "output_type": "display_data"
    },
    {
     "data": {
      "text/markdown": [
       "Run: `cat bitmask.S | grep -v \"^\\s*\\.\"`"
      ],
      "text/plain": [
       "<IPython.core.display.Markdown object>"
      ]
     },
     "metadata": {},
     "output_type": "display_data"
    },
    {
     "name": "stdout",
     "output_type": "stream",
     "text": [
      "bit_and:\r\n",
      "\tpushl\t%ebp\r\n",
      "\tpushl\t%edi\r\n",
      "\tpushl\t%esi\r\n",
      "\tpushl\t%ebx\r\n",
      "\tsubl\t$28, %esp\r\n",
      "\tmovl\t48(%esp), %edx\r\n",
      "\tmovl\t52(%esp), %edi\r\n",
      "\tmovl\t56(%esp), %esi\r\n",
      "\tmovl\t%edx, %eax\r\n",
      "\tandl\t$15, %eax\r\n",
      "\tshrl\t$2, %eax\r\n",
      "\tnegl\t%eax\r\n",
      "\tandl\t$3, %eax\r\n",
      "\tje\t.L7\r\n",
      "\tmovl\t(%edx), %ecx\r\n",
      "\tandl\t(%edi), %ecx\r\n",
      "\tcmpl\t$1, %eax\r\n",
      "\tmovl\t%ecx, (%esi)\r\n",
      "\tje\t.L8\r\n",
      "\tmovl\t4(%edx), %ecx\r\n",
      "\tandl\t4(%edi), %ecx\r\n",
      "\tcmpl\t$3, %eax\r\n",
      "\tmovl\t%ecx, 4(%esi)\r\n",
      "\tjne\t.L9\r\n",
      "\tmovl\t8(%edi), %ecx\r\n",
      "\tandl\t8(%edx), %ecx\r\n",
      "\tmovl\t$37, 4(%esp)\r\n",
      "\tmovl\t$3, (%esp)\r\n",
      "\tmovl\t%ecx, 8(%esi)\r\n",
      "\tmovl\t$40, %ecx\r\n",
      "\tmovl\t$36, %ebp\r\n",
      "\tmovl\t$9, 12(%esp)\r\n",
      "\tsubl\t%eax, %ecx\r\n",
      "\tmovl\t%ecx, 8(%esp)\r\n",
      "\tsall\t$2, %eax\r\n",
      "\tleal\t(%edi,%eax), %ebx\r\n",
      "\tleal\t(%edx,%eax), %ecx\r\n",
      "\taddl\t%esi, %eax\r\n",
      "\tcmpl\t$10, 12(%esp)\r\n",
      "\tmovdqu\t(%ebx), %xmm0\r\n",
      "\tpand\t(%ecx), %xmm0\r\n",
      "\tmovups\t%xmm0, (%eax)\r\n",
      "\tmovdqu\t16(%ebx), %xmm0\r\n",
      "\tpand\t16(%ecx), %xmm0\r\n",
      "\tmovups\t%xmm0, 16(%eax)\r\n",
      "\tmovdqu\t32(%ebx), %xmm0\r\n",
      "\tpand\t32(%ecx), %xmm0\r\n",
      "\tmovups\t%xmm0, 32(%eax)\r\n",
      "\tmovdqu\t48(%ebx), %xmm0\r\n",
      "\tpand\t48(%ecx), %xmm0\r\n",
      "\tmovups\t%xmm0, 48(%eax)\r\n",
      "\tmovdqu\t64(%ebx), %xmm0\r\n",
      "\tpand\t64(%ecx), %xmm0\r\n",
      "\tmovups\t%xmm0, 64(%eax)\r\n",
      "\tmovdqu\t80(%ebx), %xmm0\r\n",
      "\tpand\t80(%ecx), %xmm0\r\n",
      "\tmovups\t%xmm0, 80(%eax)\r\n",
      "\tmovdqu\t96(%ebx), %xmm0\r\n",
      "\tpand\t96(%ecx), %xmm0\r\n",
      "\tmovups\t%xmm0, 96(%eax)\r\n",
      "\tmovdqu\t112(%ebx), %xmm0\r\n",
      "\tpand\t112(%ecx), %xmm0\r\n",
      "\tmovups\t%xmm0, 112(%eax)\r\n",
      "\tmovdqu\t128(%ebx), %xmm0\r\n",
      "\tpand\t128(%ecx), %xmm0\r\n",
      "\tmovups\t%xmm0, 128(%eax)\r\n",
      "\tjne\t.L4\r\n",
      "\tmovdqu\t144(%ebx), %xmm0\r\n",
      "\tpand\t144(%ecx), %xmm0\r\n",
      "\tmovups\t%xmm0, 144(%eax)\r\n",
      "\tmovl\t(%esp), %eax\r\n",
      "\tmovl\t4(%esp), %ecx\r\n",
      "\taddl\t%ebp, %eax\r\n",
      "\tsubl\t%ebp, %ecx\r\n",
      "\tcmpl\t8(%esp), %ebp\r\n",
      "\tje\t.L1\r\n",
      "\tmovl\t(%edi,%eax,4), %ebp\r\n",
      "\tandl\t(%edx,%eax,4), %ebp\r\n",
      "\tcmpl\t$1, %ecx\r\n",
      "\tleal\t0(,%eax,4), %ebx\r\n",
      "\tmovl\t%ebp, (%esi,%eax,4)\r\n",
      "\tje\t.L1\r\n",
      "\tmovl\t4(%edx,%ebx), %eax\r\n",
      "\tandl\t4(%edi,%ebx), %eax\r\n",
      "\tcmpl\t$2, %ecx\r\n",
      "\tmovl\t%eax, 4(%esi,%ebx)\r\n",
      "\tje\t.L1\r\n",
      "\tmovl\t8(%edx,%ebx), %eax\r\n",
      "\tandl\t8(%edi,%ebx), %eax\r\n",
      "\tmovl\t%eax, 8(%esi,%ebx)\r\n",
      "\taddl\t$28, %esp\r\n",
      "\tpopl\t%ebx\r\n",
      "\tpopl\t%esi\r\n",
      "\tpopl\t%edi\r\n",
      "\tpopl\t%ebp\r\n",
      "\tret\r\n",
      "\tmovl\t$40, %ebp\r\n",
      "\tmovl\t$10, 12(%esp)\r\n",
      "\tmovl\t$40, 8(%esp)\r\n",
      "\tmovl\t$40, 4(%esp)\r\n",
      "\tmovl\t$0, (%esp)\r\n",
      "\tjmp\t.L2\r\n",
      "\tmovl\t$38, 4(%esp)\r\n",
      "\tmovl\t$2, (%esp)\r\n",
      "\tjmp\t.L3\r\n",
      "\tmovl\t$39, 4(%esp)\r\n",
      "\tmovl\t$1, (%esp)\r\n",
      "\tjmp\t.L3\r\n",
      "bit_and_2:\r\n",
      "\tmovl\t4(%esp), %ecx\r\n",
      "\tmovl\t8(%esp), %edx\r\n",
      "\tmovl\t12(%esp), %eax\r\n",
      "\tmovaps\t(%ecx), %xmm0\r\n",
      "\tandps\t(%edx), %xmm0\r\n",
      "\tmovaps\t%xmm0, (%eax)\r\n",
      "\tmovaps\t16(%ecx), %xmm0\r\n",
      "\tandps\t16(%edx), %xmm0\r\n",
      "\tmovaps\t%xmm0, 16(%eax)\r\n",
      "\tmovaps\t32(%ecx), %xmm0\r\n",
      "\tandps\t32(%edx), %xmm0\r\n",
      "\tmovaps\t%xmm0, 32(%eax)\r\n",
      "\tmovaps\t48(%ecx), %xmm0\r\n",
      "\tandps\t48(%edx), %xmm0\r\n",
      "\tmovaps\t%xmm0, 48(%eax)\r\n",
      "\tmovaps\t64(%ecx), %xmm0\r\n",
      "\tandps\t64(%edx), %xmm0\r\n",
      "\tmovaps\t%xmm0, 64(%eax)\r\n",
      "\tmovaps\t80(%ecx), %xmm0\r\n",
      "\tandps\t80(%edx), %xmm0\r\n",
      "\tmovaps\t%xmm0, 80(%eax)\r\n",
      "\tmovaps\t96(%ecx), %xmm0\r\n",
      "\tandps\t96(%edx), %xmm0\r\n",
      "\tmovaps\t%xmm0, 96(%eax)\r\n",
      "\tmovaps\t112(%ecx), %xmm0\r\n",
      "\tandps\t112(%edx), %xmm0\r\n",
      "\tmovaps\t%xmm0, 112(%eax)\r\n",
      "\tmovaps\t128(%ecx), %xmm0\r\n",
      "\tandps\t128(%edx), %xmm0\r\n",
      "\tmovaps\t%xmm0, 128(%eax)\r\n",
      "\tmovaps\t144(%ecx), %xmm0\r\n",
      "\tandps\t144(%edx), %xmm0\r\n",
      "\tmovaps\t%xmm0, 144(%eax)\r\n",
      "\tret\r\n"
     ]
    }
   ],
   "source": [
    "%%cpp bitmask.c\n",
    "%run gcc -m32 -msse4 -O3 bitmask.c -S -o bitmask.S # SSE, 64bit\n",
    "%run cat bitmask.S | grep -v \"^\\s*\\.\"\n",
    "  \n",
    "    \n",
    "#include <xmmintrin.h>\n",
    "    \n",
    "void bit_and(const int* __restrict__ a, \n",
    "             const int* __restrict__ b, \n",
    "             int* __restrict__ c) {\n",
    "    for (int i = 0; i < 4 * 10; ++i) {\n",
    "        c[i] = a[i] & b[i];\n",
    "    }\n",
    "}\n",
    "\n",
    "void bit_and_2(const int* __restrict__ a, \n",
    "               const int* __restrict__ b, \n",
    "               int* __restrict__ c) {\n",
    "    for (int i = 0; i < 10; i += 1) {\n",
    "        ((__m128*)c)[i] = _mm_and_ps(((__m128*)a)[i], ((__m128*)b)[i]);\n",
    "    }\n",
    "}\n",
    "    "
   ]
  },
  {
   "cell_type": "code",
   "execution_count": 189,
   "metadata": {},
   "outputs": [
    {
     "data": {
      "text/markdown": [
       "Run: `gcc -m64 -msse4 -O3 bitmask_test.c bitmask.c -o bitmask_test.exe # SSE, 64bit`"
      ],
      "text/plain": [
       "<IPython.core.display.Markdown object>"
      ]
     },
     "metadata": {},
     "output_type": "display_data"
    },
    {
     "data": {
      "text/markdown": [
       "Run: `./bitmask_test.exe`"
      ],
      "text/plain": [
       "<IPython.core.display.Markdown object>"
      ]
     },
     "metadata": {},
     "output_type": "display_data"
    },
    {
     "name": "stdout",
     "output_type": "stream",
     "text": [
      "0x7ffc31c9a580 0x7ffc31c9ab00 0x7ffc31c9b080 0x7ffc31c9b600\r\n"
     ]
    }
   ],
   "source": [
    "%%cpp bitmask_test.c\n",
    "%run gcc -m64 -msse4 -O3 bitmask_test.c bitmask.c -o bitmask_test.exe # SSE, 64bit\n",
    "%run ./bitmask_test.exe\n",
    " \n",
    "#include <stdio.h>\n",
    "#include <assert.h>\n",
    "#include <xmmintrin.h>\n",
    "    \n",
    "void bit_and(const int* __restrict__ a, \n",
    "             const int* __restrict__ b, \n",
    "             int* __restrict__ c);\n",
    "void bit_and_2(const int* __restrict__ a, \n",
    "               const int* __restrict__ b, \n",
    "               int* __restrict__ c);\n",
    "    \n",
    "\n",
    "int main() {\n",
    "    char __attribute__((aligned(128))) ac[128 * 10 + 3] = \"ahjlvbshrvkbvjknkjsnbjskndsenckjwncskjncvsjckjsncksjncskjdnckjsncjksdncndkcnsdkjcnsdcjksndcjksdncjksdnjkdcnjknckdjcahjlvbshrvkbvjknkjsnbjskndsenckjwncskjncvsjckjsncksjncskjdnckjsncjksdncndkcnsdkjcnsdcjksndcjksdncjksdnjkdcnjknckdjcahjlvbshrvkbvjknkjsnbjskndsenckjwncskjncvsjckjsncksjncskjdnckjsncjksdncndkcnsdkjcnsdcjksndcjksdncjksdnjkdcnjknckdjcahjlvbshrvkbvjknkjsnbjskndsenckjwncskjncvsjckjsncksjncskjdnckjsncjksdncndkcnsdkjcnsdcjksndcjksdncjksdnjkdcnjknckdjcahjlvbshrvkbvjknkjsnbjskndsenckjwncskjncvsjckjsncksjncskjdnckjsncjksdncndkcnsdkjcnsdcjksndcjksdncjksdnjkdcnjknckdjcahjlvbshrvkbvjknkjsnbjskndsenckjwncskjncvsjckjsncksjncskjdnckjsncjksdncndkcnsdkjcnsdcjksndcjksdncjksdnjkdcnjknckdjcahjlvbshrvkbvjknkjsnbjskndsenckjwncskjncvsjckjsncksjncskjdnckjsncjksdncndkcnsdkjcnsdcjksndcjksdncjksdnjkdcnjknckdjcahjlvbshrvkbvjknkjsnbjskndsenckjwncskjncvsjckjsncksjncskjdnckjsncjksdncndkcnsdkjcnsdcjksndcjksdncjksdnjkdcnjknckdjcahjlvbshrvkbvjknkjsnbjskndsenckjwncskjncvsjckjsncksjncskjdnckjsncjksdncndkcnsdkjcnsdcjksndcjksdncjksdnjkdcnjknckdjcahjlvbshrvkbvjknkjsnbjskndsenckjwncskjncvsjckjsncksjncskjdnckjsncjksdncndkcnsdkjcnsdcjksndcjksdncjksdnjkdcnjknckdjc\";\n",
    "    char __attribute__((aligned(128))) bc[128 * 10 + 3] = \"ahjlascscsdafbshrvkbvjknkjsnbjskndsenckjwncskjncvsjckjsncksjncskjdnckjsncjksdncndkcnsdkjcnsdcjksndcjksdncjksdnjkdcnjknckdjcahjlvbshrvkbvjknkjsnbjskndsenckjwncskjncvsjckjsncksjncskjdnckjsncjksdncndkcnsdkjcnsdcjksndcjksdncjksdnjkdcnjknckdjcahjlvbshrvkbvjknkjsnbjskndsenckjwncskjncvsjckjsncksjncskjdnckjsncjksdncndkcnsdkjcnsdcjksndcjksdncjksdnjkdcnjknckdjcahjlvbshrvkbvjknkjsnbjskndsenckjwncskjncvsjckjsncksjncskjdnckjsncjksdncndkcnsdkjcnsdcjksndcjksdncjksdnjkdcnjknckdjcahjlvbshrvkbvjknkjsnbjskndsenckjwncskjncvsjckjsncksjncskjdnckjsncjksdncndkcnsdkjcnsdcjksndcjksdncjksdnjkdcnjknckdjcahjlvbshrvkbvjknkjsnbjskndsenckjwncskjncvsjckjsncksjncskjdnckjsncjksdncndkcnsdkjcnsdcjksndcjksdncjksdnjkdcnjknckdjcahjlvbshrvkbvjknkjsnbjskndsenckjwncskjncvsjckjsncksjncskjdnckjsncjksdncndkcnsdkjcnsdcjksndcjksdncjksdnjkdcnjknckdjcahjlvbshrvkbvjknkjsnbjskndsenckjwncskjncvsjckjsncksjncskjdnckjsncjksdncndkcnsdkjcnsdcjksndcjksdncjksdnjkdcnjknckdjcahjlvbshrvkbvjknkjsnbjskndsenckjwncskjncvsjckjsncksjncskjdnckjsncjksdncndkcnsdkjcnsdcjksndcjksdncjksdnjkdcnjknckdjcahjlvbshrvkbvjknkjsnbjskndsenckjwncskjncvsjckjsncksjncskjdnckjsncjksdncndkcnsdkjcnsdcjksndcjksdncjksdnjkdcnjknckdjc\";\n",
    "    char __attribute__((aligned(128))) c1c[128 * 10 + 3];\n",
    "    char __attribute__((aligned(128))) c2c[128 * 10 + 3];\n",
    "    bit_and((int*)ac, (int*)bc, (int*)c1c);\n",
    "    bit_and_2((int*)ac, (int*)bc, (int*)c2c);\n",
    "    printf(\"%p %p %p %p\\n\", ac, bc, c1c, c2c);\n",
    "    for (int i = 0; i < 4 * 4 * 10; ++i) {\n",
    "        assert(c1c[i] == c2c[i]);\n",
    "    }\n",
    "    return 0;\n",
    "}"
   ]
  },
  {
   "cell_type": "code",
   "execution_count": 190,
   "metadata": {},
   "outputs": [
    {
     "name": "stdout",
     "output_type": "stream",
     "text": [
      "[NbConvertApp] Converting notebook sse_x86.ipynb to markdown\n",
      "[NbConvertApp] Writing 12953 bytes to sse_x86.md\n"
     ]
    }
   ],
   "source": [
    "!jupyter nbconvert sse_x86.ipynb --to markdown --output sse_x86 "
   ]
  },
  {
   "cell_type": "code",
   "execution_count": null,
   "metadata": {},
   "outputs": [],
   "source": []
  }
 ],
 "metadata": {
  "kernelspec": {
   "display_name": "Python 3",
   "language": "python",
   "name": "python3"
  },
  "language_info": {
   "codemirror_mode": {
    "name": "ipython",
    "version": 3
   },
   "file_extension": ".py",
   "mimetype": "text/x-python",
   "name": "python",
   "nbconvert_exporter": "python",
   "pygments_lexer": "ipython3",
   "version": "3.5.2"
  }
 },
 "nbformat": 4,
 "nbformat_minor": 2
}
