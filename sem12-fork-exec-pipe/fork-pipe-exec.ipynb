{
 "cells": [
  {
   "cell_type": "code",
   "execution_count": 188,
   "metadata": {},
   "outputs": [
    {
     "data": {
      "application/javascript": [
       "// setup cpp code highlighting\n",
       "IPython.CodeCell.options_default.highlight_modes[\"text/x-c++src\"] = {'reg':[/^%%cpp/]} ;"
      ],
      "text/plain": [
       "<IPython.core.display.Javascript object>"
      ]
     },
     "metadata": {},
     "output_type": "display_data"
    }
   ],
   "source": [
    "get_ipython().run_cell_magic('javascript', '', '// setup cpp code highlighting\\nIPython.CodeCell.options_default.highlight_modes[\"text/x-c++src\"] = {\\'reg\\':[/^%%cpp/]} ;')\n",
    "\n",
    "# creating magics\n",
    "from IPython.core.magic import register_cell_magic, register_line_magic\n",
    "from IPython.display import display, Markdown\n",
    "import argparse\n",
    "\n",
    "@register_cell_magic\n",
    "def save_file(args_str, cell, line_comment_start=\"#\"):\n",
    "    parser = argparse.ArgumentParser()\n",
    "    parser.add_argument(\"fname\")\n",
    "    parser.add_argument(\"--ejudge-style\", action=\"store_true\")\n",
    "    args = parser.parse_args(args_str.split())\n",
    "    \n",
    "    cell = cell if cell[-1] == '\\n' or args.no_eof_newline else cell + \"\\n\"\n",
    "    cmds = []\n",
    "    with open(args.fname, \"w\") as f:\n",
    "        f.write(line_comment_start + \" %%cpp \" + args_str + \"\\n\")\n",
    "        for line in cell.split(\"\\n\"):\n",
    "            if line.startswith(\"%\"):\n",
    "                run_prefix = \"%run \"\n",
    "                assert line.startswith(run_prefix)\n",
    "                cmds.append(line[len(run_prefix):].strip())\n",
    "            else:\n",
    "                f.write((line if not args.ejudge_style else line.rstrip()) + \"\\n\")\n",
    "        f.write(\"\" if not args.ejudge_style else line_comment_start + r\" line without \\n\")\n",
    "    for cmd in cmds:\n",
    "        display(Markdown(\"Run: `%s`\" % cmd))\n",
    "        get_ipython().system(cmd)\n",
    "\n",
    "@register_cell_magic\n",
    "def cpp(fname, cell):\n",
    "    save_file(fname, cell, \"//\")\n",
    "\n",
    "@register_cell_magic\n",
    "def asm(fname, cell):\n",
    "    save_file(fname, cell, \"//\")\n",
    "    \n",
    "@register_cell_magic\n",
    "def makefile(fname, cell):\n",
    "    assert not fname\n",
    "    save_file(\"makefile\", cell.replace(\" \" * 4, \"\\t\"))\n",
    "        \n",
    "@register_line_magic\n",
    "def p(line):\n",
    "    try:\n",
    "        expr, comment = line.split(\" #\")\n",
    "        display(Markdown(\"`{} = {}`  # {}\".format(expr.strip(), eval(expr), comment.strip())))\n",
    "    except:\n",
    "        display(Markdown(\"{} = {}\".format(line, eval(line))))\n",
    "    "
   ]
  },
  {
   "cell_type": "markdown",
   "metadata": {},
   "source": [
    "# \xd0\xa1\xd0\xb5\xd0\xb3\xd0\xbe\xd0\xb4\xd0\xbd\xd1\x8f \xd0\xb1\xd1\x83\xd0\xb4\xd0\xb5\xd0\xbc \xd0\xb8\xd0\xb7\xd0\xbe\xd0\xb1\xd1\x80\xd0\xb5\xd1\x82\xd0\xb0\xd1\x82\xd1\x8c bash\n",
    "\xd0\xa7\xd1\x82\xd0\xbe\xd0\xb1\xd1\x8b \xd0\xb4\xd0\xb5\xd0\xbb\xd0\xb0\xd1\x82\xd1\x8c \xd0\xbe\xd1\x81\xd0\xbd\xd0\xbe\xd0\xb2\xd0\xbd\xd1\x83\xd1\x8e \xd0\xbc\xd0\xb0\xd0\xb3\xd0\xb8\xd1\x8e bash \xd0\xbd\xd0\xb0\xd0\xbc \xd0\xbf\xd0\xbe\xd0\xbd\xd0\xb0\xd0\xb4\xd0\xbe\xd0\xb1\xd1\x8f\xd1\x82\xd1\x81\xd1\x8f \xd1\x82\xd1\x80\xd0\xb8 \xd0\xb2\xd1\x8b\xd0\xb7\xd0\xbe\xd0\xb2\xd0\xb0\n",
    "* `fork` - (\xd0\xbf\xd0\xb5\xd1\x80\xd0\xb5\xd0\xb2\xd0\xbe\xd0\xb4: \xd0\xb2\xd0\xb8\xd0\xbb\xd0\xba\xd0\xb0) \xd0\xbf\xd0\xbe\xd0\xb7\xd0\xb2\xd0\xbe\xd0\xbb\xd1\x8f\xd0\xb5\xd1\x82 \xd0\xbf\xd1\x80\xd0\xbe\xd1\x86\xd0\xb5\xd1\x81\xd1\x81\xd1\x83 \xd1\x80\xd0\xb0\xd0\xb7\xd0\xb4\xd0\xb2\xd0\xbe\xd0\xb8\xd1\x82\xd1\x8c\xd1\x81\xd1\x8f. \xd0\xad\xd1\x82\xd0\xbe \xd0\xb5\xd0\xb4\xd0\xb8\xd0\xbd\xd1\x81\xd1\x82\xd0\xb2\xd0\xb5\xd0\xbd\xd0\xbd\xd1\x8b\xd0\xb9 \xd1\x81\xd0\xbf\xd0\xbe\xd1\x81\xd0\xbe\xd0\xb1 \xd1\x81\xd0\xbe\xd0\xb7\xd0\xb4\xd0\xb0\xd0\xbd\xd0\xb8\xd1\x8f \xd0\xbd\xd0\xbe\xd0\xb2\xd1\x8b\xd1\x85 \xd0\xbf\xd1\x80\xd0\xbe\xd1\x86\xd0\xb5\xd1\x81\xd1\x81\xd0\xbe\xd0\xb2 \xd0\xb2 linux\n",
    "* `exec` - \xd0\xbf\xd0\xbe\xd0\xb7\xd0\xb2\xd0\xbe\xd0\xbb\xd1\x8f\xd0\xb5\xd1\x82 \xd0\xbf\xd1\x80\xd0\xbe\xd1\x86\xd0\xb5\xd1\x81\xd1\x81\xd1\x83 \xd0\xb7\xd0\xb0\xd0\xbf\xd1\x83\xd1\x81\xd1\x82\xd0\xb8\xd1\x82\xd1\x8c \xd0\xb4\xd1\x80\xd1\x83\xd0\xb3\xd1\x83\xd1\x8e \xd0\xbf\xd1\x80\xd0\xbe\xd0\xb3\xd1\x80\xd0\xb0\xd0\xbc\xd0\xbc\xd1\x83 \xd0\xb2 \xd1\x81\xd0\xb2\xd0\xbe\xd0\xb5\xd0\xbc \xd1\x82\xd0\xb5\xd0\xbb\xd0\xb5. \xd0\xa2\xd0\xbe \xd0\xb5\xd1\x81\xd1\x82\xd1\x8c \xd0\xbe\xd1\x81\xd1\x82\xd0\xb0\xd0\xb5\xd1\x82\xd1\x81\xd1\x8f \xd1\x82\xd0\xbe\xd1\x82 \xd0\xb6\xd0\xb5 \xd0\xbf\xd1\x80\xd0\xbe\xd1\x86\xd0\xb5\xd1\x81\xd1\x81 (\xd1\x82\xd0\xbe\xd1\x82 \xd0\xb6\xd0\xb5 pid), \xd1\x82\xd0\xb5 \xd0\xb6\xd0\xb5 \xd0\xbe\xd1\x82\xd0\xba\xd1\x80\xd1\x8b\xd1\x82\xd1\x8b\xd0\xb5 \xd1\x84\xd0\xb0\xd0\xb9\xd0\xbb\xd1\x8b, \xd0\xb5\xd1\x89\xd0\xb5 \xd1\x87\xd1\x82\xd0\xbe-\xd1\x82\xd0\xbe \xd0\xbe\xd0\xb1\xd1\x89\xd0\xb5\xd0\xb5, \xd0\xbd\xd0\xbe \xd0\xb8\xd1\x81\xd0\xbf\xd0\xbe\xd0\xbb\xd0\xbd\xd1\x8f\xd0\xb5\xd1\x82\xd1\x81\xd1\x8f \xd0\xba\xd0\xbe\xd0\xb4 \xd0\xb8\xd0\xb7 \xd1\x83\xd0\xba\xd0\xb0\xd0\xb7\xd0\xb0\xd0\xbd\xd0\xbd\xd0\xbe\xd0\xb3\xd0\xbe \xd0\xb8\xd1\x81\xd0\xbf\xd0\xbe\xd0\xbb\xd0\xbd\xd1\x8f\xd0\xb5\xd0\xbc\xd0\xbe\xd0\xb3\xd0\xbe \xd1\x84\xd0\xb0\xd0\xb9\xd0\xbb\xd0\xb0. \xd0\x9f\xd1\x80\xd1\x8f\xd0\xbc\xd0\xbe \xd0\xbd\xd0\xb0\xd1\x87\xd0\xb8\xd0\xbd\xd0\xb0\xd1\x8f \xd1\x81 \xd1\x84\xd1\x83\xd0\xbd\xd0\xba\xd1\x86\xd0\xb8\xd0\xb8 _start\n",
    "* `pipe` - \xd0\xbf\xd0\xbe\xd0\xb7\xd0\xb2\xd0\xbe\xd0\xbb\xd1\x8f\xd0\xb5\xd1\x82 \xd1\x81\xd0\xbe\xd0\xb7\xd0\xb4\xd0\xb0\xd1\x82\xd1\x8c \xd1\x82\xd1\x80\xd1\x83\xd0\xb1\xd1\x83(=pipe) - \xd0\xbf\xd0\xbe\xd0\xbb\xd1\x83\xd1\x87\xd0\xb8\xd1\x82\xd1\x8c \xd0\xbf\xd0\xb0\xd1\x80\xd1\x83 \xd1\x84\xd0\xb0\xd0\xb9\xd0\xbb\xd0\xbe\xd0\xb2\xd1\x8b\xd1\x85 \xd0\xb4\xd0\xb5\xd1\x81\xd0\xba\xd1\x80\xd0\xb8\xd0\xbf\xd1\x82\xd0\xbe\xd1\x80\xd0\xbe\xd0\xb2. \xd0\x92 \xd0\xbe\xd0\xb4\xd0\xb8\xd0\xbd \xd0\xb8\xd0\xb7 \xd0\xbd\xd0\xb8\xd1\x85 \xd0\xbc\xd0\xbe\xd0\xb6\xd0\xbd\xd0\xbe \xd1\x87\xd1\x82\xd0\xbe-\xd1\x82\xd0\xbe \xd0\xbf\xd0\xb8\xd1\x81\xd0\xb0\xd1\x82\xd1\x8c, \xd0\xbf\xd1\x80\xd0\xb8 \xd1\x8d\xd1\x82\xd0\xbe\xd0\xbc \xd0\xbe\xd0\xbd\xd0\xbe \xd0\xb1\xd1\x83\xd0\xb4\xd0\xb5\xd1\x82 \xd1\x81\xd1\x82\xd0\xb0\xd0\xbd\xd0\xbe\xd0\xb2\xd0\xb8\xd1\x82\xd1\x8c\xd1\x81\xd1\x8f \xd0\xb4\xd0\xbe\xd1\x81\xd1\x82\xd1\x83\xd0\xbf\xd0\xbd\xd1\x8b\xd0\xbc \xd0\xb4\xd0\xbb\xd1\x8f \xd1\x87\xd1\x82\xd0\xb5\xd0\xbd\xd0\xb8\xd1\x8f \xd0\xb8\xd0\xb7 \xd0\xb4\xd1\x80\xd1\x83\xd0\xb3\xd0\xbe\xd0\xb3\xd0\xbe \xd0\xb4\xd0\xb5\xd1\x81\xd0\xba\xd1\x80\xd0\xb8\xd0\xbf\xd1\x82\xd0\xbe\xd1\x80\xd0\xb0. \xd0\x9c\xd0\xbe\xd0\xb6\xd0\xbd\xd0\xbe \xd1\x80\xd0\xb0\xd1\x81\xd1\x81\xd0\xbc\xd0\xb0\xd1\x82\xd1\x80\xd0\xb8\xd0\xb2\xd0\xb0\xd1\x82\xd1\x8c pipe \xd0\xba\xd0\xb0\xd0\xba \xd1\x81\xd0\xb2\xd0\xbe\xd0\xb5\xd0\xbe\xd0\xb1\xd1\x80\xd0\xb0\xd0\xb7\xd0\xbd\xd1\x8b\xd0\xb9 \xd1\x84\xd0\xb0\xd0\xb9\xd0\xbb-\xd0\xbe\xd1\x87\xd0\xb5\xd1\x80\xd0\xb5\xd0\xb4\xd1\x8c.\n",
    "* `dup2` - \xd0\xbf\xd0\xbe\xd0\xb7\xd0\xb2\xd0\xbe\xd0\xbb\xd1\x8f\xd0\xb5\xd1\x82 \"\xd1\x81\xd0\xba\xd0\xbe\xd0\xbf\xd0\xb8\xd1\x80\xd0\xbe\xd0\xb2\xd0\xb0\xd1\x82\xd1\x8c\" \xd1\x84\xd0\xb0\xd0\xb9\xd0\xbb\xd0\xbe\xd0\xb2\xd1\x8b\xd0\xb9 \xd0\xb4\xd0\xb5\xd1\x81\xd0\xba\xd1\x80\xd0\xb8\xd0\xbf\xd1\x82\xd0\xbe\xd1\x80. \xd0\xa2\xd0\xbe \xd0\xb5\xd1\x81\xd1\x82\xd1\x8c \xd0\xbf\xd0\xbe\xd0\xbb\xd1\x83\xd1\x87\xd0\xb8\xd1\x82\xd1\x8c \xd0\xb5\xd1\x89\xd0\xb5 \xd0\xbe\xd0\xb4\xd0\xb8\xd0\xbd \xd1\x84\xd0\xb0\xd0\xb9\xd0\xbb\xd0\xbe\xd0\xb2\xd1\x8b\xd0\xb9 \xd0\xb4\xd0\xb5\xd1\x81\xd0\xba\xd1\x80\xd0\xb8\xd0\xbf\xd1\x82\xd0\xbe\xd1\x80 \xd0\xbd\xd0\xb0 \xd1\x82\xd0\xbe\xd1\x82 \xd0\xb6\xd0\xb5 \xd1\x84\xd0\xb0\xd0\xb9\xd0\xbb/\xd1\x81\xd0\xbe\xd0\xb5\xd0\xb4\xd0\xb8\xd0\xbd\xd0\xb5\xd0\xbd\xd0\xb8\xd0\xb5. \xd0\x9d\xd0\xb0\xd0\xbf\xd1\x80\xd0\xb8\xd0\xbc\xd0\xb5\xd1\x80, \xd1\x82\xd0\xb0\xd0\xba \xd0\xbc\xd0\xbe\xd0\xb6\xd0\xbd\xd0\xbe \xd1\x81\xd0\xba\xd0\xbe\xd0\xbf\xd0\xb8\xd1\x80\xd0\xbe\xd0\xb2\xd0\xb0\xd1\x82\xd1\x8c \xd0\xb4\xd0\xb5\xd1\x81\xd0\xba\xd1\x80\xd0\xb8\xd0\xbf\xd1\x82\xd0\xbe\xd1\x80 \xd1\x84\xd0\xb0\xd0\xb9\xd0\xbb\xd0\xb0 \xd0\xb2 1 \xd1\x84\xd0\xb0\xd0\xb9\xd0\xbb\xd0\xbe\xd0\xb2\xd1\x8b\xd0\xb9 \xd0\xb4\xd0\xb5\xd1\x81\xd0\xba\xd1\x80\xd0\xb8\xd0\xbf\xd1\x82\xd0\xbe\xd1\x80 \xd0\xb8 \xd0\xbf\xd0\xbe\xd1\x82\xd0\xbe\xd0\xbc \xd1\x81 \xd0\xbf\xd0\xbe\xd0\xbc\xd0\xbe\xd1\x89\xd1\x8c\xd1\x8e \xd1\x84\xd1\x83\xd0\xbd\xd0\xba\xd1\x86\xd0\xb8\xd0\xb8 printf \xd0\xbf\xd0\xb8\xd1\x81\xd0\xb0\xd1\x82\xd1\x8c \xd0\xb2 \xd1\x8d\xd1\x82\xd0\xbe\xd1\x82 \xd1\x84\xd0\xb0\xd0\xb9\xd0\xbb.\n",
    "\n",
    "* `wait` - \xd0\xbf\xd1\x80\xd0\xbe\xd0\xb7\xd0\xb2\xd0\xbe\xd0\xbb\xd1\x8f\xd0\xb5\xd1\x82 \xd0\xb4\xd0\xbe\xd0\xb6\xd0\xb4\xd0\xb0\xd1\x82\xd1\x8c\xd1\x81\xd1\x8f \xd0\xb4\xd0\xbe\xd1\x87\xd0\xb5\xd1\x80\xd0\xbd\xd0\xb8\xd1\x85 \xd0\xbf\xd1\x80\xd0\xbe\xd1\x86\xd0\xb5\xd1\x81\xd1\x81\xd0\xbe\xd0\xb2 \xd0\xb8 \xd0\xbf\xd0\xbe\xd0\xbb\xd1\x83\xd1\x87\xd0\xb8\xd1\x82\xd1\x8c \xd0\xb8\xd1\x85 \xd0\xba\xd0\xbe\xd0\xb4 \xd0\xb2\xd0\xbe\xd0\xb7\xd0\xb2\xd1\x80\xd0\xb0\xd1\x82\xd0\xb0. \xd0\xa2\xd0\xb0\xd0\xba \xd0\xb6\xd0\xb5 \xd0\xbf\xd1\x80\xd0\xb5\xd0\xba\xd1\x80\xd0\xb0\xd1\x89\xd0\xb0\xd0\xb5\xd1\x82 \xd0\xb8\xd1\x85 \xd0\xb6\xd0\xb8\xd0\xb7\xd0\xbd\xd1\x8c \xd0\xb2 \xd0\xba\xd0\xb0\xd1\x87\xd0\xb5\xd1\x81\xd1\x82\xd0\xb2\xd0\xb5 \xd0\xb7\xd0\xbe\xd0\xbc\xd0\xb1\xd0\xb8.\n",
    "\n",
    "\xd0\x98\xd0\xb7\xd0\xbe\xd0\xb1\xd1\x80\xd0\xb5\xd1\x82\xd0\xb0\xd1\x82\xd1\x8c \xd0\xb1\xd1\x83\xd0\xb4\xd0\xb5\xd1\x82 \xd1\x82\xd0\xb0\xd0\xba\xd1\x83\xd1\x8e \xd0\xbc\xd0\xb0\xd0\xb3\xd0\xb8\xd1\x8e:\n",
    "* \xd0\x97\xd0\xb0\xd0\xbf\xd1\x83\xd1\x81\xd0\xba \xd1\x81\xd1\x82\xd0\xbe\xd1\x80\xd0\xbe\xd0\xbd\xd0\xbd\xd0\xb5\xd0\xb9 \xd0\xbf\xd1\x80\xd0\xbe\xd0\xb3\xd1\x80\xd0\xb0\xd0\xbc\xd0\xbc\xd1\x8b\n",
    "* `./program arg1 arg2 > out.txt` \xd1\x82\xd0\xbe \xd0\xb5\xd1\x81\xd1\x82\xd1\x8c \xd0\xbe\xd0\xbf\xd0\xb5\xd1\x80\xd0\xb0\xd1\x82\xd0\xbe\xd1\x80 `>` \xd0\xb8\xd0\xb7 bash\n",
    "* `./program1 arg1_1 arg1_2 | ./program2 arg2_1 arg2_2` \xd1\x82\xd0\xbe \xd0\xb5\xd1\x81\xd1\x82\xd1\x8c \xd0\xbe\xd0\xbf\xd0\xb5\xd1\x80\xd0\xb0\xd1\x82\xd0\xbe\xd1\x80 `|` \xd0\xb8\xd0\xb7 bash\n"
   ]
  },
  {
   "cell_type": "markdown",
   "metadata": {},
   "source": [
    "# fork\n",
    "\n",
    "`man fork`, `man waitpid`"
   ]
  },
  {
   "cell_type": "markdown",
   "metadata": {},
   "source": [
    "\xd0\x9f\xd1\x80\xd0\xbe\xd1\x81\xd1\x82\xd0\xb5\xd0\xb9\xd1\x88\xd0\xb8\xd0\xb9 \xd0\xbf\xd1\x80\xd0\xb8\xd0\xbc\xd0\xb5\xd1\x80: \xd0\xba\xd0\xbb\xd0\xbe\xd0\xbd\xd0\xb8\xd1\x80\xd1\x83\xd0\xb5\xd0\xbc \xd1\x81\xd0\xb5\xd0\xb1\xd1\x8f, \xd0\xb8 \xd0\xb2 \xd0\xbe\xd1\x80\xd0\xb8\xd0\xb3\xd0\xb8\xd0\xbd\xd0\xb0\xd0\xbb\xd0\xb5 \xd0\xb4\xd0\xbe\xd0\xb6\xd0\xb8\xd0\xb4\xd0\xb0\xd0\xb5\xd0\xbc\xd1\x81\xd1\x8f, \xd0\xbf\xd0\xbe\xd0\xba\xd0\xb0 \xd0\xba\xd0\xbe\xd0\xbf\xd0\xb8\xd1\x8f \xd0\xb7\xd0\xb0\xd0\xb2\xd0\xb5\xd1\x80\xd1\x88\xd0\xb8\xd1\x82\xd1\x81\xd1\x8f, \xd0\xbf\xd0\xbe\xd1\x82\xd0\xbe\xd0\xbc \xd1\x82\xd0\xbe\xd0\xb6\xd0\xb5 \xd0\xb7\xd0\xb0\xd0\xb2\xd0\xb5\xd1\x80\xd1\x88\xd0\xb0\xd0\xb5\xd0\xbc\xd1\x81\xd1\x8f."
   ]
  },
  {
   "cell_type": "code",
   "execution_count": 157,
   "metadata": {
    "scrolled": false
   },
   "outputs": [
    {
     "data": {
      "text/markdown": [
       "Run: `gcc simpliest_example.cpp -o simpliest_example.exe`"
      ],
      "text/plain": [
       "<IPython.core.display.Markdown object>"
      ]
     },
     "metadata": {},
     "output_type": "display_data"
    },
    {
     "data": {
      "text/markdown": [
       "Run: `./simpliest_example.exe`"
      ],
      "text/plain": [
       "<IPython.core.display.Markdown object>"
      ]
     },
     "metadata": {},
     "output_type": "display_data"
    },
    {
     "name": "stdout",
     "output_type": "stream",
     "text": [
      "Hello world! fork result (child pid) = 30385, own pid = 30384\r\n",
      "Hello world! fork result (child pid) = 0, own pid = 30385\r\n",
      "Child exited with code 42\r\n"
     ]
    }
   ],
   "source": [
    "%%cpp simpliest_example.cpp\n",
    "%run gcc simpliest_example.cpp -o simpliest_example.exe\n",
    "%run ./simpliest_example.exe\n",
    "\n",
    "#include <stdio.h>\n",
    "#include <stdlib.h>\n",
    "#include <unistd.h>\n",
    "#include <assert.h>\n",
    "#include <sys/wait.h>\n",
    "#include <sched.h>\n",
    "\n",
    "int main() {\n",
    "    pid_t pid = fork();\n",
    "//     if (pid != 0) {\n",
    "//         for (int i = 0; i < 1000000; ++i) {\n",
    "//             sched_yield();\n",
    "//         }\n",
    "//     }\n",
    "    printf(\"Hello world! fork result (child pid) = %d, own pid = %d\\n\", pid, getpid()); // \xd0\xb2\xd1\x8b\xd0\xbf\xd0\xbe\xd0\xbb\xd0\xbd\xd0\xb8\xd1\x82\xd1\x81\xd1\x8f \xd0\xb8 \xd0\xb2 \xd1\x80\xd0\xbe\xd0\xb4\xd0\xb8\xd1\x82\xd0\xb5\xd0\xbb\xd0\xb5 \xd0\xb8 \xd0\xb2 \xd1\x80\xd0\xb5\xd0\xb1\xd0\xb5\xd0\xbd\xd0\xba\xd0\xb5\n",
    "    \n",
    "    if (pid == 0) {\n",
    "        return 42; // \xd0\xb5\xd1\x81\xd0\xbb\xd0\xb8 \xd1\x8d\xd1\x82\xd0\xbe \xd0\xb4\xd0\xbe\xd1\x87\xd0\xb5\xd1\x80\xd0\xbd\xd0\xb8\xd0\xb9 \xd0\xbf\xd1\x80\xd0\xbe\xd1\x86\xd0\xb5\xd1\x81\xd1\x81, \xd1\x82\xd0\xbe \xd0\xb7\xd0\xb0\xd0\xb2\xd0\xb5\xd1\x80\xd1\x88\xd0\xb0\xd0\xb5\xd0\xbc\xd1\x81\xd1\x8f\n",
    "    }\n",
    "    int status;\n",
    "    pid_t w = waitpid(pid, &status, 0); // \xd0\xbe\xd0\xb1\xd1\x8f\xd0\xb7\xd0\xb0\xd1\x82\xd0\xb5\xd0\xbb\xd1\x8c\xd0\xbd\xd0\xbe \xd0\xbd\xd1\x83\xd0\xb6\xd0\xbd\xd0\xbe \xd0\xb4\xd0\xbe\xd0\xb6\xd0\xb4\xd0\xb0\xd1\x82\xd1\x8c\xd1\x81\xd1\x8f, \xd0\xbf\xd0\xbe\xd0\xba\xd0\xb0 \xd0\xb7\xd0\xb0\xd0\xb2\xd0\xb5\xd1\x80\xd1\x88\xd0\xb8\xd1\x82\xd1\x81\xd1\x8f \xd0\xb4\xd0\xbe\xd1\x87\xd0\xb5\xd1\x80\xd0\xbd\xd0\xb8\xd0\xb9 \xd0\xbf\xd1\x80\xd0\xbe\xd1\x86\xd0\xb5\xd1\x81\xd1\x81\n",
    "    if (w == -1) {\n",
    "        perror(\"waitpid\");\n",
    "        exit(-1);\n",
    "    }\n",
    "    assert(WIFEXITED(status));\n",
    "    printf(\"Child exited with code %d\\n\", WEXITSTATUS(status)); // \xd0\xb2\xd1\x8b\xd0\xb2\xd0\xbe\xd0\xb4\xd0\xb8\xd0\xbc \xd0\xba\xd0\xbe\xd0\xb4 \xd0\xb2\xd0\xbe\xd0\xb7\xd0\xb2\xd1\x80\xd0\xb0\xd1\x82\xd0\xb0 \xd0\xb4\xd0\xbe\xd1\x87\xd0\xb5\xd1\x80\xd0\xbd\xd0\xb5\xd0\xb3\xd0\xbe \xd0\xbf\xd1\x80\xd0\xbe\xd1\x86\xd0\xb5\xd1\x81\xd1\x81\xd0\xb0\n",
    "    return 0;\n",
    "}"
   ]
  },
  {
   "cell_type": "code",
   "execution_count": null,
   "metadata": {},
   "outputs": [],
   "source": []
  },
  {
   "cell_type": "markdown",
   "metadata": {},
   "source": [
    "# fork + exec\n",
    "\n",
    "`man exec`, `man wait4`\n",
    "\n",
    "\xd0\x9e \xd1\x82\xd0\xbe\xd0\xbc \xd0\xba\xd0\xb0\xd0\xba \xd0\xb3\xd1\x83\xd0\xb3\xd0\xbb\xd0\xb8\xd1\x82\xd1\x8c \xd0\xbd\xd0\xb5\xd0\xbf\xd0\xbe\xd0\xbd\xd1\x8f\xd1\x82\xd0\xbd\xd1\x8b\xd0\xb5 \xd1\x81\xd1\x82\xd1\x80\xd1\x83\xd0\xba\xd1\x82\xd1\x83\xd1\x80\xd1\x8b: struct timeval linux "
   ]
  },
  {
   "cell_type": "code",
   "execution_count": 61,
   "metadata": {
    "scrolled": true
   },
   "outputs": [
    {
     "data": {
      "text/markdown": [
       "Run: `gcc fork_exec.cpp -o fork_exec.exe`"
      ],
      "text/plain": [
       "<IPython.core.display.Markdown object>"
      ]
     },
     "metadata": {},
     "output_type": "display_data"
    },
    {
     "data": {
      "text/markdown": [
       "Run: `./fork_exec.exe`"
      ],
      "text/plain": [
       "<IPython.core.display.Markdown object>"
      ]
     },
     "metadata": {},
     "output_type": "display_data"
    },
    {
     "name": "stdout",
     "output_type": "stream",
     "text": [
      "USER       PID %CPU %MEM    VSZ   RSS TTY      STAT START   TIME COMMAND\r\n",
      "root         1  0.0  0.1 119740  3864 ?        Ss   \xd0\xbd\xd0\xbe\xd1\x8f11   0:14 /sbin/init splash\r\n",
      "root         2  0.0  0.0      0     0 ?        S    \xd0\xbd\xd0\xbe\xd1\x8f11   0:00 [kthreadd]\r\n",
      "root         4  0.0  0.0      0     0 ?        I<   \xd0\xbd\xd0\xbe\xd1\x8f11   0:00 [kworker/0:0H]\r\n",
      "Child exited with code 0 \r\n",
      "\tUser time 0 sec 5849 usec\r\n",
      "\tSys time 0 sec 6650 usec\r\n"
     ]
    }
   ],
   "source": [
    "%%cpp fork_exec.cpp\n",
    "%run gcc fork_exec.cpp -o fork_exec.exe\n",
    "%run ./fork_exec.exe\n",
    "\n",
    "#include <stdio.h>\n",
    "#include <stdlib.h>\n",
    "#include <unistd.h>\n",
    "#include\xc2\xa0<assert.h>\n",
    "#include <sys/resource.h>\n",
    "#include <sys/types.h>\n",
    "#include <sys/wait.h>\n",
    "\n",
    "\n",
    "int main() {\n",
    "    pid_t pid;\n",
    "    if ((pid = fork()) == 0) {\n",
    "        //execlp(\"ps\", \"ps\", \"aux\", NULL); // also possible variant\n",
    "        //execlp(\"echo\", \"echo\", \"Hello world from linux ECHO program\", NULL);\n",
    "        //execlp(\"sleep\", \"sleep\", \"3\", NULL);\n",
    "        execlp(\"bash\", \"bash\", \"-c\", \"ps aux | head -n 4\", NULL);\n",
    "        assert(0 && \"Unreachable position in code if execlp succeeded\");\n",
    "    }\n",
    "    int status;\n",
    "    struct rusage resource_usage;\n",
    "    pid_t w = wait4(pid, &status, 0, &resource_usage); // \xd0\xbe\xd0\xb1\xd1\x8f\xd0\xb7\xd0\xb0\xd1\x82\xd0\xb5\xd0\xbb\xd1\x8c\xd0\xbd\xd0\xbe \xd0\xbd\xd1\x83\xd0\xb6\xd0\xbd\xd0\xbe \xd0\xb4\xd0\xbe\xd0\xb6\xd0\xb4\xd0\xb0\xd1\x82\xd1\x8c\xd1\x81\xd1\x8f, \xd0\xbf\xd0\xbe\xd0\xba\xd0\xb0 \xd0\xb7\xd0\xb0\xd0\xb2\xd0\xb5\xd1\x80\xd1\x88\xd0\xb8\xd1\x82\xd1\x81\xd1\x8f \xd0\xb4\xd0\xbe\xd1\x87\xd0\xb5\xd1\x80\xd0\xbd\xd0\xb8\xd0\xb9 \xd0\xbf\xd1\x80\xd0\xbe\xd1\x86\xd0\xb5\xd1\x81\xd1\x81\n",
    "    if (w == -1) {\n",
    "        perror(\"waitpid\");\n",
    "        exit(-1);\n",
    "    }\n",
    "    assert(WIFEXITED(status));\n",
    "    printf(\"Child exited with code %d \\n\"\n",
    "           \"\\tUser time %ld sec %ld usec\\n\"\n",
    "           \"\\tSys time %ld sec %ld usec\\n\", \n",
    "           WEXITSTATUS(status), \n",
    "           resource_usage.ru_utime.tv_sec,\n",
    "           resource_usage.ru_utime.tv_usec,\n",
    "           resource_usage.ru_stime.tv_sec,\n",
    "           resource_usage.ru_stime.tv_usec); // \xd0\xb2\xd1\x8b\xd0\xb2\xd0\xbe\xd0\xb4\xd0\xb8\xd0\xbc \xd0\xba\xd0\xbe\xd0\xb4 \xd0\xb2\xd0\xbe\xd0\xb7\xd0\xb2\xd1\x80\xd0\xb0\xd1\x82\xd0\xb0 \xd0\xb4\xd0\xbe\xd1\x87\xd0\xb5\xd1\x80\xd0\xbd\xd0\xb5\xd0\xb3\xd0\xbe \xd0\xbf\xd1\x80\xd0\xbe\xd1\x86\xd0\xb5\xd1\x81\xd1\x81\xd0\xb0 + \xd0\xb5\xd1\x89\xd0\xb5 \xd0\xbf\xd0\xbe\xd0\xbb\xd0\xb5\xd0\xb7\xd0\xbd\xd1\x83\xd1\x8e \xd0\xb8\xd0\xbd\xd1\x84\xd0\xbe\xd1\x80\xd0\xbc\xd0\xb0\xd1\x86\xd0\xb8\xd1\x8e\n",
    "    \n",
    "    return 0;\n",
    "}"
   ]
  },
  {
   "cell_type": "code",
   "execution_count": null,
   "metadata": {},
   "outputs": [],
   "source": []
  },
  {
   "cell_type": "markdown",
   "metadata": {},
   "source": [
    "# dup2\n",
    "\n",
    "\xd0\x92\xd0\xbe\xd0\xb7\xd0\xbc\xd0\xbe\xd0\xb6\xd0\xbd\xd0\xbe \xd0\xba\xd1\x82\xd0\xbe-\xd1\x82\xd0\xbe \xd0\xb8\xd0\xb7 \xd0\xb2\xd0\xb0\xd1\x81 \xd0\xb2\xd0\xb8\xd0\xb4\xd0\xb5\xd0\xbb \xd0\xb2\xd1\x8b\xd0\xb7\xd0\xbe\xd0\xb2 freopen. \xd0\x92\xd0\xbe\xd1\x82 \xd1\x8d\xd1\x82\xd0\xbe \xd0\xbf\xd1\x80\xd0\xb8\xd0\xbc\xd0\xb5\xd1\x80\xd0\xbd\xd0\xbe \xd0\xbe \xd1\x82\xd0\xbe\xd0\xbc \xd0\xb6\xd0\xb5."
   ]
  },
  {
   "cell_type": "code",
   "execution_count": 99,
   "metadata": {
    "scrolled": true
   },
   "outputs": [
    {
     "data": {
      "text/markdown": [
       "Run: `gcc fork_exec_pipe.cpp -o fork_exec_pipe.exe`"
      ],
      "text/plain": [
       "<IPython.core.display.Markdown object>"
      ]
     },
     "metadata": {},
     "output_type": "display_data"
    },
    {
     "data": {
      "text/markdown": [
       "Run: `./fork_exec_pipe.exe`"
      ],
      "text/plain": [
       "<IPython.core.display.Markdown object>"
      ]
     },
     "metadata": {},
     "output_type": "display_data"
    },
    {
     "data": {
      "text/markdown": [
       "Run: `echo \"After program finish\" && cat out.txt`"
      ],
      "text/plain": [
       "<IPython.core.display.Markdown object>"
      ]
     },
     "metadata": {},
     "output_type": "display_data"
    },
    {
     "name": "stdout",
     "output_type": "stream",
     "text": [
      "After program finish\r\n",
      "Redirectred 'Hello world!'"
     ]
    }
   ],
   "source": [
    "%%cpp fork_exec_pipe.cpp\n",
    "%run gcc fork_exec_pipe.cpp -o fork_exec_pipe.exe\n",
    "%run ./fork_exec_pipe.exe\n",
    "%run echo \"After program finish\" && cat out.txt\n",
    "\n",
    "#include <stdio.h>\n",
    "#include <unistd.h>\n",
    "#include <assert.h>\n",
    "#include <fcntl.h>\n",
    "#include <sys/types.h>\n",
    "\n",
    "\n",
    "int main() {\n",
    "    int fd = open(\"out.txt\", O_WRONLY | O_CREAT | O_TRUNC, 0664);\n",
    "    dup2(fd, 1); // redirect stdout to file\n",
    "    close(fd);\n",
    "    printf(\"Redirectred 'Hello world!'\");\n",
    "    return 0;\n",
    "}"
   ]
  },
  {
   "cell_type": "markdown",
   "metadata": {},
   "source": [
    "# fork + exec + dup2\n",
    "\xd0\xa0\xd0\xb5\xd0\xb0\xd0\xbb\xd0\xb8\xd0\xb7\xd1\x83\xd0\xb5\xd0\xbc \xd0\xbf\xd0\xb5\xd1\x80\xd0\xb5\xd0\xbd\xd0\xb0\xd0\xbf\xd1\x80\xd0\xb0\xd0\xb2\xd0\xbb\xd0\xb5\xd0\xbd\xd0\xb8\xd0\xb5 \xd0\xb2\xd1\x8b\xd0\xb2\xd0\xbe\xd0\xb4\xd0\xb0 \xd0\xbf\xd1\x80\xd0\xbe\xd0\xb3\xd1\x80\xd0\xb0\xd0\xbc\xd0\xbc\xd1\x8b \xd0\xb2 \xd1\x84\xd0\xb0\xd0\xb9\xd0\xbb. (\xd0\x9e\xd0\xbf\xd0\xb5\xd1\x80\xd0\xb0\xd1\x82\xd0\xbe\xd1\x80 `>` \xd0\xb8\xd0\xb7 bash)"
   ]
  },
  {
   "cell_type": "code",
   "execution_count": 100,
   "metadata": {},
   "outputs": [
    {
     "data": {
      "text/markdown": [
       "Run: `gcc redirect.cpp -o redirect.exe`"
      ],
      "text/plain": [
       "<IPython.core.display.Markdown object>"
      ]
     },
     "metadata": {},
     "output_type": "display_data"
    },
    {
     "data": {
      "text/markdown": [
       "Run: `./redirect.exe out.txt   ps aux`"
      ],
      "text/plain": [
       "<IPython.core.display.Markdown object>"
      ]
     },
     "metadata": {},
     "output_type": "display_data"
    },
    {
     "data": {
      "text/markdown": [
       "Run: `cat out.txt | head -n 2`"
      ],
      "text/plain": [
       "<IPython.core.display.Markdown object>"
      ]
     },
     "metadata": {},
     "output_type": "display_data"
    },
    {
     "name": "stdout",
     "output_type": "stream",
     "text": [
      "USER       PID %CPU %MEM    VSZ   RSS TTY      STAT START   TIME COMMAND\r\n",
      "root         1  0.0  0.1 119740  3864 ?        Ss   \xd0\xbd\xd0\xbe\xd1\x8f11   0:14 /sbin/init splash\r\n"
     ]
    }
   ],
   "source": [
    "%%cpp redirect.cpp\n",
    "%run gcc redirect.cpp -o redirect.exe\n",
    "%run ./redirect.exe out.txt   ps aux\n",
    "%run cat out.txt | head -n 2\n",
    "\n",
    "#include <stdio.h>\n",
    "#include <stdlib.h>\n",
    "#include <unistd.h>\n",
    "#include <assert.h>\n",
    "#include <fcntl.h>\n",
    "#include <sys/resource.h>\n",
    "#include <sys/types.h>\n",
    "#include <sys/wait.h>\n",
    "\n",
    "\n",
    "int main(int argc, char** argv) {\n",
    "    assert(argc >= 2);\n",
    "    int fd = open(argv[1], O_WRONLY | O_CREAT | O_TRUNC, 0664);\n",
    "    assert(fd >= 0);\n",
    "    dup2(fd, 1);\n",
    "    close(fd);\n",
    "    execvp(argv[2], argv + 2);\n",
    "    assert(0 && \"Unreachable position in code if execlp succeeded\");\n",
    "}"
   ]
  },
  {
   "cell_type": "markdown",
   "metadata": {},
   "source": [
    "# fork + exec + pipe + dup2\n",
    "\n",
    "`man 2 pipe`, `man dup2`\n",
    "\n",
    "\xd0\xa0\xd0\xb5\xd0\xb0\xd0\xbb\xd0\xb8\xd0\xb7\xd1\x83\xd0\xb5\xd0\xbc \xd0\xbb\xd0\xbe\xd0\xb3\xd0\xb8\xd0\xba\xd1\x83 \xd0\xbf\xd0\xb0\xd0\xb9\xd0\xbf\xd0\xb0 / \xd0\xbe\xd0\xbf\xd0\xb5\xd1\x80\xd0\xb0\xd1\x82\xd0\xbe\xd1\x80\xd0\xb0 `|` \xd0\xb8\xd0\xb7 bash: \xd0\xb7\xd0\xb0\xd0\xbf\xd1\x83\xd1\x81\xd0\xba \xd0\xb4\xd0\xb2\xd1\x83\xd1\x85 \xd0\xbf\xd1\x80\xd0\xbe\xd0\xb3\xd1\x80\xd0\xb0\xd0\xbc\xd0\xbc \xd0\xb8 \xd0\xbf\xd0\xb5\xd1\x80\xd0\xb5\xd0\xbd\xd0\xb0\xd0\xbf\xd1\x80\xd0\xb0\xd0\xb2\xd0\xbb\xd0\xb5\xd0\xbd\xd0\xb8\xd0\xb5 \xd0\xb2\xd1\x8b\xd0\xb2\xd0\xbe\xd0\xb4\xd0\xb0 \xd0\xbe\xd0\xb4\xd0\xbd\xd0\xbe\xd0\xb9 \xd0\xbd\xd0\xb0 \xd0\xb2\xd0\xb2\xd0\xbe\xd0\xb4 \xd0\xb4\xd1\x80\xd1\x83\xd0\xb3\xd0\xbe\xd0\xb9."
   ]
  },
  {
   "cell_type": "code",
   "execution_count": 103,
   "metadata": {},
   "outputs": [
    {
     "data": {
      "text/markdown": [
       "Run: `gcc fork_exec_pipe.cpp -o fork_exec_pipe.exe`"
      ],
      "text/plain": [
       "<IPython.core.display.Markdown object>"
      ]
     },
     "metadata": {},
     "output_type": "display_data"
    },
    {
     "data": {
      "text/markdown": [
       "Run: `./fork_exec_pipe.exe`"
      ],
      "text/plain": [
       "<IPython.core.display.Markdown object>"
      ]
     },
     "metadata": {},
     "output_type": "display_data"
    },
    {
     "name": "stdout",
     "output_type": "stream",
     "text": [
      "USER       PID %CPU %MEM    VSZ   RSS TTY      STAT START   TIME COMMAND\r\n",
      "root         1  0.0  0.1 119740  3864 ?        Ss   \xd0\xbd\xd0\xbe\xd1\x8f11   0:14 /sbin/init splash\r\n",
      "root         2  0.0  0.0      0     0 ?        S    \xd0\xbd\xd0\xbe\xd1\x8f11   0:00 [kthreadd]\r\n",
      "root         4  0.0  0.0      0     0 ?        I<   \xd0\xbd\xd0\xbe\xd1\x8f11   0:00 [kworker/0:0H]\r\n"
     ]
    }
   ],
   "source": [
    "%%cpp fork_exec_pipe.cpp\n",
    "%run gcc fork_exec_pipe.cpp -o fork_exec_pipe.exe\n",
    "%run ./fork_exec_pipe.exe\n",
    "\n",
    "#include <stdio.h>\n",
    "#include <stdlib.h>\n",
    "#include <unistd.h>\n",
    "#include <assert.h>\n",
    "#include <fcntl.h>\n",
    "#include <sys/resource.h>\n",
    "#include <sys/types.h>\n",
    "#include <sys/wait.h>\n",
    "\n",
    "\n",
    "int main() {\n",
    "    int fd[2];\n",
    "    pipe(fd); // fd[0] - in, fd[1] - out (like stdin=0, stdout=1)\n",
    "    pid_t pid_1, pid_2;\n",
    "    if ((pid_1 = fork()) == 0) {\n",
    "        dup2(fd[1], 1);\n",
    "        close(fd[0]);\n",
    "        close(fd[1]);\n",
    "        execlp(\"ps\", \"ps\", \"aux\", NULL);\n",
    "        assert(0 && \"Unreachable position in code if execlp succeeded\");\n",
    "    }\n",
    "    if ((pid_2 = fork()) == 0) {\n",
    "        dup2(fd[0], 0);\n",
    "        close(fd[0]);\n",
    "        close(fd[1]);\n",
    "        execlp(\"head\", \"head\", \"-n\", \"4\", NULL);\n",
    "        assert(0 && \"Unreachable position in code if execlp succeeded\");\n",
    "    }\n",
    "    close(fd[0]);\n",
    "    close(fd[1]);\n",
    "    int status;\n",
    "    assert(waitpid(pid_1, &status, 0) != -1);\n",
    "    assert(waitpid(pid_2, &status, 0) != -1);\n",
    "    return 0;\n",
    "}"
   ]
  },
  {
   "cell_type": "code",
   "execution_count": 68,
   "metadata": {},
   "outputs": [
    {
     "name": "stdout",
     "output_type": "stream",
     "text": [
      "DUP(2)                     Linux Programmer's Manual                    DUP(2)\r\n",
      "\r\n",
      "N\bNA\bAM\bME\bE\r\n",
      "       dup, dup2, dup3 - duplicate a file descriptor\r\n",
      "\r\n",
      "S\bSY\bYN\bNO\bOP\bPS\bSI\bIS\bS\r\n",
      "       #\b#i\bin\bnc\bcl\blu\bud\bde\be <\b<u\bun\bni\bis\bst\btd\bd.\b.h\bh>\b>\r\n",
      "\r\n",
      "       i\bin\bnt\bt d\bdu\bup\bp(\b(i\bin\bnt\bt _\bo_\bl_\bd_\bf_\bd)\b);\b;\r\n",
      "       i\bin\bnt\bt d\bdu\bup\bp2\b2(\b(i\bin\bnt\bt _\bo_\bl_\bd_\bf_\bd,\b, i\bin\bnt\bt _\bn_\be_\bw_\bf_\bd)\b);\b;\r\n",
      "\r\n",
      "       #\b#d\bde\bef\bfi\bin\bne\be _\b_G\bGN\bNU\bU_\b_S\bSO\bOU\bUR\bRC\bCE\bE             /* See feature_test_macros(7) */\r\n",
      "       #\b#i\bin\bnc\bcl\blu\bud\bde\be <\b<f\bfc\bcn\bnt\btl\bl.\b.h\bh>\b>              /* Obtain O_* constant definitions */\r\n",
      "       #\b#i\bin\bnc\bcl\blu\bud\bde\be <\b<u\bun\bni\bis\bst\btd\bd.\b.h\bh>\b>\r\n",
      "\r\n",
      "       i\bin\bnt\bt d\bdu\bup\bp3\b3(\b(i\bin\bnt\bt _\bo_\bl_\bd_\bf_\bd,\b, i\bin\bnt\bt _\bn_\be_\bw_\bf_\bd,\b, i\bin\bnt\bt _\bf_\bl_\ba_\bg_\bs)\b);\b;\r\n",
      "\r\n",
      "D\bDE\bES\bSC\bCR\bRI\bIP\bPT\bTI\bIO\bON\bN\r\n",
      "       The  d\bdu\bup\bp()  system  call  creates  a copy of the file descriptor _\bo_\bl_\bd_\bf_\bd,\r\n",
      "       using the lowest-numbered unused descriptor for the new descriptor.\r\n",
      "\r\n",
      "       After a successful return, the old and new file descriptors may be used\r\n",
      "       interchangeably.   They  refer  to  the same open file description (see\r\n",
      "       o\bop\bpe\ben\bn(2)) and thus share file offset and file status flags; for example,\r\n",
      "       if the file offset is modified by using l\bls\bse\bee\bek\bk(2) on one of the descrip\xe2\x80\x90\r\n",
      "       tors, the offset is also changed for the other.\r\n",
      "\r\n",
      "       The two descriptors do not share file descriptor flags  (the  close-on-\r\n",
      "       exec  flag).  The close-on-exec flag (F\bFD\bD_\b_C\bCL\bLO\bOE\bEX\bXE\bEC\bC; see f\bfc\bcn\bnt\btl\bl(2)) for the\r\n",
      "       duplicate descriptor is off.\r\n",
      "\r\n",
      "   d\bdu\bup\bp2\b2(\b()\b)\r\n",
      "       The d\bdu\bup\bp2\b2() system call performs the same task as d\bdu\bup\bp(), but instead  of\r\n",
      "       using  the lowest-numbered unused file descriptor, it uses the descrip\xe2\x80\x90\r\n",
      "       tor number specified in _\bn_\be_\bw_\bf_\bd.  If the descriptor _\bn_\be_\bw_\bf_\bd was  previously\r\n",
      "       open, it is silently closed before being reused.\r\n",
      "\r\n",
      "       The  steps  of  closing  and reusing the file descriptor _\bn_\be_\bw_\bf_\bd are per\xe2\x80\x90\r\n",
      "       formed _\ba_\bt_\bo_\bm_\bi_\bc_\ba_\bl_\bl_\by.  This is  important,  because  trying  to  implement\r\n",
      "       equivalent  functionality  using c\bcl\blo\bos\bse\be(2) and d\bdu\bup\bp() would be subject to\r\n",
      "       race conditions, whereby _\bn_\be_\bw_\bf_\bd might be reused between the  two  steps.\r\n",
      "       Such  reuse  could  happen because the main program is interrupted by a\r\n",
      "       signal handler that allocates a file descriptor, or because a  parallel\r\n",
      "       thread allocates a file descriptor.\r\n",
      "\r\n",
      "       Note the following points:\r\n",
      "\r\n",
      "       *  If  _\bo_\bl_\bd_\bf_\bd  is  not a valid file descriptor, then the call fails, and\r\n",
      "          _\bn_\be_\bw_\bf_\bd is not closed.\r\n",
      "\r\n",
      "       *  If _\bo_\bl_\bd_\bf_\bd is a valid file descriptor, and _\bn_\be_\bw_\bf_\bd has the same value as\r\n",
      "          _\bo_\bl_\bd_\bf_\bd, then d\bdu\bup\bp2\b2() does nothing, and returns _\bn_\be_\bw_\bf_\bd.\r\n",
      "\r\n",
      "   d\bdu\bup\bp3\b3(\b()\b)\r\n",
      "       d\bdu\bup\bp3\b3() is the same as d\bdu\bup\bp2\b2(), except that:\r\n",
      "\r\n",
      "       *  The  caller  can  force the close-on-exec flag to be set for the new\r\n",
      "          file descriptor by specifying O\bO_\b_C\bCL\bLO\bOE\bEX\bXE\bEC\bC in _\bf_\bl_\ba_\bg_\bs.  See the  descrip\xe2\x80\x90\r\n",
      "          tion of the same flag in o\bop\bpe\ben\bn(2) for reasons why this may be useful.\r\n",
      "\r\n",
      "       *  If _\bo_\bl_\bd_\bf_\bd equals _\bn_\be_\bw_\bf_\bd, then d\bdu\bup\bp3\b3() fails with the error E\bEI\bIN\bNV\bVA\bAL\bL.\r\n",
      "\r\n",
      "R\bRE\bET\bTU\bUR\bRN\bN V\bVA\bAL\bLU\bUE\bE\r\n",
      "       On success, these system calls return the new descriptor.  On error, -1\r\n",
      "       is returned, and _\be_\br_\br_\bn_\bo is set appropriately.\r\n",
      "\r\n",
      "E\bER\bRR\bRO\bOR\bRS\bS\r\n",
      "       E\bEB\bBA\bAD\bDF\bF  _\bo_\bl_\bd_\bf_\bd isn't an open file descriptor.\r\n",
      "\r\n",
      "       E\bEB\bBA\bAD\bDF\bF  _\bn_\be_\bw_\bf_\bd is out of the allowed range for file descriptors (see  the\r\n",
      "              discussion of R\bRL\bLI\bIM\bMI\bIT\bT_\b_N\bNO\bOF\bFI\bIL\bLE\bE in g\bge\bet\btr\brl\bli\bim\bmi\bit\bt(2)).\r\n",
      "\r\n",
      "       E\bEB\bBU\bUS\bSY\bY  (Linux  only)  This may be returned by d\bdu\bup\bp2\b2() or d\bdu\bup\bp3\b3() during a\r\n",
      "              race condition with o\bop\bpe\ben\bn(2) and d\bdu\bup\bp().\r\n",
      "\r\n",
      "       E\bEI\bIN\bNT\bTR\bR  The d\bdu\bup\bp2\b2() or d\bdu\bup\bp3\b3() call was interrupted by a signal; see  s\bsi\big\bg\xe2\x80\x90\b\xe2\x80\x90\r\n",
      "              n\bna\bal\bl(7).\r\n",
      "\r\n",
      "       E\bEI\bIN\bNV\bVA\bAL\bL (d\bdu\bup\bp3\b3()) _\bf_\bl_\ba_\bg_\bs contain an invalid value.\r\n",
      "\r\n",
      "       E\bEI\bIN\bNV\bVA\bAL\bL (d\bdu\bup\bp3\b3()) _\bo_\bl_\bd_\bf_\bd was equal to _\bn_\be_\bw_\bf_\bd.\r\n",
      "\r\n",
      "       E\bEM\bMF\bFI\bIL\bLE\bE The per-process limit on the number of open file descriptors has\r\n",
      "              been reached (see  the  discussion  of  R\bRL\bLI\bIM\bMI\bIT\bT_\b_N\bNO\bOF\bFI\bIL\bLE\bE  in  g\bge\bet\btr\br\xe2\x80\x90\b\xe2\x80\x90\r\n",
      "              l\bli\bim\bmi\bit\bt(2)).\r\n",
      "\r\n",
      "V\bVE\bER\bRS\bSI\bIO\bON\bNS\bS\r\n",
      "       d\bdu\bup\bp3\b3() was added to Linux in version 2.6.27; glibc support is available\r\n",
      "       starting with version 2.9.\r\n",
      "\r\n",
      "C\bCO\bON\bNF\bFO\bOR\bRM\bMI\bIN\bNG\bG T\bTO\bO\r\n",
      "       d\bdu\bup\bp(), d\bdu\bup\bp2\b2(): POSIX.1-2001, POSIX.1-2008, SVr4, 4.3BSD.\r\n",
      "\r\n",
      "       d\bdu\bup\bp3\b3() is Linux-specific.\r\n",
      "\r\n",
      "N\bNO\bOT\bTE\bES\bS\r\n",
      "       The error returned  by  d\bdu\bup\bp2\b2()  is  different  from  that  returned  by\r\n",
      "       f\bfc\bcn\bnt\btl\bl(\b(..., F\bF_\b_D\bDU\bUP\bPF\bFD\bD, ...)\b)  when _\bn_\be_\bw_\bf_\bd is out of range.  On some systems,\r\n",
      "       d\bdu\bup\bp2\b2() also sometimes returns E\bEI\bIN\bNV\bVA\bAL\bL like F\bF_\b_D\bDU\bUP\bPF\bFD\bD.\r\n",
      "\r\n",
      "       If _\bn_\be_\bw_\bf_\bd was open, any errors that would have been reported at c\bcl\blo\bos\bse\be(2)\r\n",
      "       time  are lost.  If this is of concern, then\xe2\x80\x94unless the program is sin\xe2\x80\x90\r\n",
      "       gle-threaded and does not allocate file descriptors in signal handlers\xe2\x80\x94\r\n",
      "       the  correct  approach  is  _\bn_\bo_\bt  to  close _\bn_\be_\bw_\bf_\bd before calling d\bdu\bup\bp2\b2(),\r\n",
      "       because of the race condition described above.  Instead, code something\r\n",
      "       like the following could be used:\r\n",
      "\r\n",
      "           /* Obtain a duplicate of 'newfd' that can subsequently\r\n",
      "              be used to check for close() errors; an EBADF error\r\n",
      "              means that 'newfd' was not open. */\r\n",
      "\r\n",
      "           tmpfd = dup(newfd);\r\n",
      "           if (tmpfd == -1 && errno != EBADF) {\r\n",
      "               /* Handle unexpected dup() error */\r\n",
      "           }\r\n",
      "\r\n",
      "           /* Atomically duplicate 'oldfd' on 'newfd' */\r\n",
      "\r\n",
      "           if (dup2(oldfd, newfd) == -1) {\r\n",
      "               /* Handle dup2() error */\r\n",
      "           }\r\n",
      "\r\n",
      "           /* Now check for close() errors on the file originally\r\n",
      "              referred to by 'newfd' */\r\n",
      "\r\n",
      "           if (tmpfd != -1) {\r\n",
      "               if (close(tmpfd) == -1) {\r\n",
      "                   /* Handle errors from close */\r\n",
      "               }\r\n",
      "           }\r\n",
      "\r\n",
      "S\bSE\bEE\bE A\bAL\bLS\bSO\bO\r\n",
      "       c\bcl\blo\bos\bse\be(2), f\bfc\bcn\bnt\btl\bl(2), o\bop\bpe\ben\bn(2)\r\n",
      "\r\n",
      "C\bCO\bOL\bLO\bOP\bPH\bHO\bON\bN\r\n",
      "       This  page  is  part of release 4.04 of the Linux _\bm_\ba_\bn_\b-_\bp_\ba_\bg_\be_\bs project.  A\r\n",
      "       description of the project, information about reporting bugs,  and  the\r\n",
      "       latest     version     of     this    page,    can    be    found    at\r\n",
      "       http://www.kernel.org/doc/man-pages/.\r\n",
      "\r\n",
      "Linux                             2015-12-28                            DUP(2)\r\n"
     ]
    }
   ],
   "source": [
    "!man dup2"
   ]
  },
  {
   "cell_type": "markdown",
   "metadata": {},
   "source": [
    "# inf09-0\n",
    "\n",
    "```\n",
    "sudo useradd tmp_user\n",
    "sudo passwd tmp_user\n",
    "su tmp_user\n",
    "ulimit -u 100\n",
    "./inf09_0.exe\n",
    "```"
   ]
  },
  {
   "cell_type": "code",
   "execution_count": 192,
   "metadata": {},
   "outputs": [
    {
     "data": {
      "text/markdown": [
       "Run: `gcc inf09_0.c -o inf09_0.exe`"
      ],
      "text/plain": [
       "<IPython.core.display.Markdown object>"
      ]
     },
     "metadata": {},
     "output_type": "display_data"
    }
   ],
   "source": [
    "%%cpp inf09_0.c --ejudge-style\n",
    "%run gcc inf09_0.c -o inf09_0.exe\n",
    "\n",
    "#include <assert.h>\n",
    "#include <fcntl.h>\n",
    "#include <stdio.h>\n",
    "#include <stdlib.h>\n",
    "#include <sys/resource.h>\n",
    "#include <sys/types.h>\n",
    "#include <sys/wait.h>\n",
    "#include <unistd.h>\n",
    "\n",
    "int main()\n",
    "{\n",
    "    for (int i = 1; 1; ++i) {\n",
    "        int pid = fork();\n",
    "        fflush(stdout);\n",
    "        if (pid < 0) {\n",
    "            printf(\"%d\\n\", i);\n",
    "            return 0;\n",
    "        }\n",
    "        if (pid != 0) {\n",
    "            int status;\n",
    "            assert(waitpid(pid, &status, 0) != -1);\n",
    "            break;\n",
    "        }\n",
    "    }\n",
    "    return 0;\n",
    "}"
   ]
  },
  {
   "cell_type": "code",
   "execution_count": 193,
   "metadata": {},
   "outputs": [
    {
     "name": "stdout",
     "output_type": "stream",
     "text": [
      "// %%cpp inf09_0.c --ejudge-style\r\n",
      "\r\n",
      "#include <assert.h>\r\n",
      "#include <fcntl.h>\r\n",
      "#include <stdio.h>\r\n",
      "#include <stdlib.h>\r\n",
      "#include <sys/resource.h>\r\n",
      "#include <sys/types.h>\r\n",
      "#include <sys/wait.h>\r\n",
      "#include <unistd.h>\r\n",
      "\r\n",
      "int main()\r\n",
      "{\r\n",
      "    for (int i = 1; 1; ++i) {\r\n",
      "        int pid = fork();\r\n",
      "        fflush(stdout);\r\n",
      "        if (pid < 0) {\r\n",
      "            printf(\"%d\\n\", i);\r\n",
      "            return 0;\r\n",
      "        }\r\n",
      "        if (pid != 0) {\r\n",
      "            int status;\r\n",
      "            assert(waitpid(pid, &status, 0) != -1);\r\n",
      "            break;\r\n",
      "        }\r\n",
      "    }\r\n",
      "    return 0;\r\n",
      "}\r\n",
      "\r\n",
      "// line without \\n"
     ]
    }
   ],
   "source": [
    "!cat inf09_0.c"
   ]
  },
  {
   "cell_type": "code",
   "execution_count": null,
   "metadata": {},
   "outputs": [],
   "source": []
  }
 ],
 "metadata": {
  "kernelspec": {
   "display_name": "Python 3",
   "language": "python",
   "name": "python3"
  },
  "language_info": {
   "codemirror_mode": {
    "name": "ipython",
    "version": 3
   },
   "file_extension": ".py",
   "mimetype": "text/x-python",
   "name": "python",
   "nbconvert_exporter": "python",
   "pygments_lexer": "ipython3",
   "version": "3.5.2"
  }
 },
 "nbformat": 4,
 "nbformat_minor": 2
}
