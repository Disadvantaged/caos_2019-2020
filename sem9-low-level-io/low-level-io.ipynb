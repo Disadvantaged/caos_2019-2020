{
 "cells": [
  {
   "cell_type": "code",
   "execution_count": 14,
   "metadata": {},
   "outputs": [
    {
     "data": {
      "application/javascript": [
       "// setup cpp code highlighting\n",
       "IPython.CodeCell.options_default.highlight_modes[\"text/x-c++src\"] = {'reg':[/^%%cpp/]} ;"
      ],
      "text/plain": [
       "<IPython.core.display.Javascript object>"
      ]
     },
     "metadata": {},
     "output_type": "display_data"
    }
   ],
   "source": [
    "get_ipython().run_cell_magic('javascript', '', '// setup cpp code highlighting\\nIPython.CodeCell.options_default.highlight_modes[\"text/x-c++src\"] = {\\'reg\\':[/^%%cpp/]} ;')\n",
    "\n",
    "# creating magics\n",
    "from IPython.core.magic import register_cell_magic, register_line_magic\n",
    "from IPython.display import display, Markdown\n",
    "\n",
    "@register_cell_magic\n",
    "def save_file(fname, cell):\n",
    "    cell = cell if cell[-1] == '\\n' else cell + \"\\n\"\n",
    "    cmds = []\n",
    "    with open(fname, \"w\") as f:\n",
    "        for line in cell.split(\"\\n\"):\n",
    "            if line.startswith(\"%\"):\n",
    "                run_prefix = \"%run \"\n",
    "                assert line.startswith(run_prefix)\n",
    "                cmds.append(line[len(run_prefix):].strip())\n",
    "            else:\n",
    "                f.write(line + \"\\n\")\n",
    "    for cmd in cmds:\n",
    "        display(Markdown(\"Run: `%s`\" % cmd))\n",
    "        get_ipython().system(cmd)\n",
    "\n",
    "@register_cell_magic\n",
    "def cpp(fname, cell):\n",
    "    save_file(fname, cell)\n",
    "\n",
    "@register_cell_magic\n",
    "def asm(fname, cell):\n",
    "    save_file(fname, cell)\n",
    "    \n",
    "@register_cell_magic\n",
    "def makefile(fname, cell):\n",
    "    assert not fname\n",
    "    save_file(\"makefile\", cell.replace(\" \" * 4, \"\\t\"))\n",
    "        \n",
    "@register_line_magic\n",
    "def p(line):\n",
    "    try:\n",
    "        expr, comment = line.split(\" #\")\n",
    "        display(Markdown(\"`{} = {}`  # {}\".format(expr.strip(), eval(expr), comment.strip())))\n",
    "    except:\n",
    "        display(Markdown(\"{} = {}\".format(line, eval(line))))\n",
    "    "
   ]
  },
  {
   "cell_type": "code",
   "execution_count": 15,
   "metadata": {},
   "outputs": [
    {
     "data": {
      "text/markdown": [
       "`1 + 1 = 2`  # 1"
      ],
      "text/plain": [
       "<IPython.core.display.Markdown object>"
      ]
     },
     "metadata": {},
     "output_type": "display_data"
    }
   ],
   "source": [
    "%p 1 + 1 # 1"
   ]
  },
  {
   "cell_type": "markdown",
   "metadata": {},
   "source": [
    "# Низкоуровневый ввод-вывод"
   ]
  },
  {
   "cell_type": "markdown",
   "metadata": {},
   "source": [
    "## Linux"
   ]
  },
  {
   "cell_type": "markdown",
   "metadata": {},
   "source": [
    "Здесь полезно рассматривать процесс как объект в операционной системе. Помимо основного пользовательского потока выполнения у процесса-объекта есть множество атрибутов.\n",
    "\n",
    "Советую прочитать [статью на хабре](https://habr.com/ru/post/423049/#definition), вроде там все очень неплохо написано.\n",
    "\n",
    "Сегодня нас будут интересовать файловые дескрипторы. Каждому открытому файлу и соединению соответствует число (int). Это число используется как идентификатор в функциях, работающих с файлами/соединениями."
   ]
  },
  {
   "cell_type": "code",
   "execution_count": 51,
   "metadata": {},
   "outputs": [
    {
     "data": {
      "text/markdown": [
       "Run: `gcc linux_example.c -o linux_example.exe`"
      ],
      "text/plain": [
       "<IPython.core.display.Markdown object>"
      ]
     },
     "metadata": {},
     "output_type": "display_data"
    },
    {
     "data": {
      "text/markdown": [
       "Run: `echo \"Hello students!\" > linux_example_input_001.txt`"
      ],
      "text/plain": [
       "<IPython.core.display.Markdown object>"
      ]
     },
     "metadata": {},
     "output_type": "display_data"
    },
    {
     "data": {
      "text/markdown": [
       "Run: `./linux_example.exe linux_example_input_001.txt`"
      ],
      "text/plain": [
       "<IPython.core.display.Markdown object>"
      ]
     },
     "metadata": {},
     "output_type": "display_data"
    },
    {
     "name": "stdout",
     "output_type": "stream",
     "text": [
      "Linux by write\r\n",
      "\u0000Bytes read: 16\r\n",
      "'''Hello students!\r\n",
      "'''\r\n",
      "Linux by printf"
     ]
    }
   ],
   "source": [
    "%%cpp linux_example.c\n",
    "%run gcc linux_example.c -o linux_example.exe\n",
    "%run echo \"Hello students!\" > linux_example_input_001.txt\n",
    "%run ./linux_example.exe linux_example_input_001.txt\n",
    "\n",
    "#include <sys/types.h>\n",
    "#include <sys/stat.h>\n",
    "#include <fcntl.h>\n",
    "#include <unistd.h>\n",
    "#include <stdio.h>\n",
    "\n",
    "int main(int argc, char *argv[])\n",
    "{\n",
    "    //printf(\"Linux by printf\"); // where it will be printed?\n",
    "    char linux_str[] = \"Linux by write\\n\";\n",
    "    write(1, linux_str, sizeof(linux_str));\n",
    "    if (argc < 2) {\n",
    "        printf(\"Need at least 2 arguments\\n\");\n",
    "        return 1;\n",
    "    }\n",
    "    int fd = open(argv[1], O_RDONLY);\n",
    "    if (fd < 0) {\n",
    "        perror(\"Can't open file\");\n",
    "        return -1;\n",
    "    }\n",
    "    \n",
    "    char buffer[4096];\n",
    "    int bytes_read = read(fd, buffer, sizeof(buffer));\n",
    "    if (bytes_read < 0) {\n",
    "        perror(\"Error reading file\");\n",
    "        close(fd);\n",
    "        return -1;\n",
    "    }\n",
    "    char buffer2[4096];\n",
    "    int written_bytes = snprintf(buffer2, sizeof(buffer2), \"Bytes read: %d\\n'''%s'''\\n\", bytes_read, buffer);\n",
    "    write(1, buffer2, written_bytes);\n",
    "    close(fd);\n",
    "    return 0;\n",
    "}"
   ]
  },
  {
   "cell_type": "markdown",
   "metadata": {},
   "source": [
    "При открытии файла с флагом создания (O_WRONLY | O_CREAT) важно адекватно проставлять маску прав доступа. Давайте с ней разберемся.\n",
    "\n",
    "Заметка о правописании: **Attribute, но атрибут**"
   ]
  },
  {
   "cell_type": "code",
   "execution_count": 35,
   "metadata": {},
   "outputs": [
    {
     "data": {
      "text/markdown": [
       "`os.stat(\"a.txt\") = os.stat_result(st_mode=33204, st_ino=1344254, st_dev=2049, st_nlink=1, st_uid=1000, st_gid=1000, st_size=15, st_atime=1572284759, st_mtime=1572287868, st_ctime=1572287868)`  # Атрибуты файла `a.txt`"
      ],
      "text/plain": [
       "<IPython.core.display.Markdown object>"
      ]
     },
     "metadata": {},
     "output_type": "display_data"
    },
    {
     "data": {
      "text/markdown": [
       "`oct(os.stat(\"a.txt\").st_mode) = 0o100664`  # Интересны последние три восьмеричные цифры. 664 - это обычные атрибуты прав"
      ],
      "text/plain": [
       "<IPython.core.display.Markdown object>"
      ]
     },
     "metadata": {},
     "output_type": "display_data"
    },
    {
     "data": {
      "text/markdown": [
       "`oct(os.stat(\"./linux_example.exe\").st_mode) = 0o100775`  # Аттрибуты прав исполняемого файла"
      ],
      "text/plain": [
       "<IPython.core.display.Markdown object>"
      ]
     },
     "metadata": {},
     "output_type": "display_data"
    },
    {
     "data": {
      "text/markdown": [
       "`oct(os.stat(\"b_dir\").st_mode) = 0o40775`  # Забавный факт, но все могут \"исполнять директорию\". [Более подробно на stackoverflow](https://unix.stackexchange.com/questions/21251/execute-vs-read-bit-how-do-directory-permissions-in-linux-work)"
      ],
      "text/plain": [
       "<IPython.core.display.Markdown object>"
      ]
     },
     "metadata": {},
     "output_type": "display_data"
    }
   ],
   "source": [
    "!echo \"Hello jupyter!\" > a.txt  # создаем файлик с обычными \"настройками\"\n",
    "!mkdir b_dir 2> /dev/null\n",
    "\n",
    "import os  # В модуле os есть почти в чистом виде почти все системные вызовы: write, read, open...\n",
    "from IPython.display import display\n",
    "\n",
    "%p os.stat(\"a.txt\") # Атрибуты файла `a.txt`\n",
    "%p oct(os.stat(\"a.txt\").st_mode)  # Интересны последние три восьмеричные цифры. 664 - это обычные атрибуты прав\n",
    "\n",
    "%p oct(os.stat(\"./linux_example.exe\").st_mode)  # Аттрибуты прав исполняемого файла\n",
    "\n",
    "%p oct(os.stat(\"b_dir\").st_mode)  # Забавный факт, но все могут \"исполнять директорию\". [Более подробно на stackoverflow](https://unix.stackexchange.com/questions/21251/execute-vs-read-bit-how-do-directory-permissions-in-linux-work)\n"
   ]
  },
  {
   "cell_type": "code",
   "execution_count": 46,
   "metadata": {},
   "outputs": [
    {
     "data": {
      "text/markdown": [
       "Run: `gcc linux_file_hello_world.c -o linux_file_hello_world.exe`"
      ],
      "text/plain": [
       "<IPython.core.display.Markdown object>"
      ]
     },
     "metadata": {},
     "output_type": "display_data"
    },
    {
     "data": {
      "text/markdown": [
       "Run: `./linux_file_hello_world.exe`"
      ],
      "text/plain": [
       "<IPython.core.display.Markdown object>"
      ]
     },
     "metadata": {},
     "output_type": "display_data"
    },
    {
     "name": "stdout",
     "output_type": "stream",
     "text": [
      "Bytes written: 13 (expected 13)\r\n"
     ]
    },
    {
     "data": {
      "text/markdown": [
       "Run: `cat linux_file_hello_world.out`"
      ],
      "text/plain": [
       "<IPython.core.display.Markdown object>"
      ]
     },
     "metadata": {},
     "output_type": "display_data"
    },
    {
     "name": "stdout",
     "output_type": "stream",
     "text": [
      "Hello world!\u0000"
     ]
    }
   ],
   "source": [
    "%%cpp linux_file_hello_world.c\n",
    "%run gcc linux_file_hello_world.c -o linux_file_hello_world.exe\n",
    "%run ./linux_file_hello_world.exe\n",
    "%run cat linux_file_hello_world.out\n",
    "\n",
    "#include <sys/types.h>\n",
    "#include <sys/stat.h>\n",
    "#include <fcntl.h>\n",
    "#include <unistd.h>\n",
    "#include <stdio.h>\n",
    "\n",
    "int main(int argc, char *argv[])\n",
    "{   \n",
    "    int fd = open(\"linux_file_hello_world.out\", O_WRONLY | O_CREAT, 0664); // попробуйте не указывать 0664\n",
    "    if (fd < 0) {\n",
    "        perror(\"Can't open file\");\n",
    "        return -1;\n",
    "    }\n",
    "    char buffer[] = \"Hello world!\";\n",
    "    int bytes_written = write(fd, buffer, sizeof(buffer));\n",
    "    if (bytes_written < 0) {\n",
    "        perror(\"Error writing file\");\n",
    "        close(fd);\n",
    "        return -1;\n",
    "    }\n",
    "    printf(\"Bytes written: %d (expected %d)\\n\", bytes_written, (int)sizeof(buffer));\n",
    "    close(fd);\n",
    "    return 0;\n",
    "}"
   ]
  },
  {
   "cell_type": "code",
   "execution_count": 42,
   "metadata": {},
   "outputs": [],
   "source": [
    "!rm -f linux_file_hello_world.out"
   ]
  },
  {
   "cell_type": "code",
   "execution_count": null,
   "metadata": {},
   "outputs": [],
   "source": []
  },
  {
   "cell_type": "code",
   "execution_count": null,
   "metadata": {},
   "outputs": [],
   "source": [
    "%%cpp linux_example.c\n",
    "%run gcc linux_example.c -o linux_example.exe\n",
    "%run echo \"Hello students!\" > linux_example_input_001.txt\n",
    "%run ./linux_example.exe linux_example_input_001.txt\n",
    "\n",
    "#include <sys/types.h>\n",
    "#include <sys/stat.h>\n",
    "#include <fcntl.h>\n",
    "#include <unistd.h>\n",
    "#include <stdio.h>\n",
    "\n",
    "int main(int argc, char *argv[])\n",
    "{\n",
    "    printf(\"Linux\");\n",
    "    if (argc < 2) {\n",
    "        printf(\"Need at least 2 arguments\\n\");\n",
    "        return 1;\n",
    "    }\n",
    "    int fd = open(argv[1], O_RDONLY);\n",
    "    if (fd < 0) {\n",
    "        perror(\"Can't open file\");\n",
    "        return -1;\n",
    "    }\n",
    "    \n",
    "    char buffer[4096];\n",
    "    int bytes_read = read(fd, buffer, sizeof(buffer));\n",
    "    if (bytes_read < 0) {\n",
    "        perror(\"Error reading file\");\n",
    "        close(fd);\n",
    "        return -1;\n",
    "    }\n",
    "    printf(\"Bytes read: %d\\n'''%s'''\\n\", bytes_read, buffer);\n",
    "    close(fd);\n",
    "    return 0;\n",
    "}"
   ]
  },
  {
   "cell_type": "code",
   "execution_count": null,
   "metadata": {},
   "outputs": [],
   "source": []
  },
  {
   "cell_type": "markdown",
   "metadata": {},
   "source": [
    "# Windows\n",
    "\n",
    "* Вместо файловых дескрипторов - HANDLE (вроде это просто void*)\n",
    "* Много алиасов для типов вроде HANDLE, DWORD, BOOL, LPTSTR, LPWSTR\n",
    "* Очень много аргументов у всех функций\n",
    "* Плохая документация, гуглится все плохо"
   ]
  },
  {
   "cell_type": "code",
   "execution_count": 22,
   "metadata": {},
   "outputs": [
    {
     "data": {
      "text/markdown": [
       "Run: `i686-w64-mingw32-gcc winapi_example.c -o winapi_example.exe`"
      ],
      "text/plain": [
       "<IPython.core.display.Markdown object>"
      ]
     },
     "metadata": {},
     "output_type": "display_data"
    },
    {
     "data": {
      "text/markdown": [
       "Run: `echo \"Hello students!\" > winapi_example_input_001.txt`"
      ],
      "text/plain": [
       "<IPython.core.display.Markdown object>"
      ]
     },
     "metadata": {},
     "output_type": "display_data"
    },
    {
     "data": {
      "text/markdown": [
       "Run: `wine winapi_example.exe winapi_example_input_001.txt`"
      ],
      "text/plain": [
       "<IPython.core.display.Markdown object>"
      ]
     },
     "metadata": {},
     "output_type": "display_data"
    },
    {
     "name": "stdout",
     "output_type": "stream",
     "text": [
      "\u001b[?1h\u001b=Defined WIN32\r",
      "\r\n",
      "Bytes read: 16\r",
      "\r\n",
      "'''Hello students!\r",
      "\r\n",
      "'''\r",
      "\r\n"
     ]
    }
   ],
   "source": [
    "%%cpp winapi_example.c\n",
    "%run i686-w64-mingw32-gcc winapi_example.c -o winapi_example.exe\n",
    "%run echo \"Hello students!\" > winapi_example_input_001.txt\n",
    "%run wine winapi_example.exe winapi_example_input_001.txt\n",
    "\n",
    "#include <windows.h>\n",
    "#include <stdio.h>\n",
    "\n",
    "int main(int argc, char *argv[])\n",
    "{\n",
    "#ifdef WIN32\n",
    "    printf(\"Defined WIN32\\n\");\n",
    "#else\n",
    "    printf(\"Not WIN32\\n\");\n",
    "#endif\n",
    "    if (argc < 2) {\n",
    "        printf(\"Need at least 2 arguments\\n\");\n",
    "        return 1;\n",
    "    }\n",
    "    HANDLE fileHandle = CreateFileA(\n",
    "        argv[1], GENERIC_READ, FILE_SHARE_READ, NULL,\n",
    "        OPEN_EXISTING, FILE_ATTRIBUTE_NORMAL, NULL);\n",
    "    if (fileHandle == INVALID_HANDLE_VALUE) {\n",
    "        char errorBuffer[1024];\n",
    "        if (!FormatMessage(FORMAT_MESSAGE_FROM_SYSTEM | FORMAT_MESSAGE_IGNORE_INSERTS,\n",
    "                           NULL, GetLastError(),\n",
    "                           MAKELANGID(LANG_NEUTRAL, SUBLANG_DEFAULT),\n",
    "                           errorBuffer, sizeof(errorBuffer), NULL))\n",
    "        {\n",
    "            printf(\"Format message failed with 0x%x\\n\", GetLastError());\n",
    "            return -1;\n",
    "        }\n",
    "        printf(\"Can't open file: %s\\n\", errorBuffer);\n",
    "        return -1;\n",
    "    }\n",
    "    \n",
    "    char buffer[4096];\n",
    "    memset(buffer, 0, sizeof(buffer));\n",
    "    DWORD bytes_read;\n",
    "    BOOL success;\n",
    "    success = ReadFile(fileHandle, buffer, sizeof(buffer),\n",
    "                       &bytes_read, NULL);\n",
    "    if (!success) {\n",
    "        perror(\"Error reading file\");\n",
    "        CloseHandle(fileHandle);\n",
    "        return -1;\n",
    "    }\n",
    "    printf(\"Bytes read: %d\\n'''%s'''\\n\", bytes_read, buffer);\n",
    "    CloseHandle(fileHandle);\n",
    "    return 0;\n",
    "}"
   ]
  },
  {
   "cell_type": "code",
   "execution_count": 6,
   "metadata": {},
   "outputs": [],
   "source": []
  },
  {
   "cell_type": "code",
   "execution_count": 53,
   "metadata": {},
   "outputs": [
    {
     "name": "stdout",
     "output_type": "stream",
     "text": [
      "[NbConvertApp] Converting notebook low-level-io.ipynb to markdown\n",
      "[NbConvertApp] Writing 9233 bytes to README.md\n"
     ]
    }
   ],
   "source": [
    "!jupyter nbconvert low-level-io.ipynb --to markdown --output README"
   ]
  },
  {
   "cell_type": "code",
   "execution_count": null,
   "metadata": {},
   "outputs": [],
   "source": []
  }
 ],
 "metadata": {
  "kernelspec": {
   "display_name": "Python 3",
   "language": "python",
   "name": "python3"
  },
  "language_info": {
   "codemirror_mode": {
    "name": "ipython",
    "version": 3
   },
   "file_extension": ".py",
   "mimetype": "text/x-python",
   "name": "python",
   "nbconvert_exporter": "python",
   "pygments_lexer": "ipython3",
   "version": "3.5.2"
  }
 },
 "nbformat": 4,
 "nbformat_minor": 2
}
