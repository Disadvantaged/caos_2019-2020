{
 "cells": [
  {
   "cell_type": "code",
   "execution_count": 1,
   "metadata": {},
   "outputs": [
    {
     "data": {
      "application/javascript": [
       "// setup cpp code highlighting\n",
       "IPython.CodeCell.options_default.highlight_modes[\"text/x-c++src\"] = {'reg':[/^%%cpp/]} ;"
      ],
      "text/plain": [
       "<IPython.core.display.Javascript object>"
      ]
     },
     "metadata": {},
     "output_type": "display_data"
    }
   ],
   "source": [
    "# make magics here. Look at previous notebooks to see readable version\n",
    "exec('\\nget_ipython().run_cell_magic(\\'javascript\\', \\'\\', \\'// setup cpp code highlighting\\\\nIPython.CodeCell.options_default.highlight_modes[\"text/x-c++src\"] = {\\\\\\'reg\\\\\\':[/^%%cpp/]} ;\\')\\n\\n# creating magics\\nfrom IPython.core.magic import register_cell_magic, register_line_magic\\nfrom IPython.display import display, Markdown\\n\\n@register_cell_magic\\ndef save_file(fname, cell):\\n    cell = cell if cell[-1] == \\'\\\\n\\' else cell + \"\\\\n\"\\n    cmds = []\\n    with open(fname, \"w\") as f:\\n        for line in cell.split(\"\\\\n\"):\\n            if line.startswith(\"%\"):\\n                run_prefix = \"%run \"\\n                assert line.startswith(run_prefix)\\n                cmds.append(line[len(run_prefix):].strip())\\n            else:\\n                f.write(line + \"\\\\n\")\\n    for cmd in cmds:\\n        display(Markdown(\"Run: `%s`\" % cmd))\\n        get_ipython().system(cmd)\\n\\n@register_cell_magic\\ndef cpp(fname, cell):\\n    save_file(fname, cell)\\n\\n@register_cell_magic\\ndef asm(fname, cell):\\n    save_file(fname, cell)\\n    \\n@register_cell_magic\\ndef makefile(fname, cell):\\n    assert not fname\\n    save_file(\"makefile\", cell.replace(\" \" * 4, \"\\\\t\"))\\n        \\n@register_line_magic\\ndef p(line):\\n    print(\"{} = {}\".format(line, eval(line)))\\n')"
   ]
  },
  {
   "cell_type": "markdown",
   "metadata": {},
   "source": [
    "# Assembler x86\n",
    "\n",
    "* Мало регистров\n",
    "* Много команд\n",
    "* Много легаси\n",
    "* Много соглашений о вызовах\n",
    "* Разные синтаксисы"
   ]
  },
  {
   "cell_type": "markdown",
   "metadata": {},
   "source": [
    "# Syntaxes\n",
    "### AT&T"
   ]
  },
  {
   "cell_type": "code",
   "execution_count": 2,
   "metadata": {},
   "outputs": [
    {
     "data": {
      "text/markdown": [
       "Run: `gcc -m32 -masm=att -O3 att_example.c -S -o att_example.S`"
      ],
      "text/plain": [
       "<IPython.core.display.Markdown object>"
      ]
     },
     "metadata": {},
     "output_type": "display_data"
    },
    {
     "data": {
      "text/markdown": [
       "Run: `cat att_example.S | grep -v \"^\\s*\\.\"`"
      ],
      "text/plain": [
       "<IPython.core.display.Markdown object>"
      ]
     },
     "metadata": {},
     "output_type": "display_data"
    },
    {
     "name": "stdout",
     "output_type": "stream",
     "text": [
      "sum:\r\n",
      "\tmovl\t8(%esp), %eax\r\n",
      "\taddl\t4(%esp), %eax\r\n",
      "\tret\r\n"
     ]
    }
   ],
   "source": [
    "%%cpp att_example.c\n",
    "%run gcc -m32 -masm=att -O3 att_example.c -S -o att_example.S\n",
    "%run cat att_example.S | grep -v \"^\\s*\\.\"\n",
    "\n",
    "#include <stdint.h>\n",
    "    \n",
    "int32_t sum(int32_t a, int32_t b) {\n",
    "    return a + b;\n",
    "}"
   ]
  },
  {
   "cell_type": "markdown",
   "metadata": {},
   "source": [
    "### Intel\n",
    "\n",
    "DWORD PTR — это переменная типа двойного слова. Слово — это 16 бит. Термин получил распространение в эпоху 16-ти битных процессоров, тогда в регистр помещалось ровно 16 бит. Такой объем информации стали называть словом (word). Т. е. в нашем случае dword (double word) 2*16 = 32 бита = 4 байта (обычный int). \n",
    "\n",
    "https://habr.com/ru/post/344896/"
   ]
  },
  {
   "cell_type": "code",
   "execution_count": 3,
   "metadata": {
    "scrolled": true
   },
   "outputs": [
    {
     "data": {
      "text/markdown": [
       "Run: `gcc -m32 -masm=intel -O3 att_example.c -S -o att_example.S`"
      ],
      "text/plain": [
       "<IPython.core.display.Markdown object>"
      ]
     },
     "metadata": {},
     "output_type": "display_data"
    },
    {
     "data": {
      "text/markdown": [
       "Run: `cat att_example.S | grep -v \"^\\s*\\.\"`"
      ],
      "text/plain": [
       "<IPython.core.display.Markdown object>"
      ]
     },
     "metadata": {},
     "output_type": "display_data"
    },
    {
     "name": "stdout",
     "output_type": "stream",
     "text": [
      "sum:\r\n",
      "\tmov\teax, DWORD PTR [esp+8]\r\n",
      "\tadd\teax, DWORD PTR [esp+4]\r\n",
      "\tret\r\n"
     ]
    }
   ],
   "source": [
    "%%cpp att_example.c\n",
    "%run gcc -m32 -masm=intel -O3 att_example.c -S -o att_example.S\n",
    "%run cat att_example.S | grep -v \"^\\s*\\.\"\n",
    "\n",
    "#include <stdint.h>\n",
    "    \n",
    "int32_t sum(int32_t a, int32_t b) {\n",
    "    return a + b;\n",
    "}"
   ]
  },
  {
   "cell_type": "markdown",
   "metadata": {},
   "source": [
    "# Пишем функцию clamp тремя способами"
   ]
  },
  {
   "cell_type": "code",
   "execution_count": 4,
   "metadata": {},
   "outputs": [],
   "source": [
    "%%asm clamp_disasm.S\n",
    ".intel_syntax noprefix\n",
    ".text\n",
    ".globl clamp\n",
    "clamp:\n",
    "    mov edx, DWORD PTR [esp+4]\n",
    "    mov eax, DWORD PTR [esp+8]\n",
    "    cmp edx, eax\n",
    "    jl .L2\n",
    "    cmp edx, DWORD PTR [esp+12]\n",
    "    mov eax, edx\n",
    "    cmovg eax, DWORD PTR [esp+12]\n",
    ".L2:\n",
    "    rep ret"
   ]
  },
  {
   "cell_type": "code",
   "execution_count": 5,
   "metadata": {},
   "outputs": [],
   "source": [
    "%%asm clamp_if.S\n",
    ".intel_syntax noprefix\n",
    ".text\n",
    ".globl clamp\n",
    "clamp:\n",
    "    mov edx, DWORD PTR [esp + 4]\n",
    "    mov eax, DWORD PTR [esp + 8]\n",
    "    cmp edx, eax\n",
    "    jl return_eax\n",
    "    mov eax, DWORD PTR [esp + 12]\n",
    "    cmp edx, eax\n",
    "    jg return_eax\n",
    "    mov eax, edx\n",
    "return_eax:\n",
    "    ret"
   ]
  },
  {
   "cell_type": "code",
   "execution_count": 6,
   "metadata": {},
   "outputs": [],
   "source": [
    "%%asm clamp_cmov.S\n",
    ".intel_syntax noprefix\n",
    ".text\n",
    ".globl clamp\n",
    "clamp:\n",
    "    mov eax, DWORD PTR [esp + 4]\n",
    "    mov edx, DWORD PTR [esp + 8]\n",
    "    cmp eax, edx\n",
    "    cmovl eax, edx\n",
    "    mov edx, DWORD PTR [esp + 12]\n",
    "    cmp eax, edx\n",
    "    cmovg eax, edx\n",
    "    ret"
   ]
  },
  {
   "cell_type": "code",
   "execution_count": 7,
   "metadata": {},
   "outputs": [
    {
     "data": {
      "text/markdown": [
       "Run: `gcc -m32 -masm=intel -O2 clamp.S clamp_test.c -o clamp_test.exe`"
      ],
      "text/plain": [
       "<IPython.core.display.Markdown object>"
      ]
     },
     "metadata": {},
     "output_type": "display_data"
    },
    {
     "data": {
      "text/markdown": [
       "Run: `./clamp_test.exe`"
      ],
      "text/plain": [
       "<IPython.core.display.Markdown object>"
      ]
     },
     "metadata": {},
     "output_type": "display_data"
    },
    {
     "name": "stdout",
     "output_type": "stream",
     "text": [
      "All is OK"
     ]
    },
    {
     "data": {
      "text/markdown": [
       "Run: `gcc -m32 -masm=intel -O2 clamp_if.S clamp_test.c -o clamp_if_test.exe`"
      ],
      "text/plain": [
       "<IPython.core.display.Markdown object>"
      ]
     },
     "metadata": {},
     "output_type": "display_data"
    },
    {
     "data": {
      "text/markdown": [
       "Run: `./clamp_if_test.exe`"
      ],
      "text/plain": [
       "<IPython.core.display.Markdown object>"
      ]
     },
     "metadata": {},
     "output_type": "display_data"
    },
    {
     "name": "stdout",
     "output_type": "stream",
     "text": [
      "All is OK"
     ]
    },
    {
     "data": {
      "text/markdown": [
       "Run: `gcc -m32 -masm=intel -O2 clamp_cmov.S clamp_test.c -o clamp_cmov_test.exe`"
      ],
      "text/plain": [
       "<IPython.core.display.Markdown object>"
      ]
     },
     "metadata": {},
     "output_type": "display_data"
    },
    {
     "data": {
      "text/markdown": [
       "Run: `./clamp_cmov_test.exe`"
      ],
      "text/plain": [
       "<IPython.core.display.Markdown object>"
      ]
     },
     "metadata": {},
     "output_type": "display_data"
    },
    {
     "name": "stdout",
     "output_type": "stream",
     "text": [
      "All is OK"
     ]
    }
   ],
   "source": [
    "%%cpp clamp_test.c\n",
    "// compile and test using all three asm clamp implementations\n",
    "%run gcc -m32 -masm=intel -O2 clamp.S clamp_test.c -o clamp_test.exe\n",
    "%run ./clamp_test.exe\n",
    "%run gcc -m32 -masm=intel -O2 clamp_if.S clamp_test.c -o clamp_if_test.exe\n",
    "%run ./clamp_if_test.exe\n",
    "%run gcc -m32 -masm=intel -O2 clamp_cmov.S clamp_test.c -o clamp_cmov_test.exe\n",
    "%run ./clamp_cmov_test.exe\n",
    "\n",
    "#include <stdint.h>\n",
    "#include <stdio.h>\n",
    "#include <assert.h>\n",
    "    \n",
    "int32_t clamp(int32_t a, int32_t b, int32_t c);\n",
    "\n",
    "int main() {\n",
    "    assert(clamp(1, 10, 20) == 10);\n",
    "    assert(clamp(100, 10, 20) == 20);\n",
    "    assert(clamp(15, 10, 20) == 15);\n",
    "    fprintf(stderr, \"All is OK\");\n",
    "    return 0;\n",
    "}"
   ]
  },
  {
   "cell_type": "markdown",
   "metadata": {},
   "source": [
    "# Inline ASM\n",
    "http://asm.sourceforge.net/articles/linasm.html"
   ]
  },
  {
   "cell_type": "code",
   "execution_count": 8,
   "metadata": {},
   "outputs": [
    {
     "data": {
      "text/markdown": [
       "Run: `gcc -m32 -masm=intel -O2 clamp_inline_test.c -o clamp_inline_test.exe`"
      ],
      "text/plain": [
       "<IPython.core.display.Markdown object>"
      ]
     },
     "metadata": {},
     "output_type": "display_data"
    },
    {
     "data": {
      "text/markdown": [
       "Run: `./clamp_inline_test.exe`"
      ],
      "text/plain": [
       "<IPython.core.display.Markdown object>"
      ]
     },
     "metadata": {},
     "output_type": "display_data"
    },
    {
     "name": "stdout",
     "output_type": "stream",
     "text": [
      "All is OK"
     ]
    }
   ],
   "source": [
    "%%cpp clamp_inline_test.c\n",
    "%run gcc -m32 -masm=intel -O2 clamp_inline_test.c -o clamp_inline_test.exe\n",
    "%run ./clamp_inline_test.exe\n",
    "\n",
    "#include <stdint.h>\n",
    "#include <stdio.h>\n",
    "#include <assert.h>\n",
    "    \n",
    "int32_t clamp(int32_t a, int32_t b, int32_t c);\n",
    "__asm__(R\"(\n",
    "clamp:\n",
    "    mov eax, DWORD PTR [esp + 4]\n",
    "    mov edx, DWORD PTR [esp + 8]\n",
    "    cmp eax, edx\n",
    "    cmovl eax, edx\n",
    "    mov edx, DWORD PTR [esp + 12]\n",
    "    cmp eax, edx\n",
    "    cmovg eax, edx\n",
    "    ret\n",
    ")\");\n",
    "\n",
    "int main() {\n",
    "    assert(clamp(1, 10, 20) == 10);\n",
    "    assert(clamp(100, 10, 20) == 20);\n",
    "    assert(clamp(15, 10, 20) == 15);\n",
    "    fprintf(stderr, \"All is OK\");\n",
    "    return 0;\n",
    "}"
   ]
  },
  {
   "cell_type": "markdown",
   "metadata": {},
   "source": [
    "# Поработаем с памятью\n",
    "\n",
    "Даны n, x. Посчитаем $\\sum_{i=0}^{n - 1} (-1)^i \\cdot x[i]$"
   ]
  },
  {
   "cell_type": "code",
   "execution_count": 9,
   "metadata": {},
   "outputs": [],
   "source": [
    "%%asm my_sum.S\n",
    ".intel_syntax noprefix\n",
    ".text\n",
    ".globl my_sum\n",
    "my_sum:\n",
    "    push ebx\n",
    "    mov eax, 0\n",
    "    mov edx, DWORD PTR [esp + 8]\n",
    "    mov ebx, DWORD PTR [esp + 12]\n",
    "start_loop:\n",
    "    cmp edx, 0\n",
    "    jle return_eax\n",
    "    add eax, DWORD PTR [ebx]\n",
    "    add ebx, 4\n",
    "    dec edx\n",
    "    \n",
    "    cmp edx, 0\n",
    "    jle return_eax\n",
    "    sub eax, DWORD PTR [ebx]\n",
    "    add ebx, 4\n",
    "    dec edx\n",
    "    \n",
    "    jmp start_loop\n",
    "return_eax:\n",
    "    pop ebx\n",
    "    ret"
   ]
  },
  {
   "cell_type": "code",
   "execution_count": 10,
   "metadata": {},
   "outputs": [
    {
     "data": {
      "text/markdown": [
       "Run: `gcc -g3 -m32 -masm=intel my_sum_test.c my_sum.S -o my_sum_test.exe`"
      ],
      "text/plain": [
       "<IPython.core.display.Markdown object>"
      ]
     },
     "metadata": {},
     "output_type": "display_data"
    },
    {
     "data": {
      "text/markdown": [
       "Run: `./my_sum_test.exe`"
      ],
      "text/plain": [
       "<IPython.core.display.Markdown object>"
      ]
     },
     "metadata": {},
     "output_type": "display_data"
    }
   ],
   "source": [
    "%%cpp my_sum_test.c\n",
    "%run gcc -g3 -m32 -masm=intel my_sum_test.c my_sum.S -o my_sum_test.exe\n",
    "%run ./my_sum_test.exe\n",
    "\n",
    "#include <stdint.h>\n",
    "#include <stdio.h>\n",
    "#include <assert.h>\n",
    "    \n",
    "int32_t my_sum(int32_t n, int32_t* x);\n",
    "\n",
    "int main() {\n",
    "    int32_t x[] = {100, 2, 200, 3};\n",
    "    assert(my_sum(sizeof(x) / sizeof(int32_t), x) == 100 - 2 + 200 - 3);\n",
    "    int32_t y[] = {100, 2, 200};\n",
    "    assert(my_sum(sizeof(y) / sizeof(int32_t), y) == 100 - 2 + 200);\n",
    "    return 0;\n",
    "}"
   ]
  },
  {
   "cell_type": "markdown",
   "metadata": {},
   "source": [
    "# Развлекательно-познавательная часть"
   ]
  },
  {
   "cell_type": "code",
   "execution_count": 11,
   "metadata": {},
   "outputs": [
    {
     "data": {
      "text/markdown": [
       "Run: `gcc -m32 -masm=intel -O3 mul.c -S -o mul.S`"
      ],
      "text/plain": [
       "<IPython.core.display.Markdown object>"
      ]
     },
     "metadata": {},
     "output_type": "display_data"
    },
    {
     "data": {
      "text/markdown": [
       "Run: `cat mul.S | grep -v \"^\\s*\\.\"`"
      ],
      "text/plain": [
       "<IPython.core.display.Markdown object>"
      ]
     },
     "metadata": {},
     "output_type": "display_data"
    },
    {
     "name": "stdout",
     "output_type": "stream",
     "text": [
      "mul:\r\n",
      "\tmov\teax, DWORD PTR [esp+4]\r\n",
      "\tadd\teax, eax\r\n",
      "\tret\r\n"
     ]
    }
   ],
   "source": [
    "%%cpp mul.c\n",
    "%run gcc -m32 -masm=intel -O3 mul.c -S -o mul.S\n",
    "%run cat mul.S | grep -v \"^\\s*\\.\"\n",
    "\n",
    "#include <stdint.h>\n",
    "    \n",
    "int32_t mul(int32_t a) { \n",
    "    return a * 2;\n",
    "}"
   ]
  },
  {
   "cell_type": "code",
   "execution_count": 12,
   "metadata": {},
   "outputs": [
    {
     "data": {
      "text/markdown": [
       "Run: `gcc -m32 -masm=intel -O3 div.c -S -o div.S`"
      ],
      "text/plain": [
       "<IPython.core.display.Markdown object>"
      ]
     },
     "metadata": {},
     "output_type": "display_data"
    },
    {
     "data": {
      "text/markdown": [
       "Run: `cat div.S | grep -v \"^\\s*\\.\" | grep -v \"^\\s*\\#\"`"
      ],
      "text/plain": [
       "<IPython.core.display.Markdown object>"
      ]
     },
     "metadata": {},
     "output_type": "display_data"
    },
    {
     "name": "stdout",
     "output_type": "stream",
     "text": [
      "div:\r\n",
      "\tmov\tedx, DWORD PTR [esp+4]\r\n",
      "\tlea\teax, [edx+3]\r\n",
      "\ttest\tedx, edx\r\n",
      "\tcmovns\teax, edx\r\n",
      "\tsar\teax, 2\r\n",
      "\tret\r\n",
      "udiv:\r\n",
      "\tmov\teax, DWORD PTR [esp+4]\r\n",
      "\tshr\teax\r\n",
      "\tret\r\n"
     ]
    }
   ],
   "source": [
    "%%cpp div.c\n",
    "%run gcc -m32 -masm=intel -O3 div.c -S -o div.S\n",
    "%run cat div.S | grep -v \"^\\s*\\.\" | grep -v \"^\\s*\\#\"\n",
    "\n",
    "#include <stdint.h>\n",
    "    \n",
    "int32_t div(int32_t a) { \n",
    "    return a / 4;\n",
    "}\n",
    "\n",
    "uint32_t udiv(uint32_t a) { \n",
    "    return a / 2;\n",
    "}"
   ]
  },
  {
   "cell_type": "code",
   "execution_count": 13,
   "metadata": {},
   "outputs": [
    {
     "data": {
      "text/markdown": [
       "Run: `gcc -m32 -masm=intel -O3 simdiv.c -o simdiv.exe`"
      ],
      "text/plain": [
       "<IPython.core.display.Markdown object>"
      ]
     },
     "metadata": {},
     "output_type": "display_data"
    },
    {
     "data": {
      "text/markdown": [
       "Run: `./simdiv.exe`"
      ],
      "text/plain": [
       "<IPython.core.display.Markdown object>"
      ]
     },
     "metadata": {},
     "output_type": "display_data"
    }
   ],
   "source": [
    "%%cpp simdiv.c\n",
    "%run gcc -m32 -masm=intel -O3 simdiv.c -o simdiv.exe\n",
    "%run ./simdiv.exe\n",
    "\n",
    "#include <stdint.h>\n",
    "#include <assert.h>\n",
    "    \n",
    "int32_t simdiv(int32_t a) { \n",
    "    uint32_t eax = ((uint32_t)a >> 31) + a;\n",
    "    __asm__(\"sar %0\" : \"=a\"(eax) : \"a\"(eax));\n",
    "    return eax;\n",
    "}\n",
    "\n",
    "int main() {\n",
    "    assert(simdiv(1) == 0);\n",
    "    assert(simdiv(5) == 2);\n",
    "    assert(simdiv(-1) == 0);\n",
    "    assert(simdiv(-5) == -2);\n",
    "}"
   ]
  },
  {
   "cell_type": "code",
   "execution_count": null,
   "metadata": {},
   "outputs": [],
   "source": []
  },
  {
   "cell_type": "markdown",
   "metadata": {},
   "source": [
    "# Inline ASM\n",
    "http://asm.sourceforge.net/articles/linasm.html"
   ]
  },
  {
   "cell_type": "code",
   "execution_count": null,
   "metadata": {},
   "outputs": [],
   "source": []
  },
  {
   "cell_type": "code",
   "execution_count": 14,
   "metadata": {},
   "outputs": [
    {
     "name": "stdout",
     "output_type": "stream",
     "text": [
      "[NbConvertApp] Converting notebook asm_x86.ipynb to markdown\n",
      "[NbConvertApp] Writing 8120 bytes to README.md\n"
     ]
    }
   ],
   "source": [
    "!jupyter nbconvert asm_x86.ipynb --to markdown --output README"
   ]
  },
  {
   "cell_type": "code",
   "execution_count": null,
   "metadata": {},
   "outputs": [],
   "source": []
  }
 ],
 "metadata": {
  "kernelspec": {
   "display_name": "Python 3",
   "language": "python",
   "name": "python3"
  },
  "language_info": {
   "codemirror_mode": {
    "name": "ipython",
    "version": 3
   },
   "file_extension": ".py",
   "mimetype": "text/x-python",
   "name": "python",
   "nbconvert_exporter": "python",
   "pygments_lexer": "ipython3",
   "version": "3.5.2"
  }
 },
 "nbformat": 4,
 "nbformat_minor": 2
}
