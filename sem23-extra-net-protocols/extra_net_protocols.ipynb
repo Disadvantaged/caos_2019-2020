{
 "cells": [
  {
   "cell_type": "code",
   "execution_count": 2,
   "metadata": {},
   "outputs": [
    {
     "data": {
      "application/javascript": [
       "// setup cpp code highlighting\n",
       "IPython.CodeCell.options_default.highlight_modes[\"text/x-c++src\"] = {'reg':[/^%%cpp/]} ;"
      ],
      "text/plain": [
       "<IPython.core.display.Javascript object>"
      ]
     },
     "metadata": {},
     "output_type": "display_data"
    },
    {
     "data": {
      "text/html": [
       "<!-- YANDEX_METRICA_BEGIN -->\n",
       "    <script type=\"text/javascript\" >\n",
       "       (function(m,e,t,r,i,k,a){m[i]=m[i]||function(){(m[i].a=m[i].a||[]).push(arguments)};\n",
       "       m[i].l=1*new Date();k=e.createElement(t),a=e.getElementsByTagName(t)[0],k.async=1,k.src=r,a.parentNode.insertBefore(k,a)})\n",
       "       (window, document, \"script\", \"https://mc.yandex.ru/metrika/tag.js\", \"ym\");\n",
       "\n",
       "       ym(59260609, \"init\", {\n",
       "            clickmap:true,\n",
       "            trackLinks:true,\n",
       "            accurateTrackBounce:true\n",
       "       });\n",
       "    </script>\n",
       "    <noscript><div><img src=\"https://mc.yandex.ru/watch/59260609\" style=\"position:absolute; left:-9999px;\" alt=\"\" /></div></noscript>\n",
       "    <!-- YANDEX_METRICA_END -->"
      ],
      "text/plain": [
       "<IPython.core.display.HTML object>"
      ]
     },
     "metadata": {},
     "output_type": "display_data"
    },
    {
     "data": {
      "text/html": [
       "В этот ноутбук встроен код Яндекс Метрики для сбора статистики использований. Если вы не хотите, чтобы по вам собиралась статистика, исправьте: yandex_metrica_allowed = False<!-- MAGICS_SETUP_PRINTING_END -->"
      ],
      "text/plain": [
       "<IPython.core.display.HTML object>"
      ]
     },
     "metadata": {},
     "output_type": "display_data"
    }
   ],
   "source": [
    "# look at tools/set_up_magics.ipynb\n",
    "yandex_metrica_allowed = True ; get_ipython().run_cell('# one_liner_str\\n\\nget_ipython().run_cell_magic(\\'javascript\\', \\'\\', \\'// setup cpp code highlighting\\\\nIPython.CodeCell.options_default.highlight_modes[\"text/x-c++src\"] = {\\\\\\'reg\\\\\\':[/^%%cpp/]} ;\\')\\n\\n# creating magics\\nfrom IPython.core.magic import register_cell_magic, register_line_magic\\nfrom IPython.display import display, Markdown, HTML\\nimport argparse\\nfrom subprocess import Popen, PIPE\\nimport random\\nimport sys\\nimport os\\nimport re\\nimport signal\\nimport shutil\\nimport shlex\\nimport glob\\n\\n@register_cell_magic\\ndef save_file(args_str, cell, line_comment_start=\"#\"):\\n    parser = argparse.ArgumentParser()\\n    parser.add_argument(\"fname\")\\n    parser.add_argument(\"--ejudge-style\", action=\"store_true\")\\n    args = parser.parse_args(args_str.split())\\n    \\n    cell = cell if cell[-1] == \\'\\\\n\\' or args.no_eof_newline else cell + \"\\\\n\"\\n    cmds = []\\n    with open(args.fname, \"w\") as f:\\n        f.write(line_comment_start + \" %%cpp \" + args_str + \"\\\\n\")\\n        for line in cell.split(\"\\\\n\"):\\n            line_to_write = (line if not args.ejudge_style else line.rstrip()) + \"\\\\n\"\\n            if line.startswith(\"%\"):\\n                run_prefix = \"%run \"\\n                if line.startswith(run_prefix):\\n                    cmds.append(line[len(run_prefix):].strip())\\n                    f.write(line_comment_start + \" \" + line_to_write)\\n                    continue\\n                run_prefix = \"%# \"\\n                if line.startswith(run_prefix):\\n                    f.write(line_comment_start + \" \" + line_to_write)\\n                    continue\\n                raise Exception(\"Unknown %%save_file subcommand: \\'%s\\'\" % line)\\n            else:\\n                f.write(line_to_write)\\n        f.write(\"\" if not args.ejudge_style else line_comment_start + r\" line without \\\\n\")\\n    for cmd in cmds:\\n        display(Markdown(\"Run: `%s`\" % cmd))\\n        get_ipython().system(cmd)\\n\\n@register_cell_magic\\ndef cpp(fname, cell):\\n    save_file(fname, cell, \"//\")\\n\\n@register_cell_magic\\ndef asm(fname, cell):\\n    save_file(fname, cell, \"//\")\\n    \\n@register_cell_magic\\ndef makefile(fname, cell):\\n    assert not fname\\n    save_file(\"makefile\", cell.replace(\" \" * 4, \"\\\\t\"))\\n        \\n@register_line_magic\\ndef p(line):\\n    try:\\n        expr, comment = line.split(\" #\")\\n        display(Markdown(\"`{} = {}`  # {}\".format(expr.strip(), eval(expr), comment.strip())))\\n    except:\\n        display(Markdown(\"{} = {}\".format(line, eval(line))))\\n        \\ndef show_file(file, clear_at_begin=True, return_html_string=False):\\n    if clear_at_begin:\\n        get_ipython().system(\"truncate --size 0 \" + file)\\n    obj = file.replace(\\'.\\', \\'_\\').replace(\\'/\\', \\'_\\') + \"_obj\"\\n    html_string = \\'\\'\\'\\n        <!--MD_BEGIN_FILTER-->\\n        <script type=text/javascript>\\n        var entrance___OBJ__ = 0;\\n        var errors___OBJ__ = 0;\\n        function refresh__OBJ__()\\n        {\\n            entrance___OBJ__ -= 1;\\n            var elem = document.getElementById(\"__OBJ__\");\\n            if (elem) {\\n                var xmlhttp=new XMLHttpRequest();\\n                xmlhttp.onreadystatechange=function()\\n                {\\n                    var elem = document.getElementById(\"__OBJ__\");\\n                    console.log(!!elem, xmlhttp.readyState, xmlhttp.status, entrance___OBJ__);\\n                    if (elem && xmlhttp.readyState==4) {\\n                        if (xmlhttp.status==200)\\n                        {\\n                            errors___OBJ__ = 0;\\n                            if (!entrance___OBJ__) {\\n                                elem.innerText = xmlhttp.responseText;\\n                                entrance___OBJ__ += 1;\\n                                console.log(\"req\");\\n                                window.setTimeout(\"refresh__OBJ__()\", 300); \\n                            }\\n                            return xmlhttp.responseText;\\n                        } else {\\n                            errors___OBJ__ += 1;\\n                            if (errors___OBJ__ < 10 && !entrance___OBJ__) {\\n                                entrance___OBJ__ += 1;\\n                                console.log(\"req\");\\n                                window.setTimeout(\"refresh__OBJ__()\", 300); \\n                            }\\n                        }\\n                    }\\n                }\\n                xmlhttp.open(\"GET\", \"__FILE__\", true);\\n                xmlhttp.setRequestHeader(\"Cache-Control\", \"no-cache\");\\n                xmlhttp.send();     \\n            }\\n        }\\n        \\n        if (!entrance___OBJ__) {\\n            entrance___OBJ__ += 1;\\n            refresh__OBJ__(); \\n        }\\n        </script>\\n        \\n        <font color=\"white\"> <tt>\\n        <p id=\"__OBJ__\" style=\"font-size: 16px; border:3px #333333 solid; background: #333333; border-radius: 10px; padding: 10px;  \"></p>\\n        </tt> </font>\\n        <!--MD_END_FILTER-->\\n        <!--MD_FROM_FILE __FILE__ -->\\n        \\'\\'\\'.replace(\"__OBJ__\", obj).replace(\"__FILE__\", file)\\n    if return_html_string:\\n        return html_string\\n    display(HTML(html_string))\\n    \\nBASH_POPEN_TMP_DIR = \"./bash_popen_tmp\"\\n    \\ndef bash_popen_terminate_all():\\n    for p in globals().get(\"bash_popen_list\", []):\\n        print(\"Terminate pid=\" + str(p.pid), file=sys.stderr)\\n        p.terminate()\\n    globals()[\"bash_popen_list\"] = []\\n    if os.path.exists(BASH_POPEN_TMP_DIR):\\n        shutil.rmtree(BASH_POPEN_TMP_DIR)\\n\\nbash_popen_terminate_all()  \\n\\ndef bash_popen(cmd):\\n    if not os.path.exists(BASH_POPEN_TMP_DIR):\\n        os.mkdir(BASH_POPEN_TMP_DIR)\\n    h = os.path.join(BASH_POPEN_TMP_DIR, str(random.randint(0, 1e18)))\\n    stdout_file = h + \".out.html\"\\n    stderr_file = h + \".err.html\"\\n    run_log_file = h + \".fin.html\"\\n    \\n    stdout = open(stdout_file, \"wb\")\\n    stdout = open(stderr_file, \"wb\")\\n    \\n    html = \"\"\"\\n    <table width=\"100%\">\\n    <colgroup>\\n       <col span=\"1\" style=\"width: 70px;\">\\n       <col span=\"1\">\\n    </colgroup>    \\n    <tbody>\\n      <tr> <td><b>STDOUT</b></td> <td> {stdout} </td> </tr>\\n      <tr> <td><b>STDERR</b></td> <td> {stderr} </td> </tr>\\n      <tr> <td><b>RUN LOG</b></td> <td> {run_log} </td> </tr>\\n    </tbody>\\n    </table>\\n    \"\"\".format(\\n        stdout=show_file(stdout_file, return_html_string=True),\\n        stderr=show_file(stderr_file, return_html_string=True),\\n        run_log=show_file(run_log_file, return_html_string=True),\\n    )\\n    \\n    cmd = \"\"\"\\n        bash -c {cmd} &\\n        pid=$!\\n        echo \"Process started! pid=${{pid}}\" > {run_log_file}\\n        wait ${{pid}}\\n        echo \"Process finished! exit_code=$?\" >> {run_log_file}\\n    \"\"\".format(cmd=shlex.quote(cmd), run_log_file=run_log_file)\\n    # print(cmd)\\n    display(HTML(html))\\n    \\n    p = Popen([\"bash\", \"-c\", cmd], stdin=PIPE, stdout=stdout, stderr=stdout)\\n    \\n    bash_popen_list.append(p)\\n    return p\\n\\n\\n@register_line_magic\\ndef bash_async(line):\\n    bash_popen(line)\\n    \\n    \\ndef show_log_file(file, return_html_string=False):\\n    obj = file.replace(\\'.\\', \\'_\\').replace(\\'/\\', \\'_\\') + \"_obj\"\\n    html_string = \\'\\'\\'\\n        <!--MD_BEGIN_FILTER-->\\n        <script type=text/javascript>\\n        var entrance___OBJ__ = 0;\\n        var errors___OBJ__ = 0;\\n        function halt__OBJ__(elem, color)\\n        {\\n            elem.setAttribute(\"style\", \"font-size: 14px; background: \" + color + \"; padding: 10px; border: 3px; border-radius: 5px; color: white; \");                    \\n        }\\n        function refresh__OBJ__()\\n        {\\n            entrance___OBJ__ -= 1;\\n            if (entrance___OBJ__ < 0) {\\n                entrance___OBJ__ = 0;\\n            }\\n            var elem = document.getElementById(\"__OBJ__\");\\n            if (elem) {\\n                var xmlhttp=new XMLHttpRequest();\\n                xmlhttp.onreadystatechange=function()\\n                {\\n                    var elem = document.getElementById(\"__OBJ__\");\\n                    console.log(!!elem, xmlhttp.readyState, xmlhttp.status, entrance___OBJ__);\\n                    if (elem && xmlhttp.readyState==4) {\\n                        if (xmlhttp.status==200)\\n                        {\\n                            errors___OBJ__ = 0;\\n                            if (!entrance___OBJ__) {\\n                                if (elem.innerHTML != xmlhttp.responseText) {\\n                                    elem.innerHTML = xmlhttp.responseText;\\n                                }\\n                                if (elem.innerHTML.includes(\"Process finished.\")) {\\n                                    halt__OBJ__(elem, \"#333333\");\\n                                } else {\\n                                    entrance___OBJ__ += 1;\\n                                    console.log(\"req\");\\n                                    window.setTimeout(\"refresh__OBJ__()\", 300); \\n                                }\\n                            }\\n                            return xmlhttp.responseText;\\n                        } else {\\n                            errors___OBJ__ += 1;\\n                            if (!entrance___OBJ__) {\\n                                if (errors___OBJ__ < 6) {\\n                                    entrance___OBJ__ += 1;\\n                                    console.log(\"req\");\\n                                    window.setTimeout(\"refresh__OBJ__()\", 300); \\n                                } else {\\n                                    halt__OBJ__(elem, \"#994444\");\\n                                }\\n                            }\\n                        }\\n                    }\\n                }\\n                xmlhttp.open(\"GET\", \"__FILE__\", true);\\n                xmlhttp.setRequestHeader(\"Cache-Control\", \"no-cache\");\\n                xmlhttp.send();     \\n            }\\n        }\\n        \\n        if (!entrance___OBJ__) {\\n            entrance___OBJ__ += 1;\\n            refresh__OBJ__(); \\n        }\\n        </script>\\n\\n        <p id=\"__OBJ__\" style=\"font-size: 14px; background: #000000; padding: 10px; border: 3px; border-radius: 5px; color: white; \">\\n        </p>\\n        \\n        </font>\\n        <!--MD_END_FILTER-->\\n        <!--MD_FROM_FILE __FILE__.md -->\\n        \\'\\'\\'.replace(\"__OBJ__\", obj).replace(\"__FILE__\", file)\\n    if return_html_string:\\n        return html_string\\n    display(HTML(html_string))\\n\\n    \\nclass TInteractiveLauncher:\\n    tmp_path = \"./interactive_launcher_tmp\"\\n    def __init__(self, cmd):\\n        try:\\n            os.mkdir(TInteractiveLauncher.tmp_path)\\n        except:\\n            pass\\n        name = str(random.randint(0, 1e18))\\n        self.inq_path = os.path.join(TInteractiveLauncher.tmp_path, name + \".inq\")\\n        self.log_path = os.path.join(TInteractiveLauncher.tmp_path, name + \".log\")\\n        \\n        os.mkfifo(self.inq_path)\\n        open(self.log_path, \\'w\\').close()\\n        open(self.log_path + \".md\", \\'w\\').close()\\n\\n        self.pid = os.fork()\\n        if self.pid == -1:\\n            print(\"Error\")\\n        if self.pid == 0:\\n            exe_cands = glob.glob(\"../tools/launcher.py\") + glob.glob(\"../../tools/launcher.py\")\\n            assert(len(exe_cands) == 1)\\n            assert(os.execvp(\"python3\", [\"python3\", exe_cands[0], \"-l\", self.log_path, \"-i\", self.inq_path, \"-c\", cmd]) == 0)\\n        self.inq_f = open(self.inq_path, \"w\")\\n        interactive_launcher_opened_set.add(self.pid)\\n        show_log_file(self.log_path)\\n\\n    def write(self, s):\\n        s = s.encode()\\n        assert len(s) == os.write(self.inq_f.fileno(), s)\\n        \\n    def get_pid(self):\\n        n = 100\\n        for i in range(n):\\n            try:\\n                return int(re.findall(r\"PID = (\\\\d+)\", open(self.log_path).readline())[0])\\n            except:\\n                if i + 1 == n:\\n                    raise\\n                time.sleep(0.1)\\n        \\n    def input_queue_path(self):\\n        return self.inq_path\\n        \\n    def close(self):\\n        self.inq_f.close()\\n        os.waitpid(self.pid, 0)\\n        os.remove(self.inq_path)\\n        # os.remove(self.log_path)\\n        self.inq_path = None\\n        self.log_path = None \\n        interactive_launcher_opened_set.remove(self.pid)\\n        self.pid = None\\n        \\n    @staticmethod\\n    def terminate_all():\\n        if \"interactive_launcher_opened_set\" not in globals():\\n            globals()[\"interactive_launcher_opened_set\"] = set()\\n        global interactive_launcher_opened_set\\n        for pid in interactive_launcher_opened_set:\\n            print(\"Terminate pid=\" + str(pid), file=sys.stderr)\\n            os.kill(pid, signal.SIGKILL)\\n            os.waitpid(pid, 0)\\n        interactive_launcher_opened_set = set()\\n        if os.path.exists(TInteractiveLauncher.tmp_path):\\n            shutil.rmtree(TInteractiveLauncher.tmp_path)\\n    \\nTInteractiveLauncher.terminate_all()\\n   \\nyandex_metrica_allowed = bool(globals().get(\"yandex_metrica_allowed\", False))\\nif yandex_metrica_allowed:\\n    display(HTML(\\'\\'\\'<!-- YANDEX_METRICA_BEGIN -->\\n    <script type=\"text/javascript\" >\\n       (function(m,e,t,r,i,k,a){m[i]=m[i]||function(){(m[i].a=m[i].a||[]).push(arguments)};\\n       m[i].l=1*new Date();k=e.createElement(t),a=e.getElementsByTagName(t)[0],k.async=1,k.src=r,a.parentNode.insertBefore(k,a)})\\n       (window, document, \"script\", \"https://mc.yandex.ru/metrika/tag.js\", \"ym\");\\n\\n       ym(59260609, \"init\", {\\n            clickmap:true,\\n            trackLinks:true,\\n            accurateTrackBounce:true\\n       });\\n    </script>\\n    <noscript><div><img src=\"https://mc.yandex.ru/watch/59260609\" style=\"position:absolute; left:-9999px;\" alt=\"\" /></div></noscript>\\n    <!-- YANDEX_METRICA_END -->\\'\\'\\'))\\n\\ndef make_oneliner():\\n    html_text = \\'(\"В этот ноутбук встроен код Яндекс Метрики для сбора статистики использований. Если вы не хотите, чтобы по вам собиралась статистика, исправьте: yandex_metrica_allowed = False\" if yandex_metrica_allowed else \"\")\\'\\n    html_text += \\' + \"<\"\"!-- MAGICS_SETUP_PRINTING_END -->\"\\'\\n    return \\'\\'.join([\\n        \\'# look at tools/set_up_magics.ipynb\\\\n\\',\\n        \\'yandex_metrica_allowed = True ; get_ipython().run_cell(%s);\\' % repr(one_liner_str),\\n        \\'display(HTML(%s))\\' % html_text,\\n        \\' #\\'\\'MAGICS_SETUP_END\\'\\n    ])\\n       \\n\\n');display(HTML((\"В этот ноутбук встроен код Яндекс Метрики для сбора статистики использований. Если вы не хотите, чтобы по вам собиралась статистика, исправьте: yandex_metrica_allowed = False\" if yandex_metrica_allowed else \"\") + \"<\"\"!-- MAGICS_SETUP_PRINTING_END -->\")) #MAGICS_SETUP_END"
   ]
  },
  {
   "cell_type": "markdown",
   "metadata": {},
   "source": [
    "# Протоколы в интернете\n",
    "\n",
    "\n",
    "<br>\n",
    "<div style=\"text-align: right\"> Спасибо ??? за участие в написании текста </div>\n",
    "<br>\n",
    "\n",
    "### [Видео с семинара ???]()\n",
    "\n",
    "\n",
    "**Немного теории о часто упоминающихся протоколах**:\n",
    "* [MAC](https://ru.wikipedia.org/wiki/Управление_доступом_к_среде) (media access control) - протокол канального уровня модели OSI, отвечающий за взаимодействие устройств общающихся через одну среду. На этом же уровне существуют mac-адреса - это уникальные идентификаторы устройств.\n",
    "* [ARP](https://ru.wikipedia.org/wiki/ARP) - протокол сетевого уровня модели OSI. Протокол предназначен для перевода ip-адресов в mac-адреса.\n",
    "* [ICMP](https://ru.wikipedia.org/wiki/ICMP), [ICMPv6](https://ru.wikipedia.org/wiki/ICMPv6) (Internet Control Message Protocol) - протокол передачи сообщений об ошибках и других исключительных ситуациях. Реализует высокоуровневую часть сетевого уровня модели OSI.\n",
    "* [IPv4](https://ru.wikipedia.org/wiki/IPv4), [IPv6](https://ru.wikipedia.org/wiki/IPv6) - протоколы сетевого уровня модели OSI. Позволяют отправить пакет данных на другой конец земного шара, зная только ip-адрес получателя.\n",
    "* [TCP](https://ru.wikipedia.org/wiki/Transmission_Control_Protocol), [UDP](https://ru.wikipedia.org/wiki/UDP) - потоковая и датаграммная передача данных. Работают поверх IP\n",
    "* [DNS](https://ru.wikipedia.org/wiki/DNS) (Domain Name System) - распределенная система получения информации о доменах. В простейшем случае это получение ip-адреса по доменному имени. Работает поверх UDP (маленькие запросы-ответы) и TCP (большие ответы).\n",
    "* [DHCP](https://ru.wikipedia.org/wiki/DHCP) (Dynamic Host Configuration Protocol) - протокол позволяющий хосту динамически получить себе  ip-адрес. Протокол клиент-серверный, поэтому в сети должен быть DHCP-сервер, который собственно будет выделять адрес. Работает поверх UDP: клиент посылает широковещательную датаграмму (указывая 0 в качестве своего ip-адреса, свой mac-адрес в качестве адреса устройства), в сервер в ответ отправляет предложение ip-адреса клиенту (отправка может быть направленной на mac-адрес, может быть широковещательной). Дальше следует еще подтверждающее сообщение.\n",
    "* [HTTP](https://ru.wikipedia.org/wiki/HTTP) - (HyperText Transfer Protocol) - протокол прикладного уровня модели OSI. (Хотя тут все неоднозначно, так как он часто исползуется в качестве транспортного уровня, немного размазынне границы получаются.)\n",
    "* POP3/IMAP/SMTP - протоколы прикладного уровня модели OSI. Про работу с электронной почтой.\n",
    "* Telnet (teletype network) / SSH (Secure Shell) - протоколы прикладного уровня модели OSI. Реализуют терминальные интерфейсы. ssh еще шифрует трафик (+ имеет более широкий функционал, может использоваться в качестве транспортного уровня (например, если вы пользуетесь пробросом портов))\n",
    "* FTP (File Transfer Protocol) - протокол прикладного уровня модели OSI. Используется для передачи файлов.\n",
    "\n",
    "Когда речь заходит о передаче сообщения из точки A в точку B. То собственно пользовательское сообщение по пути сквозь пространство и уровни протоколов приобретает и теряет заголовки (headers) и окончания (trailers).\n",
    "\n",
    "При передаче более низкому уровню сообщение заворачивается в сообщение более низкого уровня. Например ip-сообщение нужно передать другому узлу через ethernet сеть. На уровне ethernet заголовки ip-пакета никакого смысла не имеют. Поэтому ip-сообщение вместе с заголовками интерпретируется как полезная нагрузка. И эта нагрузка передается в составе ethernet-кадра. А в ethernet-кадрe уже свой заголовок и окончание.\n",
    "\n",
    "\n",
    "![Протоколы](pic/protocols.png)\n",
    "\n",
    "**Сегодня в практической части программы**:\n",
    "* <a href=\"#ping\" style=\"color:#856024\">Raw socket'ы + icmp -> реализуем простенькую утилиту ping</a>\n",
    "\n",
    "\n",
    "???\n",
    "  * <a href=\"#???\" style=\"color:#856024\">???</a>\n",
    "  \n",
    "\n",
    "  \n",
    "<a href=\"#hw\" style=\"color:#856024\">Комментарии к ДЗ</a>\n",
    "\n",
    "[Ридинг Яковлева ???](https://github.com/victor-yacovlev/mipt-diht-caos/tree/master/practice/???)"
   ]
  },
  {
   "cell_type": "markdown",
   "metadata": {},
   "source": [
    "# <a name=\"ping\"></a> Ping  "
   ]
  },
  {
   "cell_type": "code",
   "execution_count": 155,
   "metadata": {},
   "outputs": [
    {
     "data": {
      "text/markdown": [
       "Run: `gcc -Wall -Werror -fsanitize=thread ping.c -lpthread -o ping.exe`"
      ],
      "text/plain": [
       "<IPython.core.display.Markdown object>"
      ]
     },
     "metadata": {},
     "output_type": "display_data"
    },
    {
     "data": {
      "text/markdown": [
       "Run: `echo $PASSWORD | sudo -S setcap cap_net_raw,cap_net_admin+eip ./ping.exe`"
      ],
      "text/plain": [
       "<IPython.core.display.Markdown object>"
      ]
     },
     "metadata": {},
     "output_type": "display_data"
    },
    {
     "name": "stdout",
     "output_type": "stream",
     "text": [
      "[sudo] password for pechatnov: "
     ]
    },
    {
     "data": {
      "text/markdown": [
       "Run: `./ping.exe localhost`"
      ],
      "text/plain": [
       "<IPython.core.display.Markdown object>"
      ]
     },
     "metadata": {},
     "output_type": "display_data"
    },
    {
     "name": "stdout",
     "output_type": "stream",
     "text": [
      "PING localhost (127.0.0.1): 56 data bytes\n",
      "56 bytes from 127.0.0.1: icmp_type=8 (Echo Request) icmp_code=0\n",
      "56 bytes from 127.0.0.1: icmp_type=0  icmp_seq=0 time=376630 ns\n",
      "56 bytes from 127.0.0.1: icmp_type=8 (Echo Request) icmp_code=0\n",
      "56 bytes from 127.0.0.1: icmp_type=0  icmp_seq=1 time=139792 ns\n",
      "56 bytes from 127.0.0.1: icmp_type=8 (Echo Request) icmp_code=0\n",
      "56 bytes from 127.0.0.1: icmp_type=0  icmp_seq=2 time=356033 ns\n",
      "56 bytes from 127.0.0.1: icmp_type=8 (Echo Request) icmp_code=0\n",
      "56 bytes from 127.0.0.1: icmp_type=0  icmp_seq=3 time=365133 ns\n",
      "56 bytes from 127.0.0.1: icmp_type=8 (Echo Request) icmp_code=0\n",
      "56 bytes from 127.0.0.1: icmp_type=0  icmp_seq=4 time=233780 ns\n",
      "56 bytes from 127.0.0.1: icmp_type=8 (Echo Request) icmp_code=0\n",
      "56 bytes from 127.0.0.1: icmp_type=0  icmp_seq=5 time=198266 ns\n",
      "56 bytes from 127.0.0.1: icmp_type=8 (Echo Request) icmp_code=0\n",
      "56 bytes from 127.0.0.1: icmp_type=0  icmp_seq=6 time=270847 ns\n",
      "56 bytes from 127.0.0.1: icmp_type=8 (Echo Request) icmp_code=0\n",
      "56 bytes from 127.0.0.1: icmp_type=0  icmp_seq=7 time=236937 ns\n",
      "56 bytes from 127.0.0.1: icmp_type=8 (Echo Request) icmp_code=0\n",
      "56 bytes from 127.0.0.1: icmp_type=0  icmp_seq=8 time=96229 ns\n",
      "56 bytes from 127.0.0.1: icmp_type=8 (Echo Request) icmp_code=0\n",
      "56 bytes from 127.0.0.1: icmp_type=0  icmp_seq=9 time=89005 ns\n",
      "56 bytes from 127.0.0.1: icmp_type=8 (Echo Request) icmp_code=0\n",
      "56 bytes from 127.0.0.1: icmp_type=0  icmp_seq=10 time=99018 ns\n",
      "56 bytes from 127.0.0.1: icmp_type=8 (Echo Request) icmp_code=0\n",
      "56 bytes from 127.0.0.1: icmp_type=0  icmp_seq=11 time=88776 ns\n",
      "^C\n"
     ]
    }
   ],
   "source": [
    "%%cpp ping.c\n",
    "%run gcc -Wall -Werror -fsanitize=thread ping.c -lpthread -o ping.exe\n",
    "%# Чтобы использовать SOCK_RAW нужны capabilities для исполняемого файла\n",
    "%run echo $PASSWORD | sudo -S setcap cap_net_raw,cap_net_admin+eip ./ping.exe\n",
    "%run ./ping.exe localhost\n",
    "\n",
    "#include <arpa/inet.h>\n",
    "#include <assert.h>\n",
    "#include <errno.h>\n",
    "#include <netdb.h>\n",
    "#include <netinet/in.h>\n",
    "#include <netinet/ip.h>\n",
    "#include <netinet/ip_icmp.h>\n",
    "#include <pthread.h>\n",
    "#include <stdio.h>\n",
    "#include <string.h>\n",
    "#include <sys/socket.h>\n",
    "#include <sys/time.h>\n",
    "#include <sys/types.h>\n",
    "#include <time.h>\n",
    "#include <unistd.h>\n",
    "\n",
    "#define MAXPACKET   4096    \n",
    "const int datalen = 64 - 8;     \n",
    "int ident;\n",
    "\n",
    "uint64_t timespec_to_ns(struct timespec *ts) {\n",
    "    return ts->tv_sec * 1000000000L + ts->tv_nsec;\n",
    "} \n",
    "\n",
    "uint64_t time_ns() {\n",
    "    struct timespec ts;\n",
    "    clock_gettime(CLOCK_MONOTONIC, &ts);\n",
    "    return timespec_to_ns(&ts);\n",
    "}\n",
    "\n",
    "char* pretty_icmp_type(int t) {\n",
    "    static char *ttab[] = {\n",
    "        \"Echo Reply\", \"ICMP 1\", \"ICMP 2\", \"Dest Unreachable\", \"Source Quench\", \"Redirect\", \"ICMP 6\", \n",
    "        \"ICMP 7\", \"Echo Request\", \"ICMP 9\", \"ICMP 10\", \"Time Exceeded\", \"Parameter Problem\",\n",
    "        \"Timestamp\", \"Timestamp Reply\", \"Info Request\", \"Info Reply\"\n",
    "    };\n",
    "    assert(0 <= t && t <= 16);\n",
    "    return ttab[t];\n",
    "}\n",
    "\n",
    "int check_sum(u_short * addr, int len) {\n",
    "    u_short *w = addr;\n",
    "    int sum = 0;\n",
    "    while (len > 1) {\n",
    "        sum += *w++;\n",
    "        len -= 2;\n",
    "    }\n",
    "    sum += (len == 1) ? *(u_char *)w : 0;    \n",
    "    sum = (sum >> 16) + (sum & 0xffff); \n",
    "    return ~((sum >> 16) + sum);\n",
    "}\n",
    "\n",
    "void send_ping(int socket_fd, struct sockaddr* whereto, int icmp_seq_no) {\n",
    "    static u_char outpack[MAXPACKET];\n",
    "    struct icmp *icp = (struct icmp *) outpack;\n",
    "    icp->icmp_type = ICMP_ECHO;\n",
    "    icp->icmp_code = 0;\n",
    "    icp->icmp_cksum = 0;\n",
    "    icp->icmp_seq = icmp_seq_no;\n",
    "    icp->icmp_id = ident;     \n",
    "    u_char* data = icp->icmp_data; \n",
    "    *(uint64_t*)data = time_ns(); data += sizeof(uint64_t);\n",
    "    \n",
    "    for(int i = 0; i < datalen; i++)\n",
    "        *data++ = i;\n",
    "    \n",
    "    int cc = datalen;  \n",
    "    icp->icmp_cksum = check_sum((u_short*)(void*)icp, cc);\n",
    "    int res = sendto(socket_fd, outpack, cc, 0, whereto, sizeof(struct sockaddr));\n",
    "    if(res != cc )  {\n",
    "        if(res < 0)  perror(\"sendto\");\n",
    "        printf(\"ping: wrote %d chars, ret=%d\\n\", cc, res);\n",
    "        fflush(stdout);\n",
    "    }\n",
    "\n",
    "}\n",
    "\n",
    "typedef struct {\n",
    "    int socket_fd;\n",
    "    struct sockaddr* whereto;\n",
    "} send_ping_forever_args_t;\n",
    "\n",
    "void send_ping_forever(send_ping_forever_args_t* arg) \n",
    "{\n",
    "    int icmp_seq_no = 0;\n",
    "    while (1) {\n",
    "        send_ping(arg->socket_fd, arg->whereto, icmp_seq_no++);\n",
    "        sleep(1);\n",
    "    }\n",
    "}\n",
    "\n",
    "\n",
    "void parse_and_print(u_char* buf, int cc, struct sockaddr_in * from) {\n",
    "    struct ip *ip = (struct ip *) buf;\n",
    "    int hlen = ip->ip_hl << 2;\n",
    "    cc -= hlen;\n",
    "    assert(cc >= ICMP_MINLEN);\n",
    "    struct icmp *icp = (struct icmp *)(buf + hlen);\n",
    "    \n",
    "    if (icp->icmp_id != ident)\n",
    "        return;\n",
    "    if (icp->icmp_type == ICMP_ECHOREPLY) {\n",
    "        printf(\"%d bytes from %s: icmp_type=%d  icmp_seq=%d time=%d ns\\n\", cc,\n",
    "            inet_ntoa(from->sin_addr), ICMP_ECHOREPLY,\n",
    "            icp->icmp_seq, (int)(time_ns() - (*(uint64_t *)icp->icmp_data)));\n",
    "    } else { \n",
    "        // обратите внимание, что собственные отправленные запросы мы тоже получаем на вход\n",
    "        printf(\"%d bytes from %s: icmp_type=%d (%s) icmp_code=%d\\n\",\n",
    "            cc, inet_ntoa(from->sin_addr),\n",
    "            icp->icmp_type, pretty_icmp_type(icp->icmp_type), icp->icmp_code);\n",
    "    }\n",
    "}\n",
    "\n",
    "\n",
    "int main(int argc, char **argv) {\n",
    "    assert(argc == 2);\n",
    "    \n",
    "    ident = getpid() & 0xFFFF;\n",
    "    \n",
    "    struct hostent *hp = gethostbyname(argv[1]);\n",
    "    assert(hp);\n",
    "    \n",
    "    struct sockaddr_in whereto = {.sin_family = hp->h_addrtype};\n",
    "    memcpy(&whereto.sin_addr, hp->h_addr, hp->h_length);\n",
    "    char* hostname = hp->h_name;\n",
    "\n",
    "    struct protoent *proto = getprotobyname(\"icmp\");\n",
    "    assert(proto);\n",
    "    \n",
    "    int socket_fd = socket(AF_INET, SOCK_RAW, proto->p_proto);\n",
    "    assert(socket_fd >= 0);\n",
    "    \n",
    "    if (whereto.sin_family == AF_INET) {\n",
    "        printf(\"PING %s (%s): %d data bytes\\n\", hostname,\n",
    "          inet_ntoa(whereto.sin_addr), datalen);    /* DFM */\n",
    "    } else {\n",
    "        printf(\"PING %s: %d data bytes\\n\", hostname, datalen );\n",
    "    }\n",
    "    \n",
    "    pthread_t thread;\n",
    "    send_ping_forever_args_t args = {.socket_fd = socket_fd, .whereto = (struct sockaddr *)&whereto};\n",
    "    assert(pthread_create(&thread, NULL, (void* (*)(void*))send_ping_forever, (void*)&args) == 0);\n",
    "      \n",
    "    while (1) { \n",
    "        u_char packet[MAXPACKET];\n",
    "        int len = sizeof (packet);\n",
    "        struct sockaddr_in from;\n",
    "        socklen_t fromlen = sizeof(from);\n",
    "        int cc;\n",
    "        if ((cc = recvfrom(socket_fd, packet, len, 0, (struct sockaddr*)&from, &fromlen)) < 0) {\n",
    "            if (errno == EINTR)\n",
    "                continue;\n",
    "            perror(\"ping: recvfrom\");\n",
    "            continue;\n",
    "        }\n",
    "        parse_and_print(packet, cc, &from);\n",
    "       \n",
    "    }\n",
    "    /*NOTREACHED*/\n",
    "}"
   ]
  },
  {
   "cell_type": "code",
   "execution_count": null,
   "metadata": {},
   "outputs": [],
   "source": []
  },
  {
   "cell_type": "markdown",
   "metadata": {},
   "source": [
    "# <a name=\"hw\"></a> Комментарии к ДЗ\n",
    "\n",
    "* "
   ]
  },
  {
   "cell_type": "code",
   "execution_count": null,
   "metadata": {},
   "outputs": [],
   "source": []
  },
  {
   "cell_type": "code",
   "execution_count": null,
   "metadata": {},
   "outputs": [],
   "source": []
  }
 ],
 "metadata": {
  "kernelspec": {
   "display_name": "Python 3",
   "language": "python",
   "name": "python3"
  },
  "language_info": {
   "codemirror_mode": {
    "name": "ipython",
    "version": 3
   },
   "file_extension": ".py",
   "mimetype": "text/x-python",
   "name": "python",
   "nbconvert_exporter": "python",
   "pygments_lexer": "ipython3",
   "version": "3.5.2"
  }
 },
 "nbformat": 4,
 "nbformat_minor": 2
}
