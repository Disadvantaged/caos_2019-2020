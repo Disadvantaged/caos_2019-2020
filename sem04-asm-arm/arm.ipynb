{
 "cells": [
  {
   "cell_type": "code",
   "execution_count": 1,
   "metadata": {},
   "outputs": [
    {
     "data": {
      "application/javascript": [
       "// setup cpp code highlighting\n",
       "IPython.CodeCell.options_default.highlight_modes[\"text/x-c++src\"] = {'reg':[/^%%cpp/]} ;"
      ],
      "text/plain": [
       "<IPython.core.display.Javascript object>"
      ]
     },
     "metadata": {},
     "output_type": "display_data"
    }
   ],
   "source": [
    "get_ipython().run_cell_magic('javascript', '', '// setup cpp code highlighting\\nIPython.CodeCell.options_default.highlight_modes[\"text/x-c++src\"] = {\\'reg\\':[/^%%cpp/]} ;')\n",
    "\n",
    "# creating magics\n",
    "from IPython.core.magic import register_cell_magic, register_line_magic\n",
    "from IPython.display import display, Markdown\n",
    "\n",
    "@register_cell_magic\n",
    "def save_file(fname, cell):\n",
    "    cell = cell if cell[-1] == '\\n' else cell + \"\\n\"\n",
    "    cmds = []\n",
    "    with open(fname, \"w\") as f:\n",
    "        for line in cell.split(\"\\n\"):\n",
    "            if line.startswith(\"%\"):\n",
    "                run_prefix = \"%run \"\n",
    "                assert line.startswith(run_prefix)\n",
    "                cmds.append(line[len(run_prefix):].strip())\n",
    "            else:\n",
    "                f.write(line + \"\\n\")\n",
    "    for cmd in cmds:\n",
    "        display(Markdown(\"Run: `%s`\" % cmd))\n",
    "        get_ipython().system(cmd)\n",
    "\n",
    "@register_cell_magic\n",
    "def cpp(fname, cell):\n",
    "    save_file(fname, cell)\n",
    "\n",
    "@register_cell_magic\n",
    "def asm(fname, cell):\n",
    "    save_file(fname, cell)\n",
    "    \n",
    "@register_cell_magic\n",
    "def makefile(fname, cell):\n",
    "    assert not fname\n",
    "    save_file(\"makefile\", cell.replace(\" \" * 4, \"\\t\"))\n",
    "        \n",
    "@register_line_magic\n",
    "def p(line):\n",
    "    print(\"{} = {}\".format(line, eval(line)))"
   ]
  },
  {
   "cell_type": "code",
   "execution_count": 1,
   "metadata": {},
   "outputs": [],
   "source": [
    "# Add path to compilers to PATH\n",
    "import os\n",
    "os.environ[\"PATH\"] = os.environ[\"PATH\"] + \":\" + \\\n",
    "    \"/home/pechatnov/Downloads/gcc-linaro-7.3.1-2018.05-i686_arm-linux-gnueabi/bin/\"\n"
   ]
  },
  {
   "cell_type": "markdown",
   "metadata": {},
   "source": [
    "#### Makefile в котором будет компиляция и запуски всех примеров"
   ]
  },
  {
   "cell_type": "code",
   "execution_count": 2,
   "metadata": {},
   "outputs": [
    {
     "name": "stderr",
     "output_type": "stream",
     "text": [
      "UsageError: Cell magic `%%makefile` not found.\n"
     ]
    }
   ],
   "source": [
    "%%makefile \n",
    "\n",
    "GCC=arm-linux-gnueabi-gcc -marm\n",
    "RUN=qemu-arm -L ~/Downloads/sysroot-glibc-linaro-2.25-2018.05-arm-linux-gnueabi\n",
    "\n",
    "hello:\n",
    "    ${GCC} hello.c -o hello.exe\n",
    "    ${GCC} hello.c -S -o hello.S\n",
    "\n",
    "hello_run: hello\n",
    "    ${RUN} ./hello.exe   \n",
    "    \n",
    "lib_sum:\n",
    "    ${GCC} lib_sum.c -c\n",
    "    ${GCC} lib_sum.c -S -o lib_sum.S\n",
    "    ${GCC} lib_sum.c -O0 -S -o lib_sum_o0.S\n",
    "    ${GCC} lib_sum.c -O3 -S -o lib_sum_o3.S\n",
    "    \n",
    "my_lib:\n",
    "    ${GCC} -g my_lib_sum.S -c\n",
    "    \n",
    "my_lib_example: my_lib\n",
    "    ${GCC} -std=c99 -g my_lib_sum.o my_lib_example.c -o my_lib_example.exe\n",
    "    \n",
    "my_lib_example_run: my_lib_example\n",
    "    ${RUN} ./my_lib_example.exe \n",
    "    \n",
    "my_lib_example_run_gdb: my_lib_example\n",
    "    ${RUN} -g 1234 ./my_lib_example.exe \n",
    "    # Подключаться с помощью gdb можно так:\n",
    "    # gdb-multiarch -q --nh   -ex 'set architecture arm'   -ex 'set sysroot ~/Downloads/sysroot-glibc-linaro-2.25-2018.05-arm-linux-gnueabi'   -ex 'file ./my_lib_example.exe'   -ex 'target remote localhost:1234'   -ex 'break main'   -ex continue   -ex 'layout split'\n",
    "    \n",
    "asm_inline_example:\n",
    "    ${GCC} asm_inline_example.c -o asm_inline_example.exe\n",
    "    \n",
    "asm_inline_example_run: asm_inline_example\n",
    "    ${RUN} ./asm_inline_example.exe\n",
    "    "
   ]
  },
  {
   "cell_type": "code",
   "execution_count": 3,
   "metadata": {
    "scrolled": true
   },
   "outputs": [
    {
     "name": "stderr",
     "output_type": "stream",
     "text": [
      "UsageError: Cell magic `%%cpp` not found.\n"
     ]
    }
   ],
   "source": [
    "%%cpp hello.c\n",
    "%run make hello_run\n",
    "\n",
    "// Скомпилируем под arm и запустим hello_world \n",
    "\n",
    "#include <stdio.h>\n",
    "\n",
    "int main() {\n",
    "    printf(\"hello world!\\n\");\n",
    "    return 0;\n",
    "}\n"
   ]
  },
  {
   "cell_type": "code",
   "execution_count": 4,
   "metadata": {},
   "outputs": [
    {
     "name": "stdout",
     "output_type": "stream",
     "text": [
      "\t.arch armv7-a\r\n",
      "\t.eabi_attribute 20, 1\r\n",
      "\t.eabi_attribute 21, 1\r\n",
      "\t.eabi_attribute 23, 3\r\n",
      "\t.eabi_attribute 24, 1\r\n",
      "\t.eabi_attribute 25, 1\r\n",
      "\t.eabi_attribute 26, 2\r\n",
      "\t.eabi_attribute 30, 6\r\n",
      "\t.eabi_attribute 34, 1\r\n",
      "\t.eabi_attribute 18, 4\r\n",
      "\t.file\t\"hello.c\"\r\n",
      "\t.text\r\n",
      "\t.section\t.rodata\r\n",
      "\t.align\t2\r\n",
      ".LC0:\r\n",
      "\t.ascii\t\"hello world!\\000\"\r\n",
      "\t.text\r\n",
      "\t.align\t2\r\n",
      "\t.global\tmain\r\n",
      "\t.syntax unified\r\n",
      "\t.arm\r\n",
      "\t.fpu softvfp\r\n",
      "\t.type\tmain, %function\r\n",
      "main:\r\n",
      "\t@ args = 0, pretend = 0, frame = 0\r\n",
      "\t@ frame_needed = 1, uses_anonymous_args = 0\r\n",
      "\tpush\t{fp, lr}\r\n",
      "\tadd\tfp, sp, #4\r\n",
      "\tmovw\tr0, #:lower16:.LC0\r\n",
      "\tmovt\tr0, #:upper16:.LC0\r\n",
      "\tbl\tputs\r\n",
      "\tmov\tr3, #0\r\n",
      "\tmov\tr0, r3\r\n",
      "\tpop\t{fp, pc}\r\n",
      "\t.size\tmain, .-main\r\n",
      "\t.ident\t\"GCC: (Linaro GCC 7.3-2018.05) 7.3.1 20180425 [linaro-7.3-2018.05 revision d29120a424ecfbc167ef90065c0eeb7f91977701]\"\r\n",
      "\t.section\t.note.GNU-stack,\"\",%progbits\r\n"
     ]
    }
   ],
   "source": [
    "!cat hello.S"
   ]
  },
  {
   "cell_type": "markdown",
   "metadata": {},
   "source": [
    "#### Напишем и скомпилируем до состояния arm'ного ассемблера простую функцию"
   ]
  },
  {
   "cell_type": "code",
   "execution_count": 5,
   "metadata": {
    "scrolled": true
   },
   "outputs": [
    {
     "name": "stderr",
     "output_type": "stream",
     "text": [
      "UsageError: Cell magic `%%cpp` not found.\n"
     ]
    }
   ],
   "source": [
    "%%cpp lib_sum.c\n",
    "%run make lib_sum\n",
    "\n",
    "int sum(int a, int b) {\n",
    "    return a + b;\n",
    "}"
   ]
  },
  {
   "cell_type": "code",
   "execution_count": 6,
   "metadata": {
    "scrolled": true
   },
   "outputs": [
    {
     "name": "stdout",
     "output_type": "stream",
     "text": [
      "\t.arch armv7-a\r\n",
      "\t.eabi_attribute 20, 1\r\n",
      "\t.eabi_attribute 21, 1\r\n",
      "\t.eabi_attribute 23, 3\r\n",
      "\t.eabi_attribute 24, 1\r\n",
      "\t.eabi_attribute 25, 1\r\n",
      "\t.eabi_attribute 26, 2\r\n",
      "\t.eabi_attribute 30, 6\r\n",
      "\t.eabi_attribute 34, 1\r\n",
      "\t.eabi_attribute 18, 4\r\n",
      "\t.file\t\"lib_sum.c\"\r\n",
      "\t.text\r\n",
      "\t.align\t2\r\n",
      "\t.global\tsum\r\n",
      "\t.syntax unified\r\n",
      "\t.arm\r\n",
      "\t.fpu softvfp\r\n",
      "\t.type\tsum, %function\r\n",
      "sum:\r\n",
      "\t@ args = 0, pretend = 0, frame = 8\r\n",
      "\t@ frame_needed = 1, uses_anonymous_args = 0\r\n",
      "\t@ link register save eliminated.\r\n",
      "\tstr\tfp, [sp, #-4]!\r\n",
      "\tadd\tfp, sp, #0\r\n",
      "\tsub\tsp, sp, #12\r\n",
      "\tstr\tr0, [fp, #-8]\r\n",
      "\tstr\tr1, [fp, #-12]\r\n",
      "\tldr\tr2, [fp, #-8]\r\n",
      "\tldr\tr3, [fp, #-12]\r\n",
      "\tadd\tr3, r2, r3\r\n",
      "\tmov\tr0, r3\r\n",
      "\tadd\tsp, fp, #0\r\n",
      "\t@ sp needed\r\n",
      "\tldr\tfp, [sp], #4\r\n",
      "\tbx\tlr\r\n",
      "\t.size\tsum, .-sum\r\n",
      "\t.ident\t\"GCC: (Linaro GCC 7.3-2018.05) 7.3.1 20180425 [linaro-7.3-2018.05 revision d29120a424ecfbc167ef90065c0eeb7f91977701]\"\r\n",
      "\t.section\t.note.GNU-stack,\"\",%progbits\r\n"
     ]
    }
   ],
   "source": [
    "# Здесь можно посмотреть, что получается при O0 и O3\n",
    "!cat lib_sum_o0.S"
   ]
  },
  {
   "cell_type": "markdown",
   "metadata": {},
   "source": [
    "#### А теперь самостоятельно напишем ту же функцию. Как видим кода стало меньше :) И потом вызовем ее из кода на С"
   ]
  },
  {
   "cell_type": "code",
   "execution_count": 40,
   "metadata": {},
   "outputs": [],
   "source": [
    "%%asm my_lib_sum.S\n",
    ".text\n",
    ".global sum\n",
    "sum:\n",
    "    add r0, r0, r1\n",
    "    bx  lr"
   ]
  },
  {
   "cell_type": "code",
   "execution_count": 55,
   "metadata": {},
   "outputs": [
    {
     "data": {
      "text/markdown": [
       "Run: `make my_lib_example_run`"
      ],
      "text/plain": [
       "<IPython.core.display.Markdown object>"
      ]
     },
     "metadata": {},
     "output_type": "display_data"
    },
    {
     "name": "stdout",
     "output_type": "stream",
     "text": [
      "arm-linux-gnueabi-gcc -marm -g my_lib_sum.S -c\n",
      "arm-linux-gnueabi-gcc -marm -std=c99 -g my_lib_sum.o my_lib_example.c -o my_lib_example.exe\n",
      "qemu-arm -L ~/Downloads/sysroot-glibc-linaro-2.25-2018.05-arm-linux-gnueabi ./my_lib_example.exe \n",
      "40 + 2 = 42\n"
     ]
    }
   ],
   "source": [
    "%%cpp my_lib_example.c\n",
    "%run make my_lib_example_run\n",
    "\n",
    "#include <stdio.h>\n",
    "\n",
    "int sum(int, int);\n",
    "\n",
    "int main() {\n",
    "    printf(\"40 + 2 = %d\\n\", sum(40, 2));\n",
    "    return 0;\n",
    "}"
   ]
  },
  {
   "cell_type": "code",
   "execution_count": null,
   "metadata": {},
   "outputs": [],
   "source": []
  },
  {
   "cell_type": "code",
   "execution_count": 47,
   "metadata": {},
   "outputs": [
    {
     "data": {
      "text/markdown": [
       "Run: `make asm_inline_example_run`"
      ],
      "text/plain": [
       "<IPython.core.display.Markdown object>"
      ]
     },
     "metadata": {},
     "output_type": "display_data"
    },
    {
     "name": "stdout",
     "output_type": "stream",
     "text": [
      "arm-linux-gnueabi-gcc -marm asm_inline_example.c -o asm_inline_example.exe\n",
      "qemu-arm -L ~/Downloads/sysroot-glibc-linaro-2.25-2018.05-arm-linux-gnueabi ./asm_inline_example.exe\n",
      "40 + 2 = 42\n",
      "40 + 2 = 42\n"
     ]
    }
   ],
   "source": [
    "%%cpp asm_inline_example.c\n",
    "%run make asm_inline_example_run\n",
    "\n",
    "#include <stdio.h>\n",
    "\n",
    "int sum(int a, int b) {\n",
    "    return a + b;\n",
    "}\n",
    "\n",
    "\n",
    "int sum2(int, int);\n",
    "__asm__ (R\"(\n",
    ".global sum2\n",
    "sum2:\n",
    "    add r0, r0, r1\n",
    "    bx  lr\n",
    ")\");\n",
    "\n",
    "\n",
    "int main() {\n",
    "    printf(\"40 + 2 = %d\\n\", sum(40, 2));\n",
    "    printf(\"40 + 2 = %d\\n\", sum2(40, 2));\n",
    "    return 0;\n",
    "}"
   ]
  },
  {
   "cell_type": "code",
   "execution_count": null,
   "metadata": {},
   "outputs": [],
   "source": []
  },
  {
   "cell_type": "markdown",
   "metadata": {},
   "source": [
    "# Полезные фишки\n",
    "\n",
    "`cmp r0, #'9'` - так можно писать char-константы\n",
    "\n",
    "`push {r4, r5, r6, r7, r8, lr}` <-> `push {r4-r8, lr}`"
   ]
  },
  {
   "cell_type": "code",
   "execution_count": null,
   "metadata": {},
   "outputs": [],
   "source": []
  },
  {
   "cell_type": "code",
   "execution_count": null,
   "metadata": {},
   "outputs": [],
   "source": []
  },
  {
   "cell_type": "code",
   "execution_count": 49,
   "metadata": {},
   "outputs": [
    {
     "name": "stdout",
     "output_type": "stream",
     "text": [
      "[NbConvertApp] Converting notebook arm.ipynb to markdown\n",
      "[NbConvertApp] Writing 6924 bytes to README.md\n"
     ]
    }
   ],
   "source": [
    "!jupyter nbconvert arm.ipynb --to markdown --output README"
   ]
  },
  {
   "cell_type": "code",
   "execution_count": null,
   "metadata": {},
   "outputs": [],
   "source": []
  },
  {
   "cell_type": "code",
   "execution_count": null,
   "metadata": {},
   "outputs": [],
   "source": []
  }
 ],
 "metadata": {
  "kernelspec": {
   "display_name": "Python 3",
   "language": "python",
   "name": "python3"
  },
  "language_info": {
   "codemirror_mode": {
    "name": "ipython",
    "version": 3
   },
   "file_extension": ".py",
   "mimetype": "text/x-python",
   "name": "python",
   "nbconvert_exporter": "python",
   "pygments_lexer": "ipython3",
   "version": "3.5.2"
  }
 },
 "nbformat": 4,
 "nbformat_minor": 2
}
