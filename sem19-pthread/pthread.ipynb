{
 "cells": [
  {
   "cell_type": "code",
   "execution_count": 2,
   "metadata": {},
   "outputs": [
    {
     "data": {
      "application/javascript": [
       "// setup cpp code highlighting\n",
       "IPython.CodeCell.options_default.highlight_modes[\"text/x-c++src\"] = {'reg':[/^%%cpp/]} ;"
      ],
      "text/plain": [
       "<IPython.core.display.Javascript object>"
      ]
     },
     "metadata": {},
     "output_type": "display_data"
    }
   ],
   "source": [
    "# look at tools/set_up_magics.ipynb\n",
    "get_ipython().run_cell('# one_liner_str #SET_UP_MAGIC_BEGIN\\n\\nget_ipython().run_cell_magic(\\'javascript\\', \\'\\', \\'// setup cpp code highlighting\\\\nIPython.CodeCell.options_default.highlight_modes[\"text/x-c++src\"] = {\\\\\\'reg\\\\\\':[/^%%cpp/]} ;\\')\\n\\n# creating magics\\nfrom IPython.core.magic import register_cell_magic, register_line_magic\\nfrom IPython.display import display, Markdown, HTML\\nimport argparse\\nfrom subprocess import Popen, PIPE\\nimport random\\nimport sys\\nimport os\\nimport re\\nimport signal\\nimport shutil\\nimport shlex\\nimport glob\\n\\n@register_cell_magic\\ndef save_file(args_str, cell, line_comment_start=\"#\"):\\n    parser = argparse.ArgumentParser()\\n    parser.add_argument(\"fname\")\\n    parser.add_argument(\"--ejudge-style\", action=\"store_true\")\\n    args = parser.parse_args(args_str.split())\\n    \\n    cell = cell if cell[-1] == \\'\\\\n\\' or args.no_eof_newline else cell + \"\\\\n\"\\n    cmds = []\\n    with open(args.fname, \"w\") as f:\\n        f.write(line_comment_start + \" %%cpp \" + args_str + \"\\\\n\")\\n        for line in cell.split(\"\\\\n\"):\\n            line_to_write = (line if not args.ejudge_style else line.rstrip()) + \"\\\\n\"\\n            if line.startswith(\"%\"):\\n                run_prefix = \"%run \"\\n                assert line.startswith(run_prefix)\\n                cmds.append(line[len(run_prefix):].strip())\\n                f.write(line_comment_start + \" \" + line_to_write)\\n            else:\\n                f.write(line_to_write)\\n        f.write(\"\" if not args.ejudge_style else line_comment_start + r\" line without \\\\n\")\\n    for cmd in cmds:\\n        display(Markdown(\"Run: `%s`\" % cmd))\\n        get_ipython().system(cmd)\\n\\n@register_cell_magic\\ndef cpp(fname, cell):\\n    save_file(fname, cell, \"//\")\\n\\n@register_cell_magic\\ndef asm(fname, cell):\\n    save_file(fname, cell, \"//\")\\n    \\n@register_cell_magic\\ndef makefile(fname, cell):\\n    assert not fname\\n    save_file(\"makefile\", cell.replace(\" \" * 4, \"\\\\t\"))\\n        \\n@register_line_magic\\ndef p(line):\\n    try:\\n        expr, comment = line.split(\" #\")\\n        display(Markdown(\"`{} = {}`  # {}\".format(expr.strip(), eval(expr), comment.strip())))\\n    except:\\n        display(Markdown(\"{} = {}\".format(line, eval(line))))\\n        \\ndef show_file(file, clear_at_begin=True, return_html_string=False):\\n    if clear_at_begin:\\n        get_ipython().system(\"truncate --size 0 \" + file)\\n    obj = file.replace(\\'.\\', \\'_\\').replace(\\'/\\', \\'_\\') + \"_obj\"\\n    html_string = \\'\\'\\'\\n        <!--MD_BEGIN_FILTER-->\\n        <script type=text/javascript>\\n        var entrance___OBJ__ = 0;\\n        var errors___OBJ__ = 0;\\n        function refresh__OBJ__()\\n        {\\n            entrance___OBJ__ -= 1;\\n            var elem = document.getElementById(\"__OBJ__\");\\n            if (elem) {\\n                var xmlhttp=new XMLHttpRequest();\\n                xmlhttp.onreadystatechange=function()\\n                {\\n                    var elem = document.getElementById(\"__OBJ__\");\\n                    console.log(!!elem, xmlhttp.readyState, xmlhttp.status, entrance___OBJ__);\\n                    if (elem && xmlhttp.readyState==4) {\\n                        if (xmlhttp.status==200)\\n                        {\\n                            errors___OBJ__ = 0;\\n                            if (!entrance___OBJ__) {\\n                                elem.innerText = xmlhttp.responseText;\\n                                entrance___OBJ__ += 1;\\n                                console.log(\"req\");\\n                                window.setTimeout(\"refresh__OBJ__()\", 300); \\n                            }\\n                            return xmlhttp.responseText;\\n                        } else {\\n                            errors___OBJ__ += 1;\\n                            if (errors___OBJ__ < 10 && !entrance___OBJ__) {\\n                                entrance___OBJ__ += 1;\\n                                console.log(\"req\");\\n                                window.setTimeout(\"refresh__OBJ__()\", 300); \\n                            }\\n                        }\\n                    }\\n                }\\n                xmlhttp.open(\"GET\", \"__FILE__\", true);\\n                xmlhttp.setRequestHeader(\"Cache-Control\", \"no-cache\");\\n                xmlhttp.send();     \\n            }\\n        }\\n        \\n        if (!entrance___OBJ__) {\\n            entrance___OBJ__ += 1;\\n            refresh__OBJ__(); \\n        }\\n        </script>\\n        \\n        <font color=\"white\"> <tt>\\n        <p id=\"__OBJ__\" style=\"font-size: 16px; border:3px #333333 solid; background: #333333; border-radius: 10px; padding: 10px;  \"></p>\\n        </tt> </font>\\n        <!--MD_END_FILTER-->\\n        <!--MD_FROM_FILE __FILE__ -->\\n        \\'\\'\\'.replace(\"__OBJ__\", obj).replace(\"__FILE__\", file)\\n    if return_html_string:\\n        return html_string\\n    display(HTML(html_string))\\n    \\nBASH_POPEN_TMP_DIR = \"./bash_popen_tmp\"\\n    \\ndef bash_popen_terminate_all():\\n    for p in globals().get(\"bash_popen_list\", []):\\n        print(\"Terminate pid=\" + str(p.pid), file=sys.stderr)\\n        p.terminate()\\n    globals()[\"bash_popen_list\"] = []\\n    if os.path.exists(BASH_POPEN_TMP_DIR):\\n        shutil.rmtree(BASH_POPEN_TMP_DIR)\\n\\nbash_popen_terminate_all()  \\n\\ndef bash_popen(cmd):\\n    if not os.path.exists(BASH_POPEN_TMP_DIR):\\n        os.mkdir(BASH_POPEN_TMP_DIR)\\n    h = os.path.join(BASH_POPEN_TMP_DIR, str(random.randint(0, 1e18)))\\n    stdout_file = h + \".out.html\"\\n    stderr_file = h + \".err.html\"\\n    run_log_file = h + \".fin.html\"\\n    \\n    stdout = open(stdout_file, \"wb\")\\n    stdout = open(stderr_file, \"wb\")\\n    \\n    html = \"\"\"\\n    <table width=\"100%\">\\n    <colgroup>\\n       <col span=\"1\" style=\"width: 70px;\">\\n       <col span=\"1\">\\n    </colgroup>    \\n    <tbody>\\n      <tr> <td><b>STDOUT</b></td> <td> {stdout} </td> </tr>\\n      <tr> <td><b>STDERR</b></td> <td> {stderr} </td> </tr>\\n      <tr> <td><b>RUN LOG</b></td> <td> {run_log} </td> </tr>\\n    </tbody>\\n    </table>\\n    \"\"\".format(\\n        stdout=show_file(stdout_file, return_html_string=True),\\n        stderr=show_file(stderr_file, return_html_string=True),\\n        run_log=show_file(run_log_file, return_html_string=True),\\n    )\\n    \\n    cmd = \"\"\"\\n        bash -c {cmd} &\\n        pid=$!\\n        echo \"Process started! pid=${{pid}}\" > {run_log_file}\\n        wait ${{pid}}\\n        echo \"Process finished! exit_code=$?\" >> {run_log_file}\\n    \"\"\".format(cmd=shlex.quote(cmd), run_log_file=run_log_file)\\n    # print(cmd)\\n    display(HTML(html))\\n    \\n    p = Popen([\"bash\", \"-c\", cmd], stdin=PIPE, stdout=stdout, stderr=stdout)\\n    \\n    bash_popen_list.append(p)\\n    return p\\n\\n\\n@register_line_magic\\ndef bash_async(line):\\n    bash_popen(line)\\n    \\n    \\ndef show_log_file(file, return_html_string=False):\\n    obj = file.replace(\\'.\\', \\'_\\').replace(\\'/\\', \\'_\\') + \"_obj\"\\n    html_string = \\'\\'\\'\\n        <!--MD_BEGIN_FILTER-->\\n        <script type=text/javascript>\\n        var entrance___OBJ__ = 0;\\n        var errors___OBJ__ = 0;\\n        function halt__OBJ__(elem, color)\\n        {\\n            elem.setAttribute(\"style\", \"font-size: 14px; background: \" + color + \"; padding: 10px; border: 3px; border-radius: 5px; color: white; \");                    \\n        }\\n        function refresh__OBJ__()\\n        {\\n            entrance___OBJ__ -= 1;\\n            if (entrance___OBJ__ < 0) {\\n                entrance___OBJ__ = 0;\\n            }\\n            var elem = document.getElementById(\"__OBJ__\");\\n            if (elem) {\\n                var xmlhttp=new XMLHttpRequest();\\n                xmlhttp.onreadystatechange=function()\\n                {\\n                    var elem = document.getElementById(\"__OBJ__\");\\n                    console.log(!!elem, xmlhttp.readyState, xmlhttp.status, entrance___OBJ__);\\n                    if (elem && xmlhttp.readyState==4) {\\n                        if (xmlhttp.status==200)\\n                        {\\n                            errors___OBJ__ = 0;\\n                            if (!entrance___OBJ__) {\\n                                if (elem.innerHTML != xmlhttp.responseText) {\\n                                    elem.innerHTML = xmlhttp.responseText;\\n                                }\\n                                if (elem.innerHTML.includes(\"Process finished.\")) {\\n                                    halt__OBJ__(elem, \"#333333\");\\n                                } else {\\n                                    entrance___OBJ__ += 1;\\n                                    console.log(\"req\");\\n                                    window.setTimeout(\"refresh__OBJ__()\", 300); \\n                                }\\n                            }\\n                            return xmlhttp.responseText;\\n                        } else {\\n                            errors___OBJ__ += 1;\\n                            if (!entrance___OBJ__) {\\n                                if (errors___OBJ__ < 6) {\\n                                    entrance___OBJ__ += 1;\\n                                    console.log(\"req\");\\n                                    window.setTimeout(\"refresh__OBJ__()\", 300); \\n                                } else {\\n                                    halt__OBJ__(elem, \"#994444\");\\n                                }\\n                            }\\n                        }\\n                    }\\n                }\\n                xmlhttp.open(\"GET\", \"__FILE__\", true);\\n                xmlhttp.setRequestHeader(\"Cache-Control\", \"no-cache\");\\n                xmlhttp.send();     \\n            }\\n        }\\n        \\n        if (!entrance___OBJ__) {\\n            entrance___OBJ__ += 1;\\n            refresh__OBJ__(); \\n        }\\n        </script>\\n\\n        <p id=\"__OBJ__\" style=\"font-size: 14px; background: #000000; padding: 10px; border: 3px; border-radius: 5px; color: white; \">\\n        </p>\\n        \\n        </font>\\n        <!--MD_END_FILTER-->\\n        <!--MD_FROM_FILE __FILE__.md -->\\n        \\'\\'\\'.replace(\"__OBJ__\", obj).replace(\"__FILE__\", file)\\n    if return_html_string:\\n        return html_string\\n    display(HTML(html_string))\\n\\n    \\nclass TInteractiveLauncher:\\n    tmp_path = \"./interactive_launcher_tmp\"\\n    def __init__(self, cmd):\\n        try:\\n            os.mkdir(TInteractiveLauncher.tmp_path)\\n        except:\\n            pass\\n        name = str(random.randint(0, 1e18))\\n        self.inq_path = os.path.join(TInteractiveLauncher.tmp_path, name + \".inq\")\\n        self.log_path = os.path.join(TInteractiveLauncher.tmp_path, name + \".log\")\\n        \\n        os.mkfifo(self.inq_path)\\n        open(self.log_path, \\'w\\').close()\\n        open(self.log_path + \".md\", \\'w\\').close()\\n\\n        self.pid = os.fork()\\n        if self.pid == -1:\\n            print(\"Error\")\\n        if self.pid == 0:\\n            exe_cands = glob.glob(\"../tools/launcher.py\") + glob.glob(\"../../tools/launcher.py\")\\n            assert(len(exe_cands) == 1)\\n            assert(os.execvp(\"python3\", [\"python3\", exe_cands[0], \"-l\", self.log_path, \"-i\", self.inq_path, \"-c\", cmd]) == 0)\\n        self.inq_f = open(self.inq_path, \"w\")\\n        interactive_launcher_opened_set.add(self.pid)\\n        show_log_file(self.log_path)\\n\\n    def write(self, s):\\n        s = s.encode()\\n        assert len(s) == os.write(self.inq_f.fileno(), s)\\n        \\n    def get_pid(self):\\n        n = 100\\n        for i in range(n):\\n            try:\\n                return int(re.findall(r\"PID = (\\\\d+)\", open(self.log_path).readline())[0])\\n            except:\\n                if i + 1 == n:\\n                    raise\\n                time.sleep(0.1)\\n        \\n    def input_queue_path(self):\\n        return self.inq_path\\n        \\n    def close(self):\\n        self.inq_f.close()\\n        os.waitpid(self.pid, 0)\\n        os.remove(self.inq_path)\\n        # os.remove(self.log_path)\\n        self.inq_path = None\\n        self.log_path = None \\n        interactive_launcher_opened_set.remove(self.pid)\\n        self.pid = None\\n        \\n    @staticmethod\\n    def terminate_all():\\n        if \"interactive_launcher_opened_set\" not in globals():\\n            globals()[\"interactive_launcher_opened_set\"] = set()\\n        global interactive_launcher_opened_set\\n        for pid in interactive_launcher_opened_set:\\n            print(\"Terminate pid=\" + str(pid), file=sys.stderr)\\n            os.kill(pid, signal.SIGKILL)\\n            os.waitpid(pid, 0)\\n        interactive_launcher_opened_set = set()\\n        if os.path.exists(TInteractiveLauncher.tmp_path):\\n            shutil.rmtree(TInteractiveLauncher.tmp_path)\\n    \\nTInteractiveLauncher.terminate_all()\\n    \\n    \\ndef make_oneliner():\\n    return \\'# look at tools/set_up_magics.ipynb\\\\nget_ipython().run_cell(%s)\\\\nNone\\' % repr(one_liner_str)\\n\\n #SET_UP_MAGIC_END \\n')\n",
    "None"
   ]
  },
  {
   "cell_type": "markdown",
   "metadata": {},
   "source": [
    "# Потоки и их использование\n",
    "\n",
    "<br>\n",
    "<div style=\"text-align: right\"> Спасибо ??? за участие в написании текста </div>\n",
    "<br>\n",
    "\n",
    "\n",
    "Сегодня в программе:\n",
    "* <a href=\"#ptread_create\" style=\"color:#856024\">Создание и join потоков</a>\n",
    "* <a href=\"#pthread_result\" style=\"color:#856024\">Аргументы и возвращаемое значение потока</a>\n",
    "* <a href=\"#pthread_cancel\" style=\"color:#856024\">Прерывание/отмена/cancel потока</a>\n",
    "* <a href=\"#pthread_attr\" style=\"color:#856024\">Атрибуты потока</a>\n",
    "* <a href=\"#coro\" style=\"color:#856024\">Корутины</a>\n",
    "\n",
    "\n",
    "<a href=\"#hw\" style=\"color:#856024\">Комментарии к ДЗ</a>\n",
    "\n",
    "[Ридинг Яковлева](https://github.com/victor-yacovlev/mipt-diht-caos/tree/master/practice/pthread)\n",
    "\n",
    "\n",
    "Атрибуты процесса\n",
    "* Виртуальное адресное пространство и данные в этой витруальной памяти\n",
    "* Файловые дескрипторы, блокировки файлов\n",
    "* PID\n",
    "* argc, argv\n",
    "* ulimit\n",
    "\n",
    "Для каждого потока свои \n",
    "* Маски сигналов\n",
    "* Состояние процесса R, S, T, Z\n",
    "* Состояние регистров (какая ф-я сейчас выполняется) (состояние стека скорее входит в состояние вииртуального адресного пространства)\n",
    "* TID\n",
    "\n"
   ]
  },
  {
   "cell_type": "code",
   "execution_count": null,
   "metadata": {},
   "outputs": [],
   "source": []
  },
  {
   "cell_type": "markdown",
   "metadata": {},
   "source": [
    "# <a name=\"pthread_create\"></a> Создание и join потока"
   ]
  },
  {
   "cell_type": "code",
   "execution_count": 167,
   "metadata": {},
   "outputs": [
    {
     "data": {
      "text/markdown": [
       "Run: `gcc pthread_create.cpp -lpthread -o pthread_create.exe`"
      ],
      "text/plain": [
       "<IPython.core.display.Markdown object>"
      ]
     },
     "metadata": {},
     "output_type": "display_data"
    },
    {
     "data": {
      "text/markdown": [
       "Run: `./pthread_create.exe`"
      ],
      "text/plain": [
       "<IPython.core.display.Markdown object>"
      ]
     },
     "metadata": {},
     "output_type": "display_data"
    },
    {
     "name": "stdout",
     "output_type": "stream",
     "text": [
      "11:12:39.164 [tid=5954]: Main func started\r\n",
      "11:12:39.169 [tid=5954]: Thread creating\r\n",
      "11:12:39.170 [tid=5955]:   Thread func started\r\n",
      "11:12:39.170 [tid=5955]:   Thread func finished\r\n",
      "11:12:39.170 [tid=5954]: Thread joined\r\n",
      "11:12:39.170 [tid=5954]: Main func finished\r\n"
     ]
    }
   ],
   "source": [
    "%%cpp pthread_create.cpp\n",
    "%run gcc pthread_create.cpp -lpthread -o pthread_create.exe\n",
    "%run ./pthread_create.exe\n",
    "\n",
    "#include <stdio.h>\n",
    "#include <stdlib.h>\n",
    "#include <unistd.h>\n",
    "#include <sys/types.h>\n",
    "#include <sys/syscall.h>\n",
    "#include <sys/time.h>\n",
    "#include <pthread.h>\n",
    "\n",
    "const char* log_prefix() {\n",
    "    struct timeval tp; gettimeofday(&tp, NULL);\n",
    "    static __thread char prefix[100];\n",
    "    size_t time_len = strftime(prefix, sizeof(prefix), \"%H:%M:%S\", localtime(&tp.tv_sec));\n",
    "    sprintf(prefix + time_len, \".%03ld [tid=%ld]\", tp.tv_usec / 1000, syscall(__NR_gettid));\n",
    "    return prefix;\n",
    "}\n",
    "\n",
    "#define log_printf_impl(fmt, ...) { time_t t = time(0); dprintf(2, \"%s: \" fmt \"%s\", log_prefix(), __VA_ARGS__); }\n",
    "#define log_printf(...) log_printf_impl(__VA_ARGS__, \"\")\n",
    "\n",
    "// thread-aware assert\n",
    "#define ta_assert(stmt) if (stmt) {} else { log_printf(\"'\" #stmt \"' failed\"); exit(EXIT_FAILURE); }\n",
    "\n",
    "static void* thread_func(void* arg)\n",
    "{\n",
    "    log_printf(\"  Thread func started\\n\");\n",
    "    log_printf(\"  Thread func finished\\n\");\n",
    "    return NULL;\n",
    "}\n",
    "\n",
    "int main()\n",
    "{\n",
    "    log_printf(\"Main func started\\n\");\n",
    "    pthread_t thread;\n",
    "    log_printf(\"Thread creating\\n\");\n",
    "    ta_assert(pthread_create(&thread, NULL, thread_func, 0) == 0);\n",
    "    ta_assert(pthread_join(thread, NULL) == 0);\n",
    "    log_printf(\"Thread joined\\n\");\n",
    "    log_printf(\"Main func finished\\n\");\n",
    "    return 0;\n",
    "}"
   ]
  },
  {
   "cell_type": "code",
   "execution_count": null,
   "metadata": {},
   "outputs": [],
   "source": []
  },
  {
   "cell_type": "markdown",
   "metadata": {},
   "source": [
    "# <a name=\"pthread_result\"></a> Смотрим на возвращаемое потоком значение."
   ]
  },
  {
   "cell_type": "code",
   "execution_count": 161,
   "metadata": {},
   "outputs": [
    {
     "data": {
      "text/markdown": [
       "Run: `gcc pthread_create.cpp -lpthread -o pthread_create.exe`"
      ],
      "text/plain": [
       "<IPython.core.display.Markdown object>"
      ]
     },
     "metadata": {},
     "output_type": "display_data"
    },
    {
     "data": {
      "text/markdown": [
       "Run: `./pthread_create.exe`"
      ],
      "text/plain": [
       "<IPython.core.display.Markdown object>"
      ]
     },
     "metadata": {},
     "output_type": "display_data"
    },
    {
     "name": "stdout",
     "output_type": "stream",
     "text": [
      "11:02:29.641 [tid=5846]: Main func started\r\n",
      "11:02:29.645 [tid=5846]: Thread creating, args are: a=35 b=7\r\n",
      "11:02:29.645 [tid=5847]:   Thread func started\r\n",
      "11:02:29.646 [tid=5847]:   Thread func finished\r\n",
      "11:02:29.646 [tid=5846]: Thread joined. Result: c=42\r\n",
      "11:02:29.646 [tid=5846]: Main func finished\r\n"
     ]
    }
   ],
   "source": [
    "%%cpp pthread_create.cpp\n",
    "%run gcc pthread_create.cpp -lpthread -o pthread_create.exe\n",
    "%run ./pthread_create.exe\n",
    "\n",
    "#include <stdio.h>\n",
    "#include <stdlib.h>\n",
    "#include <unistd.h>\n",
    "#include <sys/types.h>\n",
    "#include <sys/syscall.h>\n",
    "#include <sys/time.h>\n",
    "#include <pthread.h>\n",
    "\n",
    "const char* log_prefix() {\n",
    "    struct timeval tp; gettimeofday(&tp, NULL);\n",
    "    static __thread char prefix[100];\n",
    "    size_t time_len = strftime(prefix, sizeof(prefix), \"%H:%M:%S\", localtime(&tp.tv_sec));\n",
    "    sprintf(prefix + time_len, \".%03ld [tid=%ld]\", tp.tv_usec / 1000, syscall(__NR_gettid));\n",
    "    return prefix;\n",
    "}\n",
    "\n",
    "#define log_printf_impl(fmt, ...) { time_t t = time(0); dprintf(2, \"%s: \" fmt \"%s\", log_prefix(), __VA_ARGS__); }\n",
    "#define log_printf(...) log_printf_impl(__VA_ARGS__, \"\")\n",
    "\n",
    "// thread-aware assert\n",
    "#define ta_assert(stmt) if (stmt) {} else { log_printf(\"'\" #stmt \"' failed\"); exit(EXIT_FAILURE); }\n",
    "\n",
    "\n",
    "typedef struct {\n",
    "    int a;\n",
    "    int b;\n",
    "} thread_task_args_t;\n",
    "\n",
    "// На самом деле проще записать результат в структуру аргументов\n",
    "typedef struct {\n",
    "    int c;\n",
    "} thread_task_result_t;\n",
    "\n",
    "static thread_task_result_t* thread_func(const thread_task_args_t *arg)\n",
    "{\n",
    "    log_printf(\"  Thread func started\\n\");\n",
    "    thread_task_result_t* result = \n",
    "        (thread_task_result_t*)malloc(sizeof(thread_task_result_t));\n",
    "    result->c = arg->a + arg->b;\n",
    "    log_printf(\"  Thread func finished\\n\");\n",
    "    return result;\n",
    "}\n",
    "\n",
    "int main()\n",
    "{\n",
    "    log_printf(\"Main func started\\n\");\n",
    "    pthread_t thread;\n",
    "    \n",
    "    thread_task_args_t args = {.a = 35, .b = 7};\n",
    "    log_printf(\"Thread creating, args are: a=%d b=%d\\n\", args.a, args.b);\n",
    "    ta_assert(pthread_create(\n",
    "        &thread, NULL, \n",
    "        (void* (*)(void*))thread_func, // Важно понимать, что тут происходит\n",
    "        (void*)&args\n",
    "    ) == 0);\n",
    "    \n",
    "    thread_task_result_t* result;\n",
    "    ta_assert(pthread_join(thread, (void**)&result) == 0);\n",
    "    log_printf(\"Thread joined. Result: c=%d\\n\", result->c);\n",
    "    free(result);\n",
    "    \n",
    "    log_printf(\"Main func finished\\n\");\n",
    "    return 0;\n",
    "}"
   ]
  },
  {
   "cell_type": "markdown",
   "metadata": {},
   "source": [
    "# <a name=\"pthread_cancel\"></a> Прерывание потока\n",
    "\n",
    "Пусть это возможно сделать, но с этим нужно быть очень осторожным, особенно если поток, который вы прерываете владеет какими-либо ресурсами"
   ]
  },
  {
   "cell_type": "code",
   "execution_count": 162,
   "metadata": {},
   "outputs": [
    {
     "data": {
      "text/markdown": [
       "Run: `gcc pthread_cancel.cpp -lpthread -o pthread_cancel.exe`"
      ],
      "text/plain": [
       "<IPython.core.display.Markdown object>"
      ]
     },
     "metadata": {},
     "output_type": "display_data"
    },
    {
     "data": {
      "text/markdown": [
       "Run: `./pthread_cancel.exe`"
      ],
      "text/plain": [
       "<IPython.core.display.Markdown object>"
      ]
     },
     "metadata": {},
     "output_type": "display_data"
    },
    {
     "name": "stdout",
     "output_type": "stream",
     "text": [
      "11:04:27.448 [tid=5859]: Main func started\n",
      "11:04:27.453 [tid=5859]: Thread creating\n",
      "11:04:27.453 [tid=5860]:   Thread func started\n",
      "11:04:28.454 [tid=5859]: Thread canceling\n",
      "11:04:28.454 [tid=5859]: Thread joined\n",
      "11:04:28.454 [tid=5859]: Main func finished\n"
     ]
    }
   ],
   "source": [
    "%%cpp pthread_cancel.cpp\n",
    "%run gcc pthread_cancel.cpp -lpthread -o pthread_cancel.exe\n",
    "%run ./pthread_cancel.exe\n",
    "\n",
    "#include <stdio.h>\n",
    "#include <stdlib.h>\n",
    "#include <unistd.h>\n",
    "#include <sys/types.h>\n",
    "#include <sys/syscall.h>\n",
    "#include <sys/time.h>\n",
    "#include <pthread.h>\n",
    "\n",
    "const char* log_prefix() {\n",
    "    struct timeval tp; gettimeofday(&tp, NULL);\n",
    "    static __thread char prefix[100];\n",
    "    size_t time_len = strftime(prefix, sizeof(prefix), \"%H:%M:%S\", localtime(&tp.tv_sec));\n",
    "    sprintf(prefix + time_len, \".%03ld [tid=%ld]\", tp.tv_usec / 1000, syscall(__NR_gettid));\n",
    "    return prefix;\n",
    "}\n",
    "\n",
    "#define log_printf_impl(fmt, ...) { time_t t = time(0); dprintf(2, \"%s: \" fmt \"%s\", log_prefix(), __VA_ARGS__); }\n",
    "#define log_printf(...) log_printf_impl(__VA_ARGS__, \"\")\n",
    "\n",
    "// thread-aware assert\n",
    "#define ta_assert(stmt) if (stmt) {} else { log_printf(\"'\" #stmt \"' failed\"); exit(EXIT_FAILURE); }\n",
    "\n",
    "static void* thread_func(void* arg)\n",
    "{\n",
    "    log_printf(\"  Thread func started\\n\");\n",
    "    sleep(2);\n",
    "    log_printf(\"  Thread func finished\\n\"); // not printed because thread canceled\n",
    "    return NULL;\n",
    "}\n",
    "\n",
    "int main()\n",
    "{\n",
    "    log_printf(\"Main func started\\n\");\n",
    "    pthread_t thread;\n",
    "    log_printf(\"Thread creating\\n\");\n",
    "    ta_assert(pthread_create(&thread, NULL, thread_func, 0) == 0);\n",
    "    sleep(1);\n",
    "    log_printf(\"Thread canceling\\n\");\n",
    "    ta_assert(pthread_cancel(thread) == 0);\n",
    "    ta_assert(pthread_join(thread, NULL) == 0);\n",
    "    log_printf(\"Thread joined\\n\");\n",
    "    log_printf(\"Main func finished\\n\");\n",
    "    return 0;\n",
    "}"
   ]
  },
  {
   "cell_type": "markdown",
   "metadata": {},
   "source": [
    "По умолчанию pthread_cancel может прерывать поток, только в cancelation points (то есть в функциях, в реализациях которых есть проверка на это). \n",
    "\n",
    "Поэтому, если эти функции не вызывать, то поток не сможет быть прерван.\n",
    "\n",
    "Но можно воспользоваться `pthread_setcanceltype(PTHREAD_CANCEL_ASYNCHRONOUS, NULL);`. Тогда поток может быть прерван на уровне планировщика. (То есть поток скорее всего доработает текущий выделенный квант времени, но на следующий квант уже не запустится)"
   ]
  },
  {
   "cell_type": "code",
   "execution_count": 165,
   "metadata": {},
   "outputs": [
    {
     "data": {
      "text/markdown": [
       "Run: `gcc pthread_cancel_fail.cpp -lpthread -o pthread_cancel_fail.exe`"
      ],
      "text/plain": [
       "<IPython.core.display.Markdown object>"
      ]
     },
     "metadata": {},
     "output_type": "display_data"
    },
    {
     "data": {
      "text/markdown": [
       "Run: `timeout 3 ./pthread_cancel_fail.exe  # will fail (cancelation at cancelation points)`"
      ],
      "text/plain": [
       "<IPython.core.display.Markdown object>"
      ]
     },
     "metadata": {},
     "output_type": "display_data"
    },
    {
     "name": "stdout",
     "output_type": "stream",
     "text": [
      "11:11:15.118 [tid=5925]: Main func started\n",
      "11:11:15.125 [tid=5925]: Thread creating\n",
      "11:11:15.125 [tid=5926]:   Thread func started\n",
      "11:11:16.125 [tid=5925]: Thread canceling\n",
      "11:11:16.129 [tid=5925]: Thread joining\n"
     ]
    },
    {
     "data": {
      "text/markdown": [
       "Run: `gcc -DASYNC_CANCEL pthread_cancel_fail.cpp -lpthread -o pthread_cancel_fail.exe`"
      ],
      "text/plain": [
       "<IPython.core.display.Markdown object>"
      ]
     },
     "metadata": {},
     "output_type": "display_data"
    },
    {
     "data": {
      "text/markdown": [
       "Run: `timeout 3 ./pthread_cancel_fail.exe  # ok, async cancelation`"
      ],
      "text/plain": [
       "<IPython.core.display.Markdown object>"
      ]
     },
     "metadata": {},
     "output_type": "display_data"
    },
    {
     "name": "stdout",
     "output_type": "stream",
     "text": [
      "11:11:18.785 [tid=5935]: Main func started\n",
      "11:11:18.786 [tid=5935]: Thread creating\n",
      "11:11:18.786 [tid=5936]:   Thread func started\n",
      "11:11:19.789 [tid=5935]: Thread canceling\n",
      "11:11:19.789 [tid=5935]: Thread joining\n",
      "11:11:19.789 [tid=5935]: Thread joined\n",
      "11:11:19.789 [tid=5935]: Main func finished\n"
     ]
    }
   ],
   "source": [
    "%%cpp pthread_cancel_fail.cpp\n",
    "%run gcc pthread_cancel_fail.cpp -lpthread -o pthread_cancel_fail.exe\n",
    "%run timeout 3 ./pthread_cancel_fail.exe  # will fail (cancelation at cancelation points)\n",
    "%run gcc -DASYNC_CANCEL pthread_cancel_fail.cpp -lpthread -o pthread_cancel_fail.exe\n",
    "%run timeout 3 ./pthread_cancel_fail.exe  # ok, async cancelation\n",
    "\n",
    "#include <stdio.h>\n",
    "#include <stdlib.h>\n",
    "#include <unistd.h>\n",
    "#include <sys/types.h>\n",
    "#include <sys/syscall.h>\n",
    "#include <sys/time.h>\n",
    "#include <pthread.h>\n",
    "\n",
    "const char* log_prefix() {\n",
    "    struct timeval tp; gettimeofday(&tp, NULL);\n",
    "    static __thread char prefix[100];\n",
    "    size_t time_len = strftime(prefix, sizeof(prefix), \"%H:%M:%S\", localtime(&tp.tv_sec));\n",
    "    sprintf(prefix + time_len, \".%03ld [tid=%ld]\", tp.tv_usec / 1000, syscall(__NR_gettid));\n",
    "    return prefix;\n",
    "}\n",
    "\n",
    "#define log_printf_impl(fmt, ...) { time_t t = time(0); dprintf(2, \"%s: \" fmt \"%s\", log_prefix(), __VA_ARGS__); }\n",
    "#define log_printf(...) log_printf_impl(__VA_ARGS__, \"\")\n",
    "\n",
    "// thread-aware assert\n",
    "#define ta_assert(stmt) if (stmt) {} else { log_printf(\"'\" #stmt \"' failed\"); exit(EXIT_FAILURE); }\n",
    "\n",
    "static void *\n",
    "thread_func(void *arg)\n",
    "{\n",
    "    log_printf(\"  Thread func started\\n\");\n",
    "    #ifdef ASYNC_CANCEL\n",
    "    ta_assert(pthread_setcanceltype(PTHREAD_CANCEL_ASYNCHRONOUS, NULL) == 0);\n",
    "    #endif\n",
    "    while (1); // зависаем тут. В процессе явно не будет cancelation points\n",
    "    log_printf(\"  Thread func finished\\n\"); \n",
    "    return NULL;\n",
    "}\n",
    "\n",
    "int main()\n",
    "{\n",
    "    log_printf(\"Main func started\\n\");\n",
    "    pthread_t thread;\n",
    "    log_printf(\"Thread creating\\n\");\n",
    "    ta_assert(pthread_create(&thread, NULL, thread_func, 0) == 0);\n",
    "    sleep(1);\n",
    "    log_printf(\"Thread canceling\\n\");\n",
    "    ta_assert(pthread_cancel(thread) == 0);\n",
    "    log_printf(\"Thread joining\\n\");\n",
    "    ta_assert(pthread_join(thread, NULL) == 0);\n",
    "    log_printf(\"Thread joined\\n\");\n",
    "    log_printf(\"Main func finished\\n\");\n",
    "    return 0;\n",
    "}"
   ]
  },
  {
   "cell_type": "code",
   "execution_count": null,
   "metadata": {},
   "outputs": [],
   "source": []
  },
  {
   "cell_type": "markdown",
   "metadata": {},
   "source": [
    "## А можно ли приджойнить основной поток?"
   ]
  },
  {
   "cell_type": "code",
   "execution_count": 176,
   "metadata": {},
   "outputs": [
    {
     "data": {
      "text/markdown": [
       "Run: `gcc join_main_thread.cpp -lpthread -o join_main_thread.exe`"
      ],
      "text/plain": [
       "<IPython.core.display.Markdown object>"
      ]
     },
     "metadata": {},
     "output_type": "display_data"
    },
    {
     "data": {
      "text/markdown": [
       "Run: `timeout 3 ./join_main_thread.exe ; echo \"Exit code: $?\"`"
      ],
      "text/plain": [
       "<IPython.core.display.Markdown object>"
      ]
     },
     "metadata": {},
     "output_type": "display_data"
    },
    {
     "name": "stdout",
     "output_type": "stream",
     "text": [
      "11:17:58.189 [tid=6084]: Main func started\r\n",
      "11:17:58.197 [tid=6084]: Thread creating\r\n",
      "11:17:58.198 [tid=6085]:   Thread func started\r\n",
      "11:17:58.198 [tid=6085]:   Main thread joining\r\n",
      "11:17:58.198 [tid=6085]:   Main thread joined\r\n",
      "11:17:58.198 [tid=6085]:   Thread func finished\r\n",
      "Exit code: 42\r\n"
     ]
    }
   ],
   "source": [
    "%%cpp join_main_thread.cpp\n",
    "%run gcc join_main_thread.cpp -lpthread -o join_main_thread.exe\n",
    "%run timeout 3 ./join_main_thread.exe ; echo \"Exit code: $?\"\n",
    "\n",
    "#include <stdio.h>\n",
    "#include <stdlib.h>\n",
    "#include <unistd.h>\n",
    "#include <sys/types.h>\n",
    "#include <sys/syscall.h>\n",
    "#include <sys/time.h>\n",
    "#include <pthread.h>\n",
    "\n",
    "const char* log_prefix() {\n",
    "    struct timeval tp; gettimeofday(&tp, NULL);\n",
    "    static __thread char prefix[100];\n",
    "    size_t time_len = strftime(prefix, sizeof(prefix), \"%H:%M:%S\", localtime(&tp.tv_sec));\n",
    "    sprintf(prefix + time_len, \".%03ld [tid=%ld]\", tp.tv_usec / 1000, syscall(__NR_gettid));\n",
    "    return prefix;\n",
    "}\n",
    "\n",
    "#define log_printf_impl(fmt, ...) { time_t t = time(0); dprintf(2, \"%s: \" fmt \"%s\", log_prefix(), __VA_ARGS__); }\n",
    "#define log_printf(...) log_printf_impl(__VA_ARGS__, \"\")\n",
    "\n",
    "// thread-aware assert\n",
    "#define ta_assert(stmt) if (stmt) {} else { log_printf(\"'\" #stmt \"' failed\"); exit(EXIT_FAILURE); }\n",
    "\n",
    "pthread_t main_thread;\n",
    "\n",
    "static void* thread_func(void* arg)\n",
    "{\n",
    "    log_printf(\"  Thread func started\\n\");\n",
    "  \n",
    "    log_printf(\"  Main thread joining\\n\");\n",
    "    ta_assert(pthread_join(main_thread, NULL) == 0);\n",
    "    log_printf(\"  Main thread joined\\n\");\n",
    "\n",
    "    log_printf(\"  Thread func finished\\n\");\n",
    "\n",
    "    _exit(42);\n",
    "}\n",
    "\n",
    "int main()\n",
    "{\n",
    "    log_printf(\"Main func started\\n\");\n",
    "    main_thread = pthread_self();\n",
    "    \n",
    "    pthread_t thread;\n",
    "    log_printf(\"Thread creating\\n\");\n",
    "    ta_assert(pthread_create(&thread, NULL, thread_func, 0) == 0);\n",
    "    \n",
    "    pthread_exit(NULL);\n",
    "}"
   ]
  },
  {
   "cell_type": "code",
   "execution_count": null,
   "metadata": {},
   "outputs": [],
   "source": []
  },
  {
   "cell_type": "code",
   "execution_count": null,
   "metadata": {},
   "outputs": [],
   "source": []
  },
  {
   "cell_type": "markdown",
   "metadata": {},
   "source": [
    "# <a name=\"pthread_attr\"></a> Атрибуты потока\n",
    "\n",
    "* Размер стека\n",
    "* Местоположение стека\n",
    "* Размер защитной области после стека. Вот тут можно прокомментировать: это область ниже стека, которая является дырой в виртуальном адресном пространстве программы. То есть при попытке обращения к этой области произойдет segfault. Для чего необходима защитная область? Чтобы при переполнении стека получать segfault, а не неотлавливаемый проезд по памяти.\n",
    "\n",
    "\n",
    "В следующем примере создадим поток двумя способами. С параметрами по умолчанию и указав минимальный размер стека. И посмотрим на потребления памяти. \n",
    "\n",
    "(Да, потреблениЯ. Там все не так просто, как кажется на первый взгляд :) )"
   ]
  },
  {
   "cell_type": "code",
   "execution_count": 179,
   "metadata": {},
   "outputs": [
    {
     "data": {
      "text/markdown": [
       "Run: `gcc pthread_stack_size.cpp -lpthread -o pthread_stack_size.exe`"
      ],
      "text/plain": [
       "<IPython.core.display.Markdown object>"
      ]
     },
     "metadata": {},
     "output_type": "display_data"
    },
    {
     "data": {
      "text/markdown": [
       "Run: `./pthread_stack_size.exe`"
      ],
      "text/plain": [
       "<IPython.core.display.Markdown object>"
      ]
     },
     "metadata": {},
     "output_type": "display_data"
    },
    {
     "name": "stdout",
     "output_type": "stream",
     "text": [
      "11:30:53.776 [tid=6189]: Main func started. Initial RSS = 760kb, initial VM usage = 72kb\n",
      "11:30:53.776 [tid=6189]: Thread creating\n",
      "11:30:53.777 [tid=6193]:   Thread func started\n",
      "11:30:54.779 [tid=6189]: Thread working. RSS = 760kb, delta RSS = 0kb\n",
      "11:30:54.819 [tid=6189]: Thread working. VM size = 8528kb, VM delta size = 8456kb (!)\n",
      "11:30:55.778 [tid=6193]:   Thread func finished\n",
      "11:30:55.778 [tid=6189]: Thread joined\n",
      "11:30:55.778 [tid=6189]: Main func finished\n"
     ]
    },
    {
     "data": {
      "text/markdown": [
       "Run: `gcc -DMY_STACK_SIZE=16384 pthread_stack_size.cpp -lpthread -o pthread_stack_size.exe`"
      ],
      "text/plain": [
       "<IPython.core.display.Markdown object>"
      ]
     },
     "metadata": {},
     "output_type": "display_data"
    },
    {
     "data": {
      "text/markdown": [
       "Run: `./pthread_stack_size.exe`"
      ],
      "text/plain": [
       "<IPython.core.display.Markdown object>"
      ]
     },
     "metadata": {},
     "output_type": "display_data"
    },
    {
     "name": "stdout",
     "output_type": "stream",
     "text": [
      "11:30:56.501 [tid=6207]: Main func started. Initial RSS = 720kb, initial VM usage = 72kb\n",
      "11:30:56.502 [tid=6207]: Thread creating\n",
      "11:30:56.502 [tid=6211]:   Thread func started\n",
      "11:30:57.505 [tid=6207]: Thread working. RSS = 720kb, delta RSS = 0kb\n",
      "11:30:57.548 [tid=6207]: Thread working. VM size = 348kb, VM delta size = 276kb (!)\n",
      "11:30:58.503 [tid=6211]:   Thread func finished\n",
      "11:30:58.503 [tid=6207]: Thread joined\n",
      "11:30:58.503 [tid=6207]: Main func finished\n"
     ]
    }
   ],
   "source": [
    "%%cpp pthread_stack_size.cpp\n",
    "%run gcc pthread_stack_size.cpp -lpthread -o pthread_stack_size.exe\n",
    "%run ./pthread_stack_size.exe \n",
    "%run gcc -DMY_STACK_SIZE=16384 pthread_stack_size.cpp -lpthread -o pthread_stack_size.exe\n",
    "%run ./pthread_stack_size.exe \n",
    "\n",
    "#include <stdio.h>\n",
    "#include <stdlib.h>\n",
    "#include <unistd.h>\n",
    "#include <sys/types.h>\n",
    "#include <sys/resource.h>\n",
    "#include <sys/syscall.h>\n",
    "#include <sys/time.h>\n",
    "#include <pthread.h>\n",
    "\n",
    "const char* log_prefix() {\n",
    "    struct timeval tp; gettimeofday(&tp, NULL);\n",
    "    static __thread char prefix[100];\n",
    "    size_t time_len = strftime(prefix, sizeof(prefix), \"%H:%M:%S\", localtime(&tp.tv_sec));\n",
    "    sprintf(prefix + time_len, \".%03ld [tid=%ld]\", tp.tv_usec / 1000, syscall(__NR_gettid));\n",
    "    return prefix;\n",
    "}\n",
    "\n",
    "#define log_printf_impl(fmt, ...) { time_t t = time(0); dprintf(2, \"%s: \" fmt \"%s\", log_prefix(), __VA_ARGS__); }\n",
    "#define log_printf(...) log_printf_impl(__VA_ARGS__, \"\")\n",
    "\n",
    "// thread-aware assert\n",
    "#define ta_assert(stmt) if (stmt) {} else { log_printf(\"'\" #stmt \"' failed\"); exit(EXIT_FAILURE); }\n",
    "\n",
    "long int get_maxrss() {\n",
    "    struct rusage usage;\n",
    "    ta_assert(getrusage(RUSAGE_SELF, &usage) == 0);\n",
    "    return usage.ru_maxrss;\n",
    "}\n",
    "\n",
    "const char* run_and_get_output(const char* bash_cmd) {\n",
    "    int fds[2];\n",
    "    pipe(fds);\n",
    "    int pid = fork();\n",
    "    if (pid == 0) {\n",
    "        dup2(fds[1], 1);\n",
    "        close(fds[0]); close(fds[1]);\n",
    "        execlp(\"bash\", \"bash\", \"-c\", bash_cmd, NULL);\n",
    "        ta_assert(0 && \"unreachable\");\n",
    "    }\n",
    "    close(fds[1]);\n",
    "    static __thread char buffer[100];\n",
    "    int size = 0, rd = 0;\n",
    "    while ((rd = read(fds[0], buffer, sizeof(buffer) - size)) != 0) {\n",
    "        if (rd > 0) {\n",
    "            size += rd;\n",
    "        }\n",
    "    }\n",
    "    buffer[size] = 0;\n",
    "    return buffer;\n",
    "}\n",
    "\n",
    "long int get_vm_usage() {  \n",
    "    char cmd1[10000];\n",
    "    sprintf(cmd1, \"cat /proc/%d/status | grep VmData\", getpid());\n",
    "    const char* vm_usage_s = run_and_get_output(cmd1);\n",
    "    long int vm_usage;\n",
    "    sscanf(vm_usage_s, \"VmData: %ld kB\", &vm_usage);\n",
    "    return vm_usage;\n",
    "}\n",
    "\n",
    "static void *\n",
    "thread_func(void *arg)\n",
    "{\n",
    "//     int a[800000];\n",
    "//     for (int i = 0; i < sizeof(a) / sizeof(int); ++i) {\n",
    "//         a[i] = i;\n",
    "//     }   \n",
    "    log_printf(\"  Thread func started\\n\");\n",
    "    sleep(2);\n",
    "    log_printf(\"  Thread func finished\\n\"); \n",
    "    return NULL;\n",
    "}\n",
    "\n",
    "int main()\n",
    "{\n",
    "    long int initial_rss = get_maxrss();\n",
    "    long int initial_vm_size = get_vm_usage();\n",
    "    log_printf(\"Main func started. Initial RSS = %ldkb, initial VM usage = %ldkb\\n\", \n",
    "               initial_rss, initial_vm_size);\n",
    "    pthread_t thread;\n",
    "    pthread_attr_t thread_attr; \n",
    "    ta_assert(pthread_attr_init(&thread_attr) == 0);\n",
    "    #ifdef MY_STACK_SIZE\n",
    "    ta_assert(pthread_attr_setstacksize(&thread_attr, MY_STACK_SIZE) == 0);\n",
    "    #endif\n",
    "    log_printf(\"Thread creating\\n\");\n",
    "    ta_assert(pthread_create(&thread, &thread_attr, thread_func, 0) == 0);\n",
    "    ta_assert(pthread_attr_destroy(&thread_attr) == 0);\n",
    "    sleep(1);\n",
    "    \n",
    "    log_printf(\"Thread working. RSS = %ldkb, delta RSS = %ldkb\\n\", \n",
    "               get_maxrss(), get_maxrss() - initial_rss);\n",
    "    log_printf(\"Thread working. VM size = %ldkb, VM delta size = %ldkb (!)\\n\", \n",
    "               get_vm_usage(), get_vm_usage() - initial_vm_size);\n",
    "    \n",
    "    ta_assert(pthread_join(thread, NULL) == 0);\n",
    "    log_printf(\"Thread joined\\n\");\n",
    "    log_printf(\"Main func finished\\n\");\n",
    "    return 0;\n",
    "}"
   ]
  },
  {
   "cell_type": "code",
   "execution_count": null,
   "metadata": {},
   "outputs": [],
   "source": []
  },
  {
   "cell_type": "code",
   "execution_count": null,
   "metadata": {},
   "outputs": [],
   "source": []
  },
  {
   "cell_type": "code",
   "execution_count": null,
   "metadata": {},
   "outputs": [],
   "source": []
  },
  {
   "cell_type": "markdown",
   "metadata": {},
   "source": [
    "# <a name=\"coro\"></a> Coroutines"
   ]
  },
  {
   "cell_type": "code",
   "execution_count": 120,
   "metadata": {},
   "outputs": [
    {
     "name": "stdout",
     "output_type": "stream",
     "text": [
      "Cloning into 'libtask'...\n",
      "remote: Enumerating objects: 143, done.\u001b[K\n",
      "remote: Total 143 (delta 0), reused 0 (delta 0), pack-reused 143\u001b[K\n",
      "Receiving objects: 100% (143/143), 43.33 KiB | 0 bytes/s, done.\n",
      "Resolving deltas: 100% (90/90), done.\n",
      "Checking connectivity... done.\n",
      "gcc -c asm.S\n",
      "gcc -Wall -Wextra -c -I. -ggdb channel.c\n",
      "gcc -Wall -Wextra -c -I. -ggdb context.c\n",
      "gcc -Wall -Wextra -c -I. -ggdb fd.c\n",
      "gcc -Wall -Wextra -c -I. -ggdb net.c\n",
      "gcc -Wall -Wextra -c -I. -ggdb print.c\n",
      "gcc -Wall -Wextra -c -I. -ggdb qlock.c\n",
      "gcc -Wall -Wextra -c -I. -ggdb rendez.c\n",
      "gcc -Wall -Wextra -c -I. -ggdb task.c\n",
      "gcc -Wall -Wextra -c -I. -ggdb ip.c\n",
      "ar rvc libtask.a asm.o channel.o context.o fd.o net.o print.o qlock.o rendez.o task.o ip.o \n",
      "a - asm.o\n",
      "a - channel.o\n",
      "a - context.o\n",
      "a - fd.o\n",
      "a - net.o\n",
      "a - print.o\n",
      "a - qlock.o\n",
      "a - rendez.o\n",
      "a - task.o\n",
      "a - ip.o\n",
      "gcc -Wall -Wextra -c -I. -ggdb echo.c\n",
      "gcc -o echo echo.o libtask.a\n",
      "gcc -Wall -Wextra -c -I. -ggdb httpload.c\n",
      "gcc -o httpload httpload.o libtask.a\n",
      "gcc -Wall -Wextra -c -I. -ggdb primes.c\n",
      "gcc -o primes primes.o libtask.a\n",
      "gcc -Wall -Wextra -c -I. -ggdb tcpload.c\n",
      "gcc -o tcpload tcpload.o libtask.a\n",
      "gcc -Wall -Wextra -c -I. -ggdb tcpproxy.c\n",
      "gcc -o tcpproxy tcpproxy.o libtask.a \n",
      "gcc -Wall -Wextra -c -I. -ggdb testdelay.c\n",
      "gcc -o testdelay testdelay.o libtask.a\n"
     ]
    }
   ],
   "source": [
    "!rm -rf ./libtask\n",
    "!git clone git@github.com:0intro/libtask.git\n",
    "!cd libtask && make "
   ]
  },
  {
   "cell_type": "code",
   "execution_count": 133,
   "metadata": {},
   "outputs": [
    {
     "data": {
      "text/markdown": [
       "Run: `gcc -I ./libtask coro.cpp ./libtask/libtask.a -lpthread -o coro.exe`"
      ],
      "text/plain": [
       "<IPython.core.display.Markdown object>"
      ]
     },
     "metadata": {},
     "output_type": "display_data"
    },
    {
     "data": {
      "text/markdown": [
       "Run: `./coro.exe 300 100 200 1000`"
      ],
      "text/plain": [
       "<IPython.core.display.Markdown object>"
      ]
     },
     "metadata": {},
     "output_type": "display_data"
    },
    {
     "name": "stdout",
     "output_type": "stream",
     "text": [
      "00:32:26.848 [tid=3565]: Schedule 300ms task\n",
      "00:32:26.849 [tid=3565]: Schedule 100ms task\n",
      "00:32:26.849 [tid=3565]: Schedule 200ms task\n",
      "00:32:26.849 [tid=3565]: Schedule 1000ms task\n",
      "00:32:26.849 [tid=3565]: Some task is finished\n",
      "00:32:26.950 [tid=3565]: Task 100ms is launched\n",
      "00:32:26.950 [tid=3565]: Some task is finished\n",
      "00:32:27.049 [tid=3565]: Task 200ms is launched\n",
      "00:32:27.050 [tid=3565]: Some task is finished\n",
      "00:32:27.149 [tid=3565]: Task 300ms is launched\n",
      "00:32:27.150 [tid=3565]: Some task is finished\n",
      "00:32:27.849 [tid=3565]: Task 1000ms is launched\n"
     ]
    }
   ],
   "source": [
    "%%cpp coro.cpp\n",
    "%run gcc -I ./libtask coro.cpp ./libtask/libtask.a -lpthread -o coro.exe\n",
    "%run ./coro.exe 300 100 200 1000\n",
    "\n",
    "#include <stdio.h>\n",
    "#include <stdlib.h>\n",
    "#include <unistd.h>\n",
    "#include <sys/types.h>\n",
    "#include <sys/syscall.h>\n",
    "#include <sys/time.h>\n",
    "#include <pthread.h>\n",
    "#include <string.h>\n",
    "#include <errno.h>\n",
    "#include <task.h>\n",
    "\n",
    "\n",
    "const char* log_prefix() {\n",
    "    struct timeval tp; gettimeofday(&tp, NULL);\n",
    "    static __thread char prefix[100];\n",
    "    size_t time_len = strftime(prefix, sizeof(prefix), \"%H:%M:%S\", localtime(&tp.tv_sec));\n",
    "    sprintf(prefix + time_len, \".%03ld [tid=%ld]\", tp.tv_usec / 1000, syscall(__NR_gettid));\n",
    "    return prefix;\n",
    "}\n",
    "\n",
    "#define log_printf_impl(fmt, ...) { time_t t = time(0); dprintf(2, \"%s: \" fmt \"%s\", log_prefix(), __VA_ARGS__); }\n",
    "#define log_printf(...) log_printf_impl(__VA_ARGS__, \"\")\n",
    "\n",
    "// thread-aware assert\n",
    "#define ta_assert(stmt) if (stmt) {} else { log_printf(\"'\" #stmt \"' failed\"); exit(EXIT_FAILURE); }\n",
    "\n",
    "\n",
    "const int STACK_SIZE = 32768;\n",
    "\n",
    "Channel *c;\n",
    "\n",
    "void delaytask(void *v)\n",
    "{\n",
    "    int ms = *(int*)(void*)&v;\n",
    "    taskdelay(ms);\n",
    "    log_printf(\"Task %dms is launched\\n\", ms);\n",
    "    chansendul(c, 0);\n",
    "}\n",
    "\n",
    "void taskmain(int argc, char **argv)\n",
    "{    \n",
    "    c = chancreate(sizeof(unsigned long), 0);\n",
    "\n",
    "    for(int i = 1; i < argc; i++){\n",
    "        int ms = atoi(argv[i]);\n",
    "        log_printf(\"Schedule %dms task\\n\", ms);\n",
    "        taskcreate(delaytask, *(void**)&ms, STACK_SIZE);\n",
    "    }\n",
    "    \n",
    "    int a = 1;\n",
    "    // a == 1\n",
    "\n",
    "    for(int i = 1; i < argc; i++){\n",
    "        log_printf(\"Some task is finished\\n\");\n",
    "        chanrecvul(c);\n",
    "    }\n",
    "    taskexitall(0);\n",
    "}"
   ]
  },
  {
   "cell_type": "code",
   "execution_count": null,
   "metadata": {},
   "outputs": [],
   "source": []
  },
  {
   "cell_type": "markdown",
   "metadata": {},
   "source": [
    "# <a name=\"hw\"></a> Комментарии к ДЗ\n",
    "\n",
    "* "
   ]
  },
  {
   "cell_type": "code",
   "execution_count": null,
   "metadata": {},
   "outputs": [],
   "source": []
  },
  {
   "cell_type": "code",
   "execution_count": null,
   "metadata": {},
   "outputs": [],
   "source": []
  },
  {
   "cell_type": "code",
   "execution_count": null,
   "metadata": {},
   "outputs": [],
   "source": []
  },
  {
   "cell_type": "code",
   "execution_count": null,
   "metadata": {},
   "outputs": [],
   "source": []
  }
 ],
 "metadata": {
  "kernelspec": {
   "display_name": "Python 3",
   "language": "python",
   "name": "python3"
  },
  "language_info": {
   "codemirror_mode": {
    "name": "ipython",
    "version": 3
   },
   "file_extension": ".py",
   "mimetype": "text/x-python",
   "name": "python",
   "nbconvert_exporter": "python",
   "pygments_lexer": "ipython3",
   "version": "3.5.2"
  }
 },
 "nbformat": 4,
 "nbformat_minor": 2
}
