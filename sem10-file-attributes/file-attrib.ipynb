{
 "cells": [
  {
   "cell_type": "code",
   "execution_count": 1,
   "metadata": {},
   "outputs": [
    {
     "data": {
      "application/javascript": [
       "// setup cpp code highlighting\n",
       "IPython.CodeCell.options_default.highlight_modes[\"text/x-c++src\"] = {'reg':[/^%%cpp/]} ;"
      ],
      "text/plain": [
       "<IPython.core.display.Javascript object>"
      ]
     },
     "metadata": {},
     "output_type": "display_data"
    }
   ],
   "source": [
    "# initialize magics, look at previous notebooks for not compressed version\n",
    "exec('get_ipython().run_cell_magic(\\'javascript\\', \\'\\', \\'// setup cpp code highlighting\\\\nIPython.CodeCell.options_default.highlight_modes[\"text/x-c++src\"] = {\\\\\\'reg\\\\\\':[/^%%cpp/]} ;\\')\\n\\n# creating magics\\nfrom IPython.core.magic import register_cell_magic, register_line_magic\\nfrom IPython.display import display, Markdown\\n\\n@register_cell_magic\\ndef save_file(fname, cell):\\n    cell = cell if cell[-1] == \\'\\\\n\\' else cell + \"\\\\n\"\\n    cmds = []\\n    with open(fname, \"w\") as f:\\n        for line in cell.split(\"\\\\n\"):\\n            if line.startswith(\"%\"):\\n                run_prefix = \"%run \"\\n                assert line.startswith(run_prefix)\\n                cmds.append(line[len(run_prefix):].strip())\\n            else:\\n                f.write(line + \"\\\\n\")\\n    for cmd in cmds:\\n        display(Markdown(\"Run: `%s`\" % cmd))\\n        get_ipython().system(cmd)\\n\\n@register_cell_magic\\ndef cpp(fname, cell):\\n    save_file(fname, cell)\\n\\n@register_cell_magic\\ndef asm(fname, cell):\\n    save_file(fname, cell)\\n    \\n@register_cell_magic\\ndef makefile(fname, cell):\\n    assert not fname\\n    save_file(\"makefile\", cell.replace(\" \" * 4, \"\\\\t\"))\\n        \\n@register_line_magic\\ndef p(line):\\n    try:\\n        expr, comment = line.split(\" #\")\\n        display(Markdown(\"`{} = {}`  # {}\".format(expr.strip(), eval(expr), comment.strip())))\\n    except:\\n        display(Markdown(\"{} = {}\".format(line, eval(line))))\\n')"
   ]
  },
  {
   "cell_type": "markdown",
   "metadata": {},
   "source": [
    "# Аттрибуты файлов"
   ]
  },
  {
   "cell_type": "markdown",
   "metadata": {},
   "source": [
    "Сигнатуры функций, с помощью которых можно получить аттрибуты\n",
    "\n",
    "```c\n",
    "#include <sys/types.h>\n",
    "#include <sys/stat.h>\n",
    "#include <unistd.h>\n",
    "\n",
    "int stat(const char *pathname, struct stat *buf);\n",
    "int fstat(int fd, struct stat *buf);\n",
    "int lstat(const char *pathname, struct stat *buf);\n",
    "\n",
    "#include <fcntl.h>           /* Definition of AT_* constants */\n",
    "#include <sys/stat.h>\n",
    "\n",
    "int fstatat(int dirfd, const char *pathname, struct stat *buf,\n",
    "\t\t   int flags);\n",
    "```\n",
    "\n",
    "\n",
    "Описание структуры из `man 2 stat`:\n",
    "\n",
    "```c\n",
    "struct stat {\n",
    "   dev_t     st_dev;         /* ID of device containing file */\n",
    "   ino_t     st_ino;         /* inode number */\n",
    "   mode_t    st_mode;        /* protection */\n",
    "   nlink_t   st_nlink;       /* number of hard links */\n",
    "   uid_t     st_uid;         /* user ID of owner */\n",
    "   gid_t     st_gid;         /* group ID of owner */\n",
    "   dev_t     st_rdev;        /* device ID (if special file) */\n",
    "   off_t     st_size;        /* total size, in bytes */\n",
    "   blksize_t st_blksize;     /* blocksize for filesystem I/O */\n",
    "   blkcnt_t  st_blocks;      /* number of 512B blocks allocated */\n",
    "\n",
    "   /* Since Linux 2.6, the kernel supports nanosecond\n",
    "      precision for the following timestamp fields.\n",
    "      For the details before Linux 2.6, see NOTES. */\n",
    "\n",
    "   struct timespec st_atim;  /* time of last access */\n",
    "   struct timespec st_mtim;  /* time of last modification */\n",
    "   struct timespec st_ctim;  /* time of last status change */\n",
    "\n",
    "#define st_atime st_atim.tv_sec      /* Backward compatibility */\n",
    "#define st_mtime st_mtim.tv_sec\n",
    "#define st_ctime st_ctim.tv_sec\n",
    "};\n",
    "```\n",
    "\n",
    "Особый интерес будет представлять поле `.st_mode`\n",
    "\n",
    "Биты соответствующие маскам:\n",
    "* `0170000` - тип файла.\n",
    "\n",
    "  Эти биты стоит рассматривать как одно число, по значению которого можно определить тип файла. Сравнивая это число с:  \n",
    "    * `S_IFSOCK   0140000   socket`\n",
    "    * `S_IFLNK    0120000   symbolic link`\n",
    "    * `S_IFREG    0100000   regular file`\n",
    "    * `S_IFBLK    0060000   block device`\n",
    "    * `S_IFDIR    0040000   directory`\n",
    "    * `S_IFCHR    0020000   character device`\n",
    "    * `S_IFIFO    0010000   FIFO`\n",
    "* `0777` - права на файл.\n",
    "\n",
    "  Эти биты можно рассматривать как независимые биты, каджый из которых отвечает за право (пользователя, его группы, всех остальных) (читать/писать/выполнять) файл."
   ]
  },
  {
   "cell_type": "markdown",
   "metadata": {},
   "source": [
    "**fstat** - смотрит по файловому дескриптору"
   ]
  },
  {
   "cell_type": "code",
   "execution_count": 15,
   "metadata": {
    "scrolled": true
   },
   "outputs": [
    {
     "data": {
      "text/markdown": [
       "Run: `gcc stat.c -o stat.exe`"
      ],
      "text/plain": [
       "<IPython.core.display.Markdown object>"
      ]
     },
     "metadata": {},
     "output_type": "display_data"
    },
    {
     "data": {
      "text/markdown": [
       "Run: `rm -rf tmp && mkdir tmp && touch tmp/a && ln -s ./a tmp/a_link && mkdir tmp/dir`"
      ],
      "text/plain": [
       "<IPython.core.display.Markdown object>"
      ]
     },
     "metadata": {},
     "output_type": "display_data"
    },
    {
     "data": {
      "text/markdown": [
       "Run: `./stat.exe < tmp/a`"
      ],
      "text/plain": [
       "<IPython.core.display.Markdown object>"
      ]
     },
     "metadata": {},
     "output_type": "display_data"
    },
    {
     "name": "stdout",
     "output_type": "stream",
     "text": [
      "is regular: yes\r\n",
      "is directory: no\r\n",
      "is symbolic link: no\r\n"
     ]
    },
    {
     "data": {
      "text/markdown": [
       "Run: `./stat.exe < tmp/dir`"
      ],
      "text/plain": [
       "<IPython.core.display.Markdown object>"
      ]
     },
     "metadata": {},
     "output_type": "display_data"
    },
    {
     "name": "stdout",
     "output_type": "stream",
     "text": [
      "is regular: no\r\n",
      "is directory: yes\r\n",
      "is symbolic link: no\r\n"
     ]
    },
    {
     "data": {
      "text/markdown": [
       "Run: `./stat.exe < tmp/a_link`"
      ],
      "text/plain": [
       "<IPython.core.display.Markdown object>"
      ]
     },
     "metadata": {},
     "output_type": "display_data"
    },
    {
     "name": "stdout",
     "output_type": "stream",
     "text": [
      "is regular: yes\r\n",
      "is directory: no\r\n",
      "is symbolic link: no\r\n"
     ]
    }
   ],
   "source": [
    "%%cpp stat.c\n",
    "%run gcc stat.c -o stat.exe\n",
    "%run rm -rf tmp && mkdir tmp && touch tmp/a && ln -s ./a tmp/a_link && mkdir tmp/dir\n",
    "%run ./stat.exe < tmp/a\n",
    "%run ./stat.exe < tmp/dir\n",
    "%run ./stat.exe < tmp/a_link\n",
    "\n",
    "#include <sys/types.h>\n",
    "#include <sys/stat.h>\n",
    "#include <fcntl.h>\n",
    "#include <unistd.h>\n",
    "#include <stdio.h>\n",
    "#include <assert.h>\n",
    "\n",
    "int main(int argc, char *argv[])\n",
    "{   \n",
    "    struct stat s;\n",
    "    fstat(0, &s); // get stat for stdin\n",
    "    printf(\"is regular: %s\\n\", ((s.st_mode & S_IFMT) == S_IFREG) ? \"yes\" : \"no\"); // can use predefined mask\n",
    "    printf(\"is directory: %s\\n\", S_ISDIR(s.st_mode) ? \"yes\" : \"no\"); // or predefined macro\n",
    "    printf(\"is symbolic link: %s\\n\", S_ISLNK(s.st_mode) ? \"yes\" : \"no\"); \n",
    "    return 0;\n",
    "}"
   ]
  },
  {
   "cell_type": "markdown",
   "metadata": {},
   "source": [
    "Обратите внимание, что для симлинки результат показан как для регулярного файла, на который она ссылается.\n",
    "Тут, вероятно, замешан bash, который открывает файл на месте stdin для нашей программы. Видно, что он проходит по симлинкам.\n",
    "\n",
    "**stat** - смотри по имени файла, следует по симлинкам"
   ]
  },
  {
   "cell_type": "code",
   "execution_count": 16,
   "metadata": {},
   "outputs": [
    {
     "data": {
      "text/markdown": [
       "Run: `gcc stat.c -o stat.exe`"
      ],
      "text/plain": [
       "<IPython.core.display.Markdown object>"
      ]
     },
     "metadata": {},
     "output_type": "display_data"
    },
    {
     "data": {
      "text/markdown": [
       "Run: `rm -rf tmp && mkdir tmp && touch tmp/a && ln -s ./a tmp/a_link && mkdir tmp/dir`"
      ],
      "text/plain": [
       "<IPython.core.display.Markdown object>"
      ]
     },
     "metadata": {},
     "output_type": "display_data"
    },
    {
     "data": {
      "text/markdown": [
       "Run: `./stat.exe tmp/a`"
      ],
      "text/plain": [
       "<IPython.core.display.Markdown object>"
      ]
     },
     "metadata": {},
     "output_type": "display_data"
    },
    {
     "name": "stdout",
     "output_type": "stream",
     "text": [
      "is regular: yes\r\n",
      "is directory: no\r\n",
      "is symbolic link: no\r\n"
     ]
    },
    {
     "data": {
      "text/markdown": [
       "Run: `./stat.exe tmp/dir`"
      ],
      "text/plain": [
       "<IPython.core.display.Markdown object>"
      ]
     },
     "metadata": {},
     "output_type": "display_data"
    },
    {
     "name": "stdout",
     "output_type": "stream",
     "text": [
      "is regular: no\r\n",
      "is directory: yes\r\n",
      "is symbolic link: no\r\n"
     ]
    },
    {
     "data": {
      "text/markdown": [
       "Run: `./stat.exe tmp/a_link`"
      ],
      "text/plain": [
       "<IPython.core.display.Markdown object>"
      ]
     },
     "metadata": {},
     "output_type": "display_data"
    },
    {
     "name": "stdout",
     "output_type": "stream",
     "text": [
      "is regular: yes\r\n",
      "is directory: no\r\n",
      "is symbolic link: no\r\n"
     ]
    }
   ],
   "source": [
    "%%cpp stat.c\n",
    "%run gcc stat.c -o stat.exe\n",
    "%run rm -rf tmp && mkdir tmp && touch tmp/a && ln -s ./a tmp/a_link && mkdir tmp/dir\n",
    "%run ./stat.exe tmp/a\n",
    "%run ./stat.exe tmp/dir\n",
    "%run ./stat.exe tmp/a_link\n",
    "\n",
    "#include <sys/types.h>\n",
    "#include <sys/stat.h>\n",
    "#include <fcntl.h>\n",
    "#include <unistd.h>\n",
    "#include <stdio.h>\n",
    "#include <assert.h>\n",
    "\n",
    "int main(int argc, char *argv[])\n",
    "{   \n",
    "    assert(argc == 2);\n",
    "    struct stat s;\n",
    "    stat(argv[1], &s); // Следует по симлинкам\n",
    "    printf(\"is regular: %s\\n\", ((s.st_mode & S_IFMT) == S_IFREG) ? \"yes\" : \"no\"); \n",
    "    printf(\"is directory: %s\\n\", S_ISDIR(s.st_mode) ? \"yes\" : \"no\");\n",
    "    printf(\"is symbolic link: %s\\n\", S_ISLNK(s.st_mode) ? \"yes\" : \"no\");\n",
    "    return 0;\n",
    "}"
   ]
  },
  {
   "cell_type": "markdown",
   "metadata": {},
   "source": [
    "Обратите внимание, что для симлинки результат показан как для регулярного файла, на который она ссылается.\n",
    "\n",
    "**lstat** - смотрит по имени файла, не следует по симлинкам."
   ]
  },
  {
   "cell_type": "code",
   "execution_count": 17,
   "metadata": {},
   "outputs": [
    {
     "data": {
      "text/markdown": [
       "Run: `gcc stat.c -o stat.exe`"
      ],
      "text/plain": [
       "<IPython.core.display.Markdown object>"
      ]
     },
     "metadata": {},
     "output_type": "display_data"
    },
    {
     "data": {
      "text/markdown": [
       "Run: `rm -rf tmp && mkdir tmp && touch tmp/a && ln -s ./a tmp/a_link && mkdir tmp/dir`"
      ],
      "text/plain": [
       "<IPython.core.display.Markdown object>"
      ]
     },
     "metadata": {},
     "output_type": "display_data"
    },
    {
     "data": {
      "text/markdown": [
       "Run: `./stat.exe tmp/a`"
      ],
      "text/plain": [
       "<IPython.core.display.Markdown object>"
      ]
     },
     "metadata": {},
     "output_type": "display_data"
    },
    {
     "name": "stdout",
     "output_type": "stream",
     "text": [
      "is regular: yes\r\n",
      "is directory: no\r\n",
      "is symbolic link: no\r\n"
     ]
    },
    {
     "data": {
      "text/markdown": [
       "Run: `./stat.exe tmp/dir`"
      ],
      "text/plain": [
       "<IPython.core.display.Markdown object>"
      ]
     },
     "metadata": {},
     "output_type": "display_data"
    },
    {
     "name": "stdout",
     "output_type": "stream",
     "text": [
      "is regular: no\r\n",
      "is directory: yes\r\n",
      "is symbolic link: no\r\n"
     ]
    },
    {
     "data": {
      "text/markdown": [
       "Run: `./stat.exe tmp/a_link`"
      ],
      "text/plain": [
       "<IPython.core.display.Markdown object>"
      ]
     },
     "metadata": {},
     "output_type": "display_data"
    },
    {
     "name": "stdout",
     "output_type": "stream",
     "text": [
      "is regular: no\r\n",
      "is directory: no\r\n",
      "is symbolic link: yes\r\n"
     ]
    }
   ],
   "source": [
    "%%cpp stat.c\n",
    "%run gcc stat.c -o stat.exe\n",
    "%run rm -rf tmp && mkdir tmp && touch tmp/a && ln -s ./a tmp/a_link && mkdir tmp/dir\n",
    "%run ./stat.exe tmp/a\n",
    "%run ./stat.exe tmp/dir\n",
    "%run ./stat.exe tmp/a_link\n",
    "\n",
    "#include <sys/types.h>\n",
    "#include <sys/stat.h>\n",
    "#include <fcntl.h>\n",
    "#include <unistd.h>\n",
    "#include <stdio.h>\n",
    "#include <assert.h>\n",
    "\n",
    "int main(int argc, char *argv[])\n",
    "{   \n",
    "    assert(argc == 2);\n",
    "    struct stat s;\n",
    "    lstat(argv[1], &s); // Не следует по симлинкам, то есть можно узнать stat самого файла симлинки\n",
    "    printf(\"is regular: %s\\n\", ((s.st_mode & S_IFMT) == S_IFREG) ? \"yes\" : \"no\"); \n",
    "    printf(\"is directory: %s\\n\", S_ISDIR(s.st_mode) ? \"yes\" : \"no\");\n",
    "    printf(\"is symbolic link: %s\\n\", S_ISLNK(s.st_mode) ? \"yes\" : \"no\");\n",
    "    return 0;\n",
    "}"
   ]
  },
  {
   "cell_type": "markdown",
   "metadata": {},
   "source": [
    "Сейчас результат для симлинки показан как для самой симлинки. Так как используем специальную функцию.\n",
    "\n",
    "**open(...O_NOFOLLOW | O_PATH) + fstat** - открываем файл так, чтобы не следовать по симлинкам и далее смотрим его stat\n",
    "Кстати, открываем не очень честно. С опцией O_PATH нельзя потом применять read, write и еще некоторые операции."
   ]
  },
  {
   "cell_type": "code",
   "execution_count": 18,
   "metadata": {},
   "outputs": [
    {
     "data": {
      "text/markdown": [
       "Run: `gcc stat.c -o stat.exe`"
      ],
      "text/plain": [
       "<IPython.core.display.Markdown object>"
      ]
     },
     "metadata": {},
     "output_type": "display_data"
    },
    {
     "data": {
      "text/markdown": [
       "Run: `rm -rf tmp && mkdir tmp && touch tmp/a && ln -s ./a tmp/a_link && mkdir tmp/dir`"
      ],
      "text/plain": [
       "<IPython.core.display.Markdown object>"
      ]
     },
     "metadata": {},
     "output_type": "display_data"
    },
    {
     "data": {
      "text/markdown": [
       "Run: `./stat.exe tmp/a`"
      ],
      "text/plain": [
       "<IPython.core.display.Markdown object>"
      ]
     },
     "metadata": {},
     "output_type": "display_data"
    },
    {
     "name": "stdout",
     "output_type": "stream",
     "text": [
      "is regular: yes\r\n",
      "is directory: no\r\n",
      "is symbolic link: no\r\n"
     ]
    },
    {
     "data": {
      "text/markdown": [
       "Run: `./stat.exe tmp/dir`"
      ],
      "text/plain": [
       "<IPython.core.display.Markdown object>"
      ]
     },
     "metadata": {},
     "output_type": "display_data"
    },
    {
     "name": "stdout",
     "output_type": "stream",
     "text": [
      "is regular: no\r\n",
      "is directory: yes\r\n",
      "is symbolic link: no\r\n"
     ]
    },
    {
     "data": {
      "text/markdown": [
       "Run: `./stat.exe tmp/a_link`"
      ],
      "text/plain": [
       "<IPython.core.display.Markdown object>"
      ]
     },
     "metadata": {},
     "output_type": "display_data"
    },
    {
     "name": "stdout",
     "output_type": "stream",
     "text": [
      "is regular: no\r\n",
      "is directory: no\r\n",
      "is symbolic link: yes\r\n"
     ]
    }
   ],
   "source": [
    "%%cpp stat.c\n",
    "%run gcc stat.c -o stat.exe\n",
    "%run rm -rf tmp && mkdir tmp && touch tmp/a && ln -s ./a tmp/a_link && mkdir tmp/dir\n",
    "%run ./stat.exe tmp/a\n",
    "%run ./stat.exe tmp/dir\n",
    "%run ./stat.exe tmp/a_link\n",
    "\n",
    "#define _GNU_SOURCE // need for O_PATH\n",
    "\n",
    "#include <sys/types.h>\n",
    "#include <sys/stat.h>\n",
    "#include <fcntl.h>\n",
    "#include <unistd.h>\n",
    "#include <stdio.h>\n",
    "#include <assert.h>\n",
    "\n",
    "int main(int argc, char *argv[])\n",
    "{   \n",
    "    assert(argc == 2);\n",
    "    struct stat s;\n",
    "    int fd = open(argv[1], O_RDONLY | O_NOFOLLOW | O_PATH);\n",
    "    assert(fd >= 0);\n",
    "    fstat(fd, &s); \n",
    "    printf(\"is regular: %s\\n\", ((s.st_mode & S_IFMT) == S_IFREG) ? \"yes\" : \"no\"); \n",
    "    printf(\"is directory: %s\\n\", S_ISDIR(s.st_mode) ? \"yes\" : \"no\");\n",
    "    printf(\"is symbolic link: %s\\n\", S_ISLNK(s.st_mode) ? \"yes\" : \"no\");\n",
    "    close(fd);\n",
    "    return 0;\n",
    "}"
   ]
  },
  {
   "cell_type": "markdown",
   "metadata": {},
   "source": [
    "Здесь тоже результат показан для самой симлинки, поскольку вызываем open со специальными опциями, чтобы не следовать по симлинкам.\n",
    "\n",
    "**Поэтому важно понимать, какое поведение вы хотите и использовать stat, fstat или lstat**"
   ]
  },
  {
   "cell_type": "markdown",
   "metadata": {},
   "source": [
    "## Извлечем время доступа из атрибутов файла"
   ]
  },
  {
   "cell_type": "code",
   "execution_count": 8,
   "metadata": {},
   "outputs": [
    {
     "data": {
      "text/markdown": [
       "Run: `gcc stat.c -o stat.exe`"
      ],
      "text/plain": [
       "<IPython.core.display.Markdown object>"
      ]
     },
     "metadata": {},
     "output_type": "display_data"
    },
    {
     "data": {
      "text/markdown": [
       "Run: `rm -rf tmp && mkdir tmp`"
      ],
      "text/plain": [
       "<IPython.core.display.Markdown object>"
      ]
     },
     "metadata": {},
     "output_type": "display_data"
    },
    {
     "data": {
      "text/markdown": [
       "Run: `touch tmp/a && sleep 2`"
      ],
      "text/plain": [
       "<IPython.core.display.Markdown object>"
      ]
     },
     "metadata": {},
     "output_type": "display_data"
    },
    {
     "data": {
      "text/markdown": [
       "Run: `ln -s ./a tmp/a_link && sleep 2`"
      ],
      "text/plain": [
       "<IPython.core.display.Markdown object>"
      ]
     },
     "metadata": {},
     "output_type": "display_data"
    },
    {
     "data": {
      "text/markdown": [
       "Run: `mkdir tmp/dir`"
      ],
      "text/plain": [
       "<IPython.core.display.Markdown object>"
      ]
     },
     "metadata": {},
     "output_type": "display_data"
    },
    {
     "data": {
      "text/markdown": [
       "Run: `./stat.exe < tmp/a`"
      ],
      "text/plain": [
       "<IPython.core.display.Markdown object>"
      ]
     },
     "metadata": {},
     "output_type": "display_data"
    },
    {
     "name": "stdout",
     "output_type": "stream",
     "text": [
      "update time: Wed Nov  6 08:06:22 2019\r\n",
      "\r\n",
      "access time: Wed Nov  6 08:06:22 2019\r\n",
      "\r\n"
     ]
    },
    {
     "data": {
      "text/markdown": [
       "Run: `./stat.exe < tmp/dir`"
      ],
      "text/plain": [
       "<IPython.core.display.Markdown object>"
      ]
     },
     "metadata": {},
     "output_type": "display_data"
    },
    {
     "name": "stdout",
     "output_type": "stream",
     "text": [
      "update time: Wed Nov  6 08:06:26 2019\r\n",
      "\r\n",
      "access time: Wed Nov  6 08:06:26 2019\r\n",
      "\r\n"
     ]
    },
    {
     "data": {
      "text/markdown": [
       "Run: `./stat.exe < tmp/a_link`"
      ],
      "text/plain": [
       "<IPython.core.display.Markdown object>"
      ]
     },
     "metadata": {},
     "output_type": "display_data"
    },
    {
     "name": "stdout",
     "output_type": "stream",
     "text": [
      "update time: Wed Nov  6 08:06:22 2019\r\n",
      "\r\n",
      "access time: Wed Nov  6 08:06:22 2019\r\n",
      "\r\n"
     ]
    }
   ],
   "source": [
    "%%cpp stat.c\n",
    "%run gcc stat.c -o stat.exe\n",
    "\n",
    "%run rm -rf tmp && mkdir tmp \n",
    "%run touch tmp/a && sleep 2 \n",
    "%run ln -s ./a tmp/a_link && sleep 2 \n",
    "%run mkdir tmp/dir\n",
    "\n",
    "%run ./stat.exe < tmp/a\n",
    "%run ./stat.exe < tmp/dir \n",
    "%run ./stat.exe < tmp/a_link\n",
    "\n",
    "\n",
    "#include <sys/types.h>\n",
    "#include <sys/stat.h>\n",
    "#include <fcntl.h>\n",
    "#include <unistd.h>\n",
    "#include <stdio.h>\n",
    "#include <assert.h>\n",
    "#include <time.h>\n",
    "\n",
    "int main(int argc, char *argv[])\n",
    "{   \n",
    "    struct stat s;\n",
    "    fstat(0, &s); \n",
    "    \n",
    "    printf(\"update time: %s\\n\", asctime(gmtime(&s.st_mtim.tv_sec)));\n",
    "    printf(\"access time: %s\\n\", asctime(gmtime(&s.st_atim.tv_sec)));\n",
    "\n",
    "    return 0;\n",
    "}"
   ]
  },
  {
   "cell_type": "markdown",
   "metadata": {},
   "source": [
    "## example from man 2 stat"
   ]
  },
  {
   "cell_type": "code",
   "execution_count": 9,
   "metadata": {},
   "outputs": [
    {
     "data": {
      "text/markdown": [
       "Run: `gcc stat.c -o stat.exe`"
      ],
      "text/plain": [
       "<IPython.core.display.Markdown object>"
      ]
     },
     "metadata": {},
     "output_type": "display_data"
    },
    {
     "data": {
      "text/markdown": [
       "Run: `rm -rf tmp && mkdir tmp`"
      ],
      "text/plain": [
       "<IPython.core.display.Markdown object>"
      ]
     },
     "metadata": {},
     "output_type": "display_data"
    },
    {
     "data": {
      "text/markdown": [
       "Run: `touch tmp/a`"
      ],
      "text/plain": [
       "<IPython.core.display.Markdown object>"
      ]
     },
     "metadata": {},
     "output_type": "display_data"
    },
    {
     "data": {
      "text/markdown": [
       "Run: `ln -s ./a tmp/a_link`"
      ],
      "text/plain": [
       "<IPython.core.display.Markdown object>"
      ]
     },
     "metadata": {},
     "output_type": "display_data"
    },
    {
     "data": {
      "text/markdown": [
       "Run: `mkdir tmp/dir`"
      ],
      "text/plain": [
       "<IPython.core.display.Markdown object>"
      ]
     },
     "metadata": {},
     "output_type": "display_data"
    },
    {
     "data": {
      "text/markdown": [
       "Run: `./stat.exe tmp/a`"
      ],
      "text/plain": [
       "<IPython.core.display.Markdown object>"
      ]
     },
     "metadata": {},
     "output_type": "display_data"
    },
    {
     "name": "stdout",
     "output_type": "stream",
     "text": [
      "File type:                regular file\r\n",
      "I-node number:            1344257\r\n",
      "Mode:                     100664 (octal)\r\n",
      "Link count:               1\r\n",
      "Ownership:                UID=1000   GID=1000\r\n",
      "Preferred I/O block size: 4096 bytes\r\n",
      "File size:                0 bytes\r\n",
      "Blocks allocated:         0\r\n",
      "Last status change:       Wed Nov  6 11:06:57 2019\r\n",
      "Last file access:         Wed Nov  6 11:06:57 2019\r\n",
      "Last file modification:   Wed Nov  6 11:06:57 2019\r\n"
     ]
    },
    {
     "data": {
      "text/markdown": [
       "Run: `./stat.exe tmp/dir`"
      ],
      "text/plain": [
       "<IPython.core.display.Markdown object>"
      ]
     },
     "metadata": {},
     "output_type": "display_data"
    },
    {
     "name": "stdout",
     "output_type": "stream",
     "text": [
      "File type:                directory\r\n",
      "I-node number:            1344259\r\n",
      "Mode:                     40775 (octal)\r\n",
      "Link count:               2\r\n",
      "Ownership:                UID=1000   GID=1000\r\n",
      "Preferred I/O block size: 4096 bytes\r\n",
      "File size:                4096 bytes\r\n",
      "Blocks allocated:         8\r\n",
      "Last status change:       Wed Nov  6 11:06:57 2019\r\n",
      "Last file access:         Wed Nov  6 11:06:57 2019\r\n",
      "Last file modification:   Wed Nov  6 11:06:57 2019\r\n"
     ]
    },
    {
     "data": {
      "text/markdown": [
       "Run: `./stat.exe tmp/a_link`"
      ],
      "text/plain": [
       "<IPython.core.display.Markdown object>"
      ]
     },
     "metadata": {},
     "output_type": "display_data"
    },
    {
     "name": "stdout",
     "output_type": "stream",
     "text": [
      "File type:                regular file\r\n",
      "I-node number:            1344257\r\n",
      "Mode:                     100664 (octal)\r\n",
      "Link count:               1\r\n",
      "Ownership:                UID=1000   GID=1000\r\n",
      "Preferred I/O block size: 4096 bytes\r\n",
      "File size:                0 bytes\r\n",
      "Blocks allocated:         0\r\n",
      "Last status change:       Wed Nov  6 11:06:57 2019\r\n",
      "Last file access:         Wed Nov  6 11:06:57 2019\r\n",
      "Last file modification:   Wed Nov  6 11:06:57 2019\r\n"
     ]
    }
   ],
   "source": [
    "%%cpp stat.c\n",
    "%run gcc stat.c -o stat.exe\n",
    "\n",
    "%run rm -rf tmp && mkdir tmp \n",
    "%run touch tmp/a\n",
    "%run ln -s ./a tmp/a_link\n",
    "%run mkdir tmp/dir\n",
    "\n",
    "%run ./stat.exe tmp/a\n",
    "%run ./stat.exe tmp/dir \n",
    "%run ./stat.exe tmp/a_link\n",
    "\n",
    "#include <sys/types.h>\n",
    "#include <sys/stat.h>\n",
    "#include <time.h>\n",
    "#include <stdio.h>\n",
    "#include <stdlib.h>\n",
    "\n",
    "int\n",
    "main(int argc, char *argv[])\n",
    "{\n",
    "   struct stat sb;\n",
    "\n",
    "   if (argc != 2) {\n",
    "       fprintf(stderr, \"Usage: %s <pathname>\\n\", argv[0]);\n",
    "       exit(EXIT_FAILURE);\n",
    "   }\n",
    "\n",
    "   if (stat(argv[1], &sb) == -1) {\n",
    "       perror(\"stat\");\n",
    "       exit(EXIT_FAILURE);\n",
    "   }\n",
    "\n",
    "   printf(\"File type:                \");\n",
    "\n",
    "   switch (sb.st_mode & S_IFMT) {\n",
    "   case S_IFBLK:  printf(\"block device\\n\");            break;\n",
    "   case S_IFCHR:  printf(\"character device\\n\");        break;\n",
    "   case S_IFDIR:  printf(\"directory\\n\");               break;\n",
    "   case S_IFIFO:  printf(\"FIFO/pipe\\n\");               break;\n",
    "   case S_IFLNK:  printf(\"symlink\\n\");                 break;\n",
    "   case S_IFREG:  printf(\"regular file\\n\");            break;\n",
    "   case S_IFSOCK: printf(\"socket\\n\");                  break;\n",
    "   default:       printf(\"unknown?\\n\");                break;\n",
    "   }\n",
    "\n",
    "   printf(\"I-node number:            %ld\\n\", (long) sb.st_ino);\n",
    "\n",
    "   printf(\"Mode:                     %lo (octal)\\n\",\n",
    "           (unsigned long) sb.st_mode);\n",
    "\n",
    "   printf(\"Link count:               %ld\\n\", (long) sb.st_nlink);\n",
    "   printf(\"Ownership:                UID=%ld   GID=%ld\\n\",\n",
    "           (long) sb.st_uid, (long) sb.st_gid);\n",
    "\n",
    "   printf(\"Preferred I/O block size: %ld bytes\\n\",\n",
    "           (long) sb.st_blksize);\n",
    "   printf(\"File size:                %lld bytes\\n\",\n",
    "           (long long) sb.st_size);\n",
    "   printf(\"Blocks allocated:         %lld\\n\",\n",
    "           (long long) sb.st_blocks);\n",
    "\n",
    "   printf(\"Last status change:       %s\", ctime(&sb.st_ctime));\n",
    "   printf(\"Last file access:         %s\", ctime(&sb.st_atime));\n",
    "   printf(\"Last file modification:   %s\", ctime(&sb.st_mtime));\n",
    "\n",
    "   exit(EXIT_SUCCESS);\n",
    "}"
   ]
  },
  {
   "cell_type": "markdown",
   "metadata": {},
   "source": [
    "# get user string name"
   ]
  },
  {
   "cell_type": "code",
   "execution_count": 14,
   "metadata": {},
   "outputs": [
    {
     "data": {
      "text/markdown": [
       "Run: `gcc stat.c -o stat.exe`"
      ],
      "text/plain": [
       "<IPython.core.display.Markdown object>"
      ]
     },
     "metadata": {},
     "output_type": "display_data"
    },
    {
     "data": {
      "text/markdown": [
       "Run: `mkdir tmp2`"
      ],
      "text/plain": [
       "<IPython.core.display.Markdown object>"
      ]
     },
     "metadata": {},
     "output_type": "display_data"
    },
    {
     "name": "stdout",
     "output_type": "stream",
     "text": [
      "mkdir: cannot create directory ‘tmp2’: File exists\r\n"
     ]
    },
    {
     "data": {
      "text/markdown": [
       "Run: `touch tmp2/a # && sudo touch tmp2/b # create this file with sudo`"
      ],
      "text/plain": [
       "<IPython.core.display.Markdown object>"
      ]
     },
     "metadata": {},
     "output_type": "display_data"
    },
    {
     "data": {
      "text/markdown": [
       "Run: `./stat.exe < tmp2/a  # created by me`"
      ],
      "text/plain": [
       "<IPython.core.display.Markdown object>"
      ]
     },
     "metadata": {},
     "output_type": "display_data"
    },
    {
     "name": "stdout",
     "output_type": "stream",
     "text": [
      "pechatnov\r\n",
      "42\r\n"
     ]
    },
    {
     "data": {
      "text/markdown": [
       "Run: `./stat.exe < tmp2/b  # created by root (with sudo)`"
      ],
      "text/plain": [
       "<IPython.core.display.Markdown object>"
      ]
     },
     "metadata": {},
     "output_type": "display_data"
    },
    {
     "name": "stdout",
     "output_type": "stream",
     "text": [
      "root\r\n",
      "42\r\n"
     ]
    }
   ],
   "source": [
    "%%cpp stat.c\n",
    "%run gcc stat.c -o stat.exe\n",
    "%run mkdir tmp2\n",
    "%run touch tmp2/a # && sudo touch tmp2/b # create this file with sudo\n",
    "%run ./stat.exe < tmp2/a  # created by me\n",
    "%run ./stat.exe < tmp2/b  # created by root (with sudo)\n",
    "\n",
    "#include <sys/types.h>\n",
    "#include <sys/stat.h>\n",
    "#include <stdlib.h>\n",
    "#include <pwd.h>\n",
    "#include <stdio.h>\n",
    "#include <assert.h>\n",
    "\n",
    "int main(int argc, char *argv[])\n",
    "{\n",
    "    struct stat s;\n",
    "    fstat(0, &s);\n",
    "    struct passwd *pw = getpwuid(s.st_uid);\n",
    "    assert(pw);\n",
    "    printf(\"%s\\n\", pw->pw_name);\n",
    "    return 0;\n",
    "}"
   ]
  },
  {
   "cell_type": "markdown",
   "metadata": {},
   "source": [
    "# Проверка своих прав"
   ]
  },
  {
   "cell_type": "code",
   "execution_count": 20,
   "metadata": {},
   "outputs": [
    {
     "data": {
      "text/markdown": [
       "Run: `gcc stat.c -o stat.exe`"
      ],
      "text/plain": [
       "<IPython.core.display.Markdown object>"
      ]
     },
     "metadata": {},
     "output_type": "display_data"
    },
    {
     "data": {
      "text/markdown": [
       "Run: `rm -rf tmp2 && mkdir tmp2`"
      ],
      "text/plain": [
       "<IPython.core.display.Markdown object>"
      ]
     },
     "metadata": {},
     "output_type": "display_data"
    },
    {
     "data": {
      "text/markdown": [
       "Run: `touch tmp2/a`"
      ],
      "text/plain": [
       "<IPython.core.display.Markdown object>"
      ]
     },
     "metadata": {},
     "output_type": "display_data"
    },
    {
     "data": {
      "text/markdown": [
       "Run: `touch tmp2/b && chmod +x tmp2/b`"
      ],
      "text/plain": [
       "<IPython.core.display.Markdown object>"
      ]
     },
     "metadata": {},
     "output_type": "display_data"
    },
    {
     "data": {
      "text/markdown": [
       "Run: `./stat.exe tmp2/a  # usual`"
      ],
      "text/plain": [
       "<IPython.core.display.Markdown object>"
      ]
     },
     "metadata": {},
     "output_type": "display_data"
    },
    {
     "name": "stdout",
     "output_type": "stream",
     "text": [
      "Can execute: no\r\n"
     ]
    },
    {
     "data": {
      "text/markdown": [
       "Run: `./stat.exe tmp2/b  # executable`"
      ],
      "text/plain": [
       "<IPython.core.display.Markdown object>"
      ]
     },
     "metadata": {},
     "output_type": "display_data"
    },
    {
     "name": "stdout",
     "output_type": "stream",
     "text": [
      "Can execute: yes\r\n"
     ]
    }
   ],
   "source": [
    "%%cpp stat.c\n",
    "%run gcc stat.c -o stat.exe\n",
    "%run rm -rf tmp2 && mkdir tmp2\n",
    "%run touch tmp2/a \n",
    "%run touch tmp2/b && chmod +x tmp2/b \n",
    "%run ./stat.exe tmp2/a  # usual\n",
    "%run ./stat.exe tmp2/b  # executable\n",
    "\n",
    "#include <sys/types.h>\n",
    "#include <sys/stat.h>\n",
    "#include <stdlib.h>\n",
    "#include <unistd.h>\n",
    "#include <stdio.h>\n",
    "#include <assert.h>\n",
    "\n",
    "int main(int argc, char *argv[])\n",
    "{\n",
    "    assert(argc >= 1);\n",
    "    struct stat s;\n",
    "    printf(\"Can execute: %s\\n\", (access(argv[1], X_OK) == 0) ? \"yes\" : \"no\");\n",
    "    return 0;\n",
    "}"
   ]
  },
  {
   "cell_type": "code",
   "execution_count": null,
   "metadata": {},
   "outputs": [],
   "source": []
  }
 ],
 "metadata": {
  "kernelspec": {
   "display_name": "Python 3",
   "language": "python",
   "name": "python3"
  },
  "language_info": {
   "codemirror_mode": {
    "name": "ipython",
    "version": 3
   },
   "file_extension": ".py",
   "mimetype": "text/x-python",
   "name": "python",
   "nbconvert_exporter": "python",
   "pygments_lexer": "ipython3",
   "version": "3.5.2"
  }
 },
 "nbformat": 4,
 "nbformat_minor": 2
}
