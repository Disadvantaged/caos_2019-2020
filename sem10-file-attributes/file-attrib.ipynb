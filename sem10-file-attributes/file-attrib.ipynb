{
 "cells": [
  {
   "cell_type": "code",
   "execution_count": 1,
   "metadata": {},
   "outputs": [
    {
     "data": {
      "application/javascript": [
       "// setup cpp code highlighting\n",
       "IPython.CodeCell.options_default.highlight_modes[\"text/x-c++src\"] = {'reg':[/^%%cpp/]} ;"
      ],
      "text/plain": [
       "<IPython.core.display.Javascript object>"
      ]
     },
     "metadata": {},
     "output_type": "display_data"
    }
   ],
   "source": [
    "# initialize magics, look at previous notebooks for not compressed version\n",
    "exec('get_ipython().run_cell_magic(\\'javascript\\', \\'\\', \\'// setup cpp code highlighting\\\\nIPython.CodeCell.options_default.highlight_modes[\"text/x-c++src\"] = {\\\\\\'reg\\\\\\':[/^%%cpp/]} ;\\')\\n\\n# creating magics\\nfrom IPython.core.magic import register_cell_magic, register_line_magic\\nfrom IPython.display import display, Markdown\\n\\n@register_cell_magic\\ndef save_file(fname, cell):\\n    cell = cell if cell[-1] == \\'\\\\n\\' else cell + \"\\\\n\"\\n    cmds = []\\n    with open(fname, \"w\") as f:\\n        for line in cell.split(\"\\\\n\"):\\n            if line.startswith(\"%\"):\\n                run_prefix = \"%run \"\\n                assert line.startswith(run_prefix)\\n                cmds.append(line[len(run_prefix):].strip())\\n            else:\\n                f.write(line + \"\\\\n\")\\n    for cmd in cmds:\\n        display(Markdown(\"Run: `%s`\" % cmd))\\n        get_ipython().system(cmd)\\n\\n@register_cell_magic\\ndef cpp(fname, cell):\\n    save_file(fname, cell)\\n\\n@register_cell_magic\\ndef asm(fname, cell):\\n    save_file(fname, cell)\\n    \\n@register_cell_magic\\ndef makefile(fname, cell):\\n    assert not fname\\n    save_file(\"makefile\", cell.replace(\" \" * 4, \"\\\\t\"))\\n        \\n@register_line_magic\\ndef p(line):\\n    try:\\n        expr, comment = line.split(\" #\")\\n        display(Markdown(\"`{} = {}`  # {}\".format(expr.strip(), eval(expr), comment.strip())))\\n    except:\\n        display(Markdown(\"{} = {}\".format(line, eval(line))))\\n')"
   ]
  },
  {
   "cell_type": "markdown",
   "metadata": {},
   "source": [
    "# Аттрибуты файлов\n",
    "\n",
    "**fstat** - смотрит по файловому дескриптору"
   ]
  },
  {
   "cell_type": "code",
   "execution_count": 2,
   "metadata": {
    "scrolled": true
   },
   "outputs": [
    {
     "data": {
      "text/markdown": [
       "Run: `gcc stat.c -o stat.exe`"
      ],
      "text/plain": [
       "<IPython.core.display.Markdown object>"
      ]
     },
     "metadata": {},
     "output_type": "display_data"
    },
    {
     "data": {
      "text/markdown": [
       "Run: `rm -rf tmp && mkdir tmp && touch tmp/a && ln -s ./a tmp/a_link && mkdir tmp/dir`"
      ],
      "text/plain": [
       "<IPython.core.display.Markdown object>"
      ]
     },
     "metadata": {},
     "output_type": "display_data"
    },
    {
     "data": {
      "text/markdown": [
       "Run: `./stat.exe < tmp/a`"
      ],
      "text/plain": [
       "<IPython.core.display.Markdown object>"
      ]
     },
     "metadata": {},
     "output_type": "display_data"
    },
    {
     "name": "stdout",
     "output_type": "stream",
     "text": [
      "is regular: yes\r\n",
      "is directory: no\r\n",
      "is symbolic link: no\r\n"
     ]
    },
    {
     "data": {
      "text/markdown": [
       "Run: `./stat.exe < tmp/dir`"
      ],
      "text/plain": [
       "<IPython.core.display.Markdown object>"
      ]
     },
     "metadata": {},
     "output_type": "display_data"
    },
    {
     "name": "stdout",
     "output_type": "stream",
     "text": [
      "is regular: no\r\n",
      "is directory: yes\r\n",
      "is symbolic link: no\r\n"
     ]
    },
    {
     "data": {
      "text/markdown": [
       "Run: `./stat.exe < tmp/a_link`"
      ],
      "text/plain": [
       "<IPython.core.display.Markdown object>"
      ]
     },
     "metadata": {},
     "output_type": "display_data"
    },
    {
     "name": "stdout",
     "output_type": "stream",
     "text": [
      "is regular: yes\r\n",
      "is directory: no\r\n",
      "is symbolic link: no\r\n"
     ]
    }
   ],
   "source": [
    "%%cpp stat.c\n",
    "%run gcc stat.c -o stat.exe\n",
    "%run rm -rf tmp && mkdir tmp && touch tmp/a && ln -s ./a tmp/a_link && mkdir tmp/dir\n",
    "%run ./stat.exe < tmp/a\n",
    "%run ./stat.exe < tmp/dir\n",
    "%run ./stat.exe < tmp/a_link\n",
    "\n",
    "#include <sys/types.h>\n",
    "#include <sys/stat.h>\n",
    "#include <fcntl.h>\n",
    "#include <unistd.h>\n",
    "#include <stdio.h>\n",
    "#include <assert.h>\n",
    "\n",
    "int main(int argc, char *argv[])\n",
    "{   \n",
    "    struct stat s;\n",
    "    fstat(0, &s); // get stat for stdin\n",
    "    printf(\"is regular: %s\\n\", (S_IFREG & s.st_mode) ? \"yes\" : \"no\"); // can use predefined mask\n",
    "    printf(\"is directory: %s\\n\", S_ISDIR(s.st_mode) ? \"yes\" : \"no\"); // or predefined macro\n",
    "    printf(\"is symbolic link: %s\\n\", S_ISLNK(s.st_mode) ? \"yes\" : \"no\"); \n",
    "    return 0;\n",
    "}"
   ]
  },
  {
   "cell_type": "markdown",
   "metadata": {},
   "source": [
    "Обратите внимание, что для симлинки результат показан как для регулярного файла, на который она ссылается.\n",
    "Тут, вероятно, замешан bash, который открывает файл на месте stdin для нашей программы. Видно, что он проходит по симлинкам.\n",
    "\n",
    "**stat** - смотри по имени файла, следует по симлинкам"
   ]
  },
  {
   "cell_type": "code",
   "execution_count": 3,
   "metadata": {},
   "outputs": [
    {
     "data": {
      "text/markdown": [
       "Run: `gcc stat.c -o stat.exe`"
      ],
      "text/plain": [
       "<IPython.core.display.Markdown object>"
      ]
     },
     "metadata": {},
     "output_type": "display_data"
    },
    {
     "data": {
      "text/markdown": [
       "Run: `rm -rf tmp && mkdir tmp && touch tmp/a && ln -s ./a tmp/a_link && mkdir tmp/dir`"
      ],
      "text/plain": [
       "<IPython.core.display.Markdown object>"
      ]
     },
     "metadata": {},
     "output_type": "display_data"
    },
    {
     "data": {
      "text/markdown": [
       "Run: `./stat.exe tmp/a`"
      ],
      "text/plain": [
       "<IPython.core.display.Markdown object>"
      ]
     },
     "metadata": {},
     "output_type": "display_data"
    },
    {
     "name": "stdout",
     "output_type": "stream",
     "text": [
      "is regular: yes\r\n",
      "is directory: no\r\n",
      "is symbolic link: no\r\n"
     ]
    },
    {
     "data": {
      "text/markdown": [
       "Run: `./stat.exe tmp/dir`"
      ],
      "text/plain": [
       "<IPython.core.display.Markdown object>"
      ]
     },
     "metadata": {},
     "output_type": "display_data"
    },
    {
     "name": "stdout",
     "output_type": "stream",
     "text": [
      "is regular: no\r\n",
      "is directory: yes\r\n",
      "is symbolic link: no\r\n"
     ]
    },
    {
     "data": {
      "text/markdown": [
       "Run: `./stat.exe tmp/a_link`"
      ],
      "text/plain": [
       "<IPython.core.display.Markdown object>"
      ]
     },
     "metadata": {},
     "output_type": "display_data"
    },
    {
     "name": "stdout",
     "output_type": "stream",
     "text": [
      "is regular: yes\r\n",
      "is directory: no\r\n",
      "is symbolic link: no\r\n"
     ]
    }
   ],
   "source": [
    "%%cpp stat.c\n",
    "%run gcc stat.c -o stat.exe\n",
    "%run rm -rf tmp && mkdir tmp && touch tmp/a && ln -s ./a tmp/a_link && mkdir tmp/dir\n",
    "%run ./stat.exe tmp/a\n",
    "%run ./stat.exe tmp/dir\n",
    "%run ./stat.exe tmp/a_link\n",
    "\n",
    "#include <sys/types.h>\n",
    "#include <sys/stat.h>\n",
    "#include <fcntl.h>\n",
    "#include <unistd.h>\n",
    "#include <stdio.h>\n",
    "#include <assert.h>\n",
    "\n",
    "int main(int argc, char *argv[])\n",
    "{   \n",
    "    assert(argc == 2);\n",
    "    struct stat s;\n",
    "    stat(argv[1], &s); // Следует по симлинкам\n",
    "    printf(\"is regular: %s\\n\", (S_IFREG & s.st_mode) ? \"yes\" : \"no\"); \n",
    "    printf(\"is directory: %s\\n\", S_ISDIR(s.st_mode) ? \"yes\" : \"no\");\n",
    "    printf(\"is symbolic link: %s\\n\", S_ISLNK(s.st_mode) ? \"yes\" : \"no\");\n",
    "    return 0;\n",
    "}"
   ]
  },
  {
   "cell_type": "markdown",
   "metadata": {},
   "source": [
    "Обратите внимание, что для симлинки результат показан как для регулярного файла, на который она ссылается.\n",
    "\n",
    "**lstat** - смотрит по имени файла, не следует по симлинкам."
   ]
  },
  {
   "cell_type": "code",
   "execution_count": 4,
   "metadata": {},
   "outputs": [
    {
     "data": {
      "text/markdown": [
       "Run: `gcc stat.c -o stat.exe`"
      ],
      "text/plain": [
       "<IPython.core.display.Markdown object>"
      ]
     },
     "metadata": {},
     "output_type": "display_data"
    },
    {
     "data": {
      "text/markdown": [
       "Run: `rm -rf tmp && mkdir tmp && touch tmp/a && ln -s ./a tmp/a_link && mkdir tmp/dir`"
      ],
      "text/plain": [
       "<IPython.core.display.Markdown object>"
      ]
     },
     "metadata": {},
     "output_type": "display_data"
    },
    {
     "data": {
      "text/markdown": [
       "Run: `./stat.exe tmp/a`"
      ],
      "text/plain": [
       "<IPython.core.display.Markdown object>"
      ]
     },
     "metadata": {},
     "output_type": "display_data"
    },
    {
     "name": "stdout",
     "output_type": "stream",
     "text": [
      "is regular: yes\r\n",
      "is directory: no\r\n",
      "is symbolic link: no\r\n"
     ]
    },
    {
     "data": {
      "text/markdown": [
       "Run: `./stat.exe tmp/dir`"
      ],
      "text/plain": [
       "<IPython.core.display.Markdown object>"
      ]
     },
     "metadata": {},
     "output_type": "display_data"
    },
    {
     "name": "stdout",
     "output_type": "stream",
     "text": [
      "is regular: no\r\n",
      "is directory: yes\r\n",
      "is symbolic link: no\r\n"
     ]
    },
    {
     "data": {
      "text/markdown": [
       "Run: `./stat.exe tmp/a_link`"
      ],
      "text/plain": [
       "<IPython.core.display.Markdown object>"
      ]
     },
     "metadata": {},
     "output_type": "display_data"
    },
    {
     "name": "stdout",
     "output_type": "stream",
     "text": [
      "is regular: yes\r\n",
      "is directory: no\r\n",
      "is symbolic link: yes\r\n"
     ]
    }
   ],
   "source": [
    "%%cpp stat.c\n",
    "%run gcc stat.c -o stat.exe\n",
    "%run rm -rf tmp && mkdir tmp && touch tmp/a && ln -s ./a tmp/a_link && mkdir tmp/dir\n",
    "%run ./stat.exe tmp/a\n",
    "%run ./stat.exe tmp/dir\n",
    "%run ./stat.exe tmp/a_link\n",
    "\n",
    "#include <sys/types.h>\n",
    "#include <sys/stat.h>\n",
    "#include <fcntl.h>\n",
    "#include <unistd.h>\n",
    "#include <stdio.h>\n",
    "#include <assert.h>\n",
    "\n",
    "int main(int argc, char *argv[])\n",
    "{   \n",
    "    assert(argc == 2);\n",
    "    struct stat s;\n",
    "    lstat(argv[1], &s); // Не следует по симлинкам, то есть можно узнать stat самого файла симлинки\n",
    "    printf(\"is regular: %s\\n\", (S_IFREG & s.st_mode) ? \"yes\" : \"no\"); \n",
    "    printf(\"is directory: %s\\n\", S_ISDIR(s.st_mode) ? \"yes\" : \"no\");\n",
    "    printf(\"is symbolic link: %s\\n\", S_ISLNK(s.st_mode) ? \"yes\" : \"no\");\n",
    "    return 0;\n",
    "}"
   ]
  },
  {
   "cell_type": "markdown",
   "metadata": {},
   "source": [
    "Сейчас результат для симлинки показан как для самой симлинки. Так как используем специальную функцию.\n",
    "\n",
    "**open(...O_NOFOLLOW | O_PATH) + fstat** - открываем файл так, чтобы не следовать по симлинкам и далее смотрим его stat\n",
    "Кстати, открываем не очень честно. С опцией O_PATH нельзя потом применять read, write и еще некоторые операции."
   ]
  },
  {
   "cell_type": "code",
   "execution_count": 5,
   "metadata": {},
   "outputs": [
    {
     "data": {
      "text/markdown": [
       "Run: `gcc stat.c -o stat.exe`"
      ],
      "text/plain": [
       "<IPython.core.display.Markdown object>"
      ]
     },
     "metadata": {},
     "output_type": "display_data"
    },
    {
     "data": {
      "text/markdown": [
       "Run: `rm -rf tmp && mkdir tmp && touch tmp/a && ln -s ./a tmp/a_link && mkdir tmp/dir`"
      ],
      "text/plain": [
       "<IPython.core.display.Markdown object>"
      ]
     },
     "metadata": {},
     "output_type": "display_data"
    },
    {
     "data": {
      "text/markdown": [
       "Run: `./stat.exe tmp/a`"
      ],
      "text/plain": [
       "<IPython.core.display.Markdown object>"
      ]
     },
     "metadata": {},
     "output_type": "display_data"
    },
    {
     "name": "stdout",
     "output_type": "stream",
     "text": [
      "is regular: yes\r\n",
      "is directory: no\r\n",
      "is symbolic link: no\r\n"
     ]
    },
    {
     "data": {
      "text/markdown": [
       "Run: `./stat.exe tmp/dir`"
      ],
      "text/plain": [
       "<IPython.core.display.Markdown object>"
      ]
     },
     "metadata": {},
     "output_type": "display_data"
    },
    {
     "name": "stdout",
     "output_type": "stream",
     "text": [
      "is regular: no\r\n",
      "is directory: yes\r\n",
      "is symbolic link: no\r\n"
     ]
    },
    {
     "data": {
      "text/markdown": [
       "Run: `./stat.exe tmp/a_link`"
      ],
      "text/plain": [
       "<IPython.core.display.Markdown object>"
      ]
     },
     "metadata": {},
     "output_type": "display_data"
    },
    {
     "name": "stdout",
     "output_type": "stream",
     "text": [
      "is regular: yes\r\n",
      "is directory: no\r\n",
      "is symbolic link: yes\r\n"
     ]
    }
   ],
   "source": [
    "%%cpp stat.c\n",
    "%run gcc stat.c -o stat.exe\n",
    "%run rm -rf tmp && mkdir tmp && touch tmp/a && ln -s ./a tmp/a_link && mkdir tmp/dir\n",
    "%run ./stat.exe tmp/a\n",
    "%run ./stat.exe tmp/dir\n",
    "%run ./stat.exe tmp/a_link\n",
    "\n",
    "#define _GNU_SOURCE // need for O_PATH\n",
    "\n",
    "#include <sys/types.h>\n",
    "#include <sys/stat.h>\n",
    "#include <fcntl.h>\n",
    "#include <unistd.h>\n",
    "#include <stdio.h>\n",
    "#include <assert.h>\n",
    "\n",
    "int main(int argc, char *argv[])\n",
    "{   \n",
    "    assert(argc == 2);\n",
    "    struct stat s;\n",
    "    int fd = open(argv[1], O_RDONLY | O_NOFOLLOW | O_PATH);\n",
    "    assert(fd >= 0);\n",
    "    fstat(fd, &s); \n",
    "    printf(\"is regular: %s\\n\", (S_IFREG & s.st_mode) ? \"yes\" : \"no\"); \n",
    "    printf(\"is directory: %s\\n\", S_ISDIR(s.st_mode) ? \"yes\" : \"no\");\n",
    "    printf(\"is symbolic link: %s\\n\", S_ISLNK(s.st_mode) ? \"yes\" : \"no\");\n",
    "    close(fd);\n",
    "    return 0;\n",
    "}"
   ]
  },
  {
   "cell_type": "markdown",
   "metadata": {},
   "source": [
    "Здесь тоже результат показан для самой симлинки, поскольку вызываем open со специальными опциями, чтобы не следовать по симлинкам.\n",
    "\n",
    "**Поэтому важно понимать, какое поведение вы хотите и использовать stat, fstat или lstat**"
   ]
  },
  {
   "cell_type": "markdown",
   "metadata": {},
   "source": []
  },
  {
   "cell_type": "code",
   "execution_count": 6,
   "metadata": {},
   "outputs": [
    {
     "data": {
      "text/markdown": [
       "Run: `gcc stat.c -o stat.exe`"
      ],
      "text/plain": [
       "<IPython.core.display.Markdown object>"
      ]
     },
     "metadata": {},
     "output_type": "display_data"
    },
    {
     "data": {
      "text/markdown": [
       "Run: `rm -rf tmp && mkdir tmp`"
      ],
      "text/plain": [
       "<IPython.core.display.Markdown object>"
      ]
     },
     "metadata": {},
     "output_type": "display_data"
    },
    {
     "data": {
      "text/markdown": [
       "Run: `touch tmp/a && sleep 2`"
      ],
      "text/plain": [
       "<IPython.core.display.Markdown object>"
      ]
     },
     "metadata": {},
     "output_type": "display_data"
    },
    {
     "data": {
      "text/markdown": [
       "Run: `ln -s ./a tmp/a_link && sleep 2`"
      ],
      "text/plain": [
       "<IPython.core.display.Markdown object>"
      ]
     },
     "metadata": {},
     "output_type": "display_data"
    },
    {
     "data": {
      "text/markdown": [
       "Run: `mkdir tmp/dir`"
      ],
      "text/plain": [
       "<IPython.core.display.Markdown object>"
      ]
     },
     "metadata": {},
     "output_type": "display_data"
    },
    {
     "data": {
      "text/markdown": [
       "Run: `./stat.exe < tmp/a`"
      ],
      "text/plain": [
       "<IPython.core.display.Markdown object>"
      ]
     },
     "metadata": {},
     "output_type": "display_data"
    },
    {
     "name": "stdout",
     "output_type": "stream",
     "text": [
      "update time: Sat Nov  2 19:57:14 2019\r\n",
      "\r\n",
      "access time: Sat Nov  2 19:57:14 2019\r\n",
      "\r\n"
     ]
    },
    {
     "data": {
      "text/markdown": [
       "Run: `./stat.exe < tmp/dir`"
      ],
      "text/plain": [
       "<IPython.core.display.Markdown object>"
      ]
     },
     "metadata": {},
     "output_type": "display_data"
    },
    {
     "name": "stdout",
     "output_type": "stream",
     "text": [
      "update time: Sat Nov  2 19:57:18 2019\r\n",
      "\r\n",
      "access time: Sat Nov  2 19:57:18 2019\r\n",
      "\r\n"
     ]
    },
    {
     "data": {
      "text/markdown": [
       "Run: `./stat.exe < tmp/a_link`"
      ],
      "text/plain": [
       "<IPython.core.display.Markdown object>"
      ]
     },
     "metadata": {},
     "output_type": "display_data"
    },
    {
     "name": "stdout",
     "output_type": "stream",
     "text": [
      "update time: Sat Nov  2 19:57:14 2019\r\n",
      "\r\n",
      "access time: Sat Nov  2 19:57:14 2019\r\n",
      "\r\n"
     ]
    }
   ],
   "source": [
    "%%cpp stat.c\n",
    "%run gcc stat.c -o stat.exe\n",
    "\n",
    "%run rm -rf tmp && mkdir tmp \n",
    "%run touch tmp/a && sleep 2 \n",
    "%run ln -s ./a tmp/a_link && sleep 2 \n",
    "%run mkdir tmp/dir\n",
    "\n",
    "%run ./stat.exe < tmp/a\n",
    "%run ./stat.exe < tmp/dir \n",
    "%run ./stat.exe < tmp/a_link\n",
    "\n",
    "#define _GNU_SOURCE // need for O_PATH\n",
    "\n",
    "#include <sys/types.h>\n",
    "#include <sys/stat.h>\n",
    "#include <fcntl.h>\n",
    "#include <unistd.h>\n",
    "#include <stdio.h>\n",
    "#include <assert.h>\n",
    "#include <time.h>\n",
    "\n",
    "int main(int argc, char *argv[])\n",
    "{   \n",
    "    struct stat s;\n",
    "    fstat(0, &s); \n",
    "    \n",
    "    printf(\"update time: %s\\n\", asctime(gmtime(&s.st_mtim.tv_sec)));\n",
    "    printf(\"access time: %s\\n\", asctime(gmtime(&s.st_atim.tv_sec)));\n",
    "\n",
    "    return 0;\n",
    "}"
   ]
  },
  {
   "cell_type": "markdown",
   "metadata": {},
   "source": [
    "## example from man 2 stat"
   ]
  },
  {
   "cell_type": "code",
   "execution_count": 7,
   "metadata": {},
   "outputs": [
    {
     "data": {
      "text/markdown": [
       "Run: `gcc stat.c -o stat.exe`"
      ],
      "text/plain": [
       "<IPython.core.display.Markdown object>"
      ]
     },
     "metadata": {},
     "output_type": "display_data"
    },
    {
     "data": {
      "text/markdown": [
       "Run: `rm -rf tmp && mkdir tmp`"
      ],
      "text/plain": [
       "<IPython.core.display.Markdown object>"
      ]
     },
     "metadata": {},
     "output_type": "display_data"
    },
    {
     "data": {
      "text/markdown": [
       "Run: `touch tmp/a`"
      ],
      "text/plain": [
       "<IPython.core.display.Markdown object>"
      ]
     },
     "metadata": {},
     "output_type": "display_data"
    },
    {
     "data": {
      "text/markdown": [
       "Run: `ln -s ./a tmp/a_link`"
      ],
      "text/plain": [
       "<IPython.core.display.Markdown object>"
      ]
     },
     "metadata": {},
     "output_type": "display_data"
    },
    {
     "data": {
      "text/markdown": [
       "Run: `mkdir tmp/dir`"
      ],
      "text/plain": [
       "<IPython.core.display.Markdown object>"
      ]
     },
     "metadata": {},
     "output_type": "display_data"
    },
    {
     "data": {
      "text/markdown": [
       "Run: `./stat.exe tmp/a`"
      ],
      "text/plain": [
       "<IPython.core.display.Markdown object>"
      ]
     },
     "metadata": {},
     "output_type": "display_data"
    },
    {
     "name": "stdout",
     "output_type": "stream",
     "text": [
      "File type:                regular file\r\n",
      "I-node number:            1344371\r\n",
      "Mode:                     100664 (octal)\r\n",
      "Link count:               1\r\n",
      "Ownership:                UID=1000   GID=1000\r\n",
      "Preferred I/O block size: 4096 bytes\r\n",
      "File size:                0 bytes\r\n",
      "Blocks allocated:         0\r\n",
      "Last status change:       Sat Nov  2 22:57:19 2019\r\n",
      "Last file access:         Sat Nov  2 22:57:19 2019\r\n",
      "Last file modification:   Sat Nov  2 22:57:19 2019\r\n"
     ]
    },
    {
     "data": {
      "text/markdown": [
       "Run: `./stat.exe tmp/dir`"
      ],
      "text/plain": [
       "<IPython.core.display.Markdown object>"
      ]
     },
     "metadata": {},
     "output_type": "display_data"
    },
    {
     "name": "stdout",
     "output_type": "stream",
     "text": [
      "File type:                directory\r\n",
      "I-node number:            1344373\r\n",
      "Mode:                     40775 (octal)\r\n",
      "Link count:               2\r\n",
      "Ownership:                UID=1000   GID=1000\r\n",
      "Preferred I/O block size: 4096 bytes\r\n",
      "File size:                4096 bytes\r\n",
      "Blocks allocated:         8\r\n",
      "Last status change:       Sat Nov  2 22:57:19 2019\r\n",
      "Last file access:         Sat Nov  2 22:57:19 2019\r\n",
      "Last file modification:   Sat Nov  2 22:57:19 2019\r\n"
     ]
    },
    {
     "data": {
      "text/markdown": [
       "Run: `./stat.exe tmp/a_link`"
      ],
      "text/plain": [
       "<IPython.core.display.Markdown object>"
      ]
     },
     "metadata": {},
     "output_type": "display_data"
    },
    {
     "name": "stdout",
     "output_type": "stream",
     "text": [
      "File type:                regular file\r\n",
      "I-node number:            1344371\r\n",
      "Mode:                     100664 (octal)\r\n",
      "Link count:               1\r\n",
      "Ownership:                UID=1000   GID=1000\r\n",
      "Preferred I/O block size: 4096 bytes\r\n",
      "File size:                0 bytes\r\n",
      "Blocks allocated:         0\r\n",
      "Last status change:       Sat Nov  2 22:57:19 2019\r\n",
      "Last file access:         Sat Nov  2 22:57:19 2019\r\n",
      "Last file modification:   Sat Nov  2 22:57:19 2019\r\n"
     ]
    }
   ],
   "source": [
    "%%cpp stat.c\n",
    "%run gcc stat.c -o stat.exe\n",
    "\n",
    "%run rm -rf tmp && mkdir tmp \n",
    "%run touch tmp/a\n",
    "%run ln -s ./a tmp/a_link\n",
    "%run mkdir tmp/dir\n",
    "\n",
    "%run ./stat.exe tmp/a\n",
    "%run ./stat.exe tmp/dir \n",
    "%run ./stat.exe tmp/a_link\n",
    "\n",
    "#include <sys/types.h>\n",
    "#include <sys/stat.h>\n",
    "#include <time.h>\n",
    "#include <stdio.h>\n",
    "#include <stdlib.h>\n",
    "\n",
    "int\n",
    "main(int argc, char *argv[])\n",
    "{\n",
    "   struct stat sb;\n",
    "\n",
    "   if (argc != 2) {\n",
    "       fprintf(stderr, \"Usage: %s <pathname>\\n\", argv[0]);\n",
    "       exit(EXIT_FAILURE);\n",
    "   }\n",
    "\n",
    "   if (stat(argv[1], &sb) == -1) {\n",
    "       perror(\"stat\");\n",
    "       exit(EXIT_FAILURE);\n",
    "   }\n",
    "\n",
    "   printf(\"File type:                \");\n",
    "\n",
    "   switch (sb.st_mode & S_IFMT) {\n",
    "   case S_IFBLK:  printf(\"block device\\n\");            break;\n",
    "   case S_IFCHR:  printf(\"character device\\n\");        break;\n",
    "   case S_IFDIR:  printf(\"directory\\n\");               break;\n",
    "   case S_IFIFO:  printf(\"FIFO/pipe\\n\");               break;\n",
    "   case S_IFLNK:  printf(\"symlink\\n\");                 break;\n",
    "   case S_IFREG:  printf(\"regular file\\n\");            break;\n",
    "   case S_IFSOCK: printf(\"socket\\n\");                  break;\n",
    "   default:       printf(\"unknown?\\n\");                break;\n",
    "   }\n",
    "\n",
    "   printf(\"I-node number:            %ld\\n\", (long) sb.st_ino);\n",
    "\n",
    "   printf(\"Mode:                     %lo (octal)\\n\",\n",
    "           (unsigned long) sb.st_mode);\n",
    "\n",
    "   printf(\"Link count:               %ld\\n\", (long) sb.st_nlink);\n",
    "   printf(\"Ownership:                UID=%ld   GID=%ld\\n\",\n",
    "           (long) sb.st_uid, (long) sb.st_gid);\n",
    "\n",
    "   printf(\"Preferred I/O block size: %ld bytes\\n\",\n",
    "           (long) sb.st_blksize);\n",
    "   printf(\"File size:                %lld bytes\\n\",\n",
    "           (long long) sb.st_size);\n",
    "   printf(\"Blocks allocated:         %lld\\n\",\n",
    "           (long long) sb.st_blocks);\n",
    "\n",
    "   printf(\"Last status change:       %s\", ctime(&sb.st_ctime));\n",
    "   printf(\"Last file access:         %s\", ctime(&sb.st_atime));\n",
    "   printf(\"Last file modification:   %s\", ctime(&sb.st_mtime));\n",
    "\n",
    "   exit(EXIT_SUCCESS);\n",
    "}"
   ]
  },
  {
   "cell_type": "markdown",
   "metadata": {},
   "source": [
    "# get user string name"
   ]
  },
  {
   "cell_type": "code",
   "execution_count": 8,
   "metadata": {},
   "outputs": [
    {
     "data": {
      "text/markdown": [
       "Run: `gcc stat.c -o stat.exe`"
      ],
      "text/plain": [
       "<IPython.core.display.Markdown object>"
      ]
     },
     "metadata": {},
     "output_type": "display_data"
    },
    {
     "data": {
      "text/markdown": [
       "Run: `mkdir tmp2`"
      ],
      "text/plain": [
       "<IPython.core.display.Markdown object>"
      ]
     },
     "metadata": {},
     "output_type": "display_data"
    },
    {
     "name": "stdout",
     "output_type": "stream",
     "text": [
      "mkdir: cannot create directory ‘tmp2’: File exists\r\n"
     ]
    },
    {
     "data": {
      "text/markdown": [
       "Run: `touch tmp2/a # && sudo touch tmp2/b # create this file with sudo`"
      ],
      "text/plain": [
       "<IPython.core.display.Markdown object>"
      ]
     },
     "metadata": {},
     "output_type": "display_data"
    },
    {
     "data": {
      "text/markdown": [
       "Run: `./stat.exe < tmp2/a  # created by me`"
      ],
      "text/plain": [
       "<IPython.core.display.Markdown object>"
      ]
     },
     "metadata": {},
     "output_type": "display_data"
    },
    {
     "name": "stdout",
     "output_type": "stream",
     "text": [
      "pechatnov\r\n"
     ]
    },
    {
     "data": {
      "text/markdown": [
       "Run: `./stat.exe < tmp2/b  # created by root (with sudo)`"
      ],
      "text/plain": [
       "<IPython.core.display.Markdown object>"
      ]
     },
     "metadata": {},
     "output_type": "display_data"
    },
    {
     "name": "stdout",
     "output_type": "stream",
     "text": [
      "root\r\n"
     ]
    }
   ],
   "source": [
    "%%cpp stat.c\n",
    "%run gcc stat.c -o stat.exe\n",
    "%run mkdir tmp2\n",
    "%run touch tmp2/a # && sudo touch tmp2/b # create this file with sudo\n",
    "%run ./stat.exe < tmp2/a  # created by me\n",
    "%run ./stat.exe < tmp2/b  # created by root (with sudo)\n",
    "\n",
    "#include <sys/types.h>\n",
    "#include <sys/stat.h>\n",
    "#include <stdlib.h>\n",
    "#include <pwd.h>\n",
    "#include <stdio.h>\n",
    "#include <assert.h>\n",
    "\n",
    "int main(int argc, char *argv[])\n",
    "{\n",
    "    struct stat s;\n",
    "    fstat(0, &s);\n",
    "    struct passwd *pw = getpwuid(s.st_uid);\n",
    "    assert(pw);\n",
    "    printf(\"%s\\n\", pw->pw_name);\n",
    "    return 0;\n",
    "}"
   ]
  },
  {
   "cell_type": "code",
   "execution_count": null,
   "metadata": {},
   "outputs": [],
   "source": []
  },
  {
   "cell_type": "code",
   "execution_count": null,
   "metadata": {},
   "outputs": [],
   "source": []
  }
 ],
 "metadata": {
  "kernelspec": {
   "display_name": "Python 3",
   "language": "python",
   "name": "python3"
  },
  "language_info": {
   "codemirror_mode": {
    "name": "ipython",
    "version": 3
   },
   "file_extension": ".py",
   "mimetype": "text/x-python",
   "name": "python",
   "nbconvert_exporter": "python",
   "pygments_lexer": "ipython3",
   "version": "3.5.2"
  }
 },
 "nbformat": 4,
 "nbformat_minor": 2
}
