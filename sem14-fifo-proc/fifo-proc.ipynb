{
 "cells": [
  {
   "cell_type": "code",
   "execution_count": 194,
   "metadata": {},
   "outputs": [
    {
     "data": {
      "application/javascript": [
       "// setup cpp code highlighting\n",
       "IPython.CodeCell.options_default.highlight_modes[\"text/x-c++src\"] = {'reg':[/^%%cpp/]} ;"
      ],
      "text/plain": [
       "<IPython.core.display.Javascript object>"
      ]
     },
     "metadata": {},
     "output_type": "display_data"
    }
   ],
   "source": [
    "get_ipython().run_cell_magic('javascript', '', '// setup cpp code highlighting\\nIPython.CodeCell.options_default.highlight_modes[\"text/x-c++src\"] = {\\'reg\\':[/^%%cpp/]} ;')\n",
    "\n",
    "# creating magics\n",
    "from IPython.core.magic import register_cell_magic, register_line_magic\n",
    "from IPython.display import display, Markdown, HTML\n",
    "import argparse\n",
    "from subprocess import Popen, PIPE\n",
    "import random\n",
    "import sys\n",
    "\n",
    "@register_cell_magic\n",
    "def save_file(args_str, cell, line_comment_start=\"#\"):\n",
    "    parser = argparse.ArgumentParser()\n",
    "    parser.add_argument(\"fname\")\n",
    "    parser.add_argument(\"--ejudge-style\", action=\"store_true\")\n",
    "    args = parser.parse_args(args_str.split())\n",
    "    \n",
    "    cell = cell if cell[-1] == '\\n' or args.no_eof_newline else cell + \"\\n\"\n",
    "    cmds = []\n",
    "    with open(args.fname, \"w\") as f:\n",
    "        f.write(line_comment_start + \" %%cpp \" + args_str + \"\\n\")\n",
    "        for line in cell.split(\"\\n\"):\n",
    "            if line.startswith(\"%\"):\n",
    "                run_prefix = \"%run \"\n",
    "                assert line.startswith(run_prefix)\n",
    "                cmds.append(line[len(run_prefix):].strip())\n",
    "            else:\n",
    "                f.write((line if not args.ejudge_style else line.rstrip()) + \"\\n\")\n",
    "        f.write(\"\" if not args.ejudge_style else line_comment_start + r\" line without \\n\")\n",
    "    for cmd in cmds:\n",
    "        display(Markdown(\"Run: `%s`\" % cmd))\n",
    "        get_ipython().system(cmd)\n",
    "\n",
    "@register_cell_magic\n",
    "def cpp(fname, cell):\n",
    "    save_file(fname, cell, \"//\")\n",
    "\n",
    "@register_cell_magic\n",
    "def asm(fname, cell):\n",
    "    save_file(fname, cell, \"//\")\n",
    "    \n",
    "@register_cell_magic\n",
    "def makefile(fname, cell):\n",
    "    assert not fname\n",
    "    save_file(\"makefile\", cell.replace(\" \" * 4, \"\\t\"))\n",
    "        \n",
    "@register_line_magic\n",
    "def p(line):\n",
    "    try:\n",
    "        expr, comment = line.split(\" #\")\n",
    "        display(Markdown(\"`{} = {}`  # {}\".format(expr.strip(), eval(expr), comment.strip())))\n",
    "    except:\n",
    "        display(Markdown(\"{} = {}\".format(line, eval(line))))\n",
    "        \n",
    "def show_file(file, clear_at_begin=False):\n",
    "    if clear_at_begin:\n",
    "        get_ipython().system(\"truncate --size 0 \" + file)\n",
    "    obj = file.replace('.', '_').replace('/', '_') + \"_obj\"\n",
    "    display(HTML('''\n",
    "        <script type=text/javascript>\n",
    "        function refresh__OBJ__()\n",
    "        {\n",
    "            var elem = document.getElementById(\"__OBJ__\");\n",
    "            if (elem) {\n",
    "                var xmlhttp=new XMLHttpRequest();\n",
    "                xmlhttp.onreadystatechange=function()\n",
    "                {\n",
    "                    var elem2 = document.getElementById(\"__OBJ__1\");\n",
    "                    if (xmlhttp.readyState==4 && xmlhttp.status==200)\n",
    "                    {\n",
    "                        elem2.innerText = xmlhttp.responseText;\n",
    "                        // console.log(xmlhttp.responseText);\n",
    "                        return xmlhttp.responseText;\n",
    "                    }\n",
    "                }\n",
    "                xmlhttp.open(\"GET\", elem.data, true);\n",
    "                xmlhttp.send();    \n",
    "                elem.hidden = \"hidden\";\n",
    "                window.setTimeout(\"refresh__OBJ__()\", 300); \n",
    "            }\n",
    "        }\n",
    "        window.setTimeout(\"refresh__OBJ__()\", 300); \n",
    "        </script>\n",
    "        <div id=\"__OBJ__1\"></div>\n",
    "        <div><object id=\"__OBJ__\" data=\"__FILE__\", hidden=\"hidden\"></object></div>\n",
    "        '''.replace(\"__OBJ__\", obj)\n",
    "           .replace(\"__FILE__\", file)))\n",
    "    \n",
    "def bash_popen_terminate_all():\n",
    "    for p in globals().get(\"bash_popen_list\", []):\n",
    "        print(\"Terminate pid=\" + str(p.pid), file=sys.stderr)\n",
    "        p.terminate()\n",
    "        globals()[\"bash_popen_list\"] = []\n",
    "\n",
    "bash_popen_terminate_all()  \n",
    "\n",
    "def bash_popen(cmd):\n",
    "    original_cmd = cmd\n",
    "    h = \"tmp/\" + str(random.randint(0, 1e18))\n",
    "    \n",
    "    stdout = open(h + \".out.html\", \"wb\")\n",
    "    display(Markdown(\"**STDOUT** (interactive)\"))\n",
    "    show_file(h + \".out.html\", clear_at_begin=True)\n",
    "    \n",
    "    stdout = open(h + \".err.html\", \"wb\")\n",
    "    display(Markdown(\"**STDERR** (interactive)\"))\n",
    "    show_file(h + \".err.html\", clear_at_begin=True)\n",
    "    \n",
    "    fin_file = h + \".fin.html\"\n",
    "    cmd = \"echo 'Process started!' > \" + fin_file + \"; \" + cmd + \" ; echo \\\"Process finished! code=$?\\\" >> \" + fin_file\n",
    "    display(Markdown(\"**RUN LOG** (interactive, `\" + original_cmd + \"`)\"))\n",
    "    show_file(h + \".fin.html\", clear_at_begin=True)\n",
    "    \n",
    "    p = Popen([\"bash\", \"-c\", cmd], stdin=PIPE, stdout=stdout, stderr=stdout)\n",
    "    bash_popen_list.append(p)\n",
    "    return p\n",
    "\n",
    "\n",
    "@register_line_magic\n",
    "def bash_async(line):\n",
    "    bash_popen(line)"
   ]
  },
  {
   "cell_type": "markdown",
   "metadata": {},
   "source": [
    "# named FIFO\n",
    "\n",
    "Ранее мы познакомились с пайпами (анонимными fifo (далее буду называть просто pipe'ами)). Теперь же посмотрим на именованые.\n",
    "Отличие в том, что именоваванные fifo (дальше буду называть просто fifo) являются файлами в файловой системе linux. Соответственно они могут существовать, не будучи открытыми какой-либо программой. Как и файл их можно удалить.\n",
    "\n",
    "Как создать из консоли - `man mkfifo`, как создать из кода на C - `man 3 mkfifo`. Чтение и запись в fifo происходит так же как и с обычным файлом."
   ]
  },
  {
   "cell_type": "code",
   "execution_count": 211,
   "metadata": {},
   "outputs": [],
   "source": [
    "!rm -f my_fifo\n",
    "!mkfifo my_fifo"
   ]
  },
  {
   "cell_type": "code",
   "execution_count": 212,
   "metadata": {},
   "outputs": [
    {
     "name": "stdout",
     "output_type": "stream",
     "text": [
      "^C\r\n",
      "/bin/sh: 1: cannot create my_fifo: Interrupted system call\r\n"
     ]
    }
   ],
   "source": [
    "!echo \"Hello\" > my_fifo"
   ]
  },
  {
   "cell_type": "code",
   "execution_count": 213,
   "metadata": {
    "scrolled": true
   },
   "outputs": [
    {
     "data": {
      "text/markdown": [
       "**STDOUT** (interactive)"
      ],
      "text/plain": [
       "<IPython.core.display.Markdown object>"
      ]
     },
     "metadata": {},
     "output_type": "display_data"
    },
    {
     "data": {
      "text/html": [
       "\n",
       "        <script type=text/javascript>\n",
       "        function refreshtmp_69928660144861329_out_html_obj()\n",
       "        {\n",
       "            var elem = document.getElementById(\"tmp_69928660144861329_out_html_obj\");\n",
       "            if (elem) {\n",
       "                var xmlhttp=new XMLHttpRequest();\n",
       "                xmlhttp.onreadystatechange=function()\n",
       "                {\n",
       "                    var elem2 = document.getElementById(\"tmp_69928660144861329_out_html_obj1\");\n",
       "                    if (xmlhttp.readyState==4 && xmlhttp.status==200)\n",
       "                    {\n",
       "                        elem2.innerText = xmlhttp.responseText;\n",
       "                        // console.log(xmlhttp.responseText);\n",
       "                        return xmlhttp.responseText;\n",
       "                    }\n",
       "                }\n",
       "                xmlhttp.open(\"GET\", elem.data, true);\n",
       "                xmlhttp.send();    \n",
       "                elem.hidden = \"hidden\";\n",
       "                window.setTimeout(\"refreshtmp_69928660144861329_out_html_obj()\", 300); \n",
       "            }\n",
       "        }\n",
       "        window.setTimeout(\"refreshtmp_69928660144861329_out_html_obj()\", 300); \n",
       "        </script>\n",
       "        <div id=\"tmp_69928660144861329_out_html_obj1\"></div>\n",
       "        <div><object id=\"tmp_69928660144861329_out_html_obj\" data=\"tmp/69928660144861329.out.html\", hidden=\"hidden\"></object></div>\n",
       "        "
      ],
      "text/plain": [
       "<IPython.core.display.HTML object>"
      ]
     },
     "metadata": {},
     "output_type": "display_data"
    },
    {
     "data": {
      "text/markdown": [
       "**STDERR** (interactive)"
      ],
      "text/plain": [
       "<IPython.core.display.Markdown object>"
      ]
     },
     "metadata": {},
     "output_type": "display_data"
    },
    {
     "data": {
      "text/html": [
       "\n",
       "        <script type=text/javascript>\n",
       "        function refreshtmp_69928660144861329_err_html_obj()\n",
       "        {\n",
       "            var elem = document.getElementById(\"tmp_69928660144861329_err_html_obj\");\n",
       "            if (elem) {\n",
       "                var xmlhttp=new XMLHttpRequest();\n",
       "                xmlhttp.onreadystatechange=function()\n",
       "                {\n",
       "                    var elem2 = document.getElementById(\"tmp_69928660144861329_err_html_obj1\");\n",
       "                    if (xmlhttp.readyState==4 && xmlhttp.status==200)\n",
       "                    {\n",
       "                        elem2.innerText = xmlhttp.responseText;\n",
       "                        // console.log(xmlhttp.responseText);\n",
       "                        return xmlhttp.responseText;\n",
       "                    }\n",
       "                }\n",
       "                xmlhttp.open(\"GET\", elem.data, true);\n",
       "                xmlhttp.send();    \n",
       "                elem.hidden = \"hidden\";\n",
       "                window.setTimeout(\"refreshtmp_69928660144861329_err_html_obj()\", 300); \n",
       "            }\n",
       "        }\n",
       "        window.setTimeout(\"refreshtmp_69928660144861329_err_html_obj()\", 300); \n",
       "        </script>\n",
       "        <div id=\"tmp_69928660144861329_err_html_obj1\"></div>\n",
       "        <div><object id=\"tmp_69928660144861329_err_html_obj\" data=\"tmp/69928660144861329.err.html\", hidden=\"hidden\"></object></div>\n",
       "        "
      ],
      "text/plain": [
       "<IPython.core.display.HTML object>"
      ]
     },
     "metadata": {},
     "output_type": "display_data"
    },
    {
     "data": {
      "text/markdown": [
       "**RUN LOG** (interactive, `echo \"Hello\" > my_fifo ; echo \"After writing to my_fifo\"`)"
      ],
      "text/plain": [
       "<IPython.core.display.Markdown object>"
      ]
     },
     "metadata": {},
     "output_type": "display_data"
    },
    {
     "data": {
      "text/html": [
       "\n",
       "        <script type=text/javascript>\n",
       "        function refreshtmp_69928660144861329_fin_html_obj()\n",
       "        {\n",
       "            var elem = document.getElementById(\"tmp_69928660144861329_fin_html_obj\");\n",
       "            if (elem) {\n",
       "                var xmlhttp=new XMLHttpRequest();\n",
       "                xmlhttp.onreadystatechange=function()\n",
       "                {\n",
       "                    var elem2 = document.getElementById(\"tmp_69928660144861329_fin_html_obj1\");\n",
       "                    if (xmlhttp.readyState==4 && xmlhttp.status==200)\n",
       "                    {\n",
       "                        elem2.innerText = xmlhttp.responseText;\n",
       "                        // console.log(xmlhttp.responseText);\n",
       "                        return xmlhttp.responseText;\n",
       "                    }\n",
       "                }\n",
       "                xmlhttp.open(\"GET\", elem.data, true);\n",
       "                xmlhttp.send();    \n",
       "                elem.hidden = \"hidden\";\n",
       "                window.setTimeout(\"refreshtmp_69928660144861329_fin_html_obj()\", 300); \n",
       "            }\n",
       "        }\n",
       "        window.setTimeout(\"refreshtmp_69928660144861329_fin_html_obj()\", 300); \n",
       "        </script>\n",
       "        <div id=\"tmp_69928660144861329_fin_html_obj1\"></div>\n",
       "        <div><object id=\"tmp_69928660144861329_fin_html_obj\" data=\"tmp/69928660144861329.fin.html\", hidden=\"hidden\"></object></div>\n",
       "        "
      ],
      "text/plain": [
       "<IPython.core.display.HTML object>"
      ]
     },
     "metadata": {},
     "output_type": "display_data"
    }
   ],
   "source": [
    "%bash_async echo \"Hello\" > my_fifo ; echo \"After writing to my_fifo\""
   ]
  },
  {
   "cell_type": "code",
   "execution_count": 214,
   "metadata": {},
   "outputs": [
    {
     "name": "stdout",
     "output_type": "stream",
     "text": [
      "Hello\r\n"
     ]
    }
   ],
   "source": [
    "!cat my_fifo"
   ]
  },
  {
   "cell_type": "markdown",
   "metadata": {},
   "source": [
    "# Теперь на С\n",
    "Обратите внимание, что fifo не может открыться на запись, пока ее не начнут читать."
   ]
  },
  {
   "cell_type": "code",
   "execution_count": 241,
   "metadata": {},
   "outputs": [
    {
     "data": {
      "text/markdown": [
       "Run: `gcc write_fifo.cpp -o write_fifo.exe`"
      ],
      "text/plain": [
       "<IPython.core.display.Markdown object>"
      ]
     },
     "metadata": {},
     "output_type": "display_data"
    }
   ],
   "source": [
    "%%cpp write_fifo.cpp\n",
    "%run gcc write_fifo.cpp -o write_fifo.exe\n",
    "\n",
    "#include <stdio.h>\n",
    "#include <stdlib.h>\n",
    "#include <unistd.h>\n",
    "#include <assert.h>\n",
    "#include <sys/wait.h>\n",
    "#include <fcntl.h>\n",
    "\n",
    "int main() {\n",
    "    fprintf(stderr, \"Started\\n\"); fflush(stderr);\n",
    "    int fd = open(\"my_fifo\", O_WRONLY);\n",
    "    assert(fd >= 0);\n",
    "    fprintf(stderr, \"Opened\\n\"); fflush(stderr);\n",
    "    const char str[] = \"Hello from C!\\n\";\n",
    "    assert(write(fd, str, sizeof(str)) == sizeof(str));\n",
    "    fprintf(stderr, \"Written\\n\"); fflush(stderr);\n",
    "    assert(close(fd) == 0);\n",
    "    fprintf(stderr, \"Closed\\n\"); fflush(stderr);\n",
    "    return 0;\n",
    "}"
   ]
  },
  {
   "cell_type": "code",
   "execution_count": 242,
   "metadata": {},
   "outputs": [
    {
     "data": {
      "text/markdown": [
       "**STDOUT** (interactive)"
      ],
      "text/plain": [
       "<IPython.core.display.Markdown object>"
      ]
     },
     "metadata": {},
     "output_type": "display_data"
    },
    {
     "data": {
      "text/html": [
       "\n",
       "        <script type=text/javascript>\n",
       "        function refreshtmp_141103302578553425_out_html_obj()\n",
       "        {\n",
       "            var elem = document.getElementById(\"tmp_141103302578553425_out_html_obj\");\n",
       "            if (elem) {\n",
       "                var xmlhttp=new XMLHttpRequest();\n",
       "                xmlhttp.onreadystatechange=function()\n",
       "                {\n",
       "                    var elem2 = document.getElementById(\"tmp_141103302578553425_out_html_obj1\");\n",
       "                    if (xmlhttp.readyState==4 && xmlhttp.status==200)\n",
       "                    {\n",
       "                        elem2.innerText = xmlhttp.responseText;\n",
       "                        // console.log(xmlhttp.responseText);\n",
       "                        return xmlhttp.responseText;\n",
       "                    }\n",
       "                }\n",
       "                xmlhttp.open(\"GET\", elem.data, true);\n",
       "                xmlhttp.send();    \n",
       "                elem.hidden = \"hidden\";\n",
       "                window.setTimeout(\"refreshtmp_141103302578553425_out_html_obj()\", 300); \n",
       "            }\n",
       "        }\n",
       "        window.setTimeout(\"refreshtmp_141103302578553425_out_html_obj()\", 300); \n",
       "        </script>\n",
       "        <div id=\"tmp_141103302578553425_out_html_obj1\"></div>\n",
       "        <div><object id=\"tmp_141103302578553425_out_html_obj\" data=\"tmp/141103302578553425.out.html\", hidden=\"hidden\"></object></div>\n",
       "        "
      ],
      "text/plain": [
       "<IPython.core.display.HTML object>"
      ]
     },
     "metadata": {},
     "output_type": "display_data"
    },
    {
     "data": {
      "text/markdown": [
       "**STDERR** (interactive)"
      ],
      "text/plain": [
       "<IPython.core.display.Markdown object>"
      ]
     },
     "metadata": {},
     "output_type": "display_data"
    },
    {
     "data": {
      "text/html": [
       "\n",
       "        <script type=text/javascript>\n",
       "        function refreshtmp_141103302578553425_err_html_obj()\n",
       "        {\n",
       "            var elem = document.getElementById(\"tmp_141103302578553425_err_html_obj\");\n",
       "            if (elem) {\n",
       "                var xmlhttp=new XMLHttpRequest();\n",
       "                xmlhttp.onreadystatechange=function()\n",
       "                {\n",
       "                    var elem2 = document.getElementById(\"tmp_141103302578553425_err_html_obj1\");\n",
       "                    if (xmlhttp.readyState==4 && xmlhttp.status==200)\n",
       "                    {\n",
       "                        elem2.innerText = xmlhttp.responseText;\n",
       "                        // console.log(xmlhttp.responseText);\n",
       "                        return xmlhttp.responseText;\n",
       "                    }\n",
       "                }\n",
       "                xmlhttp.open(\"GET\", elem.data, true);\n",
       "                xmlhttp.send();    \n",
       "                elem.hidden = \"hidden\";\n",
       "                window.setTimeout(\"refreshtmp_141103302578553425_err_html_obj()\", 300); \n",
       "            }\n",
       "        }\n",
       "        window.setTimeout(\"refreshtmp_141103302578553425_err_html_obj()\", 300); \n",
       "        </script>\n",
       "        <div id=\"tmp_141103302578553425_err_html_obj1\"></div>\n",
       "        <div><object id=\"tmp_141103302578553425_err_html_obj\" data=\"tmp/141103302578553425.err.html\", hidden=\"hidden\"></object></div>\n",
       "        "
      ],
      "text/plain": [
       "<IPython.core.display.HTML object>"
      ]
     },
     "metadata": {},
     "output_type": "display_data"
    },
    {
     "data": {
      "text/markdown": [
       "**RUN LOG** (interactive, `./write_fifo.exe`)"
      ],
      "text/plain": [
       "<IPython.core.display.Markdown object>"
      ]
     },
     "metadata": {},
     "output_type": "display_data"
    },
    {
     "data": {
      "text/html": [
       "\n",
       "        <script type=text/javascript>\n",
       "        function refreshtmp_141103302578553425_fin_html_obj()\n",
       "        {\n",
       "            var elem = document.getElementById(\"tmp_141103302578553425_fin_html_obj\");\n",
       "            if (elem) {\n",
       "                var xmlhttp=new XMLHttpRequest();\n",
       "                xmlhttp.onreadystatechange=function()\n",
       "                {\n",
       "                    var elem2 = document.getElementById(\"tmp_141103302578553425_fin_html_obj1\");\n",
       "                    if (xmlhttp.readyState==4 && xmlhttp.status==200)\n",
       "                    {\n",
       "                        elem2.innerText = xmlhttp.responseText;\n",
       "                        // console.log(xmlhttp.responseText);\n",
       "                        return xmlhttp.responseText;\n",
       "                    }\n",
       "                }\n",
       "                xmlhttp.open(\"GET\", elem.data, true);\n",
       "                xmlhttp.send();    \n",
       "                elem.hidden = \"hidden\";\n",
       "                window.setTimeout(\"refreshtmp_141103302578553425_fin_html_obj()\", 300); \n",
       "            }\n",
       "        }\n",
       "        window.setTimeout(\"refreshtmp_141103302578553425_fin_html_obj()\", 300); \n",
       "        </script>\n",
       "        <div id=\"tmp_141103302578553425_fin_html_obj1\"></div>\n",
       "        <div><object id=\"tmp_141103302578553425_fin_html_obj\" data=\"tmp/141103302578553425.fin.html\", hidden=\"hidden\"></object></div>\n",
       "        "
      ],
      "text/plain": [
       "<IPython.core.display.HTML object>"
      ]
     },
     "metadata": {},
     "output_type": "display_data"
    }
   ],
   "source": [
    "%bash_async ./write_fifo.exe"
   ]
  },
  {
   "cell_type": "code",
   "execution_count": 246,
   "metadata": {},
   "outputs": [
    {
     "name": "stdout",
     "output_type": "stream",
     "text": [
      "Hello from C!\r\n",
      "\u0000"
     ]
    }
   ],
   "source": [
    "!cat my_fifo"
   ]
  },
  {
   "cell_type": "markdown",
   "metadata": {},
   "source": [
    "# Директория /proc/<pid\\>/*"
   ]
  },
  {
   "cell_type": "markdown",
   "metadata": {},
   "source": [
    "Интересная штука директория `/proc` это виртулаьная файловая система в которой можно получать сведения о процессах, читая из из файлов. (Это не обычные файлы на диске, а скорее некоторое view на сведения о процессах из ядра системы).\n",
    "\n",
    "Что есть в proc: http://man7.org/linux/man-pages/man5/proc.5.html\n",
    "\n",
    "Имеющая отношение к делу статья на хабре: https://habr.com/ru/post/209446/"
   ]
  },
  {
   "cell_type": "markdown",
   "metadata": {},
   "source": [
    "Посмотрим, что можно узнать о запущенном процессе:"
   ]
  },
  {
   "cell_type": "code",
   "execution_count": 218,
   "metadata": {},
   "outputs": [
    {
     "data": {
      "text/markdown": [
       "**STDOUT** (interactive)"
      ],
      "text/plain": [
       "<IPython.core.display.Markdown object>"
      ]
     },
     "metadata": {},
     "output_type": "display_data"
    },
    {
     "data": {
      "text/html": [
       "\n",
       "        <script type=text/javascript>\n",
       "        function refreshtmp_216195087402002832_out_html_obj()\n",
       "        {\n",
       "            var elem = document.getElementById(\"tmp_216195087402002832_out_html_obj\");\n",
       "            if (elem) {\n",
       "                var xmlhttp=new XMLHttpRequest();\n",
       "                xmlhttp.onreadystatechange=function()\n",
       "                {\n",
       "                    var elem2 = document.getElementById(\"tmp_216195087402002832_out_html_obj1\");\n",
       "                    if (xmlhttp.readyState==4 && xmlhttp.status==200)\n",
       "                    {\n",
       "                        elem2.innerText = xmlhttp.responseText;\n",
       "                        // console.log(xmlhttp.responseText);\n",
       "                        return xmlhttp.responseText;\n",
       "                    }\n",
       "                }\n",
       "                xmlhttp.open(\"GET\", elem.data, true);\n",
       "                xmlhttp.send();    \n",
       "                elem.hidden = \"hidden\";\n",
       "                window.setTimeout(\"refreshtmp_216195087402002832_out_html_obj()\", 300); \n",
       "            }\n",
       "        }\n",
       "        window.setTimeout(\"refreshtmp_216195087402002832_out_html_obj()\", 300); \n",
       "        </script>\n",
       "        <div id=\"tmp_216195087402002832_out_html_obj1\"></div>\n",
       "        <div><object id=\"tmp_216195087402002832_out_html_obj\" data=\"tmp/216195087402002832.out.html\", hidden=\"hidden\"></object></div>\n",
       "        "
      ],
      "text/plain": [
       "<IPython.core.display.HTML object>"
      ]
     },
     "metadata": {},
     "output_type": "display_data"
    },
    {
     "data": {
      "text/markdown": [
       "**STDERR** (interactive)"
      ],
      "text/plain": [
       "<IPython.core.display.Markdown object>"
      ]
     },
     "metadata": {},
     "output_type": "display_data"
    },
    {
     "data": {
      "text/html": [
       "\n",
       "        <script type=text/javascript>\n",
       "        function refreshtmp_216195087402002832_err_html_obj()\n",
       "        {\n",
       "            var elem = document.getElementById(\"tmp_216195087402002832_err_html_obj\");\n",
       "            if (elem) {\n",
       "                var xmlhttp=new XMLHttpRequest();\n",
       "                xmlhttp.onreadystatechange=function()\n",
       "                {\n",
       "                    var elem2 = document.getElementById(\"tmp_216195087402002832_err_html_obj1\");\n",
       "                    if (xmlhttp.readyState==4 && xmlhttp.status==200)\n",
       "                    {\n",
       "                        elem2.innerText = xmlhttp.responseText;\n",
       "                        // console.log(xmlhttp.responseText);\n",
       "                        return xmlhttp.responseText;\n",
       "                    }\n",
       "                }\n",
       "                xmlhttp.open(\"GET\", elem.data, true);\n",
       "                xmlhttp.send();    \n",
       "                elem.hidden = \"hidden\";\n",
       "                window.setTimeout(\"refreshtmp_216195087402002832_err_html_obj()\", 300); \n",
       "            }\n",
       "        }\n",
       "        window.setTimeout(\"refreshtmp_216195087402002832_err_html_obj()\", 300); \n",
       "        </script>\n",
       "        <div id=\"tmp_216195087402002832_err_html_obj1\"></div>\n",
       "        <div><object id=\"tmp_216195087402002832_err_html_obj\" data=\"tmp/216195087402002832.err.html\", hidden=\"hidden\"></object></div>\n",
       "        "
      ],
      "text/plain": [
       "<IPython.core.display.HTML object>"
      ]
     },
     "metadata": {},
     "output_type": "display_data"
    },
    {
     "data": {
      "text/markdown": [
       "**RUN LOG** (interactive, `echo \"Hello\" > my_fifo `)"
      ],
      "text/plain": [
       "<IPython.core.display.Markdown object>"
      ]
     },
     "metadata": {},
     "output_type": "display_data"
    },
    {
     "data": {
      "text/html": [
       "\n",
       "        <script type=text/javascript>\n",
       "        function refreshtmp_216195087402002832_fin_html_obj()\n",
       "        {\n",
       "            var elem = document.getElementById(\"tmp_216195087402002832_fin_html_obj\");\n",
       "            if (elem) {\n",
       "                var xmlhttp=new XMLHttpRequest();\n",
       "                xmlhttp.onreadystatechange=function()\n",
       "                {\n",
       "                    var elem2 = document.getElementById(\"tmp_216195087402002832_fin_html_obj1\");\n",
       "                    if (xmlhttp.readyState==4 && xmlhttp.status==200)\n",
       "                    {\n",
       "                        elem2.innerText = xmlhttp.responseText;\n",
       "                        // console.log(xmlhttp.responseText);\n",
       "                        return xmlhttp.responseText;\n",
       "                    }\n",
       "                }\n",
       "                xmlhttp.open(\"GET\", elem.data, true);\n",
       "                xmlhttp.send();    \n",
       "                elem.hidden = \"hidden\";\n",
       "                window.setTimeout(\"refreshtmp_216195087402002832_fin_html_obj()\", 300); \n",
       "            }\n",
       "        }\n",
       "        window.setTimeout(\"refreshtmp_216195087402002832_fin_html_obj()\", 300); \n",
       "        </script>\n",
       "        <div id=\"tmp_216195087402002832_fin_html_obj1\"></div>\n",
       "        <div><object id=\"tmp_216195087402002832_fin_html_obj\" data=\"tmp/216195087402002832.fin.html\", hidden=\"hidden\"></object></div>\n",
       "        "
      ],
      "text/plain": [
       "<IPython.core.display.HTML object>"
      ]
     },
     "metadata": {},
     "output_type": "display_data"
    }
   ],
   "source": [
    "# запустим процесс в фоне\n",
    "%bash_async echo \"Hello\" > my_fifo "
   ]
  },
  {
   "cell_type": "code",
   "execution_count": 219,
   "metadata": {},
   "outputs": [
    {
     "name": "stdout",
     "output_type": "stream",
     "text": [
      "pechatn+  1642  0.0  0.0  19584   912 ?        S    Dec03   0:00 bash -c echo \"Hello\" > my_fifo && echo \"Printed!\"\r\n",
      "pechatn+ 11376  0.0  0.0  19588  1056 ?        S    10:39   0:00 bash -c echo 'Process started!' > tmp/216195087402002832.fin.html; echo \"Hello\" > my_fifo  ; echo \"Process finished! code=$?\" >> tmp/216195087402002832.fin.html\r\n",
      "pechatn+ 11377  0.0  0.0   4504   792 pts/25   Ss+  10:39   0:00 /bin/sh -c ps aux | grep Hello\r\n",
      "pechatn+ 11379  0.0  0.0  21292   940 pts/25   S+   10:39   0:00 grep Hello\r\n"
     ]
    }
   ],
   "source": [
    "!ps aux | grep Hello"
   ]
  },
  {
   "cell_type": "code",
   "execution_count": 245,
   "metadata": {},
   "outputs": [
    {
     "name": "stdout",
     "output_type": "stream",
     "text": [
      "Name:\twrite_fifo.exe\r\n",
      "Umask:\t0002\r\n",
      "State:\tS (sleeping)\r\n",
      "Tgid:\t11444\r\n",
      "Ngid:\t0\r\n",
      "Pid:\t11444\r\n",
      "PPid:\t11443\r\n",
      "TracerPid:\t0\r\n",
      "Uid:\t1000\t1000\t1000\t1000\r\n",
      "Gid:\t1000\t1000\t1000\t1000\r\n",
      "FDSize:\t64\r\n",
      "Groups:\t4 24 27 30 46 113 128 130 999 1000 \r\n",
      "NStgid:\t11444\r\n",
      "NSpid:\t11444\r\n",
      "NSpgid:\t4234\r\n",
      "NSsid:\t4234\r\n",
      "VmPeak:\t    4356 kB\r\n",
      "VmSize:\t    4220 kB\r\n",
      "VmLck:\t       0 kB\r\n",
      "VmPin:\t       0 kB\r\n",
      "VmHWM:\t     628 kB\r\n",
      "VmRSS:\t     628 kB\r\n",
      "RssAnon:\t      68 kB\r\n",
      "RssFile:\t     560 kB\r\n",
      "RssShmem:\t       0 kB\r\n",
      "VmData:\t      48 kB\r\n",
      "VmStk:\t     132 kB\r\n",
      "VmExe:\t       4 kB\r\n",
      "VmLib:\t    1952 kB\r\n",
      "VmPTE:\t      48 kB\r\n",
      "VmSwap:\t       0 kB\r\n",
      "HugetlbPages:\t       0 kB\r\n",
      "CoreDumping:\t0\r\n",
      "Threads:\t1\r\n",
      "SigQ:\t19/7738\r\n",
      "SigPnd:\t0000000000000000\r\n",
      "ShdPnd:\t0000000000000000\r\n",
      "SigBlk:\t0000000000000000\r\n",
      "SigIgn:\t0000000000000000\r\n",
      "SigCgt:\t0000000000000000\r\n",
      "CapInh:\t0000000000000000\r\n",
      "CapPrm:\t0000000000000000\r\n",
      "CapEff:\t0000000000000000\r\n",
      "CapBnd:\t0000003fffffffff\r\n",
      "CapAmb:\t0000000000000000\r\n",
      "NoNewPrivs:\t0\r\n",
      "Seccomp:\t0\r\n",
      "Speculation_Store_Bypass:\tvulnerable\r\n",
      "Cpus_allowed:\t1\r\n",
      "Cpus_allowed_list:\t0\r\n",
      "Mems_allowed:\t00000000,00000000,00000000,00000000,00000000,00000000,00000000,00000000,00000000,00000000,00000000,00000000,00000000,00000000,00000000,00000000,00000000,00000000,00000000,00000000,00000000,00000000,00000000,00000000,00000000,00000000,00000000,00000000,00000000,00000000,00000000,00000001\r\n",
      "Mems_allowed_list:\t0\r\n",
      "voluntary_ctxt_switches:\t1\r\n",
      "nonvoluntary_ctxt_switches:\t0\r\n"
     ]
    }
   ],
   "source": [
    "!cat /proc/11444/status"
   ]
  },
  {
   "cell_type": "code",
   "execution_count": 221,
   "metadata": {},
   "outputs": [
    {
     "name": "stdout",
     "output_type": "stream",
     "text": [
      "Hello\r\n"
     ]
    }
   ],
   "source": [
    "!cat my_fifo"
   ]
  },
  {
   "cell_type": "code",
   "execution_count": 244,
   "metadata": {},
   "outputs": [
    {
     "name": "stdout",
     "output_type": "stream",
     "text": [
      "pechatn+ 11443  0.0  0.1  19596  3036 ?        S    10:43   0:00 bash -c echo 'Process started!' > tmp/141103302578553425.fin.html; ./write_fifo.exe ; echo \"Process finished! code=$?\" >> tmp/141103302578553425.fin.html\r\n",
      "pechatn+ 11444  0.0  0.0   4220   628 ?        S    10:43   0:00 ./write_fifo.exe\r\n",
      "pechatn+ 11448  0.0  0.0   4504   784 pts/25   Ss+  10:43   0:00 /bin/sh -c ps aux | grep write_fifo \r\n",
      "pechatn+ 11450  0.0  0.0  21292  1016 pts/25   S+   10:43   0:00 grep write_fifo\r\n"
     ]
    }
   ],
   "source": [
    "!ps aux | grep write_fifo "
   ]
  },
  {
   "cell_type": "code",
   "execution_count": null,
   "metadata": {},
   "outputs": [],
   "source": []
  },
  {
   "cell_type": "markdown",
   "metadata": {},
   "source": [
    "# Пример применения на моей практике\n",
    "Только на семинаре"
   ]
  },
  {
   "cell_type": "code",
   "execution_count": null,
   "metadata": {},
   "outputs": [],
   "source": []
  }
 ],
 "metadata": {
  "kernelspec": {
   "display_name": "Python 3",
   "language": "python",
   "name": "python3"
  },
  "language_info": {
   "codemirror_mode": {
    "name": "ipython",
    "version": 3
   },
   "file_extension": ".py",
   "mimetype": "text/x-python",
   "name": "python",
   "nbconvert_exporter": "python",
   "pygments_lexer": "ipython3",
   "version": "3.5.2"
  }
 },
 "nbformat": 4,
 "nbformat_minor": 2
}
