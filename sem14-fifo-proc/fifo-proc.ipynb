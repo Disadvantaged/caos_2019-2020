{
 "cells": [
  {
   "cell_type": "code",
   "execution_count": 322,
   "metadata": {},
   "outputs": [
    {
     "data": {
      "application/javascript": [
       "// setup cpp code highlighting\n",
       "IPython.CodeCell.options_default.highlight_modes[\"text/x-c++src\"] = {'reg':[/^%%cpp/]} ;"
      ],
      "text/plain": [
       "<IPython.core.display.Javascript object>"
      ]
     },
     "metadata": {},
     "output_type": "display_data"
    }
   ],
   "source": [
    "# look at tools/set_up_magics.ipynb\n",
    "get_ipython().run_cell('# one_liner_str\\n\\nget_ipython().run_cell_magic(\\'javascript\\', \\'\\', \\'// setup cpp code highlighting\\\\nIPython.CodeCell.options_default.highlight_modes[\"text/x-c++src\"] = {\\\\\\'reg\\\\\\':[/^%%cpp/]} ;\\')\\n\\n# creating magics\\nfrom IPython.core.magic import register_cell_magic, register_line_magic\\nfrom IPython.display import display, Markdown, HTML\\nimport argparse\\nfrom subprocess import Popen, PIPE\\nimport random\\nimport sys\\n\\n@register_cell_magic\\ndef save_file(args_str, cell, line_comment_start=\"#\"):\\n    parser = argparse.ArgumentParser()\\n    parser.add_argument(\"fname\")\\n    parser.add_argument(\"--ejudge-style\", action=\"store_true\")\\n    args = parser.parse_args(args_str.split())\\n    \\n    cell = cell if cell[-1] == \\'\\\\n\\' or args.no_eof_newline else cell + \"\\\\n\"\\n    cmds = []\\n    with open(args.fname, \"w\") as f:\\n        f.write(line_comment_start + \" %%cpp \" + args_str + \"\\\\n\")\\n        for line in cell.split(\"\\\\n\"):\\n            line_to_write = (line if not args.ejudge_style else line.rstrip()) + \"\\\\n\"\\n            if line.startswith(\"%\"):\\n                run_prefix = \"%run \"\\n                assert line.startswith(run_prefix)\\n                cmds.append(line[len(run_prefix):].strip())\\n                f.write(line_comment_start + \" \" + line_to_write)\\n            else:\\n                f.write(line_to_write)\\n        f.write(\"\" if not args.ejudge_style else line_comment_start + r\" line without \\\\n\")\\n    for cmd in cmds:\\n        display(Markdown(\"Run: `%s`\" % cmd))\\n        get_ipython().system(cmd)\\n\\n@register_cell_magic\\ndef cpp(fname, cell):\\n    save_file(fname, cell, \"//\")\\n\\n@register_cell_magic\\ndef asm(fname, cell):\\n    save_file(fname, cell, \"//\")\\n    \\n@register_cell_magic\\ndef makefile(fname, cell):\\n    assert not fname\\n    save_file(\"makefile\", cell.replace(\" \" * 4, \"\\\\t\"))\\n        \\n@register_line_magic\\ndef p(line):\\n    try:\\n        expr, comment = line.split(\" #\")\\n        display(Markdown(\"`{} = {}`  # {}\".format(expr.strip(), eval(expr), comment.strip())))\\n    except:\\n        display(Markdown(\"{} = {}\".format(line, eval(line))))\\n        \\ndef show_file(file, clear_at_begin=False):\\n    if clear_at_begin:\\n        get_ipython().system(\"truncate --size 0 \" + file)\\n    obj = file.replace(\\'.\\', \\'_\\').replace(\\'/\\', \\'_\\') + \"_obj\"\\n    display(HTML(\\'\\'\\'\\n        <script type=text/javascript>\\n        function refresh__OBJ__()\\n        {\\n            var elem = document.getElementById(\"__OBJ__\");\\n            if (elem) {\\n                var xmlhttp=new XMLHttpRequest();\\n                xmlhttp.onreadystatechange=function()\\n                {\\n                    var elem2 = document.getElementById(\"__OBJ__1\");\\n                    if (xmlhttp.readyState==4 && xmlhttp.status==200)\\n                    {\\n                        elem2.innerText = xmlhttp.responseText;\\n                        // console.log(xmlhttp.responseText);\\n                        return xmlhttp.responseText;\\n                    }\\n                }\\n                xmlhttp.open(\"GET\", elem.data, true);\\n                xmlhttp.send();    \\n                elem.hidden = \"hidden\";\\n                window.setTimeout(\"refresh__OBJ__()\", 300); \\n            }\\n        }\\n        window.setTimeout(\"refresh__OBJ__()\", 300); \\n        </script>\\n        <div id=\"__OBJ__1\"></div>\\n        <div><object id=\"__OBJ__\" data=\"__FILE__\", hidden=\"hidden\"></object></div>\\n        \\'\\'\\'.replace(\"__OBJ__\", obj)\\n           .replace(\"__FILE__\", file)))\\n    \\ndef bash_popen_terminate_all():\\n    for p in globals().get(\"bash_popen_list\", []):\\n        print(\"Terminate pid=\" + str(p.pid), file=sys.stderr)\\n        p.terminate()\\n        globals()[\"bash_popen_list\"] = []\\n\\nbash_popen_terminate_all()  \\n\\ndef bash_popen(cmd):\\n    original_cmd = cmd\\n    h = \"tmp/\" + str(random.randint(0, 1e18))\\n    \\n    stdout = open(h + \".out.html\", \"wb\")\\n    display(Markdown(\"**STDOUT** (interactive)\"))\\n    show_file(h + \".out.html\", clear_at_begin=True)\\n    \\n    stdout = open(h + \".err.html\", \"wb\")\\n    display(Markdown(\"**STDERR** (interactive)\"))\\n    show_file(h + \".err.html\", clear_at_begin=True)\\n    \\n    fin_file = h + \".fin.html\"\\n    cmd = \"echo \\'Process started!\\' > \" + fin_file + \"; \" + cmd + \" ; echo \\\\\"Process finished! code=$?\\\\\" >> \" + fin_file\\n    display(Markdown(\"**RUN LOG** (interactive, `\" + original_cmd + \"`)\"))\\n    show_file(h + \".fin.html\", clear_at_begin=True)\\n    \\n    p = Popen([\"bash\", \"-c\", cmd], stdin=PIPE, stdout=stdout, stderr=stdout)\\n    bash_popen_list.append(p)\\n    return p\\n\\n\\n@register_line_magic\\ndef bash_async(line):\\n    bash_popen(line)\\n    \\ndef make_oneliner():\\n    return \\'# look at tools/set_up_magics.ipynb\\\\nget_ipython().run_cell(%s)\\\\nNone\\' % repr(one_liner_str)\\n')\n",
    "None"
   ]
  },
  {
   "cell_type": "markdown",
   "metadata": {},
   "source": [
    "# named FIFO\n",
    "\n",
    "Ранее мы познакомились с пайпами (анонимными fifo (далее буду называть просто pipe'ами)). Теперь же посмотрим на именованые.\n",
    "Отличие в том, что именоваванные fifo (дальше буду называть просто fifo) являются файлами в файловой системе linux. Соответственно они могут существовать, не будучи открытыми какой-либо программой. Как и файл их можно удалить.\n",
    "\n",
    "Как создать из консоли - `man mkfifo`, как создать из кода на C - `man 3 mkfifo`. Чтение и запись в fifo происходит так же как и с обычным файлом.\n",
    "\n",
    "**Важно:** fifo, это файл читаемый двумя процессами и важно, кто открыл процесс на запись, кто на чтение. Например, fifo не может быть открыта на запись, пока кто-нибудь не открыл ее на чтение."
   ]
  },
  {
   "cell_type": "code",
   "execution_count": 323,
   "metadata": {},
   "outputs": [],
   "source": [
    "!rm -f my_fifo\n",
    "!mkfifo my_fifo"
   ]
  },
  {
   "cell_type": "code",
   "execution_count": 324,
   "metadata": {},
   "outputs": [
    {
     "name": "stdout",
     "output_type": "stream",
     "text": [
      "^C\r\n",
      "/bin/sh: 1: cannot create my_fifo: Interrupted system call\r\n"
     ]
    }
   ],
   "source": [
    "!echo \"Hello\" > my_fifo"
   ]
  },
  {
   "cell_type": "code",
   "execution_count": 325,
   "metadata": {
    "scrolled": true
   },
   "outputs": [
    {
     "data": {
      "text/markdown": [
       "**STDOUT** (interactive)"
      ],
      "text/plain": [
       "<IPython.core.display.Markdown object>"
      ]
     },
     "metadata": {},
     "output_type": "display_data"
    },
    {
     "data": {
      "text/html": [
       "\n",
       "        <script type=text/javascript>\n",
       "        function refreshtmp_326396582312714894_out_html_obj()\n",
       "        {\n",
       "            var elem = document.getElementById(\"tmp_326396582312714894_out_html_obj\");\n",
       "            if (elem) {\n",
       "                var xmlhttp=new XMLHttpRequest();\n",
       "                xmlhttp.onreadystatechange=function()\n",
       "                {\n",
       "                    var elem2 = document.getElementById(\"tmp_326396582312714894_out_html_obj1\");\n",
       "                    if (xmlhttp.readyState==4 && xmlhttp.status==200)\n",
       "                    {\n",
       "                        elem2.innerText = xmlhttp.responseText;\n",
       "                        // console.log(xmlhttp.responseText);\n",
       "                        return xmlhttp.responseText;\n",
       "                    }\n",
       "                }\n",
       "                xmlhttp.open(\"GET\", elem.data, true);\n",
       "                xmlhttp.send();    \n",
       "                elem.hidden = \"hidden\";\n",
       "                window.setTimeout(\"refreshtmp_326396582312714894_out_html_obj()\", 300); \n",
       "            }\n",
       "        }\n",
       "        window.setTimeout(\"refreshtmp_326396582312714894_out_html_obj()\", 300); \n",
       "        </script>\n",
       "        <div id=\"tmp_326396582312714894_out_html_obj1\"></div>\n",
       "        <div><object id=\"tmp_326396582312714894_out_html_obj\" data=\"tmp/326396582312714894.out.html\", hidden=\"hidden\"></object></div>\n",
       "        "
      ],
      "text/plain": [
       "<IPython.core.display.HTML object>"
      ]
     },
     "metadata": {},
     "output_type": "display_data"
    },
    {
     "data": {
      "text/markdown": [
       "**STDERR** (interactive)"
      ],
      "text/plain": [
       "<IPython.core.display.Markdown object>"
      ]
     },
     "metadata": {},
     "output_type": "display_data"
    },
    {
     "data": {
      "text/html": [
       "\n",
       "        <script type=text/javascript>\n",
       "        function refreshtmp_326396582312714894_err_html_obj()\n",
       "        {\n",
       "            var elem = document.getElementById(\"tmp_326396582312714894_err_html_obj\");\n",
       "            if (elem) {\n",
       "                var xmlhttp=new XMLHttpRequest();\n",
       "                xmlhttp.onreadystatechange=function()\n",
       "                {\n",
       "                    var elem2 = document.getElementById(\"tmp_326396582312714894_err_html_obj1\");\n",
       "                    if (xmlhttp.readyState==4 && xmlhttp.status==200)\n",
       "                    {\n",
       "                        elem2.innerText = xmlhttp.responseText;\n",
       "                        // console.log(xmlhttp.responseText);\n",
       "                        return xmlhttp.responseText;\n",
       "                    }\n",
       "                }\n",
       "                xmlhttp.open(\"GET\", elem.data, true);\n",
       "                xmlhttp.send();    \n",
       "                elem.hidden = \"hidden\";\n",
       "                window.setTimeout(\"refreshtmp_326396582312714894_err_html_obj()\", 300); \n",
       "            }\n",
       "        }\n",
       "        window.setTimeout(\"refreshtmp_326396582312714894_err_html_obj()\", 300); \n",
       "        </script>\n",
       "        <div id=\"tmp_326396582312714894_err_html_obj1\"></div>\n",
       "        <div><object id=\"tmp_326396582312714894_err_html_obj\" data=\"tmp/326396582312714894.err.html\", hidden=\"hidden\"></object></div>\n",
       "        "
      ],
      "text/plain": [
       "<IPython.core.display.HTML object>"
      ]
     },
     "metadata": {},
     "output_type": "display_data"
    },
    {
     "data": {
      "text/markdown": [
       "**RUN LOG** (interactive, `echo \"Hello\" > my_fifo ; echo \"After writing to my_fifo\"`)"
      ],
      "text/plain": [
       "<IPython.core.display.Markdown object>"
      ]
     },
     "metadata": {},
     "output_type": "display_data"
    },
    {
     "data": {
      "text/html": [
       "\n",
       "        <script type=text/javascript>\n",
       "        function refreshtmp_326396582312714894_fin_html_obj()\n",
       "        {\n",
       "            var elem = document.getElementById(\"tmp_326396582312714894_fin_html_obj\");\n",
       "            if (elem) {\n",
       "                var xmlhttp=new XMLHttpRequest();\n",
       "                xmlhttp.onreadystatechange=function()\n",
       "                {\n",
       "                    var elem2 = document.getElementById(\"tmp_326396582312714894_fin_html_obj1\");\n",
       "                    if (xmlhttp.readyState==4 && xmlhttp.status==200)\n",
       "                    {\n",
       "                        elem2.innerText = xmlhttp.responseText;\n",
       "                        // console.log(xmlhttp.responseText);\n",
       "                        return xmlhttp.responseText;\n",
       "                    }\n",
       "                }\n",
       "                xmlhttp.open(\"GET\", elem.data, true);\n",
       "                xmlhttp.send();    \n",
       "                elem.hidden = \"hidden\";\n",
       "                window.setTimeout(\"refreshtmp_326396582312714894_fin_html_obj()\", 300); \n",
       "            }\n",
       "        }\n",
       "        window.setTimeout(\"refreshtmp_326396582312714894_fin_html_obj()\", 300); \n",
       "        </script>\n",
       "        <div id=\"tmp_326396582312714894_fin_html_obj1\"></div>\n",
       "        <div><object id=\"tmp_326396582312714894_fin_html_obj\" data=\"tmp/326396582312714894.fin.html\", hidden=\"hidden\"></object></div>\n",
       "        "
      ],
      "text/plain": [
       "<IPython.core.display.HTML object>"
      ]
     },
     "metadata": {},
     "output_type": "display_data"
    }
   ],
   "source": [
    "%bash_async echo \"Hello\" > my_fifo ; echo \"After writing to my_fifo\""
   ]
  },
  {
   "cell_type": "code",
   "execution_count": 326,
   "metadata": {},
   "outputs": [
    {
     "name": "stdout",
     "output_type": "stream",
     "text": [
      "Hello\r\n"
     ]
    }
   ],
   "source": [
    "!cat my_fifo"
   ]
  },
  {
   "cell_type": "markdown",
   "metadata": {},
   "source": [
    "# Теперь на С\n",
    "Обратите внимание, что fifo не может открыться на запись, пока ее не начнут читать."
   ]
  },
  {
   "cell_type": "code",
   "execution_count": 327,
   "metadata": {},
   "outputs": [
    {
     "data": {
      "text/markdown": [
       "Run: `gcc write_fifo.cpp -o write_fifo.exe`"
      ],
      "text/plain": [
       "<IPython.core.display.Markdown object>"
      ]
     },
     "metadata": {},
     "output_type": "display_data"
    }
   ],
   "source": [
    "%%cpp write_fifo.cpp\n",
    "%run gcc write_fifo.cpp -o write_fifo.exe\n",
    "\n",
    "#include <stdio.h>\n",
    "#include <stdlib.h>\n",
    "#include <unistd.h>\n",
    "#include <assert.h>\n",
    "#include <sys/wait.h>\n",
    "#include <fcntl.h>\n",
    "\n",
    "int main() {\n",
    "    fprintf(stderr, \"Started\\n\"); fflush(stderr);\n",
    "    int fd = open(\"my_fifo\", O_WRONLY);\n",
    "    assert(fd >= 0);\n",
    "    fprintf(stderr, \"Opened\\n\"); fflush(stderr);\n",
    "    const char str[] = \"Hello from C!\\n\";\n",
    "    assert(write(fd, str, sizeof(str)) == sizeof(str));\n",
    "    fprintf(stderr, \"Written\\n\"); fflush(stderr);\n",
    "    assert(close(fd) == 0);\n",
    "    fprintf(stderr, \"Closed\\n\"); fflush(stderr);\n",
    "    return 0;\n",
    "}"
   ]
  },
  {
   "cell_type": "code",
   "execution_count": 328,
   "metadata": {},
   "outputs": [
    {
     "data": {
      "text/markdown": [
       "**STDOUT** (interactive)"
      ],
      "text/plain": [
       "<IPython.core.display.Markdown object>"
      ]
     },
     "metadata": {},
     "output_type": "display_data"
    },
    {
     "data": {
      "text/html": [
       "\n",
       "        <script type=text/javascript>\n",
       "        function refreshtmp_100686501059335292_out_html_obj()\n",
       "        {\n",
       "            var elem = document.getElementById(\"tmp_100686501059335292_out_html_obj\");\n",
       "            if (elem) {\n",
       "                var xmlhttp=new XMLHttpRequest();\n",
       "                xmlhttp.onreadystatechange=function()\n",
       "                {\n",
       "                    var elem2 = document.getElementById(\"tmp_100686501059335292_out_html_obj1\");\n",
       "                    if (xmlhttp.readyState==4 && xmlhttp.status==200)\n",
       "                    {\n",
       "                        elem2.innerText = xmlhttp.responseText;\n",
       "                        // console.log(xmlhttp.responseText);\n",
       "                        return xmlhttp.responseText;\n",
       "                    }\n",
       "                }\n",
       "                xmlhttp.open(\"GET\", elem.data, true);\n",
       "                xmlhttp.send();    \n",
       "                elem.hidden = \"hidden\";\n",
       "                window.setTimeout(\"refreshtmp_100686501059335292_out_html_obj()\", 300); \n",
       "            }\n",
       "        }\n",
       "        window.setTimeout(\"refreshtmp_100686501059335292_out_html_obj()\", 300); \n",
       "        </script>\n",
       "        <div id=\"tmp_100686501059335292_out_html_obj1\"></div>\n",
       "        <div><object id=\"tmp_100686501059335292_out_html_obj\" data=\"tmp/100686501059335292.out.html\", hidden=\"hidden\"></object></div>\n",
       "        "
      ],
      "text/plain": [
       "<IPython.core.display.HTML object>"
      ]
     },
     "metadata": {},
     "output_type": "display_data"
    },
    {
     "data": {
      "text/markdown": [
       "**STDERR** (interactive)"
      ],
      "text/plain": [
       "<IPython.core.display.Markdown object>"
      ]
     },
     "metadata": {},
     "output_type": "display_data"
    },
    {
     "data": {
      "text/html": [
       "\n",
       "        <script type=text/javascript>\n",
       "        function refreshtmp_100686501059335292_err_html_obj()\n",
       "        {\n",
       "            var elem = document.getElementById(\"tmp_100686501059335292_err_html_obj\");\n",
       "            if (elem) {\n",
       "                var xmlhttp=new XMLHttpRequest();\n",
       "                xmlhttp.onreadystatechange=function()\n",
       "                {\n",
       "                    var elem2 = document.getElementById(\"tmp_100686501059335292_err_html_obj1\");\n",
       "                    if (xmlhttp.readyState==4 && xmlhttp.status==200)\n",
       "                    {\n",
       "                        elem2.innerText = xmlhttp.responseText;\n",
       "                        // console.log(xmlhttp.responseText);\n",
       "                        return xmlhttp.responseText;\n",
       "                    }\n",
       "                }\n",
       "                xmlhttp.open(\"GET\", elem.data, true);\n",
       "                xmlhttp.send();    \n",
       "                elem.hidden = \"hidden\";\n",
       "                window.setTimeout(\"refreshtmp_100686501059335292_err_html_obj()\", 300); \n",
       "            }\n",
       "        }\n",
       "        window.setTimeout(\"refreshtmp_100686501059335292_err_html_obj()\", 300); \n",
       "        </script>\n",
       "        <div id=\"tmp_100686501059335292_err_html_obj1\"></div>\n",
       "        <div><object id=\"tmp_100686501059335292_err_html_obj\" data=\"tmp/100686501059335292.err.html\", hidden=\"hidden\"></object></div>\n",
       "        "
      ],
      "text/plain": [
       "<IPython.core.display.HTML object>"
      ]
     },
     "metadata": {},
     "output_type": "display_data"
    },
    {
     "data": {
      "text/markdown": [
       "**RUN LOG** (interactive, `./write_fifo.exe`)"
      ],
      "text/plain": [
       "<IPython.core.display.Markdown object>"
      ]
     },
     "metadata": {},
     "output_type": "display_data"
    },
    {
     "data": {
      "text/html": [
       "\n",
       "        <script type=text/javascript>\n",
       "        function refreshtmp_100686501059335292_fin_html_obj()\n",
       "        {\n",
       "            var elem = document.getElementById(\"tmp_100686501059335292_fin_html_obj\");\n",
       "            if (elem) {\n",
       "                var xmlhttp=new XMLHttpRequest();\n",
       "                xmlhttp.onreadystatechange=function()\n",
       "                {\n",
       "                    var elem2 = document.getElementById(\"tmp_100686501059335292_fin_html_obj1\");\n",
       "                    if (xmlhttp.readyState==4 && xmlhttp.status==200)\n",
       "                    {\n",
       "                        elem2.innerText = xmlhttp.responseText;\n",
       "                        // console.log(xmlhttp.responseText);\n",
       "                        return xmlhttp.responseText;\n",
       "                    }\n",
       "                }\n",
       "                xmlhttp.open(\"GET\", elem.data, true);\n",
       "                xmlhttp.send();    \n",
       "                elem.hidden = \"hidden\";\n",
       "                window.setTimeout(\"refreshtmp_100686501059335292_fin_html_obj()\", 300); \n",
       "            }\n",
       "        }\n",
       "        window.setTimeout(\"refreshtmp_100686501059335292_fin_html_obj()\", 300); \n",
       "        </script>\n",
       "        <div id=\"tmp_100686501059335292_fin_html_obj1\"></div>\n",
       "        <div><object id=\"tmp_100686501059335292_fin_html_obj\" data=\"tmp/100686501059335292.fin.html\", hidden=\"hidden\"></object></div>\n",
       "        "
      ],
      "text/plain": [
       "<IPython.core.display.HTML object>"
      ]
     },
     "metadata": {},
     "output_type": "display_data"
    }
   ],
   "source": [
    "%bash_async ./write_fifo.exe"
   ]
  },
  {
   "cell_type": "code",
   "execution_count": 329,
   "metadata": {},
   "outputs": [
    {
     "name": "stdout",
     "output_type": "stream",
     "text": [
      "Hello from C!\r\n",
      "\u0000"
     ]
    }
   ],
   "source": [
    "!cat my_fifo"
   ]
  },
  {
   "cell_type": "markdown",
   "metadata": {},
   "source": [
    "# Директория /proc/<pid\\>/*"
   ]
  },
  {
   "cell_type": "markdown",
   "metadata": {},
   "source": [
    "Интересная штука директория `/proc` это виртулаьная файловая система в которой можно получать сведения о процессах, читая из из файлов. (Это не обычные файлы на диске, а скорее некоторое view на сведения о процессах из ядра системы).\n",
    "\n",
    "Что есть в proc: http://man7.org/linux/man-pages/man5/proc.5.html\n",
    "\n",
    "Имеющая отношение к делу статья на хабре: https://habr.com/ru/post/209446/"
   ]
  },
  {
   "cell_type": "markdown",
   "metadata": {},
   "source": [
    "Посмотрим, что можно узнать о запущенном процессе:"
   ]
  },
  {
   "cell_type": "code",
   "execution_count": 330,
   "metadata": {},
   "outputs": [
    {
     "data": {
      "text/markdown": [
       "**STDOUT** (interactive)"
      ],
      "text/plain": [
       "<IPython.core.display.Markdown object>"
      ]
     },
     "metadata": {},
     "output_type": "display_data"
    },
    {
     "data": {
      "text/html": [
       "\n",
       "        <script type=text/javascript>\n",
       "        function refreshtmp_635857202682272018_out_html_obj()\n",
       "        {\n",
       "            var elem = document.getElementById(\"tmp_635857202682272018_out_html_obj\");\n",
       "            if (elem) {\n",
       "                var xmlhttp=new XMLHttpRequest();\n",
       "                xmlhttp.onreadystatechange=function()\n",
       "                {\n",
       "                    var elem2 = document.getElementById(\"tmp_635857202682272018_out_html_obj1\");\n",
       "                    if (xmlhttp.readyState==4 && xmlhttp.status==200)\n",
       "                    {\n",
       "                        elem2.innerText = xmlhttp.responseText;\n",
       "                        // console.log(xmlhttp.responseText);\n",
       "                        return xmlhttp.responseText;\n",
       "                    }\n",
       "                }\n",
       "                xmlhttp.open(\"GET\", elem.data, true);\n",
       "                xmlhttp.send();    \n",
       "                elem.hidden = \"hidden\";\n",
       "                window.setTimeout(\"refreshtmp_635857202682272018_out_html_obj()\", 300); \n",
       "            }\n",
       "        }\n",
       "        window.setTimeout(\"refreshtmp_635857202682272018_out_html_obj()\", 300); \n",
       "        </script>\n",
       "        <div id=\"tmp_635857202682272018_out_html_obj1\"></div>\n",
       "        <div><object id=\"tmp_635857202682272018_out_html_obj\" data=\"tmp/635857202682272018.out.html\", hidden=\"hidden\"></object></div>\n",
       "        "
      ],
      "text/plain": [
       "<IPython.core.display.HTML object>"
      ]
     },
     "metadata": {},
     "output_type": "display_data"
    },
    {
     "data": {
      "text/markdown": [
       "**STDERR** (interactive)"
      ],
      "text/plain": [
       "<IPython.core.display.Markdown object>"
      ]
     },
     "metadata": {},
     "output_type": "display_data"
    },
    {
     "data": {
      "text/html": [
       "\n",
       "        <script type=text/javascript>\n",
       "        function refreshtmp_635857202682272018_err_html_obj()\n",
       "        {\n",
       "            var elem = document.getElementById(\"tmp_635857202682272018_err_html_obj\");\n",
       "            if (elem) {\n",
       "                var xmlhttp=new XMLHttpRequest();\n",
       "                xmlhttp.onreadystatechange=function()\n",
       "                {\n",
       "                    var elem2 = document.getElementById(\"tmp_635857202682272018_err_html_obj1\");\n",
       "                    if (xmlhttp.readyState==4 && xmlhttp.status==200)\n",
       "                    {\n",
       "                        elem2.innerText = xmlhttp.responseText;\n",
       "                        // console.log(xmlhttp.responseText);\n",
       "                        return xmlhttp.responseText;\n",
       "                    }\n",
       "                }\n",
       "                xmlhttp.open(\"GET\", elem.data, true);\n",
       "                xmlhttp.send();    \n",
       "                elem.hidden = \"hidden\";\n",
       "                window.setTimeout(\"refreshtmp_635857202682272018_err_html_obj()\", 300); \n",
       "            }\n",
       "        }\n",
       "        window.setTimeout(\"refreshtmp_635857202682272018_err_html_obj()\", 300); \n",
       "        </script>\n",
       "        <div id=\"tmp_635857202682272018_err_html_obj1\"></div>\n",
       "        <div><object id=\"tmp_635857202682272018_err_html_obj\" data=\"tmp/635857202682272018.err.html\", hidden=\"hidden\"></object></div>\n",
       "        "
      ],
      "text/plain": [
       "<IPython.core.display.HTML object>"
      ]
     },
     "metadata": {},
     "output_type": "display_data"
    },
    {
     "data": {
      "text/markdown": [
       "**RUN LOG** (interactive, `echo \"Hello\" > my_fifo `)"
      ],
      "text/plain": [
       "<IPython.core.display.Markdown object>"
      ]
     },
     "metadata": {},
     "output_type": "display_data"
    },
    {
     "data": {
      "text/html": [
       "\n",
       "        <script type=text/javascript>\n",
       "        function refreshtmp_635857202682272018_fin_html_obj()\n",
       "        {\n",
       "            var elem = document.getElementById(\"tmp_635857202682272018_fin_html_obj\");\n",
       "            if (elem) {\n",
       "                var xmlhttp=new XMLHttpRequest();\n",
       "                xmlhttp.onreadystatechange=function()\n",
       "                {\n",
       "                    var elem2 = document.getElementById(\"tmp_635857202682272018_fin_html_obj1\");\n",
       "                    if (xmlhttp.readyState==4 && xmlhttp.status==200)\n",
       "                    {\n",
       "                        elem2.innerText = xmlhttp.responseText;\n",
       "                        // console.log(xmlhttp.responseText);\n",
       "                        return xmlhttp.responseText;\n",
       "                    }\n",
       "                }\n",
       "                xmlhttp.open(\"GET\", elem.data, true);\n",
       "                xmlhttp.send();    \n",
       "                elem.hidden = \"hidden\";\n",
       "                window.setTimeout(\"refreshtmp_635857202682272018_fin_html_obj()\", 300); \n",
       "            }\n",
       "        }\n",
       "        window.setTimeout(\"refreshtmp_635857202682272018_fin_html_obj()\", 300); \n",
       "        </script>\n",
       "        <div id=\"tmp_635857202682272018_fin_html_obj1\"></div>\n",
       "        <div><object id=\"tmp_635857202682272018_fin_html_obj\" data=\"tmp/635857202682272018.fin.html\", hidden=\"hidden\"></object></div>\n",
       "        "
      ],
      "text/plain": [
       "<IPython.core.display.HTML object>"
      ]
     },
     "metadata": {},
     "output_type": "display_data"
    }
   ],
   "source": [
    "# запустим процесс в фоне\n",
    "%bash_async echo \"Hello\" > my_fifo "
   ]
  },
  {
   "cell_type": "code",
   "execution_count": 331,
   "metadata": {},
   "outputs": [
    {
     "name": "stdout",
     "output_type": "stream",
     "text": [
      "pechatn+  1642  0.0  0.0  19584   912 ?        S    Dec05   0:00 bash -c echo \"Hello\" > my_fifo && echo \"Printed!\"\n",
      "pechatn+ 24470  0.0  0.0  19588   908 ?        S    20:14   0:00 bash -c echo 'Process started!' > tmp/681703421791017912.fin.html; echo \"Hello\" > my_fifo ; echo \"After writing to my_fifo\" ; echo \"Process finished! code=$?\" >> tmp/681703421791017912.fin.html\n",
      "pechatn+ 24524  0.0  0.0  19588   900 ?        S    20:15   0:00 bash -c echo 'Process started!' > tmp/635857202682272018.fin.html; echo \"Hello\" > my_fifo  ; echo \"Process finished! code=$?\" >> tmp/635857202682272018.fin.html\n",
      "pechatn+ 24525  0.0  0.0   4504   844 pts/19   Ss+  20:15   0:00 /bin/sh -c ps aux | grep Hello\n",
      "pechatn+ 24527  0.0  0.0  21292   992 pts/19   S+   20:15   0:00 grep Hello\n"
     ]
    }
   ],
   "source": [
    "!ps aux | grep Hello"
   ]
  },
  {
   "cell_type": "code",
   "execution_count": 333,
   "metadata": {},
   "outputs": [
    {
     "name": "stdout",
     "output_type": "stream",
     "text": [
      "Name:\tbash\r\n",
      "Umask:\t0002\r\n",
      "State:\tS (sleeping)\r\n",
      "Tgid:\t24524\r\n",
      "Ngid:\t0\r\n",
      "Pid:\t24524\r\n",
      "PPid:\t4234\r\n",
      "TracerPid:\t0\r\n",
      "Uid:\t1000\t1000\t1000\t1000\r\n",
      "Gid:\t1000\t1000\t1000\t1000\r\n",
      "FDSize:\t128\r\n",
      "Groups:\t4 24 27 30 46 113 128 130 999 1000 \r\n",
      "NStgid:\t24524\r\n",
      "NSpid:\t24524\r\n",
      "NSpgid:\t4234\r\n",
      "NSsid:\t4234\r\n",
      "VmPeak:\t   19588 kB\r\n",
      "VmSize:\t   19588 kB\r\n",
      "VmLck:\t       0 kB\r\n",
      "VmPin:\t       0 kB\r\n",
      "VmHWM:\t     900 kB\r\n",
      "VmRSS:\t     900 kB\r\n",
      "RssAnon:\t     104 kB\r\n",
      "RssFile:\t     796 kB\r\n",
      "RssShmem:\t       0 kB\r\n",
      "VmData:\t     168 kB\r\n",
      "VmStk:\t     132 kB\r\n",
      "VmExe:\t     976 kB\r\n",
      "VmLib:\t    2112 kB\r\n",
      "VmPTE:\t      64 kB\r\n",
      "VmSwap:\t       0 kB\r\n",
      "HugetlbPages:\t       0 kB\r\n",
      "CoreDumping:\t0\r\n",
      "Threads:\t1\r\n",
      "SigQ:\t22/7738\r\n",
      "SigPnd:\t0000000000000000\r\n",
      "ShdPnd:\t0000000000000000\r\n",
      "SigBlk:\t0000000000000000\r\n",
      "SigIgn:\t0000000000000004\r\n",
      "SigCgt:\t0000000000010000\r\n",
      "CapInh:\t0000000000000000\r\n",
      "CapPrm:\t0000000000000000\r\n",
      "CapEff:\t0000000000000000\r\n",
      "CapBnd:\t0000003fffffffff\r\n",
      "CapAmb:\t0000000000000000\r\n",
      "NoNewPrivs:\t0\r\n",
      "Seccomp:\t0\r\n",
      "Speculation_Store_Bypass:\tvulnerable\r\n",
      "Cpus_allowed:\t1\r\n",
      "Cpus_allowed_list:\t0\r\n",
      "Mems_allowed:\t00000000,00000000,00000000,00000000,00000000,00000000,00000000,00000000,00000000,00000000,00000000,00000000,00000000,00000000,00000000,00000000,00000000,00000000,00000000,00000000,00000000,00000000,00000000,00000000,00000000,00000000,00000000,00000000,00000000,00000000,00000000,00000001\r\n",
      "Mems_allowed_list:\t0\r\n",
      "voluntary_ctxt_switches:\t1\r\n",
      "nonvoluntary_ctxt_switches:\t2\r\n"
     ]
    }
   ],
   "source": [
    "!cat /proc/24524/status"
   ]
  },
  {
   "cell_type": "code",
   "execution_count": 334,
   "metadata": {},
   "outputs": [
    {
     "name": "stdout",
     "output_type": "stream",
     "text": [
      "Hello\r\n"
     ]
    }
   ],
   "source": [
    "!cat my_fifo"
   ]
  },
  {
   "cell_type": "code",
   "execution_count": 335,
   "metadata": {},
   "outputs": [
    {
     "name": "stdout",
     "output_type": "stream",
     "text": [
      "pechatn+ 24536  0.0  0.0   4504   788 pts/19   Ss+  20:16   0:00 /bin/sh -c ps aux | grep write_fifo \r\n",
      "pechatn+ 24538  0.0  0.0  21292   988 pts/19   S+   20:16   0:00 grep write_fifo\r\n"
     ]
    }
   ],
   "source": [
    "!ps aux | grep write_fifo "
   ]
  },
  {
   "cell_type": "code",
   "execution_count": null,
   "metadata": {},
   "outputs": [],
   "source": []
  },
  {
   "cell_type": "markdown",
   "metadata": {},
   "source": [
    "# Пример применения на моей практике\n",
    "Только на семинаре"
   ]
  },
  {
   "cell_type": "code",
   "execution_count": null,
   "metadata": {},
   "outputs": [],
   "source": []
  },
  {
   "cell_type": "code",
   "execution_count": null,
   "metadata": {},
   "outputs": [],
   "source": []
  },
  {
   "cell_type": "markdown",
   "metadata": {},
   "source": [
    "# Пример, почему важно правильно открывать fifo"
   ]
  },
  {
   "cell_type": "code",
   "execution_count": 336,
   "metadata": {},
   "outputs": [],
   "source": [
    "import os"
   ]
  },
  {
   "cell_type": "code",
   "execution_count": 337,
   "metadata": {},
   "outputs": [],
   "source": [
    "fd = os.open(\"my_fifo\", os.O_RDWR) # создаем ненужное открытие файла на запись"
   ]
  },
  {
   "cell_type": "code",
   "execution_count": 338,
   "metadata": {},
   "outputs": [
    {
     "data": {
      "text/markdown": [
       "**STDOUT** (interactive)"
      ],
      "text/plain": [
       "<IPython.core.display.Markdown object>"
      ]
     },
     "metadata": {},
     "output_type": "display_data"
    },
    {
     "data": {
      "text/html": [
       "\n",
       "        <script type=text/javascript>\n",
       "        function refreshtmp_584204787735188028_out_html_obj()\n",
       "        {\n",
       "            var elem = document.getElementById(\"tmp_584204787735188028_out_html_obj\");\n",
       "            if (elem) {\n",
       "                var xmlhttp=new XMLHttpRequest();\n",
       "                xmlhttp.onreadystatechange=function()\n",
       "                {\n",
       "                    var elem2 = document.getElementById(\"tmp_584204787735188028_out_html_obj1\");\n",
       "                    if (xmlhttp.readyState==4 && xmlhttp.status==200)\n",
       "                    {\n",
       "                        elem2.innerText = xmlhttp.responseText;\n",
       "                        // console.log(xmlhttp.responseText);\n",
       "                        return xmlhttp.responseText;\n",
       "                    }\n",
       "                }\n",
       "                xmlhttp.open(\"GET\", elem.data, true);\n",
       "                xmlhttp.send();    \n",
       "                elem.hidden = \"hidden\";\n",
       "                window.setTimeout(\"refreshtmp_584204787735188028_out_html_obj()\", 300); \n",
       "            }\n",
       "        }\n",
       "        window.setTimeout(\"refreshtmp_584204787735188028_out_html_obj()\", 300); \n",
       "        </script>\n",
       "        <div id=\"tmp_584204787735188028_out_html_obj1\"></div>\n",
       "        <div><object id=\"tmp_584204787735188028_out_html_obj\" data=\"tmp/584204787735188028.out.html\", hidden=\"hidden\"></object></div>\n",
       "        "
      ],
      "text/plain": [
       "<IPython.core.display.HTML object>"
      ]
     },
     "metadata": {},
     "output_type": "display_data"
    },
    {
     "data": {
      "text/markdown": [
       "**STDERR** (interactive)"
      ],
      "text/plain": [
       "<IPython.core.display.Markdown object>"
      ]
     },
     "metadata": {},
     "output_type": "display_data"
    },
    {
     "data": {
      "text/html": [
       "\n",
       "        <script type=text/javascript>\n",
       "        function refreshtmp_584204787735188028_err_html_obj()\n",
       "        {\n",
       "            var elem = document.getElementById(\"tmp_584204787735188028_err_html_obj\");\n",
       "            if (elem) {\n",
       "                var xmlhttp=new XMLHttpRequest();\n",
       "                xmlhttp.onreadystatechange=function()\n",
       "                {\n",
       "                    var elem2 = document.getElementById(\"tmp_584204787735188028_err_html_obj1\");\n",
       "                    if (xmlhttp.readyState==4 && xmlhttp.status==200)\n",
       "                    {\n",
       "                        elem2.innerText = xmlhttp.responseText;\n",
       "                        // console.log(xmlhttp.responseText);\n",
       "                        return xmlhttp.responseText;\n",
       "                    }\n",
       "                }\n",
       "                xmlhttp.open(\"GET\", elem.data, true);\n",
       "                xmlhttp.send();    \n",
       "                elem.hidden = \"hidden\";\n",
       "                window.setTimeout(\"refreshtmp_584204787735188028_err_html_obj()\", 300); \n",
       "            }\n",
       "        }\n",
       "        window.setTimeout(\"refreshtmp_584204787735188028_err_html_obj()\", 300); \n",
       "        </script>\n",
       "        <div id=\"tmp_584204787735188028_err_html_obj1\"></div>\n",
       "        <div><object id=\"tmp_584204787735188028_err_html_obj\" data=\"tmp/584204787735188028.err.html\", hidden=\"hidden\"></object></div>\n",
       "        "
      ],
      "text/plain": [
       "<IPython.core.display.HTML object>"
      ]
     },
     "metadata": {},
     "output_type": "display_data"
    },
    {
     "data": {
      "text/markdown": [
       "**RUN LOG** (interactive, `cat my_fifo`)"
      ],
      "text/plain": [
       "<IPython.core.display.Markdown object>"
      ]
     },
     "metadata": {},
     "output_type": "display_data"
    },
    {
     "data": {
      "text/html": [
       "\n",
       "        <script type=text/javascript>\n",
       "        function refreshtmp_584204787735188028_fin_html_obj()\n",
       "        {\n",
       "            var elem = document.getElementById(\"tmp_584204787735188028_fin_html_obj\");\n",
       "            if (elem) {\n",
       "                var xmlhttp=new XMLHttpRequest();\n",
       "                xmlhttp.onreadystatechange=function()\n",
       "                {\n",
       "                    var elem2 = document.getElementById(\"tmp_584204787735188028_fin_html_obj1\");\n",
       "                    if (xmlhttp.readyState==4 && xmlhttp.status==200)\n",
       "                    {\n",
       "                        elem2.innerText = xmlhttp.responseText;\n",
       "                        // console.log(xmlhttp.responseText);\n",
       "                        return xmlhttp.responseText;\n",
       "                    }\n",
       "                }\n",
       "                xmlhttp.open(\"GET\", elem.data, true);\n",
       "                xmlhttp.send();    \n",
       "                elem.hidden = \"hidden\";\n",
       "                window.setTimeout(\"refreshtmp_584204787735188028_fin_html_obj()\", 300); \n",
       "            }\n",
       "        }\n",
       "        window.setTimeout(\"refreshtmp_584204787735188028_fin_html_obj()\", 300); \n",
       "        </script>\n",
       "        <div id=\"tmp_584204787735188028_fin_html_obj1\"></div>\n",
       "        <div><object id=\"tmp_584204787735188028_fin_html_obj\" data=\"tmp/584204787735188028.fin.html\", hidden=\"hidden\"></object></div>\n",
       "        "
      ],
      "text/plain": [
       "<IPython.core.display.HTML object>"
      ]
     },
     "metadata": {},
     "output_type": "display_data"
    }
   ],
   "source": [
    "%bash_async cat my_fifo"
   ]
  },
  {
   "cell_type": "code",
   "execution_count": 339,
   "metadata": {},
   "outputs": [],
   "source": [
    "!echo \"Hello 1\" > my_fifo\n",
    "!echo \"Hello 2\" > my_fifo\n",
    "!echo \"Hello 3\" > my_fifo"
   ]
  },
  {
   "cell_type": "code",
   "execution_count": 340,
   "metadata": {},
   "outputs": [],
   "source": [
    "os.close(fd) # Только после закрытия дескриптора процесс 'cat my_fifo' завершится. Так как закроется fifo"
   ]
  },
  {
   "cell_type": "markdown",
   "metadata": {},
   "source": [
    "### Если же ненужного чтения не создавать:"
   ]
  },
  {
   "cell_type": "code",
   "execution_count": 341,
   "metadata": {},
   "outputs": [
    {
     "data": {
      "text/markdown": [
       "**STDOUT** (interactive)"
      ],
      "text/plain": [
       "<IPython.core.display.Markdown object>"
      ]
     },
     "metadata": {},
     "output_type": "display_data"
    },
    {
     "data": {
      "text/html": [
       "\n",
       "        <script type=text/javascript>\n",
       "        function refreshtmp_186072983456055787_out_html_obj()\n",
       "        {\n",
       "            var elem = document.getElementById(\"tmp_186072983456055787_out_html_obj\");\n",
       "            if (elem) {\n",
       "                var xmlhttp=new XMLHttpRequest();\n",
       "                xmlhttp.onreadystatechange=function()\n",
       "                {\n",
       "                    var elem2 = document.getElementById(\"tmp_186072983456055787_out_html_obj1\");\n",
       "                    if (xmlhttp.readyState==4 && xmlhttp.status==200)\n",
       "                    {\n",
       "                        elem2.innerText = xmlhttp.responseText;\n",
       "                        // console.log(xmlhttp.responseText);\n",
       "                        return xmlhttp.responseText;\n",
       "                    }\n",
       "                }\n",
       "                xmlhttp.open(\"GET\", elem.data, true);\n",
       "                xmlhttp.send();    \n",
       "                elem.hidden = \"hidden\";\n",
       "                window.setTimeout(\"refreshtmp_186072983456055787_out_html_obj()\", 300); \n",
       "            }\n",
       "        }\n",
       "        window.setTimeout(\"refreshtmp_186072983456055787_out_html_obj()\", 300); \n",
       "        </script>\n",
       "        <div id=\"tmp_186072983456055787_out_html_obj1\"></div>\n",
       "        <div><object id=\"tmp_186072983456055787_out_html_obj\" data=\"tmp/186072983456055787.out.html\", hidden=\"hidden\"></object></div>\n",
       "        "
      ],
      "text/plain": [
       "<IPython.core.display.HTML object>"
      ]
     },
     "metadata": {},
     "output_type": "display_data"
    },
    {
     "data": {
      "text/markdown": [
       "**STDERR** (interactive)"
      ],
      "text/plain": [
       "<IPython.core.display.Markdown object>"
      ]
     },
     "metadata": {},
     "output_type": "display_data"
    },
    {
     "data": {
      "text/html": [
       "\n",
       "        <script type=text/javascript>\n",
       "        function refreshtmp_186072983456055787_err_html_obj()\n",
       "        {\n",
       "            var elem = document.getElementById(\"tmp_186072983456055787_err_html_obj\");\n",
       "            if (elem) {\n",
       "                var xmlhttp=new XMLHttpRequest();\n",
       "                xmlhttp.onreadystatechange=function()\n",
       "                {\n",
       "                    var elem2 = document.getElementById(\"tmp_186072983456055787_err_html_obj1\");\n",
       "                    if (xmlhttp.readyState==4 && xmlhttp.status==200)\n",
       "                    {\n",
       "                        elem2.innerText = xmlhttp.responseText;\n",
       "                        // console.log(xmlhttp.responseText);\n",
       "                        return xmlhttp.responseText;\n",
       "                    }\n",
       "                }\n",
       "                xmlhttp.open(\"GET\", elem.data, true);\n",
       "                xmlhttp.send();    \n",
       "                elem.hidden = \"hidden\";\n",
       "                window.setTimeout(\"refreshtmp_186072983456055787_err_html_obj()\", 300); \n",
       "            }\n",
       "        }\n",
       "        window.setTimeout(\"refreshtmp_186072983456055787_err_html_obj()\", 300); \n",
       "        </script>\n",
       "        <div id=\"tmp_186072983456055787_err_html_obj1\"></div>\n",
       "        <div><object id=\"tmp_186072983456055787_err_html_obj\" data=\"tmp/186072983456055787.err.html\", hidden=\"hidden\"></object></div>\n",
       "        "
      ],
      "text/plain": [
       "<IPython.core.display.HTML object>"
      ]
     },
     "metadata": {},
     "output_type": "display_data"
    },
    {
     "data": {
      "text/markdown": [
       "**RUN LOG** (interactive, `cat my_fifo`)"
      ],
      "text/plain": [
       "<IPython.core.display.Markdown object>"
      ]
     },
     "metadata": {},
     "output_type": "display_data"
    },
    {
     "data": {
      "text/html": [
       "\n",
       "        <script type=text/javascript>\n",
       "        function refreshtmp_186072983456055787_fin_html_obj()\n",
       "        {\n",
       "            var elem = document.getElementById(\"tmp_186072983456055787_fin_html_obj\");\n",
       "            if (elem) {\n",
       "                var xmlhttp=new XMLHttpRequest();\n",
       "                xmlhttp.onreadystatechange=function()\n",
       "                {\n",
       "                    var elem2 = document.getElementById(\"tmp_186072983456055787_fin_html_obj1\");\n",
       "                    if (xmlhttp.readyState==4 && xmlhttp.status==200)\n",
       "                    {\n",
       "                        elem2.innerText = xmlhttp.responseText;\n",
       "                        // console.log(xmlhttp.responseText);\n",
       "                        return xmlhttp.responseText;\n",
       "                    }\n",
       "                }\n",
       "                xmlhttp.open(\"GET\", elem.data, true);\n",
       "                xmlhttp.send();    \n",
       "                elem.hidden = \"hidden\";\n",
       "                window.setTimeout(\"refreshtmp_186072983456055787_fin_html_obj()\", 300); \n",
       "            }\n",
       "        }\n",
       "        window.setTimeout(\"refreshtmp_186072983456055787_fin_html_obj()\", 300); \n",
       "        </script>\n",
       "        <div id=\"tmp_186072983456055787_fin_html_obj1\"></div>\n",
       "        <div><object id=\"tmp_186072983456055787_fin_html_obj\" data=\"tmp/186072983456055787.fin.html\", hidden=\"hidden\"></object></div>\n",
       "        "
      ],
      "text/plain": [
       "<IPython.core.display.HTML object>"
      ]
     },
     "metadata": {},
     "output_type": "display_data"
    }
   ],
   "source": [
    "%bash_async cat my_fifo"
   ]
  },
  {
   "cell_type": "code",
   "execution_count": 342,
   "metadata": {},
   "outputs": [],
   "source": [
    "!echo \"Hello 1\" > my_fifo"
   ]
  },
  {
   "cell_type": "code",
   "execution_count": 343,
   "metadata": {},
   "outputs": [
    {
     "name": "stdout",
     "output_type": "stream",
     "text": [
      "^C\r\n",
      "/bin/sh: 1: cannot create my_fifo: Interrupted system call\r\n"
     ]
    }
   ],
   "source": [
    "!echo \"Hello 2\" > my_fifo # то все зависнет тут"
   ]
  },
  {
   "cell_type": "code",
   "execution_count": null,
   "metadata": {},
   "outputs": [],
   "source": [
    "!echo \"Hello 3\" > my_fifo"
   ]
  }
 ],
 "metadata": {
  "kernelspec": {
   "display_name": "Python 3",
   "language": "python",
   "name": "python3"
  },
  "language_info": {
   "codemirror_mode": {
    "name": "ipython",
    "version": 3
   },
   "file_extension": ".py",
   "mimetype": "text/x-python",
   "name": "python",
   "nbconvert_exporter": "python",
   "pygments_lexer": "ipython3",
   "version": "3.5.2"
  }
 },
 "nbformat": 4,
 "nbformat_minor": 2
}
