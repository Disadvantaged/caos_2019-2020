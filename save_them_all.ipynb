{
 "cells": [
  {
   "cell_type": "code",
   "execution_count": 3,
   "metadata": {
    "scrolled": true
   },
   "outputs": [
    {
     "name": "stdout",
     "output_type": "stream",
     "text": [
      "Highlevel dirs: ['tools', './sem01', './sem03-ints-floats', './sem04-asm-arm', './sem05-asm-arm-addressing', './sem06-asm-x86', './sem07-asm-x86-x87-sse', './sem08-asm-x86-nostdlib', './sem09-low-level-io', './sem10-file-attributes', './sem11-mmap-instrumentation', './sem12-fork-exec-pipe', './sem13-signal', './sem14-fifo-proc', './sem15-ptrace', './sem16-fcntl-dup-pipe']\n"
     ]
    }
   ],
   "source": [
    "import glob\n",
    "import os\n",
    "import subprocess\n",
    "\n",
    "def convert(n, d):\n",
    "    get_ipython().system(\"jupyter nbconvert {} --to markdown --output {}\".format(n, d))\n",
    "    #subprocess.check_call([\"jupyter\", \"nbconvert\", n, \"--to\", \"markdown\", \"--output\", d])\n",
    "\n",
    "highlevel_dirs = [\"tools\"] + sorted(glob.glob(\"./sem*\"))\n",
    "\n",
    "print(\"Highlevel dirs:\", highlevel_dirs)"
   ]
  },
  {
   "cell_type": "code",
   "execution_count": null,
   "metadata": {},
   "outputs": [
    {
     "name": "stdout",
     "output_type": "stream",
     "text": [
      "tools ['tools/set_up_magics.ipynb', 'tools/set_up_magics_dev.ipynb']\n",
      "[NbConvertApp] Converting notebook tools/set_up_magics.ipynb to markdown\n",
      "[NbConvertApp] Writing 50748 bytes to tools/set_up_magics.md\n",
      "[NbConvertApp] Converting notebook tools/set_up_magics_dev.ipynb to markdown\n",
      "[NbConvertApp] Writing 32 bytes to tools/set_up_magics_dev.md\n",
      "./sem01 ['./sem01/sem1.ipynb']\n",
      "[NbConvertApp] Converting notebook ./sem01/sem1.ipynb to markdown\n",
      "[NbConvertApp] Writing 2135 bytes to ./sem01/README.md\n",
      "./sem03-ints-floats ['./sem03-ints-floats/sem3_floats.ipynb', './sem03-ints-floats/sem3_ints.ipynb']\n",
      "[NbConvertApp] Converting notebook ./sem03-ints-floats/sem3_floats.ipynb to markdown\n",
      "[NbConvertApp] Writing 2857 bytes to ./sem03-ints-floats/sem3_floats.md\n",
      "[NbConvertApp] Converting notebook ./sem03-ints-floats/sem3_ints.ipynb to markdown\n",
      "[NbConvertApp] Writing 3840 bytes to ./sem03-ints-floats/sem3_ints.md\n",
      "./sem04-asm-arm ['./sem04-asm-arm/arm.ipynb']\n",
      "[NbConvertApp] Converting notebook ./sem04-asm-arm/arm.ipynb to markdown\n",
      "[NbConvertApp] Writing 7422 bytes to ./sem04-asm-arm/README.md\n",
      "./sem05-asm-arm-addressing ['./sem05-asm-arm-addressing/adressing.ipynb']\n",
      "[NbConvertApp] Converting notebook ./sem05-asm-arm-addressing/adressing.ipynb to markdown\n",
      "[NbConvertApp] Writing 23552 bytes to ./sem05-asm-arm-addressing/README.md\n",
      "./sem06-asm-x86 ['./sem06-asm-x86/asm_x86.ipynb']\n",
      "[NbConvertApp] Converting notebook ./sem06-asm-x86/asm_x86.ipynb to markdown\n",
      "[NbConvertApp] Writing 33694 bytes to ./sem06-asm-x86/README.md\n",
      "./sem07-asm-x86-x87-sse ['./sem07-asm-x86-x87-sse/sse_x86.ipynb', './sem07-asm-x86-x87-sse/floating_point_x86.ipynb']\n",
      "[NbConvertApp] Converting notebook ./sem07-asm-x86-x87-sse/sse_x86.ipynb to markdown\n",
      "[NbConvertApp] Writing 13366 bytes to ./sem07-asm-x86-x87-sse/sse_x86.md\n",
      "[NbConvertApp] Converting notebook ./sem07-asm-x86-x87-sse/floating_point_x86.ipynb to markdown\n",
      "[NbConvertApp] Writing 8065 bytes to ./sem07-asm-x86-x87-sse/floating_point_x86.md\n",
      "./sem08-asm-x86-nostdlib ['./sem08-asm-x86-nostdlib/nostdlib.ipynb']\n",
      "[NbConvertApp] Converting notebook ./sem08-asm-x86-nostdlib/nostdlib.ipynb to markdown\n",
      "[NbConvertApp] Writing 23229 bytes to ./sem08-asm-x86-nostdlib/README.md\n",
      "./sem09-low-level-io ['./sem09-low-level-io/low-level-io.ipynb']\n",
      "[NbConvertApp] Converting notebook ./sem09-low-level-io/low-level-io.ipynb to markdown\n",
      "[NbConvertApp] Writing 17581 bytes to ./sem09-low-level-io/README.md\n",
      "./sem10-file-attributes ['./sem10-file-attributes/file-attrib.ipynb']\n"
     ]
    }
   ],
   "source": [
    "for subdir in highlevel_dirs:\n",
    "    notebooks = glob.glob(subdir + \"/*.ipynb\")\n",
    "    print(subdir, notebooks)\n",
    "    for m in glob.glob(subdir + \"/*.md\"):\n",
    "        os.remove(m)\n",
    "    if len(notebooks) == 1:\n",
    "        convert(notebooks[0], \"README\")\n",
    "    else:\n",
    "        for n in notebooks:\n",
    "            convert(n, os.path.basename(n.replace(\".ipynb\", \"\")))\n",
    "        "
   ]
  },
  {
   "cell_type": "code",
   "execution_count": null,
   "metadata": {},
   "outputs": [],
   "source": []
  },
  {
   "cell_type": "code",
   "execution_count": null,
   "metadata": {},
   "outputs": [],
   "source": [
    "import re\n",
    "\n",
    "def basic_improve(fname):\n",
    "    with open(fname, \"r\") as f:\n",
    "        r = f.read()\n",
    "    for b in [\"\\x00\", \"\\x1B\", \"\\x08\"]:\n",
    "        r = r.replace(b, \"\")\n",
    "    with open(fname, \"w\") as f:\n",
    "        f.write(r)\n",
    "    get_ipython().system(\"dos2unix {}\".format(fname))\n",
    "\n",
    "def improve_md(fname):\n",
    "    with open(fname, \"r\") as f:\n",
    "        r = f.read()\n",
    "    r = r.replace(\"```python\\n%%cpp\", \"```cpp\\n%%cpp\")\n",
    "    r = r.replace('\\n', \"SUPER_SLASH\" + \"_N_REPLACER\")\n",
    "    r = re.sub(r'\\<\\!--MD_BEGIN_FILTER--\\>.*?\\<\\!--MD_END_FILTER--\\>', \"\", r)\n",
    "    r = re.sub(r'(\\#SET_UP_MAGIC_BEGIN.*?\\#SET_UP_MAGIC_END)', \"<too much code>\", r)\n",
    "    r = r.replace(\"SUPER_SLASH\" + \"_N_REPLACER\", '\\n')\n",
    "    \n",
    "    def file_repl(matchobj, path=os.path.dirname(fname)):\n",
    "        fname = os.path.join(path, matchobj.group(1))\n",
    "        if fname.find(\"__FILE__\") == -1:\n",
    "            with open(fname, \"r\") as f:\n",
    "                return \"\\n```\\n\" + f.read() + \"\\n```\\n\"\n",
    "    \n",
    "    r = r.replace(\"</td>\", \"\")\n",
    "    r = r.replace(\"</tr>\", \"\")\n",
    "    \n",
    "    r = re.sub(r'\\<\\!--MD_FROM_FILE (.*?) --\\>', file_repl, r)\n",
    "    with open(fname, \"w\") as f:\n",
    "        f.write(r)\n",
    "        \n",
    "def improve_file(fname):\n",
    "    basic_improve(fname)\n",
    "    if fname.endswith(\".md\"):\n",
    "        improve_md(fname)\n"
   ]
  },
  {
   "cell_type": "code",
   "execution_count": null,
   "metadata": {},
   "outputs": [],
   "source": [
    "for sfx in [\".ipynb\", \".md\"]:\n",
    "    for hdir in highlevel_dirs:\n",
    "        for fname in glob.glob(\"./{}/*\".format(hdir) + sfx):\n",
    "            improve_file(fname)"
   ]
  },
  {
   "cell_type": "code",
   "execution_count": null,
   "metadata": {
    "scrolled": false
   },
   "outputs": [],
   "source": [
    "for subdir in highlevel_dirs:\n",
    "    for sfx in [\".ipynb\", \".md\", \".c\", \".cpp\"]:\n",
    "        get_ipython().system(\"git add {}/*{}\".format(os.path.basename(subdir), sfx))\n",
    "    get_ipython().system(\"git add -f {}/bash_popen_tmp/*.html\".format(os.path.basename(subdir)))\n",
    "get_ipython().system(\"git add -u\")\n",
    "get_ipython().system(\"git commit -m 'yet another update'\")\n",
    "get_ipython().system(\"git push origin master\")"
   ]
  },
  {
   "cell_type": "code",
   "execution_count": null,
   "metadata": {},
   "outputs": [],
   "source": []
  },
  {
   "cell_type": "code",
   "execution_count": null,
   "metadata": {},
   "outputs": [],
   "source": []
  },
  {
   "cell_type": "code",
   "execution_count": null,
   "metadata": {},
   "outputs": [],
   "source": []
  }
 ],
 "metadata": {
  "kernelspec": {
   "display_name": "Python 3",
   "language": "python",
   "name": "python3"
  },
  "language_info": {
   "codemirror_mode": {
    "name": "ipython",
    "version": 3
   },
   "file_extension": ".py",
   "mimetype": "text/x-python",
   "name": "python",
   "nbconvert_exporter": "python",
   "pygments_lexer": "ipython3",
   "version": "3.5.2"
  }
 },
 "nbformat": 4,
 "nbformat_minor": 2
}
