{
 "cells": [
  {
   "cell_type": "code",
   "execution_count": 1,
   "metadata": {
    "scrolled": true
   },
   "outputs": [
    {
     "name": "stdout",
     "output_type": "stream",
     "text": [
      "./sem04-asm-arm ['./sem04-asm-arm/arm.ipynb']\n",
      "[NbConvertApp] Converting notebook ./sem04-asm-arm/arm.ipynb to markdown\n",
      "[NbConvertApp] Writing 7422 bytes to ./sem04-asm-arm/README.md\n",
      "./sem11-mmap-instrumentation ['./sem11-mmap-instrumentation/mmap_and_instrumentation.ipynb']\n",
      "[NbConvertApp] Converting notebook ./sem11-mmap-instrumentation/mmap_and_instrumentation.ipynb to markdown\n",
      "[NbConvertApp] Writing 23784 bytes to ./sem11-mmap-instrumentation/README.md\n",
      "./sem10-file-attributes ['./sem10-file-attributes/file-attrib.ipynb']\n",
      "[NbConvertApp] Converting notebook ./sem10-file-attributes/file-attrib.ipynb to markdown\n",
      "[NbConvertApp] Writing 16319 bytes to ./sem10-file-attributes/README.md\n",
      "./sem03-ints-floats ['./sem03-ints-floats/sem3_floats.ipynb', './sem03-ints-floats/sem3_ints.ipynb']\n",
      "[NbConvertApp] Converting notebook ./sem03-ints-floats/sem3_floats.ipynb to markdown\n",
      "[NbConvertApp] Writing 2857 bytes to ./sem03-ints-floats/sem3_floats.md\n",
      "[NbConvertApp] Converting notebook ./sem03-ints-floats/sem3_ints.ipynb to markdown\n",
      "[NbConvertApp] Writing 3840 bytes to ./sem03-ints-floats/sem3_ints.md\n",
      "./sem07-asm-x86-x87-sse ['./sem07-asm-x86-x87-sse/sse_x86.ipynb', './sem07-asm-x86-x87-sse/floating_point_x86.ipynb']\n",
      "[NbConvertApp] Converting notebook ./sem07-asm-x86-x87-sse/sse_x86.ipynb to markdown\n",
      "[NbConvertApp] Writing 13366 bytes to ./sem07-asm-x86-x87-sse/sse_x86.md\n",
      "[NbConvertApp] Converting notebook ./sem07-asm-x86-x87-sse/floating_point_x86.ipynb to markdown\n",
      "[NbConvertApp] Writing 8065 bytes to ./sem07-asm-x86-x87-sse/floating_point_x86.md\n",
      "./sem12-fork-exec-pipe ['./sem12-fork-exec-pipe/fork-pipe-exec.ipynb']\n",
      "[NbConvertApp] Converting notebook ./sem12-fork-exec-pipe/fork-pipe-exec.ipynb to markdown\n",
      "[NbConvertApp] Writing 16528 bytes to ./sem12-fork-exec-pipe/README.md\n",
      "./sem08-asm-x86-nostdlib ['./sem08-asm-x86-nostdlib/nostdlib.ipynb']\n",
      "[NbConvertApp] Converting notebook ./sem08-asm-x86-nostdlib/nostdlib.ipynb to markdown\n",
      "[NbConvertApp] Writing 23229 bytes to ./sem08-asm-x86-nostdlib/README.md\n",
      "./sem06-asm-x86 ['./sem06-asm-x86/asm_x86.ipynb']\n",
      "[NbConvertApp] Converting notebook ./sem06-asm-x86/asm_x86.ipynb to markdown\n",
      "[NbConvertApp] Writing 33694 bytes to ./sem06-asm-x86/README.md\n",
      "./sem05-asm-arm-addressing ['./sem05-asm-arm-addressing/adressing.ipynb']\n",
      "[NbConvertApp] Converting notebook ./sem05-asm-arm-addressing/adressing.ipynb to markdown\n",
      "[NbConvertApp] Writing 16776 bytes to ./sem05-asm-arm-addressing/README.md\n",
      "./sem01 ['./sem01/sem1.ipynb']\n",
      "[NbConvertApp] Converting notebook ./sem01/sem1.ipynb to markdown\n",
      "[NbConvertApp] Writing 2135 bytes to ./sem01/README.md\n",
      "./sem09-low-level-io ['./sem09-low-level-io/low-level-io.ipynb']\n",
      "[NbConvertApp] Converting notebook ./sem09-low-level-io/low-level-io.ipynb to markdown\n",
      "[NbConvertApp] Writing 17581 bytes to ./sem09-low-level-io/README.md\n"
     ]
    }
   ],
   "source": [
    "import glob\n",
    "import os\n",
    "import subprocess\n",
    "\n",
    "def convert(n, d):\n",
    "    get_ipython().system(\"jupyter nbconvert {} --to markdown --output {}\".format(n, d))\n",
    "    subprocess.check_call([\"jupyter\", \"nbconvert\", n, \"--to\", \"markdown\", \"--output\", d])\n",
    "    \n",
    "for subdir in glob.glob(\"./sem*\"):\n",
    "    notebooks = glob.glob(subdir + \"/*.ipynb\")\n",
    "    print(subdir, notebooks)\n",
    "    for m in glob.glob(subdir + \"/*.md\"):\n",
    "        os.remove(m)\n",
    "        \n",
    "#     for n in notebooks:\n",
    "#         subprocess.check_call([\"jupyter\", \"nbconvert\", n, \"--to\", \"pdf\", \n",
    "#                                \"--output\", os.path.basename(n.replace(\".ipynb\", \"\"))])\n",
    "\n",
    "    if len(notebooks) == 1:\n",
    "        convert(notebooks[0], \"README\")\n",
    "    else:\n",
    "        for n in notebooks:\n",
    "            convert(n, os.path.basename(n.replace(\".ipynb\", \"\")))\n",
    "        \n"
   ]
  },
  {
   "cell_type": "code",
   "execution_count": 2,
   "metadata": {},
   "outputs": [
    {
     "data": {
      "text/plain": [
       "'jupyter nbconvert ./sem04-asm-arm/arm.ipynb --to pdf --output arm'"
      ]
     },
     "execution_count": 2,
     "metadata": {},
     "output_type": "execute_result"
    }
   ],
   "source": [
    "\" \".join(['jupyter', 'nbconvert', './sem04-asm-arm/arm.ipynb', '--to', 'pdf', '--output', 'arm'])"
   ]
  },
  {
   "cell_type": "code",
   "execution_count": 3,
   "metadata": {},
   "outputs": [],
   "source": [
    "# !jupyter nbconvert ./sem04-asm-arm/arm.ipynb --to pdf --output arm\n"
   ]
  },
  {
   "cell_type": "code",
   "execution_count": 4,
   "metadata": {},
   "outputs": [
    {
     "name": "stdout",
     "output_type": "stream",
     "text": [
      "dos2unix: converting file ./sem04-asm-arm/arm.ipynb to Unix format ...\n",
      "dos2unix: converting file ./sem11-mmap-instrumentation/mmap_and_instrumentation.ipynb to Unix format ...\n",
      "dos2unix: converting file ./sem10-file-attributes/file-attrib.ipynb to Unix format ...\n",
      "dos2unix: converting file ./sem03-ints-floats/sem3_floats.ipynb to Unix format ...\n",
      "dos2unix: converting file ./sem03-ints-floats/sem3_ints.ipynb to Unix format ...\n",
      "dos2unix: converting file ./sem07-asm-x86-x87-sse/sse_x86.ipynb to Unix format ...\n",
      "dos2unix: converting file ./sem07-asm-x86-x87-sse/floating_point_x86.ipynb to Unix format ...\n",
      "dos2unix: converting file ./sem12-fork-exec-pipe/fork-pipe-exec.ipynb to Unix format ...\n",
      "dos2unix: converting file ./sem08-asm-x86-nostdlib/nostdlib.ipynb to Unix format ...\n",
      "dos2unix: converting file ./sem06-asm-x86/asm_x86.ipynb to Unix format ...\n",
      "dos2unix: converting file ./sem05-asm-arm-addressing/adressing.ipynb to Unix format ...\n",
      "dos2unix: converting file ./sem01/sem1.ipynb to Unix format ...\n",
      "dos2unix: converting file ./sem09-low-level-io/low-level-io.ipynb to Unix format ...\n",
      "dos2unix: converting file ./sem04-asm-arm/README.md to Unix format ...\n",
      "dos2unix: converting file ./sem11-mmap-instrumentation/README.md to Unix format ...\n",
      "dos2unix: converting file ./sem10-file-attributes/README.md to Unix format ...\n",
      "dos2unix: converting file ./sem03-ints-floats/sem3_ints.md to Unix format ...\n",
      "dos2unix: converting file ./sem03-ints-floats/sem3_floats.md to Unix format ...\n",
      "dos2unix: converting file ./sem07-asm-x86-x87-sse/floating_point_x86.md to Unix format ...\n",
      "dos2unix: converting file ./sem07-asm-x86-x87-sse/sse_x86.md to Unix format ...\n",
      "dos2unix: converting file ./sem12-fork-exec-pipe/README.md to Unix format ...\n",
      "dos2unix: converting file ./sem08-asm-x86-nostdlib/README.md to Unix format ...\n",
      "dos2unix: converting file ./sem06-asm-x86/README.md to Unix format ...\n",
      "dos2unix: converting file ./sem05-asm-arm-addressing/README.md to Unix format ...\n",
      "dos2unix: converting file ./sem01/README.md to Unix format ...\n",
      "dos2unix: converting file ./sem09-low-level-io/README.md to Unix format ...\n"
     ]
    }
   ],
   "source": [
    "for sfx in [\".ipynb\", \".md\"]:\n",
    "    for fname in glob.glob(\"./sem*/*\" + sfx):\n",
    "        with open(fname, \"r\") as f:\n",
    "            r = f.read()\n",
    "        for b in [\"\\x00\", \"\\x1B\", \"\\x08\"]:\n",
    "            r = r.replace(b, \"\")\n",
    "        with open(fname, \"w\") as f:\n",
    "            f.write(r)\n",
    "        get_ipython().system(\"dos2unix {}\".format(fname))"
   ]
  },
  {
   "cell_type": "code",
   "execution_count": 5,
   "metadata": {},
   "outputs": [
    {
     "name": "stdout",
     "output_type": "stream",
     "text": [
      "warning: LF will be replaced by CRLF in sem04-asm-arm/arm.ipynb.\n",
      "The file will have its original line endings in your working directory.\n",
      "warning: LF will be replaced by CRLF in sem04-asm-arm/README.md.\n",
      "The file will have its original line endings in your working directory.\n",
      "fatal: pathspec 'sem04-asm-arm/*.cpp' did not match any files\n",
      "warning: LF will be replaced by CRLF in sem11-mmap-instrumentation/mmap_and_instrumentation.ipynb.\n",
      "The file will have its original line endings in your working directory.\n",
      "warning: LF will be replaced by CRLF in sem11-mmap-instrumentation/README.md.\n",
      "The file will have its original line endings in your working directory.\n",
      "warning: LF will be replaced by CRLF in sem10-file-attributes/file-attrib.ipynb.\n",
      "The file will have its original line endings in your working directory.\n",
      "warning: LF will be replaced by CRLF in sem10-file-attributes/README.md.\n",
      "The file will have its original line endings in your working directory.\n",
      "fatal: pathspec 'sem10-file-attributes/*.cpp' did not match any files\n",
      "warning: LF will be replaced by CRLF in sem03-ints-floats/sem3_floats.ipynb.\n",
      "The file will have its original line endings in your working directory.\n",
      "warning: LF will be replaced by CRLF in sem03-ints-floats/sem3_ints.ipynb.\n",
      "The file will have its original line endings in your working directory.\n",
      "warning: LF will be replaced by CRLF in sem03-ints-floats/sem3_floats.md.\n",
      "The file will have its original line endings in your working directory.\n",
      "warning: LF will be replaced by CRLF in sem03-ints-floats/sem3_ints.md.\n",
      "The file will have its original line endings in your working directory.\n",
      "fatal: pathspec 'sem03-ints-floats/*.cpp' did not match any files\n",
      "warning: LF will be replaced by CRLF in sem07-asm-x86-x87-sse/floating_point_x86.ipynb.\n",
      "The file will have its original line endings in your working directory.\n",
      "warning: LF will be replaced by CRLF in sem07-asm-x86-x87-sse/sse_x86.ipynb.\n",
      "The file will have its original line endings in your working directory.\n",
      "warning: LF will be replaced by CRLF in sem07-asm-x86-x87-sse/floating_point_x86.md.\n",
      "The file will have its original line endings in your working directory.\n",
      "warning: LF will be replaced by CRLF in sem07-asm-x86-x87-sse/sse_x86.md.\n",
      "The file will have its original line endings in your working directory.\n",
      "fatal: pathspec 'sem07-asm-x86-x87-sse/*.cpp' did not match any files\n",
      "warning: LF will be replaced by CRLF in sem12-fork-exec-pipe/fork-pipe-exec.ipynb.\n",
      "The file will have its original line endings in your working directory.\n",
      "warning: LF will be replaced by CRLF in sem12-fork-exec-pipe/README.md.\n",
      "The file will have its original line endings in your working directory.\n",
      "fatal: pathspec 'sem12-fork-exec-pipe/*.c' did not match any files\n",
      "warning: LF will be replaced by CRLF in sem12-fork-exec-pipe/fork_exec.cpp.\n",
      "The file will have its original line endings in your working directory.\n",
      "warning: LF will be replaced by CRLF in sem12-fork-exec-pipe/fork_exec_pipe.cpp.\n",
      "The file will have its original line endings in your working directory.\n",
      "warning: LF will be replaced by CRLF in sem12-fork-exec-pipe/redirect.cpp.\n",
      "The file will have its original line endings in your working directory.\n",
      "warning: LF will be replaced by CRLF in sem12-fork-exec-pipe/simpliest_example.cpp.\n",
      "The file will have its original line endings in your working directory.\n",
      "warning: LF will be replaced by CRLF in sem08-asm-x86-nostdlib/nostdlib.ipynb.\n",
      "The file will have its original line endings in your working directory.\n",
      "warning: LF will be replaced by CRLF in sem08-asm-x86-nostdlib/README.md.\n",
      "The file will have its original line endings in your working directory.\n",
      "fatal: pathspec 'sem08-asm-x86-nostdlib/*.cpp' did not match any files\n",
      "warning: LF will be replaced by CRLF in sem06-asm-x86/asm_x86.ipynb.\n",
      "The file will have its original line endings in your working directory.\n",
      "warning: LF will be replaced by CRLF in sem06-asm-x86/README.md.\n",
      "The file will have its original line endings in your working directory.\n",
      "fatal: pathspec 'sem06-asm-x86/*.cpp' did not match any files\n",
      "warning: LF will be replaced by CRLF in sem05-asm-arm-addressing/adressing.ipynb.\n",
      "The file will have its original line endings in your working directory.\n",
      "warning: LF will be replaced by CRLF in sem05-asm-arm-addressing/README.md.\n",
      "The file will have its original line endings in your working directory.\n",
      "fatal: pathspec 'sem05-asm-arm-addressing/*.cpp' did not match any files\n",
      "warning: LF will be replaced by CRLF in sem01/sem1.ipynb.\n",
      "The file will have its original line endings in your working directory.\n",
      "warning: LF will be replaced by CRLF in sem01/README.md.\n",
      "The file will have its original line endings in your working directory.\n",
      "fatal: pathspec 'sem01/*.cpp' did not match any files\n",
      "warning: LF will be replaced by CRLF in sem09-low-level-io/low-level-io.ipynb.\n",
      "The file will have its original line endings in your working directory.\n",
      "warning: LF will be replaced by CRLF in sem09-low-level-io/README.md.\n",
      "The file will have its original line endings in your working directory.\n",
      "fatal: pathspec 'sem09-low-level-io/*.cpp' did not match any files\n",
      "warning: LF will be replaced by CRLF in save_them_all.ipynb.\n",
      "The file will have its original line endings in your working directory.\n",
      "warning: LF will be replaced by CRLF in save_them_all.ipynb.\n",
      "The file will have its original line endings in your working directory.\n",
      "[master 993b132] yet another update\n",
      "warning: LF will be replaced by CRLF in save_them_all.ipynb.\n",
      "The file will have its original line endings in your working directory.\n",
      "warning: LF will be replaced by CRLF in sem12-fork-exec-pipe/README.md.\n",
      "The file will have its original line endings in your working directory.\n",
      "warning: LF will be replaced by CRLF in sem12-fork-exec-pipe/fork-pipe-exec.ipynb.\n",
      "The file will have its original line endings in your working directory.\n",
      "warning: LF will be replaced by CRLF in sem12-fork-exec-pipe/fork_exec.cpp.\n",
      "The file will have its original line endings in your working directory.\n",
      "warning: LF will be replaced by CRLF in sem12-fork-exec-pipe/fork_exec_pipe.cpp.\n",
      "The file will have its original line endings in your working directory.\n",
      "warning: LF will be replaced by CRLF in sem12-fork-exec-pipe/redirect.cpp.\n",
      "The file will have its original line endings in your working directory.\n",
      "warning: LF will be replaced by CRLF in sem12-fork-exec-pipe/simpliest_example.cpp.\n",
      "The file will have its original line endings in your working directory.\n",
      " 7 files changed, 1454 insertions(+), 13 deletions(-)\n",
      " create mode 100644 sem12-fork-exec-pipe/README.md\n",
      " create mode 100644 sem12-fork-exec-pipe/fork-pipe-exec.ipynb\n",
      " create mode 100644 sem12-fork-exec-pipe/fork_exec.cpp\n",
      " create mode 100644 sem12-fork-exec-pipe/fork_exec_pipe.cpp\n",
      " create mode 100644 sem12-fork-exec-pipe/redirect.cpp\n",
      " create mode 100644 sem12-fork-exec-pipe/simpliest_example.cpp\n",
      "Counting objects: 10, done.\n",
      "Compressing objects: 100% (10/10), done.\n",
      "Writing objects: 100% (10/10), 13.50 KiB | 0 bytes/s, done.\n",
      "Total 10 (delta 2), reused 0 (delta 0)\n",
      "remote: Resolving deltas: 100% (2/2), completed with 1 local object.\u001b[K\n",
      "To git@github.com:yuri-pechatnov/caos_2019-2020.git\n",
      "   61ddb8d..993b132  master -> master\n"
     ]
    }
   ],
   "source": [
    "for subdir in glob.glob(\"./sem*\"):\n",
    "    for sfx in [\".ipynb\", \".md\", \".c\", \".cpp\"]:\n",
    "        get_ipython().system(\"git add {}/*{}\".format(os.path.basename(subdir), sfx))\n",
    "get_ipython().system(\"git add -u\")\n",
    "get_ipython().system(\"git commit -m 'yet another update'\")\n",
    "get_ipython().system(\"git push origin master\")"
   ]
  },
  {
   "cell_type": "code",
   "execution_count": 6,
   "metadata": {},
   "outputs": [
    {
     "data": {
      "text/plain": [
       "'0x61'"
      ]
     },
     "execution_count": 6,
     "metadata": {},
     "output_type": "execute_result"
    }
   ],
   "source": [
    "hex(ord('a'))"
   ]
  },
  {
   "cell_type": "code",
   "execution_count": 7,
   "metadata": {},
   "outputs": [
    {
     "data": {
      "text/plain": [
       "'a'"
      ]
     },
     "execution_count": 7,
     "metadata": {},
     "output_type": "execute_result"
    }
   ],
   "source": [
    "\"\\x61\""
   ]
  },
  {
   "cell_type": "code",
   "execution_count": null,
   "metadata": {},
   "outputs": [],
   "source": []
  }
 ],
 "metadata": {
  "kernelspec": {
   "display_name": "Python 3",
   "language": "python",
   "name": "python3"
  },
  "language_info": {
   "codemirror_mode": {
    "name": "ipython",
    "version": 3
   },
   "file_extension": ".py",
   "mimetype": "text/x-python",
   "name": "python",
   "nbconvert_exporter": "python",
   "pygments_lexer": "ipython3",
   "version": "3.5.2"
  }
 },
 "nbformat": 4,
 "nbformat_minor": 2
}
