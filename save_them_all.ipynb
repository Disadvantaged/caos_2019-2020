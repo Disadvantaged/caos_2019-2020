{
 "cells": [
  {
   "cell_type": "code",
   "execution_count": null,
   "metadata": {
    "scrolled": true
   },
   "outputs": [
    {
     "name": "stdout",
     "output_type": "stream",
     "text": [
      "./sem04-asm-arm ['./sem04-asm-arm/arm.ipynb']\n",
      "[NbConvertApp] Converting notebook ./sem04-asm-arm/arm.ipynb to markdown\n",
      "[NbConvertApp] Writing 7422 bytes to ./sem04-asm-arm/README.md\n",
      "./sem11-mmap-instrumentation ['./sem11-mmap-instrumentation/mmap_and_instrumentation.ipynb']\n",
      "[NbConvertApp] Converting notebook ./sem11-mmap-instrumentation/mmap_and_instrumentation.ipynb to markdown\n",
      "[NbConvertApp] Writing 23442 bytes to ./sem11-mmap-instrumentation/README.md\n",
      "./sem10-file-attributes ['./sem10-file-attributes/file-attrib.ipynb']\n",
      "[NbConvertApp] Converting notebook ./sem10-file-attributes/file-attrib.ipynb to markdown\n",
      "[NbConvertApp] Writing 16319 bytes to ./sem10-file-attributes/README.md\n",
      "./sem03-ints-floats ['./sem03-ints-floats/sem3_floats.ipynb', './sem03-ints-floats/sem3_ints.ipynb']\n",
      "[NbConvertApp] Converting notebook ./sem03-ints-floats/sem3_floats.ipynb to markdown\n",
      "[NbConvertApp] Writing 2857 bytes to ./sem03-ints-floats/sem3_floats.md\n",
      "[NbConvertApp] Converting notebook ./sem03-ints-floats/sem3_ints.ipynb to markdown\n",
      "[NbConvertApp] Writing 3840 bytes to ./sem03-ints-floats/sem3_ints.md\n",
      "./sem07-asm-x86-x87-sse ['./sem07-asm-x86-x87-sse/sse_x86.ipynb', './sem07-asm-x86-x87-sse/floating_point_x86.ipynb']\n",
      "[NbConvertApp] Converting notebook ./sem07-asm-x86-x87-sse/sse_x86.ipynb to markdown\n",
      "[NbConvertApp] Writing 13366 bytes to ./sem07-asm-x86-x87-sse/sse_x86.md\n",
      "[NbConvertApp] Converting notebook ./sem07-asm-x86-x87-sse/floating_point_x86.ipynb to markdown\n",
      "[NbConvertApp] Writing 8065 bytes to ./sem07-asm-x86-x87-sse/floating_point_x86.md\n",
      "./sem12-fork-exec-pipe ['./sem12-fork-exec-pipe/fork-pipe-exec.ipynb']\n",
      "[NbConvertApp] Converting notebook ./sem12-fork-exec-pipe/fork-pipe-exec.ipynb to markdown\n",
      "[NbConvertApp] Writing 20686 bytes to ./sem12-fork-exec-pipe/README.md\n",
      "./sem08-asm-x86-nostdlib ['./sem08-asm-x86-nostdlib/nostdlib.ipynb']\n",
      "[NbConvertApp] Converting notebook ./sem08-asm-x86-nostdlib/nostdlib.ipynb to markdown\n",
      "[NbConvertApp] Writing 23229 bytes to ./sem08-asm-x86-nostdlib/README.md\n",
      "./sem13-signal ['./sem13-signal/signal.ipynb']\n",
      "[NbConvertApp] Converting notebook ./sem13-signal/signal.ipynb to markdown\n",
      "[NbConvertApp] Writing 18929 bytes to ./sem13-signal/README.md\n",
      "./sem06-asm-x86 ['./sem06-asm-x86/asm_x86.ipynb']\n",
      "[NbConvertApp] Converting notebook ./sem06-asm-x86/asm_x86.ipynb to markdown\n",
      "[NbConvertApp] Writing 33694 bytes to ./sem06-asm-x86/README.md\n",
      "./sem05-asm-arm-addressing ['./sem05-asm-arm-addressing/adressing.ipynb']\n",
      "[NbConvertApp] Converting notebook ./sem05-asm-arm-addressing/adressing.ipynb to markdown\n",
      "[NbConvertApp] Writing 19898 bytes to ./sem05-asm-arm-addressing/README.md\n",
      "./sem01 ['./sem01/sem1.ipynb']\n",
      "[NbConvertApp] Converting notebook ./sem01/sem1.ipynb to markdown\n",
      "[NbConvertApp] Writing 2135 bytes to ./sem01/README.md\n",
      "./sem09-low-level-io ['./sem09-low-level-io/low-level-io.ipynb']\n",
      "[NbConvertApp] Converting notebook ./sem09-low-level-io/low-level-io.ipynb to markdown\n",
      "[NbConvertApp] Writing 17581 bytes to ./sem09-low-level-io/README.md\n"
     ]
    }
   ],
   "source": [
    "import glob\n",
    "import os\n",
    "import subprocess\n",
    "\n",
    "def convert(n, d):\n",
    "    get_ipython().system(\"jupyter nbconvert {} --to markdown --output {}\".format(n, d))\n",
    "    subprocess.check_call([\"jupyter\", \"nbconvert\", n, \"--to\", \"markdown\", \"--output\", d])\n",
    "    \n",
    "for subdir in glob.glob(\"./sem*\"):\n",
    "    notebooks = glob.glob(subdir + \"/*.ipynb\")\n",
    "    print(subdir, notebooks)\n",
    "    for m in glob.glob(subdir + \"/*.md\"):\n",
    "        os.remove(m)\n",
    "        \n",
    "#     for n in notebooks:\n",
    "#         subprocess.check_call([\"jupyter\", \"nbconvert\", n, \"--to\", \"pdf\", \n",
    "#                                \"--output\", os.path.basename(n.replace(\".ipynb\", \"\"))])\n",
    "\n",
    "    if len(notebooks) == 1:\n",
    "        convert(notebooks[0], \"README\")\n",
    "    else:\n",
    "        for n in notebooks:\n",
    "            convert(n, os.path.basename(n.replace(\".ipynb\", \"\")))\n",
    "        \n"
   ]
  },
  {
   "cell_type": "code",
   "execution_count": null,
   "metadata": {},
   "outputs": [],
   "source": [
    "\" \".join(['jupyter', 'nbconvert', './sem04-asm-arm/arm.ipynb', '--to', 'pdf', '--output', 'arm'])"
   ]
  },
  {
   "cell_type": "code",
   "execution_count": null,
   "metadata": {},
   "outputs": [],
   "source": [
    "# !jupyter nbconvert ./sem04-asm-arm/arm.ipynb --to pdf --output arm\n"
   ]
  },
  {
   "cell_type": "code",
   "execution_count": null,
   "metadata": {},
   "outputs": [],
   "source": [
    "for sfx in [\".ipynb\", \".md\"]:\n",
    "    for fname in glob.glob(\"./sem*/*\" + sfx):\n",
    "        with open(fname, \"r\") as f:\n",
    "            r = f.read()\n",
    "        for b in [\"\\x00\", \"\\x1B\", \"\\x08\"]:\n",
    "            r = r.replace(b, \"\")\n",
    "        if sfx == \".md\":\n",
    "            r = r.replace(\"```python\\n%%cpp\", \"```cpp\\n%%cpp\")\n",
    "        with open(fname, \"w\") as f:\n",
    "            f.write(r)\n",
    "        get_ipython().system(\"dos2unix {}\".format(fname))"
   ]
  },
  {
   "cell_type": "code",
   "execution_count": null,
   "metadata": {},
   "outputs": [],
   "source": [
    "for subdir in glob.glob(\"./sem*\"):\n",
    "    for sfx in [\".ipynb\", \".md\", \".c\", \".cpp\"]:\n",
    "        get_ipython().system(\"git add {}/*{}\".format(os.path.basename(subdir), sfx))\n",
    "get_ipython().system(\"git add -u\")\n",
    "get_ipython().system(\"git commit -m 'yet another update'\")\n",
    "get_ipython().system(\"git push origin master\")"
   ]
  },
  {
   "cell_type": "code",
   "execution_count": null,
   "metadata": {},
   "outputs": [],
   "source": [
    "hex(ord('a'))"
   ]
  },
  {
   "cell_type": "code",
   "execution_count": null,
   "metadata": {},
   "outputs": [],
   "source": [
    "\"\\x61\""
   ]
  },
  {
   "cell_type": "code",
   "execution_count": null,
   "metadata": {},
   "outputs": [],
   "source": []
  }
 ],
 "metadata": {
  "kernelspec": {
   "display_name": "Python 3",
   "language": "python",
   "name": "python3"
  },
  "language_info": {
   "codemirror_mode": {
    "name": "ipython",
    "version": 3
   },
   "file_extension": ".py",
   "mimetype": "text/x-python",
   "name": "python",
   "nbconvert_exporter": "python",
   "pygments_lexer": "ipython3",
   "version": "3.5.2"
  }
 },
 "nbformat": 4,
 "nbformat_minor": 2
}
