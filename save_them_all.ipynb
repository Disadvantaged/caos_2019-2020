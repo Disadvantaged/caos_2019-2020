{
 "cells": [
  {
   "cell_type": "code",
   "execution_count": 26,
   "metadata": {
    "scrolled": true
   },
   "outputs": [
    {
     "name": "stdout",
     "output_type": "stream",
     "text": [
      "tools ['tools/set_up_magics.ipynb', 'tools/set_up_magics_dev.ipynb']\n",
      "[NbConvertApp] Converting notebook tools/set_up_magics.ipynb to markdown\n",
      "[NbConvertApp] Writing 46123 bytes to tools/set_up_magics.md\n",
      "[NbConvertApp] Converting notebook tools/set_up_magics_dev.ipynb to markdown\n",
      "[NbConvertApp] Writing 32 bytes to tools/set_up_magics_dev.md\n"
     ]
    }
   ],
   "source": [
    "import glob\n",
    "import os\n",
    "import subprocess\n",
    "\n",
    "def convert(n, d):\n",
    "    get_ipython().system(\"jupyter nbconvert {} --to markdown --output {}\".format(n, d))\n",
    "    #subprocess.check_call([\"jupyter\", \"nbconvert\", n, \"--to\", \"markdown\", \"--output\", d])\n",
    "\n",
    "highlevel_dirs = [\"tools\"] # + glob.glob(\"./sem*\")\n",
    "\n",
    "for subdir in highlevel_dirs:\n",
    "    notebooks = glob.glob(subdir + \"/*.ipynb\")\n",
    "    print(subdir, notebooks)\n",
    "    for m in glob.glob(subdir + \"/*.md\"):\n",
    "        os.remove(m)\n",
    "    if len(notebooks) == 1:\n",
    "        convert(notebooks[0], \"README\")\n",
    "    else:\n",
    "        for n in notebooks:\n",
    "            convert(n, os.path.basename(n.replace(\".ipynb\", \"\")))\n",
    "        \n"
   ]
  },
  {
   "cell_type": "code",
   "execution_count": 27,
   "metadata": {},
   "outputs": [
    {
     "data": {
      "text/plain": [
       "'jupyter nbconvert ./sem04-asm-arm/arm.ipynb --to pdf --output arm'"
      ]
     },
     "execution_count": 27,
     "metadata": {},
     "output_type": "execute_result"
    }
   ],
   "source": [
    "\" \".join(['jupyter', 'nbconvert', './sem04-asm-arm/arm.ipynb', '--to', 'pdf', '--output', 'arm'])"
   ]
  },
  {
   "cell_type": "code",
   "execution_count": 28,
   "metadata": {},
   "outputs": [],
   "source": [
    "import re\n",
    "\n",
    "def basic_improve(fname):\n",
    "    with open(fname, \"r\") as f:\n",
    "        r = f.read()\n",
    "    for b in [\"\\x00\", \"\\x1B\", \"\\x08\"]:\n",
    "        r = r.replace(b, \"\")\n",
    "    with open(fname, \"w\") as f:\n",
    "        f.write(r)\n",
    "    get_ipython().system(\"dos2unix {}\".format(fname))\n",
    "\n",
    "def improve_md(fname):\n",
    "    with open(fname, \"r\") as f:\n",
    "        r = f.read()\n",
    "    r = r.replace(\"```python\\n%%cpp\", \"```cpp\\n%%cpp\")\n",
    "    r = r.replace('\\n', \"SUPER_SLASH\" + \"_N_REPLACER\")\n",
    "    r = re.sub(r'\\<\\!--MD_BEGIN_FILTER--\\>.*?\\<\\!--MD_END_FILTER--\\>', \"\", r)\n",
    "    r = re.sub(r'(\\#SET_UP_MAGIC_BEGIN.*?\\#SET_UP_MAGIC_END)', \"<too much code>\", r)\n",
    "    r = r.replace(\"SUPER_SLASH\" + \"_N_REPLACER\", '\\n')\n",
    "    \n",
    "    def file_repl(matchobj, path=os.path.dirname(fname)):\n",
    "        fname = os.path.join(path, matchobj.group(1))\n",
    "        if fname.find(\"__FILE__\") == -1:\n",
    "            with open(fname, \"r\") as f:\n",
    "                return \"\\n```\\n\" + f.read() + \"\\n```\\n\"\n",
    "    \n",
    "    r = r.replace(\"</td>\", \"\")\n",
    "    r = r.replace(\"</tr>\", \"\")\n",
    "    \n",
    "    r = re.sub(r'\\<\\!--MD_FROM_FILE (.*?) --\\>', file_repl, r)\n",
    "    with open(fname, \"w\") as f:\n",
    "        f.write(r)\n",
    "        \n",
    "def improve_file(fname):\n",
    "    basic_improve(fname)\n",
    "    if fname.endswith(\".md\"):\n",
    "        improve_md(fname)\n"
   ]
  },
  {
   "cell_type": "code",
   "execution_count": 29,
   "metadata": {},
   "outputs": [
    {
     "name": "stdout",
     "output_type": "stream",
     "text": [
      "dos2unix: converting file ./tools/set_up_magics.ipynb to Unix format ...\n",
      "dos2unix: converting file ./tools/set_up_magics_dev.ipynb to Unix format ...\n",
      "dos2unix: converting file ./tools/set_up_magics_dev.md to Unix format ...\n",
      "dos2unix: converting file ./tools/set_up_magics.md to Unix format ...\n"
     ]
    }
   ],
   "source": [
    "for sfx in [\".ipynb\", \".md\"]:\n",
    "    for hdir in highlevel_dirs:\n",
    "        for fname in glob.glob(\"./{}/*\".format(hdir) + sfx):\n",
    "            improve_file(fname)"
   ]
  },
  {
   "cell_type": "code",
   "execution_count": 30,
   "metadata": {
    "scrolled": false
   },
   "outputs": [
    {
     "name": "stdout",
     "output_type": "stream",
     "text": [
      "warning: LF will be replaced by CRLF in tools/set_up_magics.ipynb.\n",
      "The file will have its original line endings in your working directory.\n",
      "warning: LF will be replaced by CRLF in tools/set_up_magics_dev.ipynb.\n",
      "The file will have its original line endings in your working directory.\n",
      "warning: LF will be replaced by CRLF in tools/set_up_magics.md.\n",
      "The file will have its original line endings in your working directory.\n",
      "warning: LF will be replaced by CRLF in tools/set_up_magics_dev.md.\n",
      "The file will have its original line endings in your working directory.\n",
      "fatal: pathspec 'tools/*.c' did not match any files\n",
      "fatal: pathspec 'tools/*.cpp' did not match any files\n",
      "warning: LF will be replaced by CRLF in tools/bash_popen_tmp/801118341550463640.err.html.\n",
      "The file will have its original line endings in your working directory.\n",
      "warning: LF will be replaced by CRLF in tools/bash_popen_tmp/801118341550463640.fin.html.\n",
      "The file will have its original line endings in your working directory.\n",
      "warning: LF will be replaced by CRLF in save_them_all.ipynb.\n",
      "The file will have its original line endings in your working directory.\n",
      "warning: LF will be replaced by CRLF in save_them_all.ipynb.\n",
      "The file will have its original line endings in your working directory.\n",
      "warning: LF will be replaced by CRLF in tools/set_up_magics.ipynb.\n",
      "The file will have its original line endings in your working directory.\n",
      "warning: LF will be replaced by CRLF in tools/set_up_magics.md.\n",
      "The file will have its original line endings in your working directory.\n",
      "[master aab60c2] yet another update\n",
      "warning: LF will be replaced by CRLF in save_them_all.ipynb.\n",
      "The file will have its original line endings in your working directory.\n",
      "warning: LF will be replaced by CRLF in tools/bash_popen_tmp/801118341550463640.err.html.\n",
      "The file will have its original line endings in your working directory.\n",
      "warning: LF will be replaced by CRLF in tools/bash_popen_tmp/801118341550463640.fin.html.\n",
      "The file will have its original line endings in your working directory.\n",
      "warning: LF will be replaced by CRLF in tools/set_up_magics.ipynb.\n",
      "The file will have its original line endings in your working directory.\n",
      "warning: LF will be replaced by CRLF in tools/set_up_magics.md.\n",
      "The file will have its original line endings in your working directory.\n",
      " 6 files changed, 387 insertions(+), 498 deletions(-)\n",
      " rewrite save_them_all.ipynb (67%)\n",
      " create mode 100644 tools/bash_popen_tmp/801118341550463640.err.html\n",
      " create mode 100644 tools/bash_popen_tmp/801118341550463640.fin.html\n",
      " create mode 100644 tools/bash_popen_tmp/801118341550463640.out.html\n",
      "Counting objects: 8, done.\n",
      "Compressing objects: 100% (8/8), done.\n",
      "Writing objects: 100% (8/8), 2.17 KiB | 0 bytes/s, done.\n",
      "Total 8 (delta 4), reused 0 (delta 0)\n",
      "remote: Resolving deltas: 100% (4/4), completed with 4 local objects.\u001b[K\n",
      "To git@github.com:yuri-pechatnov/caos_2019-2020.git\n",
      "   5f08284..aab60c2  master -> master\n"
     ]
    }
   ],
   "source": [
    "for subdir in highlevel_dirs:\n",
    "    for sfx in [\".ipynb\", \".md\", \".c\", \".cpp\"]:\n",
    "        get_ipython().system(\"git add {}/*{}\".format(os.path.basename(subdir), sfx))\n",
    "    get_ipython().system(\"git add -f {}/bash_popen_tmp/*.html\".format(os.path.basename(subdir)))\n",
    "get_ipython().system(\"git add -u\")\n",
    "get_ipython().system(\"git commit -m 'yet another update'\")\n",
    "get_ipython().system(\"git push origin master\")"
   ]
  },
  {
   "cell_type": "code",
   "execution_count": null,
   "metadata": {},
   "outputs": [],
   "source": []
  },
  {
   "cell_type": "code",
   "execution_count": null,
   "metadata": {},
   "outputs": [],
   "source": []
  },
  {
   "cell_type": "code",
   "execution_count": null,
   "metadata": {},
   "outputs": [],
   "source": []
  }
 ],
 "metadata": {
  "kernelspec": {
   "display_name": "Python 3",
   "language": "python",
   "name": "python3"
  },
  "language_info": {
   "codemirror_mode": {
    "name": "ipython",
    "version": 3
   },
   "file_extension": ".py",
   "mimetype": "text/x-python",
   "name": "python",
   "nbconvert_exporter": "python",
   "pygments_lexer": "ipython3",
   "version": "3.5.2"
  }
 },
 "nbformat": 4,
 "nbformat_minor": 2
}
