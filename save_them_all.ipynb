{
 "cells": [
  {
   "cell_type": "code",
   "execution_count": null,
   "metadata": {
    "scrolled": true
   },
   "outputs": [
    {
     "name": "stdout",
     "output_type": "stream",
     "text": [
      "./sem04-asm-arm ['./sem04-asm-arm/arm.ipynb']\n",
      "[NbConvertApp] Converting notebook ./sem04-asm-arm/arm.ipynb to markdown\n",
      "[NbConvertApp] Writing 7067 bytes to ./sem04-asm-arm/README.md\n",
      "./sem10-file-attributes ['./sem10-file-attributes/file-attrib.ipynb']\n",
      "[NbConvertApp] Converting notebook ./sem10-file-attributes/file-attrib.ipynb to markdown\n",
      "[NbConvertApp] Writing 13224 bytes to ./sem10-file-attributes/README.md\n",
      "./sem03-ints-floats ['./sem03-ints-floats/sem3_floats.ipynb', './sem03-ints-floats/sem3_ints.ipynb']\n",
      "[NbConvertApp] Converting notebook ./sem03-ints-floats/sem3_floats.ipynb to markdown\n",
      "[NbConvertApp] Writing 2857 bytes to ./sem03-ints-floats/sem3_floats.md\n",
      "[NbConvertApp] Converting notebook ./sem03-ints-floats/sem3_ints.ipynb to markdown\n",
      "[NbConvertApp] Writing 3840 bytes to ./sem03-ints-floats/sem3_ints.md\n",
      "./sem07-asm-x86-x87-sse ['./sem07-asm-x86-x87-sse/sse_x86.ipynb', './sem07-asm-x86-x87-sse/floating_point_x86.ipynb']\n",
      "[NbConvertApp] Converting notebook ./sem07-asm-x86-x87-sse/sse_x86.ipynb to markdown\n",
      "[NbConvertApp] Writing 13366 bytes to ./sem07-asm-x86-x87-sse/sse_x86.md\n",
      "[NbConvertApp] Converting notebook ./sem07-asm-x86-x87-sse/floating_point_x86.ipynb to markdown\n",
      "[NbConvertApp] Writing 8065 bytes to ./sem07-asm-x86-x87-sse/floating_point_x86.md\n",
      "./sem08-asm-x86-nostdlib ['./sem08-asm-x86-nostdlib/nostdlib.ipynb']\n",
      "[NbConvertApp] Converting notebook ./sem08-asm-x86-nostdlib/nostdlib.ipynb to markdown\n",
      "[NbConvertApp] Writing 23229 bytes to ./sem08-asm-x86-nostdlib/README.md\n"
     ]
    }
   ],
   "source": [
    "import glob\n",
    "import os\n",
    "\n",
    "def convert(n, d):\n",
    "    get_ipython().system(\"jupyter nbconvert {} --to markdown --output {}\".format(n, d))\n",
    "    subprocess.check_call([\"jupyter\", \"nbconvert\", n, \"--to\", \"markdown\", \"--output\", d])\n",
    "    \n",
    "for subdir in glob.glob(\"./sem*\"):\n",
    "    notebooks = glob.glob(subdir + \"/*.ipynb\")\n",
    "    print(subdir, notebooks)\n",
    "    for m in glob.glob(subdir + \"/*.md\"):\n",
    "        os.remove(m)\n",
    "        \n",
    "#     for n in notebooks:\n",
    "#         subprocess.check_call([\"jupyter\", \"nbconvert\", n, \"--to\", \"pdf\", \n",
    "#                                \"--output\", os.path.basename(n.replace(\".ipynb\", \"\"))])\n",
    "\n",
    "    if len(notebooks) == 1:\n",
    "        convert(notebooks[0], \"README\")\n",
    "    else:\n",
    "        for n in notebooks:\n",
    "            convert(n, os.path.basename(n.replace(\".ipynb\", \"\")))\n",
    "        \n"
   ]
  },
  {
   "cell_type": "code",
   "execution_count": 30,
   "metadata": {},
   "outputs": [
    {
     "data": {
      "text/plain": [
       "'jupyter nbconvert ./sem04-asm-arm/arm.ipynb --to pdf --output arm'"
      ]
     },
     "execution_count": 30,
     "metadata": {},
     "output_type": "execute_result"
    }
   ],
   "source": [
    "\" \".join(['jupyter', 'nbconvert', './sem04-asm-arm/arm.ipynb', '--to', 'pdf', '--output', 'arm'])"
   ]
  },
  {
   "cell_type": "code",
   "execution_count": 31,
   "metadata": {},
   "outputs": [
    {
     "name": "stdout",
     "output_type": "stream",
     "text": [
      "[NbConvertApp] Converting notebook ./sem04-asm-arm/arm.ipynb to pdf\n",
      "[NbConvertApp] Writing 38538 bytes to ./notebook.tex\n",
      "[NbConvertApp] Building PDF\n",
      "Traceback (most recent call last):\n",
      "  File \"/home/pechatnov/.local/bin/jupyter-nbconvert\", line 11, in <module>\n",
      "    sys.exit(main())\n",
      "  File \"/home/pechatnov/.local/lib/python3.5/site-packages/jupyter_core/application.py\", line 267, in launch_instance\n",
      "    return super(JupyterApp, cls).launch_instance(argv=argv, **kwargs)\n",
      "  File \"/home/pechatnov/.local/lib/python3.5/site-packages/traitlets/config/application.py\", line 658, in launch_instance\n",
      "    app.start()\n",
      "  File \"/home/pechatnov/.local/lib/python3.5/site-packages/nbconvert/nbconvertapp.py\", line 340, in start\n",
      "    self.convert_notebooks()\n",
      "  File \"/home/pechatnov/.local/lib/python3.5/site-packages/nbconvert/nbconvertapp.py\", line 510, in convert_notebooks\n",
      "    self.convert_single_notebook(notebook_filename)\n",
      "  File \"/home/pechatnov/.local/lib/python3.5/site-packages/nbconvert/nbconvertapp.py\", line 481, in convert_single_notebook\n",
      "    output, resources = self.export_single_notebook(notebook_filename, resources, input_buffer=input_buffer)\n",
      "  File \"/home/pechatnov/.local/lib/python3.5/site-packages/nbconvert/nbconvertapp.py\", line 410, in export_single_notebook\n",
      "    output, resources = self.exporter.from_filename(notebook_filename, resources=resources)\n",
      "  File \"/home/pechatnov/.local/lib/python3.5/site-packages/nbconvert/exporters/exporter.py\", line 179, in from_filename\n",
      "    return self.from_file(f, resources=resources, **kw)\n",
      "  File \"/home/pechatnov/.local/lib/python3.5/site-packages/nbconvert/exporters/exporter.py\", line 197, in from_file\n",
      "    return self.from_notebook_node(nbformat.read(file_stream, as_version=4), resources=resources, **kw)\n",
      "  File \"/home/pechatnov/.local/lib/python3.5/site-packages/nbconvert/exporters/pdf.py\", line 185, in from_notebook_node\n",
      "    self.run_latex(tex_file)\n",
      "  File \"/home/pechatnov/.local/lib/python3.5/site-packages/nbconvert/exporters/pdf.py\", line 156, in run_latex\n",
      "    self.latex_count, log_error, raise_on_failure)\n",
      "  File \"/home/pechatnov/.local/lib/python3.5/site-packages/nbconvert/exporters/pdf.py\", line 114, in run_command\n",
      "    \"at {link}.\".format(formatter=command_list[0], link=link))\n",
      "OSError: xelatex not found on PATH, if you have not installed xelatex you may need to do so. Find further instructions at https://nbconvert.readthedocs.io/en/latest/install.html#installing-tex.\n"
     ]
    }
   ],
   "source": [
    "!jupyter nbconvert ./sem04-asm-arm/arm.ipynb --to pdf --output arm\n"
   ]
  },
  {
   "cell_type": "code",
   "execution_count": null,
   "metadata": {},
   "outputs": [],
   "source": [
    "for sfx in [\".ipynb\", \".md\"]:\n",
    "    for fname in glob.glob(\"./sem*/*\" + sfx):\n",
    "        with open(fname, \"r\") as f:\n",
    "            r = f.read()\n",
    "        for b in [\"\\x00\", \"\\x1B\", \"\\x08\"]:\n",
    "            r = r.replace(b, \"\")\n",
    "        with open(fname, \"w\") as f:\n",
    "            f.write(r)\n",
    "        get_ipython().system(\"dos2unix {}\".format(fname))"
   ]
  },
  {
   "cell_type": "code",
   "execution_count": null,
   "metadata": {},
   "outputs": [],
   "source": [
    "for subdir in glob.glob(\"./sem*\"):\n",
    "    for sfx in [\".ipynb\", \".md\", \".c\", \".cpp\"]:\n",
    "        get_ipython().system(\"git add {}/*{}\".format(os.path.basename(subdir), sfx))\n",
    "get_ipython().system(\"git add -u\")\n",
    "get_ipython().system(\"git commit -m 'yet another update'\")\n",
    "get_ipython().system(\"git push origin master\")"
   ]
  },
  {
   "cell_type": "code",
   "execution_count": 21,
   "metadata": {},
   "outputs": [
    {
     "data": {
      "text/plain": [
       "'0x61'"
      ]
     },
     "execution_count": 21,
     "metadata": {},
     "output_type": "execute_result"
    }
   ],
   "source": [
    "hex(ord('a'))"
   ]
  },
  {
   "cell_type": "code",
   "execution_count": 22,
   "metadata": {},
   "outputs": [
    {
     "data": {
      "text/plain": [
       "'a'"
      ]
     },
     "execution_count": 22,
     "metadata": {},
     "output_type": "execute_result"
    }
   ],
   "source": [
    "\"\\x61\""
   ]
  },
  {
   "cell_type": "code",
   "execution_count": null,
   "metadata": {},
   "outputs": [],
   "source": []
  }
 ],
 "metadata": {
  "kernelspec": {
   "display_name": "Python 3",
   "language": "python",
   "name": "python3"
  },
  "language_info": {
   "codemirror_mode": {
    "name": "ipython",
    "version": 3
   },
   "file_extension": ".py",
   "mimetype": "text/x-python",
   "name": "python",
   "nbconvert_exporter": "python",
   "pygments_lexer": "ipython3",
   "version": "3.5.2"
  }
 },
 "nbformat": 4,
 "nbformat_minor": 2
}
