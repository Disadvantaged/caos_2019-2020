{
 "cells": [
  {
   "cell_type": "code",
   "execution_count": 14,
   "metadata": {
    "scrolled": true
   },
   "outputs": [
    {
     "name": "stdout",
     "output_type": "stream",
     "text": [
      "./sem7-asm-x86-x87-sse ['./sem7-asm-x86-x87-sse/sse_x86.ipynb', './sem7-asm-x86-x87-sse/floating_point_x86.ipynb']\n",
      "[NbConvertApp] Converting notebook ./sem7-asm-x86-x87-sse/sse_x86.ipynb to markdown\n",
      "[NbConvertApp] Writing 13366 bytes to ./sem7-asm-x86-x87-sse/sse_x86.md\n",
      "[NbConvertApp] Converting notebook ./sem7-asm-x86-x87-sse/floating_point_x86.ipynb to markdown\n",
      "[NbConvertApp] Writing 8065 bytes to ./sem7-asm-x86-x87-sse/floating_point_x86.md\n",
      "./sem8-asm-x86-nostdlib ['./sem8-asm-x86-nostdlib/nostdlib.ipynb']\n",
      "[NbConvertApp] Converting notebook ./sem8-asm-x86-nostdlib/nostdlib.ipynb to markdown\n",
      "[NbConvertApp] Writing 23229 bytes to ./sem8-asm-x86-nostdlib/README.md\n",
      "./sem4-asm-arm ['./sem4-asm-arm/arm.ipynb']\n",
      "[NbConvertApp] Converting notebook ./sem4-asm-arm/arm.ipynb to markdown\n",
      "[NbConvertApp] Writing 7067 bytes to ./sem4-asm-arm/README.md\n",
      "./sem10-file-attributes ['./sem10-file-attributes/file-attrib.ipynb']\n",
      "[NbConvertApp] Converting notebook ./sem10-file-attributes/file-attrib.ipynb to markdown\n",
      "[NbConvertApp] Writing 13447 bytes to ./sem10-file-attributes/README.md\n",
      "./sem9-low-level-io ['./sem9-low-level-io/low-level-io.ipynb']\n",
      "[NbConvertApp] Converting notebook ./sem9-low-level-io/low-level-io.ipynb to markdown\n",
      "[NbConvertApp] Writing 15323 bytes to ./sem9-low-level-io/README.md\n",
      "./sem3-ints-floats ['./sem3-ints-floats/sem3_floats.ipynb', './sem3-ints-floats/sem3_ints.ipynb']\n",
      "[NbConvertApp] Converting notebook ./sem3-ints-floats/sem3_floats.ipynb to markdown\n",
      "[NbConvertApp] Writing 2857 bytes to ./sem3-ints-floats/sem3_floats.md\n",
      "[NbConvertApp] Converting notebook ./sem3-ints-floats/sem3_ints.ipynb to markdown\n",
      "[NbConvertApp] Writing 3840 bytes to ./sem3-ints-floats/sem3_ints.md\n",
      "./sem5-asm-arm-addressing ['./sem5-asm-arm-addressing/adressing.ipynb']\n",
      "[NbConvertApp] Converting notebook ./sem5-asm-arm-addressing/adressing.ipynb to markdown\n",
      "[NbConvertApp] Writing 16776 bytes to ./sem5-asm-arm-addressing/README.md\n",
      "./sem6-asm-x86 ['./sem6-asm-x86/asm_x86.ipynb']\n",
      "[NbConvertApp] Converting notebook ./sem6-asm-x86/asm_x86.ipynb to markdown\n",
      "[NbConvertApp] Writing 33694 bytes to ./sem6-asm-x86/README.md\n",
      "./sem1 ['./sem1/sem1.ipynb']\n",
      "[NbConvertApp] Converting notebook ./sem1/sem1.ipynb to markdown\n",
      "[NbConvertApp] Writing 2135 bytes to ./sem1/README.md\n"
     ]
    }
   ],
   "source": [
    "import glob\n",
    "import os\n",
    "\n",
    "def convert(n, d):\n",
    "    get_ipython().system(\"jupyter nbconvert {} --to markdown --output {}\".format(n, d))\n",
    "    subprocess.check_call([\"jupyter\", \"nbconvert\", n, \"--to\", \"markdown\", \"--output\", d])\n",
    "\n",
    "for subdir in glob.glob(\"./sem*\"):\n",
    "    notebooks = glob.glob(subdir + \"/*.ipynb\")\n",
    "    print(subdir, notebooks)\n",
    "    for m in glob.glob(subdir + \"/*.md\"):\n",
    "        os.remove(m)\n",
    "    if len(notebooks) == 0:\n",
    "        continue\n",
    "    if len(notebooks) == 1:\n",
    "        convert(notebooks[0], \"README\")\n",
    "    else:\n",
    "        for n in notebooks:\n",
    "            convert(n, os.path.basename(n.replace(\".ipynb\", \"\")))\n",
    "        \n"
   ]
  },
  {
   "cell_type": "code",
   "execution_count": 17,
   "metadata": {},
   "outputs": [
    {
     "name": "stdout",
     "output_type": "stream",
     "text": [
      "dos2unix: converting file ./sem04-asm-arm/arm.ipynb to Unix format ...\n",
      "dos2unix: converting file ./sem10-file-attributes/file-attrib.ipynb to Unix format ...\n",
      "dos2unix: converting file ./sem03-ints-floats/sem3_floats.ipynb to Unix format ...\n",
      "dos2unix: converting file ./sem03-ints-floats/sem3_ints.ipynb to Unix format ...\n",
      "dos2unix: converting file ./sem07-asm-x86-x87-sse/sse_x86.ipynb to Unix format ...\n",
      "dos2unix: converting file ./sem07-asm-x86-x87-sse/floating_point_x86.ipynb to Unix format ...\n",
      "dos2unix: converting file ./sem08-asm-x86-nostdlib/nostdlib.ipynb to Unix format ...\n",
      "dos2unix: converting file ./sem06-asm-x86/asm_x86.ipynb to Unix format ...\n",
      "dos2unix: converting file ./sem05-asm-arm-addressing/adressing.ipynb to Unix format ...\n",
      "dos2unix: converting file ./sem01/sem1.ipynb to Unix format ...\n",
      "dos2unix: converting file ./sem09-low-level-io/low-level-io.ipynb to Unix format ...\n",
      "dos2unix: converting file ./sem04-asm-arm/README.md to Unix format ...\n",
      "dos2unix: converting file ./sem10-file-attributes/README.md to Unix format ...\n",
      "dos2unix: Binary symbol 0x1B found at line 137\n",
      "dos2unix: Skipping binary file ./sem03-ints-floats/sem3_ints.md\n",
      "dos2unix: converting file ./sem03-ints-floats/sem3_floats.md to Unix format ...\n",
      "dos2unix: converting file ./sem07-asm-x86-x87-sse/floating_point_x86.md to Unix format ...\n",
      "dos2unix: converting file ./sem07-asm-x86-x87-sse/sse_x86.md to Unix format ...\n",
      "dos2unix: Binary symbol 0x00 found at line 509\n",
      "dos2unix: Skipping binary file ./sem08-asm-x86-nostdlib/README.md\n",
      "dos2unix: Binary symbol 0x08 found at line 934\n",
      "dos2unix: Skipping binary file ./sem06-asm-x86/README.md\n",
      "dos2unix: converting file ./sem05-asm-arm-addressing/README.md to Unix format ...\n",
      "dos2unix: converting file ./sem01/README.md to Unix format ...\n",
      "dos2unix: Binary symbol 0x00 found at line 156\n",
      "dos2unix: Skipping binary file ./sem09-low-level-io/README.md\n"
     ]
    }
   ],
   "source": [
    "for sfx in [\".ipynb\", \".md\"]:\n",
    "    for fname in glob.glob(\"./sem*/*\" + sfx):\n",
    "        with open(fname, \"r\") as f:\n",
    "            r = f.read()\n",
    "        for b in [\"\\x00\", \"\"]\n",
    "        \n",
    "        with open(fname, \"w\") as f:\n",
    "            \n",
    "            f.write(f.replace(\"\\r\", \"\").)\n",
    "        get_ipython().system(\"dos2unix {}\".format(f))"
   ]
  },
  {
   "cell_type": "code",
   "execution_count": 18,
   "metadata": {},
   "outputs": [
    {
     "name": "stdout",
     "output_type": "stream",
     "text": [
      "warning: LF will be replaced by CRLF in sem04-asm-arm/arm.ipynb.\n",
      "The file will have its original line endings in your working directory.\n",
      "fatal: pathspec 'sem04-asm-arm/*.c' did not match any files\n",
      "fatal: pathspec 'sem04-asm-arm/*.cpp' did not match any files\n",
      "warning: LF will be replaced by CRLF in sem10-file-attributes/file-attrib.ipynb.\n",
      "The file will have its original line endings in your working directory.\n",
      "warning: LF will be replaced by CRLF in sem10-file-attributes/README.md.\n",
      "The file will have its original line endings in your working directory.\n",
      "fatal: pathspec 'sem10-file-attributes/*.cpp' did not match any files\n",
      "warning: LF will be replaced by CRLF in sem03-ints-floats/sem3_floats.ipynb.\n",
      "The file will have its original line endings in your working directory.\n",
      "warning: LF will be replaced by CRLF in sem03-ints-floats/sem3_ints.ipynb.\n",
      "The file will have its original line endings in your working directory.\n",
      "warning: LF will be replaced by CRLF in sem03-ints-floats/sem3_floats.md.\n",
      "The file will have its original line endings in your working directory.\n",
      "fatal: pathspec 'sem03-ints-floats/*.cpp' did not match any files\n",
      "warning: LF will be replaced by CRLF in sem07-asm-x86-x87-sse/floating_point_x86.ipynb.\n",
      "The file will have its original line endings in your working directory.\n",
      "warning: LF will be replaced by CRLF in sem07-asm-x86-x87-sse/sse_x86.ipynb.\n",
      "The file will have its original line endings in your working directory.\n",
      "fatal: pathspec 'sem07-asm-x86-x87-sse/*.cpp' did not match any files\n",
      "warning: LF will be replaced by CRLF in sem08-asm-x86-nostdlib/nostdlib.ipynb.\n",
      "The file will have its original line endings in your working directory.\n",
      "fatal: pathspec 'sem08-asm-x86-nostdlib/*.cpp' did not match any files\n",
      "warning: LF will be replaced by CRLF in sem06-asm-x86/asm_x86.ipynb.\n",
      "The file will have its original line endings in your working directory.\n",
      "fatal: pathspec 'sem06-asm-x86/*.cpp' did not match any files\n",
      "warning: LF will be replaced by CRLF in sem05-asm-arm-addressing/adressing.ipynb.\n",
      "The file will have its original line endings in your working directory.\n",
      "fatal: pathspec 'sem05-asm-arm-addressing/*.cpp' did not match any files\n",
      "warning: LF will be replaced by CRLF in sem01/sem1.ipynb.\n",
      "The file will have its original line endings in your working directory.\n",
      "warning: LF will be replaced by CRLF in sem01/README.md.\n",
      "The file will have its original line endings in your working directory.\n",
      "fatal: pathspec 'sem01/*.cpp' did not match any files\n",
      "warning: LF will be replaced by CRLF in sem09-low-level-io/low-level-io.ipynb.\n",
      "The file will have its original line endings in your working directory.\n",
      "fatal: pathspec 'sem09-low-level-io/*.cpp' did not match any files\n",
      "warning: LF will be replaced by CRLF in save_them_all.ipynb.\n",
      "The file will have its original line endings in your working directory.\n",
      "warning: LF will be replaced by CRLF in save_them_all.ipynb.\n",
      "The file will have its original line endings in your working directory.\n",
      "warning: LF will be replaced by CRLF in sem04-asm-arm/README.md.\n",
      "The file will have its original line endings in your working directory.\n",
      "warning: LF will be replaced by CRLF in sem05-asm-arm-addressing/README.md.\n",
      "The file will have its original line endings in your working directory.\n",
      "warning: LF will be replaced by CRLF in sem07-asm-x86-x87-sse/floating_point_x86.md.\n",
      "The file will have its original line endings in your working directory.\n",
      "warning: LF will be replaced by CRLF in sem07-asm-x86-x87-sse/sse_x86.md.\n",
      "The file will have its original line endings in your working directory.\n",
      "[master 0a1e7cd] yet another update\n",
      "warning: LF will be replaced by CRLF in save_them_all.ipynb.\n",
      "The file will have its original line endings in your working directory.\n",
      "warning: LF will be replaced by CRLF in sem04-asm-arm/README.md.\n",
      "The file will have its original line endings in your working directory.\n",
      "warning: LF will be replaced by CRLF in sem05-asm-arm-addressing/README.md.\n",
      "The file will have its original line endings in your working directory.\n",
      "warning: LF will be replaced by CRLF in sem07-asm-x86-x87-sse/floating_point_x86.md.\n",
      "The file will have its original line endings in your working directory.\n",
      "warning: LF will be replaced by CRLF in sem07-asm-x86-x87-sse/sse_x86.md.\n",
      "The file will have its original line endings in your working directory.\n",
      " 5 files changed, 563 insertions(+), 512 deletions(-)\n",
      "Counting objects: 10, done.\n",
      "Compressing objects: 100% (10/10), done.\n",
      "Writing objects: 100% (10/10), 3.84 KiB | 0 bytes/s, done.\n",
      "Total 10 (delta 8), reused 0 (delta 0)\n",
      "remote: Resolving deltas: 100% (8/8), completed with 8 local objects.\u001b[K\n",
      "To git@github.com:yuri-pechatnov/caos_2019-2020.git\n",
      "   e310180..0a1e7cd  master -> master\n"
     ]
    }
   ],
   "source": [
    "for subdir in glob.glob(\"./sem*\"):\n",
    "    for sfx in [\".ipynb\", \".md\", \".c\", \".cpp\"]:\n",
    "        get_ipython().system(\"git add {}/*{}\".format(os.path.basename(subdir), sfx))\n",
    "get_ipython().system(\"git add -u\")\n",
    "get_ipython().system(\"git commit -m 'yet another update'\")\n",
    "get_ipython().system(\"git push origin master\")"
   ]
  },
  {
   "cell_type": "code",
   "execution_count": 21,
   "metadata": {},
   "outputs": [
    {
     "data": {
      "text/plain": [
       "'0x61'"
      ]
     },
     "execution_count": 21,
     "metadata": {},
     "output_type": "execute_result"
    }
   ],
   "source": [
    "hex(ord('a'))"
   ]
  },
  {
   "cell_type": "code",
   "execution_count": null,
   "metadata": {},
   "outputs": [],
   "source": []
  }
 ],
 "metadata": {
  "kernelspec": {
   "display_name": "Python 3",
   "language": "python",
   "name": "python3"
  },
  "language_info": {
   "codemirror_mode": {
    "name": "ipython",
    "version": 3
   },
   "file_extension": ".py",
   "mimetype": "text/x-python",
   "name": "python",
   "nbconvert_exporter": "python",
   "pygments_lexer": "ipython3",
   "version": "3.5.2"
  }
 },
 "nbformat": 4,
 "nbformat_minor": 2
}
