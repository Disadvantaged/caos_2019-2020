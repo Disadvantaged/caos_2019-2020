{
 "cells": [
  {
   "cell_type": "code",
   "execution_count": 2,
   "metadata": {},
   "outputs": [
    {
     "data": {
      "application/javascript": [
       "// setup cpp code highlighting\n",
       "IPython.CodeCell.options_default.highlight_modes[\"text/x-c++src\"] = {'reg':[/^%%cpp/]} ;"
      ],
      "text/plain": [
       "<IPython.core.display.Javascript object>"
      ]
     },
     "metadata": {},
     "output_type": "display_data"
    }
   ],
   "source": [
    "# make magics here. Look at previous notebooks to see readable version\n",
    "exec('\\nget_ipython().run_cell_magic(\\'javascript\\', \\'\\', \\'// setup cpp code highlighting\\\\nIPython.CodeCell.options_default.highlight_modes[\"text/x-c++src\"] = {\\\\\\'reg\\\\\\':[/^%%cpp/]} ;\\')\\n\\n# creating magics\\nfrom IPython.core.magic import register_cell_magic, register_line_magic\\nfrom IPython.display import display, Markdown\\n\\n@register_cell_magic\\ndef save_file(fname, cell):\\n    cell = cell if cell[-1] == \\'\\\\n\\' else cell + \"\\\\n\"\\n    cmds = []\\n    with open(fname, \"w\") as f:\\n        for line in cell.split(\"\\\\n\"):\\n            if line.startswith(\"%\"):\\n                run_prefix = \"%run \"\\n                assert line.startswith(run_prefix)\\n                cmds.append(line[len(run_prefix):].strip())\\n            else:\\n                f.write(line + \"\\\\n\")\\n    for cmd in cmds:\\n        display(Markdown(\"Run: `%s`\" % cmd))\\n        get_ipython().system(cmd)\\n\\n@register_cell_magic\\ndef cpp(fname, cell):\\n    save_file(fname, cell)\\n\\n@register_cell_magic\\ndef asm(fname, cell):\\n    save_file(fname, cell)\\n    \\n@register_cell_magic\\ndef makefile(fname, cell):\\n    assert not fname\\n    save_file(\"makefile\", cell.replace(\" \" * 4, \"\\\\t\"))\\n        \\n@register_line_magic\\ndef p(line):\\n    print(\"{} = {}\".format(line, eval(line)))\\n')"
   ]
  },
  {
   "cell_type": "markdown",
   "metadata": {},
   "source": [
    "# Floating-point arithmetic"
   ]
  },
  {
   "cell_type": "code",
   "execution_count": 11,
   "metadata": {
    "collapsed": true
   },
   "outputs": [
    {
     "data": {
      "text/markdown": [
       "Run: `gcc -m32 -masm=intel -O3 double_mul.c -S -o double_mul.S`"
      ],
      "text/plain": [
       "<IPython.core.display.Markdown object>"
      ]
     },
     "metadata": {},
     "output_type": "display_data"
    },
    {
     "data": {
      "text/markdown": [
       "Run: `cat double_mul.S`"
      ],
      "text/plain": [
       "<IPython.core.display.Markdown object>"
      ]
     },
     "metadata": {},
     "output_type": "display_data"
    },
    {
     "name": "stdout",
     "output_type": "stream",
     "text": [
      "\t.file\t\"double_mul.c\"\r\n",
      "\t.intel_syntax noprefix\r\n",
      "\t.section\t.text.unlikely,\"ax\",@progbits\r\n",
      ".LCOLDB2:\r\n",
      "\t.text\r\n",
      ".LHOTB2:\r\n",
      "\t.p2align 4,,15\r\n",
      "\t.globl\tmul\r\n",
      "\t.type\tmul, @function\r\n",
      "mul:\r\n",
      ".LFB0:\r\n",
      "\t.cfi_startproc\r\n",
      "\tfld\tDWORD PTR .LC0\r\n",
      "\tfmul\tQWORD PTR [esp+4]\r\n",
      "\tret\r\n",
      "\t.cfi_endproc\r\n",
      ".LFE0:\r\n",
      "\t.size\tmul, .-mul\r\n",
      "\t.section\t.text.unlikely\r\n",
      ".LCOLDE2:\r\n",
      "\t.text\r\n",
      ".LHOTE2:\r\n",
      "\t.section\t.text.unlikely\r\n",
      ".LCOLDB3:\r\n",
      "\t.text\r\n",
      ".LHOTB3:\r\n",
      "\t.p2align 4,,15\r\n",
      "\t.globl\tmul2\r\n",
      "\t.type\tmul2, @function\r\n",
      "mul2:\r\n",
      ".LFB1:\r\n",
      "\t.cfi_startproc\r\n",
      "\tfld\tQWORD PTR [esp+12]\r\n",
      "\tfmul\tQWORD PTR [esp+4]\r\n",
      "\tret\r\n",
      "\t.cfi_endproc\r\n",
      ".LFE1:\r\n",
      "\t.size\tmul2, .-mul2\r\n",
      "\t.section\t.text.unlikely\r\n",
      ".LCOLDE3:\r\n",
      "\t.text\r\n",
      ".LHOTE3:\r\n",
      "\t.section\t.rodata.cst4,\"aM\",@progbits,4\r\n",
      "\t.align 4\r\n",
      ".LC0:\r\n",
      "\t.long\t1095761920\r\n",
      "\t.ident\t\"GCC: (Ubuntu 5.4.0-6ubuntu1~16.04.10) 5.4.0 20160609\"\r\n",
      "\t.section\t.note.GNU-stack,\"\",@progbits\r\n"
     ]
    }
   ],
   "source": [
    "%%cpp double_mul.c\n",
    "%run gcc -m32 -masm=intel -O3 double_mul.c -S -o double_mul.S\n",
    "%run cat double_mul.S\n",
    "    \n",
    "double mul(double a) { \n",
    "    return a * 13;\n",
    "}\n",
    "\n",
    "double mul2(double a, double b) { \n",
    "    return a * b;\n",
    "}"
   ]
  },
  {
   "cell_type": "markdown",
   "metadata": {},
   "source": [
    "В отфильтрованном виде выглядит так\n",
    "\n",
    "```\n",
    "\t.intel_syntax noprefix\n",
    "\t.text\n",
    "\t.globl\tmul\n",
    "mul:\n",
    "    fld\tDWORD PTR .LC0\n",
    "\tfmul\tQWORD PTR [esp+4]\n",
    "\tret\n",
    "\n",
    ".globl\tmul2\n",
    "mul2:\n",
    "\tfld\tQWORD PTR [esp+12]\n",
    "\tfmul\tQWORD PTR [esp+4]\n",
    "\tret\n",
    "\n",
    ".align 4\n",
    ".LC0:\n",
    "\t.long\t1095761920\n",
    "```"
   ]
  },
  {
   "cell_type": "code",
   "execution_count": 141,
   "metadata": {},
   "outputs": [],
   "source": [
    "%%asm mul.S\n",
    ".intel_syntax noprefix\n",
    "    .text\n",
    "    .globl    mul\n",
    "mul:\n",
    "    fld    DWORD PTR .LC0\n",
    "    fmul    QWORD PTR [esp+4]\n",
    "    ret\n",
    "\n",
    ".align 4\n",
    ".LC0:\n",
    "    .long    1095761920"
   ]
  },
  {
   "cell_type": "code",
   "execution_count": 142,
   "metadata": {},
   "outputs": [
    {
     "data": {
      "text/markdown": [
       "Run: `gcc -g3 -m32 -masm=intel mul_test.c mul.S -o mul_test.exe`"
      ],
      "text/plain": [
       "<IPython.core.display.Markdown object>"
      ]
     },
     "metadata": {},
     "output_type": "display_data"
    },
    {
     "data": {
      "text/markdown": [
       "Run: `./mul_test.exe`"
      ],
      "text/plain": [
       "<IPython.core.display.Markdown object>"
      ]
     },
     "metadata": {},
     "output_type": "display_data"
    },
    {
     "name": "stdout",
     "output_type": "stream",
     "text": [
      "mul(2) = 26.000000000\r\n"
     ]
    }
   ],
   "source": [
    "%%cpp mul_test.c\n",
    "%run gcc -g3 -m32 -masm=intel mul_test.c mul.S -o mul_test.exe\n",
    "%run ./mul_test.exe\n",
    "\n",
    "#include <stdio.h>\n",
    "#include <assert.h>\n",
    "\n",
    "double mul(double a);\n",
    "\n",
    "int main() {\n",
    "    printf(\"mul(2) = %0.9lf\\n\", mul(2));\n",
    "    return 0;\n",
    "}"
   ]
  },
  {
   "cell_type": "markdown",
   "metadata": {},
   "source": [
    "# Посчитаем exp(x)\n",
    "\n",
    "Дополнительные команды:\n",
    "\n",
    "* `fxch` - поменять местами два элемента на стеке (st(0) и st(i)).\n",
    "* `fstp` - сохранить из стека в память + снять элемент со стека."
   ]
  },
  {
   "cell_type": "code",
   "execution_count": 87,
   "metadata": {
    "scrolled": true
   },
   "outputs": [
    {
     "data": {
      "text/markdown": [
       "Run: `gcc -m32 -masm=intel -O3 exp.c -S -o exp.S`"
      ],
      "text/plain": [
       "<IPython.core.display.Markdown object>"
      ]
     },
     "metadata": {},
     "output_type": "display_data"
    },
    {
     "data": {
      "text/markdown": [
       "Run: `cat exp.S`"
      ],
      "text/plain": [
       "<IPython.core.display.Markdown object>"
      ]
     },
     "metadata": {},
     "output_type": "display_data"
    },
    {
     "name": "stdout",
     "output_type": "stream",
     "text": [
      "\t.file\t\"exp.c\"\r\n",
      "\t.intel_syntax noprefix\r\n",
      "\t.section\t.text.unlikely,\"ax\",@progbits\r\n",
      ".LCOLDB2:\r\n",
      "\t.text\r\n",
      ".LHOTB2:\r\n",
      "\t.p2align 4,,15\r\n",
      "\t.globl\tmy_exp\r\n",
      "\t.type\tmy_exp, @function\r\n",
      "my_exp:\r\n",
      ".LFB0:\r\n",
      "\t.cfi_startproc\r\n",
      "\tsub\tesp, 12\r\n",
      "\t.cfi_def_cfa_offset 16\r\n",
      "\tmov\teax, 2\r\n",
      "\tfld\tQWORD PTR [esp+16]\r\n",
      "\tfld1\r\n",
      "\tfld\tst(0)\r\n",
      "\tfld\tst(1)\r\n",
      "\tfld\tst(2)\r\n",
      "\t.p2align 4,,10\r\n",
      "\t.p2align 3\r\n",
      ".L2:\r\n",
      "\tfxch\tst(1)\r\n",
      "\tmov\tDWORD PTR [esp+4], eax\r\n",
      "\tadd\teax, 1\r\n",
      "\tfadd\tst, st(2)\r\n",
      "\tfild\tDWORD PTR [esp+4]\r\n",
      "\tfmulp\tst(2), st\r\n",
      "\tfxch\tst(3)\r\n",
      "\tfmul\tst, st(4)\r\n",
      "\tfld\tst(0)\r\n",
      "\tfdiv\tst, st(2)\r\n",
      "\tfxch\tst(4)\r\n",
      "\tfucomi\tst, st(3)\r\n",
      "\tfstp\tst(3)\r\n",
      "\tjp\t.L3\r\n",
      "\tje\t.L6\r\n",
      ".L3:\r\n",
      "\tfxch\tst(3)\r\n",
      "\tfxch\tst(1)\r\n",
      "\tjmp\t.L2\r\n",
      "\t.p2align 4,,10\r\n",
      "\t.p2align 3\r\n",
      ".L6:\r\n",
      "\tfstp\tst(0)\r\n",
      "\tfstp\tst(0)\r\n",
      "\tfstp\tst(1)\r\n",
      "\tfstp\tst(1)\r\n",
      "\tadd\tesp, 12\r\n",
      "\t.cfi_def_cfa_offset 4\r\n",
      "\tret\r\n",
      "\t.cfi_endproc\r\n",
      ".LFE0:\r\n",
      "\t.size\tmy_exp, .-my_exp\r\n",
      "\t.section\t.text.unlikely\r\n",
      ".LCOLDE2:\r\n",
      "\t.text\r\n",
      ".LHOTE2:\r\n",
      "\t.ident\t\"GCC: (Ubuntu 5.4.0-6ubuntu1~16.04.10) 5.4.0 20160609\"\r\n",
      "\t.section\t.note.GNU-stack,\"\",@progbits\r\n"
     ]
    }
   ],
   "source": [
    "%%cpp exp.c\n",
    "%run gcc -m32 -masm=intel -O3 exp.c -S -o exp.S\n",
    "%run cat exp.S\n",
    "    \n",
    "double my_exp(double x) { \n",
    "    double xn = 1.0, fac = 1.0, part = 1.0, result = 1.0, old_result = 0.0;\n",
    "    for (int i = 2; result != old_result; ++i) {\n",
    "        old_result = result;\n",
    "        result += part;\n",
    "        fac *= i;\n",
    "        xn *= x;\n",
    "        part = xn / fac;\n",
    "    }\n",
    "    return result;\n",
    "}"
   ]
  },
  {
   "cell_type": "code",
   "execution_count": 150,
   "metadata": {},
   "outputs": [
    {
     "data": {
      "text/markdown": [
       "Run: `gcc -m32 -masm=intel -O3 exp2.S -c -o exp2.o`"
      ],
      "text/plain": [
       "<IPython.core.display.Markdown object>"
      ]
     },
     "metadata": {},
     "output_type": "display_data"
    }
   ],
   "source": [
    "%%asm exp2.S\n",
    "%run gcc -m32 -masm=intel -O3 exp2.S -c -o exp2.o\n",
    "\n",
    "    .intel_syntax noprefix\n",
    "    .text\n",
    "    .globl  my_exp\n",
    "my_exp:\n",
    "    sub     esp, 12\n",
    "    mov     eax, 2\n",
    "    fld     QWORD PTR [esp+16]\n",
    "    fld1\n",
    "    fld1\n",
    "    fld1\n",
    "    fld1\n",
    "    // On stack (0-4): fac=1, part=1, old_result=1, xn=1, x \n",
    ".loop:\n",
    "    mov     DWORD PTR [esp+4], eax\n",
    "    add     eax, 1   \n",
    "    fxch    st(1)             // On stack (0-4): part, fac, old_result, xn, x \n",
    "    fadd    st(0), st(2)      // On stack (0-4): result=part + old_result, fac, old_result, xn, x \n",
    "    fild    DWORD PTR [esp+4] // On stack (0-5): i, result, fac, old_result, xn, x \n",
    "    fmulp   st(2), st(0)      // On stack (0-4): result, fac=fac*i, old_result, xn, x\n",
    "    fxch    st(3)             // On stack (0-4): xn, fac, old_result, result, x\n",
    "    fmul    st(0), st(4)      // On stack (0-4): xn=xn*x, fac, old_result, result, x\n",
    "    fld     st(0)             // On stack (0-5): xn, xn, fac, old_result, result, x\n",
    "    fdiv    st(0), st(2)      // On stack (0-5): npart=xn/fac, xn, fac, old_result, result, x\n",
    "    fxch    st(4)             // On stack (0-5): result, xn, fac, old_result, npart, x\n",
    "    fcomi   st(0), st(3)      // On stack (0-5): result, xn, fac, old_result, npart, x (compare result and old_result)\n",
    "    fstp    st(3)             // On stack (0-4): xn, fac, result, npart, x\n",
    "    je      .finish           // if result == old_result then go to .finish \n",
    "    fxch    st(3)             // On stack (0-4): npart, fac, result, xn, x\n",
    "    fxch    st(1)             // On stack (0-4): fac, npart, result, xn, x\n",
    "    jmp     .loop\n",
    ".finish:\n",
    "    fxch    st(2)             // On stack (0-4): result, npart, fac, xn, x\n",
    "    add     esp, 12\n",
    "    ret\n"
   ]
  },
  {
   "cell_type": "code",
   "execution_count": 151,
   "metadata": {},
   "outputs": [
    {
     "data": {
      "text/markdown": [
       "Run: `gcc -g3 -m32 -masm=intel check_exp.c exp.c -o check_exp.exe`"
      ],
      "text/plain": [
       "<IPython.core.display.Markdown object>"
      ]
     },
     "metadata": {},
     "output_type": "display_data"
    },
    {
     "data": {
      "text/markdown": [
       "Run: `./check_exp.exe`"
      ],
      "text/plain": [
       "<IPython.core.display.Markdown object>"
      ]
     },
     "metadata": {},
     "output_type": "display_data"
    },
    {
     "name": "stdout",
     "output_type": "stream",
     "text": [
      "exp(1) = 2.718281828\r\n"
     ]
    },
    {
     "data": {
      "text/markdown": [
       "Run: `gcc -g3 -m32 -masm=intel check_exp.c exp2.S -o check_exp2.exe`"
      ],
      "text/plain": [
       "<IPython.core.display.Markdown object>"
      ]
     },
     "metadata": {},
     "output_type": "display_data"
    },
    {
     "data": {
      "text/markdown": [
       "Run: `./check_exp2.exe`"
      ],
      "text/plain": [
       "<IPython.core.display.Markdown object>"
      ]
     },
     "metadata": {},
     "output_type": "display_data"
    },
    {
     "name": "stdout",
     "output_type": "stream",
     "text": [
      "exp(1) = 2.718281828\r\n"
     ]
    }
   ],
   "source": [
    "%%cpp check_exp.c\n",
    "%run gcc -g3 -m32 -masm=intel check_exp.c exp.c -o check_exp.exe\n",
    "%run ./check_exp.exe\n",
    "%run gcc -g3 -m32 -masm=intel check_exp.c exp2.S -o check_exp2.exe\n",
    "%run ./check_exp2.exe\n",
    "\n",
    "#include <stdio.h>\n",
    "#include <assert.h>\n",
    "\n",
    "double my_exp(double x);\n",
    "\n",
    "int main() {\n",
    "    printf(\"exp(1) = %0.9lf\\n\", my_exp(1));\n",
    "    return 0;\n",
    "}"
   ]
  },
  {
   "cell_type": "code",
   "execution_count": null,
   "metadata": {},
   "outputs": [],
   "source": [
    "!jupyter nbconvert floating_point_x86.ipynb --to markdown --output floating_point_x86 "
   ]
  }
 ],
 "metadata": {
  "kernelspec": {
   "display_name": "Python 3",
   "language": "python",
   "name": "python3"
  },
  "language_info": {
   "codemirror_mode": {
    "name": "ipython",
    "version": 3
   },
   "file_extension": ".py",
   "mimetype": "text/x-python",
   "name": "python",
   "nbconvert_exporter": "python",
   "pygments_lexer": "ipython3",
   "version": "3.5.2"
  }
 },
 "nbformat": 4,
 "nbformat_minor": 2
}
