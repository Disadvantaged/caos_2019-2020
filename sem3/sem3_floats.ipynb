{
 "cells": [
  {
   "cell_type": "code",
   "execution_count": 5,
   "metadata": {},
   "outputs": [
    {
     "data": {
      "application/javascript": [
       "// setup cpp code highlighting\n",
       "IPython.CodeCell.options_default.highlight_modes[\"text/x-c++src\"] = {'reg':[/^%%cpp/]} ;\n"
      ],
      "text/plain": [
       "<IPython.core.display.Javascript object>"
      ]
     },
     "metadata": {},
     "output_type": "display_data"
    }
   ],
   "source": [
    "%%javascript\n",
    "// setup cpp code highlighting\n",
    "IPython.CodeCell.options_default.highlight_modes[\"text/x-c++src\"] = {'reg':[/^%%cpp/]} ;"
   ]
  },
  {
   "cell_type": "code",
   "execution_count": 6,
   "metadata": {},
   "outputs": [],
   "source": [
    "# creating magics\n",
    "from IPython.core.magic import register_cell_magic, register_line_magic\n",
    "from IPython.display import display, Markdown\n",
    "\n",
    "@register_cell_magic\n",
    "def cpp(fname, cell):\n",
    "    cell = cell if cell[-1] == '\\n' else cell + \"\\n\"\n",
    "    cmds = []\n",
    "    with open(fname, \"w\") as f:\n",
    "        for line in cell.split(\"\\n\"):\n",
    "            if line.startswith(\"%\"):\n",
    "                run_prefix = \"%run \"\n",
    "                assert line.startswith(run_prefix)\n",
    "                cmds.append(line[len(run_prefix):].strip())\n",
    "            else:\n",
    "                f.write(line + \"\\n\")\n",
    "    for cmd in cmds:\n",
    "        display(Markdown(\"Run: `%s`\" % cmd))\n",
    "        get_ipython().system(cmd)\n",
    "\n",
    "@register_line_magic\n",
    "def p(line):\n",
    "    print(\"{} = {}\".format(line, eval(line)))"
   ]
  },
  {
   "cell_type": "code",
   "execution_count": null,
   "metadata": {},
   "outputs": [],
   "source": []
  },
  {
   "cell_type": "code",
   "execution_count": 7,
   "metadata": {},
   "outputs": [
    {
     "data": {
      "text/markdown": [
       "Run: `gcc -shared -fPIC lib.c -o lib.so # compile shared library`"
      ],
      "text/plain": [
       "<IPython.core.display.Markdown object>"
      ]
     },
     "metadata": {},
     "output_type": "display_data"
    }
   ],
   "source": [
    "%%cpp lib.c\n",
    "%run gcc -shared -fPIC lib.c -o lib.so # compile shared library\n",
    "\n",
    "#include <stdint.h>\n",
    "\n",
    "typedef union {\n",
    "    double double_val;\n",
    "    uint64_t uint64_val;\n",
    "    struct {\n",
    "        uint64_t mantissa_val : 52;\n",
    "        uint64_t exp_val : 11;\n",
    "        uint64_t sign_val : 1;\n",
    "    };\n",
    "} double_parser_t;\n",
    "\n",
    "uint64_t get_sign(double x) {\n",
    "    double_parser_t parser = {.double_val = x};\n",
    "    return parser.sign_val;\n",
    "}\n",
    "\n",
    "uint64_t get_mantissa(double x) {\n",
    "    double_parser_t parser = {.double_val = x};\n",
    "    return parser.mantissa_val;\n",
    "}\n",
    "\n",
    "uint64_t get_exp(double x) {\n",
    "    double_parser_t parser = {.double_val = x};\n",
    "    return parser.exp_val;\n",
    "}\n",
    "\n"
   ]
  },
  {
   "cell_type": "code",
   "execution_count": 23,
   "metadata": {},
   "outputs": [
    {
     "name": "stdout",
     "output_type": "stream",
     "text": [
      "x = -1.2345\n",
      "S, hex(S), bin(S) = (1, '0x1', '0b1')\n",
      "M, hex(M), bin(M) = (1056094112618381, '0x3c083126e978d', '0b11110000001000001100010010011011101001011110001101')\n",
      "E, hex(E), bin(E) = (1023, '0x3ff', '0b1111111111')\n",
      "((-1) ** S) * (2 ** (E - B)) * (1 + M / ((2 ** M_bits) - 1)) = -1.2345\n"
     ]
    }
   ],
   "source": [
    "from IPython.display import display\n",
    "import ctypes\n",
    "\n",
    "lib = ctypes.CDLL(\"./lib.so\")\n",
    "\n",
    "for f in [lib.get_sign, lib.get_mantissa, lib.get_exp]:\n",
    "    f.argtypes = [ctypes.c_double]\n",
    "    f.restype = ctypes.c_uint64\n",
    "\n",
    "    \n",
    "x = -1.2345\n",
    "\n",
    "S, M, E = lib.get_sign(x), lib.get_mantissa(x), lib.get_exp(x)\n",
    "B = (1 << 10) - 1\n",
    "M_bits = 52\n",
    "%p x\n",
    "%p S, hex(S), bin(S)\n",
    "%p M, hex(M), bin(M)\n",
    "%p E, hex(E), bin(E)\n",
    "%p ((-1) ** S) * (2 ** (E - B)) * (1 + M / ((2 ** M_bits) - 1))\n",
    "\n"
   ]
  },
  {
   "cell_type": "code",
   "execution_count": 9,
   "metadata": {},
   "outputs": [
    {
     "name": "stdout",
     "output_type": "stream",
     "text": [
      "x = -1.234e-230\n",
      "S = 1\n",
      "M = 888918597024966\n",
      "E = 259\n",
      "((-1) ** S) * (2 ** (E - B)) * (1 + M / ((2 ** M_bits) - 1)) = -1.234e-230\n"
     ]
    }
   ],
   "source": [
    "x = -1.234e-230\n",
    "\n",
    "S, M, E = lib.get_sign(x), lib.get_mantissa(x), lib.get_exp(x)\n",
    "B = (1 << 10) - 1\n",
    "M_bits = 52\n",
    "%p x\n",
    "%p S\n",
    "%p M\n",
    "%p E\n",
    "%p ((-1) ** S) * (2 ** (E - B)) * (1 + M / ((2 ** M_bits) - 1))\n"
   ]
  },
  {
   "cell_type": "code",
   "execution_count": null,
   "metadata": {},
   "outputs": [],
   "source": []
  },
  {
   "cell_type": "code",
   "execution_count": null,
   "metadata": {},
   "outputs": [],
   "source": []
  }
 ],
 "metadata": {
  "kernelspec": {
   "display_name": "Python 3",
   "language": "python",
   "name": "python3"
  },
  "language_info": {
   "codemirror_mode": {
    "name": "ipython",
    "version": 3
   },
   "file_extension": ".py",
   "mimetype": "text/x-python",
   "name": "python",
   "nbconvert_exporter": "python",
   "pygments_lexer": "ipython3",
   "version": "3.5.2"
  }
 },
 "nbformat": 4,
 "nbformat_minor": 2
}
