{
 "cells": [
  {
   "cell_type": "code",
   "execution_count": 1,
   "metadata": {
    "scrolled": true
   },
   "outputs": [
    {
     "data": {
      "application/javascript": [
       "// setup cpp code highlighting\n",
       "IPython.CodeCell.options_default.highlight_modes[\"text/x-c++src\"] = {'reg':[/^%%cpp/]} ;\n"
      ],
      "text/plain": [
       "<IPython.core.display.Javascript object>"
      ]
     },
     "metadata": {},
     "output_type": "display_data"
    }
   ],
   "source": [
    "%%javascript\n",
    "// setup cpp code highlighting\n",
    "IPython.CodeCell.options_default.highlight_modes[\"text/x-c++src\"] = {'reg':[/^%%cpp/]} ;"
   ]
  },
  {
   "cell_type": "code",
   "execution_count": 2,
   "metadata": {},
   "outputs": [],
   "source": [
    "# creating magics\n",
    "from IPython.core.magic import register_cell_magic, register_line_magic\n",
    "from IPython.display import display, Markdown\n",
    "\n",
    "@register_cell_magic\n",
    "def cpp(fname, cell):\n",
    "    cell = cell if cell[-1] == '\\n' else cell + \"\\n\"\n",
    "    cmds = []\n",
    "    with open(fname, \"w\") as f:\n",
    "        for line in cell.split(\"\\n\"):\n",
    "            if line.startswith(\"%\"):\n",
    "                run_prefix = \"%run \"\n",
    "                assert line.startswith(run_prefix)\n",
    "                cmds.append(line[len(run_prefix):].strip())\n",
    "            else:\n",
    "                f.write(line + \"\\n\")\n",
    "    for cmd in cmds:\n",
    "        display(Markdown(\"Run: `%s`\" % cmd))\n",
    "        get_ipython().system(cmd)\n",
    "\n",
    "@register_line_magic\n",
    "def p(line):\n",
    "    print(\"{} = {}\".format(line, eval(line)))"
   ]
  },
  {
   "cell_type": "code",
   "execution_count": 3,
   "metadata": {},
   "outputs": [
    {
     "data": {
      "text/markdown": [
       "Run: `gcc -O3 -shared -fPIC lib.c -o lib3.so # compile shared library`"
      ],
      "text/plain": [
       "<IPython.core.display.Markdown object>"
      ]
     },
     "metadata": {},
     "output_type": "display_data"
    },
    {
     "data": {
      "text/markdown": [
       "Run: `gcc -O0 -shared -fPIC lib.c -o lib0.so # compile shared library`"
      ],
      "text/plain": [
       "<IPython.core.display.Markdown object>"
      ]
     },
     "metadata": {},
     "output_type": "display_data"
    }
   ],
   "source": [
    "%%cpp lib.c\n",
    "%run gcc -O3 -shared -fPIC lib.c -o lib3.so # compile shared library\n",
    "%run gcc -O0 -shared -fPIC lib.c -o lib0.so # compile shared library\n",
    "\n",
    "int check_increment(int x) {\n",
    "    return x + 1 > x;\n",
    "}\n",
    "\n",
    "unsigned int unsigned_check_increment(unsigned int x) {\n",
    "    return x + 1 > x;\n",
    "}"
   ]
  },
  {
   "cell_type": "code",
   "execution_count": 4,
   "metadata": {},
   "outputs": [
    {
     "name": "stdout",
     "output_type": "stream",
     "text": [
      "0000000000000698 g     F .text\t0000000000000018              unsigned_check_increment\n",
      "0000000000000680 g     F .text\t0000000000000018              check_increment\n",
      "0000000000000690 g     F .text\t000000000000000c              unsigned_check_increment\n",
      "0000000000000680 g     F .text\t0000000000000006              check_increment\n"
     ]
    }
   ],
   "source": [
    "!objdump -t lib0.so | grep inc  # symbols in shared library\n",
    "!objdump -t lib3.so | grep inc  # symbols in shared library"
   ]
  },
  {
   "cell_type": "code",
   "execution_count": 5,
   "metadata": {},
   "outputs": [
    {
     "name": "stdout",
     "output_type": "stream",
     "text": [
      "lib0.check_increment(1), lib3.check_increment(1) = (1, 1)\n",
      "int32_max = 2147483647\n",
      "lib0.check_increment(int32_max), lib3.check_increment(int32_max) = (0, 1)\n",
      "uint32_max = 4294967295\n",
      "lib0.unsigned_check_increment(uint32_max), lib3.unsigned_check_increment(uint32_max) = (0, 0)\n"
     ]
    }
   ],
   "source": [
    "from IPython.display import display\n",
    "import ctypes\n",
    "\n",
    "lib0 = ctypes.CDLL(\"./lib0.so\")\n",
    "lib3 = ctypes.CDLL(\"./lib3.so\")\n",
    "\n",
    "%p lib0.check_increment(1), lib3.check_increment(1)\n",
    "int32_max = (1 << 31) - 1\n",
    "%p int32_max\n",
    "%p lib0.check_increment(int32_max), lib3.check_increment(int32_max)\n",
    "\n",
    "\n",
    "uint32_max = (1 << 32) - 1\n",
    "%p uint32_max\n",
    "%p lib0.unsigned_check_increment(uint32_max), lib3.unsigned_check_increment(uint32_max)"
   ]
  },
  {
   "cell_type": "code",
   "execution_count": 11,
   "metadata": {},
   "outputs": [
    {
     "data": {
      "text/markdown": [
       "Run: `gcc -O3 lib.c -c --sanitize=undefined`"
      ],
      "text/plain": [
       "<IPython.core.display.Markdown object>"
      ]
     },
     "metadata": {},
     "output_type": "display_data"
    },
    {
     "data": {
      "text/markdown": [
       "Run: `gcc -O3 main.c lib.o -o a.exe --sanitize=undefined`"
      ],
      "text/plain": [
       "<IPython.core.display.Markdown object>"
      ]
     },
     "metadata": {},
     "output_type": "display_data"
    },
    {
     "data": {
      "text/markdown": [
       "Run: `./a.exe`"
      ],
      "text/plain": [
       "<IPython.core.display.Markdown object>"
      ]
     },
     "metadata": {},
     "output_type": "display_data"
    },
    {
     "name": "stdout",
     "output_type": "stream",
     "text": [
      "\u001b[1mlib.c:3:14:\u001b[1m\u001b[31m runtime error: \u001b[1m\u001b[0m\u001b[1msigned integer overflow: 2147483647 + 1 cannot be represented in type 'int'\u001b[1m\u001b[0m\r\n"
     ]
    }
   ],
   "source": [
    "%%cpp main.c\n",
    "%run gcc -O3 lib.c -c --sanitize=undefined\n",
    "%run gcc -O3 main.c lib.o -o a.exe --sanitize=undefined\n",
    "%run ./a.exe\n",
    "\n",
    "#include <assert.h>\n",
    "\n",
    "int check_increment(int x);\n",
    "unsigned int unsigned_check_increment(unsigned int x);\n",
    "\n",
    "int main() {\n",
    "    assert(!check_increment((1LL << 31) - 1));\n",
    "    return 0;\n",
    "}"
   ]
  },
  {
   "cell_type": "code",
   "execution_count": 12,
   "metadata": {},
   "outputs": [
    {
     "data": {
      "text/markdown": [
       "Run: `gcc-7 -O3 main.c -o a.exe`"
      ],
      "text/plain": [
       "<IPython.core.display.Markdown object>"
      ]
     },
     "metadata": {},
     "output_type": "display_data"
    },
    {
     "data": {
      "text/markdown": [
       "Run: `./a.exe`"
      ],
      "text/plain": [
       "<IPython.core.display.Markdown object>"
      ]
     },
     "metadata": {},
     "output_type": "display_data"
    }
   ],
   "source": [
    "%%cpp main.c\n",
    "%run gcc-7 -O3 main.c -o a.exe \n",
    "%run ./a.exe\n",
    "\n",
    "#include <assert.h>\n",
    "#include <stdint.h>\n",
    "\n",
    "unsigned int satsum(unsigned int x, unsigned int y) {\n",
    "    unsigned int z;\n",
    "    if (__builtin_uadd_overflow(x, y, &z)) {\n",
    "        return -1;\n",
    "    }\n",
    "    return z;\n",
    "}\n",
    "\n",
    "int main() {\n",
    "    assert(satsum((1LL << 31) - 1, (1LL << 31) - 1) == ((1LL << 31) - 1) * 2);\n",
    "    assert(satsum((1LL << 31) + 1, (1LL << 31) + 1) == (unsigned int)-1);\n",
    "    return 0;\n",
    "}"
   ]
  },
  {
   "cell_type": "code",
   "execution_count": null,
   "metadata": {},
   "outputs": [],
   "source": []
  }
 ],
 "metadata": {
  "kernelspec": {
   "display_name": "Python 3",
   "language": "python",
   "name": "python3"
  },
  "language_info": {
   "codemirror_mode": {
    "name": "ipython",
    "version": 3
   },
   "file_extension": ".py",
   "mimetype": "text/x-python",
   "name": "python",
   "nbconvert_exporter": "python",
   "pygments_lexer": "ipython3",
   "version": "3.5.2"
  }
 },
 "nbformat": 4,
 "nbformat_minor": 2
}
