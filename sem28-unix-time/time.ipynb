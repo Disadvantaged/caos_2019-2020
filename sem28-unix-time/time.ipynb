{
 "cells": [
  {
   "cell_type": "code",
   "execution_count": 2,
   "metadata": {
    "scrolled": true
   },
   "outputs": [
    {
     "data": {
      "application/javascript": [
       "// setup cpp code highlighting\n",
       "IPython.CodeCell.options_default.highlight_modes[\"text/x-c++src\"] = {'reg':[/^%%cpp/]} ;IPython.CodeCell.options_default.highlight_modes[\"text/x-cmake\"] = {'reg':[/^%%cmake/]} ;"
      ],
      "text/plain": [
       "<IPython.core.display.Javascript object>"
      ]
     },
     "metadata": {},
     "output_type": "display_data"
    },
    {
     "data": {
      "text/html": [
       "<!-- YANDEX_METRICA_BEGIN -->\n",
       "    <script type=\"text/javascript\" >\n",
       "       (function(m,e,t,r,i,k,a){m[i]=m[i]||function(){(m[i].a=m[i].a||[]).push(arguments)};\n",
       "       m[i].l=1*new Date();k=e.createElement(t),a=e.getElementsByTagName(t)[0],k.async=1,k.src=r,a.parentNode.insertBefore(k,a)})\n",
       "       (window, document, \"script\", \"https://mc.yandex.ru/metrika/tag.js\", \"ym\");\n",
       "\n",
       "       ym(59260609, \"init\", {\n",
       "            clickmap:true,\n",
       "            trackLinks:true,\n",
       "            accurateTrackBounce:true\n",
       "       });\n",
       "    </script>\n",
       "    <noscript><div><img src=\"https://mc.yandex.ru/watch/59260609\" style=\"position:absolute; left:-9999px;\" alt=\"\" /></div></noscript>\n",
       "    <!-- YANDEX_METRICA_END -->"
      ],
      "text/plain": [
       "<IPython.core.display.HTML object>"
      ]
     },
     "metadata": {},
     "output_type": "display_data"
    },
    {
     "data": {
      "text/html": [
       "В этот ноутбук встроен код Яндекс Метрики для сбора статистики использований. Если вы не хотите, чтобы по вам собиралась статистика, исправьте: yandex_metrica_allowed = False<!-- MAGICS_SETUP_PRINTING_END -->"
      ],
      "text/plain": [
       "<IPython.core.display.HTML object>"
      ]
     },
     "metadata": {},
     "output_type": "display_data"
    }
   ],
   "source": [
    "# look at tools/set_up_magics.ipynb\n",
    "yandex_metrica_allowed = True ; get_ipython().run_cell('# one_liner_str\\n\\nget_ipython().run_cell_magic(\\'javascript\\', \\'\\', \\n    \\'// setup cpp code highlighting\\\\n\\'\\n    \\'IPython.CodeCell.options_default.highlight_modes[\"text/x-c++src\"] = {\\\\\\'reg\\\\\\':[/^%%cpp/]} ;\\'\\n    \\'IPython.CodeCell.options_default.highlight_modes[\"text/x-cmake\"] = {\\\\\\'reg\\\\\\':[/^%%cmake/]} ;\\'\\n)\\n\\n# creating magics\\nfrom IPython.core.magic import register_cell_magic, register_line_magic\\nfrom IPython.display import display, Markdown, HTML\\nimport argparse\\nfrom subprocess import Popen, PIPE\\nimport random\\nimport sys\\nimport os\\nimport re\\nimport signal\\nimport shutil\\nimport shlex\\nimport glob\\nimport time\\n\\n@register_cell_magic\\ndef save_file(args_str, cell, line_comment_start=\"#\"):\\n    parser = argparse.ArgumentParser()\\n    parser.add_argument(\"fname\")\\n    parser.add_argument(\"--ejudge-style\", action=\"store_true\")\\n    args = parser.parse_args(args_str.split())\\n    \\n    cell = cell if cell[-1] == \\'\\\\n\\' or args.no_eof_newline else cell + \"\\\\n\"\\n    cmds = []\\n    with open(args.fname, \"w\") as f:\\n        f.write(line_comment_start + \" %%cpp \" + args_str + \"\\\\n\")\\n        for line in cell.split(\"\\\\n\"):\\n            line_to_write = (line if not args.ejudge_style else line.rstrip()) + \"\\\\n\"\\n            if line.startswith(\"%\"):\\n                run_prefix = \"%run \"\\n                if line.startswith(run_prefix):\\n                    cmds.append(line[len(run_prefix):].strip())\\n                    f.write(line_comment_start + \" \" + line_to_write)\\n                    continue\\n                if line.startswith(\"%\" + line_comment_start + \" \"):\\n                    f.write(line_comment_start + \" \" + line_to_write)\\n                    continue\\n                raise Exception(\"Unknown %%save_file subcommand: \\'%s\\'\" % line)\\n            else:\\n                f.write(line_to_write)\\n        f.write(\"\" if not args.ejudge_style else line_comment_start + r\" line without \\\\n\")\\n    for cmd in cmds:\\n        display(Markdown(\"Run: `%s`\" % cmd))\\n        get_ipython().system(cmd)\\n\\n@register_cell_magic\\ndef cpp(fname, cell):\\n    save_file(fname, cell, \"//\")\\n    \\n@register_cell_magic\\ndef cmake(fname, cell):\\n    save_file(fname, cell, \"#\")\\n\\n@register_cell_magic\\ndef asm(fname, cell):\\n    save_file(fname, cell, \"//\")\\n    \\n@register_cell_magic\\ndef makefile(fname, cell):\\n    assert not fname\\n    save_file(\"makefile\", cell.replace(\" \" * 4, \"\\\\t\"))\\n        \\n@register_line_magic\\ndef p(line):\\n    line = line.strip() \\n    if line[0] == \\'#\\':\\n        display(Markdown(line[1:].strip()))\\n    else:\\n        try:\\n            expr, comment = line.split(\" #\")\\n            display(Markdown(\"`{} = {}`  # {}\".format(expr.strip(), eval(expr), comment.strip())))\\n        except:\\n            display(Markdown(\"{} = {}\".format(line, eval(line))))\\n    \\n    \\ndef show_log_file(file, return_html_string=False):\\n    obj = file.replace(\\'.\\', \\'_\\').replace(\\'/\\', \\'_\\') + \"_obj\"\\n    html_string = \\'\\'\\'\\n        <!--MD_BEGIN_FILTER-->\\n        <script type=text/javascript>\\n        var entrance___OBJ__ = 0;\\n        var errors___OBJ__ = 0;\\n        function halt__OBJ__(elem, color)\\n        {\\n            elem.setAttribute(\"style\", \"font-size: 14px; background: \" + color + \"; padding: 10px; border: 3px; border-radius: 5px; color: white; \");                    \\n        }\\n        function refresh__OBJ__()\\n        {\\n            entrance___OBJ__ -= 1;\\n            if (entrance___OBJ__ < 0) {\\n                entrance___OBJ__ = 0;\\n            }\\n            var elem = document.getElementById(\"__OBJ__\");\\n            if (elem) {\\n                var xmlhttp=new XMLHttpRequest();\\n                xmlhttp.onreadystatechange=function()\\n                {\\n                    var elem = document.getElementById(\"__OBJ__\");\\n                    console.log(!!elem, xmlhttp.readyState, xmlhttp.status, entrance___OBJ__);\\n                    if (elem && xmlhttp.readyState==4) {\\n                        if (xmlhttp.status==200)\\n                        {\\n                            errors___OBJ__ = 0;\\n                            if (!entrance___OBJ__) {\\n                                if (elem.innerHTML != xmlhttp.responseText) {\\n                                    elem.innerHTML = xmlhttp.responseText;\\n                                }\\n                                if (elem.innerHTML.includes(\"Process finished.\")) {\\n                                    halt__OBJ__(elem, \"#333333\");\\n                                } else {\\n                                    entrance___OBJ__ += 1;\\n                                    console.log(\"req\");\\n                                    window.setTimeout(\"refresh__OBJ__()\", 300); \\n                                }\\n                            }\\n                            return xmlhttp.responseText;\\n                        } else {\\n                            errors___OBJ__ += 1;\\n                            if (!entrance___OBJ__) {\\n                                if (errors___OBJ__ < 6) {\\n                                    entrance___OBJ__ += 1;\\n                                    console.log(\"req\");\\n                                    window.setTimeout(\"refresh__OBJ__()\", 300); \\n                                } else {\\n                                    halt__OBJ__(elem, \"#994444\");\\n                                }\\n                            }\\n                        }\\n                    }\\n                }\\n                xmlhttp.open(\"GET\", \"__FILE__\", true);\\n                xmlhttp.setRequestHeader(\"Cache-Control\", \"no-cache\");\\n                xmlhttp.send();     \\n            }\\n        }\\n        \\n        if (!entrance___OBJ__) {\\n            entrance___OBJ__ += 1;\\n            refresh__OBJ__(); \\n        }\\n        </script>\\n\\n        <p id=\"__OBJ__\" style=\"font-size: 14px; background: #000000; padding: 10px; border: 3px; border-radius: 5px; color: white; \">\\n        </p>\\n        \\n        </font>\\n        <!--MD_END_FILTER-->\\n        <!--MD_FROM_FILE __FILE__.md -->\\n        \\'\\'\\'.replace(\"__OBJ__\", obj).replace(\"__FILE__\", file)\\n    if return_html_string:\\n        return html_string\\n    display(HTML(html_string))\\n\\n    \\nclass TInteractiveLauncher:\\n    tmp_path = \"./interactive_launcher_tmp\"\\n    def __init__(self, cmd):\\n        try:\\n            os.mkdir(TInteractiveLauncher.tmp_path)\\n        except:\\n            pass\\n        name = str(random.randint(0, 1e18))\\n        self.inq_path = os.path.join(TInteractiveLauncher.tmp_path, name + \".inq\")\\n        self.log_path = os.path.join(TInteractiveLauncher.tmp_path, name + \".log\")\\n        \\n        os.mkfifo(self.inq_path)\\n        open(self.log_path, \\'w\\').close()\\n        open(self.log_path + \".md\", \\'w\\').close()\\n\\n        self.pid = os.fork()\\n        if self.pid == -1:\\n            print(\"Error\")\\n        if self.pid == 0:\\n            exe_cands = glob.glob(\"../tools/launcher.py\") + glob.glob(\"../../tools/launcher.py\")\\n            assert(len(exe_cands) == 1)\\n            assert(os.execvp(\"python3\", [\"python3\", exe_cands[0], \"-l\", self.log_path, \"-i\", self.inq_path, \"-c\", cmd]) == 0)\\n        self.inq_f = open(self.inq_path, \"w\")\\n        interactive_launcher_opened_set.add(self.pid)\\n        show_log_file(self.log_path)\\n\\n    def write(self, s):\\n        s = s.encode()\\n        assert len(s) == os.write(self.inq_f.fileno(), s)\\n        \\n    def get_pid(self):\\n        n = 100\\n        for i in range(n):\\n            try:\\n                return int(re.findall(r\"PID = (\\\\d+)\", open(self.log_path).readline())[0])\\n            except:\\n                if i + 1 == n:\\n                    raise\\n                time.sleep(0.1)\\n        \\n    def input_queue_path(self):\\n        return self.inq_path\\n        \\n    def wait_stop(self, timeout):\\n        for i in range(int(timeout * 10)):\\n            wpid, status = os.waitpid(self.pid, os.WNOHANG)\\n            if wpid != 0:\\n                return True\\n            time.sleep(0.1)\\n        return False\\n        \\n    def close(self, timeout=3):\\n        self.inq_f.close()\\n        if not self.wait_stop(timeout):\\n            os.kill(self.get_pid(), signal.SIGKILL)\\n            os.waitpid(self.pid, 0)\\n        os.remove(self.inq_path)\\n        # os.remove(self.log_path)\\n        self.inq_path = None\\n        self.log_path = None \\n        interactive_launcher_opened_set.remove(self.pid)\\n        self.pid = None\\n        \\n    @staticmethod\\n    def terminate_all():\\n        if \"interactive_launcher_opened_set\" not in globals():\\n            globals()[\"interactive_launcher_opened_set\"] = set()\\n        global interactive_launcher_opened_set\\n        for pid in interactive_launcher_opened_set:\\n            print(\"Terminate pid=\" + str(pid), file=sys.stderr)\\n            os.kill(pid, signal.SIGKILL)\\n            os.waitpid(pid, 0)\\n        interactive_launcher_opened_set = set()\\n        if os.path.exists(TInteractiveLauncher.tmp_path):\\n            shutil.rmtree(TInteractiveLauncher.tmp_path)\\n    \\nTInteractiveLauncher.terminate_all()\\n   \\nyandex_metrica_allowed = bool(globals().get(\"yandex_metrica_allowed\", False))\\nif yandex_metrica_allowed:\\n    display(HTML(\\'\\'\\'<!-- YANDEX_METRICA_BEGIN -->\\n    <script type=\"text/javascript\" >\\n       (function(m,e,t,r,i,k,a){m[i]=m[i]||function(){(m[i].a=m[i].a||[]).push(arguments)};\\n       m[i].l=1*new Date();k=e.createElement(t),a=e.getElementsByTagName(t)[0],k.async=1,k.src=r,a.parentNode.insertBefore(k,a)})\\n       (window, document, \"script\", \"https://mc.yandex.ru/metrika/tag.js\", \"ym\");\\n\\n       ym(59260609, \"init\", {\\n            clickmap:true,\\n            trackLinks:true,\\n            accurateTrackBounce:true\\n       });\\n    </script>\\n    <noscript><div><img src=\"https://mc.yandex.ru/watch/59260609\" style=\"position:absolute; left:-9999px;\" alt=\"\" /></div></noscript>\\n    <!-- YANDEX_METRICA_END -->\\'\\'\\'))\\n\\ndef make_oneliner():\\n    html_text = \\'(\"В этот ноутбук встроен код Яндекс Метрики для сбора статистики использований. Если вы не хотите, чтобы по вам собиралась статистика, исправьте: yandex_metrica_allowed = False\" if yandex_metrica_allowed else \"\")\\'\\n    html_text += \\' + \"<\"\"!-- MAGICS_SETUP_PRINTING_END -->\"\\'\\n    return \\'\\'.join([\\n        \\'# look at tools/set_up_magics.ipynb\\\\n\\',\\n        \\'yandex_metrica_allowed = True ; get_ipython().run_cell(%s);\\' % repr(one_liner_str),\\n        \\'display(HTML(%s))\\' % html_text,\\n        \\' #\\'\\'MAGICS_SETUP_END\\'\\n    ])\\n       \\n\\n');display(HTML((\"В этот ноутбук встроен код Яндекс Метрики для сбора статистики использований. Если вы не хотите, чтобы по вам собиралась статистика, исправьте: yandex_metrica_allowed = False\" if yandex_metrica_allowed else \"\") + \"<\"\"!-- MAGICS_SETUP_PRINTING_END -->\")) #MAGICS_SETUP_END"
   ]
  },
  {
   "cell_type": "markdown",
   "metadata": {},
   "source": [
    "# Опрос для всех, кто зашел на эту страницу\n",
    "\n",
    "Он не страшный, там всего два обязательных вопроса на выбор одного варианта из трёх. Извиняюсь за размер, но к сожалению студенты склонны игнорировать опросы :| \n",
    "\n",
    "Пытаюсь компенсировать :)\n",
    "\n",
    "<a href=\"https://docs.google.com/forms/d/e/1FAIpQLSdUnBAae8nwdSduZieZv7uatWPOMv9jujCM4meBZcHlTikeXg/viewform?usp=sf_link\"><img src=\"poll.png\" width=\"100%\"  align=\"left\" alt=\"Опрос\"></a>\n",
    "\n"
   ]
  },
  {
   "cell_type": "markdown",
   "metadata": {},
   "source": [
    "# Работа со временем в С/С++\n",
    "\n",
    "Поговорим о типах времени в C/C++ и функциях для получения текущего времени, парсинга из строк, сериализации в строки.\n",
    "\n",
    "Меня всегда дико напрягало отсутствие одного хорошего типа времени, наличие времени в разных часовых поясах и куча разных типов сериализации. Постараюсь собрать полезную информацию в одном месте, чтобы жилось проще.\n",
    "\n",
    "<table width=100%  > <tr>\n",
    "    <th width=15%> <b>Видео с семинара &rarr; </b> </th>\n",
    "    <th>\n",
    "    <a href=\"???\"><img src=\"video.jpg\" width=\"320\" \n",
    "   height=\"160\" align=\"left\" alt=\"Видео с семинара\"></a>\n",
    "    </th>\n",
    "    <th> </th>\n",
    "</tr> </table>\n",
    "\n",
    "\n",
    "\n",
    "Сегодня в программе:\n",
    "* <a href=\"types_c\" style=\"color:#856024\"> Типы времени в C </a>\n",
    "* <a href=\"funcs_c\" style=\"color:#856024\"> Функции для работы со временем в C </a>\n",
    "* <a href=\"types_cpp\" style=\"color:#856024\"> Типы времени в C++ </a>\n",
    "* <a href=\"funcs_cpp\" style=\"color:#856024\"> Функции для работы со временем в C++ </a>\n",
    "* <a href=\"types_cpp\" style=\"color:#856024\"> Конвертация типов времени C/C++ </a>\n",
    "<br><br>\n",
    "* <a href=\"clocks_and_cpu\" style=\"color:#856024\"> Разные часы и процессорное время </a>\n",
    "<br><br>\n",
    "* <a href=\"problems\" style=\"color:#856024\"> Задачки для самостоятельного решения </a>\n",
    "\n",
    " \n"
   ]
  },
  {
   "cell_type": "markdown",
   "metadata": {},
   "source": [
    "## <a name=\"types_c\"></a> Типы времени в C\n",
    "\n",
    "Что у нас есть?\n",
    "\n",
    "Собственно типы времени\n",
    "* `time_t` - целочисленный тип, в котором хранится количество секунд с начала эпохи. [man](https://www.opennet.ru/man.shtml?topic=time&category=2)\n",
    "* `struct tm` - структурка в которой хранится год, месяц, ..., секунда [man](https://www.opennet.ru/cgi-bin/opennet/man.cgi?topic=ctime&category=3)\n",
    "* `struct timeval` пара (секунды, миллисекунды) (с начала эпохи, если используется как момент времени) [man](https://www.opennet.ru/cgi-bin/opennet/man.cgi?topic=gettimeofday&category=2)\n",
    "* `struct timespec` пара (секунды, наносекунды) [man](https://www.opennet.ru/man.shtml?topic=select&category=2&russian=)\n",
    "* `struct timeb` - секунды, миллисекунды, таймзона+информация о летнем времени [man](https://www.opennet.ru/cgi-bin/opennet/man.cgi?topic=ftime&category=3) (Я ни разу не сталкивался, но и такая есть)\n",
    "\n",
    "Часовой пояс\n",
    "* `struct timezone` - [man](https://www.opennet.ru/cgi-bin/opennet/man.cgi?topic=gettimeofday&category=2)\n"
   ]
  },
  {
   "cell_type": "markdown",
   "metadata": {},
   "source": [
    "## <a name=\"funcs_c\"></a> Функции для работы с временем в C\n",
    "\n",
    "До всего последующего хочется напомнить, что многие функции в C не потокобезопасны (если не заканчиваются на `_r`, что означает reentrant, ну и потокобезопасность). Поэтому, перед использованием, стоит посмотреть документацию.\n",
    "\n",
    "Конвертация:\n",
    "<table>\n",
    "<tr>\n",
    "  <th>Из чего\\Во что</th>\n",
    "  <th>time_t</th>\n",
    "  <th>struct tm</th>\n",
    "  <th>struct timeval</th>\n",
    "  <th>struct timespec</th>\n",
    "</tr> \n",
    "<tr> <td>time_t</td>\n",
    "  <td>=</td>\n",
    "  <td><a href=\"https://www.opennet.ru/cgi-bin/opennet/man.cgi?topic=ctime&category=3\"><code>gmtime_r</code></a>/<a href=\"https://www.opennet.ru/cgi-bin/opennet/man.cgi?topic=ctime&category=3\"><code>localtime_r</code></a></td>\n",
    "  <td>{.tv_sec = x}</td>\n",
    "  <td>{.tv_sec = x}</td>\n",
    "</tr>\n",
    "<tr> <td>struct tm</td>\n",
    "  <td><a href=\"https://www.opennet.ru/cgi-bin/opennet/man.cgi?topic=ctime&category=3\"><code>mktime</code></a> [1]</td>\n",
    "  <td>=</td>\n",
    "  <td>через time_t</td>\n",
    "  <td>через time_t</td>\n",
    "</tr>\n",
    "<tr> <td>struct timeval</td>\n",
    "  <td>x.tv_sec</td>\n",
    "  <td>через time_t</td>\n",
    "  <td>=</td>\n",
    "  <td>{.tv_sec = x.tv_sec, .tv_nsec = x.tv_usec * 1000}</td>\n",
    "</tr>\n",
    "<tr> <td>struct timespec</td>\n",
    "  <td>x.tv_sec</td>\n",
    "  <td>через time_t</td>\n",
    "  <td>{.tv_sec = x.tv_sec, .tv_usec = x.tv_nsec / 1000}</td>\n",
    "  <td>=</td>\n",
    "</tr>\n",
    "</table>\n",
    "\n",
    "[1] - `mktime` неадекватно работает, когда у вас не локальное время. Подробности и как с этим жить - в примерах.\n",
    "\n",
    "Получение:\n",
    "* `time` - получить время как `time_t` [man](https://www.opennet.ru/man.shtml?topic=time&category=2)\n",
    "* `clock_gettime` - получить время как `struct timespec` [man](https://www.opennet.ru/man.shtml?topic=clock_gettime&category=3&russian=2)\n",
    "* `gettimeofday` - получить время как `struct timeval` [man](https://www.opennet.ru/cgi-bin/opennet/man.cgi?topic=settimeofday&category=2)\n",
    "\n",
    "Парсинг:\n",
    "* Если таймстемп - то просто читаем как число.\n",
    "* `strptime` [man](https://www.opennet.ru/man.shtml?topic=strptime&category=3&russian=0) Не умеет во временные зоны, всегда локальную выставляет\n",
    "* `getdate` [man](https://opennet.ru/man.shtml?topic=getdate&category=3) Не рекомендую, не очень умная функция.\n",
    "\n",
    "Сериализация:\n",
    "* Всегда можно просто записать таймстемп в секундах/миллисекундах.\n",
    "* `strftime` - позволяет превратить struct tm в строку, используя printf-подобную форматную строку [man](https://www.opennet.ru/man.shtml?topic=strftime&category=3)\n",
    "\n",
    "Арифметические операции:\n",
    "* Их нет, все вручную?\n",
    "\n",
    "Работа с часовыми поясами:\n",
    "* Сериализация таймстемпа как локального или UTC времени - `localtime_t`/`gmtime_r`.\n",
    "* Парсинг локального времени - `strptime`.\n",
    "* Другие часовые пояса и парсинг human-readable строк c заданным часовым поясом только через установку локалей, переменных окружения. В общем избегайте этого"
   ]
  },
  {
   "cell_type": "code",
   "execution_count": null,
   "metadata": {},
   "outputs": [],
   "source": []
  },
  {
   "cell_type": "code",
   "execution_count": 32,
   "metadata": {
    "scrolled": false
   },
   "outputs": [
    {
     "data": {
      "text/markdown": [
       "Run: `gcc -fsanitize=address time.c -lpthread -o time_c.exe`"
      ],
      "text/plain": [
       "<IPython.core.display.Markdown object>"
      ]
     },
     "metadata": {},
     "output_type": "display_data"
    },
    {
     "data": {
      "text/markdown": [
       "Run: `./time_c.exe`"
      ],
      "text/plain": [
       "<IPython.core.display.Markdown object>"
      ]
     },
     "metadata": {},
     "output_type": "display_data"
    },
    {
     "name": "stdout",
     "output_type": "stream",
     "text": [
      "Current time: 2020.05.13 22:30:53.083377747 MSK\r\n",
      "Recovered time by strptime: 2020.08.15 15:48:06+0300 (given utc time: 2020.08.15 12:48:06)\r\n",
      "Timestamp 1589227667 -> 2020.05.11 23:07:47\r\n",
      "Timestamp 840124800 -> 1996.08.15 20:00:00\r\n"
     ]
    }
   ],
   "source": [
    "%%cpp time.c\n",
    "%run gcc -fsanitize=address time.c -lpthread -o time_c.exe\n",
    "%run ./time_c.exe\n",
    "\n",
    "#define _BSD_SOURCE\n",
    "#define _GNU_SOURCE  // для strptime\n",
    "\n",
    "#include <stdio.h>\n",
    "#include <stdlib.h>\n",
    "#include <time.h>\n",
    "#include <sys/types.h>\n",
    "#include <sys/time.h>\n",
    "#include <assert.h>\n",
    "#include <string.h>\n",
    "\n",
    "\n",
    "int main() {\n",
    "    { \n",
    "        struct timespec spec = {0}; \n",
    "        clock_gettime(CLOCK_REALTIME, &spec); \n",
    "        time_t seconds = spec.tv_sec;\n",
    "        struct tm local_time = {0};\n",
    "        localtime_r(&seconds, &local_time);\n",
    "        char time_str[100]; \n",
    "        size_t time_len = strftime(time_str, sizeof(time_str), \"%Y.%m.%d %H:%M:%S\", &local_time);\n",
    "        time_len += snprintf(time_str + time_len, sizeof(time_str) - time_len, \".%09ld\", spec.tv_nsec);\n",
    "        time_len += strftime(time_str + time_len, sizeof(time_str) - time_len, \" %Z\", &local_time);\n",
    "        printf(\"Current time: %s\\n\", time_str);\n",
    "    }\n",
    "    \n",
    "    {\n",
    "        const char* utc_time = \"2020.08.15 12:48:06\";\n",
    "        struct tm local_time = {0};\n",
    "        char time_str_recovered[100]; \n",
    "        // Я не уверен, что так делать норм\n",
    "        strptime(utc_time, \"%Y.%m.%d %H:%M:%S\", &local_time); // распарсит как локальное время\n",
    "        //                              ↓↓↓↓↓↓↓↓↓↓↓↓↓↓↓↓↓↓↓↓↓↓↓ Извращение, чтобы получить нормальный таймстемп UTC\n",
    "        time_t tt = mktime(&local_time) + local_time.tm_gmtoff; // mktime распарсит как локальное время, даже если tm_gmtoff в 0 сбросить\n",
    "        localtime_r(&tt, &local_time);\n",
    "        size_t time_len = strftime(time_str_recovered, sizeof(time_str_recovered), \"%Y.%m.%d %H:%M:%S%z\", &local_time);\n",
    "        printf(\"Recovered time by strptime: %s (given utc time: %s)\\n\", time_str_recovered, utc_time);\n",
    "    }\n",
    "    \n",
    "    {\n",
    "        time_t timestamps[] = {1589227667, 840124800, -1};\n",
    "        for (time_t* timestamp = timestamps; *timestamp != -1; ++timestamp) {\n",
    "            struct tm local_time = {0};\n",
    "            localtime_r(timestamp, &local_time);\n",
    "            char time_str[100]; \n",
    "            size_t time_len = strftime(time_str, sizeof(time_str), \"%Y.%m.%d %H:%M:%S\", &local_time);\n",
    "            printf(\"Timestamp %ld -> %s\\n\", *timestamp, time_str);\n",
    "        }\n",
    "    }\n",
    "\n",
    "    return 0;\n",
    "}"
   ]
  },
  {
   "cell_type": "code",
   "execution_count": null,
   "metadata": {},
   "outputs": [],
   "source": []
  },
  {
   "cell_type": "markdown",
   "metadata": {},
   "source": [
    "## <a name=\"types_cpp\"></a> Типы времени в C++\n",
    "\n",
    "Для начала нам доступно все то же, что было в С.\n",
    "\n",
    "Новые типы времени\n",
    "* `std::tm = struct tm`, `std::time_t = struct tm` - типы старые, но способ написания новый :)\n",
    "* `std::chrono::time_point` [doc](https://en.cppreference.com/w/cpp/chrono/time_point)\n",
    "* `std::chrono::duration` [doc](https://en.cppreference.com/w/cpp/chrono/duration)\n",
    "\n",
    "\n",
    "Скажу откровенно, добавились не самые удобные типы. Единственное, что сделано удобно - арифметика времени."
   ]
  },
  {
   "cell_type": "markdown",
   "metadata": {},
   "source": [
    "## <a name=\"funcs_cpp\"></a> Функции для работы с временем в C++\n",
    "\n",
    "\n",
    "Конвертация:\n",
    "* `std::chrono::system_clock::to_time_t`, `std::chrono::system_clock::from_time_t`\n",
    "\n",
    "Сериализация и парсинг:\n",
    "* `std::get_time` / `std::put_time` - примерно то же самое, что `strftime` и `strptime` в C. Работают с `std::tm`. [doc](https://en.cppreference.com/w/cpp/io/manip/get_time)\n",
    "\n",
    "Арифметические операции:\n",
    "* Из коробки, обычными +/*\n"
   ]
  },
  {
   "cell_type": "code",
   "execution_count": 110,
   "metadata": {},
   "outputs": [
    {
     "data": {
      "text/markdown": [
       "Run: `clang++ -std=c++14 -fsanitize=address time.cpp -lpthread -o time_cpp.exe`"
      ],
      "text/plain": [
       "<IPython.core.display.Markdown object>"
      ]
     },
     "metadata": {},
     "output_type": "display_data"
    },
    {
     "data": {
      "text/markdown": [
       "Run: `./time_cpp.exe`"
      ],
      "text/plain": [
       "<IPython.core.display.Markdown object>"
      ]
     },
     "metadata": {},
     "output_type": "display_data"
    },
    {
     "name": "stdout",
     "output_type": "stream",
     "text": [
      "(0) Current time: 2020.05.13 23:20:19.014 +0300 , timestamp = 1589401219'\r\n",
      "(1) Parsed time '2011.01.18 23:12:34 +0000' from '2011-Jan-18 23:12:34''\r\n",
      "(2) Composed time: 2020.05.13 23:37:04 +0300\r\n",
      "(2) Composed time: 2020.05.14 23:32:04 +0300\r\n",
      "(3) Original time: 2020.05.13 23:02:38 +0000\r\n",
      "(3) Original time after mktime: 2020.05.13 23:02:38 +0300, time = 1589400158\r\n",
      "(3) Take '2020.05.13 23:02:38 +0000', add 23:55, and get '2020.05.14 22:57:38 +0000'\r\n"
     ]
    }
   ],
   "source": [
    "%%cpp time.cpp\n",
    "%run clang++ -std=c++14 -fsanitize=address time.cpp -lpthread -o time_cpp.exe\n",
    "%run ./time_cpp.exe\n",
    "\n",
    "#include <iostream>\n",
    "#include <sstream>\n",
    "#include <locale>\n",
    "#include <iomanip>\n",
    "#include <chrono>\n",
    "#include <time.h> // localtime_r\n",
    "\n",
    "int main() {\n",
    "    { // (0)\n",
    "        using namespace std::literals;\n",
    "        auto now = std::chrono::system_clock::now();\n",
    "        std::time_t timestamp = std::chrono::system_clock::to_time_t(now);\n",
    "        std::tm tmTime = {};\n",
    "        timestamp = 1589401219;\n",
    "        localtime_r(&timestamp, &tmTime); \n",
    "        uint64_t nowMs = (now.time_since_epoch() % 1s) / 1ms;\n",
    "        std::cout << \"(0) Current time: \" \n",
    "                  << std::put_time(&tmTime, \"%Y.%m.%d %H:%M:%S\") \n",
    "                  << \".\" << std::setfill('0') << std::setw(3) << nowMs << \" \"\n",
    "                  << std::put_time(&tmTime, \"%z\") << \" \"\n",
    "                  << \", timestamp = \" << timestamp << \"'\\n\";\n",
    "    }\n",
    "\n",
    "    { // (1)\n",
    "        std::string timeStr = \"2011-Jan-18 23:12:34\";\n",
    "        \n",
    "        std::tm t = {};\n",
    "        \n",
    "        std::istringstream ss{timeStr};\n",
    "        ss.imbue(std::locale(\"en_US.utf-8\"));\n",
    "        ss >> std::get_time(&t, \"%Y-%b-%d %H:%M:%S\");\n",
    "        \n",
    "        if (ss.fail()) {\n",
    "            std::cout << \"(1) Parse failed\\n\";\n",
    "        } else {\n",
    "            std::cout << \"(1) Parsed time '\" << std::put_time(&t, \"%Y.%m.%d %H:%M:%S %z\") << \"'\"\n",
    "                      << \" from '\" << timeStr << \"''\\n\";\n",
    "        }\n",
    "    }\n",
    "    \n",
    "    { // (2)\n",
    "        using namespace std::literals;\n",
    "        auto chronoNow = std::chrono::system_clock::now();\n",
    "        for (int i = 0; i < 2; ++i, chronoNow += 23h + 55min) {\n",
    "            std::time_t now = std::chrono::system_clock::to_time_t(chronoNow);\n",
    "            std::tm localTime = {};\n",
    "            localtime_r(&now, &localTime); // кажись в C++ нет потокобезопасной функции\n",
    "            std::cout << \"(2) Composed time: \" << std::put_time(&localTime, \"%Y.%m.%d %H:%M:%S %z\") << \"\\n\";\n",
    "        }\n",
    "    }\n",
    "    \n",
    "    { // (3)\n",
    "        using namespace std::literals;\n",
    "        \n",
    "        //std::string timeStr = \"1977.01.11 22:35:22\";\n",
    "        std::string timeStr = \"2020.05.13 23:02:38\";\n",
    "        \n",
    "        std::tm t = {};\n",
    "        std::istringstream ss(timeStr);\n",
    "        ss.imbue(std::locale(\"en_US.utf-8\"));\n",
    "        ss >> std::get_time(&t, \"%Y.%m.%d %H:%M:%S\"); // read as UTC/GMT time\n",
    "        \n",
    "        std::cout << \"(3) Original time: \" << std::put_time(&t, \"%Y.%m.%d %H:%M:%S %z\") << \"\\n\";\n",
    "        if (ss.fail()) {\n",
    "            std::cout << \"(3) Parse failed\\n\";\n",
    "        } else {\n",
    "            std::time_t timestamp = std::mktime(&t); // превратит в таймстемп, как будто в &t локальное время\n",
    "            std::cout << \"(3) Original time after mktime: \" << std::put_time(&t, \"%Y.%m.%d %H:%M:%S %z\") \n",
    "                      << \", time = \" << timestamp << \"\\n\";\n",
    "            // В t после mktime подменился часовой пояс\n",
    "            timestamp += t.tm_gmtoff; // Делаем time нормальным utc таймстемпом\n",
    "            \n",
    "            auto chronoInstant = std::chrono::system_clock::from_time_t(timestamp);\n",
    "            chronoInstant += 23h + 55min;\n",
    "            std::time_t anotherTimestamp = std::chrono::system_clock::to_time_t(chronoInstant);\n",
    "            std::tm localTime = {};\n",
    "            gmtime_r(&timestamp, &localTime); // вот эта фигня проинтерпретировала время как локальное\n",
    "            std::tm anotherLocalTime = {};\n",
    "            gmtime_r(&anotherTimestamp, &anotherLocalTime); \n",
    "            \n",
    "            std::cout << \"(3) Take '\" \n",
    "                      << std::put_time(&localTime, \"%Y.%m.%d %H:%M:%S %z\") << \"', add 23:55, and get '\"\n",
    "                      << std::put_time(&anotherLocalTime, \"%Y.%m.%d %H:%M:%S %z\") << \"'\\n\";\n",
    "        }\n",
    "    }\n",
    "\n",
    "    return 0;\n",
    "}"
   ]
  },
  {
   "cell_type": "markdown",
   "metadata": {},
   "source": [
    "Стоит обратить внимание, что в С++ не навязывается местный часовой пояс при парсинге времени. Хорошо это или плохо - не знаю."
   ]
  },
  {
   "cell_type": "markdown",
   "metadata": {},
   "source": [
    "\n",
    "\n"
   ]
  },
  {
   "cell_type": "markdown",
   "metadata": {},
   "source": [
    "## <a name=\"clocks_and_cpu\"></a> Разные часы и процессорное время\n",
    "\n",
    "Процессорное время\n",
    "* `clock_t` - целочисленный тип, в котором хранится время затраченное процессором на исполнение потока/программы. Измеряется в непонятных единицах, связанных с секундами через CLOCKS_PER_SEC. [man](https://www.opennet.ru/cgi-bin/opennet/man.cgi?topic=clock&category=3)\n",
    "\n",
    "\n",
    "Тип часов\n",
    "* `clockid_t` - тип часов [man](https://www.opennet.ru/cgi-bin/opennet/man.cgi?topic=clock_gettime&category=3)"
   ]
  },
  {
   "cell_type": "code",
   "execution_count": null,
   "metadata": {},
   "outputs": [],
   "source": []
  },
  {
   "cell_type": "markdown",
   "metadata": {},
   "source": [
    "# Черно-черный черновик доп семинара Яковлева про время\n",
    "\n",
    "\n",
    "Ну и тут только то, что меня заинтересовало. Что возможно буду рассказывать в следующем году, если будет такая тема"
   ]
  },
  {
   "cell_type": "markdown",
   "metadata": {},
   "source": [
    "\n",
    "\n",
    "\n",
    "Проблема 2039 года\n",
    "\n",
    "man time\n",
    "time_t\n",
    "\n"
   ]
  },
  {
   "cell_type": "code",
   "execution_count": 1,
   "metadata": {},
   "outputs": [
    {
     "data": {
      "text/plain": [
       "1588590245.7464755"
      ]
     },
     "execution_count": 1,
     "metadata": {},
     "output_type": "execute_result"
    }
   ],
   "source": [
    "import time\n",
    "time.time()"
   ]
  },
  {
   "cell_type": "code",
   "execution_count": 4,
   "metadata": {},
   "outputs": [
    {
     "data": {
      "text/plain": [
       "1588590300.0"
      ]
     },
     "execution_count": 4,
     "metadata": {},
     "output_type": "execute_result"
    }
   ],
   "source": [
    "time.mktime((2020, 5, 4, 14, 5, 0, 0, 0, 0)) # год месяц день, ..."
   ]
  },
  {
   "cell_type": "code",
   "execution_count": 6,
   "metadata": {},
   "outputs": [
    {
     "data": {
      "text/plain": [
       "1461.0"
      ]
     },
     "execution_count": 6,
     "metadata": {},
     "output_type": "execute_result"
    }
   ],
   "source": [
    "(\n",
    "    time.mktime((2020, 5, 4, 14, 5, 0, 0, 0, 0)) - \n",
    "    time.mktime((2016, 5, 4, 14, 5, 0, 0, 0, 0))\n",
    ") / 60 / 60 / 24"
   ]
  },
  {
   "cell_type": "code",
   "execution_count": 5,
   "metadata": {},
   "outputs": [
    {
     "data": {
      "text/plain": [
       "1460.9583333333333"
      ]
     },
     "execution_count": 5,
     "metadata": {},
     "output_type": "execute_result"
    }
   ],
   "source": [
    "# вот заметны переводы времени летнее/зимнее...\n",
    "(\n",
    "    time.mktime((2012, 5, 4, 14, 5, 0, 0, 0, 0)) - \n",
    "    time.mktime((2008, 5, 4, 14, 5, 0, 0, 0, 0))\n",
    ") / 60 / 60 / 24"
   ]
  },
  {
   "cell_type": "markdown",
   "metadata": {},
   "source": [
    "iana - база данных временных зон"
   ]
  },
  {
   "cell_type": "code",
   "execution_count": 7,
   "metadata": {},
   "outputs": [
    {
     "data": {
      "text/plain": [
       "time.struct_time(tm_year=2020, tm_mon=5, tm_mday=4, tm_hour=11, tm_min=5, tm_sec=0, tm_wday=0, tm_yday=125, tm_isdst=0)"
      ]
     },
     "execution_count": 7,
     "metadata": {},
     "output_type": "execute_result"
    }
   ],
   "source": [
    "time.gmtime(1588590300.0)"
   ]
  },
  {
   "cell_type": "code",
   "execution_count": 8,
   "metadata": {},
   "outputs": [
    {
     "data": {
      "text/plain": [
       "time.struct_time(tm_year=2020, tm_mon=5, tm_mday=4, tm_hour=14, tm_min=5, tm_sec=0, tm_wday=0, tm_yday=125, tm_isdst=0)"
      ]
     },
     "execution_count": 8,
     "metadata": {},
     "output_type": "execute_result"
    }
   ],
   "source": [
    "# tm_hour другой\n",
    "time.localtime(1588590300.0)"
   ]
  },
  {
   "cell_type": "markdown",
   "metadata": {},
   "source": [
    "UTC - общее время. Как GMT но без переводов времени\n",
    "linux хранит хардверное время в UTC\n",
    "А windows в localtime\n",
    "\n",
    "Поэтому при перезагрузках время может прыгать на 3 часа (если вы в Москве)\n",
    "\n",
    "man 4 rtc - команды для работы с хардверными часами\n",
    "  например, можно настроить пробуждение системы из режима сна в конкретное время\n",
    "  взаимодействовать с часами может только root\n",
    "  \n",
    "Хардверное и системное время\n",
    "```\n",
    "  -> sudo hwclock\n",
    "Пт 24 апр 2020 00:28:52  .356966 seconds\n",
    "  -> date\n",
    "Пн май  4 14:28:24 MSK 2020\n",
    "```\n",
    "\n",
    "--------\n",
    "\n",
    "man 2 stat\n",
    "\n",
    "struct timespec"
   ]
  },
  {
   "cell_type": "code",
   "execution_count": 10,
   "metadata": {},
   "outputs": [
    {
     "data": {
      "text/plain": [
       "1588592356.5319774"
      ]
     },
     "execution_count": 10,
     "metadata": {},
     "output_type": "execute_result"
    }
   ],
   "source": [
    "time.clock_gettime(time.CLOCK_REALTIME)"
   ]
  },
  {
   "cell_type": "code",
   "execution_count": 13,
   "metadata": {},
   "outputs": [
    {
     "data": {
      "text/plain": [
       "1153059.033746184"
      ]
     },
     "execution_count": 13,
     "metadata": {},
     "output_type": "execute_result"
    }
   ],
   "source": [
    "time.clock_gettime(time.CLOCK_MONOTONIC)"
   ]
  },
  {
   "cell_type": "code",
   "execution_count": 17,
   "metadata": {},
   "outputs": [
    {
     "data": {
      "text/plain": [
       "1.731587002"
      ]
     },
     "execution_count": 17,
     "metadata": {},
     "output_type": "execute_result"
    }
   ],
   "source": [
    "time.clock_gettime(time.CLOCK_PROCESS_CPUTIME_ID)"
   ]
  },
  {
   "cell_type": "markdown",
   "metadata": {},
   "source": [
    "sleep, nanosleep\n",
    "\n",
    "timerfd"
   ]
  },
  {
   "cell_type": "code",
   "execution_count": null,
   "metadata": {},
   "outputs": [],
   "source": []
  }
 ],
 "metadata": {
  "kernelspec": {
   "display_name": "Python 3",
   "language": "python",
   "name": "python3"
  }
 },
 "nbformat": 4,
 "nbformat_minor": 2
}
