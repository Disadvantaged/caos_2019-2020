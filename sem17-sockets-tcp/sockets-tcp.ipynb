{
 "cells": [
  {
   "cell_type": "code",
   "execution_count": 160,
   "metadata": {},
   "outputs": [
    {
     "data": {
      "application/javascript": [
       "// setup cpp code highlighting\n",
       "IPython.CodeCell.options_default.highlight_modes[\"text/x-c++src\"] = {'reg':[/^%%cpp/]} ;"
      ],
      "text/plain": [
       "<IPython.core.display.Javascript object>"
      ]
     },
     "metadata": {},
     "output_type": "display_data"
    }
   ],
   "source": [
    "# look at tools/set_up_magics.ipynb\n",
    "get_ipython().run_cell('# one_liner_str #SET_UP_MAGIC_BEGIN\\n\\nget_ipython().run_cell_magic(\\'javascript\\', \\'\\', \\'// setup cpp code highlighting\\\\nIPython.CodeCell.options_default.highlight_modes[\"text/x-c++src\"] = {\\\\\\'reg\\\\\\':[/^%%cpp/]} ;\\')\\n\\n# creating magics\\nfrom IPython.core.magic import register_cell_magic, register_line_magic\\nfrom IPython.display import display, Markdown, HTML\\nimport argparse\\nfrom subprocess import Popen, PIPE\\nimport random\\nimport sys\\nimport os\\nimport re\\nimport signal\\nimport shutil\\nimport shlex\\nimport glob\\n\\n@register_cell_magic\\ndef save_file(args_str, cell, line_comment_start=\"#\"):\\n    parser = argparse.ArgumentParser()\\n    parser.add_argument(\"fname\")\\n    parser.add_argument(\"--ejudge-style\", action=\"store_true\")\\n    args = parser.parse_args(args_str.split())\\n    \\n    cell = cell if cell[-1] == \\'\\\\n\\' or args.no_eof_newline else cell + \"\\\\n\"\\n    cmds = []\\n    with open(args.fname, \"w\") as f:\\n        f.write(line_comment_start + \" %%cpp \" + args_str + \"\\\\n\")\\n        for line in cell.split(\"\\\\n\"):\\n            line_to_write = (line if not args.ejudge_style else line.rstrip()) + \"\\\\n\"\\n            if line.startswith(\"%\"):\\n                run_prefix = \"%run \"\\n                assert line.startswith(run_prefix)\\n                cmds.append(line[len(run_prefix):].strip())\\n                f.write(line_comment_start + \" \" + line_to_write)\\n            else:\\n                f.write(line_to_write)\\n        f.write(\"\" if not args.ejudge_style else line_comment_start + r\" line without \\\\n\")\\n    for cmd in cmds:\\n        display(Markdown(\"Run: `%s`\" % cmd))\\n        get_ipython().system(cmd)\\n\\n@register_cell_magic\\ndef cpp(fname, cell):\\n    save_file(fname, cell, \"//\")\\n\\n@register_cell_magic\\ndef asm(fname, cell):\\n    save_file(fname, cell, \"//\")\\n    \\n@register_cell_magic\\ndef makefile(fname, cell):\\n    assert not fname\\n    save_file(\"makefile\", cell.replace(\" \" * 4, \"\\\\t\"))\\n        \\n@register_line_magic\\ndef p(line):\\n    try:\\n        expr, comment = line.split(\" #\")\\n        display(Markdown(\"`{} = {}`  # {}\".format(expr.strip(), eval(expr), comment.strip())))\\n    except:\\n        display(Markdown(\"{} = {}\".format(line, eval(line))))\\n        \\ndef show_file(file, clear_at_begin=True, return_html_string=False):\\n    if clear_at_begin:\\n        get_ipython().system(\"truncate --size 0 \" + file)\\n    obj = file.replace(\\'.\\', \\'_\\').replace(\\'/\\', \\'_\\') + \"_obj\"\\n    html_string = \\'\\'\\'\\n        <!--MD_BEGIN_FILTER-->\\n        <script type=text/javascript>\\n        var entrance___OBJ__ = 0;\\n        var errors___OBJ__ = 0;\\n        function refresh__OBJ__()\\n        {\\n            entrance___OBJ__ -= 1;\\n            var elem = document.getElementById(\"__OBJ__\");\\n            if (elem) {\\n                var xmlhttp=new XMLHttpRequest();\\n                xmlhttp.onreadystatechange=function()\\n                {\\n                    var elem = document.getElementById(\"__OBJ__\");\\n                    console.log(!!elem, xmlhttp.readyState, xmlhttp.status, entrance___OBJ__);\\n                    if (elem && xmlhttp.readyState==4) {\\n                        if (xmlhttp.status==200)\\n                        {\\n                            errors___OBJ__ = 0;\\n                            if (!entrance___OBJ__) {\\n                                elem.innerText = xmlhttp.responseText;\\n                                entrance___OBJ__ += 1;\\n                                console.log(\"req\");\\n                                window.setTimeout(\"refresh__OBJ__()\", 300); \\n                            }\\n                            return xmlhttp.responseText;\\n                        } else {\\n                            errors___OBJ__ += 1;\\n                            if (errors___OBJ__ < 10 && !entrance___OBJ__) {\\n                                entrance___OBJ__ += 1;\\n                                console.log(\"req\");\\n                                window.setTimeout(\"refresh__OBJ__()\", 300); \\n                            }\\n                        }\\n                    }\\n                }\\n                xmlhttp.open(\"GET\", \"__FILE__\", true);\\n                xmlhttp.setRequestHeader(\"Cache-Control\", \"no-cache\");\\n                xmlhttp.send();     \\n            }\\n        }\\n        \\n        if (!entrance___OBJ__) {\\n            entrance___OBJ__ += 1;\\n            refresh__OBJ__(); \\n        }\\n        </script>\\n        \\n        <font color=\"white\"> <tt>\\n        <p id=\"__OBJ__\" style=\"font-size: 16px; border:3px #333333 solid; background: #333333; border-radius: 10px; padding: 10px;  \"></p>\\n        </tt> </font>\\n        <!--MD_END_FILTER-->\\n        <!--MD_FROM_FILE __FILE__ -->\\n        \\'\\'\\'.replace(\"__OBJ__\", obj).replace(\"__FILE__\", file)\\n    if return_html_string:\\n        return html_string\\n    display(HTML(html_string))\\n    \\nBASH_POPEN_TMP_DIR = \"./bash_popen_tmp\"\\n    \\ndef bash_popen_terminate_all():\\n    for p in globals().get(\"bash_popen_list\", []):\\n        print(\"Terminate pid=\" + str(p.pid), file=sys.stderr)\\n        p.terminate()\\n    globals()[\"bash_popen_list\"] = []\\n    if os.path.exists(BASH_POPEN_TMP_DIR):\\n        shutil.rmtree(BASH_POPEN_TMP_DIR)\\n\\nbash_popen_terminate_all()  \\n\\ndef bash_popen(cmd):\\n    if not os.path.exists(BASH_POPEN_TMP_DIR):\\n        os.mkdir(BASH_POPEN_TMP_DIR)\\n    h = os.path.join(BASH_POPEN_TMP_DIR, str(random.randint(0, 1e18)))\\n    stdout_file = h + \".out.html\"\\n    stderr_file = h + \".err.html\"\\n    run_log_file = h + \".fin.html\"\\n    \\n    stdout = open(stdout_file, \"wb\")\\n    stdout = open(stderr_file, \"wb\")\\n    \\n    html = \"\"\"\\n    <table width=\"100%\">\\n    <colgroup>\\n       <col span=\"1\" style=\"width: 70px;\">\\n       <col span=\"1\">\\n    </colgroup>    \\n    <tbody>\\n      <tr> <td><b>STDOUT</b></td> <td> {stdout} </td> </tr>\\n      <tr> <td><b>STDERR</b></td> <td> {stderr} </td> </tr>\\n      <tr> <td><b>RUN LOG</b></td> <td> {run_log} </td> </tr>\\n    </tbody>\\n    </table>\\n    \"\"\".format(\\n        stdout=show_file(stdout_file, return_html_string=True),\\n        stderr=show_file(stderr_file, return_html_string=True),\\n        run_log=show_file(run_log_file, return_html_string=True),\\n    )\\n    \\n    cmd = \"\"\"\\n        bash -c {cmd} &\\n        pid=$!\\n        echo \"Process started! pid=${{pid}}\" > {run_log_file}\\n        wait ${{pid}}\\n        echo \"Process finished! exit_code=$?\" >> {run_log_file}\\n    \"\"\".format(cmd=shlex.quote(cmd), run_log_file=run_log_file)\\n    # print(cmd)\\n    display(HTML(html))\\n    \\n    p = Popen([\"bash\", \"-c\", cmd], stdin=PIPE, stdout=stdout, stderr=stdout)\\n    \\n    bash_popen_list.append(p)\\n    return p\\n\\n\\n@register_line_magic\\ndef bash_async(line):\\n    bash_popen(line)\\n    \\n    \\ndef show_log_file(file, return_html_string=False):\\n    obj = file.replace(\\'.\\', \\'_\\').replace(\\'/\\', \\'_\\') + \"_obj\"\\n    html_string = \\'\\'\\'\\n        <!--MD_BEGIN_FILTER-->\\n        <script type=text/javascript>\\n        var entrance___OBJ__ = 0;\\n        var errors___OBJ__ = 0;\\n        function halt__OBJ__(elem, color)\\n        {\\n            elem.setAttribute(\"style\", \"font-size: 14px; background: \" + color + \"; padding: 10px; border: 3px; border-radius: 5px; color: white; \");                    \\n        }\\n        function refresh__OBJ__()\\n        {\\n            entrance___OBJ__ -= 1;\\n            if (entrance___OBJ__ < 0) {\\n                entrance___OBJ__ = 0;\\n            }\\n            var elem = document.getElementById(\"__OBJ__\");\\n            if (elem) {\\n                var xmlhttp=new XMLHttpRequest();\\n                xmlhttp.onreadystatechange=function()\\n                {\\n                    var elem = document.getElementById(\"__OBJ__\");\\n                    console.log(!!elem, xmlhttp.readyState, xmlhttp.status, entrance___OBJ__);\\n                    if (elem && xmlhttp.readyState==4) {\\n                        if (xmlhttp.status==200)\\n                        {\\n                            errors___OBJ__ = 0;\\n                            if (!entrance___OBJ__) {\\n                                if (elem.innerHTML != xmlhttp.responseText) {\\n                                    elem.innerHTML = xmlhttp.responseText;\\n                                }\\n                                if (elem.innerHTML.includes(\"Process finished.\")) {\\n                                    halt__OBJ__(elem, \"#333333\");\\n                                } else {\\n                                    entrance___OBJ__ += 1;\\n                                    console.log(\"req\");\\n                                    window.setTimeout(\"refresh__OBJ__()\", 300); \\n                                }\\n                            }\\n                            return xmlhttp.responseText;\\n                        } else {\\n                            errors___OBJ__ += 1;\\n                            if (!entrance___OBJ__) {\\n                                if (errors___OBJ__ < 6) {\\n                                    entrance___OBJ__ += 1;\\n                                    console.log(\"req\");\\n                                    window.setTimeout(\"refresh__OBJ__()\", 300); \\n                                } else {\\n                                    halt__OBJ__(elem, \"#994444\");\\n                                }\\n                            }\\n                        }\\n                    }\\n                }\\n                xmlhttp.open(\"GET\", \"__FILE__\", true);\\n                xmlhttp.setRequestHeader(\"Cache-Control\", \"no-cache\");\\n                xmlhttp.send();     \\n            }\\n        }\\n        \\n        if (!entrance___OBJ__) {\\n            entrance___OBJ__ += 1;\\n            refresh__OBJ__(); \\n        }\\n        </script>\\n\\n        <p id=\"__OBJ__\" style=\"font-size: 14px; background: #000000; padding: 10px; border: 3px; border-radius: 5px; color: white; \">\\n        </p>\\n        \\n        </font>\\n        <!--MD_END_FILTER-->\\n        <!--MD_FROM_FILE __FILE__.md -->\\n        \\'\\'\\'.replace(\"__OBJ__\", obj).replace(\"__FILE__\", file)\\n    if return_html_string:\\n        return html_string\\n    display(HTML(html_string))\\n\\n    \\nclass TInteractiveLauncher:\\n    tmp_path = \"./interactive_launcher_tmp\"\\n    def __init__(self, cmd):\\n        try:\\n            os.mkdir(TInteractiveLauncher.tmp_path)\\n        except:\\n            pass\\n        name = str(random.randint(0, 1e18))\\n        self.inq_path = os.path.join(TInteractiveLauncher.tmp_path, name + \".inq\")\\n        self.log_path = os.path.join(TInteractiveLauncher.tmp_path, name + \".log\")\\n        \\n        os.mkfifo(self.inq_path)\\n        open(self.log_path, \\'w\\').close()\\n        open(self.log_path + \".md\", \\'w\\').close()\\n\\n        self.pid = os.fork()\\n        if self.pid == -1:\\n            print(\"Error\")\\n        if self.pid == 0:\\n            exe_cands = glob.glob(\"../tools/launcher.py\") + glob.glob(\"../../tools/launcher.py\")\\n            assert(len(exe_cands) == 1)\\n            assert(os.execvp(\"python3\", [\"python3\", exe_cands[0], \"-l\", self.log_path, \"-i\", self.inq_path, \"-c\", cmd]) == 0)\\n        self.inq_f = open(self.inq_path, \"w\")\\n        interactive_launcher_opened_set.add(self.pid)\\n        show_log_file(self.log_path)\\n\\n    def write(self, s):\\n        s = s.encode()\\n        assert len(s) == os.write(self.inq_f.fileno(), s)\\n        \\n    def get_pid(self):\\n        n = 100\\n        for i in range(n):\\n            try:\\n                return int(re.findall(r\"PID = (\\\\d+)\", open(self.log_path).readline())[0])\\n            except:\\n                if i + 1 == n:\\n                    raise\\n                time.sleep(0.1)\\n        \\n    def input_queue_path(self):\\n        return self.inq_path\\n        \\n    def close(self):\\n        self.inq_f.close()\\n        os.waitpid(self.pid, 0)\\n        os.remove(self.inq_path)\\n        # os.remove(self.log_path)\\n        self.inq_path = None\\n        self.log_path = None \\n        interactive_launcher_opened_set.remove(self.pid)\\n        self.pid = None\\n        \\n    @staticmethod\\n    def terminate_all():\\n        if \"interactive_launcher_opened_set\" not in globals():\\n            globals()[\"interactive_launcher_opened_set\"] = set()\\n        global interactive_launcher_opened_set\\n        for pid in interactive_launcher_opened_set:\\n            print(\"Terminate pid=\" + str(pid), file=sys.stderr)\\n            os.kill(pid, signal.SIGKILL)\\n            os.waitpid(pid, 0)\\n        interactive_launcher_opened_set = set()\\n        if os.path.exists(TInteractiveLauncher.tmp_path):\\n            shutil.rmtree(TInteractiveLauncher.tmp_path)\\n    \\nTInteractiveLauncher.terminate_all()\\n    \\n    \\ndef make_oneliner():\\n    return \\'# look at tools/set_up_magics.ipynb\\\\nget_ipython().run_cell(%s)\\\\nNone\\' % repr(one_liner_str)\\n\\n #SET_UP_MAGIC_END \\n')\n",
    "None"
   ]
  },
  {
   "cell_type": "markdown",
   "metadata": {},
   "source": [
    "# Сокеты и tcp-сокеты в частности\n",
    "\n",
    "<br>\n",
    "<div style=\"text-align: right\"> Спасибо <a href=\"https://github.com/???\"> [пока еще никому :( ] </a> за участие в написании текста </div>\n",
    "<br>\n",
    "\n",
    "**Модель OSI**\n",
    "\n",
    " [Подробнее про уровни](https://zvondozvon.ru/tehnologii/model-osi)\n",
    "    \n",
    "1. Физический уровень (PHYSICAL)\n",
    "2. Канальный уровень (DATA LINK)\n",
    "3. Сетевой уровень (NETWORK)\n",
    "4. Транспортный уровень (TRANSPORT) <- сокеты это интерфейсы вот этого уровня <br>\n",
    "  Реализуются часто в ядре операционной системы <br>\n",
    "  Еще стоит понимать, что транспортный уровень, предоставляя один интерфейс может иметь разные реализации. Например сокеты UNIX, в этом случае под транспортным уровнем нет сетевого, так как передача данных ведется внутри одной машины.\n",
    "5. Сеансовый уровень (SESSION) (IMHO не нужен)\n",
    "6. Уровень представления данных (PRESENTATION) (IMHO не нужен)\n",
    "7. Прикладной уровень (APPLICATION)\n",
    "\n",
    "Сегодня в программе:\n",
    "* `socketpair` - <a href=\"#socketpair\" style=\"color:#856024\">аналог `pipe`</a>, но полученные дескрипторы обладают сокетными свойствами: файловый дескриптор работает и на чтение и на запись (соответственно этот \"pipe\" двусторонний), закрывать нужно с вызовом `shutdown`\n",
    "* `socket` - функция создания сокета\n",
    "  * <a href=\"#socket_unix\" style=\"color:#856024\">AF_UNIX</a> - сокет внутри системы. Адрес в данном случае - адрес файла сокета в файловой системе.\n",
    "  * <a href=\"#socket_inet\" style=\"color:#856024\">AF_INET</a> - сокет для стандартных ipv4 соединений.\n",
    "  * <a href=\"#socket_inet6\" style=\"color:#856024\">AF_INET6</a> - сокет для стандартных ipv6 соединений.\n",
    "  \n",
    "  \n",
    "[Сайт с хорошими картинками про порядок низкоуровневых вызовов в клиентском и серверном приложении](http://support.fastwel.ru/AppNotes/AN/AN-0001.html#server_tcp_init)\n",
    "\n",
    "\n",
    "\n",
    "<a href=\"#hw\" style=\"color:#856024\">Комментарии к ДЗ</a>\n",
    "\n",
    "[Ридинг Яковлева](https://github.com/victor-yacovlev/mipt-diht-caos/tree/master/practice/sockets-tcp)"
   ]
  },
  {
   "cell_type": "code",
   "execution_count": null,
   "metadata": {},
   "outputs": [],
   "source": []
  },
  {
   "cell_type": "code",
   "execution_count": null,
   "metadata": {},
   "outputs": [],
   "source": []
  },
  {
   "cell_type": "markdown",
   "metadata": {},
   "source": [
    "# <a name=\"socketpair\"></a> socketpair в качестве pipe\n",
    "\n",
    "[close vs shutdown](https://stackoverflow.com/questions/48208236/tcp-close-vs-shutdown-in-linux-os)"
   ]
  },
  {
   "cell_type": "code",
   "execution_count": 186,
   "metadata": {},
   "outputs": [
    {
     "data": {
      "text/markdown": [
       "Run: `gcc socketpair.cpp -o socketpair.exe`"
      ],
      "text/plain": [
       "<IPython.core.display.Markdown object>"
      ]
     },
     "metadata": {},
     "output_type": "display_data"
    },
    {
     "data": {
      "text/markdown": [
       "Run: `./socketpair.exe`"
      ],
      "text/plain": [
       "<IPython.core.display.Markdown object>"
      ]
     },
     "metadata": {},
     "output_type": "display_data"
    },
    {
     "name": "stdout",
     "output_type": "stream",
     "text": [
      " 11:49:08 : Read 1000 bytes\r\n",
      " 11:49:08 : Writing is done\r\n"
     ]
    }
   ],
   "source": [
    "%%cpp socketpair.cpp\n",
    "%run gcc socketpair.cpp -o socketpair.exe\n",
    "%run ./socketpair.exe\n",
    "\n",
    "#include <stdio.h>\n",
    "#include <stdlib.h>\n",
    "#include <unistd.h>\n",
    "#include <assert.h>\n",
    "#include <fcntl.h>\n",
    "#include <sys/resource.h>\n",
    "#include <sys/types.h>\n",
    "#include <sys/wait.h>\n",
    "#include <sys/socket.h>\n",
    "#include <errno.h>\n",
    "#include <time.h>\n",
    "\n",
    "char* extract_t(char* s) { s[19] = '\\0'; return s + 10; }\n",
    "#define log_printf_impl(fmt, ...) { time_t t = time(0); dprintf(2, \"%s : \" fmt \"%s\", extract_t(ctime(&t)), __VA_ARGS__); }\n",
    "#define log_printf(...) log_printf_impl(__VA_ARGS__, \"\")\n",
    "\n",
    "void write_smth(int fd) {\n",
    "    for (int i = 0; i < 1000; ++i) {\n",
    "        write(fd, \"X\", 1);\n",
    "        struct timespec t = {.tv_sec = 0, .tv_nsec = 10000};\n",
    "        nanosleep(&t, &t);  \n",
    "    }\n",
    "}\n",
    "\n",
    "void read_all(int fd) {\n",
    "    int bytes = 0;\n",
    "    while (true) {\n",
    "        char c;\n",
    "        int r = read(fd, &c, 1);\n",
    "        if (r > 0) {\n",
    "            bytes += r;\n",
    "        } else if (r < 0) {\n",
    "            assert(errno == EAGAIN);\n",
    "        } else {\n",
    "            break;\n",
    "        }\n",
    "    }\n",
    "    log_printf(\"Read %d bytes\\n\", bytes);\n",
    "}\n",
    "\n",
    "int main() {\n",
    "    union {\n",
    "        int arr_fd[2]; \n",
    "        struct {\n",
    "            int fd_1; // ==arr_fd[0] can change order, it will work\n",
    "            int fd_2; // ==arr_fd[1]\n",
    "        };\n",
    "    } fds;\n",
    "    assert(socketpair(AF_UNIX, SOCK_STREAM, 0, fds.arr_fd) == 0);\n",
    "    \n",
    "    pid_t pid_1, pid_2;\n",
    "    if ((pid_1 = fork()) == 0) {\n",
    "        close(fds.fd_2);\n",
    "        write_smth(fds.fd_1);\n",
    "        shutdown(fds.fd_1, SHUT_RDWR); // important, try to comment out and look at time\n",
    "        close(fds.fd_1);\n",
    "        log_printf(\"Writing is done\\n\");\n",
    "        sleep(3);\n",
    "        return 0;\n",
    "    }\n",
    "    if ((pid_2 = fork()) == 0) {\n",
    "        close(fds.fd_1);\n",
    "        read_all(fds.fd_2);\n",
    "        shutdown(fds.fd_2, SHUT_RDWR);\n",
    "        close(fds.fd_2);\n",
    "        return 0;\n",
    "    }\n",
    "    close(fds.fd_1);\n",
    "    close(fds.fd_2);\n",
    "    int status;\n",
    "    assert(waitpid(pid_1, &status, 0) != -1);\n",
    "    assert(waitpid(pid_2, &status, 0) != -1);\n",
    "    return 0;\n",
    "}"
   ]
  },
  {
   "cell_type": "code",
   "execution_count": null,
   "metadata": {},
   "outputs": [],
   "source": []
  },
  {
   "cell_type": "markdown",
   "metadata": {},
   "source": [
    "# <a name=\"socket_unix\"></a> socket + AF_UNIX"
   ]
  },
  {
   "cell_type": "code",
   "execution_count": 154,
   "metadata": {},
   "outputs": [
    {
     "data": {
      "text/markdown": [
       "Run: `gcc socket_unix.cpp -o socket_unix.exe`"
      ],
      "text/plain": [
       "<IPython.core.display.Markdown object>"
      ]
     },
     "metadata": {},
     "output_type": "display_data"
    },
    {
     "data": {
      "text/markdown": [
       "Run: `./socket_unix.exe`"
      ],
      "text/plain": [
       "<IPython.core.display.Markdown object>"
      ]
     },
     "metadata": {},
     "output_type": "display_data"
    },
    {
     "name": "stdout",
     "output_type": "stream",
     "text": [
      " 19:45:59 : Read 1000 bytes\r\n",
      " 19:45:59 : server finished\r\n",
      " 19:45:59 : client finished\r\n"
     ]
    }
   ],
   "source": [
    "%%cpp socket_unix.cpp\n",
    "%run gcc socket_unix.cpp -o socket_unix.exe\n",
    "%run ./socket_unix.exe\n",
    "\n",
    "#include <stdio.h>\n",
    "#include <stdlib.h>\n",
    "#include <unistd.h>\n",
    "#include <assert.h>\n",
    "#include <fcntl.h>\n",
    "#include <sys/resource.h>\n",
    "#include <sys/types.h>\n",
    "#include <sys/wait.h>\n",
    "#include <sys/socket.h>\n",
    "#include <errno.h>\n",
    "#include <time.h>\n",
    "#include <sys/un.h>\n",
    "\n",
    "char* extract_t(char* s) { s[19] = '\\0'; return s + 10; }\n",
    "#define log_printf_impl(fmt, ...) { time_t t = time(0); dprintf(2, \"%s : \" fmt \"%s\", extract_t(ctime(&t)), __VA_ARGS__); }\n",
    "#define log_printf(...) log_printf_impl(__VA_ARGS__, \"\")\n",
    "\n",
    "#define conditional_handle_error(stmt, msg) \\\n",
    "    do { if (stmt) { perror(msg \" (\" #stmt \")\"); exit(EXIT_FAILURE); } } while (0)\n",
    "\n",
    "void write_smth(int fd) {\n",
    "    for (int i = 0; i < 1000; ++i) {\n",
    "        write(fd, \"X\", 1);\n",
    "        struct timespec t = {.tv_sec = 0, .tv_nsec = 10000};\n",
    "        nanosleep(&t, &t);  \n",
    "    }\n",
    "}\n",
    "\n",
    "void read_all(int fd) {\n",
    "    int bytes = 0;\n",
    "    while (true) {\n",
    "        char c;\n",
    "        int r = read(fd, &c, 1);\n",
    "        if (r > 0) {\n",
    "            bytes += r;\n",
    "        } else if (r < 0) {\n",
    "            assert(errno == EAGAIN);\n",
    "        } else {\n",
    "            break;\n",
    "        }\n",
    "    }\n",
    "    log_printf(\"Read %d bytes\\n\", bytes);\n",
    "}\n",
    "\n",
    "// important to use \"/tmp/*\", otherwise you can have problems with permissions\n",
    "const char* SOCKET_PATH = \"/tmp/my_precious_unix_socket\";\n",
    "const int LISTEN_BACKLOG = 2;\n",
    "\n",
    "int main() { \n",
    "    pid_t pid_1, pid_2;\n",
    "    if ((pid_1 = fork()) == 0) {\n",
    "        // client\n",
    "        sleep(1);\n",
    "        int socket_fd = socket(AF_UNIX, SOCK_STREAM, 0); // == connection_fd in this case\n",
    "        conditional_handle_error(socket_fd == -1, \"can't initialize socket\");\n",
    "        \n",
    "        struct sockaddr_un addr = {.sun_family = AF_UNIX};\n",
    "        strncpy(addr.sun_path, SOCKET_PATH, sizeof(addr.sun_path) - 1);\n",
    "        int connect_ret = connect(socket_fd, (const struct sockaddr*)&addr, sizeof(addr.sun_path));\n",
    "        conditional_handle_error(connect_ret == -1, \"can't connect to unix socket\");\n",
    "        \n",
    "        write_smth(socket_fd);\n",
    "        shutdown(socket_fd, SHUT_RDWR); \n",
    "        close(socket_fd);\n",
    "        log_printf(\"client finished\\n\");\n",
    "        return 0;\n",
    "    }\n",
    "    if ((pid_2 = fork()) == 0) {\n",
    "        // server\n",
    "        int socket_fd = socket(AF_UNIX, SOCK_STREAM, 0); \n",
    "        conditional_handle_error(socket_fd == -1, \"can't initialize socket\");\n",
    "        \n",
    "        unlink(SOCKET_PATH); // remove socket if exists, because bind fail if it exists\n",
    "        struct sockaddr_un addr = {.sun_family = AF_UNIX};\n",
    "        strncpy(addr.sun_path, SOCKET_PATH, sizeof(addr.sun_path) - 1);\n",
    "        int bind_ret = bind(socket_fd, (struct sockaddr*)&addr, sizeof(addr.sun_path)); \n",
    "        conditional_handle_error(bind_ret == -1, \"can't bind to unix socket\");\n",
    "        \n",
    "        int listen_ret = listen(socket_fd, LISTEN_BACKLOG);\n",
    "        conditional_handle_error(listen_ret == -1, \"can't listen to unix socket\");\n",
    "\n",
    "        struct sockaddr_un peer_addr = {0};\n",
    "        socklen_t peer_addr_size = sizeof(struct sockaddr_un);\n",
    "        int connection_fd = accept(socket_fd, (struct sockaddr*)&peer_addr, &peer_addr_size);\n",
    "        conditional_handle_error(connection_fd == -1, \"can't accept incoming connection\");\n",
    "                \n",
    "        read_all(connection_fd);\n",
    "        \n",
    "        shutdown(connection_fd, SHUT_RDWR); \n",
    "        close(connection_fd);\n",
    "        shutdown(socket_fd, SHUT_RDWR); \n",
    "        close(socket_fd);\n",
    "        unlink(SOCKET_PATH);\n",
    "        log_printf(\"server finished\\n\");\n",
    "        return 0;\n",
    "    }\n",
    "    int status;\n",
    "    assert(waitpid(pid_1, &status, 0) != -1);\n",
    "    assert(waitpid(pid_2, &status, 0) != -1);\n",
    "    return 0;\n",
    "}"
   ]
  },
  {
   "cell_type": "code",
   "execution_count": null,
   "metadata": {},
   "outputs": [],
   "source": []
  },
  {
   "cell_type": "markdown",
   "metadata": {},
   "source": [
    "# <a name=\"socket_inet\"></a> socket + AF_INET\n",
    "\n",
    "[На первый взгляд приличная статейка про программирование на сокетах в linux](https://www.rsdn.org/article/unix/sockets.xml)"
   ]
  },
  {
   "cell_type": "code",
   "execution_count": 180,
   "metadata": {},
   "outputs": [
    {
     "data": {
      "text/markdown": [
       "Run: `gcc -DDEBUG socket_inet.cpp -o socket_inet.exe`"
      ],
      "text/plain": [
       "<IPython.core.display.Markdown object>"
      ]
     },
     "metadata": {},
     "output_type": "display_data"
    },
    {
     "data": {
      "text/markdown": [
       "Run: `./socket_inet.exe`"
      ],
      "text/plain": [
       "<IPython.core.display.Markdown object>"
      ]
     },
     "metadata": {},
     "output_type": "display_data"
    },
    {
     "name": "stdout",
     "output_type": "stream",
     "text": [
      " 11:34:54 : writing is done\n",
      " 11:34:54 : Read 1000 bytes\n",
      " 11:34:54 : server finished\n",
      " 11:34:57 : client finished\n"
     ]
    },
    {
     "data": {
      "text/markdown": [
       "Run: `diff socket_unix.cpp socket_inet.cpp  | grep -v \"// %\" | grep -e '>' -e '<' -C 1`"
      ],
      "text/plain": [
       "<IPython.core.display.Markdown object>"
      ]
     },
     "metadata": {},
     "output_type": "display_data"
    },
    {
     "name": "stdout",
     "output_type": "stream",
     "text": [
      "16c17,19\r\n",
      "< #include <sys/un.h>\r\n",
      "---\r\n",
      "> #include <netinet/in.h>\r\n",
      "> #include <netdb.h>\r\n",
      "> #include <string.h>\r\n",
      "27c30,31\r\n",
      "<         write(fd, \"X\", 1);\r\n",
      "---\r\n",
      ">         int write_ret = write(fd, \"X\", 1);\r\n",
      ">         conditional_handle_error(write_ret != 1, \"writing failed\");\r\n",
      "49,50c53\r\n",
      "< // important to use \"/tmp/*\", otherwise you can have problems with permissions\r\n",
      "< const char* SOCKET_PATH = \"/tmp/my_precious_unix_socket\";\r\n",
      "---\r\n",
      "> const int PORT = 31008;\r\n",
      "58c61\r\n",
      "<         int socket_fd = socket(AF_UNIX, SOCK_STREAM, 0); // == connection_fd in this case\r\n",
      "---\r\n",
      ">         int socket_fd = socket(AF_INET, SOCK_STREAM, 0); // == connection_fd in this case\r\n",
      "60,63c63,71\r\n",
      "<         \r\n",
      "<         struct sockaddr_un addr = {.sun_family = AF_UNIX};\r\n",
      "<         strncpy(addr.sun_path, SOCKET_PATH, sizeof(addr.sun_path) - 1);\r\n",
      "<         int connect_ret = connect(socket_fd, (const struct sockaddr*)&addr, sizeof(addr.sun_path));\r\n",
      "---\r\n",
      ">      \r\n",
      ">         struct sockaddr_in addr;\r\n",
      ">         addr.sin_family = AF_INET;\r\n",
      ">         addr.sin_port = htons(PORT);\r\n",
      ">         struct hostent *hosts = gethostbyname(\"localhost\"); // simple function but it is legacy. Prefer getaddrinfo\r\n",
      ">         conditional_handle_error(!hosts, \"can't get host by name\");\r\n",
      ">         memcpy(&addr.sin_addr, hosts->h_addr_list[0], sizeof(addr.sin_addr));\r\n",
      "> \r\n",
      ">         int connect_ret = connect(socket_fd, (struct sockaddr*)&addr, sizeof(addr));\r\n",
      "66a75\r\n",
      ">         log_printf(\"writing is done\\n\");\r\n",
      "68c77,78\r\n",
      "<         close(socket_fd);\r\n",
      "---\r\n",
      ">         //close(socket_fd);\r\n",
      ">         sleep(3);\r\n",
      "74c84\r\n",
      "<         int socket_fd = socket(AF_UNIX, SOCK_STREAM, 0); \r\n",
      "---\r\n",
      ">         int socket_fd = socket(AF_INET, SOCK_STREAM, 0); \r\n",
      "75a86,90\r\n",
      ">         #ifdef DEBUG\r\n",
      ">         int reuse_val = 1;\r\n",
      ">         setsockopt(socket_fd, SOL_SOCKET, SO_REUSEADDR, &reuse_val, sizeof(reuse_val));\r\n",
      ">         setsockopt(socket_fd, SOL_SOCKET, SO_REUSEPORT, &reuse_val, sizeof(reuse_val));\r\n",
      ">         #endif\r\n",
      "77,80c92,94\r\n",
      "<         unlink(SOCKET_PATH); // remove socket if exists, because bind fail if it exists\r\n",
      "<         struct sockaddr_un addr = {.sun_family = AF_UNIX};\r\n",
      "<         strncpy(addr.sun_path, SOCKET_PATH, sizeof(addr.sun_path) - 1);\r\n",
      "<         int bind_ret = bind(socket_fd, (struct sockaddr*)&addr, sizeof(addr.sun_path)); \r\n",
      "---\r\n",
      ">         struct sockaddr_in addr = {.sin_family = AF_INET, .sin_port = htons(PORT)};\r\n",
      ">         // addr.sin_addr == 0, so we are ready to receive connections directed to all our addresses\r\n",
      ">         int bind_ret = bind(socket_fd, (struct sockaddr*)&addr, sizeof(addr)); \r\n",
      "86,87c100,101\r\n",
      "<         struct sockaddr_un peer_addr = {0};\r\n",
      "<         socklen_t peer_addr_size = sizeof(struct sockaddr_un);\r\n",
      "---\r\n",
      ">         struct sockaddr_in peer_addr = {0};\r\n",
      ">         socklen_t peer_addr_size = sizeof(struct sockaddr_in);\r\n",
      "97d110\r\n",
      "<         unlink(SOCKET_PATH);\r\n"
     ]
    }
   ],
   "source": [
    "%%cpp socket_inet.cpp\n",
    "%run gcc -DDEBUG socket_inet.cpp -o socket_inet.exe\n",
    "%run ./socket_inet.exe\n",
    "%run diff socket_unix.cpp socket_inet.cpp  | grep -v \"// %\" | grep -e '>' -e '<' -C 1\n",
    "\n",
    "#include <stdio.h>\n",
    "#include <stdlib.h>\n",
    "#include <unistd.h>\n",
    "#include <assert.h>\n",
    "#include <fcntl.h>\n",
    "#include <sys/resource.h>\n",
    "#include <sys/types.h>\n",
    "#include <sys/wait.h>\n",
    "#include <sys/socket.h>\n",
    "#include <errno.h>\n",
    "#include <time.h>\n",
    "#include <netinet/in.h>\n",
    "#include <netdb.h>\n",
    "#include <string.h>\n",
    "\n",
    "char* extract_t(char* s) { s[19] = '\\0'; return s + 10; }\n",
    "#define log_printf_impl(fmt, ...) { time_t t = time(0); dprintf(2, \"%s : \" fmt \"%s\", extract_t(ctime(&t)), __VA_ARGS__); }\n",
    "#define log_printf(...) log_printf_impl(__VA_ARGS__, \"\")\n",
    "\n",
    "#define conditional_handle_error(stmt, msg) \\\n",
    "    do { if (stmt) { perror(msg \" (\" #stmt \")\"); exit(EXIT_FAILURE); } } while (0)\n",
    "\n",
    "void write_smth(int fd) {\n",
    "    for (int i = 0; i < 1000; ++i) {\n",
    "        int write_ret = write(fd, \"X\", 1);\n",
    "        conditional_handle_error(write_ret != 1, \"writing failed\");\n",
    "        struct timespec t = {.tv_sec = 0, .tv_nsec = 10000};\n",
    "        nanosleep(&t, &t);  \n",
    "    }\n",
    "}\n",
    "\n",
    "void read_all(int fd) {\n",
    "    int bytes = 0;\n",
    "    while (true) {\n",
    "        char c;\n",
    "        int r = read(fd, &c, 1);\n",
    "        if (r > 0) {\n",
    "            bytes += r;\n",
    "        } else if (r < 0) {\n",
    "            assert(errno == EAGAIN);\n",
    "        } else {\n",
    "            break;\n",
    "        }\n",
    "    }\n",
    "    log_printf(\"Read %d bytes\\n\", bytes);\n",
    "}\n",
    "\n",
    "const int PORT = 31008;\n",
    "const int LISTEN_BACKLOG = 2;\n",
    "\n",
    "int main() { \n",
    "    pid_t pid_1, pid_2;\n",
    "    if ((pid_1 = fork()) == 0) {\n",
    "        // client\n",
    "        sleep(1);\n",
    "        int socket_fd = socket(AF_INET, SOCK_STREAM, 0); // == connection_fd in this case\n",
    "        conditional_handle_error(socket_fd == -1, \"can't initialize socket\");\n",
    "     \n",
    "        struct sockaddr_in addr;\n",
    "        addr.sin_family = AF_INET;\n",
    "        addr.sin_port = htons(PORT);\n",
    "        struct hostent *hosts = gethostbyname(\"localhost\"); // simple function but it is legacy. Prefer getaddrinfo\n",
    "        conditional_handle_error(!hosts, \"can't get host by name\");\n",
    "        memcpy(&addr.sin_addr, hosts->h_addr_list[0], sizeof(addr.sin_addr));\n",
    "\n",
    "        int connect_ret = connect(socket_fd, (struct sockaddr*)&addr, sizeof(addr));\n",
    "        conditional_handle_error(connect_ret == -1, \"can't connect to unix socket\");\n",
    "        \n",
    "        write_smth(socket_fd);\n",
    "        log_printf(\"writing is done\\n\");\n",
    "        shutdown(socket_fd, SHUT_RDWR); \n",
    "        close(socket_fd);\n",
    "        log_printf(\"client finished\\n\");\n",
    "        return 0;\n",
    "    }\n",
    "    if ((pid_2 = fork()) == 0) {\n",
    "        // server\n",
    "        int socket_fd = socket(AF_INET, SOCK_STREAM, 0); \n",
    "        conditional_handle_error(socket_fd == -1, \"can't initialize socket\");\n",
    "        #ifdef DEBUG\n",
    "        int reuse_val = 1;\n",
    "        setsockopt(socket_fd, SOL_SOCKET, SO_REUSEADDR, &reuse_val, sizeof(reuse_val));\n",
    "        setsockopt(socket_fd, SOL_SOCKET, SO_REUSEPORT, &reuse_val, sizeof(reuse_val));\n",
    "        #endif\n",
    "        \n",
    "        struct sockaddr_in addr = {.sin_family = AF_INET, .sin_port = htons(PORT)};\n",
    "        // addr.sin_addr == 0, so we are ready to receive connections directed to all our addresses\n",
    "        int bind_ret = bind(socket_fd, (struct sockaddr*)&addr, sizeof(addr)); \n",
    "        conditional_handle_error(bind_ret == -1, \"can't bind to unix socket\");\n",
    "        \n",
    "        int listen_ret = listen(socket_fd, LISTEN_BACKLOG);\n",
    "        conditional_handle_error(listen_ret == -1, \"can't listen to unix socket\");\n",
    "\n",
    "        struct sockaddr_in peer_addr = {0};\n",
    "        socklen_t peer_addr_size = sizeof(struct sockaddr_in);\n",
    "        int connection_fd = accept(socket_fd, (struct sockaddr*)&peer_addr, &peer_addr_size);\n",
    "        conditional_handle_error(connection_fd == -1, \"can't accept incoming connection\");\n",
    "                \n",
    "        read_all(connection_fd);\n",
    "        \n",
    "        shutdown(connection_fd, SHUT_RDWR); \n",
    "        close(connection_fd);\n",
    "        shutdown(socket_fd, SHUT_RDWR); \n",
    "        close(socket_fd);\n",
    "        log_printf(\"server finished\\n\");\n",
    "        return 0;\n",
    "    }\n",
    "    int status;\n",
    "    assert(waitpid(pid_1, &status, 0) != -1);\n",
    "    assert(waitpid(pid_2, &status, 0) != -1);\n",
    "    return 0;\n",
    "}"
   ]
  },
  {
   "cell_type": "code",
   "execution_count": null,
   "metadata": {},
   "outputs": [],
   "source": []
  },
  {
   "cell_type": "code",
   "execution_count": null,
   "metadata": {},
   "outputs": [],
   "source": []
  },
  {
   "cell_type": "markdown",
   "metadata": {},
   "source": [
    "# getaddrinfo\n",
    "\n",
    "Резолвим адрес по имени.\n",
    "\n",
    "[Документация](https://linux.die.net/man/3/getaddrinfo)\n",
    "\n",
    "Из документации взята реализация. Но она не работала, пришлось ее подправить :)"
   ]
  },
  {
   "cell_type": "code",
   "execution_count": 190,
   "metadata": {},
   "outputs": [
    {
     "data": {
      "text/markdown": [
       "Run: `gcc -DDEBUG getaddrinfo.cpp -o getaddrinfo.exe`"
      ],
      "text/plain": [
       "<IPython.core.display.Markdown object>"
      ]
     },
     "metadata": {},
     "output_type": "display_data"
    },
    {
     "data": {
      "text/markdown": [
       "Run: `./getaddrinfo.exe`"
      ],
      "text/plain": [
       "<IPython.core.display.Markdown object>"
      ]
     },
     "metadata": {},
     "output_type": "display_data"
    },
    {
     "name": "stdout",
     "output_type": "stream",
     "text": [
      "Try ai_family=2 host=127.0.0.1, serv=22\n",
      "Try ai_family=10 host=::1, serv=22\n",
      "Try ai_family=2 host=87.250.250.242, serv=80\n",
      "Try ai_family=10 host=2a02:6b8::2:242, serv=80\n",
      "Could not connect\n"
     ]
    }
   ],
   "source": [
    "%%cpp getaddrinfo.cpp\n",
    "%run gcc -DDEBUG getaddrinfo.cpp -o getaddrinfo.exe\n",
    "%run ./getaddrinfo.exe\n",
    "\n",
    "#include <stdio.h>\n",
    "#include <stdlib.h>\n",
    "#include <unistd.h>\n",
    "#include <netdb.h>\n",
    "#include <string.h>\n",
    "\n",
    "int try_connect_by_name(const char* name, int port, int ai_family) {\n",
    "    struct addrinfo hints;\n",
    "    struct addrinfo *result, *rp;\n",
    "    int sfd, s, j;\n",
    "    size_t len;\n",
    "    ssize_t nread;\n",
    "   \n",
    "    /* Obtain address(es) matching host/port */\n",
    "    memset(&hints, 0, sizeof(struct addrinfo));\n",
    "    hints.ai_family = ai_family;    \n",
    "    hints.ai_socktype = SOCK_STREAM;\n",
    "    hints.ai_flags = 0;\n",
    "    hints.ai_protocol = 0;          /* Any protocol */\n",
    "    \n",
    "    char port_s[20];\n",
    "    sprintf(port_s, \"%d\", port);\n",
    "    s = getaddrinfo(name, port_s, &hints, &result);\n",
    "    if (s != 0) {\n",
    "        fprintf(stderr, \"getaddrinfo: %s\\n\", gai_strerror(s));\n",
    "        exit(EXIT_FAILURE);\n",
    "    }\n",
    "\n",
    "    /* getaddrinfo() returns a list of address structures.\n",
    "       Try each address until we successfully connect(2).\n",
    "       If socket(2) (or connect(2)) fails, we (close the socket\n",
    "       and) try the next address. */\n",
    "\n",
    "    for (rp = result; rp != NULL; rp = rp->ai_next) {\n",
    "        char hbuf[NI_MAXHOST], sbuf[NI_MAXSERV];\n",
    "        if (getnameinfo(rp->ai_addr, rp->ai_addrlen, hbuf, sizeof(hbuf), sbuf, sizeof(sbuf), NI_NUMERICHOST | NI_NUMERICSERV) == 0)\n",
    "            fprintf(stderr, \"Try ai_family=%d host=%s, serv=%s\\n\", rp->ai_family, hbuf, sbuf);\n",
    "        sfd = socket(rp->ai_family, rp->ai_socktype, rp->ai_protocol);\n",
    "        if (sfd == -1)\n",
    "            continue;\n",
    "        if (connect(sfd, rp->ai_addr, rp->ai_addrlen) != -1)\n",
    "            break;                  /* Success */\n",
    "        close(sfd);\n",
    "    }\n",
    "\n",
    "    freeaddrinfo(result);\n",
    "    \n",
    "    if (rp == NULL) {               /* No address succeeded */\n",
    "        fprintf(stderr, \"Could not connect\\n\");\n",
    "        return -1;\n",
    "    }\n",
    "    return sfd;\n",
    "}\n",
    "\n",
    "\n",
    "int main() { \n",
    "    try_connect_by_name(\"localhost\", 22, AF_UNSPEC);\n",
    "    try_connect_by_name(\"localhost\", 22, AF_INET6);\n",
    "    try_connect_by_name(\"ya.ru\", 80, AF_UNSPEC);\n",
    "    try_connect_by_name(\"ya.ru\", 80, AF_INET6);\n",
    "    return 0;\n",
    "}\n"
   ]
  },
  {
   "cell_type": "code",
   "execution_count": null,
   "metadata": {},
   "outputs": [],
   "source": []
  },
  {
   "cell_type": "markdown",
   "metadata": {},
   "source": [
    "# <a name=\"socket_inet6\"></a> socket + AF_INET6 + getaddrinfo\n",
    "\n",
    "Вынужден использовать getaddrinfo из-за ipv6. При этом пришлось его немного поломать, так как при реализации из мануала rp->ai_socktype и rp->ai_protocol давали неподходящие значения для установки соединения.\n"
   ]
  },
  {
   "cell_type": "code",
   "execution_count": 192,
   "metadata": {},
   "outputs": [
    {
     "data": {
      "text/markdown": [
       "Run: `gcc -DDEBUG socket_inet6.cpp -o socket_inet6.exe`"
      ],
      "text/plain": [
       "<IPython.core.display.Markdown object>"
      ]
     },
     "metadata": {},
     "output_type": "display_data"
    },
    {
     "data": {
      "text/markdown": [
       "Run: `./socket_inet6.exe`"
      ],
      "text/plain": [
       "<IPython.core.display.Markdown object>"
      ]
     },
     "metadata": {},
     "output_type": "display_data"
    },
    {
     "name": "stdout",
     "output_type": "stream",
     "text": [
      "Try ai_family=10 host=::1, serv=31008\n",
      " 11:54:55 : Read 1000 bytes\n",
      " 11:54:55 : server finished\n",
      " 11:54:55 : client finished\n"
     ]
    },
    {
     "data": {
      "text/markdown": [
       "Run: `diff socket_inet.cpp socket_inet6.cpp  | grep -v \"// %\" | grep -e '>' -e '<' -C 1`"
      ],
      "text/plain": [
       "<IPython.core.display.Markdown object>"
      ]
     },
     "metadata": {},
     "output_type": "display_data"
    },
    {
     "name": "stdout",
     "output_type": "stream",
     "text": [
      "52a53,101\r\n",
      "> int try_connect_by_name(const char* name, int port, int ai_family) {\r\n",
      ">     struct addrinfo hints;\r\n",
      ">     struct addrinfo *result, *rp;\r\n",
      ">     int sfd, s, j;\r\n",
      ">     size_t len;\r\n",
      ">     ssize_t nread;\r\n",
      ">    \r\n",
      ">     /* Obtain address(es) matching host/port */\r\n",
      ">     memset(&hints, 0, sizeof(struct addrinfo));\r\n",
      ">     hints.ai_family = ai_family;    \r\n",
      ">     hints.ai_socktype = SOCK_STREAM;\r\n",
      ">     hints.ai_flags = 0;\r\n",
      ">     hints.ai_protocol = 0;          /* Any protocol */\r\n",
      ">     \r\n",
      ">     char port_s[20];\r\n",
      ">     sprintf(port_s, \"%d\", port);\r\n",
      ">     s = getaddrinfo(name, port_s, &hints, &result);\r\n",
      ">     if (s != 0) {\r\n",
      ">         fprintf(stderr, \"getaddrinfo: %s\\n\", gai_strerror(s));\r\n",
      ">         exit(EXIT_FAILURE);\r\n",
      ">     }\r\n",
      "> \r\n",
      ">     /* getaddrinfo() returns a list of address structures.\r\n",
      ">        Try each address until we successfully connect(2).\r\n",
      ">        If socket(2) (or connect(2)) fails, we (close the socket\r\n",
      ">        and) try the next address. */\r\n",
      "> \r\n",
      ">     for (rp = result; rp != NULL; rp = rp->ai_next) {\r\n",
      ">         char hbuf[NI_MAXHOST], sbuf[NI_MAXSERV];\r\n",
      ">         if (getnameinfo(rp->ai_addr, rp->ai_addrlen, hbuf, sizeof(hbuf), sbuf, sizeof(sbuf), NI_NUMERICHOST | NI_NUMERICSERV) == 0)\r\n",
      ">             fprintf(stderr, \"Try ai_family=%d host=%s, serv=%s\\n\", rp->ai_family, hbuf, sbuf);\r\n",
      ">         sfd = socket(rp->ai_family, rp->ai_socktype, rp->ai_protocol);\r\n",
      ">         if (sfd == -1)\r\n",
      ">             continue;\r\n",
      ">         if (connect(sfd, rp->ai_addr, rp->ai_addrlen) != -1)\r\n",
      ">             break;                  /* Success */\r\n",
      ">         close(sfd);\r\n",
      ">     }\r\n",
      "> \r\n",
      ">     freeaddrinfo(result);\r\n",
      ">     \r\n",
      ">     if (rp == NULL) {               /* No address succeeded */\r\n",
      ">         fprintf(stderr, \"Could not connect\\n\");\r\n",
      ">         return -1;\r\n",
      ">     }\r\n",
      ">     return sfd;\r\n",
      "> }\r\n",
      "> \r\n",
      "> \r\n",
      "61,73c110\r\n",
      "<         int socket_fd = socket(AF_INET, SOCK_STREAM, 0); // == connection_fd in this case\r\n",
      "<         conditional_handle_error(socket_fd == -1, \"can't initialize socket\");\r\n",
      "<      \r\n",
      "<         struct sockaddr_in addr;\r\n",
      "<         addr.sin_family = AF_INET;\r\n",
      "<         addr.sin_port = htons(PORT);\r\n",
      "<         struct hostent *hosts = gethostbyname(\"localhost\"); // simple function but it is legacy. Prefer getaddrinfo\r\n",
      "<         conditional_handle_error(!hosts, \"can't get host by name\");\r\n",
      "<         memcpy(&addr.sin_addr, hosts->h_addr_list[0], sizeof(addr.sin_addr));\r\n",
      "< \r\n",
      "<         int connect_ret = connect(socket_fd, (struct sockaddr*)&addr, sizeof(addr));\r\n",
      "<         conditional_handle_error(connect_ret == -1, \"can't connect to unix socket\");\r\n",
      "<         \r\n",
      "---\r\n",
      ">         int socket_fd = try_connect_by_name(\"localhost\", PORT, AF_INET6);\r\n",
      "75d111\r\n",
      "<         log_printf(\"writing is done\\n\");\r\n",
      "77,78c113\r\n",
      "<         //close(socket_fd);\r\n",
      "<         sleep(3);\r\n",
      "---\r\n",
      ">         close(socket_fd);\r\n",
      "84c119\r\n",
      "<         int socket_fd = socket(AF_INET, SOCK_STREAM, 0); \r\n",
      "---\r\n",
      ">         int socket_fd = socket(AF_INET6, SOCK_STREAM, 0); \r\n",
      "92c127\r\n",
      "<         struct sockaddr_in addr = {.sin_family = AF_INET, .sin_port = htons(PORT)};\r\n",
      "---\r\n",
      ">         struct sockaddr_in6 addr = {.sin6_family = AF_INET6, .sin6_port = htons(PORT)};\r\n",
      "100,101c135,136\r\n",
      "<         struct sockaddr_in peer_addr = {0};\r\n",
      "<         socklen_t peer_addr_size = sizeof(struct sockaddr_in);\r\n",
      "---\r\n",
      ">         struct sockaddr_in6 peer_addr = {0};\r\n",
      ">         socklen_t peer_addr_size = sizeof(struct sockaddr_in6);\r\n"
     ]
    }
   ],
   "source": [
    "%%cpp socket_inet6.cpp\n",
    "%run gcc -DDEBUG socket_inet6.cpp -o socket_inet6.exe\n",
    "%run ./socket_inet6.exe\n",
    "%run diff socket_inet.cpp socket_inet6.cpp  | grep -v \"// %\" | grep -e '>' -e '<' -C 1\n",
    "\n",
    "#include <stdio.h>\n",
    "#include <stdlib.h>\n",
    "#include <unistd.h>\n",
    "#include <assert.h>\n",
    "#include <fcntl.h>\n",
    "#include <sys/resource.h>\n",
    "#include <sys/types.h>\n",
    "#include <sys/wait.h>\n",
    "#include <sys/socket.h>\n",
    "#include <errno.h>\n",
    "#include <time.h>\n",
    "#include <netinet/in.h>\n",
    "#include <netdb.h>\n",
    "#include <string.h>\n",
    "\n",
    "char* extract_t(char* s) { s[19] = '\\0'; return s + 10; }\n",
    "#define log_printf_impl(fmt, ...) { time_t t = time(0); dprintf(2, \"%s : \" fmt \"%s\", extract_t(ctime(&t)), __VA_ARGS__); }\n",
    "#define log_printf(...) log_printf_impl(__VA_ARGS__, \"\")\n",
    "\n",
    "#define conditional_handle_error(stmt, msg) \\\n",
    "    do { if (stmt) { perror(msg \" (\" #stmt \")\"); exit(EXIT_FAILURE); } } while (0)\n",
    "\n",
    "void write_smth(int fd) {\n",
    "    for (int i = 0; i < 1000; ++i) {\n",
    "        int write_ret = write(fd, \"X\", 1);\n",
    "        conditional_handle_error(write_ret != 1, \"writing failed\");\n",
    "        struct timespec t = {.tv_sec = 0, .tv_nsec = 10000};\n",
    "        nanosleep(&t, &t);  \n",
    "    }\n",
    "}\n",
    "\n",
    "void read_all(int fd) {\n",
    "    int bytes = 0;\n",
    "    while (true) {\n",
    "        char c;\n",
    "        int r = read(fd, &c, 1);\n",
    "        if (r > 0) {\n",
    "            bytes += r;\n",
    "        } else if (r < 0) {\n",
    "            assert(errno == EAGAIN);\n",
    "        } else {\n",
    "            break;\n",
    "        }\n",
    "    }\n",
    "    log_printf(\"Read %d bytes\\n\", bytes);\n",
    "}\n",
    "\n",
    "int try_connect_by_name(const char* name, int port, int ai_family) {\n",
    "    struct addrinfo hints;\n",
    "    struct addrinfo *result, *rp;\n",
    "    int sfd, s, j;\n",
    "    size_t len;\n",
    "    ssize_t nread;\n",
    "   \n",
    "    /* Obtain address(es) matching host/port */\n",
    "    memset(&hints, 0, sizeof(struct addrinfo));\n",
    "    hints.ai_family = ai_family;    \n",
    "    hints.ai_socktype = SOCK_STREAM;\n",
    "    hints.ai_flags = 0;\n",
    "    hints.ai_protocol = 0;          /* Any protocol */\n",
    "    \n",
    "    char port_s[20];\n",
    "    sprintf(port_s, \"%d\", port);\n",
    "    s = getaddrinfo(name, port_s, &hints, &result);\n",
    "    if (s != 0) {\n",
    "        fprintf(stderr, \"getaddrinfo: %s\\n\", gai_strerror(s));\n",
    "        exit(EXIT_FAILURE);\n",
    "    }\n",
    "\n",
    "    /* getaddrinfo() returns a list of address structures.\n",
    "       Try each address until we successfully connect(2).\n",
    "       If socket(2) (or connect(2)) fails, we (close the socket\n",
    "       and) try the next address. */\n",
    "\n",
    "    for (rp = result; rp != NULL; rp = rp->ai_next) {\n",
    "        char hbuf[NI_MAXHOST], sbuf[NI_MAXSERV];\n",
    "        if (getnameinfo(rp->ai_addr, rp->ai_addrlen, hbuf, sizeof(hbuf), sbuf, sizeof(sbuf), NI_NUMERICHOST | NI_NUMERICSERV) == 0)\n",
    "            fprintf(stderr, \"Try ai_family=%d host=%s, serv=%s\\n\", rp->ai_family, hbuf, sbuf);\n",
    "        sfd = socket(rp->ai_family, rp->ai_socktype, rp->ai_protocol);\n",
    "        if (sfd == -1)\n",
    "            continue;\n",
    "        if (connect(sfd, rp->ai_addr, rp->ai_addrlen) != -1)\n",
    "            break;                  /* Success */\n",
    "        close(sfd);\n",
    "    }\n",
    "\n",
    "    freeaddrinfo(result);\n",
    "    \n",
    "    if (rp == NULL) {               /* No address succeeded */\n",
    "        fprintf(stderr, \"Could not connect\\n\");\n",
    "        return -1;\n",
    "    }\n",
    "    return sfd;\n",
    "}\n",
    "\n",
    "\n",
    "const int PORT = 31008;\n",
    "const int LISTEN_BACKLOG = 2;\n",
    "\n",
    "int main() { \n",
    "    pid_t pid_1, pid_2;\n",
    "    if ((pid_1 = fork()) == 0) {\n",
    "        // client\n",
    "        sleep(1);\n",
    "        int socket_fd = try_connect_by_name(\"localhost\", PORT, AF_INET6);\n",
    "        write_smth(socket_fd);\n",
    "        shutdown(socket_fd, SHUT_RDWR); \n",
    "        close(socket_fd);\n",
    "        log_printf(\"client finished\\n\");\n",
    "        return 0;\n",
    "    }\n",
    "    if ((pid_2 = fork()) == 0) {\n",
    "        // server\n",
    "        int socket_fd = socket(AF_INET6, SOCK_STREAM, 0); \n",
    "        conditional_handle_error(socket_fd == -1, \"can't initialize socket\");\n",
    "        #ifdef DEBUG\n",
    "        int reuse_val = 1;\n",
    "        setsockopt(socket_fd, SOL_SOCKET, SO_REUSEADDR, &reuse_val, sizeof(reuse_val));\n",
    "        setsockopt(socket_fd, SOL_SOCKET, SO_REUSEPORT, &reuse_val, sizeof(reuse_val));\n",
    "        #endif\n",
    "        \n",
    "        struct sockaddr_in6 addr = {.sin6_family = AF_INET6, .sin6_port = htons(PORT)};\n",
    "        // addr.sin6_addr == 0, so we are ready to receive connections directed to all our addresses\n",
    "        int bind_ret = bind(socket_fd, (struct sockaddr*)&addr, sizeof(addr)); \n",
    "        conditional_handle_error(bind_ret == -1, \"can't bind to unix socket\");\n",
    "        \n",
    "        int listen_ret = listen(socket_fd, LISTEN_BACKLOG);\n",
    "        conditional_handle_error(listen_ret == -1, \"can't listen to unix socket\");\n",
    "\n",
    "        struct sockaddr_in6 peer_addr = {0};\n",
    "        socklen_t peer_addr_size = sizeof(struct sockaddr_in6);\n",
    "        int connection_fd = accept(socket_fd, (struct sockaddr*)&peer_addr, &peer_addr_size);\n",
    "        conditional_handle_error(connection_fd == -1, \"can't accept incoming connection\");\n",
    "                \n",
    "        read_all(connection_fd);\n",
    "        \n",
    "        shutdown(connection_fd, SHUT_RDWR); \n",
    "        close(connection_fd);\n",
    "        shutdown(socket_fd, SHUT_RDWR); \n",
    "        close(socket_fd);\n",
    "        log_printf(\"server finished\\n\");\n",
    "        return 0;\n",
    "    }\n",
    "    int status;\n",
    "    assert(waitpid(pid_1, &status, 0) != -1);\n",
    "    assert(waitpid(pid_2, &status, 0) != -1);\n",
    "    return 0;\n",
    "}"
   ]
  },
  {
   "cell_type": "code",
   "execution_count": null,
   "metadata": {},
   "outputs": [],
   "source": []
  },
  {
   "cell_type": "code",
   "execution_count": null,
   "metadata": {},
   "outputs": [],
   "source": []
  },
  {
   "cell_type": "code",
   "execution_count": null,
   "metadata": {},
   "outputs": [],
   "source": []
  },
  {
   "cell_type": "code",
   "execution_count": null,
   "metadata": {},
   "outputs": [],
   "source": []
  },
  {
   "cell_type": "markdown",
   "metadata": {},
   "source": [
    "# <a name=\"hw\"></a> Комментарии к ДЗ\n",
    "\n",
    "* Пока нет"
   ]
  },
  {
   "cell_type": "code",
   "execution_count": null,
   "metadata": {},
   "outputs": [],
   "source": []
  },
  {
   "cell_type": "code",
   "execution_count": null,
   "metadata": {},
   "outputs": [],
   "source": []
  },
  {
   "cell_type": "code",
   "execution_count": null,
   "metadata": {},
   "outputs": [],
   "source": []
  },
  {
   "cell_type": "code",
   "execution_count": null,
   "metadata": {},
   "outputs": [],
   "source": []
  }
 ],
 "metadata": {
  "kernelspec": {
   "display_name": "Python 3",
   "language": "python",
   "name": "python3"
  },
  "language_info": {
   "codemirror_mode": {
    "name": "ipython",
    "version": 3
   },
   "file_extension": ".py",
   "mimetype": "text/x-python",
   "name": "python",
   "nbconvert_exporter": "python",
   "pygments_lexer": "ipython3",
   "version": "3.5.2"
  }
 },
 "nbformat": 4,
 "nbformat_minor": 2
}
