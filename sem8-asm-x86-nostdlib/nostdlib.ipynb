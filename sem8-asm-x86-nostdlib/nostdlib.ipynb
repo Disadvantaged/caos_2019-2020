{
 "cells": [
  {
   "cell_type": "code",
   "execution_count": 1,
   "metadata": {},
   "outputs": [
    {
     "data": {
      "application/javascript": [
       "// setup cpp code highlighting\n",
       "IPython.CodeCell.options_default.highlight_modes[\"text/x-c++src\"] = {'reg':[/^%%cpp/]} ;"
      ],
      "text/plain": [
       "<IPython.core.display.Javascript object>"
      ]
     },
     "metadata": {},
     "output_type": "display_data"
    }
   ],
   "source": [
    "# make magics here. Look at previous notebooks to see readable version\n",
    "exec('\\nget_ipython().run_cell_magic(\\'javascript\\', \\'\\', \\'// setup cpp code highlighting\\\\nIPython.CodeCell.options_default.highlight_modes[\"text/x-c++src\"] = {\\\\\\'reg\\\\\\':[/^%%cpp/]} ;\\')\\n\\n# creating magics\\nfrom IPython.core.magic import register_cell_magic, register_line_magic\\nfrom IPython.display import display, Markdown\\n\\n@register_cell_magic\\ndef save_file(fname, cell):\\n    cell = cell if cell[-1] == \\'\\\\n\\' else cell + \"\\\\n\"\\n    cmds = []\\n    with open(fname, \"w\") as f:\\n        for line in cell.split(\"\\\\n\"):\\n            if line.startswith(\"%\"):\\n                run_prefix = \"%run \"\\n                assert line.startswith(run_prefix)\\n                cmds.append(line[len(run_prefix):].strip())\\n            else:\\n                f.write(line + \"\\\\n\")\\n    for cmd in cmds:\\n        display(Markdown(\"Run: `%s`\" % cmd))\\n        get_ipython().system(cmd)\\n\\n@register_cell_magic\\ndef cpp(fname, cell):\\n    save_file(fname, cell)\\n\\n@register_cell_magic\\ndef asm(fname, cell):\\n    save_file(fname, cell)\\n    \\n@register_cell_magic\\ndef makefile(fname, cell):\\n    assert not fname\\n    save_file(\"makefile\", cell.replace(\" \" * 4, \"\\\\t\"))\\n        \\n@register_line_magic\\ndef p(line):\\n    print(\"{} = {}\".format(line, eval(line)))\\n')"
   ]
  },
  {
   "cell_type": "markdown",
   "metadata": {},
   "source": [
    "# Жизнь без стандартной библиотеки\n",
    "\n",
    "Что это значит? Значит, что функции взаимодействия с внещним миром (чтение, запись файлов и т. д.) будут реализованы в самом бинаре программы. Возможно вы даже лично напишите их код.\n",
    "\n"
   ]
  },
  {
   "cell_type": "markdown",
   "metadata": {},
   "source": [
    "## Компилим как обычно"
   ]
  },
  {
   "cell_type": "code",
   "execution_count": 103,
   "metadata": {},
   "outputs": [
    {
     "data": {
      "text/markdown": [
       "Run: `gcc -m32 -masm=intel -fno-asynchronous-unwind-tables -O3 main.c -S -o main.S`"
      ],
      "text/plain": [
       "<IPython.core.display.Markdown object>"
      ]
     },
     "metadata": {},
     "output_type": "display_data"
    },
    {
     "data": {
      "text/markdown": [
       "Run: `gcc -m32 -masm=intel -O3 main.c -o main.exe`"
      ],
      "text/plain": [
       "<IPython.core.display.Markdown object>"
      ]
     },
     "metadata": {},
     "output_type": "display_data"
    },
    {
     "data": {
      "text/markdown": [
       "Run: `ls -la main.exe`"
      ],
      "text/plain": [
       "<IPython.core.display.Markdown object>"
      ]
     },
     "metadata": {},
     "output_type": "display_data"
    },
    {
     "name": "stdout",
     "output_type": "stream",
     "text": [
      "-rwxrwxr-x 1 pechatnov pechatnov 7312 Oct 22 22:50 main.exe\r\n"
     ]
    },
    {
     "data": {
      "text/markdown": [
       "Run: `ldd main.exe  # Выводим зависимости по библиотекам`"
      ],
      "text/plain": [
       "<IPython.core.display.Markdown object>"
      ]
     },
     "metadata": {},
     "output_type": "display_data"
    },
    {
     "name": "stdout",
     "output_type": "stream",
     "text": [
      "\tlinux-gate.so.1 =>  (0xf7f2e000)\r\n",
      "\tlibc.so.6 => /lib/i386-linux-gnu/libc.so.6 (0xf7d52000)\r\n",
      "\t/lib/ld-linux.so.2 (0xf7f30000)\r\n"
     ]
    },
    {
     "data": {
      "text/markdown": [
       "Run: `cat main.S`"
      ],
      "text/plain": [
       "<IPython.core.display.Markdown object>"
      ]
     },
     "metadata": {},
     "output_type": "display_data"
    },
    {
     "name": "stdout",
     "output_type": "stream",
     "text": [
      "\t.file\t\"main.c\"\r\n",
      "\t.intel_syntax noprefix\r\n",
      "\t.section\t.text.unlikely,\"ax\",@progbits\r\n",
      ".LCOLDB0:\r\n",
      "\t.section\t.text.startup,\"ax\",@progbits\r\n",
      ".LHOTB0:\r\n",
      "\t.p2align 4,,15\r\n",
      "\t.globl\tmain\r\n",
      "\t.type\tmain, @function\r\n",
      "main:\r\n",
      "\txor\teax, eax\r\n",
      "\tret\r\n",
      "\t.size\tmain, .-main\r\n",
      "\t.section\t.text.unlikely\r\n",
      ".LCOLDE0:\r\n",
      "\t.section\t.text.startup\r\n",
      ".LHOTE0:\r\n",
      "\t.ident\t\"GCC: (Ubuntu 5.4.0-6ubuntu1~16.04.10) 5.4.0 20160609\"\r\n",
      "\t.section\t.note.GNU-stack,\"\",@progbits\r\n"
     ]
    },
    {
     "data": {
      "text/markdown": [
       "Run: `objdump -M intel -d main.exe`"
      ],
      "text/plain": [
       "<IPython.core.display.Markdown object>"
      ]
     },
     "metadata": {},
     "output_type": "display_data"
    },
    {
     "name": "stdout",
     "output_type": "stream",
     "text": [
      "\r\n",
      "main.exe:     file format elf32-i386\r\n",
      "\r\n",
      "\r\n",
      "Disassembly of section .init:\r\n",
      "\r\n",
      "0804828c <_init>:\r\n",
      " 804828c:\t53                   \tpush   ebx\r\n",
      " 804828d:\t83 ec 08             \tsub    esp,0x8\r\n",
      " 8048290:\te8 7b 00 00 00       \tcall   8048310 <__x86.get_pc_thunk.bx>\r\n",
      " 8048295:\t81 c3 6b 1d 00 00    \tadd    ebx,0x1d6b\r\n",
      " 804829b:\t8b 83 fc ff ff ff    \tmov    eax,DWORD PTR [ebx-0x4]\r\n",
      " 80482a1:\t85 c0                \ttest   eax,eax\r\n",
      " 80482a3:\t74 05                \tje     80482aa <_init+0x1e>\r\n",
      " 80482a5:\te8 26 00 00 00       \tcall   80482d0 <__libc_start_main@plt+0x10>\r\n",
      " 80482aa:\t83 c4 08             \tadd    esp,0x8\r\n",
      " 80482ad:\t5b                   \tpop    ebx\r\n",
      " 80482ae:\tc3                   \tret    \r\n",
      "\r\n",
      "Disassembly of section .plt:\r\n",
      "\r\n",
      "080482b0 <__libc_start_main@plt-0x10>:\r\n",
      " 80482b0:\tff 35 04 a0 04 08    \tpush   DWORD PTR ds:0x804a004\r\n",
      " 80482b6:\tff 25 08 a0 04 08    \tjmp    DWORD PTR ds:0x804a008\r\n",
      " 80482bc:\t00 00                \tadd    BYTE PTR [eax],al\r\n",
      "\t...\r\n",
      "\r\n",
      "080482c0 <__libc_start_main@plt>:\r\n",
      " 80482c0:\tff 25 0c a0 04 08    \tjmp    DWORD PTR ds:0x804a00c\r\n",
      " 80482c6:\t68 00 00 00 00       \tpush   0x0\r\n",
      " 80482cb:\te9 e0 ff ff ff       \tjmp    80482b0 <_init+0x24>\r\n",
      "\r\n",
      "Disassembly of section .plt.got:\r\n",
      "\r\n",
      "080482d0 <.plt.got>:\r\n",
      " 80482d0:\tff 25 fc 9f 04 08    \tjmp    DWORD PTR ds:0x8049ffc\r\n",
      " 80482d6:\t66 90                \txchg   ax,ax\r\n",
      "\r\n",
      "Disassembly of section .text:\r\n",
      "\r\n",
      "080482e0 <main>:\r\n",
      " 80482e0:\t31 c0                \txor    eax,eax\r\n",
      " 80482e2:\tc3                   \tret    \r\n",
      "\r\n",
      "080482e3 <_start>:\r\n",
      " 80482e3:\t31 ed                \txor    ebp,ebp\r\n",
      " 80482e5:\t5e                   \tpop    esi\r\n",
      " 80482e6:\t89 e1                \tmov    ecx,esp\r\n",
      " 80482e8:\t83 e4 f0             \tand    esp,0xfffffff0\r\n",
      " 80482eb:\t50                   \tpush   eax\r\n",
      " 80482ec:\t54                   \tpush   esp\r\n",
      " 80482ed:\t52                   \tpush   edx\r\n",
      " 80482ee:\t68 40 84 04 08       \tpush   0x8048440\r\n",
      " 80482f3:\t68 e0 83 04 08       \tpush   0x80483e0\r\n",
      " 80482f8:\t51                   \tpush   ecx\r\n",
      " 80482f9:\t56                   \tpush   esi\r\n",
      " 80482fa:\t68 e0 82 04 08       \tpush   0x80482e0\r\n",
      " 80482ff:\te8 bc ff ff ff       \tcall   80482c0 <__libc_start_main@plt>\r\n",
      " 8048304:\tf4                   \thlt    \r\n",
      " 8048305:\t66 90                \txchg   ax,ax\r\n",
      " 8048307:\t66 90                \txchg   ax,ax\r\n",
      " 8048309:\t66 90                \txchg   ax,ax\r\n",
      " 804830b:\t66 90                \txchg   ax,ax\r\n",
      " 804830d:\t66 90                \txchg   ax,ax\r\n",
      " 804830f:\t90                   \tnop\r\n",
      "\r\n",
      "08048310 <__x86.get_pc_thunk.bx>:\r\n",
      " 8048310:\t8b 1c 24             \tmov    ebx,DWORD PTR [esp]\r\n",
      " 8048313:\tc3                   \tret    \r\n",
      " 8048314:\t66 90                \txchg   ax,ax\r\n",
      " 8048316:\t66 90                \txchg   ax,ax\r\n",
      " 8048318:\t66 90                \txchg   ax,ax\r\n",
      " 804831a:\t66 90                \txchg   ax,ax\r\n",
      " 804831c:\t66 90                \txchg   ax,ax\r\n",
      " 804831e:\t66 90                \txchg   ax,ax\r\n",
      "\r\n",
      "08048320 <deregister_tm_clones>:\r\n",
      " 8048320:\tb8 1b a0 04 08       \tmov    eax,0x804a01b\r\n",
      " 8048325:\t2d 18 a0 04 08       \tsub    eax,0x804a018\r\n",
      " 804832a:\t83 f8 06             \tcmp    eax,0x6\r\n",
      " 804832d:\t76 1a                \tjbe    8048349 <deregister_tm_clones+0x29>\r\n",
      " 804832f:\tb8 00 00 00 00       \tmov    eax,0x0\r\n",
      " 8048334:\t85 c0                \ttest   eax,eax\r\n",
      " 8048336:\t74 11                \tje     8048349 <deregister_tm_clones+0x29>\r\n",
      " 8048338:\t55                   \tpush   ebp\r\n",
      " 8048339:\t89 e5                \tmov    ebp,esp\r\n",
      " 804833b:\t83 ec 14             \tsub    esp,0x14\r\n",
      " 804833e:\t68 18 a0 04 08       \tpush   0x804a018\r\n",
      " 8048343:\tff d0                \tcall   eax\r\n",
      " 8048345:\t83 c4 10             \tadd    esp,0x10\r\n",
      " 8048348:\tc9                   \tleave  \r\n",
      " 8048349:\tf3 c3                \trepz ret \r\n",
      " 804834b:\t90                   \tnop\r\n",
      " 804834c:\t8d 74 26 00          \tlea    esi,[esi+eiz*1+0x0]\r\n",
      "\r\n",
      "08048350 <register_tm_clones>:\r\n",
      " 8048350:\tb8 18 a0 04 08       \tmov    eax,0x804a018\r\n",
      " 8048355:\t2d 18 a0 04 08       \tsub    eax,0x804a018\r\n",
      " 804835a:\tc1 f8 02             \tsar    eax,0x2\r\n",
      " 804835d:\t89 c2                \tmov    edx,eax\r\n",
      " 804835f:\tc1 ea 1f             \tshr    edx,0x1f\r\n",
      " 8048362:\t01 d0                \tadd    eax,edx\r\n",
      " 8048364:\td1 f8                \tsar    eax,1\r\n",
      " 8048366:\t74 1b                \tje     8048383 <register_tm_clones+0x33>\r\n",
      " 8048368:\tba 00 00 00 00       \tmov    edx,0x0\r\n",
      " 804836d:\t85 d2                \ttest   edx,edx\r\n",
      " 804836f:\t74 12                \tje     8048383 <register_tm_clones+0x33>\r\n",
      " 8048371:\t55                   \tpush   ebp\r\n",
      " 8048372:\t89 e5                \tmov    ebp,esp\r\n",
      " 8048374:\t83 ec 10             \tsub    esp,0x10\r\n",
      " 8048377:\t50                   \tpush   eax\r\n",
      " 8048378:\t68 18 a0 04 08       \tpush   0x804a018\r\n",
      " 804837d:\tff d2                \tcall   edx\r\n",
      " 804837f:\t83 c4 10             \tadd    esp,0x10\r\n",
      " 8048382:\tc9                   \tleave  \r\n",
      " 8048383:\tf3 c3                \trepz ret \r\n",
      " 8048385:\t8d 74 26 00          \tlea    esi,[esi+eiz*1+0x0]\r\n",
      " 8048389:\t8d bc 27 00 00 00 00 \tlea    edi,[edi+eiz*1+0x0]\r\n",
      "\r\n",
      "08048390 <__do_global_dtors_aux>:\r\n",
      " 8048390:\t80 3d 18 a0 04 08 00 \tcmp    BYTE PTR ds:0x804a018,0x0\r\n",
      " 8048397:\t75 13                \tjne    80483ac <__do_global_dtors_aux+0x1c>\r\n",
      " 8048399:\t55                   \tpush   ebp\r\n",
      " 804839a:\t89 e5                \tmov    ebp,esp\r\n",
      " 804839c:\t83 ec 08             \tsub    esp,0x8\r\n",
      " 804839f:\te8 7c ff ff ff       \tcall   8048320 <deregister_tm_clones>\r\n",
      " 80483a4:\tc6 05 18 a0 04 08 01 \tmov    BYTE PTR ds:0x804a018,0x1\r\n",
      " 80483ab:\tc9                   \tleave  \r\n",
      " 80483ac:\tf3 c3                \trepz ret \r\n",
      " 80483ae:\t66 90                \txchg   ax,ax\r\n",
      "\r\n",
      "080483b0 <frame_dummy>:\r\n",
      " 80483b0:\tb8 10 9f 04 08       \tmov    eax,0x8049f10\r\n",
      " 80483b5:\t8b 10                \tmov    edx,DWORD PTR [eax]\r\n",
      " 80483b7:\t85 d2                \ttest   edx,edx\r\n",
      " 80483b9:\t75 05                \tjne    80483c0 <frame_dummy+0x10>\r\n",
      " 80483bb:\teb 93                \tjmp    8048350 <register_tm_clones>\r\n",
      " 80483bd:\t8d 76 00             \tlea    esi,[esi+0x0]\r\n",
      " 80483c0:\tba 00 00 00 00       \tmov    edx,0x0\r\n",
      " 80483c5:\t85 d2                \ttest   edx,edx\r\n",
      " 80483c7:\t74 f2                \tje     80483bb <frame_dummy+0xb>\r\n",
      " 80483c9:\t55                   \tpush   ebp\r\n",
      " 80483ca:\t89 e5                \tmov    ebp,esp\r\n",
      " 80483cc:\t83 ec 14             \tsub    esp,0x14\r\n",
      " 80483cf:\t50                   \tpush   eax\r\n",
      " 80483d0:\tff d2                \tcall   edx\r\n",
      " 80483d2:\t83 c4 10             \tadd    esp,0x10\r\n",
      " 80483d5:\tc9                   \tleave  \r\n",
      " 80483d6:\te9 75 ff ff ff       \tjmp    8048350 <register_tm_clones>\r\n",
      " 80483db:\t66 90                \txchg   ax,ax\r\n",
      " 80483dd:\t66 90                \txchg   ax,ax\r\n",
      " 80483df:\t90                   \tnop\r\n",
      "\r\n",
      "080483e0 <__libc_csu_init>:\r\n",
      " 80483e0:\t55                   \tpush   ebp\r\n",
      " 80483e1:\t57                   \tpush   edi\r\n",
      " 80483e2:\t56                   \tpush   esi\r\n",
      " 80483e3:\t53                   \tpush   ebx\r\n",
      " 80483e4:\te8 27 ff ff ff       \tcall   8048310 <__x86.get_pc_thunk.bx>\r\n",
      " 80483e9:\t81 c3 17 1c 00 00    \tadd    ebx,0x1c17\r\n",
      " 80483ef:\t83 ec 0c             \tsub    esp,0xc\r\n",
      " 80483f2:\t8b 6c 24 20          \tmov    ebp,DWORD PTR [esp+0x20]\r\n",
      " 80483f6:\t8d b3 0c ff ff ff    \tlea    esi,[ebx-0xf4]\r\n",
      " 80483fc:\te8 8b fe ff ff       \tcall   804828c <_init>\r\n",
      " 8048401:\t8d 83 08 ff ff ff    \tlea    eax,[ebx-0xf8]\r\n",
      " 8048407:\t29 c6                \tsub    esi,eax\r\n",
      " 8048409:\tc1 fe 02             \tsar    esi,0x2\r\n",
      " 804840c:\t85 f6                \ttest   esi,esi\r\n",
      " 804840e:\t74 25                \tje     8048435 <__libc_csu_init+0x55>\r\n",
      " 8048410:\t31 ff                \txor    edi,edi\r\n",
      " 8048412:\t8d b6 00 00 00 00    \tlea    esi,[esi+0x0]\r\n",
      " 8048418:\t83 ec 04             \tsub    esp,0x4\r\n",
      " 804841b:\tff 74 24 2c          \tpush   DWORD PTR [esp+0x2c]\r\n",
      " 804841f:\tff 74 24 2c          \tpush   DWORD PTR [esp+0x2c]\r\n",
      " 8048423:\t55                   \tpush   ebp\r\n",
      " 8048424:\tff 94 bb 08 ff ff ff \tcall   DWORD PTR [ebx+edi*4-0xf8]\r\n",
      " 804842b:\t83 c7 01             \tadd    edi,0x1\r\n",
      " 804842e:\t83 c4 10             \tadd    esp,0x10\r\n",
      " 8048431:\t39 f7                \tcmp    edi,esi\r\n",
      " 8048433:\t75 e3                \tjne    8048418 <__libc_csu_init+0x38>\r\n",
      " 8048435:\t83 c4 0c             \tadd    esp,0xc\r\n",
      " 8048438:\t5b                   \tpop    ebx\r\n",
      " 8048439:\t5e                   \tpop    esi\r\n",
      " 804843a:\t5f                   \tpop    edi\r\n",
      " 804843b:\t5d                   \tpop    ebp\r\n",
      " 804843c:\tc3                   \tret    \r\n",
      " 804843d:\t8d 76 00             \tlea    esi,[esi+0x0]\r\n",
      "\r\n",
      "08048440 <__libc_csu_fini>:\r\n",
      " 8048440:\tf3 c3                \trepz ret \r\n",
      "\r\n",
      "Disassembly of section .fini:\r\n",
      "\r\n",
      "08048444 <_fini>:\r\n",
      " 8048444:\t53                   \tpush   ebx\r\n",
      " 8048445:\t83 ec 08             \tsub    esp,0x8\r\n",
      " 8048448:\te8 c3 fe ff ff       \tcall   8048310 <__x86.get_pc_thunk.bx>\r\n",
      " 804844d:\t81 c3 b3 1b 00 00    \tadd    ebx,0x1bb3\r\n",
      " 8048453:\t83 c4 08             \tadd    esp,0x8\r\n",
      " 8048456:\t5b                   \tpop    ebx\r\n",
      " 8048457:\tc3                   \tret    \r\n"
     ]
    }
   ],
   "source": [
    "%%cpp main.c\n",
    "%run gcc -m32 -masm=intel -fno-asynchronous-unwind-tables -O3 main.c -S -o main.S\n",
    "%run gcc -m32 -masm=intel -O3 main.c -o main.exe\n",
    "%run ls -la main.exe\n",
    "%run ldd main.exe  # Выводим зависимости по динамическим библиотекам\n",
    "%run cat main.S\n",
    "%run objdump -M intel -d main.exe\n",
    "\n",
    "int main() {\n",
    "    return 0;\n",
    "}"
   ]
  },
  {
   "cell_type": "markdown",
   "metadata": {},
   "source": [
    "## Компилим, статически линкуя libc"
   ]
  },
  {
   "cell_type": "code",
   "execution_count": 205,
   "metadata": {
    "scrolled": true
   },
   "outputs": [
    {
     "data": {
      "text/markdown": [
       "Run: `gcc -m32 -masm=intel -fno-asynchronous-unwind-tables -static -flto -O3  main2.c -S -o main2.S`"
      ],
      "text/plain": [
       "<IPython.core.display.Markdown object>"
      ]
     },
     "metadata": {},
     "output_type": "display_data"
    },
    {
     "data": {
      "text/markdown": [
       "Run: `gcc -m32 -masm=intel -static -flto -O3 main2.c -o main2.exe`"
      ],
      "text/plain": [
       "<IPython.core.display.Markdown object>"
      ]
     },
     "metadata": {},
     "output_type": "display_data"
    },
    {
     "data": {
      "text/markdown": [
       "Run: `ls -la main2.exe  # Заметьте, что размер стал сильно больше`"
      ],
      "text/plain": [
       "<IPython.core.display.Markdown object>"
      ]
     },
     "metadata": {},
     "output_type": "display_data"
    },
    {
     "name": "stdout",
     "output_type": "stream",
     "text": [
      "-rwxrwxr-x 1 pechatnov pechatnov 725164 Oct 23 09:24 main2.exe\r\n"
     ]
    },
    {
     "data": {
      "text/markdown": [
       "Run: `ldd main2.exe`"
      ],
      "text/plain": [
       "<IPython.core.display.Markdown object>"
      ]
     },
     "metadata": {},
     "output_type": "display_data"
    },
    {
     "name": "stdout",
     "output_type": "stream",
     "text": [
      "\tnot a dynamic executable\r\n"
     ]
    },
    {
     "data": {
      "text/markdown": [
       "Run: `./main2.exe`"
      ],
      "text/plain": [
       "<IPython.core.display.Markdown object>"
      ]
     },
     "metadata": {},
     "output_type": "display_data"
    }
   ],
   "source": [
    "%%cpp main2.c\n",
    "%run gcc -m32 -masm=intel -fno-asynchronous-unwind-tables -static -flto -O3  main2.c -S -o main2.S\n",
    "%run gcc -m32 -masm=intel -static -flto -O3 main2.c -o main2.exe\n",
    "%run ls -la main2.exe  # Заметьте, что размер стал сильно больше\n",
    "%run ldd main2.exe\n",
    "//%run objdump -M intel -d main2.exe\n",
    "%run ./main2.exe\n",
    "\n",
    "int main() {\n",
    "    return 0;\n",
    "}"
   ]
  },
  {
   "cell_type": "code",
   "execution_count": 209,
   "metadata": {},
   "outputs": [
    {
     "name": "stdout",
     "output_type": "stream",
     "text": [
      "08048890 <generic_start_main>:\r\n",
      " 8048890:\t56                   \tpush   esi\r\n",
      " 8048891:\t53                   \tpush   ebx\r\n",
      " 8048892:\t83 ec 44             \tsub    esp,0x44\r\n",
      " 8048895:\t89 44 24 0c          \tmov    DWORD PTR [esp+0xc],eax\r\n",
      " 8048899:\tb8 00 00 00 00       \tmov    eax,0x0\r\n",
      " 804889e:\t89 54 24 04          \tmov    DWORD PTR [esp+0x4],edx\r\n",
      " 80488a2:\t85 c0                \ttest   eax,eax\r\n",
      " 80488a4:\t89 4c 24 08          \tmov    DWORD PTR [esp+0x8],ecx\r\n",
      " 80488a8:\t0f 84 1a 01 00 00    \tje     80489c8 <generic_start_main+0x138>\r\n",
      " 80488ae:\t8b 0d 00 00 00 00    \tmov    ecx,DWORD PTR ds:0x0\r\n",
      " 80488b4:\t31 c0                \txor    eax,eax\r\n",
      " 80488b6:\t85 c9                \ttest   ecx,ecx\r\n",
      " 80488b8:\t0f 94 c0             \tsete   al\r\n",
      " 80488bb:\ta3 10 ad 0e 08       \tmov    ds:0x80ead10,eax\r\n",
      " 80488c0:\t8b 4c 24 04          \tmov    ecx,DWORD PTR [esp+0x4]\r\n",
      " 80488c4:\t8b 44 24 08          \tmov    eax,DWORD PTR [esp+0x8]\r\n",
      " 80488c8:\t8b 54 24 5c          \tmov    edx,DWORD PTR [esp+0x5c]\r\n",
      " 80488cc:\t8d 44 88 04          \tlea    eax,[eax+ecx*4+0x4]\r\n",
      " 80488d0:\t89 15 c8 9f 0e 08    \tmov    DWORD PTR ds:0x80e9fc8,edx\r\n",
      " 80488d6:\ta3 24 b5 0e 08       \tmov    ds:0x80eb524,eax\r\n",
      " 80488db:\t90                   \tnop\r\n",
      " 80488dc:\t8d 74 26 00          \tlea    esi,[esi+eiz*1+0x0]\r\n",
      " 80488e0:\t83 c0 04             \tadd    eax,0x4\r\n",
      " 80488e3:\t8b 50 fc             \tmov    edx,DWORD PTR [eax-0x4]\r\n",
      " 80488e6:\t85 d2                \ttest   edx,edx\r\n",
      " 80488e8:\t75 f6                \tjne    80488e0 <generic_start_main+0x50>\r\n",
      " 80488ea:\te8 c1 67 02 00       \tcall   806f0b0 <_dl_aux_init>\r\n",
      " 80488ef:\ta1 90 bc 0e 08       \tmov    eax,ds:0x80ebc90\r\n",
      " 80488f4:\t85 c0                \ttest   eax,eax\r\n",
      " 80488f6:\t75 47                \tjne    804893f <generic_start_main+0xaf>\r\n",
      "--\r\n",
      "08048b90 <__libc_start_main>:\r\n",
      " 8048b90:\t55                   \tpush   ebp\r\n",
      " 8048b91:\t57                   \tpush   edi\r\n",
      " 8048b92:\t31 c0                \txor    eax,eax\r\n",
      " 8048b94:\t56                   \tpush   esi\r\n",
      " 8048b95:\t53                   \tpush   ebx\r\n",
      " 8048b96:\t0f a2                \tcpuid  \r\n",
      " 8048b98:\t83 ec 1c             \tsub    esp,0x1c\r\n",
      " 8048b9b:\t81 fb 47 65 6e 75    \tcmp    ebx,0x756e6547\r\n",
      " 8048ba1:\ta3 64 b5 0e 08       \tmov    ds:0x80eb564,eax\r\n",
      " 8048ba6:\t0f 94 c0             \tsete   al\r\n",
      " 8048ba9:\t81 f9 6e 74 65 6c    \tcmp    ecx,0x6c65746e\r\n",
      " 8048baf:\t89 d7                \tmov    edi,edx\r\n",
      " 8048bb1:\t89 c6                \tmov    esi,eax\r\n",
      " 8048bb3:\t0f 94 c0             \tsete   al\r\n",
      " 8048bb6:\tc7 04 24 00 00 00 00 \tmov    DWORD PTR [esp],0x0\r\n",
      " 8048bbd:\t89 f2                \tmov    edx,esi\r\n",
      " 8048bbf:\tc7 44 24 04 00 00 00 \tmov    DWORD PTR [esp+0x4],0x0\r\n",
      " 8048bc6:\t00 \r\n",
      " 8048bc7:\tc7 44 24 08 00 00 00 \tmov    DWORD PTR [esp+0x8],0x0\r\n",
      " 8048bce:\t00 \r\n",
      " 8048bcf:\t84 c2                \ttest   dl,al\r\n",
      " 8048bd1:\t74 0c                \tje     8048bdf <__libc_start_main+0x4f>\r\n",
      " 8048bd3:\t81 ff 69 6e 65 49    \tcmp    edi,0x49656e69\r\n",
      " 8048bd9:\t0f 84 6a 01 00 00    \tje     8048d49 <__libc_start_main+0x1b9>\r\n",
      " 8048bdf:\t81 fb 41 75 74 68    \tcmp    ebx,0x68747541\r\n",
      " 8048be5:\t0f 94 c3             \tsete   bl\r\n",
      " 8048be8:\t81 f9 63 41 4d 44    \tcmp    ecx,0x444d4163\r\n",
      " 8048bee:\t0f 94 c0             \tsete   al\r\n",
      " 8048bf1:\t84 c3                \ttest   bl,al\r\n",
      " 8048bf3:\t74 0c                \tje     8048c01 <__libc_start_main+0x71>\r\n"
     ]
    }
   ],
   "source": [
    "!objdump -M intel -d main2.exe | grep -A 30 \"_main>:\"\n",
    "#!objdump -M intel -d main2.exe | grep -A 30 \"s80ea9f0\""
   ]
  },
  {
   "cell_type": "markdown",
   "metadata": {},
   "source": [
    "# Пишем сами без libc"
   ]
  },
  {
   "cell_type": "code",
   "execution_count": 216,
   "metadata": {},
   "outputs": [
    {
     "data": {
      "text/markdown": [
       "Run: `gcc -m32 -masm=intel -nostdlib -O3 minimal.c -o minimal.exe`"
      ],
      "text/plain": [
       "<IPython.core.display.Markdown object>"
      ]
     },
     "metadata": {},
     "output_type": "display_data"
    },
    {
     "data": {
      "text/markdown": [
       "Run: `gcc -m32 -masm=intel -nostdlib -fno-asynchronous-unwind-tables -O3 minimal.c -S -o minimal.S`"
      ],
      "text/plain": [
       "<IPython.core.display.Markdown object>"
      ]
     },
     "metadata": {},
     "output_type": "display_data"
    },
    {
     "data": {
      "text/markdown": [
       "Run: `ls -la minimal.exe  # Заметьте, что размер стал очень маленьким :)`"
      ],
      "text/plain": [
       "<IPython.core.display.Markdown object>"
      ]
     },
     "metadata": {},
     "output_type": "display_data"
    },
    {
     "name": "stdout",
     "output_type": "stream",
     "text": [
      "-rwxrwxr-x 1 pechatnov pechatnov 2440 Oct 23 09:37 minimal.exe\r\n"
     ]
    },
    {
     "data": {
      "text/markdown": [
       "Run: `cat minimal.S`"
      ],
      "text/plain": [
       "<IPython.core.display.Markdown object>"
      ]
     },
     "metadata": {},
     "output_type": "display_data"
    },
    {
     "name": "stdout",
     "output_type": "stream",
     "text": [
      "\t.file\t\"minimal.c\"\r\n",
      "\t.intel_syntax noprefix\r\n",
      "#APP\r\n",
      "\t\r\n",
      "syscall:\r\n",
      "    push ebx\r\n",
      "    push ebp\r\n",
      "    push esi\r\n",
      "    push edi\r\n",
      "    mov eax, DWORD PTR [esp + 20] \r\n",
      "    mov ebx, DWORD PTR [esp + 24] \r\n",
      "    mov ecx, DWORD PTR [esp + 28] \r\n",
      "    mov edx, DWORD PTR [esp + 32]\r\n",
      "    mov esi, DWORD PTR [esp + 36]\r\n",
      "    mov edi, DWORD PTR [esp + 40]\r\n",
      "    int 0x80\r\n",
      "    pop edi\r\n",
      "    pop esi\r\n",
      "    pop ebp\r\n",
      "    pop ebx\r\n",
      "    ret\r\n",
      "\r\n",
      "\t\r\n",
      "_exit:\r\n",
      "    mov   eax, 1\r\n",
      "    mov   ebx, [esp + 4]\r\n",
      "    int   0x80\r\n",
      "\r\n",
      "\t\r\n",
      "write:\r\n",
      "    push ebx\r\n",
      "    mov eax, 4 \r\n",
      "    mov ebx, 1\r\n",
      "    lea ecx, [hello_s]\r\n",
      "    mov edx, hello_s_size\r\n",
      "    int 0x80\r\n",
      "    pop ebx\r\n",
      "    ret\r\n",
      "\r\n",
      "#NO_APP\r\n",
      "\t.section\t.text.unlikely,\"ax\",@progbits\r\n",
      ".LCOLDB0:\r\n",
      "\t.text\r\n",
      ".LHOTB0:\r\n",
      "\t.p2align 4,,15\r\n",
      "\t.globl\tint_to_s\r\n",
      "\t.type\tint_to_s, @function\r\n",
      "int_to_s:\r\n",
      "\tpush\tebp\r\n",
      "\tpush\tedi\r\n",
      "\tpush\tesi\r\n",
      "\tpush\tebx\r\n",
      "\tmov\tecx, DWORD PTR [esp+20]\r\n",
      "\tmov\tedi, DWORD PTR [esp+24]\r\n",
      "\ttest\tecx, ecx\r\n",
      "\tje\t.L5\r\n",
      "\tmov\tebx, ecx\r\n",
      "\txor\tesi, esi\r\n",
      "\tmov\tebp, 1717986919\r\n",
      "\t.p2align 4,,10\r\n",
      "\t.p2align 3\r\n",
      ".L3:\r\n",
      "\tmov\teax, ebx\r\n",
      "\tsar\tebx, 31\r\n",
      "\tadd\tesi, 1\r\n",
      "\timul\tebp\r\n",
      "\tsar\tedx, 2\r\n",
      "\tsub\tedx, ebx\r\n",
      "\tmov\tebx, edx\r\n",
      "\tjne\t.L3\r\n",
      "\tmov\teax, esi\r\n",
      ".L2:\r\n",
      "\tlea\tebx, [edi+esi]\r\n",
      "\tmov\tBYTE PTR [edi+eax], 0\r\n",
      "\tmov\tebp, -858993459\r\n",
      "\t.p2align 4,,10\r\n",
      "\t.p2align 3\r\n",
      ".L4:\r\n",
      "\tmov\teax, ecx\r\n",
      "\tsub\tebx, 1\r\n",
      "\tmul\tebp\r\n",
      "\tshr\tedx, 3\r\n",
      "\tlea\teax, [edx+edx*4]\r\n",
      "\tadd\teax, eax\r\n",
      "\tsub\tecx, eax\r\n",
      "\tadd\tecx, 48\r\n",
      "\tmov\tBYTE PTR [ebx], cl\r\n",
      "\tcmp\tebx, edi\r\n",
      "\tmov\tecx, edx\r\n",
      "\tjne\t.L4\r\n",
      "\tmov\teax, DWORD PTR [esp+28]\r\n",
      "\tmov\tDWORD PTR [eax], esi\r\n",
      "\tpop\tebx\r\n",
      "\tpop\tesi\r\n",
      "\tpop\tedi\r\n",
      "\tpop\tebp\r\n",
      "\tret\r\n",
      ".L5:\r\n",
      "\tmov\teax, 1\r\n",
      "\tmov\tesi, 1\r\n",
      "\tjmp\t.L2\r\n",
      "\t.size\tint_to_s, .-int_to_s\r\n",
      "\t.section\t.text.unlikely\r\n",
      ".LCOLDE0:\r\n",
      "\t.text\r\n",
      ".LHOTE0:\r\n",
      "\t.section\t.text.unlikely\r\n",
      ".LCOLDB1:\r\n",
      "\t.text\r\n",
      ".LHOTB1:\r\n",
      "\t.p2align 4,,15\r\n",
      "\t.globl\ts_to_int\r\n",
      "\t.type\ts_to_int, @function\r\n",
      "s_to_int:\r\n",
      "\tpush\tebx\r\n",
      "\tmov\tecx, DWORD PTR [esp+8]\r\n",
      "\tmovsx\tedx, BYTE PTR [ecx]\r\n",
      "\tlea\teax, [edx-48]\r\n",
      "\tcmp\tal, 9\r\n",
      "\tmov\teax, 0\r\n",
      "\tja\t.L11\r\n",
      "\t.p2align 4,,10\r\n",
      "\t.p2align 3\r\n",
      ".L12:\r\n",
      "\tlea\teax, [eax+eax*4]\r\n",
      "\tadd\tecx, 1\r\n",
      "\tlea\teax, [edx-48+eax*2]\r\n",
      "\tmovsx\tedx, BYTE PTR [ecx]\r\n",
      "\tlea\tebx, [edx-48]\r\n",
      "\tcmp\tbl, 9\r\n",
      "\tjbe\t.L12\r\n",
      ".L11:\r\n",
      "\tpop\tebx\r\n",
      "\tret\r\n",
      "\t.size\ts_to_int, .-s_to_int\r\n",
      "\t.section\t.text.unlikely\r\n",
      ".LCOLDE1:\r\n",
      "\t.text\r\n",
      ".LHOTE1:\r\n",
      "\t.section\t.text.unlikely\r\n",
      ".LCOLDB2:\r\n",
      "\t.text\r\n",
      ".LHOTB2:\r\n",
      "\t.p2align 4,,15\r\n",
      "\t.globl\tprint_int\r\n",
      "\t.type\tprint_int, @function\r\n",
      "print_int:\r\n",
      "\tpush\tebp\r\n",
      "\tpush\tedi\r\n",
      "\tpush\tesi\r\n",
      "\tpush\tebx\r\n",
      "\tsub\tesp, 44\r\n",
      "\tmov\tecx, DWORD PTR [esp+68]\r\n",
      "\ttest\tecx, ecx\r\n",
      "\tje\t.L20\r\n",
      "\tmov\tebx, ecx\r\n",
      "\txor\tesi, esi\r\n",
      "\tmov\tedi, 1717986919\r\n",
      "\t.p2align 4,,10\r\n",
      "\t.p2align 3\r\n",
      ".L18:\r\n",
      "\tmov\teax, ebx\r\n",
      "\tsar\tebx, 31\r\n",
      "\tadd\tesi, 1\r\n",
      "\timul\tedi\r\n",
      "\tsar\tedx, 2\r\n",
      "\tsub\tedx, ebx\r\n",
      "\tmov\tebx, edx\r\n",
      "\tjne\t.L18\r\n",
      "\tmov\teax, esi\r\n",
      ".L17:\r\n",
      "\tlea\tedi, [esp+12]\r\n",
      "\tmov\tBYTE PTR [esp+12+eax], 0\r\n",
      "\tmov\tebp, -858993459\r\n",
      "\tlea\tebx, [edi+esi]\r\n",
      "\t.p2align 4,,10\r\n",
      "\t.p2align 3\r\n",
      ".L19:\r\n",
      "\tmov\teax, ecx\r\n",
      "\tsub\tebx, 1\r\n",
      "\tmul\tebp\r\n",
      "\tshr\tedx, 3\r\n",
      "\tlea\teax, [edx+edx*4]\r\n",
      "\tadd\teax, eax\r\n",
      "\tsub\tecx, eax\r\n",
      "\tadd\tecx, 48\r\n",
      "\tmov\tBYTE PTR [ebx], cl\r\n",
      "\tcmp\tebx, edi\r\n",
      "\tmov\tecx, edx\r\n",
      "\tjne\t.L19\r\n",
      "\tpush\tesi\r\n",
      "\tpush\tebx\r\n",
      "\tpush\tDWORD PTR [esp+72]\r\n",
      "\tpush\t4\r\n",
      "\tcall\tsyscall\r\n",
      "\tadd\tesp, 60\r\n",
      "\tpop\tebx\r\n",
      "\tpop\tesi\r\n",
      "\tpop\tedi\r\n",
      "\tpop\tebp\r\n",
      "\tret\r\n",
      ".L20:\r\n",
      "\tmov\teax, 1\r\n",
      "\tmov\tesi, 1\r\n",
      "\tjmp\t.L17\r\n",
      "\t.size\tprint_int, .-print_int\r\n",
      "\t.section\t.text.unlikely\r\n",
      ".LCOLDE2:\r\n",
      "\t.text\r\n",
      ".LHOTE2:\r\n",
      "\t.section\t.text.unlikely\r\n",
      ".LCOLDB3:\r\n",
      "\t.text\r\n",
      ".LHOTB3:\r\n",
      "\t.p2align 4,,15\r\n",
      "\t.globl\tprint_s\r\n",
      "\t.type\tprint_s, @function\r\n",
      "print_s:\r\n",
      "\tsub\tesp, 12\r\n",
      "\txor\teax, eax\r\n",
      "\tmov\tedx, DWORD PTR [esp+20]\r\n",
      "\tcmp\tBYTE PTR [edx], 0\r\n",
      "\tje\t.L25\r\n",
      "\t.p2align 4,,10\r\n",
      "\t.p2align 3\r\n",
      ".L26:\r\n",
      "\tadd\teax, 1\r\n",
      "\tcmp\tBYTE PTR [edx+eax], 0\r\n",
      "\tjne\t.L26\r\n",
      ".L25:\r\n",
      "\tpush\teax\r\n",
      "\tpush\tedx\r\n",
      "\tpush\tDWORD PTR [esp+24]\r\n",
      "\tpush\t4\r\n",
      "\tcall\tsyscall\r\n",
      "\tadd\tesp, 28\r\n",
      "\tret\r\n",
      "\t.size\tprint_s, .-print_s\r\n",
      "\t.section\t.text.unlikely\r\n",
      ".LCOLDE3:\r\n",
      "\t.text\r\n",
      ".LHOTE3:\r\n",
      "\t.section\t.rodata.str1.1,\"aMS\",@progbits,1\r\n",
      ".LC4:\r\n",
      "\t.string\t\"123456\"\r\n",
      ".LC5:\r\n",
      "\t.string\t\"Look at this value: \"\r\n",
      ".LC6:\r\n",
      "\t.string\t\"\\n\"\r\n",
      "\t.section\t.text.unlikely\r\n",
      ".LCOLDB7:\r\n",
      "\t.text\r\n",
      ".LHOTB7:\r\n",
      "\t.p2align 4,,15\r\n",
      "\t.globl\t_start\r\n",
      "\t.type\t_start, @function\r\n",
      "_start:\r\n",
      "\tpush\tebx\r\n",
      "\tsub\tesp, 40\r\n",
      "\tmov\tDWORD PTR [esp+3], 1819043144\r\n",
      "\tmov\tDWORD PTR [esp+7], 1870078063\r\n",
      "\tmov\tDWORD PTR [esp+11], 543452274\r\n",
      "\tmov\tDWORD PTR [esp+15], 1836020326\r\n",
      "\tmov\tDWORD PTR [esp+19], 2037589792\r\n",
      "\tmov\tDWORD PTR [esp+23], 1818321779\r\n",
      "\tmov\tDWORD PTR [esp+27], 169944940\r\n",
      "\tmov\tBYTE PTR [esp+31], 0\r\n",
      "\tcall\twrite\r\n",
      "\tpush\t29\r\n",
      "\tlea\teax, [esp+7]\r\n",
      "\tpush\teax\r\n",
      "\tpush\t1\r\n",
      "\tpush\t4\r\n",
      "\tcall\tsyscall\r\n",
      "\tpop\tecx\r\n",
      "\tpop\tebx\r\n",
      "\tpush\tOFFSET FLAT:.LC5\r\n",
      "\tpush\t1\r\n",
      "\tcall\tprint_s\r\n",
      "\tpop\teax\r\n",
      "\tpop\tedx\r\n",
      "\tpush\t10050042\r\n",
      "\tpush\t1\r\n",
      "\tcall\tprint_int\r\n",
      "\tpop\tecx\r\n",
      "\tpop\tebx\r\n",
      "\tpush\tOFFSET FLAT:.LC6\r\n",
      "\tpush\t1\r\n",
      "\tcall\tprint_s\r\n",
      "\tpop\teax\r\n",
      "\tpop\tedx\r\n",
      "\tpush\tOFFSET FLAT:.LC5\r\n",
      "\tpush\t1\r\n",
      "\tcall\tprint_s\r\n",
      "\tadd\tesp, 16\r\n",
      "\tmov\tecx, OFFSET FLAT:.LC4\r\n",
      "\tmov\teax, 49\r\n",
      "\txor\tedx, edx\r\n",
      "\t.p2align 4,,10\r\n",
      "\t.p2align 3\r\n",
      ".L31:\r\n",
      "\tlea\tedx, [edx+edx*4]\r\n",
      "\tadd\tecx, 1\r\n",
      "\tlea\tedx, [eax-48+edx*2]\r\n",
      "\tmovsx\teax, BYTE PTR [ecx]\r\n",
      "\tlea\tebx, [eax-48]\r\n",
      "\tcmp\tbl, 9\r\n",
      "\tjbe\t.L31\r\n",
      "\tsub\tesp, 8\r\n",
      "\tpush\tedx\r\n",
      "\tpush\t1\r\n",
      "\tcall\tprint_int\r\n",
      "\tpop\teax\r\n",
      "\tpop\tedx\r\n",
      "\tpush\tOFFSET FLAT:.LC6\r\n",
      "\tpush\t1\r\n",
      "\tcall\tprint_s\r\n",
      "\tmov\tDWORD PTR [esp], -1\r\n",
      "\tcall\t_exit\r\n",
      "\t.size\t_start, .-_start\r\n",
      "\t.section\t.text.unlikely\r\n",
      ".LCOLDE7:\r\n",
      "\t.text\r\n",
      ".LHOTE7:\r\n",
      "\t.globl\thello_s_size\r\n",
      "\t.section\t.rodata\r\n",
      "\t.align 4\r\n",
      "\t.type\thello_s_size, @object\r\n",
      "\t.size\thello_s_size, 4\r\n",
      "hello_s_size:\r\n",
      "\t.long\t36\r\n",
      "\t.globl\thello_s\r\n",
      "\t.align 32\r\n",
      "\t.type\thello_s, @object\r\n",
      "\t.size\thello_s, 36\r\n",
      "hello_s:\r\n",
      "\t.string\t\"Hello world from function 'write'!\\n\"\r\n",
      "\t.ident\t\"GCC: (Ubuntu 5.4.0-6ubuntu1~16.04.10) 5.4.0 20160609\"\r\n",
      "\t.section\t.note.GNU-stack,\"\",@progbits\r\n"
     ]
    },
    {
     "data": {
      "text/markdown": [
       "Run: `./minimal.exe ; echo $?`"
      ],
      "text/plain": [
       "<IPython.core.display.Markdown object>"
      ]
     },
     "metadata": {},
     "output_type": "display_data"
    },
    {
     "name": "stdout",
     "output_type": "stream",
     "text": [
      "Hello world from function 'write'!\r\n",
      "\u0000Hello world from 'syscall'!\r\n",
      "\u0000Look at this value: 10050042\r\n",
      "Look at this value: 123456\r\n",
      "255\r\n"
     ]
    }
   ],
   "source": [
    "%%cpp minimal.c\n",
    "%run gcc -m32 -masm=intel -nostdlib -O3 minimal.c -o minimal.exe\n",
    "%run gcc -m32 -masm=intel -nostdlib -fno-asynchronous-unwind-tables -O3 minimal.c -S -o minimal.S\n",
    "%run ls -la minimal.exe  # Заметьте, что размер стал очень маленьким :)\n",
    "//%run ldd minimal.exe\n",
    "\n",
    "%run cat minimal.S\n",
    "//%run objdump -d minimal.exe\n",
    "\n",
    "%run ./minimal.exe ; echo $? \n",
    "\n",
    "#include <sys/syscall.h>\n",
    "\n",
    "    \n",
    "// Универсальная функция для совершения системных вызовов\n",
    "int syscall(int code, ...);\n",
    "__asm__(R\"(\n",
    "syscall:\n",
    "    push ebx\n",
    "    push ebp\n",
    "    push esi\n",
    "    push edi\n",
    "    mov eax, DWORD PTR [esp + 20] \n",
    "    mov ebx, DWORD PTR [esp + 24] \n",
    "    mov ecx, DWORD PTR [esp + 28] \n",
    "    mov edx, DWORD PTR [esp + 32]\n",
    "    mov esi, DWORD PTR [esp + 36]\n",
    "    mov edi, DWORD PTR [esp + 40]\n",
    "    int 0x80\n",
    "    pop edi\n",
    "    pop esi\n",
    "    pop ebp\n",
    "    pop ebx\n",
    "    ret\n",
    ")\");\n",
    "\n",
    "\n",
    "void int_to_s(unsigned int i, char* s, int* len) {\n",
    "    int clen = 0;\n",
    "    for (int ic = i; ic; ic /= 10, ++clen);\n",
    "    clen = clen ?: 1;\n",
    "    s[clen] = '\\0';\n",
    "    for (int j = 0; j < clen; ++j, i /= 10) {\n",
    "        s[clen - j - 1] = '0' + i % 10;\n",
    "    }\n",
    "    *len = clen;\n",
    "}\n",
    "\n",
    "unsigned int s_to_int(char* s) {\n",
    "    unsigned int res = 0;\n",
    "    while ('0' <= *s && *s <= '9') {\n",
    "        res *= 10;\n",
    "        res += *s - '0';\n",
    "        ++s;\n",
    "    }\n",
    "    return res;\n",
    "}\n",
    "\n",
    "int print_int(int fd, unsigned int i) {\n",
    "    char s[20];\n",
    "    int len;\n",
    "    int_to_s(i, s, &len);\n",
    "    return syscall(SYS_write, fd, s, len);\n",
    "}\n",
    "\n",
    "int print_s(int fd, const char* s) {\n",
    "    int len = 0;\n",
    "    while (s[len]) ++len;\n",
    "    return syscall(SYS_write, fd, s, len);\n",
    "}\n",
    "\n",
    "\n",
    "// Пример использования системного вызова для завершения работы программы\n",
    "void _exit(int code);\n",
    "__asm__(R\"(\n",
    "_exit:\n",
    "    mov   eax, 1\n",
    "    mov   ebx, [esp + 4]\n",
    "    int   0x80\n",
    ")\");\n",
    "\n",
    "\n",
    "const char hello_s[] = \"Hello world from function 'write'!\\n\";\n",
    "const int hello_s_size = sizeof(hello_s);\n",
    "\n",
    "// Пример использования системного вызова для вывода в stdout\n",
    "int write();\n",
    "__asm__(R\"(\n",
    "write:\n",
    "    push ebx\n",
    "    mov eax, 4 \n",
    "    mov ebx, 1\n",
    "    lea ecx, [hello_s]\n",
    "    mov edx, hello_s_size\n",
    "    int 0x80\n",
    "    pop ebx\n",
    "    ret\n",
    ")\");\n",
    "\n",
    "\n",
    "// Именно с этой функции всегда начинается выполнение программы\n",
    "void _start() {\n",
    "     const char hello_s_2[] = \"Hello world from 'syscall'!\\n\";\n",
    "     write();\n",
    "     syscall(SYS_write, 1, hello_s_2, sizeof(hello_s_2));\n",
    "     print_s(1, \"Look at this value: \"); print_int(1, 10050042); print_s(1, \"\\n\");\n",
    "     print_s(1, \"Look at this value: \"); print_int(1, s_to_int(\"123456\")); print_s(1, \"\\n\");\n",
    "    \n",
    "//    syscall(SYS_exit, 0);\n",
    "    _exit(-1);\n",
    "}\n"
   ]
  },
  {
   "cell_type": "code",
   "execution_count": null,
   "metadata": {},
   "outputs": [],
   "source": []
  },
  {
   "cell_type": "markdown",
   "metadata": {},
   "source": [
    "# Смотрим на адреса различных переменных. Проверяем, что секции памяти расположены так, как мы ожидаем"
   ]
  },
  {
   "cell_type": "code",
   "execution_count": 221,
   "metadata": {
    "scrolled": false
   },
   "outputs": [
    {
     "data": {
      "text/markdown": [
       "Run: `gcc -m32 -masm=intel -O0 look_at_addresses.c -o look_at_addresses.exe`"
      ],
      "text/plain": [
       "<IPython.core.display.Markdown object>"
      ]
     },
     "metadata": {},
     "output_type": "display_data"
    },
    {
     "data": {
      "text/markdown": [
       "Run: `./look_at_addresses.exe`"
      ],
      "text/plain": [
       "<IPython.core.display.Markdown object>"
      ]
     },
     "metadata": {},
     "output_type": "display_data"
    },
    {
     "name": "stdout",
     "output_type": "stream",
     "text": [
      "Func func addr = 0x804849b\r\n",
      "Func func_s addr = 0x80484a3\r\n",
      "Global var addr = 0x804a040\r\n",
      "Static 'st' addr = 0x804a22c\r\n",
      "Static 'func_s.a' addr = 0x804a234\r\n",
      "Local 'local' addr = 0xfffddd44\r\n",
      "Local 'local2' addr = 0xfffddd28\r\n",
      "Heap 'all' addr = 0x9868008\r\n"
     ]
    }
   ],
   "source": [
    "%%cpp look_at_addresses.c\n",
    "%run gcc -m32 -masm=intel -O0 look_at_addresses.c -o look_at_addresses.exe\n",
    "%run ./look_at_addresses.exe\n",
    "\n",
    "#include <stdio.h>\n",
    "#include <stdlib.h>\n",
    "\n",
    "int func(int a) {\n",
    "    return a;\n",
    "}\n",
    "\n",
    "int* func_s() {\n",
    "    static int a;\n",
    "    return &a;\n",
    "}\n",
    "\n",
    "int data[123] = {1, 2, 3};\n",
    "\n",
    "\n",
    "int main2() {\n",
    "   int local2 = 5;\n",
    "   printf(\"Local 'local2' addr = %p\\n\", &local2); \n",
    "}\n",
    "\n",
    "\n",
    "int main() {\n",
    "    int local = 1;\n",
    "    static int st = 2;\n",
    "    int* all = malloc(12);\n",
    "    \n",
    "    printf(\"Func func addr = %p\\n\", (void*)func);\n",
    "    printf(\"Func func_s addr = %p\\n\", (void*)func_s);\n",
    "    printf(\"Global var addr = %p\\n\", data);\n",
    "    \n",
    "    printf(\"Static 'st' addr = %p\\n\", &st);\n",
    "    printf(\"Static 'func_s.a' addr = %p\\n\", func_s());\n",
    "    \n",
    "    printf(\"Local 'local' addr = %p\\n\", &local);\n",
    "    main2();\n",
    "    \n",
    "    printf(\"Heap 'all' addr = %p\\n\", all);\n",
    "    \n",
    "    return 0;\n",
    "}"
   ]
  },
  {
   "cell_type": "markdown",
   "metadata": {},
   "source": [
    "# Разбираемся в системным вызовом brk\n",
    "\n",
    "`void *sbrk(intptr_t increment);`"
   ]
  },
  {
   "cell_type": "code",
   "execution_count": 241,
   "metadata": {},
   "outputs": [
    {
     "data": {
      "text/markdown": [
       "Run: `gcc -m32 -masm=intel -nostdlib -O3 minimal.c -o minimal.exe`"
      ],
      "text/plain": [
       "<IPython.core.display.Markdown object>"
      ]
     },
     "metadata": {},
     "output_type": "display_data"
    },
    {
     "data": {
      "text/markdown": [
       "Run: `gcc -m32 -masm=intel -nostdlib -fno-asynchronous-unwind-tables -O3 minimal.c -S -o minimal.S`"
      ],
      "text/plain": [
       "<IPython.core.display.Markdown object>"
      ]
     },
     "metadata": {},
     "output_type": "display_data"
    },
    {
     "data": {
      "text/markdown": [
       "Run: `./minimal.exe ; echo $?`"
      ],
      "text/plain": [
       "<IPython.core.display.Markdown object>"
      ]
     },
     "metadata": {},
     "output_type": "display_data"
    },
    {
     "name": "stdout",
     "output_type": "stream",
     "text": [
      "Data begin: 154443776\n",
      "Data end: 254443776\n",
      "10000000\n",
      "20000000\n",
      "25000000\n",
      "0\n"
     ]
    }
   ],
   "source": [
    "%%cpp minimal.c\n",
    "%run gcc -m32 -masm=intel -nostdlib -O3 minimal.c -o minimal.exe\n",
    "%run gcc -m32 -masm=intel -nostdlib -fno-asynchronous-unwind-tables -O3 minimal.c -S -o minimal.S\n",
    "\n",
    "//%run cat minimal.S\n",
    "//%run objdump -d minimal.exe\n",
    "\n",
    "%run ./minimal.exe ; echo $? \n",
    "\n",
    "#include <sys/syscall.h>\n",
    "\n",
    "    \n",
    "// Универсальная функция для совершения системных вызовов\n",
    "int syscall(int code, ...);\n",
    "__asm__(R\"(\n",
    "syscall:\n",
    "    push ebx\n",
    "    push ebp\n",
    "    push esi\n",
    "    push edi\n",
    "    mov eax, DWORD PTR [esp + 20] \n",
    "    mov ebx, DWORD PTR [esp + 24] \n",
    "    mov ecx, DWORD PTR [esp + 28] \n",
    "    mov edx, DWORD PTR [esp + 32]\n",
    "    mov esi, DWORD PTR [esp + 36]\n",
    "    mov edi, DWORD PTR [esp + 40]\n",
    "    int 0x80\n",
    "    pop edi\n",
    "    pop esi\n",
    "    pop ebp\n",
    "    pop ebx\n",
    "    ret\n",
    ")\");\n",
    "\n",
    "\n",
    "void int_to_s(unsigned int i, char* s, int* len) {\n",
    "    int clen = 0;\n",
    "    for (int ic = i; ic; ic /= 10, ++clen);\n",
    "    clen = clen ?: 1;\n",
    "    s[clen] = '\\0';\n",
    "    for (int j = 0; j < clen; ++j, i /= 10) {\n",
    "        s[clen - j - 1] = '0' + i % 10;\n",
    "    }\n",
    "    *len = clen;\n",
    "}\n",
    "\n",
    "unsigned int s_to_int(char* s) {\n",
    "    unsigned int res = 0;\n",
    "    while ('0' <= *s && *s <= '9') {\n",
    "        res *= 10;\n",
    "        res += *s - '0';\n",
    "        ++s;\n",
    "    }\n",
    "    return res;\n",
    "}\n",
    "\n",
    "int print_int(int fd, unsigned int i) {\n",
    "    char s[20];\n",
    "    int len;\n",
    "    int_to_s(i, s, &len);\n",
    "    return syscall(SYS_write, fd, s, len);\n",
    "}\n",
    "\n",
    "int print_s(int fd, const char* s) {\n",
    "    int len = 0;\n",
    "    while (s[len]) ++len;\n",
    "    return syscall(SYS_write, fd, s, len);\n",
    "}\n",
    "\n",
    "\n",
    "// Пример использования системного вызова для завершения работы программы\n",
    "void _exit(int code);\n",
    "__asm__(R\"(\n",
    "_exit:\n",
    "    mov   eax, 1\n",
    "    mov   ebx, [esp + 4]\n",
    "    int   0x80\n",
    ")\");\n",
    "\n",
    "\n",
    "const char hello_s[] = \"Hello world from function 'write'!\\n\";\n",
    "const int hello_s_size = sizeof(hello_s);\n",
    "\n",
    "// Пример использования системного вызова для вывода в stdout\n",
    "int write();\n",
    "__asm__(R\"(\n",
    "write:\n",
    "    push ebx\n",
    "    mov eax, 4 \n",
    "    mov ebx, 1\n",
    "    lea ecx, [hello_s]\n",
    "    mov edx, hello_s_size\n",
    "    int 0x80\n",
    "    pop ebx\n",
    "    ret\n",
    ")\");\n",
    "\n",
    "\n",
    "// Именно с этой функции всегда начинается выполнение программы\n",
    "void _start() {\n",
    "    const int size = 100 * 1000 * 1000;\n",
    "    int* data_start = (void*)syscall(SYS_brk, 0);\n",
    "    int* data_end = (void*)syscall(SYS_brk, (int)data_start + size);\n",
    "    \n",
    "    print_s(1, \"Data begin: \"); print_int(1, (int)(void*)data_start); print_s(1, \"\\n\");\n",
    "    print_s(1, \"Data end: \");  print_int(1, (int)(void*)data_end); print_s(1, \"\\n\");\n",
    "    \n",
    "    data_start[0] = 1;\n",
    "    for (int i = 1; i < (data_end - data_start); ++i) {\n",
    "        data_start[i] = data_start[i - 1] + 1;\n",
    "        if (i % 10000000 == 0) {\n",
    "            print_int(1, i); print_s(1, \"\\n\");\n",
    "        }\n",
    "    }\n",
    "    \n",
    "    print_int(1, data_end[-1]); print_s(1, \"\\n\");\n",
    "    \n",
    "    _exit(0);\n",
    "}\n"
   ]
  },
  {
   "cell_type": "code",
   "execution_count": 230,
   "metadata": {},
   "outputs": [
    {
     "data": {
      "text/plain": [
       "'0x8b4d000'"
      ]
     },
     "execution_count": 230,
     "metadata": {},
     "output_type": "execute_result"
    }
   ],
   "source": [
    "hex(146067456)"
   ]
  },
  {
   "cell_type": "code",
   "execution_count": 231,
   "metadata": {},
   "outputs": [
    {
     "data": {
      "text/plain": [
       "'0x5fd8220'"
      ]
     },
     "execution_count": 231,
     "metadata": {},
     "output_type": "execute_result"
    }
   ],
   "source": [
    "hex(100500000)"
   ]
  },
  {
   "cell_type": "code",
   "execution_count": null,
   "metadata": {},
   "outputs": [],
   "source": []
  }
 ],
 "metadata": {
  "kernelspec": {
   "display_name": "Python 3",
   "language": "python",
   "name": "python3"
  },
  "language_info": {
   "codemirror_mode": {
    "name": "ipython",
    "version": 3
   },
   "file_extension": ".py",
   "mimetype": "text/x-python",
   "name": "python",
   "nbconvert_exporter": "python",
   "pygments_lexer": "ipython3",
   "version": "3.5.2"
  }
 },
 "nbformat": 4,
 "nbformat_minor": 2
}
