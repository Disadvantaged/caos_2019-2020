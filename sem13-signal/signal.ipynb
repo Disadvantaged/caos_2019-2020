{
 "cells": [
  {
   "cell_type": "code",
   "execution_count": 2,
   "metadata": {},
   "outputs": [
    {
     "data": {
      "application/javascript": [
       "// setup cpp code highlighting\n",
       "IPython.CodeCell.options_default.highlight_modes[\"text/x-c++src\"] = {'reg':[/^%%cpp/]} ;"
      ],
      "text/plain": [
       "<IPython.core.display.Javascript object>"
      ]
     },
     "metadata": {},
     "output_type": "display_data"
    }
   ],
   "source": [
    "# initialize magics, for multiline version look at previous notebooks\n",
    "exec('\\nget_ipython().run_cell_magic(\\'javascript\\', \\'\\', \\'// setup cpp code highlighting\\\\nIPython.CodeCell.options_default.highlight_modes[\"text/x-c++src\"] = {\\\\\\'reg\\\\\\':[/^%%cpp/]} ;\\')\\n\\n# creating magics\\nfrom IPython.core.magic import register_cell_magic, register_line_magic\\nfrom IPython.display import display, Markdown\\nimport argparse\\n\\n@register_cell_magic\\ndef save_file(args_str, cell, line_comment_start=\"#\"):\\n    parser = argparse.ArgumentParser()\\n    parser.add_argument(\"fname\")\\n    parser.add_argument(\"--ejudge-style\", action=\"store_true\")\\n    args = parser.parse_args(args_str.split())\\n    \\n    cell = cell if cell[-1] == \\'\\\\n\\' or args.no_eof_newline else cell + \"\\\\n\"\\n    cmds = []\\n    with open(args.fname, \"w\") as f:\\n        f.write(line_comment_start + \" %%cpp \" + args_str + \"\\\\n\")\\n        for line in cell.split(\"\\\\n\"):\\n            if line.startswith(\"%\"):\\n                run_prefix = \"%run \"\\n                assert line.startswith(run_prefix)\\n                cmds.append(line[len(run_prefix):].strip())\\n            else:\\n                f.write((line if not args.ejudge_style else line.rstrip()) + \"\\\\n\")\\n        f.write(\"\" if not args.ejudge_style else line_comment_start + r\" line without \\\\n\")\\n    for cmd in cmds:\\n        display(Markdown(\"Run: `%s`\" % cmd))\\n        get_ipython().system(cmd)\\n\\n@register_cell_magic\\ndef cpp(fname, cell):\\n    save_file(fname, cell, \"//\")\\n\\n@register_cell_magic\\ndef asm(fname, cell):\\n    save_file(fname, cell, \"//\")\\n    \\n@register_cell_magic\\ndef makefile(fname, cell):\\n    assert not fname\\n    save_file(\"makefile\", cell.replace(\" \" * 4, \"\\\\t\"))\\n        \\n@register_line_magic\\ndef p(line):\\n    try:\\n        expr, comment = line.split(\" #\")\\n        display(Markdown(\"`{} = {}`  # {}\".format(expr.strip(), eval(expr), comment.strip())))\\n    except:\\n        display(Markdown(\"{} = {}\".format(line, eval(line))))\\n    \\n')"
   ]
  },
  {
   "cell_type": "markdown",
   "metadata": {},
   "source": [
    "# Что такое сигналы и как закрыть vim\n",
    "\n",
    "Сигналы, которые можно послать из терминала запущенной программе:\n",
    "* Ctrl-C посылает SIGINT (от interrupt), обычное действие - завершение программы.\n",
    "* Ctrl-\\\\ посылает SIGQUIT, обычное действие - завершение с дампом памяти. **В целом срабатывает чаще чем Ctrl-C**\n",
    "* Ctrl-Z посылает SIGTSTP, обычное действие - остановка процесса. То есть как SIGSTOP\n",
    "\n",
    "Другие полезные сигналы:\n",
    "* SIGKILL - безусловное убиение процесса. Правда, если процесс находится в блокирующем системном вызове, то сразу он не убьется. К счастью, системный вызовы досрочно завершаются, если пришел сигнал.\n",
    "* SIGSTOP - безусловная остановка программы.\n",
    "* SIGCONT - продолжение выполнения (отмена SIGSTOP)\n",
    "\n",
    "Как убить неубиваемое?\n",
    "* `killall -9 vim` или `ps aux | grep vim`, а потом уже `kill -9 <selected_pid>`. Надо заметить, что `-9` лучше писать как `-SIGKILL`, но это длиннее, так что на конкретной платформе в интерактивном режиме проще писать `-9`. А `-SIGKILL` оставить для переносимых приложений.\n",
    "\n",
    "\n",
    "[Ссылка на ридинг Яковлева](https://github.com/victor-yacovlev/mipt-diht-caos/tree/master/practice/signal-1)\n",
    "\n",
    "[Пост на хабре](https://habr.com/ru/post/141206/)\n",
    "\n",
    "**Все это дело (сигналы) плохо сочетается с потоками**\n",
    "\n",
    "<details>\n",
    "<summary>Доставка сигналов в случае, когда есть несколько потоков</summary>\n",
    "  <p>\n",
    "\n",
    "Сигнал поступает в нить, если он не должен игнорироваться. Доставка сигналов в процессах с несколькими нитями подчиняется следующим правилам:\n",
    "\n",
    "* Если по сигналу следует завершить, остановить или продолжить целевую нить, то при обработке сигнала соответственно завершается, останавливается или возобновляется весь процесс (а следовательно, все его нити). Это означает, что программы с одной нитью можно переработать в программы с несколькими нитями, не изменяя в них видимую сторону обработки сигналов.\n",
    "Рассмотрим пользовательскую команду с несколькими нитями, например, команду grep. Пользователь может запустить эту команду из оболочки и затем попытаться прервать ее выполнение, передав соответствующий сигнал командой kill. Очевидно, что этот сигнал прервет весь процесс, в котором выполняется команда grep.\n",
    "\n",
    "* Сигналы, соответствующие конкретной нити и отправленные с помощью функций pthread_kill или raise, передаются в эту нить. Если эта нить заблокировала доставку данного сигнала, то сигнал переходит в состояние ожидания на уровне нити, пока доставка не будет разблокирована. Если выполнение нити завершилось раньше доставки сигнала, то сигнал будет проигнорирован.\n",
    "* Сигналы, соответствующие процессу и отправленные, например, с помощью функции kill, передаются только одной нити процесса. Если одна или несколько нитей вызвали функцию sigwait, то сигнал передается ровно в одну из них. В противном случае сигнал передается ровно в одну нить из числа тех нитей, которые не блокировали его доставку. Если нитей, удовлетворяющих этим условиям, нет, то сигнал переходит в состояние ожидания на уровне процесса до тех пор, пока какая-либо нить не вызовет функцию sigwait с указанием этого сигнала или пока доставка не будет разблокирована.\n",
    "\n",
    "\n",
    "Если ожидающий сигнал (на уровне нити или процесса) должен игнорироваться, то он игнорируется.  \n",
    "  \n",
    "[Источник](http://www.regatta.cs.msu.su/doc/usr/share/man/info/ru_RU/a_doc_lib/aixprggd/genprogc/signal_mgmt.htm)\n",
    "\n",
    "**Как с этим жить?** Принимать сигналы только в одном потоке и вызывать хендлеры в контексте выполнения потока. Тогда можно будет не беспокоиться о async-signal safety и ограничиться thread safety.\n",
    "\n",
    "  </p>\n",
    "</details>"
   ]
  },
  {
   "cell_type": "markdown",
   "metadata": {},
   "source": [
    "## Что значит завершение с дампом памяти?"
   ]
  },
  {
   "cell_type": "code",
   "execution_count": 32,
   "metadata": {},
   "outputs": [
    {
     "data": {
      "text/markdown": [
       "Run: `gcc -g coredump.c -o coredump.exe`"
      ],
      "text/plain": [
       "<IPython.core.display.Markdown object>"
      ]
     },
     "metadata": {},
     "output_type": "display_data"
    },
    {
     "data": {
      "text/markdown": [
       "Run: `rm core # удаляем старый файл с coredump`"
      ],
      "text/plain": [
       "<IPython.core.display.Markdown object>"
      ]
     },
     "metadata": {},
     "output_type": "display_data"
    },
    {
     "data": {
      "text/markdown": [
       "Run: `./coredump.exe`"
      ],
      "text/plain": [
       "<IPython.core.display.Markdown object>"
      ]
     },
     "metadata": {},
     "output_type": "display_data"
    },
    {
     "name": "stdout",
     "output_type": "stream",
     "text": [
      "coredump.exe: coredump.c:21: f: Assertion `a > 4' failed.\n",
      "Aborted (core dumped)\n"
     ]
    }
   ],
   "source": [
    "%%cpp coredump.c\n",
    "%run gcc -g coredump.c -o coredump.exe\n",
    "%run rm core # удаляем старый файл с coredump\n",
    "%run ./coredump.exe\n",
    "\n",
    "#include <stdio.h>\n",
    "#include <stdlib.h>\n",
    "#include <assert.h>\n",
    "#include <sys/types.h>\n",
    "#include <sys/wait.h>\n",
    "#include <sys/time.h>\n",
    "#include <sys/resource.h>\n",
    "\n",
    "// can be replaced with 'ulimit -c unlimited' in terminal\n",
    "void enable_core() {\n",
    "    struct rlimit rlim;\n",
    "    assert(0 == getrlimit(RLIMIT_CORE, &rlim));\n",
    "    rlim.rlim_cur = rlim.rlim_max;\n",
    "    assert(0 == setrlimit(RLIMIT_CORE, &rlim));\n",
    "}\n",
    "\n",
    "int f(int a) {\n",
    "    if (1) {\n",
    "        assert(a > 4); // тоже вызывает SIGABRT\n",
    "    } else {\n",
    "        if (a < 4) {\n",
    "            raise(SIGABRT); // посылаем сигнал себе\n",
    "        }\n",
    "    }\n",
    "    return 0;\n",
    "}\n",
    "\n",
    "int main(int argc, char** argv) {\n",
    "    enable_core();\n",
    "    return f(argc);\n",
    "}"
   ]
  },
  {
   "cell_type": "code",
   "execution_count": 12,
   "metadata": {},
   "outputs": [
    {
     "name": "stdout",
     "output_type": "stream",
     "text": [
      "[New LWP 24062]\n",
      "Core was generated by `./fork_exec.exe'.\n",
      "Program terminated with signal SIGABRT, Aborted.\n",
      "#0  0x00007fc6b0833428 in __GI_raise (sig=sig@entry=6) at ../sysdeps/unix/sysv/linux/raise.c:54\n",
      "54\t../sysdeps/unix/sysv/linux/raise.c: No such file or directory.\n",
      "fork_exec.exe: fork_exec.cpp:21: int f(int): Assertion `a > 4' failed.\n",
      "\n",
      "Program received signal SIGABRT, Aborted.\n",
      "0x00007ffff7a42428 in __GI_raise (sig=sig@entry=6) at ../sysdeps/unix/sysv/linux/raise.c:54\n",
      "54\t../sysdeps/unix/sysv/linux/raise.c: No such file or directory.\n",
      "#0  0x00007ffff7a42428 in __GI_raise (sig=sig@entry=6) at ../sysdeps/unix/sysv/linux/raise.c:54\n",
      "        resultvar = 0\n",
      "        pd = <optimized out>\n",
      "        pid = 24067\n",
      "        selftid = 24067\n",
      "#1  0x00007ffff7a4402a in __GI_abort () at abort.c:89\n",
      "        save_stage = 2\n",
      "        act = {__sigaction_handler = {sa_handler = 0x4, sa_sigaction = 0x4}, sa_mask = {__val = {0, 1095216660480, 140737488347056, 0, 140737354096640, 4196363, 21, 4196408, 0, 0, 140737348441404, 140737349538384, 140737349552032, 0, 140737349538384, 4196363}}, sa_flags = -134258688, sa_restorer = 0x40080b}\n",
      "        sigs = {__val = {32, 0 <repeats 15 times>}}\n",
      "#2  0x00007ffff7a3abd7 in __assert_fail_base (fmt=<optimized out>, assertion=assertion@entry=0x40080b \"a > 4\", file=file@entry=0x4007b0 \"fork_exec.cpp\", line=line@entry=21, function=function@entry=0x400838 <f(int)::__PRETTY_FUNCTION__> \"int f(int)\") at assert.c:92\n",
      "        str = 0x602010 \"\"\n",
      "        total = 4096\n",
      "#3  0x00007ffff7a3ac82 in __GI___assert_fail (assertion=0x40080b \"a > 4\", file=0x4007b0 \"fork_exec.cpp\", line=21, function=0x400838 <f(int)::__PRETTY_FUNCTION__> \"int f(int)\") at assert.c:101\n",
      "No locals.\n",
      "#4  0x00000000004006f2 in f (a=1) at fork_exec.cpp:21\n",
      "        __PRETTY_FUNCTION__ = \"int f(int)\"\n",
      "#5  0x0000000000400717 in main (argc=1, argv=0x7fffffffe218) at fork_exec.cpp:32\n",
      "No locals.\n"
     ]
    }
   ],
   "source": [
    "!test -f ./core && gdb -ex='r' -ex=\"bt full\" -batch ./fork_exec.exe ./core || echo \"No core file :(\""
   ]
  },
  {
   "cell_type": "markdown",
   "metadata": {},
   "source": [
    "# alarm - таймер с использованием сигналов\n",
    "\n",
    "Системный вызов `alarm` запускает таймер, по истечении которого процесс сам себе отправит сигнал `SIGALRM`.\n",
    "\n",
    "```\n",
    "unsigned int alarm(unsigned int seconds);\n",
    "```"
   ]
  },
  {
   "cell_type": "code",
   "execution_count": 18,
   "metadata": {},
   "outputs": [
    {
     "data": {
      "text/markdown": [
       "Run: `gcc -g alarm.cpp -o alarm.exe`"
      ],
      "text/plain": [
       "<IPython.core.display.Markdown object>"
      ]
     },
     "metadata": {},
     "output_type": "display_data"
    },
    {
     "data": {
      "text/markdown": [
       "Run: `./alarm.exe ; echo $? # выводим так же код возврата`"
      ],
      "text/plain": [
       "<IPython.core.display.Markdown object>"
      ]
     },
     "metadata": {},
     "output_type": "display_data"
    },
    {
     "name": "stdout",
     "output_type": "stream",
     "text": [
      "Alarm clock\r\n",
      "142\r\n"
     ]
    }
   ],
   "source": [
    "%%cpp alarm.c\n",
    "%run gcc -g alarm.c -o alarm.exe\n",
    "%run ./alarm.exe ; echo $? # выводим так же код возврата\n",
    "\n",
    "#include <unistd.h>\n",
    "#include <stdio.h>\n",
    "\n",
    "int main() {\n",
    "    alarm(3);\n",
    "    pause();\n",
    "    printf(\"Is this command unreachable?\"); // достижима ли эта команда?\n",
    "    return 0;\n",
    "}"
   ]
  },
  {
   "cell_type": "markdown",
   "metadata": {},
   "source": [
    "# signal\n",
    "В прошлом примере мы заметили, что использование сигналов без их обработки имеет ограниченную ценность. \n",
    "\n",
    "Поэтому рассмотрим способ для начала блокировать сигналы."
   ]
  },
  {
   "cell_type": "code",
   "execution_count": 30,
   "metadata": {},
   "outputs": [
    {
     "data": {
      "text/markdown": [
       "Run: `gcc -g alarm_block.c -o alarm_block.exe`"
      ],
      "text/plain": [
       "<IPython.core.display.Markdown object>"
      ]
     },
     "metadata": {},
     "output_type": "display_data"
    },
    {
     "data": {
      "text/markdown": [
       "Run: `./alarm_block.exe ; echo $? # выводим так же код возврата`"
      ],
      "text/plain": [
       "<IPython.core.display.Markdown object>"
      ]
     },
     "metadata": {},
     "output_type": "display_data"
    },
    {
     "name": "stdout",
     "output_type": "stream",
     "text": [
      "^C\r\n"
     ]
    }
   ],
   "source": [
    "%%cpp alarm_block.c\n",
    "%run gcc -g alarm_block.c -o alarm_block.exe\n",
    "%run ./alarm_block.exe ; echo $? # выводим так же код возврата\n",
    "\n",
    "#include <unistd.h>\n",
    "#include <stdio.h>\n",
    "#include <signal.h>\n",
    "\n",
    "int main() {\n",
    "    signal(SIGALRM, SIG_IGN);\n",
    "    alarm(3);\n",
    "    pause();\n",
    "    printf(\"Is this command unreachable?\"); // достижима ли эта команда?\n",
    "    return 0;\n",
    "}"
   ]
  },
  {
   "cell_type": "markdown",
   "metadata": {},
   "source": [
    "Упс, но теперь сигнал вообще до нас не доходит.\n",
    "\n",
    "Это бывает довольно полезно, например, если мы хотим сделать программу устойчивой к прерываниям через Ctrl-C. Но в остальных случаях это не помогает.\n",
    "\n",
    "Значит нужно явно задавать обработчики сигналов (пусть даже пустые). Это можно делать через вызов signal, передавая функцию-обработчик, но так лучше не делать, так как там нестандартизированное поведение и лучше использовать более новый вызов:\n",
    "\n",
    "# sigaction\n",
    "\n",
    "Позволяет установить функцию-обработчик на сигнал. Функция-обработчик должна быть async-signal safe. То есть ее вызов должен быть безопасен в любой момент выполнения основного кода программы. Это условие сильнее чем thread-safe."
   ]
  },
  {
   "cell_type": "code",
   "execution_count": 35,
   "metadata": {},
   "outputs": [
    {
     "data": {
      "text/markdown": [
       "Run: `gcc -g alarm_handle.c -o alarm_handle.exe`"
      ],
      "text/plain": [
       "<IPython.core.display.Markdown object>"
      ]
     },
     "metadata": {},
     "output_type": "display_data"
    },
    {
     "data": {
      "text/markdown": [
       "Run: `./alarm_handle.exe ; echo $? # выводим так же код возврата`"
      ],
      "text/plain": [
       "<IPython.core.display.Markdown object>"
      ]
     },
     "metadata": {},
     "output_type": "display_data"
    },
    {
     "name": "stdout",
     "output_type": "stream",
     "text": [
      "Get signal 14, do nothing\r\n",
      "Is this command unreachable?\r\n",
      "0\r\n"
     ]
    }
   ],
   "source": [
    "%%cpp alarm_handle.c\n",
    "%run gcc -g alarm_handle.c -o alarm_handle.exe\n",
    "%run ./alarm_handle.exe ; echo $? # выводим так же код возврата\n",
    "\n",
    "#include <unistd.h>\n",
    "#include <stdio.h>\n",
    "#include <signal.h>\n",
    "#include <sys/types.h>\n",
    "\n",
    "static void handler(int signum) {\n",
    "    static char buffer[100];\n",
    "    int size = snprintf(buffer, sizeof(buffer), \"Get signal %d, do nothing\\n\", signum);\n",
    "    write(2, buffer, size); // можно использовать системные вызовы, они async-signal safe\n",
    "    // fprintf(stderr, \"Get signal %d, do nothing\\n\", signum); // А вот это уже использовать нелья\n",
    "}\n",
    "\n",
    "int main() {\n",
    "    sigaction(SIGALRM,\n",
    "              &(struct sigaction){\n",
    "                  .sa_handler = handler, \n",
    "                  .sa_flags = SA_RESTART\n",
    "              },\n",
    "              NULL);\n",
    "    alarm(1);\n",
    "    pause();\n",
    "    printf(\"Is this command unreachable?\\n\"); // достижима ли эта команда?\n",
    "    return 0;\n",
    "}"
   ]
  },
  {
   "cell_type": "markdown",
   "metadata": {},
   "source": [
    "# Делаем программу-терминатора\n",
    "\n",
    "По умолчанию все сигналы обрабатываются немедленно, но это может вызвать гонку данных и поэтому неудобно. К счастью, есть способ приостановить обработку сигналов до поры до времени (заблокировать сигнал), а потом, когда захочется, выполнить обработчики.\n",
    "\n",
    "# sigprocmask, sigsuspend\n",
    "sigprocmask позволяет выбрать сигналы, которые будут заблокированы. sigsuspend позволяет подождать, пока придут определенные сигналы (он как бы разблокирует сигналы, подождет пока что-то придет, потом снова заблокирует).\n",
    "\n",
    "В следующем примере нужно вручную из терминала посылать сигналы в запущенный процесс (`kill -SIGINT <pid>`)"
   ]
  },
  {
   "cell_type": "code",
   "execution_count": 56,
   "metadata": {},
   "outputs": [
    {
     "data": {
      "text/markdown": [
       "Run: `gcc -g terminator.c -o terminator.exe`"
      ],
      "text/plain": [
       "<IPython.core.display.Markdown object>"
      ]
     },
     "metadata": {},
     "output_type": "display_data"
    },
    {
     "data": {
      "text/markdown": [
       "Run: `./terminator.exe`"
      ],
      "text/plain": [
       "<IPython.core.display.Markdown object>"
      ]
     },
     "metadata": {},
     "output_type": "display_data"
    },
    {
     "name": "stdout",
     "output_type": "stream",
     "text": [
      "pid = 25613\n",
      "Get signal 2, val_x = 1 ( == 1 ?), do nothing\n",
      "Get signal 2, val_x = 1 ( == 1 ?), do nothing\n",
      "Get signal 2, val_x = 1 ( == 1 ?), do nothing\n",
      "Get signal 2, val_x = 1 ( == 1 ?), do nothing\n",
      "^C\n",
      "Get signal 2, val_x = 1 ( == 1 ?), do nothing\n"
     ]
    }
   ],
   "source": [
    "%%cpp terminator.c\n",
    "%run gcc -g terminator.c -o terminator.exe\n",
    "%run ./terminator.exe \n",
    "\n",
    "#include <unistd.h>\n",
    "#include <stdio.h>\n",
    "#include <signal.h>\n",
    "#include <sys/types.h>\n",
    "\n",
    "int val_x = 0;\n",
    "\n",
    "static void handler(int signum) {\n",
    "    // Сейчас у нас есть некоторая гарантия, что обработчик будет вызван только внутри sigprocmask \n",
    "    // (ну или раньше изначального sigprocmask)\n",
    "    // поэтому в случае однопоточного приложения можно использовать асинхронно-небезопасные функции\n",
    "    fprintf(stderr, \"Get signal %d, val_x = %d ( == 1 ?), do nothing\\n\", signum, val_x); \n",
    "}\n",
    "\n",
    "int main() {\n",
    "    for (int signal = 0; signal < 100; ++signal) {\n",
    "        sigaction(signal,\n",
    "                  &(struct sigaction)\n",
    "                  {.sa_handler=handler, .sa_flags=SA_RESTART},\n",
    "                  NULL);\n",
    "    }\n",
    "    sigset_t mask;\n",
    "    sigfillset(&mask);\n",
    "    sigprocmask(SIG_BLOCK, &mask, NULL); // try comment out\n",
    "    sigemptyset(&mask);\n",
    "    printf(\"pid = %d\\n\", getpid());\n",
    "    val_x = 0;\n",
    "    int res = 0;\n",
    "    while (1) {\n",
    "        val_x = 1;\n",
    "        sigsuspend(&mask); // try comment out\n",
    "        val_x = 0;\n",
    "        for (int i = 0; i < 10000000; ++i) {\n",
    "            res ^= i;\n",
    "        }\n",
    "    }\n",
    "    return res;\n",
    "}"
   ]
  },
  {
   "cell_type": "code",
   "execution_count": 50,
   "metadata": {},
   "outputs": [],
   "source": [
    "!kill -2 25545"
   ]
  },
  {
   "cell_type": "code",
   "execution_count": null,
   "metadata": {},
   "outputs": [],
   "source": []
  },
  {
   "cell_type": "markdown",
   "metadata": {},
   "source": []
  },
  {
   "cell_type": "markdown",
   "metadata": {},
   "source": [
    "# Примеры применения\n",
    "* мягкая остановка SIGINT и жесткая остановка SIGKILL\n",
    "* ротирование логов"
   ]
  }
 ],
 "metadata": {
  "kernelspec": {
   "display_name": "Python 3",
   "language": "python",
   "name": "python3"
  },
  "language_info": {
   "codemirror_mode": {
    "name": "ipython",
    "version": 3
   },
   "file_extension": ".py",
   "mimetype": "text/x-python",
   "name": "python",
   "nbconvert_exporter": "python",
   "pygments_lexer": "ipython3",
   "version": "3.5.2"
  }
 },
 "nbformat": 4,
 "nbformat_minor": 2
}
