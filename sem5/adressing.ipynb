{
 "cells": [
  {
   "cell_type": "code",
   "execution_count": 2,
   "metadata": {},
   "outputs": [
    {
     "data": {
      "application/javascript": [
       "// setup cpp code highlighting\n",
       "IPython.CodeCell.options_default.highlight_modes[\"text/x-c++src\"] = {'reg':[/^%%cpp/]} ;"
      ],
      "text/plain": [
       "<IPython.core.display.Javascript object>"
      ]
     },
     "metadata": {},
     "output_type": "display_data"
    }
   ],
   "source": [
    "# make magic here. Look at previous notebooks to see readable version\n",
    "exec('\\nget_ipython().run_cell_magic(\\'javascript\\', \\'\\', \\'// setup cpp code highlighting\\\\nIPython.CodeCell.options_default.highlight_modes[\"text/x-c++src\"] = {\\\\\\'reg\\\\\\':[/^%%cpp/]} ;\\')\\n\\n# creating magics\\nfrom IPython.core.magic import register_cell_magic, register_line_magic\\nfrom IPython.display import display, Markdown\\n\\n@register_cell_magic\\ndef save_file(fname, cell):\\n    cell = cell if cell[-1] == \\'\\\\n\\' else cell + \"\\\\n\"\\n    cmds = []\\n    with open(fname, \"w\") as f:\\n        for line in cell.split(\"\\\\n\"):\\n            if line.startswith(\"%\"):\\n                run_prefix = \"%run \"\\n                assert line.startswith(run_prefix)\\n                cmds.append(line[len(run_prefix):].strip())\\n            else:\\n                f.write(line + \"\\\\n\")\\n    for cmd in cmds:\\n        display(Markdown(\"Run: `%s`\" % cmd))\\n        get_ipython().system(cmd)\\n\\n@register_cell_magic\\ndef cpp(fname, cell):\\n    save_file(fname, cell)\\n\\n@register_cell_magic\\ndef asm(fname, cell):\\n    save_file(fname, cell)\\n    \\n@register_cell_magic\\ndef makefile(fname, cell):\\n    assert not fname\\n    save_file(\"makefile\", cell.replace(\" \" * 4, \"\\\\t\"))\\n        \\n@register_line_magic\\ndef p(line):\\n    print(\"{} = {}\".format(line, eval(line)))\\n')"
   ]
  },
  {
   "cell_type": "markdown",
   "metadata": {},
   "source": [
    "# Адресация памяти в ассемблере\n",
    "\n",
    "[Ридинг от Яковлева](https://github.com/victor-yacovlev/mipt-diht-caos/tree/master/practice/asm/arm_load_store)\n",
    "\n",
    "Добавление от меня:\n",
    "\n",
    "1. `str r0, [r1, #4]!` - то же самое, что и `str r0, [r1, #4]`, но в `r1`, будет сохранено `r1 + #4` после выполнения команды. Другими словами префиксный инкремент на 4.\n",
    "1. `ldr r0, [r1], #4` - то же самое, что и `ldr r0, [r1]` с последующим `add r1, r1, #4`. Другими словами постфиксный инкремент."
   ]
  },
  {
   "cell_type": "code",
   "execution_count": 4,
   "metadata": {},
   "outputs": [],
   "source": [
    "# Add path to compilers to PATH\n",
    "import os\n",
    "os.environ[\"PATH\"] = os.environ[\"PATH\"] + \":\" + \\\n",
    "    \"/home/pechatnov/Downloads/gcc-linaro-7.3.1-2018.05-i686_arm-linux-gnueabi/bin/\""
   ]
  },
  {
   "cell_type": "markdown",
   "metadata": {},
   "source": [
    "# Пример работы с массивом из ассемблера"
   ]
  },
  {
   "cell_type": "code",
   "execution_count": 28,
   "metadata": {},
   "outputs": [
    {
     "data": {
      "text/markdown": [
       "Run: `arm-linux-gnueabi-gcc -marm is_sorted.c -o is_sorted`"
      ],
      "text/plain": [
       "<IPython.core.display.Markdown object>"
      ]
     },
     "metadata": {},
     "output_type": "display_data"
    },
    {
     "data": {
      "text/markdown": [
       "Run: `qemu-arm -L ~/Downloads/sysroot-glibc-linaro-2.25-2018.05-arm-linux-gnueabi ./is_sorted`"
      ],
      "text/plain": [
       "<IPython.core.display.Markdown object>"
      ]
     },
     "metadata": {},
     "output_type": "display_data"
    },
    {
     "name": "stdout",
     "output_type": "stream",
     "text": [
      "is_sorted({}) = 1 ?= 1\r\n",
      "is_sorted({10}) = 1 ?= 1\r\n",
      "is_sorted({10, 20}) = 1 ?= 1\r\n",
      "is_sorted({10, 20, 30}) = 1 ?= 1\r\n",
      "is_sorted({30, 30, 30}) = 1 ?= 1\r\n",
      "is_sorted({20, 10}) = 0 ?= 0\r\n",
      "is_sorted({10, 30, 20}) = 0 ?= 0\r\n"
     ]
    }
   ],
   "source": [
    "%%cpp is_sorted.c\n",
    "%run arm-linux-gnueabi-gcc -marm is_sorted.c -o is_sorted\n",
    "%run qemu-arm -L ~/Downloads/sysroot-glibc-linaro-2.25-2018.05-arm-linux-gnueabi ./is_sorted\n",
    "\n",
    "#include <stdio.h>\n",
    "#include <assert.h>\n",
    "\n",
    "int is_sorted(int n, int* x);\n",
    "__asm__ (R\"(\n",
    ".global is_sorted\n",
    "is_sorted:\n",
    "    cmp r0, #1\n",
    "    bls is_sorted_true\n",
    "    sub r0, r0, #1\n",
    "    add r1, r1, #4\n",
    "    ldr r2, [r1, #-4]\n",
    "    ldr r3, [r1]\n",
    "    cmp r2, r3\n",
    "    bhi is_sorted_false\n",
    "    b is_sorted\n",
    "is_sorted_false:\n",
    "    mov r0, #0\n",
    "    bx lr\n",
    "is_sorted_true:\n",
    "    mov r0, #1\n",
    "    bx  lr\n",
    ")\");\n",
    "\n",
    "#define check(result, ...) {\\\n",
    "    int a[] = {__VA_ARGS__}; \\\n",
    "    int r = is_sorted(sizeof(a) / sizeof(int), a); \\\n",
    "    printf(\"is_sorted({\" #__VA_ARGS__ \"}) = %d ?= %d\\n\", r, result);\\\n",
    "    assert(r == result); \\\n",
    "}\n",
    "\n",
    "#define check_sorted(...) check(1, __VA_ARGS__)\n",
    "#define check_not_sorted(...) check(0, __VA_ARGS__)\n",
    "\n",
    "\n",
    "int test() {\n",
    "    check_sorted();\n",
    "    check_sorted(10);\n",
    "    check_sorted(10, 20);\n",
    "    check_sorted(10, 20, 30);\n",
    "    check_sorted(30, 30, 30);\n",
    "    check_not_sorted(20, 10);\n",
    "    check_not_sorted(10, 30, 20);\n",
    "}\n",
    "\n",
    "int main() {\n",
    "    test();\n",
    "    return 0;\n",
    "}"
   ]
  },
  {
   "cell_type": "markdown",
   "metadata": {},
   "source": [
    "# Пример приема более, чем 4 аргументов в функции\n",
    "\n",
    "ip = r12. Почему он тут портится? У меня нет ответа `¯\\_(ツ)_/¯ `"
   ]
  },
  {
   "cell_type": "code",
   "execution_count": 76,
   "metadata": {},
   "outputs": [
    {
     "data": {
      "text/markdown": [
       "Run: `arm-linux-gnueabi-gcc -marm more_than_4.c -O2 -S -o more_than_4.s`"
      ],
      "text/plain": [
       "<IPython.core.display.Markdown object>"
      ]
     },
     "metadata": {},
     "output_type": "display_data"
    },
    {
     "data": {
      "text/markdown": [
       "Run: `cat more_than_4.s | grep -v \"^\\\\s*\\\\.\" | grep -v \"^\\\\s*@\"`"
      ],
      "text/plain": [
       "<IPython.core.display.Markdown object>"
      ]
     },
     "metadata": {},
     "output_type": "display_data"
    },
    {
     "name": "stdout",
     "output_type": "stream",
     "text": [
      "mega_sum:\r\n",
      "\tadd\tr1, r0, r1\r\n",
      "\tldr\tip, [sp]\r\n",
      "\tadd\tr1, r1, r2\r\n",
      "\tldr\tr0, [sp, #4]\r\n",
      "\tadd\tr1, r1, r3\r\n",
      "\tadd\tr1, r1, ip\r\n",
      "\tadd\tr0, r1, r0\r\n",
      "\tbx\tlr\r\n"
     ]
    }
   ],
   "source": [
    "%%cpp more_than_4.c\n",
    "%run arm-linux-gnueabi-gcc -marm more_than_4.c -O2 -S -o more_than_4.s\n",
    "%run cat more_than_4.s | grep -v \"^\\\\s*\\\\.\" | grep -v \"^\\\\s*@\"\n",
    "\n",
    "int mega_sum(int a1, int a2, int a3, int a4, int a5, int a6) {\n",
    "    return a1 + a2 + a3 + a4 + a5 + a6;\n",
    "}"
   ]
  },
  {
   "cell_type": "markdown",
   "metadata": {},
   "source": [
    "# Пример чтения структуры из ассемблера"
   ]
  },
  {
   "cell_type": "code",
   "execution_count": 83,
   "metadata": {},
   "outputs": [
    {
     "data": {
      "text/markdown": [
       "Run: `arm-linux-gnueabi-gcc -marm cut_struct.c -o cut_struct`"
      ],
      "text/plain": [
       "<IPython.core.display.Markdown object>"
      ]
     },
     "metadata": {},
     "output_type": "display_data"
    },
    {
     "data": {
      "text/markdown": [
       "Run: `qemu-arm -L ~/Downloads/sysroot-glibc-linaro-2.25-2018.05-arm-linux-gnueabi ./cut_struct`"
      ],
      "text/plain": [
       "<IPython.core.display.Markdown object>"
      ]
     },
     "metadata": {},
     "output_type": "display_data"
    },
    {
     "name": "stdout",
     "output_type": "stream",
     "text": [
      "Got c=123, i=100500, s=15000, c2=67"
     ]
    }
   ],
   "source": [
    "%%cpp cut_struct.c\n",
    "%run arm-linux-gnueabi-gcc -marm cut_struct.c -o cut_struct\n",
    "%run qemu-arm -L ~/Downloads/sysroot-glibc-linaro-2.25-2018.05-arm-linux-gnueabi ./cut_struct\n",
    "\n",
    "#include <stdio.h>\n",
    "#include <assert.h>\n",
    "\n",
    "struct Obj {\n",
    "    char c;\n",
    "    int i;\n",
    "    short s;\n",
    "    char c2;\n",
    "} __attribute__((packed));\n",
    "\n",
    "int cut_struct(struct Obj* obj, char* c, int* i, short* s, char* c2);\n",
    "__asm__ (R\"(\n",
    ".global cut_struct\n",
    "cut_struct:\n",
    "    push {r4, r5} // notice that we increase sp by pushing\n",
    "    ldr r4, [sp, #8] // get last arg from stack (in fact we use initial value of sp)\n",
    "    // r0 - s, r1 - c, r2 - i, r3 - s, r4 - c2\n",
    "    ldrb r5, [r0, #0]\n",
    "    strb r5, [r1]\n",
    "    ldr r5, [r0, #1]\n",
    "    str r5, [r2]\n",
    "    ldrh r5, [r0, #5]\n",
    "    strh r5, [r3]\n",
    "    ldrb r5, [r0, #7]\n",
    "    strb r5, [r4]\n",
    "    pop {r4, r5}\n",
    "    bx  lr\n",
    ")\");\n",
    "\n",
    "int test() {\n",
    "    struct Obj obj = {.c = 123, .i = 100500, .s = 15000, .c2 = 67};\n",
    "    char c = 0; int i = 0; short s = 0; char c2 = 0; // bad codestyle\n",
    "    cut_struct(&obj, &c, &i, &s, &c2);\n",
    "    fprintf(stderr, \"Got c=%d, i=%d, s=%d, c2=%d\", (int)c, (int)i, (int)s, (int)c2);\n",
    "    assert(c == obj.c && i == obj.i && s == obj.s && c2 == obj.c2);\n",
    "}\n",
    "\n",
    "int main() {\n",
    "    test();\n",
    "    return 0;\n",
    "}"
   ]
  },
  {
   "cell_type": "markdown",
   "metadata": {},
   "source": [
    "Можно сравнить с дизассемблером"
   ]
  },
  {
   "cell_type": "code",
   "execution_count": 84,
   "metadata": {},
   "outputs": [
    {
     "data": {
      "text/markdown": [
       "Run: `arm-linux-gnueabi-gcc -marm cut_struct_disasm.c -O2 -S -o cut_struct_disasm.s`"
      ],
      "text/plain": [
       "<IPython.core.display.Markdown object>"
      ]
     },
     "metadata": {},
     "output_type": "display_data"
    },
    {
     "data": {
      "text/markdown": [
       "Run: `cat cut_struct_disasm.s | grep -v \"^\\\\s*\\\\.\" | grep -v \"^\\\\s*@\"`"
      ],
      "text/plain": [
       "<IPython.core.display.Markdown object>"
      ]
     },
     "metadata": {},
     "output_type": "display_data"
    },
    {
     "name": "stdout",
     "output_type": "stream",
     "text": [
      "cut_struct:\r\n",
      "\tmov\tip, r0\r\n",
      "\tpush\t{r4, lr}\r\n",
      "\tldrb\tr4, [ip]\t@ zero_extendqisi2\r\n",
      "\tmov\tr0, lr\r\n",
      "\tldr\tlr, [sp, #8]\r\n",
      "\tstrb\tr4, [r1]\r\n",
      "\tldr\tr1, [ip, #1]\t@ unaligned\r\n",
      "\tstr\tr1, [r2]\r\n",
      "\tldrsh\tr2, [ip, #5]\t@ unaligned\r\n",
      "\tstrh\tr2, [r3]\t@ movhi\r\n",
      "\tldrb\tr3, [ip, #7]\t@ zero_extendqisi2\r\n",
      "\tstrb\tr3, [lr]\r\n",
      "\tpop\t{r4, pc}\r\n"
     ]
    }
   ],
   "source": [
    "%%cpp cut_struct_disasm.c\n",
    "%run arm-linux-gnueabi-gcc -marm cut_struct_disasm.c -O2 -S -o cut_struct_disasm.s\n",
    "%run cat cut_struct_disasm.s | grep -v \"^\\\\s*\\\\.\" | grep -v \"^\\\\s*@\"\n",
    "\n",
    "struct Obj {\n",
    "    char c;\n",
    "    int i;\n",
    "    short s;\n",
    "    char c2;\n",
    "} __attribute__((packed));\n",
    "\n",
    "int cut_struct(struct Obj* obj, char* c, int* i, short* s, char* c2) {\n",
    "    *c = obj->c;\n",
    "    *i = obj->i;\n",
    "    *s = obj->s;\n",
    "    *c2 = obj->c2;\n",
    "}"
   ]
  },
  {
   "cell_type": "code",
   "execution_count": null,
   "metadata": {},
   "outputs": [],
   "source": []
  },
  {
   "cell_type": "code",
   "execution_count": null,
   "metadata": {},
   "outputs": [],
   "source": []
  }
 ],
 "metadata": {
  "kernelspec": {
   "display_name": "Python 3",
   "language": "python",
   "name": "python3"
  },
  "language_info": {
   "codemirror_mode": {
    "name": "ipython",
    "version": 3
   },
   "file_extension": ".py",
   "mimetype": "text/x-python",
   "name": "python",
   "nbconvert_exporter": "python",
   "pygments_lexer": "ipython3",
   "version": "3.5.2"
  }
 },
 "nbformat": 4,
 "nbformat_minor": 2
}
