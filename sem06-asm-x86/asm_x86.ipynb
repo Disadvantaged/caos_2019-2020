{
 "cells": [
  {
   "cell_type": "code",
   "execution_count": 2,
   "metadata": {},
   "outputs": [
    {
     "data": {
      "application/javascript": [
       "// setup cpp code highlighting\n",
       "IPython.CodeCell.options_default.highlight_modes[\"text/x-c++src\"] = {'reg':[/^%%cpp/]} ;"
      ],
      "text/plain": [
       "<IPython.core.display.Javascript object>"
      ]
     },
     "metadata": {},
     "output_type": "display_data"
    }
   ],
   "source": [
    "# make magics here. Look at previous notebooks to see readable version\n",
    "exec('\\nget_ipython().run_cell_magic(\\'javascript\\', \\'\\', \\'// setup cpp code highlighting\\\\nIPython.CodeCell.options_default.highlight_modes[\"text/x-c++src\"] = {\\\\\\'reg\\\\\\':[/^%%cpp/]} ;\\')\\n\\n# creating magics\\nfrom IPython.core.magic import register_cell_magic, register_line_magic\\nfrom IPython.display import display, Markdown\\n\\n@register_cell_magic\\ndef save_file(fname, cell):\\n    cell = cell if cell[-1] == \\'\\\\n\\' else cell + \"\\\\n\"\\n    cmds = []\\n    with open(fname, \"w\") as f:\\n        for line in cell.split(\"\\\\n\"):\\n            if line.startswith(\"%\"):\\n                run_prefix = \"%run \"\\n                assert line.startswith(run_prefix)\\n                cmds.append(line[len(run_prefix):].strip())\\n            else:\\n                f.write(line + \"\\\\n\")\\n    for cmd in cmds:\\n        display(Markdown(\"Run: `%s`\" % cmd))\\n        get_ipython().system(cmd)\\n\\n@register_cell_magic\\ndef cpp(fname, cell):\\n    save_file(fname, cell)\\n\\n@register_cell_magic\\ndef asm(fname, cell):\\n    save_file(fname, cell)\\n    \\n@register_cell_magic\\ndef makefile(fname, cell):\\n    assert not fname\\n    save_file(\"makefile\", cell.replace(\" \" * 4, \"\\\\t\"))\\n        \\n@register_line_magic\\ndef p(line):\\n    print(\"{} = {}\".format(line, eval(line)))\\n')"
   ]
  },
  {
   "cell_type": "markdown",
   "metadata": {},
   "source": [
    "# Assembler x86\n",
    "\n",
    "* \xd0\x9c\xd0\xb0\xd0\xbb\xd0\xbe \xd1\x80\xd0\xb5\xd0\xb3\xd0\xb8\xd1\x81\xd1\x82\xd1\x80\xd0\xbe\xd0\xb2\n",
    "* \xd0\x9c\xd0\xbd\xd0\xbe\xd0\xb3\xd0\xbe \xd0\xba\xd0\xbe\xd0\xbc\xd0\xb0\xd0\xbd\xd0\xb4\n",
    "* \xd0\x9c\xd0\xbd\xd0\xbe\xd0\xb3\xd0\xbe \xd0\xbb\xd0\xb5\xd0\xb3\xd0\xb0\xd1\x81\xd0\xb8\n",
    "* \xd0\x9c\xd0\xbd\xd0\xbe\xd0\xb3\xd0\xbe \xd1\x81\xd0\xbe\xd0\xb3\xd0\xbb\xd0\xb0\xd1\x88\xd0\xb5\xd0\xbd\xd0\xb8\xd0\xb9 \xd0\xbe \xd0\xb2\xd1\x8b\xd0\xb7\xd0\xbe\xd0\xb2\xd0\xb0\xd1\x85\n",
    "* \xd0\xa0\xd0\xb0\xd0\xb7\xd0\xbd\xd1\x8b\xd0\xb5 \xd1\x81\xd0\xb8\xd0\xbd\xd1\x82\xd0\xb0\xd0\xba\xd1\x81\xd0\xb8\xd1\x81\xd1\x8b"
   ]
  },
  {
   "cell_type": "markdown",
   "metadata": {},
   "source": [
    "# Syntaxes\n",
    "### AT&T"
   ]
  },
  {
   "cell_type": "code",
   "execution_count": 2,
   "metadata": {},
   "outputs": [
    {
     "data": {
      "text/markdown": [
       "Run: `gcc -m32 -masm=att -O3 att_example.c -S -o att_example.S`"
      ],
      "text/plain": [
       "<IPython.core.display.Markdown object>"
      ]
     },
     "metadata": {},
     "output_type": "display_data"
    },
    {
     "data": {
      "text/markdown": [
       "Run: `cat att_example.S | grep -v \"^\\s*\\.\"`"
      ],
      "text/plain": [
       "<IPython.core.display.Markdown object>"
      ]
     },
     "metadata": {},
     "output_type": "display_data"
    },
    {
     "name": "stdout",
     "output_type": "stream",
     "text": [
      "sum:\r\n",
      "\tmovl\t8(%esp), %eax\r\n",
      "\taddl\t4(%esp), %eax\r\n",
      "\tret\r\n"
     ]
    }
   ],
   "source": [
    "%%cpp att_example.c\n",
    "%run gcc -m32 -masm=att -O3 att_example.c -S -o att_example.S\n",
    "%run cat att_example.S | grep -v \"^\\s*\\.\"\n",
    "\n",
    "#include <stdint.h>\n",
    "    \n",
    "int32_t sum(int32_t a, int32_t b) {\n",
    "    return a + b;\n",
    "}"
   ]
  },
  {
   "cell_type": "markdown",
   "metadata": {},
   "source": [
    "### Intel\n",
    "\n",
    "DWORD PTR \xe2\x80\x94 \xd1\x8d\xd1\x82\xd0\xbe \xd0\xbf\xd0\xb5\xd1\x80\xd0\xb5\xd0\xbc\xd0\xb5\xd0\xbd\xd0\xbd\xd0\xb0\xd1\x8f \xd1\x82\xd0\xb8\xd0\xbf\xd0\xb0 \xd0\xb4\xd0\xb2\xd0\xbe\xd0\xb9\xd0\xbd\xd0\xbe\xd0\xb3\xd0\xbe \xd1\x81\xd0\xbb\xd0\xbe\xd0\xb2\xd0\xb0. \xd0\xa1\xd0\xbb\xd0\xbe\xd0\xb2\xd0\xbe \xe2\x80\x94 \xd1\x8d\xd1\x82\xd0\xbe 16 \xd0\xb1\xd0\xb8\xd1\x82. \xd0\xa2\xd0\xb5\xd1\x80\xd0\xbc\xd0\xb8\xd0\xbd \xd0\xbf\xd0\xbe\xd0\xbb\xd1\x83\xd1\x87\xd0\xb8\xd0\xbb \xd1\x80\xd0\xb0\xd1\x81\xd0\xbf\xd1\x80\xd0\xbe\xd1\x81\xd1\x82\xd1\x80\xd0\xb0\xd0\xbd\xd0\xb5\xd0\xbd\xd0\xb8\xd0\xb5 \xd0\xb2 \xd1\x8d\xd0\xbf\xd0\xbe\xd1\x85\xd1\x83 16-\xd1\x82\xd0\xb8 \xd0\xb1\xd0\xb8\xd1\x82\xd0\xbd\xd1\x8b\xd1\x85 \xd0\xbf\xd1\x80\xd0\xbe\xd1\x86\xd0\xb5\xd1\x81\xd1\x81\xd0\xbe\xd1\x80\xd0\xbe\xd0\xb2, \xd1\x82\xd0\xbe\xd0\xb3\xd0\xb4\xd0\xb0 \xd0\xb2 \xd1\x80\xd0\xb5\xd0\xb3\xd0\xb8\xd1\x81\xd1\x82\xd1\x80 \xd0\xbf\xd0\xbe\xd0\xbc\xd0\xb5\xd1\x89\xd0\xb0\xd0\xbb\xd0\xbe\xd1\x81\xd1\x8c \xd1\x80\xd0\xbe\xd0\xb2\xd0\xbd\xd0\xbe 16 \xd0\xb1\xd0\xb8\xd1\x82. \xd0\xa2\xd0\xb0\xd0\xba\xd0\xbe\xd0\xb9 \xd0\xbe\xd0\xb1\xd1\x8a\xd0\xb5\xd0\xbc \xd0\xb8\xd0\xbd\xd1\x84\xd0\xbe\xd1\x80\xd0\xbc\xd0\xb0\xd1\x86\xd0\xb8\xd0\xb8 \xd1\x81\xd1\x82\xd0\xb0\xd0\xbb\xd0\xb8 \xd0\xbd\xd0\xb0\xd0\xb7\xd1\x8b\xd0\xb2\xd0\xb0\xd1\x82\xd1\x8c \xd1\x81\xd0\xbb\xd0\xbe\xd0\xb2\xd0\xbe\xd0\xbc (word). \xd0\xa2. \xd0\xb5. \xd0\xb2 \xd0\xbd\xd0\xb0\xd1\x88\xd0\xb5\xd0\xbc \xd1\x81\xd0\xbb\xd1\x83\xd1\x87\xd0\xb0\xd0\xb5 dword (double word) 2*16 = 32 \xd0\xb1\xd0\xb8\xd1\x82\xd0\xb0 = 4 \xd0\xb1\xd0\xb0\xd0\xb9\xd1\x82\xd0\xb0 (\xd0\xbe\xd0\xb1\xd1\x8b\xd1\x87\xd0\xbd\xd1\x8b\xd0\xb9 int). \n",
    "\n",
    "https://habr.com/ru/post/344896/"
   ]
  },
  {
   "cell_type": "code",
   "execution_count": 3,
   "metadata": {
    "scrolled": true
   },
   "outputs": [
    {
     "data": {
      "text/markdown": [
       "Run: `gcc -m32 -masm=intel -O3 att_example.c -S -o att_example.S`"
      ],
      "text/plain": [
       "<IPython.core.display.Markdown object>"
      ]
     },
     "metadata": {},
     "output_type": "display_data"
    },
    {
     "data": {
      "text/markdown": [
       "Run: `cat att_example.S | grep -v \"^\\s*\\.\"`"
      ],
      "text/plain": [
       "<IPython.core.display.Markdown object>"
      ]
     },
     "metadata": {},
     "output_type": "display_data"
    },
    {
     "name": "stdout",
     "output_type": "stream",
     "text": [
      "sum:\r\n",
      "\tmov\teax, DWORD PTR [esp+8]\r\n",
      "\tadd\teax, DWORD PTR [esp+4]\r\n",
      "\tret\r\n"
     ]
    }
   ],
   "source": [
    "%%cpp att_example.c\n",
    "%run gcc -m32 -masm=intel -O3 att_example.c -S -o att_example.S\n",
    "%run cat att_example.S | grep -v \"^\\s*\\.\"\n",
    "\n",
    "#include <stdint.h>\n",
    "    \n",
    "int32_t sum(int32_t a, int32_t b) {\n",
    "    return a + b;\n",
    "}"
   ]
  },
  {
   "cell_type": "markdown",
   "metadata": {},
   "source": [
    "# \xd0\x9f\xd0\xb8\xd1\x88\xd0\xb5\xd0\xbc \xd1\x84\xd1\x83\xd0\xbd\xd0\xba\xd1\x86\xd0\xb8\xd1\x8e clamp \xd1\x82\xd1\x80\xd0\xb5\xd0\xbc\xd1\x8f \xd1\x81\xd0\xbf\xd0\xbe\xd1\x81\xd0\xbe\xd0\xb1\xd0\xb0\xd0\xbc\xd0\xb8"
   ]
  },
  {
   "cell_type": "code",
   "execution_count": 21,
   "metadata": {},
   "outputs": [],
   "source": [
    "%%asm clamp_disasm.S\n",
    ".intel_syntax noprefix\n",
    ".text\n",
    ".globl clamp\n",
    "clamp:\n",
    "    mov edx, DWORD PTR [esp+4]\n",
    "    mov eax, DWORD PTR [esp+8]\n",
    "    cmp edx, eax\n",
    "    jl .L2\n",
    "    cmp edx, DWORD PTR [esp+12]\n",
    "    mov eax, edx\n",
    "    cmovg eax, DWORD PTR [esp+12]\n",
    ".L2:\n",
    "    rep ret"
   ]
  },
  {
   "cell_type": "code",
   "execution_count": 25,
   "metadata": {},
   "outputs": [],
   "source": [
    "%%asm clamp_if.S\n",
    ".intel_syntax noprefix\n",
    ".text\n",
    ".globl clamp\n",
    "clamp:\n",
    "    mov edx, DWORD PTR [esp + 4] // X\n",
    "    mov eax, DWORD PTR [esp + 8] // A\n",
    "    cmp edx, eax\n",
    "    jl return_eax // return A if X < A\n",
    "    mov eax, DWORD PTR [esp + 12] // B\n",
    "    cmp edx, eax\n",
    "    jg return_eax // return B if X > B\n",
    "    mov eax, edx\n",
    "return_eax:\n",
    "    ret"
   ]
  },
  {
   "cell_type": "code",
   "execution_count": 26,
   "metadata": {},
   "outputs": [],
   "source": [
    "%%asm clamp_cmov.S\n",
    ".intel_syntax noprefix\n",
    ".text\n",
    ".globl clamp\n",
    "clamp:\n",
    "    mov eax, DWORD PTR [esp + 4] // X\n",
    "    mov edx, DWORD PTR [esp + 8] // A\n",
    "    cmp eax, edx\n",
    "    cmovl eax, edx               // if (X < A) X = A \n",
    "    mov edx, DWORD PTR [esp + 12] // B\n",
    "    cmp eax, edx\n",
    "    cmovg eax, edx               // if (X > B) X = B\n",
    "    ret"
   ]
  },
  {
   "cell_type": "code",
   "execution_count": 27,
   "metadata": {},
   "outputs": [
    {
     "data": {
      "text/markdown": [
       "Run: `gcc -m32 -masm=intel -O2 clamp.S clamp_test.c -o clamp_test.exe`"
      ],
      "text/plain": [
       "<IPython.core.display.Markdown object>"
      ]
     },
     "metadata": {},
     "output_type": "display_data"
    },
    {
     "data": {
      "text/markdown": [
       "Run: `./clamp_test.exe`"
      ],
      "text/plain": [
       "<IPython.core.display.Markdown object>"
      ]
     },
     "metadata": {},
     "output_type": "display_data"
    },
    {
     "name": "stdout",
     "output_type": "stream",
     "text": [
      "All is OK"
     ]
    },
    {
     "data": {
      "text/markdown": [
       "Run: `gcc -m32 -masm=intel -O2 clamp_if.S clamp_test.c -o clamp_if_test.exe`"
      ],
      "text/plain": [
       "<IPython.core.display.Markdown object>"
      ]
     },
     "metadata": {},
     "output_type": "display_data"
    },
    {
     "data": {
      "text/markdown": [
       "Run: `./clamp_if_test.exe`"
      ],
      "text/plain": [
       "<IPython.core.display.Markdown object>"
      ]
     },
     "metadata": {},
     "output_type": "display_data"
    },
    {
     "name": "stdout",
     "output_type": "stream",
     "text": [
      "All is OK"
     ]
    },
    {
     "data": {
      "text/markdown": [
       "Run: `gcc -m32 -masm=intel -O2 clamp_cmov.S clamp_test.c -o clamp_cmov_test.exe`"
      ],
      "text/plain": [
       "<IPython.core.display.Markdown object>"
      ]
     },
     "metadata": {},
     "output_type": "display_data"
    },
    {
     "data": {
      "text/markdown": [
       "Run: `./clamp_cmov_test.exe`"
      ],
      "text/plain": [
       "<IPython.core.display.Markdown object>"
      ]
     },
     "metadata": {},
     "output_type": "display_data"
    },
    {
     "name": "stdout",
     "output_type": "stream",
     "text": [
      "All is OK"
     ]
    }
   ],
   "source": [
    "%%cpp clamp_test.c\n",
    "// compile and test using all three asm clamp implementations\n",
    "%run gcc -m32 -masm=intel -O2 clamp.S clamp_test.c -o clamp_test.exe\n",
    "%run ./clamp_test.exe\n",
    "%run gcc -m32 -masm=intel -O2 clamp_if.S clamp_test.c -o clamp_if_test.exe\n",
    "%run ./clamp_if_test.exe\n",
    "%run gcc -m32 -masm=intel -O2 clamp_cmov.S clamp_test.c -o clamp_cmov_test.exe\n",
    "%run ./clamp_cmov_test.exe\n",
    "\n",
    "#include <stdint.h>\n",
    "#include <stdio.h>\n",
    "#include <assert.h>\n",
    "    \n",
    "int32_t clamp(int32_t a, int32_t b, int32_t c);\n",
    "\n",
    "int main() {\n",
    "    assert(clamp(1, 10, 20) == 10);\n",
    "    assert(clamp(100, 10, 20) == 20);\n",
    "    assert(clamp(15, 10, 20) == 15);\n",
    "    fprintf(stderr, \"All is OK\");\n",
    "    return 0;\n",
    "}"
   ]
  },
  {
   "cell_type": "markdown",
   "metadata": {},
   "source": [
    "# Inline ASM\n",
    "http://asm.sourceforge.net/articles/linasm.html"
   ]
  },
  {
   "cell_type": "code",
   "execution_count": 29,
   "metadata": {},
   "outputs": [
    {
     "data": {
      "text/markdown": [
       "Run: `gcc -m32 -masm=intel -O2 clamp_inline_test.c -o clamp_inline_test.exe`"
      ],
      "text/plain": [
       "<IPython.core.display.Markdown object>"
      ]
     },
     "metadata": {},
     "output_type": "display_data"
    },
    {
     "data": {
      "text/markdown": [
       "Run: `./clamp_inline_test.exe`"
      ],
      "text/plain": [
       "<IPython.core.display.Markdown object>"
      ]
     },
     "metadata": {},
     "output_type": "display_data"
    },
    {
     "name": "stdout",
     "output_type": "stream",
     "text": [
      "All is OK"
     ]
    }
   ],
   "source": [
    "%%cpp clamp_inline_test.c\n",
    "%run gcc -m32 -masm=intel -O2 clamp_inline_test.c -o clamp_inline_test.exe\n",
    "%run ./clamp_inline_test.exe\n",
    "\n",
    "#include <stdint.h>\n",
    "#include <stdio.h>\n",
    "#include <assert.h>\n",
    "    \n",
    "int32_t clamp(int32_t a, int32_t b, int32_t c);\n",
    "__asm__(R\"(\n",
    "clamp:\n",
    "    mov eax, DWORD PTR [esp + 4]\n",
    "    mov edx, DWORD PTR [esp + 8]\n",
    "    cmp eax, edx\n",
    "    cmovl eax, edx\n",
    "    mov edx, DWORD PTR [esp + 12]\n",
    "    cmp eax, edx\n",
    "    cmovg eax, edx\n",
    "    ret\n",
    ")\");\n",
    "\n",
    "int main() {\n",
    "    assert(clamp(1, 10, 20) == 10);\n",
    "    assert(clamp(100, 10, 20) == 20);\n",
    "    assert(clamp(15, 10, 20) == 15);\n",
    "    fprintf(stderr, \"All is OK\");\n",
    "    return 0;\n",
    "}"
   ]
  },
  {
   "cell_type": "markdown",
   "metadata": {},
   "source": [
    "# \xd0\x9f\xd0\xbe\xd1\x80\xd0\xb0\xd0\xb1\xd0\xbe\xd1\x82\xd0\xb0\xd0\xb5\xd0\xbc \xd1\x81 \xd0\xbf\xd0\xb0\xd0\xbc\xd1\x8f\xd1\x82\xd1\x8c\xd1\x8e\n",
    "\n",
    "\xd0\x94\xd0\xb0\xd0\xbd\xd1\x8b n, x. \xd0\x9f\xd0\xbe\xd1\x81\xd1\x87\xd0\xb8\xd1\x82\xd0\xb0\xd0\xb5\xd0\xbc $\\sum_{i=0}^{n - 1} (-1)^i \\cdot x[i]$"
   ]
  },
  {
   "cell_type": "code",
   "execution_count": 9,
   "metadata": {},
   "outputs": [],
   "source": [
    "%%asm my_sum.S\n",
    ".intel_syntax noprefix\n",
    ".text\n",
    ".globl my_sum\n",
    "my_sum:\n",
    "    push ebx\n",
    "    mov eax, 0\n",
    "    mov edx, DWORD PTR [esp + 8]\n",
    "    mov ebx, DWORD PTR [esp + 12]\n",
    "start_loop:\n",
    "    cmp edx, 0\n",
    "    jle return_eax\n",
    "    add eax, DWORD PTR [ebx]\n",
    "    add ebx, 4\n",
    "    dec edx\n",
    "    \n",
    "    cmp edx, 0\n",
    "    jle return_eax\n",
    "    sub eax, DWORD PTR [ebx]\n",
    "    add ebx, 4\n",
    "    dec edx\n",
    "    \n",
    "    jmp start_loop\n",
    "return_eax:\n",
    "    pop ebx\n",
    "    ret"
   ]
  },
  {
   "cell_type": "code",
   "execution_count": 10,
   "metadata": {},
   "outputs": [
    {
     "data": {
      "text/markdown": [
       "Run: `gcc -g3 -m32 -masm=intel my_sum_test.c my_sum.S -o my_sum_test.exe`"
      ],
      "text/plain": [
       "<IPython.core.display.Markdown object>"
      ]
     },
     "metadata": {},
     "output_type": "display_data"
    },
    {
     "data": {
      "text/markdown": [
       "Run: `./my_sum_test.exe`"
      ],
      "text/plain": [
       "<IPython.core.display.Markdown object>"
      ]
     },
     "metadata": {},
     "output_type": "display_data"
    }
   ],
   "source": [
    "%%cpp my_sum_test.c\n",
    "%run gcc -g3 -m32 -masm=intel my_sum_test.c my_sum.S -o my_sum_test.exe\n",
    "%run ./my_sum_test.exe\n",
    "\n",
    "#include <stdint.h>\n",
    "#include <stdio.h>\n",
    "#include <assert.h>\n",
    "    \n",
    "int32_t my_sum(int32_t n, int32_t* x);\n",
    "\n",
    "int main() {\n",
    "    int32_t x[] = {100, 2, 200, 3};\n",
    "    assert(my_sum(sizeof(x) / sizeof(int32_t), x) == 100 - 2 + 200 - 3);\n",
    "    int32_t y[] = {100, 2, 200};\n",
    "    assert(my_sum(sizeof(y) / sizeof(int32_t), y) == 100 - 2 + 200);\n",
    "    return 0;\n",
    "}"
   ]
  },
  {
   "cell_type": "markdown",
   "metadata": {},
   "source": [
    "# \xd0\xa0\xd0\xb0\xd0\xb7\xd0\xb2\xd0\xbb\xd0\xb5\xd0\xba\xd0\xb0\xd1\x82\xd0\xb5\xd0\xbb\xd1\x8c\xd0\xbd\xd0\xbe-\xd0\xbf\xd0\xbe\xd0\xb7\xd0\xbd\xd0\xb0\xd0\xb2\xd0\xb0\xd1\x82\xd0\xb5\xd0\xbb\xd1\x8c\xd0\xbd\xd0\xb0\xd1\x8f \xd1\x87\xd0\xb0\xd1\x81\xd1\x82\xd1\x8c"
   ]
  },
  {
   "cell_type": "code",
   "execution_count": 6,
   "metadata": {},
   "outputs": [
    {
     "data": {
      "text/markdown": [
       "Run: `gcc -m32 -masm=intel -O3 mul.c -S -o mul.S`"
      ],
      "text/plain": [
       "<IPython.core.display.Markdown object>"
      ]
     },
     "metadata": {},
     "output_type": "display_data"
    },
    {
     "data": {
      "text/markdown": [
       "Run: `cat mul.S | grep -v \"^\\s*\\.\"`"
      ],
      "text/plain": [
       "<IPython.core.display.Markdown object>"
      ]
     },
     "metadata": {},
     "output_type": "display_data"
    },
    {
     "name": "stdout",
     "output_type": "stream",
     "text": [
      "mul:\r\n",
      "\tmov\teax, DWORD PTR [esp+4]\r\n",
      "\tlea\tedx, [eax+eax*2]\r\n",
      "\tlea\teax, [eax+edx*4]\r\n",
      "\tret\r\n"
     ]
    }
   ],
   "source": [
    "%%cpp mul.c\n",
    "%run gcc -m32 -masm=intel -O3 mul.c -S -o mul.S\n",
    "%run cat mul.S | grep -v \"^\\s*\\.\"\n",
    "\n",
    "#include <stdint.h>\n",
    "    \n",
    "int32_t mul(int32_t a) { \n",
    "    return a * 13;\n",
    "}"
   ]
  },
  {
   "cell_type": "code",
   "execution_count": 42,
   "metadata": {},
   "outputs": [
    {
     "data": {
      "text/markdown": [
       "Run: `gcc -m32 -masm=intel -O3 div.c -S -o div.S`"
      ],
      "text/plain": [
       "<IPython.core.display.Markdown object>"
      ]
     },
     "metadata": {},
     "output_type": "display_data"
    },
    {
     "data": {
      "text/markdown": [
       "Run: `cat div.S | grep -v \"^\\s*\\.\" | grep -v \"^\\s*\\#\"`"
      ],
      "text/plain": [
       "<IPython.core.display.Markdown object>"
      ]
     },
     "metadata": {},
     "output_type": "display_data"
    },
    {
     "name": "stdout",
     "output_type": "stream",
     "text": [
      "div:\r\n",
      "\tmov\tedx, DWORD PTR [esp+4]\r\n",
      "\tlea\teax, [edx+3]\r\n",
      "\ttest\tedx, edx\r\n",
      "\tcmovns\teax, edx\r\n",
      "\tsar\teax, 2\r\n",
      "\tret\r\n",
      "udiv:\r\n",
      "\tmov\teax, DWORD PTR [esp+4]\r\n",
      "\tshr\teax\r\n",
      "\tret\r\n"
     ]
    }
   ],
   "source": [
    "%%cpp div.c\n",
    "%run gcc -m32 -masm=intel -O3 div.c -S -o div.S\n",
    "%run cat div.S | grep -v \"^\\s*\\.\" | grep -v \"^\\s*\\#\"\n",
    "\n",
    "#include <stdint.h>\n",
    "    \n",
    "int32_t div(int32_t a) { \n",
    "    return a / 4;\n",
    "}\n",
    "\n",
    "uint32_t udiv(uint32_t a) { \n",
    "    return a / 2;\n",
    "}"
   ]
  },
  {
   "cell_type": "code",
   "execution_count": 13,
   "metadata": {},
   "outputs": [
    {
     "data": {
      "text/markdown": [
       "Run: `gcc -m32 -masm=intel -O3 simdiv.c -o simdiv.exe`"
      ],
      "text/plain": [
       "<IPython.core.display.Markdown object>"
      ]
     },
     "metadata": {},
     "output_type": "display_data"
    },
    {
     "data": {
      "text/markdown": [
       "Run: `./simdiv.exe`"
      ],
      "text/plain": [
       "<IPython.core.display.Markdown object>"
      ]
     },
     "metadata": {},
     "output_type": "display_data"
    }
   ],
   "source": [
    "%%cpp simdiv.c\n",
    "%run gcc -m32 -masm=intel -O3 simdiv.c -o simdiv.exe\n",
    "%run ./simdiv.exe\n",
    "\n",
    "#include <stdint.h>\n",
    "#include <assert.h>\n",
    "    \n",
    "int32_t simdiv(int32_t a) { \n",
    "    uint32_t eax = ((uint32_t)a >> 31) + a;\n",
    "    __asm__(\"sar %0\" : \"=a\"(eax) : \"a\"(eax));\n",
    "    return eax;\n",
    "}\n",
    "\n",
    "int main() {\n",
    "    assert(simdiv(1) == 0);\n",
    "    assert(simdiv(5) == 2);\n",
    "    assert(simdiv(-1) == 0);\n",
    "    assert(simdiv(-5) == -2);\n",
    "}"
   ]
  },
  {
   "cell_type": "code",
   "execution_count": null,
   "metadata": {},
   "outputs": [],
   "source": []
  },
  {
   "cell_type": "markdown",
   "metadata": {},
   "source": [
    "# Inline ASM\n",
    "http://asm.sourceforge.net/articles/linasm.html"
   ]
  },
  {
   "cell_type": "code",
   "execution_count": null,
   "metadata": {},
   "outputs": [],
   "source": []
  },
  {
   "cell_type": "code",
   "execution_count": null,
   "metadata": {},
   "outputs": [],
   "source": []
  },
  {
   "cell_type": "markdown",
   "metadata": {},
   "source": [
    "# TMP"
   ]
  },
  {
   "cell_type": "code",
   "execution_count": 12,
   "metadata": {},
   "outputs": [
    {
     "data": {
      "text/markdown": [
       "Run: `gcc -fno-PIC -m32 -masm=intel -O3 tmp.c -S -o tmp.S`"
      ],
      "text/plain": [
       "<IPython.core.display.Markdown object>"
      ]
     },
     "metadata": {},
     "output_type": "display_data"
    },
    {
     "data": {
      "text/markdown": [
       "Run: `cat tmp.S | grep -v \"^\\s*\\.cfi\"`"
      ],
      "text/plain": [
       "<IPython.core.display.Markdown object>"
      ]
     },
     "metadata": {},
     "output_type": "display_data"
    },
    {
     "name": "stdout",
     "output_type": "stream",
     "text": [
      "\t.file\t\"tmp.c\"\r\n",
      "\t.intel_syntax noprefix\r\n",
      "\t.section\t.text.unlikely,\"ax\",@progbits\r\n",
      ".LCOLDB0:\r\n",
      "\t.text\r\n",
      ".LHOTB0:\r\n",
      "\t.p2align 4,,15\r\n",
      "\t.globl\tsumm\r\n",
      "\t.type\tsumm, @function\r\n",
      "summ:\r\n",
      ".LFB0:\r\n",
      "\tmov\teax, DWORD PTR N\r\n",
      "\ttest\teax, eax\r\n",
      "\tjle\t.L8\r\n",
      "\tpush\tesi\r\n",
      "\tmov\tecx, DWORD PTR B\r\n",
      "\txor\teax, eax\r\n",
      "\tpush\tebx\r\n",
      "\tmov\tesi, DWORD PTR R\r\n",
      "\tmov\tebx, DWORD PTR A\r\n",
      "\t.p2align 4,,10\r\n",
      "\t.p2align 3\r\n",
      ".L3:\r\n",
      "\tmov\tedx, DWORD PTR [ecx+eax*4]\r\n",
      "\tadd\tedx, DWORD PTR [ebx+eax*4]\r\n",
      "\tmov\tDWORD PTR [esi+eax*4], edx\r\n",
      "\tadd\teax, 1\r\n",
      "\tcmp\tDWORD PTR N, eax\r\n",
      "\tjg\t.L3\r\n",
      "\tpop\tebx\r\n",
      "\tpop\tesi\r\n",
      ".L8:\r\n",
      "\trep ret\r\n",
      ".LFE0:\r\n",
      "\t.size\tsumm, .-summ\r\n",
      "\t.section\t.text.unlikely\r\n",
      ".LCOLDE0:\r\n",
      "\t.text\r\n",
      ".LHOTE0:\r\n",
      "\t.ident\t\"GCC: (Ubuntu 5.4.0-6ubuntu1~16.04.10) 5.4.0 20160609\"\r\n",
      "\t.section\t.note.GNU-stack,\"\",@progbits\r\n"
     ]
    }
   ],
   "source": [
    "%%cpp tmp.c\n",
    "%run gcc -fno-PIC -m32 -masm=intel -O3 tmp.c -S -o tmp.S\n",
    "%run cat tmp.S | grep -v \"^\\s*\\.cfi\"\n",
    "\n",
    "extern int N;\n",
    "extern int *A;\n",
    "extern int *B;\n",
    "extern int *R;\n",
    "\n",
    "extern void summ() {\n",
    "    for (int i = 0; i < N; ++i) {\n",
    "        R[i] = A[i] + B[i];\n",
    "    }\n",
    "}"
   ]
  },
  {
   "cell_type": "code",
   "execution_count": 18,
   "metadata": {},
   "outputs": [
    {
     "data": {
      "text/markdown": [
       "Run: `gcc -fno-PIC -m32 -O3 tmp.S -c -o tmp.o`"
      ],
      "text/plain": [
       "<IPython.core.display.Markdown object>"
      ]
     },
     "metadata": {},
     "output_type": "display_data"
    },
    {
     "name": "stdout",
     "output_type": "stream",
     "text": [
      "tmp.S: Assembler messages:\r\n",
      "tmp.S:14: Error: too many memory references for `mov'\r\n",
      "tmp.S:15: Error: too many memory references for `mov'\r\n",
      "tmp.S:16: Error: too many memory references for `mov'\r\n",
      "tmp.S:17: Error: too many memory references for `add'\r\n",
      "tmp.S:19: Error: too many memory references for `mov'\r\n",
      "tmp.S:20: Error: too many memory references for `sub'\r\n",
      "tmp.S:21: Error: too many memory references for `add'\r\n",
      "tmp.S:22: Error: too many memory references for `add'\r\n",
      "tmp.S:23: Error: too many memory references for `sub'\r\n",
      "tmp.S:25: Error: too many memory references for `mov'\r\n",
      "tmp.S:26: Error: too many memory references for `mov'\r\n",
      "tmp.S:27: Error: too many memory references for `add'\r\n",
      "tmp.S:28: Error: too many memory references for `cmp'\r\n",
      "tmp.S:30: Error: too many memory references for `mov'\r\n",
      "tmp.S:31: Error: too many memory references for `mov'\r\n",
      "tmp.S:32: Error: too many memory references for `add'\r\n",
      "tmp.S:33: Error: too many memory references for `cmp'\r\n",
      "tmp.S:35: Error: too many memory references for `mov'\r\n",
      "tmp.S:36: Error: too many memory references for `mov'\r\n",
      "tmp.S:37: Error: too many memory references for `add'\r\n",
      "tmp.S:38: Error: too many memory references for `mov'\r\n",
      "tmp.S:39: Error: too many memory references for `mov'\r\n",
      "tmp.S:40: Error: too many memory references for `add'\r\n",
      "tmp.S:41: Error: too many memory references for `mov'\r\n",
      "tmp.S:53: Error: too many memory references for `mov'\r\n",
      "tmp.S:54: Error: too many memory references for `add'\r\n",
      "tmp.S:55: Error: too many memory references for `lea'\r\n",
      "tmp.S:56: Error: too many memory references for `cmp'\r\n",
      "tmp.S:59: Error: junk `PTR [edx]' after expression\r\n",
      "tmp.S:59: Error: too many memory references for `mov'\r\n",
      "tmp.S:60: Error: too many memory references for `add'\r\n",
      "tmp.S:64: Error: junk `PTR [edx]' after expression\r\n",
      "tmp.S:64: Error: too many memory references for `mov'\r\n",
      "tmp.S:65: Error: too many memory references for `add'\r\n",
      "tmp.S:69: Error: too many memory references for `mov'\r\n",
      "tmp.S:70: Error: too many memory references for `add'\r\n",
      "tmp.S:71: Error: too many memory references for `mov'\r\n",
      "tmp.S:72: Error: too many memory references for `cmp'\r\n",
      "tmp.S:74: Error: too many memory references for `mov'\r\n",
      "tmp.S:75: Error: too many memory references for `mov'\r\n",
      "tmp.S:76: Error: too many memory references for `mov'\r\n",
      "tmp.S:77: Error: too many memory references for `add'\r\n",
      "tmp.S:78: Error: too many memory references for `lea'\r\n",
      "tmp.S:79: Error: junk `PTR [ebx]' after expression\r\n",
      "tmp.S:79: Error: too many memory references for `mov'\r\n",
      "tmp.S:80: Error: too many memory references for `add'\r\n",
      "tmp.S:87: Error: too many memory references for `mov'\r\n",
      "tmp.S:88: Error: too many memory references for `add'\r\n",
      "tmp.S:89: Error: too many memory references for `mov'\r\n",
      "tmp.S:90: Error: too many memory references for `cmp'\r\n",
      "tmp.S:92: Error: too many memory references for `mov'\r\n",
      "tmp.S:93: Error: too many memory references for `mov'\r\n",
      "tmp.S:94: Error: too many memory references for `mov'\r\n",
      "tmp.S:95: Error: too many memory references for `add'\r\n",
      "tmp.S:96: Error: too many memory references for `lea'\r\n",
      "tmp.S:97: Error: junk `PTR [ebx]' after expression\r\n",
      "tmp.S:97: Error: too many memory references for `mov'\r\n",
      "tmp.S:98: Error: too many memory references for `add'\r\n",
      "tmp.S:103: Error: too many memory references for `mov'\r\n",
      "tmp.S:104: Error: too many memory references for `mov'\r\n",
      "tmp.S:105: Error: too many memory references for `mov'\r\n",
      "tmp.S:106: Error: too many memory references for `lea'\r\n",
      "tmp.S:107: Error: too many memory references for `mov'\r\n",
      "tmp.S:108: Error: too many memory references for `add'\r\n",
      "tmp.S:110: Error: too many memory references for `cmp'\r\n",
      "tmp.S:112: Error: too many memory references for `mov'\r\n",
      "tmp.S:113: Error: junk `PTR [eax+4*edx]' after expression\r\n",
      "tmp.S:113: Error: too many memory references for `mov'\r\n",
      "tmp.S:114: Error: too many memory references for `add'\r\n",
      "tmp.S:120: Error: too many memory references for `mov'\r\n",
      "tmp.S:121: Error: too many memory references for `sub'\r\n",
      "tmp.S:122: Error: too many memory references for `add'\r\n",
      "tmp.S:123: Error: too many memory references for `add'\r\n",
      "tmp.S:124: Error: too many memory references for `add'\r\n",
      "tmp.S:138: Error: too many memory references for `mov'\r\n",
      "tmp.S:139: Error: too many memory references for `mov'\r\n",
      "tmp.S:140: Error: too many memory references for `mov'\r\n",
      "tmp.S:141: Error: too many memory references for `sub'\r\n",
      "tmp.S:142: Error: too many memory references for `mov'\r\n",
      "tmp.S:143: Error: too many memory references for `mov'\r\n",
      "tmp.S:145: Error: too many memory references for `cmp'\r\n",
      "tmp.S:147: Error: too many memory references for `mov'\r\n",
      "tmp.S:148: Error: too many memory references for `add'\r\n",
      "tmp.S:149: Error: too many memory references for `mov'\r\n",
      "tmp.S:150: Error: junk `PTR [edx+4 * eax]' after expression\r\n",
      "tmp.S:150: Error: too many memory references for `mov'\r\n",
      "tmp.S:151: Error: too many memory references for `add'\r\n",
      "tmp.S:154: Error: too many memory references for `mov'\r\n",
      "tmp.S:157: Error: too many memory references for `cmp'\r\n",
      "tmp.S:159: Error: too many memory references for `mov'\r\n",
      "tmp.S:160: Error: too many memory references for `mov'\r\n",
      "tmp.S:161: Error: too many memory references for `sub'\r\n",
      "tmp.S:164: Error: too many memory references for `cmp'\r\n",
      "tmp.S:166: Error: too many memory references for `mov'\r\n",
      "tmp.S:167: Error: too many memory references for `add'\r\n",
      "tmp.S:168: Error: too many memory references for `add'\r\n",
      "tmp.S:169: Error: too many memory references for `cmp'\r\n",
      "tmp.S:172: Error: too many memory references for `mov'\r\n",
      "tmp.S:179: Error: too many memory references for `add'\r\n",
      "tmp.S:181: Error: too many memory references for `sub'\r\n",
      "tmp.S:185: Error: too many memory references for `add'\r\n",
      "tmp.S:191: Error: too many memory references for `add'\r\n",
      "tmp.S:192: Error: too many memory references for `add'\r\n",
      "tmp.S:196: Error: too many memory references for `add'\r\n"
     ]
    }
   ],
   "source": [
    "%%asm tmp.S\n",
    "%run gcc -fno-PIC -m32 -O3 tmp.S -c -o tmp.o\n",
    "\n",
    ".intel_syntax noprefix\n",
    ".text\n",
    "        .globl  merge\n",
    "        .globl  mergesort\n",
    "unsign:\n",
    "        .string \"HERE: %d \\n\"  /* DELETE IT */\n",
    "merge:\n",
    "        // stack :: adr, arr, left, mid, right\n",
    "        push ebp\n",
    "        push edi\n",
    "        push esi\n",
    "        push ebx\n",
    "\n",
    "        mov esi, 0 /* it1 = 0 */\n",
    "        mov edi, 0 /* it2 = 0 */\n",
    "        mov ebp, esp /* ebp = esp */\n",
    "        add ebp, 16 /* ebp - initial esp */\n",
    "\n",
    "        mov ecx, DWORD PTR [ebp + 16]\n",
    "        sub ecx, DWORD PTR [ebp + 8] /* ecx = shift = right - left */\n",
    "        add ecx, ecx\n",
    "        add ecx, ecx /* ecx *= 4*/\n",
    "        sub esp, ecx /* esp -= shift */\n",
    "cycle1:\n",
    "        mov eax, DWORD PTR [ebp + 8] /* eax = left */\n",
    "        mov ebx, DWORD PTR [ebp + 12] /* ebx = mid */\n",
    "        add eax, esi /* eax += it1 */\n",
    "        cmp eax, ebx /* left + it1 < mid ??? */\n",
    "        jge cycle2\n",
    "        mov eax, DWORD PTR [ebp + 12] /* eax = mid */\n",
    "        mov ebx, DWORD PTR [ebp + 16] /* ebx = right */\n",
    "        add eax, edi /* eax += it2*/\n",
    "        cmp eax, ebx\n",
    "        jge cycle2\n",
    "        mov eax, DWORD PTR [ebp + 4] /* eax = arr */\n",
    "        mov ebx, DWORD PTR [ebp + 8] /* ebx = left */\n",
    "        add ebx, esi /* ebx += it1 */\n",
    "        mov ebx, DWORD PTR [eax + 4*ebx] /* ebx = arr[ebx] = arr[ left + it1 ] */\n",
    "        mov ecx, DWORD PTR [ebp + 12] /* ecx = mid */\n",
    "        add ecx, edi /* ecx += it2*/\n",
    "        mov ecx, DWORD PTR [eax + 4*ecx] /* ecx = arr[ecx] = arr[ mid + it2] */\n",
    "\n",
    "\n",
    "        /*push  ebx\n",
    "        push    ecx\n",
    "        push    OFFSET FLAT:unsign\n",
    "        call    printf /* printf(\"%u\", eax) */\n",
    "        /*add   esp, 12 /* return sp to the initial value*/\n",
    "\n",
    "\n",
    "\n",
    "\n",
    "        mov eax, esi\n",
    "        add eax, edi /* eax = it1 + it2 */\n",
    "        lea edx, DWORD PTR [esp + 4*eax] /* edx = esp + eax = result + it1+it2 */\n",
    "        cmp ebx, ecx /* arr[left + id1] < arr[mid + it2]??? */\n",
    "        jge case2\n",
    "        /* case 1 here */\n",
    "        mov DWORD PTR [edx], ebx /* *edx = arr[ left + it1]*/\n",
    "        add esi, 1 /* ++it1 */\n",
    "        jmp cycle1\n",
    "\n",
    "case2: /* arr[left + it1] >= arr[mid + it2] */\n",
    "        mov DWORD PTR [edx], ecx /* *edx = arr[ mid + it2]*/\n",
    "        add edi, 1 /* ++it2 */\n",
    "        jmp cycle1\n",
    "\n",
    "cycle2:\n",
    "        mov eax, DWORD PTR [ebp + 8] /* eax = left */\n",
    "        add eax, esi /* eax += it1 */\n",
    "        mov ebx, DWORD PTR [ebp + 12] /* ebx = mid */\n",
    "        cmp eax, ebx /* left + it1 < mid ??? */\n",
    "        jge cycle3 /* >= -> next cycle */\n",
    "        mov ebx, DWORD PTR [ebp + 4] /* ebx = arr */\n",
    "        mov eax, DWORD PTR [ebx + 4*eax] /* eax = arr[eax] = arr[left + it1]*/\n",
    "        mov ebx, esi\n",
    "        add ebx, edi /* ebx = it1 + it2*/\n",
    "        lea ebx, DWORD PTR [esp + 4*ebx] /* ebx = result + it1 + it2]*/\n",
    "        mov DWORD PTR [ebx], eax /* result[it1+it2] = eax */\n",
    "        add esi, 1 /* ++it1*/\n",
    "        jmp cycle2\n",
    "\n",
    "\n",
    "\n",
    "\n",
    "cycle3:\n",
    "        mov eax, DWORD PTR [ebp + 12] /* eax = mid */\n",
    "        add eax, edi /* eax += it2 */\n",
    "        mov ebx, DWORD PTR [ebp + 16] /* ebx = right */\n",
    "        cmp eax, ebx /* left + it1 < mid ??? */\n",
    "        jge fill /* >= -> next cycle */\n",
    "        mov ebx, DWORD PTR [ebp + 4] /* ebx = arr */\n",
    "        mov eax, DWORD PTR [ebx + 4*eax] /* eax = arr[eax] = arr[mid + it2]*/\n",
    "        mov ebx, esi\n",
    "        add ebx, edi /* ebx = it1 + it2*/\n",
    "        lea ebx, DWORD PTR [esp + 4*ebx] /* ebx = result + it1 + it2]*/\n",
    "        mov DWORD PTR [ebx], eax /* result[it1+it2] = eax */\n",
    "        add edi, 1 /* ++it2*/\n",
    "        jmp cycle3\n",
    "\n",
    "fill:\n",
    "\n",
    "        mov edx, 0 /* i = 0*/\n",
    "        mov eax, DWORD PTR [ebp + 4] /* eax = arr */\n",
    "        mov ebx, DWORD PTR [ebp + 8] /* ebx = left */\n",
    "        lea eax, DWORD PTR [eax + ebx * 4] /* eax += left */\n",
    "        mov ecx, esi\n",
    "        add ecx, edi /* ecx = it1 + it2 */\n",
    "fill_cycle:\n",
    "        cmp edx, ecx\n",
    "        jge finish /* i >= it1 + it2 -> finish */\n",
    "        mov esi, DWORD PTR [esp + 4*edx] /* esi = result[i]*/\n",
    "        mov DWORD PTR [eax + 4*edx], esi /* arr[edx] = esi*/\n",
    "        add edx, 1\n",
    "        jmp fill_cycle\n",
    "\n",
    "\n",
    "\n",
    "finish:\n",
    "        mov eax, DWORD PTR [ebp + 16]\n",
    "        sub eax, DWORD PTR [ebp + 8]\n",
    "        add eax, eax\n",
    "        add eax, eax\n",
    "        add esp, eax\n",
    "        pop ebx\n",
    "        pop esi\n",
    "        pop edi\n",
    "        pop ebp\n",
    "        ret\n",
    "\n",
    "\n",
    "mergesort:\n",
    "        push ebp\n",
    "        push edi\n",
    "        push esi\n",
    "        push ebx\n",
    "\n",
    "        mov eax, 0 /* i = 0*/\n",
    "        mov ebx, DWORD PTR [esp + 20] /* ebx = from */\n",
    "        mov ecx, DWORD PTR [esp + 24] /* ecx = to */\n",
    "        sub ecx, ebx /* ecx = to - from */\n",
    "        mov edx, DWORD PTR [esp + 32] /* edx = out */\n",
    "        mov esi, DWORD PTR [esp + 28] /* esi = in*/\n",
    "init_cycle:\n",
    "        cmp eax, ecx /* i < to - from ?? */\n",
    "        jge main_sort\n",
    "        mov edi, ebx\n",
    "        add edi, eax /* edi = from + i*/\n",
    "        mov edi, DWORD PTR [esi + 4 * edi] /* edi = arr[from + i]*/\n",
    "        mov DWORD PTR [edx + 4 * eax], edi /* out[i] = edi*/\n",
    "        add eax, 1\n",
    "        jmp init_cycle\n",
    "main_sort:\n",
    "        mov eax, 1 /* i = 1*/\n",
    "        /*ebx - from, ecx = to - from, edx = out ::: from the initial label*/\n",
    "main_sort_loop:\n",
    "        cmp eax, ecx /* i <= to - from ? */\n",
    "        jge sort_finish\n",
    "        mov esi, 0 /* begin = 0 */\n",
    "        mov ebp, ecx\n",
    "        sub ebp, eax /* ebp = to - from - i  where i represents current half of the current length */\n",
    "\n",
    "inner_sort_loop:\n",
    "        cmp esi, ebp /* begin < to - from - i ??? */\n",
    "        jge main_loop_finish\n",
    "        mov edi, esi\n",
    "        add edi, eax\n",
    "        add edi, eax /* edi = esi +2eax = begin + 2*i = right*/\n",
    "        cmp edi, ecx /* right < to - from ??? */\n",
    "        jl skip\n",
    "        /* not skipped part, condition if true */\n",
    "        mov edi, ecx\n",
    "skip:\n",
    "        push eax /* saving changable registers */\n",
    "        push ecx\n",
    "        push edx /* finishing saving */\n",
    "\n",
    "        push edi /* push right */\n",
    "        add esi, eax /* begin += i*/\n",
    "        push esi\n",
    "        sub esi, eax /* begin -= i*/\n",
    "        push esi\n",
    "        push edx /* push out*/\n",
    "        call merge /* merge(out, begin, begin + i, right)*/\n",
    "        add esp, 16 /* delete input variables according to convention */\n",
    "\n",
    "        pop edx /* recovery of the changed registers */\n",
    "        pop ecx\n",
    "        pop eax\n",
    "\n",
    "        add esi, eax\n",
    "        add esi, eax /* begin += 2*i */\n",
    "        jmp inner_sort_loop\n",
    "\n",
    "main_loop_finish:\n",
    "        add eax, eax\n",
    "        jmp main_sort_loop\n",
    "sort_finish:\n",
    "        pop ebx\n",
    "        pop esi\n",
    "        pop edi\n",
    "        pop ebp\n",
    "        ret"
   ]
  },
  {
   "cell_type": "code",
   "execution_count": 20,
   "metadata": {},
   "outputs": [],
   "source": [
    "%%asm 1.S\n",
    "//golear\n",
    "\n",
    ".text\n",
    ".global main\n",
    "\n",
    "main:\n",
    "    push    {r4-r8, lr}\n",
    "\n",
    "    mov r0, #0\n",
    "    ldr r1, =BUFSIZE\n",
    "    mov r6, r1\n",
    "    bl  realloc\n",
    "\n",
    "    mov r4, r0 // buf\n",
    "    mov r5, #0 // index\n",
    "    ldr r7, =stdin // Load input-output variables\n",
    "    ldr r8, =stdout\n",
    "loop:\n",
    "    ldr r0, [r7]\n",
    "    bl  fgetc\n",
    "    cmp r0, #-1 // EOF\n",
    "    beq loop2\n",
    "\n",
    "    strb r0, [r4, r5] // store read byte on r4 + r5\n",
    "    add r5, #1\n",
    "    cmp r5, r6\n",
    "    blt loop\n",
    "\n",
    "reallocate:\n",
    "    add r6, r6\n",
    "    mov r0, r4\n",
    "    mov r1, r6\n",
    "    bl realloc\n",
    "    mov r4, r0\n",
    "    b loop\n",
    "\n",
    "loop2:\n",
    "    sub r5, r5, #1\n",
    "    cmp r5, #-1\n",
    "    beq end\n",
    "    ldrb r0, [r4, r5]\n",
    "    ldr r1, [r8]\n",
    "    bl  fputc\n",
    "    b   loop2\n",
    "\n",
    "end:\n",
    "    mov r0, r4\n",
    "    bl  free\n",
    "    mov r0, #0\n",
    "    pop {r4-r8, pc}\n",
    "\n",
    ".data\n",
    "BUFSIZE: .word 800000"
   ]
  },
  {
   "cell_type": "code",
   "execution_count": 21,
   "metadata": {},
   "outputs": [],
   "source": [
    "%%asm 2.S\n",
    "//golear\n",
    "\n",
    ".text\n",
    ".global main\n",
    "\n",
    "main:\n",
    "        push    {r4-r8, lr}\n",
    "\n",
    "        mov r0, #0\n",
    "        ldr     r1, =BUFSIZE\n",
    "        mov r6, r1\n",
    "        bl      realloc\n",
    "\n",
    "        mov     r4, r0 // buf\n",
    "        mov r5, #0 // index\n",
    "        ldr r7, =stdin // Load input-output variables\n",
    "        ldr     r8, =stdout\n",
    "\n",
    "loop:\n",
    "        ldr r0, [r7]\n",
    "        bl  fgetc\n",
    "        cmp r0, #-1 // EOF\n",
    "    beq loop2\n",
    "\n",
    "    strb r0, [r4, r5] // store read byte on r4 + r5\n",
    "        add r5, #1\n",
    "    cmp r5, r6\n",
    "    blt loop\n",
    "\n",
    "reallocate:\n",
    "    add r6, r6\n",
    "    mov r0, r4\n",
    "    mov r1, r6\n",
    "    bl realloc\n",
    "    mov r4, r0\n",
    "    b loop\n",
    "\n",
    "loop2:\n",
    "    sub r5, r5, #1\n",
    "    cmp r5, #-1\n",
    "    beq end\n",
    "    ldrb r0, [r4, r5]\n",
    "        ldr r1, [r8]\n",
    "        bl  fputc\n",
    "    b   loop2\n",
    "\n",
    "end:\n",
    "        mov r0, r4\n",
    "        bl      free\n",
    "        mov     r0, #0\n",
    "        pop     {r4-r8, pc}\n",
    "\n",
    ".data\n",
    "BUFSIZE: .word 800000"
   ]
  },
  {
   "cell_type": "code",
   "execution_count": 23,
   "metadata": {},
   "outputs": [
    {
     "name": "stdout",
     "output_type": "stream",
     "text": [
      "DIFF(1)                          User Commands                         DIFF(1)\r\n",
      "\r\n",
      "N\bNA\bAM\bME\bE\r\n",
      "       diff - compare files line by line\r\n",
      "\r\n",
      "S\bSY\bYN\bNO\bOP\bPS\bSI\bIS\bS\r\n",
      "       d\bdi\bif\bff\bf [_\bO_\bP_\bT_\bI_\bO_\bN]... _\bF_\bI_\bL_\bE_\bS\r\n",
      "\r\n",
      "D\bDE\bES\bSC\bCR\bRI\bIP\bPT\bTI\bIO\bON\bN\r\n",
      "       Compare FILES line by line.\r\n",
      "\r\n",
      "       Mandatory  arguments  to  long  options are mandatory for short options\r\n",
      "       too.\r\n",
      "\r\n",
      "       -\b--\b-n\bno\bor\brm\bma\bal\bl\r\n",
      "              output a normal diff (the default)\r\n",
      "\r\n",
      "       -\b-q\bq, -\b--\b-b\bbr\bri\bie\bef\bf\r\n",
      "              report only when files differ\r\n",
      "\r\n",
      "       -\b-s\bs, -\b--\b-r\bre\bep\bpo\bor\brt\bt-\b-i\bid\bde\ben\bnt\bti\bic\bca\bal\bl-\b-f\bfi\bil\ble\bes\bs\r\n",
      "              report when two files are the same\r\n",
      "\r\n",
      "       -\b-c\bc, -\b-C\bC NUM, -\b--\b-c\bco\bon\bnt\bte\bex\bxt\bt[=_\bN_\bU_\bM]\r\n",
      "              output NUM (default 3) lines of copied context\r\n",
      "\r\n",
      "       -\b-u\bu, -\b-U\bU NUM, -\b--\b-u\bun\bni\bif\bfi\bie\bed\bd[=_\bN_\bU_\bM]\r\n",
      "              output NUM (default 3) lines of unified context\r\n",
      "\r\n",
      "       -\b-e\be, -\b--\b-e\bed\bd\r\n",
      "              output an ed script\r\n",
      "\r\n",
      "       -\b-n\bn, -\b--\b-r\brc\bcs\bs\r\n",
      "              output an RCS format diff\r\n",
      "\r\n",
      "       -\b-y\by, -\b--\b-s\bsi\bid\bde\be-\b-b\bby\by-\b-s\bsi\bid\bde\be\r\n",
      "              output in two columns\r\n",
      "\r\n",
      "       -\b-W\bW, -\b--\b-w\bwi\bid\bdt\bth\bh=_\bN_\bU_\bM\r\n",
      "              output at most NUM (default 130) print columns\r\n",
      "\r\n",
      "       -\b--\b-l\ble\bef\bft\bt-\b-c\bco\bol\blu\bum\bmn\bn\r\n",
      "              output only the left column of common lines\r\n",
      "\r\n",
      "       -\b--\b-s\bsu\bup\bpp\bpr\bre\bes\bss\bs-\b-c\bco\bom\bmm\bmo\bon\bn-\b-l\bli\bin\bne\bes\bs\r\n",
      "              do not output common lines\r\n",
      "\r\n",
      "       -\b-p\bp, -\b--\b-s\bsh\bho\bow\bw-\b-c\bc-\b-f\bfu\bun\bnc\bct\bti\bio\bon\bn\r\n",
      "              show which C function each change is in\r\n",
      "\r\n",
      "       -\b-F\bF, -\b--\b-s\bsh\bho\bow\bw-\b-f\bfu\bun\bnc\bct\bti\bio\bon\bn-\b-l\bli\bin\bne\be=_\bR_\bE\r\n",
      "              show the most recent line matching RE\r\n",
      "\r\n",
      "       -\b--\b-l\bla\bab\bbe\bel\bl LABEL\r\n",
      "              use LABEL instead of file name (can be repeated)\r\n",
      "\r\n",
      "       -\b-t\bt, -\b--\b-e\bex\bxp\bpa\ban\bnd\bd-\b-t\bta\bab\bbs\bs\r\n",
      "              expand tabs to spaces in output\r\n",
      "\r\n",
      "       -\b-T\bT, -\b--\b-i\bin\bni\bit\bti\bia\bal\bl-\b-t\bta\bab\bb\r\n",
      "              make tabs line up by prepending a tab\r\n",
      "\r\n",
      "       -\b--\b-t\bta\bab\bbs\bsi\biz\bze\be=_\bN_\bU_\bM\r\n",
      "              tab stops every NUM (default 8) print columns\r\n",
      "\r\n",
      "       -\b--\b-s\bsu\bup\bpp\bpr\bre\bes\bss\bs-\b-b\bbl\bla\ban\bnk\bk-\b-e\bem\bmp\bpt\bty\by\r\n",
      "              suppress space or tab before empty output lines\r\n",
      "\r\n",
      "       -\b-l\bl, -\b--\b-p\bpa\bag\bgi\bin\bna\bat\bte\be\r\n",
      "              pass output through `pr' to paginate it\r\n",
      "\r\n",
      "       -\b-r\br, -\b--\b-r\bre\bec\bcu\bur\brs\bsi\biv\bve\be\r\n",
      "              recursively compare any subdirectories found\r\n",
      "\r\n",
      "       -\b-N\bN, -\b--\b-n\bne\bew\bw-\b-f\bfi\bil\ble\be\r\n",
      "              treat absent files as empty\r\n",
      "\r\n",
      "       -\b--\b-u\bun\bni\bid\bdi\bir\bre\bec\bct\bti\bio\bon\bna\bal\bl-\b-n\bne\bew\bw-\b-f\bfi\bil\ble\be\r\n",
      "              treat absent first files as empty\r\n",
      "\r\n",
      "       -\b--\b-i\big\bgn\bno\bor\bre\be-\b-f\bfi\bil\ble\be-\b-n\bna\bam\bme\be-\b-c\bca\bas\bse\be\r\n",
      "              ignore case when comparing file names\r\n",
      "\r\n",
      "       -\b--\b-n\bno\bo-\b-i\big\bgn\bno\bor\bre\be-\b-f\bfi\bil\ble\be-\b-n\bna\bam\bme\be-\b-c\bca\bas\bse\be\r\n",
      "              consider case when comparing file names\r\n",
      "\r\n",
      "       -\b-x\bx, -\b--\b-e\bex\bxc\bcl\blu\bud\bde\be=_\bP_\bA_\bT\r\n",
      "              exclude files that match PAT\r\n",
      "\r\n",
      "       -\b-X\bX, -\b--\b-e\bex\bxc\bcl\blu\bud\bde\be-\b-f\bfr\bro\bom\bm=_\bF_\bI_\bL_\bE\r\n",
      "              exclude files that match any pattern in FILE\r\n",
      "\r\n",
      "       -\b-S\bS, -\b--\b-s\bst\bta\bar\brt\bti\bin\bng\bg-\b-f\bfi\bil\ble\be=_\bF_\bI_\bL_\bE\r\n",
      "              start with FILE when comparing directories\r\n",
      "\r\n",
      "       -\b--\b-f\bfr\bro\bom\bm-\b-f\bfi\bil\ble\be=_\bF_\bI_\bL_\bE_\b1\r\n",
      "              compare FILE1 to all operands; FILE1 can be a directory\r\n",
      "\r\n",
      "       -\b--\b-t\bto\bo-\b-f\bfi\bil\ble\be=_\bF_\bI_\bL_\bE_\b2\r\n",
      "              compare all operands to FILE2; FILE2 can be a directory\r\n",
      "\r\n",
      "       -\b-i\bi, -\b--\b-i\big\bgn\bno\bor\bre\be-\b-c\bca\bas\bse\be\r\n",
      "              ignore case differences in file contents\r\n",
      "\r\n",
      "       -\b-E\bE, -\b--\b-i\big\bgn\bno\bor\bre\be-\b-t\bta\bab\bb-\b-e\bex\bxp\bpa\ban\bns\bsi\bio\bon\bn\r\n",
      "              ignore changes due to tab expansion\r\n",
      "\r\n",
      "       -\b-Z\bZ, -\b--\b-i\big\bgn\bno\bor\bre\be-\b-t\btr\bra\bai\bil\bli\bin\bng\bg-\b-s\bsp\bpa\bac\bce\be\r\n",
      "              ignore white space at line end\r\n",
      "\r\n",
      "       -\b-b\bb, -\b--\b-i\big\bgn\bno\bor\bre\be-\b-s\bsp\bpa\bac\bce\be-\b-c\bch\bha\ban\bng\bge\be\r\n",
      "              ignore changes in the amount of white space\r\n",
      "\r\n",
      "       -\b-w\bw, -\b--\b-i\big\bgn\bno\bor\bre\be-\b-a\bal\bll\bl-\b-s\bsp\bpa\bac\bce\be\r\n",
      "              ignore all white space\r\n",
      "\r\n",
      "       -\b-B\bB, -\b--\b-i\big\bgn\bno\bor\bre\be-\b-b\bbl\bla\ban\bnk\bk-\b-l\bli\bin\bne\bes\bs\r\n",
      "              ignore changes whose lines are all blank\r\n",
      "\r\n",
      "       -\b-I\bI, -\b--\b-i\big\bgn\bno\bor\bre\be-\b-m\bma\bat\btc\bch\bhi\bin\bng\bg-\b-l\bli\bin\bne\bes\bs=_\bR_\bE\r\n",
      "              ignore changes whose lines all match RE\r\n",
      "\r\n",
      "       -\b-a\ba, -\b--\b-t\bte\bex\bxt\bt\r\n",
      "              treat all files as text\r\n",
      "\r\n",
      "       -\b--\b-s\bst\btr\bri\bip\bp-\b-t\btr\bra\bai\bil\bli\bin\bng\bg-\b-c\bcr\br\r\n",
      "              strip trailing carriage return on input\r\n",
      "\r\n",
      "       -\b-D\bD, -\b--\b-i\bif\bfd\bde\bef\bf=_\bN_\bA_\bM_\bE\r\n",
      "              output merged file with `#ifdef NAME' diffs\r\n",
      "\r\n",
      "       -\b--\b-G\bGT\bTY\bYP\bPE\bE-\b-g\bgr\bro\bou\bup\bp-\b-f\bfo\bor\brm\bma\bat\bt=_\bG_\bF_\bM_\bT\r\n",
      "              format GTYPE input groups with GFMT\r\n",
      "\r\n",
      "       -\b--\b-l\bli\bin\bne\be-\b-f\bfo\bor\brm\bma\bat\bt=_\bL_\bF_\bM_\bT\r\n",
      "              format all input lines with LFMT\r\n",
      "\r\n",
      "       -\b--\b-L\bLT\bTY\bYP\bPE\bE-\b-l\bli\bin\bne\be-\b-f\bfo\bor\brm\bma\bat\bt=_\bL_\bF_\bM_\bT\r\n",
      "              format LTYPE input lines with LFMT\r\n",
      "\r\n",
      "              These format options provide fine-grained control over the  out\xe2\x80\x90\r\n",
      "              put\r\n",
      "\r\n",
      "              of diff, generalizing -\b-D\bD/--ifdef.\r\n",
      "\r\n",
      "       LTYPE is `old', `new', or `unchanged'.\r\n",
      "              GTYPE is LTYPE or `changed'.\r\n",
      "\r\n",
      "              GFMT (only) may contain:\r\n",
      "\r\n",
      "       %<     lines from FILE1\r\n",
      "\r\n",
      "       %>     lines from FILE2\r\n",
      "\r\n",
      "       %=     lines common to FILE1 and FILE2\r\n",
      "\r\n",
      "       %[-][WIDTH][.[PREC]]{doxX}LETTER\r\n",
      "              printf-style spec for LETTER\r\n",
      "\r\n",
      "              LETTERs are as follows for new group, lower case for old group:\r\n",
      "\r\n",
      "       F      first line number\r\n",
      "\r\n",
      "       L      last line number\r\n",
      "\r\n",
      "       N      number of lines = L-F+1\r\n",
      "\r\n",
      "       E      F-1\r\n",
      "\r\n",
      "       M      L+1\r\n",
      "\r\n",
      "       %(A=B?T:E)\r\n",
      "              if A equals B then T else E\r\n",
      "\r\n",
      "              LFMT (only) may contain:\r\n",
      "\r\n",
      "       %L     contents of line\r\n",
      "\r\n",
      "       %l     contents of line, excluding any trailing newline\r\n",
      "\r\n",
      "       %[-][WIDTH][.[PREC]]{doxX}n\r\n",
      "              printf-style spec for input line number\r\n",
      "\r\n",
      "              Both GFMT and LFMT may contain:\r\n",
      "\r\n",
      "       %%     %\r\n",
      "\r\n",
      "       %c'C'  the single character C\r\n",
      "\r\n",
      "       %c'\\OOO'\r\n",
      "              the character with octal code OOO\r\n",
      "\r\n",
      "       C      the character C (other characters represent themselves)\r\n",
      "\r\n",
      "       -\b-d\bd, -\b--\b-m\bmi\bin\bni\bim\bma\bal\bl\r\n",
      "              try hard to find a smaller set of changes\r\n",
      "\r\n",
      "       -\b--\b-h\bho\bor\bri\biz\bzo\bon\bn-\b-l\bli\bin\bne\bes\bs=_\bN_\bU_\bM\r\n",
      "              keep NUM lines of the common prefix and suffix\r\n",
      "\r\n",
      "       -\b--\b-s\bsp\bpe\bee\bed\bd-\b-l\bla\bar\brg\bge\be-\b-f\bfi\bil\ble\bes\bs\r\n",
      "              assume large files and many scattered small changes\r\n",
      "\r\n",
      "       -\b--\b-h\bhe\bel\blp\bp display this help and exit\r\n",
      "\r\n",
      "       -\b-v\bv, -\b--\b-v\bve\ber\brs\bsi\bio\bon\bn\r\n",
      "              output version information and exit\r\n",
      "\r\n",
      "       FILES  are  `FILE1  FILE2'  or `DIR1 DIR2' or `DIR FILE...' or `FILE...\r\n",
      "       DIR'.  If -\b--\b-f\bfr\bro\bom\bm-\b-f\bfi\bil\ble\be or -\b--\b-t\bto\bo-\b-f\bfi\bil\ble\be is given, there are no  restrictions\r\n",
      "       on  FILE(s).   If a FILE is `-', read standard input.  Exit status is 0\r\n",
      "       if inputs are the same, 1 if different, 2 if trouble.\r\n",
      "\r\n",
      "A\bAU\bUT\bTH\bHO\bOR\bR\r\n",
      "       Written by Paul Eggert, Mike Haertel, David  Hayes,  Richard  Stallman,\r\n",
      "       and Len Tower.\r\n",
      "\r\n",
      "R\bRE\bEP\bPO\bOR\bRT\bTI\bIN\bNG\bG B\bBU\bUG\bGS\bS\r\n",
      "       Report bugs to: bug-diffutils@gnu.org\r\n",
      "       GNU diffutils home page: <http://www.gnu.org/software/diffutils/>\r\n",
      "       General help using GNU software: <http://www.gnu.org/gethelp/>\r\n",
      "\r\n",
      "C\bCO\bOP\bPY\bYR\bRI\bIG\bGH\bHT\bT\r\n",
      "       Copyright  \xc2\xa9  2011  Free Software Foundation, Inc.  License GPLv3+: GNU\r\n",
      "       GPL version 3 or later <http://gnu.org/licenses/gpl.html>.\r\n",
      "       This is free software: you are free  to  change  and  redistribute  it.\r\n",
      "       There is NO WARRANTY, to the extent permitted by law.\r\n",
      "\r\n",
      "S\bSE\bEE\bE A\bAL\bLS\bSO\bO\r\n",
      "       wdiff(1), cmp(1), diff3(1), sdiff(1), patch(1)\r\n",
      "\r\n",
      "       The  full documentation for d\bdi\bif\bff\bf is maintained as a Texinfo manual.  If\r\n",
      "       the i\bin\bnf\bfo\bo and d\bdi\bif\bff\bf programs are properly installed  at  your  site,  the\r\n",
      "       command\r\n",
      "\r\n",
      "              i\bin\bnf\bfo\bo d\bdi\bif\bff\bf\r\n",
      "\r\n",
      "       should give you access to the complete manual.\r\n",
      "\r\n",
      "diffutils 3.3                     March 2013                           DIFF(1)\r\n"
     ]
    }
   ],
   "source": [
    "!man diff"
   ]
  },
  {
   "cell_type": "code",
   "execution_count": 25,
   "metadata": {},
   "outputs": [
    {
     "name": "stdout",
     "output_type": "stream",
     "text": [
      "17a18\r\n",
      "> \r\n"
     ]
    }
   ],
   "source": [
    "!diff -b 1.S 2.S\n"
   ]
  },
  {
   "cell_type": "code",
   "execution_count": 15,
   "metadata": {},
   "outputs": [
    {
     "name": "stdout",
     "output_type": "stream",
     "text": [
      "[NbConvertApp] Converting notebook asm_x86.ipynb to markdown\n",
      "[NbConvertApp] Writing 8331 bytes to README.md\n"
     ]
    }
   ],
   "source": [
    "!jupyter nbconvert asm_x86.ipynb --to markdown --output README"
   ]
  },
  {
   "cell_type": "code",
   "execution_count": null,
   "metadata": {},
   "outputs": [],
   "source": []
  }
 ],
 "metadata": {
  "kernelspec": {
   "display_name": "Python 3",
   "language": "python",
   "name": "python3"
  },
  "language_info": {
   "codemirror_mode": {
    "name": "ipython",
    "version": 3
   },
   "file_extension": ".py",
   "mimetype": "text/x-python",
   "name": "python",
   "nbconvert_exporter": "python",
   "pygments_lexer": "ipython3",
   "version": "3.5.2"
  }
 },
 "nbformat": 4,
 "nbformat_minor": 2
}
