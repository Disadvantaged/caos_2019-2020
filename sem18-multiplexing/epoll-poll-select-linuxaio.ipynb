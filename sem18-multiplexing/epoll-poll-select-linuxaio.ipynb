{
 "cells": [
  {
   "cell_type": "code",
   "execution_count": 2,
   "metadata": {},
   "outputs": [
    {
     "data": {
      "application/javascript": [
       "// setup cpp code highlighting\n",
       "IPython.CodeCell.options_default.highlight_modes[\"text/x-c++src\"] = {'reg':[/^%%cpp/]} ;"
      ],
      "text/plain": [
       "<IPython.core.display.Javascript object>"
      ]
     },
     "metadata": {},
     "output_type": "display_data"
    }
   ],
   "source": [
    "# look at tools/set_up_magics.ipynb\n",
    "get_ipython().run_cell('# one_liner_str #SET_UP_MAGIC_BEGIN\\n\\nget_ipython().run_cell_magic(\\'javascript\\', \\'\\', \\'// setup cpp code highlighting\\\\nIPython.CodeCell.options_default.highlight_modes[\"text/x-c++src\"] = {\\\\\\'reg\\\\\\':[/^%%cpp/]} ;\\')\\n\\n# creating magics\\nfrom IPython.core.magic import register_cell_magic, register_line_magic\\nfrom IPython.display import display, Markdown, HTML\\nimport argparse\\nfrom subprocess import Popen, PIPE\\nimport random\\nimport sys\\nimport os\\nimport re\\nimport signal\\nimport shutil\\nimport shlex\\nimport glob\\n\\n@register_cell_magic\\ndef save_file(args_str, cell, line_comment_start=\"#\"):\\n    parser = argparse.ArgumentParser()\\n    parser.add_argument(\"fname\")\\n    parser.add_argument(\"--ejudge-style\", action=\"store_true\")\\n    args = parser.parse_args(args_str.split())\\n    \\n    cell = cell if cell[-1] == \\'\\\\n\\' or args.no_eof_newline else cell + \"\\\\n\"\\n    cmds = []\\n    with open(args.fname, \"w\") as f:\\n        f.write(line_comment_start + \" %%cpp \" + args_str + \"\\\\n\")\\n        for line in cell.split(\"\\\\n\"):\\n            line_to_write = (line if not args.ejudge_style else line.rstrip()) + \"\\\\n\"\\n            if line.startswith(\"%\"):\\n                run_prefix = \"%run \"\\n                assert line.startswith(run_prefix)\\n                cmds.append(line[len(run_prefix):].strip())\\n                f.write(line_comment_start + \" \" + line_to_write)\\n            else:\\n                f.write(line_to_write)\\n        f.write(\"\" if not args.ejudge_style else line_comment_start + r\" line without \\\\n\")\\n    for cmd in cmds:\\n        display(Markdown(\"Run: `%s`\" % cmd))\\n        get_ipython().system(cmd)\\n\\n@register_cell_magic\\ndef cpp(fname, cell):\\n    save_file(fname, cell, \"//\")\\n\\n@register_cell_magic\\ndef asm(fname, cell):\\n    save_file(fname, cell, \"//\")\\n    \\n@register_cell_magic\\ndef makefile(fname, cell):\\n    assert not fname\\n    save_file(\"makefile\", cell.replace(\" \" * 4, \"\\\\t\"))\\n        \\n@register_line_magic\\ndef p(line):\\n    try:\\n        expr, comment = line.split(\" #\")\\n        display(Markdown(\"`{} = {}`  # {}\".format(expr.strip(), eval(expr), comment.strip())))\\n    except:\\n        display(Markdown(\"{} = {}\".format(line, eval(line))))\\n        \\ndef show_file(file, clear_at_begin=True, return_html_string=False):\\n    if clear_at_begin:\\n        get_ipython().system(\"truncate --size 0 \" + file)\\n    obj = file.replace(\\'.\\', \\'_\\').replace(\\'/\\', \\'_\\') + \"_obj\"\\n    html_string = \\'\\'\\'\\n        <!--MD_BEGIN_FILTER-->\\n        <script type=text/javascript>\\n        var entrance___OBJ__ = 0;\\n        var errors___OBJ__ = 0;\\n        function refresh__OBJ__()\\n        {\\n            entrance___OBJ__ -= 1;\\n            var elem = document.getElementById(\"__OBJ__\");\\n            if (elem) {\\n                var xmlhttp=new XMLHttpRequest();\\n                xmlhttp.onreadystatechange=function()\\n                {\\n                    var elem = document.getElementById(\"__OBJ__\");\\n                    console.log(!!elem, xmlhttp.readyState, xmlhttp.status, entrance___OBJ__);\\n                    if (elem && xmlhttp.readyState==4) {\\n                        if (xmlhttp.status==200)\\n                        {\\n                            errors___OBJ__ = 0;\\n                            if (!entrance___OBJ__) {\\n                                elem.innerText = xmlhttp.responseText;\\n                                entrance___OBJ__ += 1;\\n                                console.log(\"req\");\\n                                window.setTimeout(\"refresh__OBJ__()\", 300); \\n                            }\\n                            return xmlhttp.responseText;\\n                        } else {\\n                            errors___OBJ__ += 1;\\n                            if (errors___OBJ__ < 10 && !entrance___OBJ__) {\\n                                entrance___OBJ__ += 1;\\n                                console.log(\"req\");\\n                                window.setTimeout(\"refresh__OBJ__()\", 300); \\n                            }\\n                        }\\n                    }\\n                }\\n                xmlhttp.open(\"GET\", \"__FILE__\", true);\\n                xmlhttp.setRequestHeader(\"Cache-Control\", \"no-cache\");\\n                xmlhttp.send();     \\n            }\\n        }\\n        \\n        if (!entrance___OBJ__) {\\n            entrance___OBJ__ += 1;\\n            refresh__OBJ__(); \\n        }\\n        </script>\\n        \\n        <font color=\"white\"> <tt>\\n        <p id=\"__OBJ__\" style=\"font-size: 16px; border:3px #333333 solid; background: #333333; border-radius: 10px; padding: 10px;  \"></p>\\n        </tt> </font>\\n        <!--MD_END_FILTER-->\\n        <!--MD_FROM_FILE __FILE__ -->\\n        \\'\\'\\'.replace(\"__OBJ__\", obj).replace(\"__FILE__\", file)\\n    if return_html_string:\\n        return html_string\\n    display(HTML(html_string))\\n    \\nBASH_POPEN_TMP_DIR = \"./bash_popen_tmp\"\\n    \\ndef bash_popen_terminate_all():\\n    for p in globals().get(\"bash_popen_list\", []):\\n        print(\"Terminate pid=\" + str(p.pid), file=sys.stderr)\\n        p.terminate()\\n    globals()[\"bash_popen_list\"] = []\\n    if os.path.exists(BASH_POPEN_TMP_DIR):\\n        shutil.rmtree(BASH_POPEN_TMP_DIR)\\n\\nbash_popen_terminate_all()  \\n\\ndef bash_popen(cmd):\\n    if not os.path.exists(BASH_POPEN_TMP_DIR):\\n        os.mkdir(BASH_POPEN_TMP_DIR)\\n    h = os.path.join(BASH_POPEN_TMP_DIR, str(random.randint(0, 1e18)))\\n    stdout_file = h + \".out.html\"\\n    stderr_file = h + \".err.html\"\\n    run_log_file = h + \".fin.html\"\\n    \\n    stdout = open(stdout_file, \"wb\")\\n    stdout = open(stderr_file, \"wb\")\\n    \\n    html = \"\"\"\\n    <table width=\"100%\">\\n    <colgroup>\\n       <col span=\"1\" style=\"width: 70px;\">\\n       <col span=\"1\">\\n    </colgroup>    \\n    <tbody>\\n      <tr> <td><b>STDOUT</b></td> <td> {stdout} </td> </tr>\\n      <tr> <td><b>STDERR</b></td> <td> {stderr} </td> </tr>\\n      <tr> <td><b>RUN LOG</b></td> <td> {run_log} </td> </tr>\\n    </tbody>\\n    </table>\\n    \"\"\".format(\\n        stdout=show_file(stdout_file, return_html_string=True),\\n        stderr=show_file(stderr_file, return_html_string=True),\\n        run_log=show_file(run_log_file, return_html_string=True),\\n    )\\n    \\n    cmd = \"\"\"\\n        bash -c {cmd} &\\n        pid=$!\\n        echo \"Process started! pid=${{pid}}\" > {run_log_file}\\n        wait ${{pid}}\\n        echo \"Process finished! exit_code=$?\" >> {run_log_file}\\n    \"\"\".format(cmd=shlex.quote(cmd), run_log_file=run_log_file)\\n    # print(cmd)\\n    display(HTML(html))\\n    \\n    p = Popen([\"bash\", \"-c\", cmd], stdin=PIPE, stdout=stdout, stderr=stdout)\\n    \\n    bash_popen_list.append(p)\\n    return p\\n\\n\\n@register_line_magic\\ndef bash_async(line):\\n    bash_popen(line)\\n    \\n    \\ndef show_log_file(file, return_html_string=False):\\n    obj = file.replace(\\'.\\', \\'_\\').replace(\\'/\\', \\'_\\') + \"_obj\"\\n    html_string = \\'\\'\\'\\n        <!--MD_BEGIN_FILTER-->\\n        <script type=text/javascript>\\n        var entrance___OBJ__ = 0;\\n        var errors___OBJ__ = 0;\\n        function halt__OBJ__(elem, color)\\n        {\\n            elem.setAttribute(\"style\", \"font-size: 14px; background: \" + color + \"; padding: 10px; border: 3px; border-radius: 5px; color: white; \");                    \\n        }\\n        function refresh__OBJ__()\\n        {\\n            entrance___OBJ__ -= 1;\\n            if (entrance___OBJ__ < 0) {\\n                entrance___OBJ__ = 0;\\n            }\\n            var elem = document.getElementById(\"__OBJ__\");\\n            if (elem) {\\n                var xmlhttp=new XMLHttpRequest();\\n                xmlhttp.onreadystatechange=function()\\n                {\\n                    var elem = document.getElementById(\"__OBJ__\");\\n                    console.log(!!elem, xmlhttp.readyState, xmlhttp.status, entrance___OBJ__);\\n                    if (elem && xmlhttp.readyState==4) {\\n                        if (xmlhttp.status==200)\\n                        {\\n                            errors___OBJ__ = 0;\\n                            if (!entrance___OBJ__) {\\n                                if (elem.innerHTML != xmlhttp.responseText) {\\n                                    elem.innerHTML = xmlhttp.responseText;\\n                                }\\n                                if (elem.innerHTML.includes(\"Process finished.\")) {\\n                                    halt__OBJ__(elem, \"#333333\");\\n                                } else {\\n                                    entrance___OBJ__ += 1;\\n                                    console.log(\"req\");\\n                                    window.setTimeout(\"refresh__OBJ__()\", 300); \\n                                }\\n                            }\\n                            return xmlhttp.responseText;\\n                        } else {\\n                            errors___OBJ__ += 1;\\n                            if (!entrance___OBJ__) {\\n                                if (errors___OBJ__ < 6) {\\n                                    entrance___OBJ__ += 1;\\n                                    console.log(\"req\");\\n                                    window.setTimeout(\"refresh__OBJ__()\", 300); \\n                                } else {\\n                                    halt__OBJ__(elem, \"#994444\");\\n                                }\\n                            }\\n                        }\\n                    }\\n                }\\n                xmlhttp.open(\"GET\", \"__FILE__\", true);\\n                xmlhttp.setRequestHeader(\"Cache-Control\", \"no-cache\");\\n                xmlhttp.send();     \\n            }\\n        }\\n        \\n        if (!entrance___OBJ__) {\\n            entrance___OBJ__ += 1;\\n            refresh__OBJ__(); \\n        }\\n        </script>\\n\\n        <p id=\"__OBJ__\" style=\"font-size: 14px; background: #000000; padding: 10px; border: 3px; border-radius: 5px; color: white; \">\\n        </p>\\n        \\n        </font>\\n        <!--MD_END_FILTER-->\\n        <!--MD_FROM_FILE __FILE__.md -->\\n        \\'\\'\\'.replace(\"__OBJ__\", obj).replace(\"__FILE__\", file)\\n    if return_html_string:\\n        return html_string\\n    display(HTML(html_string))\\n\\n    \\nclass TInteractiveLauncher:\\n    tmp_path = \"./interactive_launcher_tmp\"\\n    def __init__(self, cmd):\\n        try:\\n            os.mkdir(TInteractiveLauncher.tmp_path)\\n        except:\\n            pass\\n        name = str(random.randint(0, 1e18))\\n        self.inq_path = os.path.join(TInteractiveLauncher.tmp_path, name + \".inq\")\\n        self.log_path = os.path.join(TInteractiveLauncher.tmp_path, name + \".log\")\\n        \\n        os.mkfifo(self.inq_path)\\n        open(self.log_path, \\'w\\').close()\\n        open(self.log_path + \".md\", \\'w\\').close()\\n\\n        self.pid = os.fork()\\n        if self.pid == -1:\\n            print(\"Error\")\\n        if self.pid == 0:\\n            exe_cands = glob.glob(\"../tools/launcher.py\") + glob.glob(\"../../tools/launcher.py\")\\n            assert(len(exe_cands) == 1)\\n            assert(os.execvp(\"python3\", [\"python3\", exe_cands[0], \"-l\", self.log_path, \"-i\", self.inq_path, \"-c\", cmd]) == 0)\\n        self.inq_f = open(self.inq_path, \"w\")\\n        interactive_launcher_opened_set.add(self.pid)\\n        show_log_file(self.log_path)\\n\\n    def write(self, s):\\n        s = s.encode()\\n        assert len(s) == os.write(self.inq_f.fileno(), s)\\n        \\n    def get_pid(self):\\n        n = 100\\n        for i in range(n):\\n            try:\\n                return int(re.findall(r\"PID = (\\\\d+)\", open(self.log_path).readline())[0])\\n            except:\\n                if i + 1 == n:\\n                    raise\\n                time.sleep(0.1)\\n        \\n    def input_queue_path(self):\\n        return self.inq_path\\n        \\n    def close(self):\\n        self.inq_f.close()\\n        os.waitpid(self.pid, 0)\\n        os.remove(self.inq_path)\\n        # os.remove(self.log_path)\\n        self.inq_path = None\\n        self.log_path = None \\n        interactive_launcher_opened_set.remove(self.pid)\\n        self.pid = None\\n        \\n    @staticmethod\\n    def terminate_all():\\n        if \"interactive_launcher_opened_set\" not in globals():\\n            globals()[\"interactive_launcher_opened_set\"] = set()\\n        global interactive_launcher_opened_set\\n        for pid in interactive_launcher_opened_set:\\n            print(\"Terminate pid=\" + str(pid), file=sys.stderr)\\n            os.kill(pid, signal.SIGKILL)\\n            os.waitpid(pid, 0)\\n        interactive_launcher_opened_set = set()\\n        if os.path.exists(TInteractiveLauncher.tmp_path):\\n            shutil.rmtree(TInteractiveLauncher.tmp_path)\\n    \\nTInteractiveLauncher.terminate_all()\\n    \\n    \\ndef make_oneliner():\\n    return \\'# look at tools/set_up_magics.ipynb\\\\nget_ipython().run_cell(%s)\\\\nNone\\' % repr(one_liner_str)\\n\\n #SET_UP_MAGIC_END \\n')\n",
    "None"
   ]
  },
  {
   "cell_type": "markdown",
   "metadata": {},
   "source": [
    "# Мультиплексирование\n",
    "\n",
    "<br>\n",
    "<div style=\"text-align: right\"> Спасибо <a href=\"https://github.com/\">пока никому :(</a> за участие в написании текста </div>\n",
    "<br>\n",
    "\n",
    "Мультиплексирование - о чем это? Это об одновременной работе с несколькими соединениями. О том, чтобы эффективно решать задачу: вот из этих файловых дескрипторов, нужно прочитать, когда станет доступно, а вот в эти записать, опять же, когда будет возможность.\n",
    "\n",
    "[Хорошая статья на хабре: select / poll / epoll: практическая разница](https://habr.com/ru/company/infopulse/blog/415259/)\n",
    "В этой же статье есть плюсы и минусы `select`/`poll`/`epoll`.\n",
    "\n",
    "[Довольно детальная статья на хабре про epoll](https://habr.com/ru/post/416669/)\n",
    "\n",
    "Способы мультиплексирования:\n",
    "* O_NONBLOCK\n",
    "* <a href=\"#select\" style=\"color:#856024\">select</a> - старая штука, но стандартизированная (POSIX), и поддерживется практически везде, где есть интернет.\n",
    "  Минусы: смотри статью на хабре. <a href=\"#select_fail\" style=\"color:#856024\">Боольшой минус select</a>\n",
    "* <a href=\"#select\" style=\"color:#856024\">poll</a> - менее старая штука, стандартизированная (POSIX.1-2001 and POSIX.1-2008).\n",
    "* <a href=\"#epoll\" style=\"color:#856024\">epoll</a> - linux\n",
    "* kqueue - FreeBSD и MacOS. Аналог epoll. Вообще для того, чтобы писать тут кроссплатформенный код, написали библиотеку [libevent](http://libevent.org/)\n",
    "* <a href=\"#aio\" style=\"color:#856024\">Linux AIO</a> - одновременная запись/чтение из нескольких файлов. (К сожалению, это только с файлами работает)\n",
    "\n",
    "<a href=\"#hw\" style=\"color:#856024\">Комментарии к ДЗ</a>\n",
    "\n",
    "[Ридинг Яковлева](https://github.com/victor-yacovlev/mipt-diht-caos/tree/master/practice/epoll)"
   ]
  },
  {
   "cell_type": "code",
   "execution_count": null,
   "metadata": {},
   "outputs": [],
   "source": []
  },
  {
   "cell_type": "markdown",
   "metadata": {},
   "source": [
    "# <a name=\"epoll\"></a> <a name=\"select\"></a> epoll и select"
   ]
  },
  {
   "cell_type": "code",
   "execution_count": 127,
   "metadata": {},
   "outputs": [
    {
     "data": {
      "text/markdown": [
       "Run: `gcc -DSELECT_REALISATION epoll.cpp -o epoll.exe`"
      ],
      "text/plain": [
       "<IPython.core.display.Markdown object>"
      ]
     },
     "metadata": {},
     "output_type": "display_data"
    },
    {
     "data": {
      "text/markdown": [
       "Run: `./epoll.exe`"
      ],
      "text/plain": [
       "<IPython.core.display.Markdown object>"
      ]
     },
     "metadata": {},
     "output_type": "display_data"
    },
    {
     "name": "stdout",
     "output_type": "stream",
     "text": [
      " 11:54:26 : Select realisation start\n",
      " 11:54:26 : Read from 0 subprocess: Hello from 0 subprocess\n",
      " 11:54:27 : Read from 1 subprocess: Hello from 1 subprocess\n",
      " 11:54:28 : Read from 2 subprocess: Hello from 2 subprocess\n",
      " 11:54:29 : Read from 3 subprocess: Hello from 3 subprocess\n",
      " 11:54:30 : Read from 4 subprocess: Hello from 4 subprocess\n"
     ]
    }
   ],
   "source": [
    "%%cpp epoll.cpp\n",
    "// %run gcc -DTRIVIAL_REALISATION epoll.cpp -o epoll.exe\n",
    "// %run ./epoll.exe\n",
    "// %run gcc -DNONBLOCK_REALISATION epoll.cpp -o epoll.exe\n",
    "// %run ./epoll.exe\n",
    "%run gcc -DSELECT_REALISATION epoll.cpp -o epoll.exe\n",
    "%run ./epoll.exe\n",
    "// %run gcc -DEPOLL_REALISATION epoll.cpp -o epoll.exe\n",
    "// %run ./epoll.exe\n",
    "// %run gcc -DEPOLL_EDGE_TRIGGERED_REALISATION epoll.cpp -o epoll.exe\n",
    "// %run ./epoll.exe\n",
    "\n",
    "#include <stdio.h>\n",
    "#include <stdlib.h>\n",
    "#include <unistd.h>\n",
    "#include <assert.h>\n",
    "#include <fcntl.h>\n",
    "#include <sys/resource.h>\n",
    "#include <sys/types.h>\n",
    "#include <sys/wait.h>\n",
    "#include <errno.h>\n",
    "#include <time.h>\n",
    "#include <sys/epoll.h>\n",
    "\n",
    "char* extract_t(char* s) { s[19] = '\\0'; return s + 10; }\n",
    "#define log_printf_impl(fmt, ...) { time_t t = time(0); dprintf(2, \"%s : \" fmt \"%s\", extract_t(ctime(&t)), __VA_ARGS__); }\n",
    "#define log_printf(...) log_printf_impl(__VA_ARGS__, \"\")\n",
    "\n",
    "#define conditional_handle_error(stmt, msg) \\\n",
    "    do { if (stmt) { perror(msg \" (\" #stmt \")\"); exit(EXIT_FAILURE); } } while (0)\n",
    "\n",
    "const int INPUTS_COUNT = 5;\n",
    "\n",
    "int main() {\n",
    "    pid_t pids[INPUTS_COUNT];\n",
    "    int input_fds[INPUTS_COUNT];\n",
    "    // create subprocesses that will write to pipes with delays\n",
    "    for (int i = 0; i < INPUTS_COUNT; ++i) {\n",
    "        int fds[2];\n",
    "        pipe(fds);\n",
    "        input_fds[i] = fds[0];\n",
    "        if ((pids[i] = fork()) == 0) {\n",
    "            sleep(i);\n",
    "            dprintf(fds[1], \"Hello from %d subprocess\\n\", i);\n",
    "            // try with EPOLL realisation\n",
    "            // sleep(10);\n",
    "            // dprintf(fds[1], \"Hello 2 from %d subprocess\\n\", i);\n",
    "            exit(0);\n",
    "        }\n",
    "        close(fds[1]);\n",
    "    }\n",
    "    \n",
    "    #ifdef TRIVIAL_REALISATION\n",
    "    log_printf(\"Trivial realisation start\\n\");\n",
    "    // lets consider worst order\n",
    "    for (int i = INPUTS_COUNT - 1; i >= 0; --i) {\n",
    "        char buf[100];\n",
    "        int read_bytes = 0;\n",
    "        while ((read_bytes = read(input_fds[i], buf, sizeof(buf))) > 0) {\n",
    "            buf[read_bytes] = '\\0';\n",
    "            log_printf(\"Read from %d subprocess: %s\", i, buf);\n",
    "        }\n",
    "        conditional_handle_error(read_bytes < 0, \"read error\");\n",
    "    }\n",
    "    #endif\n",
    "    #ifdef NONBLOCK_REALISATION\n",
    "    log_printf(\"Nonblock realisation start\\n\");\n",
    "    for (int i = 0; i < INPUTS_COUNT; ++i) {\n",
    "        fcntl(input_fds[i], F_SETFL, fcntl(input_fds[i], F_GETFL) | O_NONBLOCK);\n",
    "    }\n",
    "    bool all_closed = false;\n",
    "    while (!all_closed) {\n",
    "        all_closed = true;\n",
    "        for (int i = INPUTS_COUNT - 1; i >= 0; --i) {\n",
    "            if (input_fds[i] == -1) {\n",
    "                continue;\n",
    "            }\n",
    "            all_closed = false;\n",
    "            char buf[100];\n",
    "            int read_bytes = 0;\n",
    "            while ((read_bytes = read(input_fds[i], buf, sizeof(buf))) > 0) {\n",
    "                buf[read_bytes] = '\\0';\n",
    "                log_printf(\"Read from %d subprocess: %s\", i, buf);\n",
    "            }\n",
    "            if (read_bytes == 0) {\n",
    "                close(input_fds[i]);\n",
    "                input_fds[i] = -1;\n",
    "            } else {\n",
    "                conditional_handle_error(errno != EAGAIN, \"strange error\");\n",
    "            }\n",
    "        }\n",
    "    }\n",
    "    #endif\n",
    "    #ifdef EPOLL_REALISATION\n",
    "    log_printf(\"Epoll realisation start\\n\");\n",
    "    int epoll_fd = epoll_create1(0); // epoll_create has one legacy parameter, so I prefer to use newer function\n",
    "    for (int i = 0; i < INPUTS_COUNT; ++i) {\n",
    "        struct epoll_event event = {\n",
    "            .events = EPOLLIN | EPOLLERR | EPOLLHUP, \n",
    "            .data = {.u32 = i}\n",
    "        };\n",
    "        epoll_ctl(epoll_fd, EPOLL_CTL_ADD, input_fds[i], &event);\n",
    "    }\n",
    "    int not_closed = INPUTS_COUNT;\n",
    "    while (not_closed > 0) {\n",
    "        struct epoll_event event;\n",
    "        int epoll_ret = epoll_wait(epoll_fd, &event, 1, 1000);\n",
    "        if (epoll_ret <= 0) {\n",
    "            continue;\n",
    "        }\n",
    "        int i = event.data.u32;\n",
    "        \n",
    "        char buf[100];\n",
    "        int read_bytes = 0;\n",
    "        if ((read_bytes = read(input_fds[i], buf, sizeof(buf))) > 0) {\n",
    "            buf[read_bytes] = '\\0';\n",
    "            log_printf(\"Read from %d subprocess: %s\", i, buf);\n",
    "        } else if (read_bytes == 0) {\n",
    "            epoll_ctl(epoll_fd, EPOLL_CTL_DEL, input_fds[i], NULL);\n",
    "            close(input_fds[i]);\n",
    "            input_fds[i] = -1;\n",
    "            not_closed -= 1;\n",
    "        } else {\n",
    "            conditional_handle_error(1, \"strange error\");\n",
    "        }\n",
    "    }\n",
    "    close(epoll_fd);\n",
    "    #endif\n",
    "    #ifdef EPOLL_EDGE_TRIGGERED_REALISATION\n",
    "    log_printf(\"Epoll edge-triggered realisation start\\n\");\n",
    "    \n",
    "    sleep(1);\n",
    "    int epoll_fd = epoll_create1(0);\n",
    "    for (int i = 0; i < INPUTS_COUNT; ++i) {\n",
    "        fcntl(input_fds[i], F_SETFL, fcntl(input_fds[i], F_GETFL) | O_NONBLOCK);\n",
    "        // Обратите внимание на EPOLLET\n",
    "        struct epoll_event event = {\n",
    "            .events = EPOLLIN | EPOLLERR | EPOLLHUP | EPOLLET, \n",
    "            .data = {.u32 = i}\n",
    "        };\n",
    "        epoll_ctl(epoll_fd, EPOLL_CTL_ADD, input_fds[i], &event);\n",
    "    }\n",
    "    int not_closed = INPUTS_COUNT;\n",
    "    while (not_closed > 0) {\n",
    "        // У меня тут возник вопрос: а получим ли мы уведомления о файловых дескрипторах, \n",
    "        // из которых на момент EPOLL_CTL_ADD УЖЕ есть что читать?\n",
    "        // Не нашел в документации, но многочисленные примеры говорят, что можно считать, что получим.\n",
    "        struct epoll_event event;\n",
    "        int epoll_ret = epoll_wait(epoll_fd, &event, 1, 1000);\n",
    "        if (epoll_ret <= 0) {\n",
    "            continue;\n",
    "        }\n",
    "        int i = event.data.u32;\n",
    "    \n",
    "        char buf[100];\n",
    "        int read_bytes = 0;\n",
    "        while ((read_bytes = read(input_fds[i], buf, sizeof(buf))) > 0) {\n",
    "            buf[read_bytes] = '\\0';\n",
    "            log_printf(\"Read from %d subprocess: %s\", i, buf);\n",
    "        } \n",
    "        if (read_bytes == 0) {\n",
    "            epoll_ctl(epoll_fd, EPOLL_CTL_DEL, input_fds[i], NULL);\n",
    "            close(input_fds[i]);\n",
    "            input_fds[i] = -1;\n",
    "            not_closed -= 1;\n",
    "        } else {\n",
    "            conditional_handle_error(errno != EAGAIN, \"strange error\");\n",
    "        }\n",
    "    }\n",
    "    close(epoll_fd);\n",
    "    #endif\n",
    "    #ifdef SELECT_REALISATION\n",
    "    log_printf(\"Select realisation start\\n\");\n",
    "\n",
    "    struct timeval tv = {.tv_sec = 1, .tv_usec = 0};\n",
    "    int not_closed = INPUTS_COUNT;\n",
    "    while (not_closed > 0) {\n",
    "        int ndfs = 0;\n",
    "        fd_set rfds;\n",
    "        FD_ZERO(&rfds);\n",
    "        for (int i = 0; i < INPUTS_COUNT; ++i) {\n",
    "            if (input_fds[i] != -1) {\n",
    "                FD_SET(input_fds[i], &rfds);\n",
    "                ndfs = (input_fds[i] < ndfs) ? ndfs : input_fds[i] + 1;\n",
    "            }\n",
    "        }\n",
    "        int select_ret = select(ndfs, &rfds, NULL, NULL, &tv);\n",
    "        conditional_handle_error(select_ret == -1, \"select error\");\n",
    "        if (select_ret > 0) {\n",
    "            for (int i = 0; i < INPUTS_COUNT; ++i) {\n",
    "                if (input_fds[i] != -1 && FD_ISSET(input_fds[i], &rfds)) {\n",
    "                    char buf[100];\n",
    "                    int read_bytes = 0;\n",
    "                    if ((read_bytes = read(input_fds[i], buf, sizeof(buf))) > 0) {\n",
    "                        buf[read_bytes] = '\\0';\n",
    "                        log_printf(\"Read from %d subprocess: %s\", i, buf);\n",
    "                    } else if (read_bytes == 0) {\n",
    "                        close(input_fds[i]);\n",
    "                        input_fds[i] = -1;\n",
    "                        not_closed -= 1;\n",
    "                    } else {\n",
    "                        conditional_handle_error(1, \"strange error\");\n",
    "                    }\n",
    "                }\n",
    "            }\n",
    "        }\n",
    "    }\n",
    "    #endif\n",
    "    \n",
    "    int status;\n",
    "    for (int i = 0; i < INPUTS_COUNT; ++i) {\n",
    "        assert(waitpid(pids[i], &status, 0) != -1);\n",
    "    }\n",
    "    return 0;\n",
    "}"
   ]
  },
  {
   "cell_type": "code",
   "execution_count": null,
   "metadata": {},
   "outputs": [],
   "source": []
  },
  {
   "cell_type": "markdown",
   "metadata": {},
   "source": [
    "# <a name=\"select_fail\"></a> Select fail\n",
    "\n",
    "Как-то в монорепозитории Яндекса обновили openssl..."
   ]
  },
  {
   "cell_type": "code",
   "execution_count": 129,
   "metadata": {},
   "outputs": [
    {
     "data": {
      "text/markdown": [
       "Run: `gcc select_fail.cpp -o select_fail.exe`"
      ],
      "text/plain": [
       "<IPython.core.display.Markdown object>"
      ]
     },
     "metadata": {},
     "output_type": "display_data"
    },
    {
     "data": {
      "text/markdown": [
       "Run: `ulimit -n 1200 && ./select_fail.exe`"
      ],
      "text/plain": [
       "<IPython.core.display.Markdown object>"
      ]
     },
     "metadata": {},
     "output_type": "display_data"
    },
    {
     "name": "stdout",
     "output_type": "stream",
     "text": [
      " 12:00:54 : Select start input_fd=1013\r\n",
      " 12:00:54 : Secret is abcdefghijklmnop\r\n",
      "select error (select_ret == -1): Success\r\n"
     ]
    },
    {
     "data": {
      "text/markdown": [
       "Run: `gcc -DBIG_FD select_fail.cpp -o select_fail.exe`"
      ],
      "text/plain": [
       "<IPython.core.display.Markdown object>"
      ]
     },
     "metadata": {},
     "output_type": "display_data"
    },
    {
     "data": {
      "text/markdown": [
       "Run: `ulimit -n 1200 && ./select_fail.exe`"
      ],
      "text/plain": [
       "<IPython.core.display.Markdown object>"
      ]
     },
     "metadata": {},
     "output_type": "display_data"
    },
    {
     "name": "stdout",
     "output_type": "stream",
     "text": [
      " 12:00:55 : Select start input_fd=1033\r\n",
      " 12:00:55 : Secret is abcdefghijklmnop\r\n",
      "select error (select_ret == -1): Success\r\n"
     ]
    }
   ],
   "source": [
    "%%cpp select_fail.cpp\n",
    "%run gcc select_fail.cpp -o select_fail.exe\n",
    "%run ulimit -n 1200 && ./select_fail.exe\n",
    "%run gcc -DBIG_FD select_fail.cpp -o select_fail.exe\n",
    "%run ulimit -n 1200 && ./select_fail.exe\n",
    "\n",
    "#include <stdio.h>\n",
    "#include <stdlib.h>\n",
    "#include <unistd.h>\n",
    "#include <assert.h>\n",
    "#include <fcntl.h>\n",
    "#include <sys/resource.h>\n",
    "#include <sys/types.h>\n",
    "#include <sys/wait.h>\n",
    "#include <errno.h>\n",
    "#include <time.h>\n",
    "#include <sys/epoll.h>\n",
    "#include <string.h>\n",
    "\n",
    "char* extract_t(char* s) { s[19] = '\\0'; return s + 10; }\n",
    "#define log_printf_impl(fmt, ...) { time_t t = time(0); dprintf(2, \"%s : \" fmt \"%s\", extract_t(ctime(&t)), __VA_ARGS__); }\n",
    "#define log_printf(...) log_printf_impl(__VA_ARGS__, \"\")\n",
    "\n",
    "#define conditional_handle_error(stmt, msg) \\\n",
    "    do { if (stmt) { perror(msg \" (\" #stmt \")\"); exit(EXIT_FAILURE); } } while (0)\n",
    "\n",
    "#ifdef BIG_FD\n",
    "const int EXTRA_FD_COUNT = 1030;\n",
    "#else\n",
    "const int EXTRA_FD_COUNT = 1010;\n",
    "#endif\n",
    "\n",
    "int main() {\n",
    "    pid_t child_pid;\n",
    "    int input_fd;\n",
    "   \n",
    "    {\n",
    "        int fds[2];\n",
    "        pipe(fds);\n",
    "        input_fd = fds[0];\n",
    "        if ((child_pid = fork()) == 0) {\n",
    "            sleep(1);\n",
    "            dprintf(fds[1], \"Hello from exactly one subprocess\\n\");\n",
    "            exit(0);\n",
    "        }\n",
    "        assert(child_pid > 0);\n",
    "        close(fds[1]);\n",
    "    }\n",
    "    \n",
    "    for (int i = 0; i < EXTRA_FD_COUNT; ++i) {\n",
    "        input_fd = dup(input_fd); // yes, we don't bother closing file descriptors in this example\n",
    "    }\n",
    "    \n",
    "    log_printf(\"Select start input_fd=%d\\n\", input_fd);\n",
    "    \n",
    "    struct timeval tv = {.tv_sec = 10, .tv_usec = 0};\n",
    "    while (input_fd != -1) {\n",
    "        fd_set rfds;\n",
    "        FD_ZERO(&rfds);\n",
    "        FD_SET(input_fd, &rfds);\n",
    "        char secret[] = \"abcdefghijklmnop\";\n",
    "        int select_ret = select(input_fd + 1, &rfds, NULL, NULL, &tv);\n",
    "        log_printf(\"Secret is %s\\n\", secret);\n",
    "        if (strcmp(secret, \"abcdefghijklmnop\") != 0) {\n",
    "            log_printf(\"Hey! select is broken!\\n\");\n",
    "        }\n",
    "        conditional_handle_error(select_ret == -1, \"select error\");\n",
    "        if (select_ret > 0) {\n",
    "            assert(FD_ISSET(input_fd, &rfds));\n",
    "            \n",
    "            char buf[100];\n",
    "            int read_bytes = 0;\n",
    "            if ((read_bytes = read(input_fd, buf, sizeof(buf) - 1)) > 0) {\n",
    "                buf[read_bytes] = '\\0';\n",
    "                log_printf(\"Read from child subprocess: %s\", buf);\n",
    "            } else if (read_bytes == 0) {\n",
    "                input_fd = -1;\n",
    "            } else {\n",
    "                conditional_handle_error(errno != EAGAIN, \"strange error\");\n",
    "            }\n",
    "        }\n",
    "    }\n",
    "    \n",
    "    int status;    \n",
    "    assert(waitpid(child_pid, &status, 0) != -1);\n",
    "    return 0;\n",
    "}"
   ]
  },
  {
   "cell_type": "code",
   "execution_count": 23,
   "metadata": {},
   "outputs": [
    {
     "name": "stdout",
     "output_type": "stream",
     "text": [
      "1024\r\n"
     ]
    }
   ],
   "source": []
  },
  {
   "cell_type": "markdown",
   "metadata": {},
   "source": [
    "# <a name=\"aio\"></a> Linux AIO\n",
    "\n",
    "Медленными бывают так же диски. И у них есть особенность: они не завершаются с ошибкой EAGAIN если нет данных. А просто долго висят в операциях read, write.\n",
    "\n",
    "Как жить? Можно делать несколько операций одновременно. И чтобы не плодить потоки (блочить каждый поток на записи/чтении) можно юзать Linux AIO\n",
    "\n",
    "Предустановка\n",
    "\n",
    "```bash\n",
    "sudo apt-get install libaio1\n",
    "sudo apt-get install libaio-dev\n",
    "```\n",
    "\n",
    "Статейки\n",
    "\n",
    "https://github.com/littledan/linux-aio\n",
    "\n",
    "https://oxnz.github.io/2016/10/13/linux-aio/#install"
   ]
  },
  {
   "cell_type": "code",
   "execution_count": 115,
   "metadata": {
    "scrolled": true
   },
   "outputs": [
    {
     "data": {
      "text/markdown": [
       "Run: `gcc aio.cpp -o aio.exe -laio # обратите внимание`"
      ],
      "text/plain": [
       "<IPython.core.display.Markdown object>"
      ]
     },
     "metadata": {},
     "output_type": "display_data"
    },
    {
     "data": {
      "text/markdown": [
       "Run: `./aio.exe`"
      ],
      "text/plain": [
       "<IPython.core.display.Markdown object>"
      ]
     },
     "metadata": {},
     "output_type": "display_data"
    },
    {
     "name": "stdout",
     "output_type": "stream",
     "text": [
      " 11:12:02 : open file './output_0.txt' fd 3\r\n",
      " 11:12:02 : open file './output_1.txt' fd 4\r\n",
      " 11:12:03 : 0 written ok\r\n",
      " 11:12:03 : 1 written ok\r\n"
     ]
    },
    {
     "data": {
      "text/markdown": [
       "Run: `cat ./output_0.txt`"
      ],
      "text/plain": [
       "<IPython.core.display.Markdown object>"
      ]
     },
     "metadata": {},
     "output_type": "display_data"
    },
    {
     "name": "stdout",
     "output_type": "stream",
     "text": [
      "hello to file 0\r\n"
     ]
    },
    {
     "data": {
      "text/markdown": [
       "Run: `cat ./output_1.txt`"
      ],
      "text/plain": [
       "<IPython.core.display.Markdown object>"
      ]
     },
     "metadata": {},
     "output_type": "display_data"
    },
    {
     "name": "stdout",
     "output_type": "stream",
     "text": [
      "hello to file 1\r\n"
     ]
    }
   ],
   "source": [
    "%%cpp aio.cpp\n",
    "%run gcc aio.cpp -o aio.exe -laio # обратите внимание\n",
    "%run ./aio.exe\n",
    "%run cat ./output_0.txt\n",
    "%run cat ./output_1.txt\n",
    "\n",
    "#include <stdio.h>\n",
    "#include <stdlib.h>\n",
    "#include <unistd.h>\n",
    "#include <assert.h>\n",
    "#include <fcntl.h>\n",
    "#include <sys/resource.h>\n",
    "#include <sys/types.h>\n",
    "#include <sys/wait.h>\n",
    "#include <errno.h>\n",
    "#include <time.h>\n",
    "#include <sys/epoll.h>\n",
    "#include <string.h>\n",
    "#include <libaio.h>  // подключаем\n",
    "#include <err.h>\n",
    "\n",
    "char* extract_t(char* s) { s[19] = '\\0'; return s + 10; }\n",
    "#define log_printf_impl(fmt, ...) { time_t t = time(0); dprintf(2, \"%s : \" fmt \"%s\", extract_t(ctime(&t)), __VA_ARGS__); }\n",
    "#define log_printf(...) log_printf_impl(__VA_ARGS__, \"\")\n",
    "\n",
    "#define conditional_handle_error(stmt, msg) \\\n",
    "    do { if (stmt) { perror(msg \" (\" #stmt \")\"); exit(EXIT_FAILURE); } } while (0)\n",
    "\n",
    "const int N_FILES = 2;\n",
    "\n",
    "int main() {\n",
    "    io_context_t ctx = {0};\n",
    "    int io_setup_ret = io_setup(N_FILES + 10, &ctx);\n",
    "    errno = -io_setup_ret;\n",
    "    conditional_handle_error(io_setup_ret < 0, \"Can't io_setup\");\n",
    "        \n",
    "    struct iocb iocb[N_FILES];\n",
    "    struct iocb * iocbs[N_FILES];\n",
    "    char msgs[N_FILES][100];\n",
    "    int fds[N_FILES];\n",
    "    for (int i = 0; i < N_FILES; ++i) {\n",
    "        sprintf(msgs[i], \"hello to file %d\\n\", i);\n",
    "        char file[100];\n",
    "        sprintf(file, \"./output_%d.txt\", i);\n",
    "        fds[i] = open(file, O_WRONLY | O_CREAT);\n",
    "        log_printf(\"open file '%s' fd %d\\n\", file, fds[i]);\n",
    "        conditional_handle_error(fds[i] < 0, \"Can't open\");\n",
    "        io_prep_pwrite(&iocb[i], fds[i], (void*)msgs[i], strlen(msgs[i]), 0);\n",
    "        iocb[i].data = (char*)0 + i;\n",
    "        \n",
    "        iocbs[i] = &iocb[i];\n",
    "    }\n",
    "\n",
    "    int io_submit_ret = io_submit(ctx, N_FILES, iocbs);\n",
    "    if (io_submit_ret != N_FILES) {\n",
    "        errno = -io_submit_ret;\n",
    "        log_printf(\"Error: %s\\n\", strerror(-io_submit_ret));\n",
    "        warn(\"io_submit\");\n",
    "        io_destroy(ctx);\n",
    "    }\n",
    "\n",
    "    int in_fly_writings = N_FILES;\n",
    "    while (in_fly_writings > 0) {\n",
    "        struct io_event event;\n",
    "        struct timespec timeout = {.tv_sec = 0, .tv_nsec = 500000000};\n",
    "        if (io_getevents(ctx, 0, 1, &event, &timeout) == 1) {\n",
    "            conditional_handle_error(event.res < 0, \"Can't do operation\");\n",
    "            int i = (char*)event.data - (char*)0;\n",
    "            log_printf(\"%d written ok\\n\", i);\n",
    "            close(fds[i]);\n",
    "            --in_fly_writings;\n",
    "            continue;\n",
    "        }\n",
    "        log_printf(\"not done yet\\n\");\n",
    "    }\n",
    "    io_destroy(ctx);\n",
    "\n",
    "    return 0;\n",
    "}"
   ]
  },
  {
   "cell_type": "code",
   "execution_count": null,
   "metadata": {},
   "outputs": [],
   "source": []
  },
  {
   "cell_type": "markdown",
   "metadata": {},
   "source": [
    "# <a name=\"hw\"></a> Комментарии к ДЗ\n",
    "\n",
    "* d"
   ]
  },
  {
   "cell_type": "code",
   "execution_count": null,
   "metadata": {},
   "outputs": [],
   "source": []
  },
  {
   "cell_type": "code",
   "execution_count": null,
   "metadata": {},
   "outputs": [],
   "source": []
  },
  {
   "cell_type": "code",
   "execution_count": null,
   "metadata": {},
   "outputs": [],
   "source": []
  },
  {
   "cell_type": "code",
   "execution_count": null,
   "metadata": {},
   "outputs": [],
   "source": []
  }
 ],
 "metadata": {
  "kernelspec": {
   "display_name": "Python 3",
   "language": "python",
   "name": "python3"
  },
  "language_info": {
   "codemirror_mode": {
    "name": "ipython",
    "version": 3
   },
   "file_extension": ".py",
   "mimetype": "text/x-python",
   "name": "python",
   "nbconvert_exporter": "python",
   "pygments_lexer": "ipython3",
   "version": "3.5.2"
  }
 },
 "nbformat": 4,
 "nbformat_minor": 2
}
